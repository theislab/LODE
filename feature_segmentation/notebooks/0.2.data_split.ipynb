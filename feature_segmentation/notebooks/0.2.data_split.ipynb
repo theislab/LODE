{
 "cells": [
  {
   "cell_type": "markdown",
   "metadata": {},
   "source": [
    "# Creating a train, validation and test split with even distribution of scans with features of interesting\n",
    "\n",
    "### Split split focuses on the following features\n",
    "\n",
    "- 4: sub retinal fluid\n",
    "- 5: sub retainal hyper reflective material\n",
    "- 7: fibrovascular PED\n",
    "- 8: drusen\n",
    "- 9: poster hyloid membrane detachment\n",
    "- 10: choroid\n",
    "- 13: fibrosis"
   ]
  },
  {
   "cell_type": "code",
   "execution_count": 9,
   "metadata": {},
   "outputs": [],
   "source": [
    "import os\n",
    "import numpy as np\n",
    "import pandas as pd\n",
    "import sklearn\n",
    "import cv2\n",
    "from tqdm import tqdm\n",
    "\n",
    "FEATURES_OI = [4, 5, 7, 8, 9, 10, 13]\n",
    "\n",
    "WORK_SPACE = \"/home/olle/PycharmProjects/LODE/workspace\"\n",
    "LBL_PATH = \"feature_segmentation/segmentation/data/train_data/hq_examples/masks\"\n",
    "\n",
    "MASK_DIR = os.path.join(WORK_SPACE, LBL_PATH)"
   ]
  },
  {
   "cell_type": "markdown",
   "metadata": {},
   "source": [
    "#### load all labels"
   ]
  },
  {
   "cell_type": "code",
   "execution_count": 10,
   "metadata": {},
   "outputs": [],
   "source": [
    "label_names = os.listdir(MASK_DIR)\n",
    "\n",
    "labels = {}\n",
    "for label_name in label_names:\n",
    "    label_path = os.path.join(MASK_DIR, label_name)\n",
    "    label = cv2.imread(label_path)\n",
    "    labels[label_name] = label"
   ]
  },
  {
   "cell_type": "markdown",
   "metadata": {},
   "source": [
    "#### create dict with record feature distribution"
   ]
  },
  {
   "cell_type": "code",
   "execution_count": 22,
   "metadata": {},
   "outputs": [
    {
     "name": "stderr",
     "output_type": "stream",
     "text": [
      "100%|██████████| 525/525 [00:00<00:00, 8258.18it/s]\n",
      "100%|██████████| 525/525 [00:00<00:00, 10323.53it/s]\n",
      "100%|██████████| 525/525 [00:00<00:00, 10834.85it/s]\n",
      "  0%|          | 0/525 [00:00<?, ?it/s]"
     ]
    },
    {
     "name": "stdout",
     "output_type": "stream",
     "text": [
      "Loogging feature:  4\n",
      "Loogging feature:  5\n",
      "Loogging feature:  7\n",
      "Loogging feature:  8\n"
     ]
    },
    {
     "name": "stderr",
     "output_type": "stream",
     "text": [
      "100%|██████████| 525/525 [00:00<00:00, 10156.40it/s]\n",
      "100%|██████████| 525/525 [00:00<00:00, 10042.37it/s]\n",
      "100%|██████████| 525/525 [00:00<00:00, 10474.29it/s]\n",
      "100%|██████████| 525/525 [00:00<00:00, 10586.48it/s]"
     ]
    },
    {
     "name": "stdout",
     "output_type": "stream",
     "text": [
      "Loogging feature:  9\n",
      "Loogging feature:  10\n",
      "Loogging feature:  13\n"
     ]
    },
    {
     "name": "stderr",
     "output_type": "stream",
     "text": [
      "\n"
     ]
    }
   ],
   "source": [
    "feature_record_dist = {4: [], 5: [], 7: [], 8: [], 9: [], 10: [], 13: []}\n",
    "for feature in FEATURES_OI:\n",
    "    print(\"Loogging feature: \", feature)\n",
    "    for label_name in tqdm(labels.keys()):\n",
    "        if feature in labels[label_name]:\n",
    "            feature_record_dist[feature].append(label_name)"
   ]
  },
  {
   "cell_type": "code",
   "execution_count": 27,
   "metadata": {},
   "outputs": [
    {
     "name": "stdout",
     "output_type": "stream",
     "text": [
      "Number of samples in feature 4 is 98\n",
      "Number of samples in feature 5 is 60\n",
      "Number of samples in feature 7 is 176\n",
      "Number of samples in feature 8 is 114\n",
      "Number of samples in feature 9 is 126\n",
      "Number of samples in feature 10 is 356\n",
      "Number of samples in feature 13 is 80\n"
     ]
    }
   ],
   "source": [
    "for feature in FEATURES_OI:\n",
    "    print(f\"Number of samples in feature {feature} is {len(feature_record_dist[feature])}\")"
   ]
  },
  {
   "cell_type": "code",
   "execution_count": 62,
   "metadata": {},
   "outputs": [],
   "source": [
    "test_records = []\n",
    "validation_records = []\n",
    "record_names = list(labels.keys())"
   ]
  },
  {
   "cell_type": "code",
   "execution_count": 63,
   "metadata": {},
   "outputs": [
    {
     "name": "stdout",
     "output_type": "stream",
     "text": [
      "Number of available records before test data: 525\n",
      "13\n",
      "7\n",
      "8\n",
      "1\n",
      "1\n",
      "8\n",
      "7\n",
      "7\n",
      "1\n",
      "1\n",
      "1\n",
      "9\n",
      "7\n",
      "7\n",
      "8\n",
      "not 10\n",
      "4\n",
      "8\n",
      "4\n",
      "8\n",
      "9\n",
      "9\n",
      "9\n",
      "3\n",
      "13\n",
      "9\n",
      "4\n",
      "not 10\n",
      "3\n",
      "5\n",
      "not 10\n",
      "3\n",
      "not 10\n",
      "4\n",
      "4\n",
      "not 10\n",
      "13\n",
      "13\n",
      "3\n",
      "5\n",
      "3\n",
      "13\n",
      "5\n",
      "5\n",
      "5\n",
      "Number of available records after test data: 480\n"
     ]
    }
   ],
   "source": [
    "n_srf_test = 0\n",
    "n_srhm_test = 0\n",
    "n_drusen_test = 0\n",
    "n_fibrosis_test = 0\n",
    "n_phmd_test = 0 \n",
    "n_not_choroid_test = 0\n",
    "n_irf_test = 0\n",
    "n_em_test = 0 \n",
    "n_fvped_test = 0\n",
    "\n",
    "test_records = []\n",
    "print(\"Number of available records before test data:\", len(record_names))\n",
    "for label_name in record_names:\n",
    "    lbl = labels[label_name]\n",
    "    \n",
    "    if n_fvped_test < 5:\n",
    "        if 7 in lbl:\n",
    "            print(7)\n",
    "            n_fvped_test += 1\n",
    "            test_records.append(label_name)\n",
    "            record_names.remove(label_name)\n",
    "            continue\n",
    "    \n",
    "    if n_em_test < 5:\n",
    "        if 1 in lbl:\n",
    "            print(1)\n",
    "            n_em_test += 1\n",
    "            test_records.append(label_name)\n",
    "            record_names.remove(label_name)\n",
    "            continue\n",
    "    \n",
    "    if n_srf_test < 5:\n",
    "        if 4 in lbl:\n",
    "            print(4)\n",
    "            n_srf_test += 1\n",
    "            test_records.append(label_name)\n",
    "            record_names.remove(label_name)\n",
    "            continue\n",
    "    \n",
    "    if n_srhm_test < 5:\n",
    "        if 5 in lbl:\n",
    "            print(5)\n",
    "            n_srhm_test += 1\n",
    "            test_records.append(label_name)\n",
    "            record_names.remove(label_name)\n",
    "            continue\n",
    "    \n",
    "    if n_drusen_test < 5:\n",
    "        if 8 in lbl:\n",
    "            print(8)\n",
    "            n_drusen_test += 1\n",
    "            test_records.append(label_name)\n",
    "            record_names.remove(label_name)\n",
    "            continue\n",
    "\n",
    "    if n_fibrosis_test < 5:\n",
    "        if 13 in lbl:\n",
    "            print(13)\n",
    "            n_fibrosis_test += 1\n",
    "            test_records.append(label_name)\n",
    "            record_names.remove(label_name)\n",
    "            continue\n",
    "            \n",
    "    if n_phmd_test < 5:\n",
    "        if 9 in lbl:\n",
    "            print(9)\n",
    "            n_phmd_test += 1\n",
    "            test_records.append(label_name)\n",
    "            record_names.remove(label_name)\n",
    "            continue\n",
    "    \n",
    "    if n_not_choroid_test < 5:\n",
    "        if 10 not in lbl:\n",
    "            print(\"not\", 10)\n",
    "            n_not_choroid_test += 1\n",
    "            test_records.append(label_name)\n",
    "            record_names.remove(label_name)\n",
    "            continue\n",
    "    \n",
    "    if n_irf_test < 5:\n",
    "        if 3 in lbl:\n",
    "            print(3)\n",
    "            n_irf_test += 1\n",
    "            test_records.append(label_name)\n",
    "            record_names.remove(label_name)\n",
    "            continue\n",
    "            \n",
    "print(\"Number of available records after test data:\", len(record_names))"
   ]
  },
  {
   "cell_type": "code",
   "execution_count": 64,
   "metadata": {},
   "outputs": [
    {
     "name": "stdout",
     "output_type": "stream",
     "text": [
      "Number of available records before test data: 480\n",
      "7\n",
      "13\n",
      "not 10\n",
      "7\n",
      "not 10\n",
      "9\n",
      "13\n",
      "8\n",
      "7\n",
      "8\n",
      "13\n",
      "13\n",
      "7\n",
      "7\n",
      "8\n",
      "not 10\n",
      "1\n",
      "8\n",
      "1\n",
      "not 10\n",
      "8\n",
      "not 10\n",
      "1\n",
      "3\n",
      "1\n",
      "4\n",
      "9\n",
      "3\n",
      "13\n",
      "4\n",
      "1\n",
      "4\n",
      "9\n",
      "3\n",
      "4\n",
      "4\n",
      "3\n",
      "5\n",
      "3\n",
      "9\n",
      "9\n",
      "5\n",
      "5\n",
      "5\n",
      "5\n",
      "Number of available records after test data: 435\n"
     ]
    }
   ],
   "source": [
    "n_srf_validation = 0\n",
    "n_srhm_validation = 0\n",
    "n_drusen_validation = 0\n",
    "n_fibrosis_validation = 0\n",
    "n_phmd_validation = 0 \n",
    "n_not_choroid_validation = 0\n",
    "n_irf_validation = 0 \n",
    "n_em_validation = 0\n",
    "n_fvped_validation = 0 \n",
    "\n",
    "validation_records = []\n",
    "print(\"Number of available records before test data:\", len(record_names))\n",
    "for label_name in record_names:\n",
    "    lbl = labels[label_name]\n",
    "    \n",
    "    if n_fvped_validation < 5:\n",
    "        if 7 in lbl:\n",
    "            print(7)\n",
    "            n_fvped_validation += 1\n",
    "            validation_records.append(label_name)\n",
    "            record_names.remove(label_name)\n",
    "            continue\n",
    "    \n",
    "    if n_srf_validation < 5:\n",
    "        if 4 in lbl:\n",
    "            print(4)\n",
    "            n_srf_validation += 1\n",
    "            validation_records.append(label_name)\n",
    "            record_names.remove(label_name)\n",
    "            continue\n",
    "    \n",
    "    if n_srhm_validation < 5:\n",
    "        if 5 in lbl:\n",
    "            print(5)\n",
    "            n_srhm_validation += 1\n",
    "            validation_records.append(label_name)\n",
    "            record_names.remove(label_name)\n",
    "            continue\n",
    "    \n",
    "    if n_drusen_validation < 5:\n",
    "        if 8 in lbl:\n",
    "            print(8)\n",
    "            n_drusen_validation += 1\n",
    "            validation_records.append(label_name)\n",
    "            record_names.remove(label_name)\n",
    "            continue\n",
    "\n",
    "    if n_fibrosis_validation < 5:\n",
    "        if 13 in lbl:\n",
    "            print(13)\n",
    "            n_fibrosis_validation += 1\n",
    "            validation_records.append(label_name)\n",
    "            record_names.remove(label_name)\n",
    "            continue\n",
    "                \n",
    "    if n_phmd_validation < 5:\n",
    "        if 9 in lbl:\n",
    "            print(9)\n",
    "            n_phmd_validation += 1\n",
    "            validation_records.append(label_name)\n",
    "            record_names.remove(label_name)\n",
    "            continue\n",
    "    \n",
    "    if n_not_choroid_validation < 5:\n",
    "        if 10 not in lbl:\n",
    "            print(\"not\", 10)\n",
    "            n_not_choroid_validation += 1\n",
    "            validation_records.append(label_name)\n",
    "            record_names.remove(label_name)\n",
    "            continue\n",
    "            \n",
    "    if n_irf_validation < 5:\n",
    "        if 3 in lbl:\n",
    "            print(3)\n",
    "            n_irf_validation += 1\n",
    "            validation_records.append(label_name)\n",
    "            record_names.remove(label_name)\n",
    "            continue\n",
    "    \n",
    "    if n_em_validation < 5:\n",
    "        if 1 in lbl:\n",
    "            print(1)\n",
    "            n_em_validation += 1\n",
    "            validation_records.append(label_name)\n",
    "            record_names.remove(label_name)\n",
    "            continue\n",
    "            \n",
    "            \n",
    "print(\"Number of available records after test data:\", len(record_names))"
   ]
  },
  {
   "cell_type": "markdown",
   "metadata": {},
   "source": [
    "## verify data split distribution"
   ]
  },
  {
   "cell_type": "code",
   "execution_count": 65,
   "metadata": {},
   "outputs": [
    {
     "name": "stdout",
     "output_type": "stream",
     "text": [
      "number of train records: 435,       number validation records: 45,       number of test records: 45\n"
     ]
    }
   ],
   "source": [
    "print(f\"number of train records: {len(record_names)}, \\\n",
    "      number validation records: {len(validation_records)}, \\\n",
    "      number of test records: {len(validation_records)}\")"
   ]
  },
  {
   "cell_type": "code",
   "execution_count": 69,
   "metadata": {},
   "outputs": [
    {
     "name": "stdout",
     "output_type": "stream",
     "text": [
      "[]\n",
      "[]\n",
      "[]\n"
     ]
    }
   ],
   "source": [
    "# test so no records overlap\n",
    "print([record for record in record_names if record in validation_records])\n",
    "print([record for record in record_names if record in test_records])\n",
    "print([record for record in validation_records if record in test_records])"
   ]
  },
  {
   "cell_type": "code",
   "execution_count": 72,
   "metadata": {},
   "outputs": [],
   "source": [
    "save_dir = \"feature_segmentation/segmentation/data/train_data/data_split\"\n",
    "\n",
    "test_save_path = os.path.join(WORK_SPACE, save_dir, \"test_ids.csv\")\n",
    "train_save_path = os.path.join(WORK_SPACE, save_dir, \"train_ids.csv\")\n",
    "validation_save_path = os.path.join(WORK_SPACE, save_dir, \"validation_ids.csv\")\n",
    "\n",
    "pd.DataFrame(test_records).to_csv(test_save_path)\n",
    "pd.DataFrame(validation_records).to_csv(validation_save_path)\n",
    "pd.DataFrame(record_names).to_csv(train_save_path)"
   ]
  },
  {
   "cell_type": "code",
   "execution_count": 75,
   "metadata": {},
   "outputs": [],
   "source": [
    "#### visualize data split\n",
    "\n",
    "import shutil\n",
    "\n",
    "overview_path = \"feature_segmentation/segmentation/data/train_data/hq_examples/overview\"\n",
    "\n",
    "os.makedirs(os.path.join(WORK_SPACE, save_dir, \"train_overview\"), exist_ok=True)\n",
    "os.makedirs(os.path.join(WORK_SPACE, save_dir, \"test_overview\"), exist_ok=True)\n",
    "os.makedirs(os.path.join(WORK_SPACE, save_dir, \"validation_overview\"), exist_ok=True)\n",
    "\n",
    "for record in record_names:\n",
    "    shutil.copy(os.path.join(WORK_SPACE, overview_path, record), \n",
    "               os.path.join(WORK_SPACE, save_dir, \"train_overview\"))\n",
    "    \n",
    "\n",
    "for record in test_records:\n",
    "    shutil.copy(os.path.join(WORK_SPACE, overview_path, record), \n",
    "               os.path.join(WORK_SPACE, save_dir, \"test_overview\"))\n",
    "    \n",
    "\n",
    "for record in validation_records:\n",
    "    shutil.copy(os.path.join(WORK_SPACE, overview_path, record), \n",
    "               os.path.join(WORK_SPACE, save_dir, \"validation_overview\"))\n",
    "    "
   ]
  }
 ],
 "metadata": {
  "kernelspec": {
   "display_name": "Python [conda env:DeepRT] *",
   "language": "python",
   "name": "conda-env-DeepRT-py"
  },
  "language_info": {
   "codemirror_mode": {
    "name": "ipython",
    "version": 3
   },
   "file_extension": ".py",
   "mimetype": "text/x-python",
   "name": "python",
   "nbconvert_exporter": "python",
   "pygments_lexer": "ipython3",
   "version": "3.7.6"
  }
 },
 "nbformat": 4,
 "nbformat_minor": 2
}
