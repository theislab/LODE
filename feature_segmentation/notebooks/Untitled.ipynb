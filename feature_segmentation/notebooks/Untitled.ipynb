{
 "cells": [
  {
   "cell_type": "code",
   "execution_count": 11,
   "metadata": {},
   "outputs": [
    {
     "name": "stdout",
     "output_type": "stream",
     "text": [
      "I am 0\n",
      "I am 1\n",
      "I amI am  23\n",
      "\n",
      "0\n",
      "1\n",
      "2\n",
      "3\n",
      "I amI amI amI am    2\n",
      "13\n",
      "0\n",
      "\n",
      "0\n",
      "1\n",
      "2\n",
      "3\n"
     ]
    },
    {
     "data": {
      "image/png": "[encoded data removed]",
      "text/plain": [
       "<Figure size 432x288 with 2 Axes>"
      ]
     },
     "metadata": {
      "needs_background": "light"
     },
     "output_type": "display_data"
    }
   ],
   "source": [
    "import time\n",
    "from concurrent.futures import ProcessPoolExecutor, ThreadPoolExecutor\n",
    "\n",
    "import matplotlib.pyplot as plt\n",
    "import numpy as np\n",
    "\n",
    "\n",
    "def multithreading(func, args, workers):\n",
    "    with ThreadPoolExecutor(workers) as ex:\n",
    "        res = ex.map(func, args)\n",
    "    return list(res)\n",
    "\n",
    "\n",
    "def multiprocessing(func, args, workers):\n",
    "    with ProcessPoolExecutor(workers) as ex:\n",
    "        res = ex.map(func, args)\n",
    "    return list(res)\n",
    "\n",
    "\n",
    "def live_tracker(x):\n",
    "    print('I am', x)\n",
    "    reference = time.time()\n",
    "    l = []\n",
    "    for i in range(10**6):\n",
    "        l.append(time.time() - reference)\n",
    "    return l\n",
    "\n",
    "\n",
    "def visualize_live_runtimes(results, title):\n",
    "    for i, exp in enumerate(results):\n",
    "        print(i)\n",
    "        plt.scatter(exp, np.ones(len(exp)) * i, alpha=0.8, c='red', edgecolors='none', s=1)\n",
    "\n",
    "    plt.grid(axis='x')\n",
    "    plt.ylabel(\"Tasks\")\n",
    "    ytks = range(len(results))\n",
    "    plt.yticks(ytks, ['job {}'.format(exp) for exp in ytks])\n",
    "    plt.xlabel(\"Seconds\")\n",
    "    plt.title(title)\n",
    "\n",
    "\n",
    "plt.subplot(1, 2, 1)\n",
    "visualize_live_runtimes(multithreading(live_tracker, range(4), 4), \"Multithreading\")\n",
    "plt.subplot(1, 2, 2)\n",
    "visualize_live_runtimes(multiprocessing(live_tracker, range(4), 4), \"Multiprocessing\")\n",
    "plt.show()"
   ]
  }
 ],
 "metadata": {
  "kernelspec": {
   "display_name": "Python [conda env:root] *",
   "language": "python",
   "name": "conda-root-py"
  },
  "language_info": {
   "codemirror_mode": {
    "name": "ipython",
    "version": 3
   },
   "file_extension": ".py",
   "mimetype": "text/x-python",
   "name": "python",
   "nbconvert_exporter": "python",
   "pygments_lexer": "ipython3",
   "version": "3.7.4"
  }
 },
 "nbformat": 4,
 "nbformat_minor": 4
}
