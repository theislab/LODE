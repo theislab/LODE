{
 "cells": [
  {
   "cell_type": "markdown",
   "metadata": {},
   "source": [
    "# Regression with checkup_va as target\n",
    "- only use one target, no intermediate targets for the LSTM\n",
    "- try different sequence lengths\n",
    "- use current va as input (also in sequence modelling part?)"
   ]
  },
  {
   "cell_type": "markdown",
   "metadata": {},
   "source": [
    "implemented feature quantile normalization (reduces variance that is used to normalize features) and rounding of va values (avoid overfitting to one certain value).\n",
    "Features are normalized by sum for retina by default.\n",
    "\n",
    "experiments to run:\n",
    "- vary sequence length\n",
    "- evaluate on subset with large change in va -> should do better there if have learned anything!\n",
    "- try with LSTM - maybe current model structure is suboptimal\n",
    "\n",
    "Results:\n",
    "- when training / evaluating on hard subset, models perform a better than the baseline -> have learned something!\n",
    "- longer sequences are helping (sl2 at least)\n",
    "- implemented thresholded mse loss to score a deviation of 0.15 from the desired output with loss 0. This seems to work well and performs even better on hard samples (when evaluating with thresholded mae score)\n",
    "- did not yet try LSTM\n"
   ]
  },
  {
   "cell_type": "code",
   "execution_count": 31,
   "metadata": {},
   "outputs": [],
   "source": [
    "import sys\n",
    "sys.path.append('../')\n",
    "\n",
    "from estimators import Estimator, merged_config, plot_train_curve_comparison, plot_train_curve\n",
    "import models\n",
    "import importlib\n",
    "import losses\n",
    "importlib.reload(losses)\n",
    "from datasets import IOVar, LongitudinalOCTDataset\n",
    "from sequences import load_sequences_from_pickle, Measurement\n",
    "import matplotlib.pyplot as plt\n",
    "import logging\n",
    "from copy import deepcopy\n",
    "import os\n",
    "import matplotlib as mpl\n",
    "import numpy as np\n",
    "import pandas as pd\n",
    "from tqdm import tqdm_notebook as tqdm\n",
    "import tensorflow as tf\n",
    "\n",
    "logging.basicConfig(level=logging.INFO) # need one of this?\n",
    "logging.getLogger().setLevel(logging.INFO) # need one of this?"
   ]
  },
  {
   "cell_type": "code",
   "execution_count": 2,
   "metadata": {},
   "outputs": [],
   "source": [
    "# load data\n",
    "workspace_dir = '../../workspace' #'/storage/groups/ml01/workspace/hannah.spitzer/LODE'\n",
    "fig_dir = 'figures'\n",
    "features_file = '../../data/clinical_feature_segmentation/longitudinal_features_statistics.csv'\n",
    "sequences_file = os.path.join(workspace_dir, 'sequences_with_checkup_3_dict.pickle')\n",
    "sequences_all = load_sequences_from_pickle(sequences_file)\n",
    "#features_csv = pd.read_csv(features_file, index_col=0)\n",
    "#features_csv.columns = ['background','epiretinal_membrane','vitrous','camera_effect','neurosensory_retina','intraretinal_fluid','subretinal_fluid','subretinal_hyper_reflective_material','RPE','fibrovascular_PED','dusenoid_PED','posterios_hylaois_membrane','dicom_name','frame','patient_id','oct_path','laterality','study_date']\n",
    "#features_csv.study_date = pd.to_datetime(features_csv.study_date)"
   ]
  },
  {
   "cell_type": "markdown",
   "metadata": {},
   "source": [
    "## Fully connected NN concatenating all inputs"
   ]
  },
  {
   "cell_type": "code",
   "execution_count": 3,
   "metadata": {},
   "outputs": [],
   "source": [
    "default_config = {\n",
    "    'sequence_data': {\n",
    "        'load_sequences': False, #True,\n",
    "        'sequences_fname': sequences_file,\n",
    "        'features_fname': features_file,\n",
    "        'num_checkups': 1,\n",
    "    },\n",
    "    'sequence_split': {\n",
    "        'min_len': 3,\n",
    "        'max_len': None,\n",
    "        'train_frac': 0.8,\n",
    "        'val_frac': 0.1,\n",
    "        'diagnosis': 'AMD',\n",
    "        'seed': 42\n",
    "    },\n",
    "    'model': {\n",
    "        'model_cls': models.SimpleANNModel,\n",
    "        'input_vars': [IOVar.CUR_VA, IOVar.INJ_SHORT,IOVar.LENS_SURGERY,IOVar.ALL_FEATURES],\n",
    "        'output_vars': [IOVar.CHECKUP1_CUR_VA],\n",
    "        'norm': [None, None, None, None, None],\n",
    "        'sequence_length': 1,\n",
    "        'num_dataloaders': 3,\n",
    "        'model_kwargs': {\n",
    "            'encoder_layers': {'num_layers':0},\n",
    "            'dense_layers': {'num_layers': 2},\n",
    "            'decoder_layers': {'num_layers': 0},\n",
    "            'output_layer': {'units': 1, 'activation': None}\n",
    "        },\n",
    "        'oversample_classification': False,\n",
    "    },\n",
    "    'training': {\n",
    "        'loss': losses.mae_last,\n",
    "        'metrics': [losses.mae_last],\n",
    "        'batch_size': 512,\n",
    "        'epochs': 30,\n",
    "        'learning_rate': 0.01,\n",
    "    }\n",
    "}"
   ]
  },
  {
   "cell_type": "markdown",
   "metadata": {},
   "source": [
    "### Different sequence lengths (add more information, but keep also short sequences)"
   ]
  },
  {
   "cell_type": "code",
   "execution_count": 4,
   "metadata": {},
   "outputs": [
    {
     "name": "stderr",
     "output_type": "stream",
     "text": [
      "INFO:Estimator:Creating <class 'models.SimpleANNModel'> model with iputs [<IOVar.CUR_VA: 'cur_va'>, <IOVar.INJ_SHORT: 'inj_short'>, <IOVar.LENS_SURGERY: 'lens_surgery'>, <IOVar.ALL_FEATURES: 'all_features'>] and outputs [<IOVar.CHECKUP1_CUR_VA: 'checkup1_cur_va'>]\n",
      "INFO:SimpleANNModel:{\n",
      "    \"encoder_layers\": {\n",
      "        \"num_layers\": 0,\n",
      "        \"units\": 32,\n",
      "        \"activation\": \"relu\",\n",
      "        \"log\": false\n",
      "    },\n",
      "    \"dense_layers\": {\n",
      "        \"num_layers\": 2,\n",
      "        \"units\": 64,\n",
      "        \"activation\": \"relu\",\n",
      "        \"log\": false\n",
      "    },\n",
      "    \"decoder_layers\": {\n",
      "        \"num_layers\": 0,\n",
      "        \"units\": 32,\n",
      "        \"activation\": \"relu\",\n",
      "        \"log\": false\n",
      "    },\n",
      "    \"output_layer\": {\n",
      "        \"units\": 1,\n",
      "        \"activation\": null,\n",
      "        \"log\": false\n",
      "    }\n",
      "}\n",
      "INFO:Estimator:Removing 1 checkups from sequences\n",
      "INFO:Estimator:Loading features from ../../data/clinical_feature_segmentation/longitudinal_features_statistics.csv\n",
      "/Users/hannah.spitzer/opt/miniconda3/envs/lode/lib/python3.7/site-packages/numpy/lib/arraysetops.py:569: FutureWarning: elementwise comparison failed; returning scalar instead, but in the future will perform elementwise comparison\n",
      "  mask |= (ar1 == a)\n",
      "INFO:Estimator:Adding features to sequences\n",
      "100%|██████████| 11152/11152 [00:23<00:00, 464.71it/s]\n",
      "INFO:Estimator:Splitting sequences of len 3-None into 0.8 train, 0.1 val (seed 42)\n",
      "INFO:Estimator:Split sequences in 6785 train (80.2%), 751 val (8.9%), 927 test (11.0%)\n"
     ]
    },
    {
     "name": "stdout",
     "output_type": "stream",
     "text": [
      "resulting norm values [None, None, None, None, None]\n"
     ]
    }
   ],
   "source": [
    "# get baseline mae\n",
    "base_est = Estimator(default_config)\n",
    "base_est.train_dataset, base_est.val_dataset, base_est.test_dataset = base_est.datasets_from_sequences(sequences_all)\n",
    "default_val_dataset = LongitudinalOCTDataset(base_est.val_dataset.sequences, \n",
    "                                             return_values=[IOVar.CUR_VA, IOVar.CHECKUP1_CUR_VA, IOVar.CHECKUP1_DIFF_VA_CLASS],\n",
    "                                             norm = base_est.val_dataset.norm, \n",
    "                                             sequence_length=base_est.val_dataset.sequence_length,\n",
    "                                             num_inputs=base_est.val_dataset.num_inputs,\n",
    "                                             num_parallel_calls=base_est.val_dataset.num_parallel_calls)\n",
    "baseline_pred, y_true, cls_label = default_val_dataset.get_value_list([IOVar.CUR_VA, IOVar.CHECKUP1_CUR_VA, IOVar.CHECKUP1_DIFF_VA_CLASS], batch_size=512)\n",
    "cls_label = np.argmax(cls_label[:,-1], axis=-1)\n",
    "\n",
    "# baseline: predict current va as next va\n",
    "baseline_mae = losses.mae_last_numpy(y_true, baseline_pred)    \n",
    "\n",
    "# hard baseline: predict current va as next va - only using hard examples that change a lot\n",
    "baseline_mae_hard = losses.mae_last_numpy(y_true[cls_label!=2], baseline_pred[cls_label!=2])\n",
    "\n",
    "# easy baseline: predict mean of all next vas (in train) as next va\n",
    "mean_y_true_train = np.mean(base_est.train_dataset.get_value_list([IOVar.CHECKUP1_CUR_VA])[0][:,-1,0])\n",
    "baseline_mae_easy = losses.mae_last_numpy(y_true, np.array([[mean_y_true_train]]))"
   ]
  },
  {
   "cell_type": "code",
   "execution_count": 5,
   "metadata": {},
   "outputs": [],
   "source": [
    "res_dict_hard = {}\n",
    "res_dict_all = {}"
   ]
  },
  {
   "cell_type": "code",
   "execution_count": 18,
   "metadata": {
    "collapsed": true,
    "jupyter": {
     "outputs_hidden": true
    }
   },
   "outputs": [
    {
     "name": "stderr",
     "output_type": "stream",
     "text": [
      "INFO:Estimator:Creating <class 'models.SimpleANNModel'> model with iputs [<IOVar.CUR_VA: 'cur_va'>, <IOVar.INJ_SHORT: 'inj_short'>, <IOVar.LENS_SURGERY: 'lens_surgery'>, <IOVar.ALL_FEATURES: 'all_features'>] and outputs [<IOVar.CHECKUP1_CUR_VA: 'checkup1_cur_va'>]\n",
      "INFO:SimpleANNModel:{\n",
      "    \"encoder_layers\": {\n",
      "        \"num_layers\": 0,\n",
      "        \"units\": 32,\n",
      "        \"activation\": \"relu\",\n",
      "        \"log\": false\n",
      "    },\n",
      "    \"dense_layers\": {\n",
      "        \"num_layers\": 2,\n",
      "        \"units\": 64,\n",
      "        \"activation\": \"relu\",\n",
      "        \"log\": false\n",
      "    },\n",
      "    \"decoder_layers\": {\n",
      "        \"num_layers\": 0,\n",
      "        \"units\": 32,\n",
      "        \"activation\": \"relu\",\n",
      "        \"log\": false\n",
      "    },\n",
      "    \"output_layer\": {\n",
      "        \"units\": 1,\n",
      "        \"activation\": null,\n",
      "        \"log\": false\n",
      "    }\n",
      "}\n",
      "INFO:Estimator:Removing 1 checkups from sequences\n",
      "INFO:Estimator:Loading features from ../../data/clinical_feature_segmentation/longitudinal_features_statistics.csv\n",
      "/Users/hannah.spitzer/opt/miniconda3/envs/lode/lib/python3.7/site-packages/numpy/lib/arraysetops.py:569: FutureWarning: elementwise comparison failed; returning scalar instead, but in the future will perform elementwise comparison\n",
      "  mask |= (ar1 == a)\n",
      "INFO:Estimator:Adding features to sequences\n",
      "100%|██████████| 11152/11152 [00:22<00:00, 498.85it/s]\n",
      "INFO:Estimator:Splitting sequences of len 3-None into 0.8 train, 0.1 val (seed 42)\n",
      "INFO:Estimator:Split sequences in 6785 train (80.2%), 751 val (8.9%), 927 test (11.0%)\n"
     ]
    },
    {
     "name": "stdout",
     "output_type": "stream",
     "text": [
      "resulting norm values [None, None, None, None, None]\n"
     ]
    },
    {
     "name": "stderr",
     "output_type": "stream",
     "text": [
      "INFO:Estimator:Creating <class 'models.SimpleANNModel'> model with iputs [<IOVar.CUR_VA: 'cur_va'>, <IOVar.INJ_SHORT: 'inj_short'>, <IOVar.LENS_SURGERY: 'lens_surgery'>, <IOVar.ALL_FEATURES: 'all_features'>] and outputs [<IOVar.CHECKUP1_CUR_VA: 'checkup1_cur_va'>]\n",
      "INFO:SimpleANNModel:{\n",
      "    \"encoder_layers\": {\n",
      "        \"num_layers\": 0,\n",
      "        \"units\": 32,\n",
      "        \"activation\": \"relu\",\n",
      "        \"log\": false\n",
      "    },\n",
      "    \"dense_layers\": {\n",
      "        \"num_layers\": 2,\n",
      "        \"units\": 64,\n",
      "        \"activation\": \"relu\",\n",
      "        \"log\": false\n",
      "    },\n",
      "    \"decoder_layers\": {\n",
      "        \"num_layers\": 0,\n",
      "        \"units\": 32,\n",
      "        \"activation\": \"relu\",\n",
      "        \"log\": false\n",
      "    },\n",
      "    \"output_layer\": {\n",
      "        \"units\": 1,\n",
      "        \"activation\": null,\n",
      "        \"log\": false\n",
      "    }\n",
      "}\n",
      "INFO:Estimator:Removing 1 checkups from sequences\n",
      "INFO:Estimator:Loading features from ../../data/clinical_feature_segmentation/longitudinal_features_statistics.csv\n",
      "/Users/hannah.spitzer/opt/miniconda3/envs/lode/lib/python3.7/site-packages/numpy/lib/arraysetops.py:569: FutureWarning: elementwise comparison failed; returning scalar instead, but in the future will perform elementwise comparison\n",
      "  mask |= (ar1 == a)\n",
      "INFO:Estimator:Adding features to sequences\n",
      "100%|██████████| 11152/11152 [00:22<00:00, 502.64it/s]\n",
      "INFO:Estimator:Splitting sequences of len 3-None into 0.8 train, 0.1 val (seed 42)\n",
      "INFO:Estimator:Split sequences in 6785 train (80.2%), 751 val (8.9%), 927 test (11.0%)\n"
     ]
    },
    {
     "name": "stdout",
     "output_type": "stream",
     "text": [
      "resulting norm values [None, None, None, None, None]\n"
     ]
    },
    {
     "name": "stderr",
     "output_type": "stream",
     "text": [
      "INFO:Estimator:Creating <class 'models.SimpleANNModel'> model with iputs [<IOVar.CUR_VA: 'cur_va'>, <IOVar.INJ_SHORT: 'inj_short'>, <IOVar.LENS_SURGERY: 'lens_surgery'>, <IOVar.ALL_FEATURES: 'all_features'>] and outputs [<IOVar.CHECKUP1_CUR_VA: 'checkup1_cur_va'>]\n",
      "INFO:SimpleANNModel:{\n",
      "    \"encoder_layers\": {\n",
      "        \"num_layers\": 0,\n",
      "        \"units\": 32,\n",
      "        \"activation\": \"relu\",\n",
      "        \"log\": false\n",
      "    },\n",
      "    \"dense_layers\": {\n",
      "        \"num_layers\": 2,\n",
      "        \"units\": 64,\n",
      "        \"activation\": \"relu\",\n",
      "        \"log\": false\n",
      "    },\n",
      "    \"decoder_layers\": {\n",
      "        \"num_layers\": 0,\n",
      "        \"units\": 32,\n",
      "        \"activation\": \"relu\",\n",
      "        \"log\": false\n",
      "    },\n",
      "    \"output_layer\": {\n",
      "        \"units\": 1,\n",
      "        \"activation\": null,\n",
      "        \"log\": false\n",
      "    }\n",
      "}\n",
      "INFO:Estimator:Removing 1 checkups from sequences\n",
      "INFO:Estimator:Loading features from ../../data/clinical_feature_segmentation/longitudinal_features_statistics.csv\n",
      "/Users/hannah.spitzer/opt/miniconda3/envs/lode/lib/python3.7/site-packages/numpy/lib/arraysetops.py:569: FutureWarning: elementwise comparison failed; returning scalar instead, but in the future will perform elementwise comparison\n",
      "  mask |= (ar1 == a)\n",
      "INFO:Estimator:Adding features to sequences\n",
      "100%|██████████| 11152/11152 [00:23<00:00, 480.81it/s]\n",
      "INFO:Estimator:Splitting sequences of len 3-None into 0.8 train, 0.1 val (seed 42)\n",
      "INFO:Estimator:Split sequences in 6785 train (80.2%), 751 val (8.9%), 927 test (11.0%)\n"
     ]
    },
    {
     "name": "stdout",
     "output_type": "stream",
     "text": [
      "resulting norm values [None, None, None, None, None]\n"
     ]
    }
   ],
   "source": [
    "res_dict_hard['train_all'] = {}\n",
    "res_dict_all['train_all'] = {}\n",
    "# train on whole dataset and evaluate on hard subset\n",
    "for sl in [1,2,3]:\n",
    "    cur_config = deepcopy(default_config)\n",
    "    cur_config['model']['sequence_length'] = sl\n",
    "    est = Estimator(cur_config)\n",
    "    # only needed to avoid reloading sequences each time\n",
    "    est.train_dataset, est.val_dataset, est.test_dataset = est.datasets_from_sequences(sequences_all)\n",
    "    \n",
    "    # train model\n",
    "    history = est.train_model(verbose=0)\n",
    "    y_pred = est.predict_model(est.val_dataset)\n",
    "    # save mae on hard subset\n",
    "    res_dict_hard['train_all'][f'sl_{sl}'] = losses.mae_last_numpy(y_true[cls_label!=2], y_pred[cls_label!=2])\n",
    "    res_dict_all['train_all'][f'sl_{sl}'] = losses.mae_last_numpy(y_true, y_pred)"
   ]
  },
  {
   "cell_type": "code",
   "execution_count": 9,
   "metadata": {
    "collapsed": true,
    "jupyter": {
     "outputs_hidden": true
    }
   },
   "outputs": [
    {
     "name": "stderr",
     "output_type": "stream",
     "text": [
      "INFO:Estimator:Creating <class 'models.SimpleANNModel'> model with iputs [<IOVar.CUR_VA: 'cur_va'>, <IOVar.INJ_SHORT: 'inj_short'>, <IOVar.LENS_SURGERY: 'lens_surgery'>, <IOVar.ALL_FEATURES: 'all_features'>] and outputs [<IOVar.CHECKUP1_CUR_VA: 'checkup1_cur_va'>]\n",
      "INFO:SimpleANNModel:{\n",
      "    \"encoder_layers\": {\n",
      "        \"num_layers\": 0,\n",
      "        \"units\": 32,\n",
      "        \"activation\": \"relu\",\n",
      "        \"log\": false\n",
      "    },\n",
      "    \"dense_layers\": {\n",
      "        \"num_layers\": 2,\n",
      "        \"units\": 64,\n",
      "        \"activation\": \"relu\",\n",
      "        \"log\": false\n",
      "    },\n",
      "    \"decoder_layers\": {\n",
      "        \"num_layers\": 0,\n",
      "        \"units\": 32,\n",
      "        \"activation\": \"relu\",\n",
      "        \"log\": false\n",
      "    },\n",
      "    \"output_layer\": {\n",
      "        \"units\": 1,\n",
      "        \"activation\": null,\n",
      "        \"log\": false\n",
      "    }\n",
      "}\n",
      "INFO:Estimator:Removing 1 checkups from sequences\n",
      "INFO:Estimator:Loading features from ../../data/clinical_feature_segmentation/longitudinal_features_statistics.csv\n",
      "/Users/hannah.spitzer/opt/miniconda3/envs/lode/lib/python3.7/site-packages/numpy/lib/arraysetops.py:569: FutureWarning: elementwise comparison failed; returning scalar instead, but in the future will perform elementwise comparison\n",
      "  mask |= (ar1 == a)\n",
      "INFO:Estimator:Adding features to sequences\n",
      "100%|██████████| 11152/11152 [00:22<00:00, 503.66it/s]\n",
      "INFO:Estimator:Splitting sequences of len 3-None into 0.8 train, 0.1 val (seed 42)\n",
      "INFO:Estimator:Split sequences in 1655 train (79.0%), 201 val (9.6%), 240 test (11.5%)\n"
     ]
    },
    {
     "name": "stdout",
     "output_type": "stream",
     "text": [
      "restricting to only hard sequences!\n",
      "resulting norm values [None, None, None, None, None]\n"
     ]
    },
    {
     "name": "stderr",
     "output_type": "stream",
     "text": [
      "INFO:Estimator:Creating <class 'models.SimpleANNModel'> model with iputs [<IOVar.CUR_VA: 'cur_va'>, <IOVar.INJ_SHORT: 'inj_short'>, <IOVar.LENS_SURGERY: 'lens_surgery'>, <IOVar.ALL_FEATURES: 'all_features'>] and outputs [<IOVar.CHECKUP1_CUR_VA: 'checkup1_cur_va'>]\n",
      "INFO:SimpleANNModel:{\n",
      "    \"encoder_layers\": {\n",
      "        \"num_layers\": 0,\n",
      "        \"units\": 32,\n",
      "        \"activation\": \"relu\",\n",
      "        \"log\": false\n",
      "    },\n",
      "    \"dense_layers\": {\n",
      "        \"num_layers\": 2,\n",
      "        \"units\": 64,\n",
      "        \"activation\": \"relu\",\n",
      "        \"log\": false\n",
      "    },\n",
      "    \"decoder_layers\": {\n",
      "        \"num_layers\": 0,\n",
      "        \"units\": 32,\n",
      "        \"activation\": \"relu\",\n",
      "        \"log\": false\n",
      "    },\n",
      "    \"output_layer\": {\n",
      "        \"units\": 1,\n",
      "        \"activation\": null,\n",
      "        \"log\": false\n",
      "    }\n",
      "}\n",
      "INFO:Estimator:Removing 1 checkups from sequences\n",
      "INFO:Estimator:Loading features from ../../data/clinical_feature_segmentation/longitudinal_features_statistics.csv\n",
      "/Users/hannah.spitzer/opt/miniconda3/envs/lode/lib/python3.7/site-packages/numpy/lib/arraysetops.py:569: FutureWarning: elementwise comparison failed; returning scalar instead, but in the future will perform elementwise comparison\n",
      "  mask |= (ar1 == a)\n",
      "INFO:Estimator:Adding features to sequences\n",
      "100%|██████████| 11152/11152 [00:21<00:00, 507.22it/s]\n",
      "INFO:Estimator:Splitting sequences of len 3-None into 0.8 train, 0.1 val (seed 42)\n",
      "INFO:Estimator:Split sequences in 6785 train (80.2%), 751 val (8.9%), 927 test (11.0%)\n"
     ]
    },
    {
     "name": "stdout",
     "output_type": "stream",
     "text": [
      "resulting norm values [None, None, None, None, None]\n"
     ]
    },
    {
     "name": "stderr",
     "output_type": "stream",
     "text": [
      "INFO:Estimator:Creating <class 'models.SimpleANNModel'> model with iputs [<IOVar.CUR_VA: 'cur_va'>, <IOVar.INJ_SHORT: 'inj_short'>, <IOVar.LENS_SURGERY: 'lens_surgery'>, <IOVar.ALL_FEATURES: 'all_features'>] and outputs [<IOVar.CHECKUP1_CUR_VA: 'checkup1_cur_va'>]\n",
      "INFO:SimpleANNModel:{\n",
      "    \"encoder_layers\": {\n",
      "        \"num_layers\": 0,\n",
      "        \"units\": 32,\n",
      "        \"activation\": \"relu\",\n",
      "        \"log\": false\n",
      "    },\n",
      "    \"dense_layers\": {\n",
      "        \"num_layers\": 2,\n",
      "        \"units\": 64,\n",
      "        \"activation\": \"relu\",\n",
      "        \"log\": false\n",
      "    },\n",
      "    \"decoder_layers\": {\n",
      "        \"num_layers\": 0,\n",
      "        \"units\": 32,\n",
      "        \"activation\": \"relu\",\n",
      "        \"log\": false\n",
      "    },\n",
      "    \"output_layer\": {\n",
      "        \"units\": 1,\n",
      "        \"activation\": null,\n",
      "        \"log\": false\n",
      "    }\n",
      "}\n",
      "INFO:Estimator:Removing 1 checkups from sequences\n",
      "INFO:Estimator:Loading features from ../../data/clinical_feature_segmentation/longitudinal_features_statistics.csv\n",
      "INFO:Estimator:Adding features to sequences\n",
      "100%|██████████| 11152/11152 [00:22<00:00, 504.32it/s]\n",
      "INFO:Estimator:Splitting sequences of len 3-None into 0.8 train, 0.1 val (seed 42)\n",
      "INFO:Estimator:Split sequences in 1655 train (79.0%), 201 val (9.6%), 240 test (11.5%)\n"
     ]
    },
    {
     "name": "stdout",
     "output_type": "stream",
     "text": [
      "restricting to only hard sequences!\n",
      "resulting norm values [None, None, None, None, None]\n"
     ]
    },
    {
     "name": "stderr",
     "output_type": "stream",
     "text": [
      "INFO:Estimator:Creating <class 'models.SimpleANNModel'> model with iputs [<IOVar.CUR_VA: 'cur_va'>, <IOVar.INJ_SHORT: 'inj_short'>, <IOVar.LENS_SURGERY: 'lens_surgery'>, <IOVar.ALL_FEATURES: 'all_features'>] and outputs [<IOVar.CHECKUP1_CUR_VA: 'checkup1_cur_va'>]\n",
      "INFO:SimpleANNModel:{\n",
      "    \"encoder_layers\": {\n",
      "        \"num_layers\": 0,\n",
      "        \"units\": 32,\n",
      "        \"activation\": \"relu\",\n",
      "        \"log\": false\n",
      "    },\n",
      "    \"dense_layers\": {\n",
      "        \"num_layers\": 2,\n",
      "        \"units\": 64,\n",
      "        \"activation\": \"relu\",\n",
      "        \"log\": false\n",
      "    },\n",
      "    \"decoder_layers\": {\n",
      "        \"num_layers\": 0,\n",
      "        \"units\": 32,\n",
      "        \"activation\": \"relu\",\n",
      "        \"log\": false\n",
      "    },\n",
      "    \"output_layer\": {\n",
      "        \"units\": 1,\n",
      "        \"activation\": null,\n",
      "        \"log\": false\n",
      "    }\n",
      "}\n",
      "INFO:Estimator:Removing 1 checkups from sequences\n",
      "INFO:Estimator:Loading features from ../../data/clinical_feature_segmentation/longitudinal_features_statistics.csv\n",
      "/Users/hannah.spitzer/opt/miniconda3/envs/lode/lib/python3.7/site-packages/numpy/lib/arraysetops.py:569: FutureWarning: elementwise comparison failed; returning scalar instead, but in the future will perform elementwise comparison\n",
      "  mask |= (ar1 == a)\n",
      "INFO:Estimator:Adding features to sequences\n",
      "100%|██████████| 11152/11152 [00:23<00:00, 468.38it/s]\n",
      "INFO:Estimator:Splitting sequences of len 3-None into 0.8 train, 0.1 val (seed 42)\n",
      "INFO:Estimator:Split sequences in 6785 train (80.2%), 751 val (8.9%), 927 test (11.0%)\n"
     ]
    },
    {
     "name": "stdout",
     "output_type": "stream",
     "text": [
      "resulting norm values [None, None, None, None, None]\n"
     ]
    },
    {
     "name": "stderr",
     "output_type": "stream",
     "text": [
      "INFO:Estimator:Creating <class 'models.SimpleANNModel'> model with iputs [<IOVar.CUR_VA: 'cur_va'>, <IOVar.INJ_SHORT: 'inj_short'>, <IOVar.LENS_SURGERY: 'lens_surgery'>, <IOVar.ALL_FEATURES: 'all_features'>] and outputs [<IOVar.CHECKUP1_CUR_VA: 'checkup1_cur_va'>]\n",
      "INFO:SimpleANNModel:{\n",
      "    \"encoder_layers\": {\n",
      "        \"num_layers\": 0,\n",
      "        \"units\": 32,\n",
      "        \"activation\": \"relu\",\n",
      "        \"log\": false\n",
      "    },\n",
      "    \"dense_layers\": {\n",
      "        \"num_layers\": 2,\n",
      "        \"units\": 64,\n",
      "        \"activation\": \"relu\",\n",
      "        \"log\": false\n",
      "    },\n",
      "    \"decoder_layers\": {\n",
      "        \"num_layers\": 0,\n",
      "        \"units\": 32,\n",
      "        \"activation\": \"relu\",\n",
      "        \"log\": false\n",
      "    },\n",
      "    \"output_layer\": {\n",
      "        \"units\": 1,\n",
      "        \"activation\": null,\n",
      "        \"log\": false\n",
      "    }\n",
      "}\n",
      "INFO:Estimator:Removing 1 checkups from sequences\n",
      "INFO:Estimator:Loading features from ../../data/clinical_feature_segmentation/longitudinal_features_statistics.csv\n",
      "INFO:Estimator:Adding features to sequences\n",
      "100%|██████████| 11152/11152 [00:22<00:00, 505.17it/s]\n",
      "INFO:Estimator:Splitting sequences of len 3-None into 0.8 train, 0.1 val (seed 42)\n",
      "INFO:Estimator:Split sequences in 1655 train (79.0%), 201 val (9.6%), 240 test (11.5%)\n"
     ]
    },
    {
     "name": "stdout",
     "output_type": "stream",
     "text": [
      "restricting to only hard sequences!\n",
      "resulting norm values [None, None, None, None, None]\n"
     ]
    },
    {
     "name": "stderr",
     "output_type": "stream",
     "text": [
      "INFO:Estimator:Creating <class 'models.SimpleANNModel'> model with iputs [<IOVar.CUR_VA: 'cur_va'>, <IOVar.INJ_SHORT: 'inj_short'>, <IOVar.LENS_SURGERY: 'lens_surgery'>, <IOVar.ALL_FEATURES: 'all_features'>] and outputs [<IOVar.CHECKUP1_CUR_VA: 'checkup1_cur_va'>]\n",
      "INFO:SimpleANNModel:{\n",
      "    \"encoder_layers\": {\n",
      "        \"num_layers\": 0,\n",
      "        \"units\": 32,\n",
      "        \"activation\": \"relu\",\n",
      "        \"log\": false\n",
      "    },\n",
      "    \"dense_layers\": {\n",
      "        \"num_layers\": 2,\n",
      "        \"units\": 64,\n",
      "        \"activation\": \"relu\",\n",
      "        \"log\": false\n",
      "    },\n",
      "    \"decoder_layers\": {\n",
      "        \"num_layers\": 0,\n",
      "        \"units\": 32,\n",
      "        \"activation\": \"relu\",\n",
      "        \"log\": false\n",
      "    },\n",
      "    \"output_layer\": {\n",
      "        \"units\": 1,\n",
      "        \"activation\": null,\n",
      "        \"log\": false\n",
      "    }\n",
      "}\n",
      "INFO:Estimator:Removing 1 checkups from sequences\n",
      "INFO:Estimator:Loading features from ../../data/clinical_feature_segmentation/longitudinal_features_statistics.csv\n",
      "/Users/hannah.spitzer/opt/miniconda3/envs/lode/lib/python3.7/site-packages/numpy/lib/arraysetops.py:569: FutureWarning: elementwise comparison failed; returning scalar instead, but in the future will perform elementwise comparison\n",
      "  mask |= (ar1 == a)\n",
      "INFO:Estimator:Adding features to sequences\n",
      "100%|██████████| 11152/11152 [00:22<00:00, 502.24it/s]\n",
      "INFO:Estimator:Splitting sequences of len 3-None into 0.8 train, 0.1 val (seed 42)\n",
      "INFO:Estimator:Split sequences in 6785 train (80.2%), 751 val (8.9%), 927 test (11.0%)\n"
     ]
    },
    {
     "name": "stdout",
     "output_type": "stream",
     "text": [
      "resulting norm values [None, None, None, None, None]\n"
     ]
    }
   ],
   "source": [
    "res_dict_hard['train_hard'] = {}\n",
    "res_dict_all['train_hard'] = {}\n",
    "# do the same on the hard samples only  # TODO continue here to see if training on hard only makes a difference!\n",
    "for sl in [1,2,3]:\n",
    "    cur_config = deepcopy(default_config)\n",
    "    cur_config['model']['sequence_length'] = sl\n",
    "    cur_config['sequence_split']['only_hard_sequences']=True\n",
    "    est = Estimator(cur_config)\n",
    "    # only needed to avoid reloading sequences each time\n",
    "    est.train_dataset, est.val_dataset, est.test_dataset = est.datasets_from_sequences(sequences_all)\n",
    "    \n",
    "    # train model\n",
    "    history = est.train_model(verbose=0)\n",
    "    # predict on all samples (need to get them first)\n",
    "    cur_config = deepcopy(default_config)\n",
    "    cur_config['model']['sequence_length'] = sl\n",
    "    cur_config['sequence_split']['only_hard_sequences'] = False\n",
    "    eval_est = Estimator(cur_config)\n",
    "    eval_est.train_dataset, eval_est.val_dataset, eval_est.test_dataset = eval_est.datasets_from_sequences(sequences_all)\n",
    "    y_pred = est.predict_model(eval_est.val_dataset)\n",
    "    \n",
    "    # save mae on hard subset\n",
    "    res_dict_hard['train_hard'][f'sl_{sl}'] = losses.mae_last_numpy(y_true[cls_label!=2], y_pred[cls_label!=2])\n",
    "    res_dict_all['train_hard'][f'sl_{sl}'] = losses.mae_last_numpy(y_true, y_pred)"
   ]
  },
  {
   "cell_type": "code",
   "execution_count": 22,
   "metadata": {},
   "outputs": [
    {
     "data": {
      "text/plain": [
       "Text(0.5, 1.0, 'evaluation on all')"
      ]
     },
     "execution_count": 22,
     "metadata": {},
     "output_type": "execute_result"
    },
    {
     "data": {
      "image/png": "[encoded data removed]",
      "text/plain": [
       "<Figure size 432x288 with 2 Axes>"
      ]
     },
     "metadata": {
      "needs_background": "light"
     },
     "output_type": "display_data"
    }
   ],
   "source": [
    "fig, axes = plt.subplots(1,2)\n",
    "for ax, res_dict in zip(axes, [res_dict_hard, res_dict_all]):\n",
    "    xs = np.arange(0,len(res_dict['train_all']),1)\n",
    "    ax.bar(xs, res_dict['train_all'].values(), width=0.3, label='training on all')\n",
    "    ax.bar(xs+0.4, res_dict['train_hard'].values(), width=0.3, label='training on hard')\n",
    "    ax.set_xticks(xs+0.2)\n",
    "    ax.set_xticklabels(res_dict['train_all'].keys())\n",
    "    ax.plot([0,len(res_dict['train_all'])],[baseline_mae_hard, baseline_mae_hard], color='darkblue', label='hard baseline mae')\n",
    "    ax.plot([0,len(res_dict['train_all'])],[baseline_mae, baseline_mae], color='lightblue', label='baseline mae')\n",
    "    ax.set_ylabel('mae')\n",
    "axes[-1].legend()\n",
    "axes[0].set_title('evaluation on hard')\n",
    "axes[1].set_title('evaluation on all')"
   ]
  },
  {
   "cell_type": "markdown",
   "metadata": {},
   "source": [
    "training on hard sequences improves prediction on hard sequences. On all sequences, the models trained on hard perform worse than the models trained on all. Sequences with length 2/3 slightly improve the results (esp. for training on all)"
   ]
  },
  {
   "cell_type": "markdown",
   "metadata": {},
   "source": [
    "### Regressing 12 month target"
   ]
  },
  {
   "cell_type": "code",
   "execution_count": 32,
   "metadata": {},
   "outputs": [],
   "source": [
    "cur_config = deepcopy(default_config)\n",
    "cur_config['sequence_data']['load_sequences'] = True\n",
    "cur_config['sequence_data']['sequences_fname'] = os.path.join(workspace_dir, 'sequences_with_checkup_3-12_dict.pickle')\n",
    "cur_config['sequence_data']['num_checkups'] =  2\n",
    "cur_config['model']['output_vars'] = [IOVar.CHECKUP2_CUR_VA]"
   ]
  },
  {
   "cell_type": "code",
   "execution_count": 33,
   "metadata": {},
   "outputs": [
    {
     "name": "stderr",
     "output_type": "stream",
     "text": [
      "INFO:Estimator:Loading sequences from ../../workspace/sequences_with_checkup_3-12_dict.pickle\n",
      "INFO:Estimator:Removing 2 checkups from sequences\n",
      "INFO:Estimator:Loading features from ../../data/clinical_feature_segmentation/longitudinal_features_statistics.csv\n",
      "INFO:Estimator:Adding features to sequences\n",
      " 26%|██▌       | 1622/6284 [00:03<00:10, 464.56it/s]\n"
     ]
    },
    {
     "ename": "KeyboardInterrupt",
     "evalue": "",
     "output_type": "error",
     "traceback": [
      "\u001b[0;31m---------------------------------------------------------------------------\u001b[0m",
      "\u001b[0;31mKeyboardInterrupt\u001b[0m                         Traceback (most recent call last)",
      "\u001b[0;32m<ipython-input-33-e4e79bd3038d>\u001b[0m in \u001b[0;36m<module>\u001b[0;34m\u001b[0m\n\u001b[1;32m      1\u001b[0m \u001b[0;31m# get baseline mae for 12 month target\u001b[0m\u001b[0;34m\u001b[0m\u001b[0;34m\u001b[0m\u001b[0;34m\u001b[0m\u001b[0m\n\u001b[0;32m----> 2\u001b[0;31m \u001b[0mest\u001b[0m \u001b[0;34m=\u001b[0m \u001b[0mEstimator\u001b[0m\u001b[0;34m(\u001b[0m\u001b[0mcur_config\u001b[0m\u001b[0;34m)\u001b[0m\u001b[0;34m\u001b[0m\u001b[0;34m\u001b[0m\u001b[0m\n\u001b[0m\u001b[1;32m      3\u001b[0m default_val_dataset = LongitudinalOCTDataset(est.val_dataset.sequences, \n\u001b[1;32m      4\u001b[0m                                              \u001b[0mreturn_values\u001b[0m\u001b[0;34m=\u001b[0m\u001b[0;34m[\u001b[0m\u001b[0mIOVar\u001b[0m\u001b[0;34m.\u001b[0m\u001b[0mCUR_VA\u001b[0m\u001b[0;34m,\u001b[0m \u001b[0mIOVar\u001b[0m\u001b[0;34m.\u001b[0m\u001b[0mCHECKUP2_CUR_VA\u001b[0m\u001b[0;34m,\u001b[0m \u001b[0mIOVar\u001b[0m\u001b[0;34m.\u001b[0m\u001b[0mCHECKUP2_DIFF_VA_CLASS\u001b[0m\u001b[0;34m]\u001b[0m\u001b[0;34m,\u001b[0m\u001b[0;34m\u001b[0m\u001b[0;34m\u001b[0m\u001b[0m\n\u001b[1;32m      5\u001b[0m                                              \u001b[0mnorm\u001b[0m \u001b[0;34m=\u001b[0m \u001b[0mest\u001b[0m\u001b[0;34m.\u001b[0m\u001b[0mval_dataset\u001b[0m\u001b[0;34m.\u001b[0m\u001b[0mnorm\u001b[0m\u001b[0;34m,\u001b[0m\u001b[0;34m\u001b[0m\u001b[0;34m\u001b[0m\u001b[0m\n",
      "\u001b[0;32m~/projects/LODE/LSTM/estimators.py\u001b[0m in \u001b[0;36m__init__\u001b[0;34m(self, config)\u001b[0m\n\u001b[1;32m     66\u001b[0m             \u001b[0mself\u001b[0m\u001b[0;34m.\u001b[0m\u001b[0mlog\u001b[0m\u001b[0;34m.\u001b[0m\u001b[0minfo\u001b[0m\u001b[0;34m(\u001b[0m\u001b[0;34mf'Loading sequences from {fname}'\u001b[0m\u001b[0;34m)\u001b[0m\u001b[0;34m\u001b[0m\u001b[0;34m\u001b[0m\u001b[0m\n\u001b[1;32m     67\u001b[0m             \u001b[0;31m# load sequences and prepare (e.g. remove checkups)\u001b[0m\u001b[0;34m\u001b[0m\u001b[0;34m\u001b[0m\u001b[0;34m\u001b[0m\u001b[0m\n\u001b[0;32m---> 68\u001b[0;31m             \u001b[0mself\u001b[0m\u001b[0;34m.\u001b[0m\u001b[0msequences_all\u001b[0m \u001b[0;34m=\u001b[0m \u001b[0mself\u001b[0m\u001b[0;34m.\u001b[0m\u001b[0m_prepare_sequences\u001b[0m\u001b[0;34m(\u001b[0m\u001b[0mload_sequences_from_pickle\u001b[0m\u001b[0;34m(\u001b[0m\u001b[0mfname\u001b[0m\u001b[0;34m)\u001b[0m\u001b[0;34m)\u001b[0m\u001b[0;34m\u001b[0m\u001b[0;34m\u001b[0m\u001b[0m\n\u001b[0m\u001b[1;32m     69\u001b[0m             \u001b[0;31m# split sequences\u001b[0m\u001b[0;34m\u001b[0m\u001b[0;34m\u001b[0m\u001b[0;34m\u001b[0m\u001b[0m\n\u001b[1;32m     70\u001b[0m             \u001b[0mself\u001b[0m\u001b[0;34m.\u001b[0m\u001b[0msequences_split\u001b[0m \u001b[0;34m=\u001b[0m \u001b[0mself\u001b[0m\u001b[0;34m.\u001b[0m\u001b[0msplit_sequences\u001b[0m\u001b[0;34m(\u001b[0m\u001b[0;34m)\u001b[0m\u001b[0;34m\u001b[0m\u001b[0;34m\u001b[0m\u001b[0m\n",
      "\u001b[0;32m~/projects/LODE/LSTM/estimators.py\u001b[0m in \u001b[0;36m_prepare_sequences\u001b[0;34m(self, sequences, grouped_features)\u001b[0m\n\u001b[1;32m    103\u001b[0m             \u001b[0mres_sequences\u001b[0m \u001b[0;34m=\u001b[0m \u001b[0msequences\u001b[0m\u001b[0;34m\u001b[0m\u001b[0;34m\u001b[0m\u001b[0m\n\u001b[1;32m    104\u001b[0m         \u001b[0;31m# load features\u001b[0m\u001b[0;34m\u001b[0m\u001b[0;34m\u001b[0m\u001b[0;34m\u001b[0m\u001b[0m\n\u001b[0;32m--> 105\u001b[0;31m         \u001b[0mres_sequences\u001b[0m \u001b[0;34m=\u001b[0m \u001b[0mself\u001b[0m\u001b[0;34m.\u001b[0m\u001b[0m_load_features_for_sequences\u001b[0m\u001b[0;34m(\u001b[0m\u001b[0mres_sequences\u001b[0m\u001b[0;34m,\u001b[0m \u001b[0mgrouped_features\u001b[0m\u001b[0;34m)\u001b[0m\u001b[0;34m\u001b[0m\u001b[0;34m\u001b[0m\u001b[0m\n\u001b[0m\u001b[1;32m    106\u001b[0m         \u001b[0;32mreturn\u001b[0m \u001b[0mres_sequences\u001b[0m\u001b[0;34m\u001b[0m\u001b[0;34m\u001b[0m\u001b[0m\n\u001b[1;32m    107\u001b[0m \u001b[0;34m\u001b[0m\u001b[0m\n",
      "\u001b[0;32m~/projects/LODE/LSTM/estimators.py\u001b[0m in \u001b[0;36m_load_features_for_sequences\u001b[0;34m(self, res_sequences, grouped_features)\u001b[0m\n\u001b[1;32m    122\u001b[0m         \u001b[0mself\u001b[0m\u001b[0;34m.\u001b[0m\u001b[0mlog\u001b[0m\u001b[0;34m.\u001b[0m\u001b[0minfo\u001b[0m\u001b[0;34m(\u001b[0m\u001b[0;34mf'Adding features to sequences'\u001b[0m\u001b[0;34m)\u001b[0m\u001b[0;34m\u001b[0m\u001b[0;34m\u001b[0m\u001b[0m\n\u001b[1;32m    123\u001b[0m         \u001b[0;32mfor\u001b[0m \u001b[0mseq\u001b[0m \u001b[0;32min\u001b[0m \u001b[0mtqdm\u001b[0m\u001b[0;34m(\u001b[0m\u001b[0mres_sequences\u001b[0m\u001b[0;34m)\u001b[0m\u001b[0;34m:\u001b[0m\u001b[0;34m\u001b[0m\u001b[0;34m\u001b[0m\u001b[0m\n\u001b[0;32m--> 124\u001b[0;31m             \u001b[0mseq\u001b[0m\u001b[0;34m.\u001b[0m\u001b[0madd_features_from_pandas\u001b[0m\u001b[0;34m(\u001b[0m\u001b[0mgrouped_features\u001b[0m\u001b[0;34m,\u001b[0m \u001b[0mnormalize\u001b[0m\u001b[0;34m=\u001b[0m\u001b[0;34m'retina'\u001b[0m\u001b[0;34m)\u001b[0m\u001b[0;34m\u001b[0m\u001b[0;34m\u001b[0m\u001b[0m\n\u001b[0m\u001b[1;32m    125\u001b[0m         \u001b[0;32mreturn\u001b[0m \u001b[0mres_sequences\u001b[0m\u001b[0;34m\u001b[0m\u001b[0;34m\u001b[0m\u001b[0m\n\u001b[1;32m    126\u001b[0m \u001b[0;34m\u001b[0m\u001b[0m\n",
      "\u001b[0;32m~/projects/LODE/LSTM/sequences.py\u001b[0m in \u001b[0;36madd_features_from_pandas\u001b[0;34m(self, grouped_features, normalize)\u001b[0m\n\u001b[1;32m    427\u001b[0m                 \u001b[0;32mif\u001b[0m \u001b[0mnormalize\u001b[0m \u001b[0;34m==\u001b[0m \u001b[0;34m'retina'\u001b[0m\u001b[0;34m:\u001b[0m\u001b[0;34m\u001b[0m\u001b[0;34m\u001b[0m\u001b[0m\n\u001b[1;32m    428\u001b[0m                     \u001b[0;31m# normalize by retinal features\u001b[0m\u001b[0;34m\u001b[0m\u001b[0;34m\u001b[0m\u001b[0;34m\u001b[0m\u001b[0m\n\u001b[0;32m--> 429\u001b[0;31m                     \u001b[0mmmt\u001b[0m\u001b[0;34m.\u001b[0m\u001b[0mfeatures\u001b[0m \u001b[0;34m=\u001b[0m \u001b[0mmmt\u001b[0m\u001b[0;34m.\u001b[0m\u001b[0mfeatures\u001b[0m \u001b[0;34m/\u001b[0m \u001b[0mmmt\u001b[0m\u001b[0;34m.\u001b[0m\u001b[0mfeatures\u001b[0m\u001b[0;34m[\u001b[0m\u001b[0;34m[\u001b[0m\u001b[0;36m1\u001b[0m\u001b[0;34m,\u001b[0m\u001b[0;36m4\u001b[0m\u001b[0;34m,\u001b[0m\u001b[0;36m5\u001b[0m\u001b[0;34m,\u001b[0m\u001b[0;36m6\u001b[0m\u001b[0;34m,\u001b[0m\u001b[0;36m7\u001b[0m\u001b[0;34m,\u001b[0m\u001b[0;36m8\u001b[0m\u001b[0;34m,\u001b[0m\u001b[0;36m9\u001b[0m\u001b[0;34m,\u001b[0m\u001b[0;36m10\u001b[0m\u001b[0;34m,\u001b[0m\u001b[0;36m11\u001b[0m\u001b[0;34m]\u001b[0m\u001b[0;34m]\u001b[0m\u001b[0;34m.\u001b[0m\u001b[0msum\u001b[0m\u001b[0;34m(\u001b[0m\u001b[0;34m)\u001b[0m\u001b[0;34m\u001b[0m\u001b[0;34m\u001b[0m\u001b[0m\n\u001b[0m\u001b[1;32m    430\u001b[0m             \u001b[0;32mexcept\u001b[0m \u001b[0mKeyError\u001b[0m \u001b[0;32mas\u001b[0m \u001b[0me\u001b[0m\u001b[0;34m:\u001b[0m\u001b[0;34m\u001b[0m\u001b[0;34m\u001b[0m\u001b[0m\n\u001b[1;32m    431\u001b[0m                 \u001b[0mprint\u001b[0m\u001b[0;34m(\u001b[0m\u001b[0;34mf'Did not find features for oct {mmt.oct_path}'\u001b[0m\u001b[0;34m)\u001b[0m\u001b[0;34m\u001b[0m\u001b[0;34m\u001b[0m\u001b[0m\n",
      "\u001b[0;32m~/opt/miniconda3/envs/lode/lib/python3.7/site-packages/numpy/core/_methods.py\u001b[0m in \u001b[0;36m_sum\u001b[0;34m(a, axis, dtype, out, keepdims, initial, where)\u001b[0m\n\u001b[1;32m     36\u001b[0m def _sum(a, axis=None, dtype=None, out=None, keepdims=False,\n\u001b[1;32m     37\u001b[0m          initial=_NoValue, where=True):\n\u001b[0;32m---> 38\u001b[0;31m     \u001b[0;32mreturn\u001b[0m \u001b[0mumr_sum\u001b[0m\u001b[0;34m(\u001b[0m\u001b[0ma\u001b[0m\u001b[0;34m,\u001b[0m \u001b[0maxis\u001b[0m\u001b[0;34m,\u001b[0m \u001b[0mdtype\u001b[0m\u001b[0;34m,\u001b[0m \u001b[0mout\u001b[0m\u001b[0;34m,\u001b[0m \u001b[0mkeepdims\u001b[0m\u001b[0;34m,\u001b[0m \u001b[0minitial\u001b[0m\u001b[0;34m,\u001b[0m \u001b[0mwhere\u001b[0m\u001b[0;34m)\u001b[0m\u001b[0;34m\u001b[0m\u001b[0;34m\u001b[0m\u001b[0m\n\u001b[0m\u001b[1;32m     39\u001b[0m \u001b[0;34m\u001b[0m\u001b[0m\n\u001b[1;32m     40\u001b[0m def _prod(a, axis=None, dtype=None, out=None, keepdims=False,\n",
      "\u001b[0;31mKeyboardInterrupt\u001b[0m: "
     ]
    }
   ],
   "source": [
    "# get baseline mae for 12 month target\n",
    "est = Estimator(cur_config)\n",
    "default_val_dataset = LongitudinalOCTDataset(est.val_dataset.sequences, \n",
    "                                             return_values=[IOVar.CUR_VA, IOVar.CHECKUP2_CUR_VA, IOVar.CHECKUP2_DIFF_VA_CLASS],\n",
    "                                             norm = est.val_dataset.norm, \n",
    "                                             sequence_length=est.val_dataset.sequence_length,\n",
    "                                             num_inputs=est.val_dataset.num_inputs,\n",
    "                                             num_parallel_calls=est.val_dataset.num_parallel_calls)\n",
    "baseline_pred_12, y_true_12, cls_label_12 = default_val_dataset.get_value_list([IOVar.CUR_VA, IOVar.CHECKUP2_CUR_VA, IOVar.CHECKUP2_DIFF_VA_CLASS], batch_size=512)\n",
    "cls_label_12 = np.argmax(cls_label_12[:,-1], axis=-1)\n",
    "\n",
    "# baseline: predict current va as next va\n",
    "baseline_mae_12 = losses.mae_last_numpy(y_true_12, baseline_pred_12)    \n",
    "\n",
    "# hard baseline: predict current va as next va - only using hard examples that change a lot\n",
    "baseline_mae_hard_12 = losses.mae_last_numpy(y_true_12[cls_label_12!=2], baseline_pred_12[cls_label_12!=2])\n",
    "\n",
    "# easy baseline: predict mean of all next vas (in train) as next va\n",
    "mean_y_true_train = np.mean(est.train_dataset.get_value_list([IOVar.CHECKUP2_CUR_VA])[0][:,-1,0])\n",
    "baseline_mae_easy_12 = losses.mae_last_numpy(y_true_12, np.array([[mean_y_true_train]]))"
   ]
  },
  {
   "cell_type": "code",
   "execution_count": 25,
   "metadata": {
    "collapsed": true,
    "jupyter": {
     "outputs_hidden": true
    }
   },
   "outputs": [
    {
     "name": "stderr",
     "output_type": "stream",
     "text": [
      "INFO:Estimator:Loading sequences from ../../workspace/sequences_with_checkup_3-12_dict.pickle\n",
      "INFO:Estimator:Removing 2 checkups from sequences\n",
      "INFO:Estimator:Loading features from ../../data/clinical_feature_segmentation/longitudinal_features_statistics.csv\n",
      "INFO:Estimator:Adding features to sequences\n",
      "100%|██████████| 6284/6284 [00:13<00:00, 464.87it/s]\n",
      "INFO:Estimator:Splitting sequences of len 3-None into 0.8 train, 0.1 val (seed 42)\n",
      "INFO:Estimator:Split sequences in 3654 train (76.3%), 505 val (10.5%), 629 test (13.1%)\n",
      "INFO:Estimator:Creating <class 'models.SimpleANNModel'> model with iputs [<IOVar.CUR_VA: 'cur_va'>, <IOVar.INJ_SHORT: 'inj_short'>, <IOVar.LENS_SURGERY: 'lens_surgery'>, <IOVar.ALL_FEATURES: 'all_features'>] and outputs [<IOVar.CHECKUP2_CUR_VA: 'checkup2_cur_va'>]\n",
      "INFO:SimpleANNModel:{\n",
      "    \"encoder_layers\": {\n",
      "        \"num_layers\": 0,\n",
      "        \"units\": 32,\n",
      "        \"activation\": \"relu\",\n",
      "        \"log\": false\n",
      "    },\n",
      "    \"dense_layers\": {\n",
      "        \"num_layers\": 2,\n",
      "        \"units\": 64,\n",
      "        \"activation\": \"relu\",\n",
      "        \"log\": false\n",
      "    },\n",
      "    \"decoder_layers\": {\n",
      "        \"num_layers\": 0,\n",
      "        \"units\": 32,\n",
      "        \"activation\": \"relu\",\n",
      "        \"log\": false\n",
      "    },\n",
      "    \"output_layer\": {\n",
      "        \"units\": 1,\n",
      "        \"activation\": null,\n",
      "        \"log\": false\n",
      "    }\n",
      "}\n"
     ]
    },
    {
     "name": "stdout",
     "output_type": "stream",
     "text": [
      "resulting norm values [None, None, None, None, None]\n"
     ]
    },
    {
     "name": "stderr",
     "output_type": "stream",
     "text": [
      "INFO:Estimator:Loading sequences from ../../workspace/sequences_with_checkup_3-12_dict.pickle\n",
      "INFO:Estimator:Removing 2 checkups from sequences\n",
      "INFO:Estimator:Loading features from ../../data/clinical_feature_segmentation/longitudinal_features_statistics.csv\n",
      "/Users/hannah.spitzer/opt/miniconda3/envs/lode/lib/python3.7/site-packages/numpy/lib/arraysetops.py:569: FutureWarning: elementwise comparison failed; returning scalar instead, but in the future will perform elementwise comparison\n",
      "  mask |= (ar1 == a)\n",
      "INFO:Estimator:Adding features to sequences\n",
      "100%|██████████| 6284/6284 [00:13<00:00, 480.56it/s]\n",
      "INFO:Estimator:Splitting sequences of len 3-None into 0.8 train, 0.1 val (seed 42)\n",
      "INFO:Estimator:Split sequences in 3654 train (76.3%), 505 val (10.5%), 629 test (13.1%)\n"
     ]
    },
    {
     "name": "stdout",
     "output_type": "stream",
     "text": [
      "resulting norm values [None, None, None, None, None]\n"
     ]
    },
    {
     "name": "stderr",
     "output_type": "stream",
     "text": [
      "INFO:Estimator:Creating <class 'models.SimpleANNModel'> model with iputs [<IOVar.CUR_VA: 'cur_va'>, <IOVar.INJ_SHORT: 'inj_short'>, <IOVar.LENS_SURGERY: 'lens_surgery'>, <IOVar.ALL_FEATURES: 'all_features'>] and outputs [<IOVar.CHECKUP2_CUR_VA: 'checkup2_cur_va'>]\n",
      "INFO:SimpleANNModel:{\n",
      "    \"encoder_layers\": {\n",
      "        \"num_layers\": 0,\n",
      "        \"units\": 32,\n",
      "        \"activation\": \"relu\",\n",
      "        \"log\": false\n",
      "    },\n",
      "    \"dense_layers\": {\n",
      "        \"num_layers\": 2,\n",
      "        \"units\": 64,\n",
      "        \"activation\": \"relu\",\n",
      "        \"log\": false\n",
      "    },\n",
      "    \"decoder_layers\": {\n",
      "        \"num_layers\": 0,\n",
      "        \"units\": 32,\n",
      "        \"activation\": \"relu\",\n",
      "        \"log\": false\n",
      "    },\n",
      "    \"output_layer\": {\n",
      "        \"units\": 1,\n",
      "        \"activation\": null,\n",
      "        \"log\": false\n",
      "    }\n",
      "}\n",
      "INFO:Estimator:Loading sequences from ../../workspace/sequences_with_checkup_3-12_dict.pickle\n",
      "INFO:Estimator:Removing 2 checkups from sequences\n",
      "INFO:Estimator:Loading features from ../../data/clinical_feature_segmentation/longitudinal_features_statistics.csv\n",
      "/Users/hannah.spitzer/opt/miniconda3/envs/lode/lib/python3.7/site-packages/numpy/lib/arraysetops.py:569: FutureWarning: elementwise comparison failed; returning scalar instead, but in the future will perform elementwise comparison\n",
      "  mask |= (ar1 == a)\n",
      "INFO:Estimator:Adding features to sequences\n",
      "100%|██████████| 6284/6284 [00:12<00:00, 483.41it/s]\n",
      "INFO:Estimator:Splitting sequences of len 3-None into 0.8 train, 0.1 val (seed 42)\n",
      "INFO:Estimator:Split sequences in 3654 train (76.3%), 505 val (10.5%), 629 test (13.1%)\n"
     ]
    },
    {
     "name": "stdout",
     "output_type": "stream",
     "text": [
      "resulting norm values [None, None, None, None, None]\n"
     ]
    },
    {
     "name": "stderr",
     "output_type": "stream",
     "text": [
      "INFO:Estimator:Creating <class 'models.SimpleANNModel'> model with iputs [<IOVar.CUR_VA: 'cur_va'>, <IOVar.INJ_SHORT: 'inj_short'>, <IOVar.LENS_SURGERY: 'lens_surgery'>, <IOVar.ALL_FEATURES: 'all_features'>] and outputs [<IOVar.CHECKUP2_CUR_VA: 'checkup2_cur_va'>]\n",
      "INFO:SimpleANNModel:{\n",
      "    \"encoder_layers\": {\n",
      "        \"num_layers\": 0,\n",
      "        \"units\": 32,\n",
      "        \"activation\": \"relu\",\n",
      "        \"log\": false\n",
      "    },\n",
      "    \"dense_layers\": {\n",
      "        \"num_layers\": 2,\n",
      "        \"units\": 64,\n",
      "        \"activation\": \"relu\",\n",
      "        \"log\": false\n",
      "    },\n",
      "    \"decoder_layers\": {\n",
      "        \"num_layers\": 0,\n",
      "        \"units\": 32,\n",
      "        \"activation\": \"relu\",\n",
      "        \"log\": false\n",
      "    },\n",
      "    \"output_layer\": {\n",
      "        \"units\": 1,\n",
      "        \"activation\": null,\n",
      "        \"log\": false\n",
      "    }\n",
      "}\n",
      "INFO:Estimator:Loading sequences from ../../workspace/sequences_with_checkup_3-12_dict.pickle\n",
      "INFO:Estimator:Removing 2 checkups from sequences\n",
      "INFO:Estimator:Loading features from ../../data/clinical_feature_segmentation/longitudinal_features_statistics.csv\n",
      "/Users/hannah.spitzer/opt/miniconda3/envs/lode/lib/python3.7/site-packages/numpy/lib/arraysetops.py:569: FutureWarning: elementwise comparison failed; returning scalar instead, but in the future will perform elementwise comparison\n",
      "  mask |= (ar1 == a)\n",
      "INFO:Estimator:Adding features to sequences\n",
      "100%|██████████| 6284/6284 [00:13<00:00, 477.51it/s]\n",
      "INFO:Estimator:Splitting sequences of len 3-None into 0.8 train, 0.1 val (seed 42)\n",
      "INFO:Estimator:Split sequences in 3654 train (76.3%), 505 val (10.5%), 629 test (13.1%)\n"
     ]
    },
    {
     "name": "stdout",
     "output_type": "stream",
     "text": [
      "resulting norm values [None, None, None, None, None]\n"
     ]
    },
    {
     "name": "stderr",
     "output_type": "stream",
     "text": [
      "INFO:Estimator:Creating <class 'models.SimpleANNModel'> model with iputs [<IOVar.CUR_VA: 'cur_va'>, <IOVar.INJ_SHORT: 'inj_short'>, <IOVar.LENS_SURGERY: 'lens_surgery'>, <IOVar.ALL_FEATURES: 'all_features'>] and outputs [<IOVar.CHECKUP2_CUR_VA: 'checkup2_cur_va'>]\n",
      "INFO:SimpleANNModel:{\n",
      "    \"encoder_layers\": {\n",
      "        \"num_layers\": 0,\n",
      "        \"units\": 32,\n",
      "        \"activation\": \"relu\",\n",
      "        \"log\": false\n",
      "    },\n",
      "    \"dense_layers\": {\n",
      "        \"num_layers\": 2,\n",
      "        \"units\": 64,\n",
      "        \"activation\": \"relu\",\n",
      "        \"log\": false\n",
      "    },\n",
      "    \"decoder_layers\": {\n",
      "        \"num_layers\": 0,\n",
      "        \"units\": 32,\n",
      "        \"activation\": \"relu\",\n",
      "        \"log\": false\n",
      "    },\n",
      "    \"output_layer\": {\n",
      "        \"units\": 1,\n",
      "        \"activation\": null,\n",
      "        \"log\": false\n",
      "    }\n",
      "}\n",
      "INFO:Estimator:Loading sequences from ../../workspace/sequences_with_checkup_3-12_dict.pickle\n",
      "INFO:Estimator:Removing 2 checkups from sequences\n",
      "INFO:Estimator:Loading features from ../../data/clinical_feature_segmentation/longitudinal_features_statistics.csv\n",
      "/Users/hannah.spitzer/opt/miniconda3/envs/lode/lib/python3.7/site-packages/numpy/lib/arraysetops.py:569: FutureWarning: elementwise comparison failed; returning scalar instead, but in the future will perform elementwise comparison\n",
      "  mask |= (ar1 == a)\n",
      "INFO:Estimator:Adding features to sequences\n",
      "100%|██████████| 6284/6284 [00:12<00:00, 501.80it/s]\n",
      "INFO:Estimator:Splitting sequences of len 3-None into 0.8 train, 0.1 val (seed 42)\n",
      "INFO:Estimator:Split sequences in 3654 train (76.3%), 505 val (10.5%), 629 test (13.1%)\n"
     ]
    },
    {
     "name": "stdout",
     "output_type": "stream",
     "text": [
      "resulting norm values [None, None, None, None, None]\n"
     ]
    },
    {
     "name": "stderr",
     "output_type": "stream",
     "text": [
      "INFO:Estimator:Creating <class 'models.SimpleANNModel'> model with iputs [<IOVar.CUR_VA: 'cur_va'>, <IOVar.INJ_SHORT: 'inj_short'>, <IOVar.LENS_SURGERY: 'lens_surgery'>, <IOVar.ALL_FEATURES: 'all_features'>] and outputs [<IOVar.CHECKUP2_CUR_VA: 'checkup2_cur_va'>]\n",
      "INFO:SimpleANNModel:{\n",
      "    \"encoder_layers\": {\n",
      "        \"num_layers\": 0,\n",
      "        \"units\": 32,\n",
      "        \"activation\": \"relu\",\n",
      "        \"log\": false\n",
      "    },\n",
      "    \"dense_layers\": {\n",
      "        \"num_layers\": 2,\n",
      "        \"units\": 64,\n",
      "        \"activation\": \"relu\",\n",
      "        \"log\": false\n",
      "    },\n",
      "    \"decoder_layers\": {\n",
      "        \"num_layers\": 0,\n",
      "        \"units\": 32,\n",
      "        \"activation\": \"relu\",\n",
      "        \"log\": false\n",
      "    },\n",
      "    \"output_layer\": {\n",
      "        \"units\": 1,\n",
      "        \"activation\": null,\n",
      "        \"log\": false\n",
      "    }\n",
      "}\n"
     ]
    }
   ],
   "source": [
    "res_dict_hard['train_all_12'] = {}\n",
    "res_dict_all['train_all_12'] = {}\n",
    "\n",
    "for sl in [1,2,3,4,5]:\n",
    "    cur_config['model']['sequence_length'] = sl\n",
    "    est = Estimator(cur_config)\n",
    "    # train model\n",
    "    history = est.train_model(verbose=0)\n",
    "    y_pred = est.predict_model(est.val_dataset)\n",
    "    # save mae on hard subset\n",
    "    res_dict_hard['train_all_12'][f'sl_{sl}'] = losses.mae_last_numpy(y_true_12[cls_label_12!=2], y_pred[cls_label_12!=2])\n",
    "    res_dict_all['train_all_12'][f'sl_{sl}'] = losses.mae_last_numpy(y_true_12, y_pred)\n"
   ]
  },
  {
   "cell_type": "code",
   "execution_count": 30,
   "metadata": {},
   "outputs": [
    {
     "data": {
      "text/plain": [
       "Text(0.5, 1.0, 'evaluation on all')"
      ]
     },
     "execution_count": 30,
     "metadata": {},
     "output_type": "execute_result"
    },
    {
     "data": {
      "image/png": "[encoded data removed]",
      "text/plain": [
       "<Figure size 432x288 with 2 Axes>"
      ]
     },
     "metadata": {
      "needs_background": "light"
     },
     "output_type": "display_data"
    }
   ],
   "source": [
    "fig, axes = plt.subplots(1,2)\n",
    "for ax, res_dict in zip(axes, [res_dict_hard, res_dict_all]):\n",
    "    xs = np.arange(0,len(res_dict['train_all']),1)\n",
    "    ax.bar(xs, list(res_dict['train_all_12'].values())[:3], width=0.3, label='training on all (12mo)')\n",
    "    ax.bar(xs+0.4, res_dict['train_all'].values(), width=0.3, label='training on all (3mo)')\n",
    "    ax.set_xticks(xs+0.2)\n",
    "    ax.plot([0,len(res_dict['train_all'])],[baseline_mae_hard_12, baseline_mae_hard_12], color='darkblue', label='hard baseline mae')\n",
    "    ax.plot([0,len(res_dict['train_all'])],[baseline_mae_easy_12, baseline_mae_easy_12], color='lightblue', label='baseline mae easy (mean)')\n",
    "    ax.set_ylabel('mae')\n",
    "axes[-1].legend()\n",
    "axes[0].set_title('evaluation on hard')\n",
    "axes[1].set_title('evaluation on all')"
   ]
  },
  {
   "cell_type": "markdown",
   "metadata": {},
   "source": [
    "12 mo task is harder, but at least sl > 1 models can beat prediction of mean baseline"
   ]
  },
  {
   "cell_type": "markdown",
   "metadata": {},
   "source": [
    "### Train without current VA"
   ]
  },
  {
   "cell_type": "code",
   "execution_count": null,
   "metadata": {},
   "outputs": [],
   "source": [
    "cur_config = deepcopy(default_config)\n",
    "cur_config['sequence_data']['load_sequences'] = True\n",
    "cur_config['sequence_data']['sequences_fname'] = os.path.join(workspace_dir, 'sequences_with_checkup_3-12_dict.pickle')\n",
    "cur_config['sequence_data']['num_checkups'] =  2\n",
    "cur_config['model']['output_vars'] = [IOVar.CHECKUP1_CUR_VA]\n",
    "cur_config['input_vars'] = [IOVar.INJ_SHORT,IOVar.LENS_SURGERY,IOVar.ALL_FEATURES]\n",
    "cur_config['model']['sequence_length'] = 2\n",
    "\n",
    "est = Estimator(cur_config)\n",
    "# train model\n",
    "history = est.train_model(verbose=0)\n",
    "y_pred = est.predict_model(est.val_dataset)\n",
    "# save mae on hard subset\n",
    "res_dict_hard['train_all_12'][f'no_cur_va'] = losses.mae_last_numpy(y_true_12[cls_label_12!=2], y_pred[cls_label_12!=2])\n",
    "res_dict_all['train_all_12'][f'no_cur_va'] = losses.mae_last_numpy(y_true_12, y_pred)\n",
    "\n"
   ]
  },
  {
   "cell_type": "code",
   "execution_count": 35,
   "metadata": {},
   "outputs": [
    {
     "data": {
      "text/plain": [
       "Text(0.5, 1.0, 'evaluation on all')"
      ]
     },
     "execution_count": 35,
     "metadata": {},
     "output_type": "execute_result"
    },
    {
     "data": {
      "image/png": "[encoded data removed]",
      "text/plain": [
       "<Figure size 432x288 with 2 Axes>"
      ]
     },
     "metadata": {
      "needs_background": "light"
     },
     "output_type": "display_data"
    }
   ],
   "source": [
    "fig, axes = plt.subplots(1,2)\n",
    "for ax, res_dict in zip(axes, [res_dict_hard, res_dict_all]):\n",
    "    xs = np.arange(0,len(res_dict['train_all_12']),1)\n",
    "    ax.bar(xs, list(res_dict['train_all_12'].values()), width=0.3, label='training on all (12mo)')\n",
    "    #ax.bar(xs+0.4, res_dict['train_all'].values(), width=0.3, label='training on all (3mo)')\n",
    "    ax.set_xticks(xs+0.2)\n",
    "    ax.set_xticklabels(res_dict['train_all_12'].keys())\n",
    "    ax.plot([0,len(res_dict['train_all'])],[baseline_mae_hard_12, baseline_mae_hard_12], color='darkblue', label='hard baseline mae')\n",
    "    ax.plot([0,len(res_dict['train_all'])],[baseline_mae_easy_12, baseline_mae_easy_12], color='lightblue', label='baseline mae easy (mean)')\n",
    "    ax.set_ylabel('mae')\n",
    "axes[-1].legend()\n",
    "axes[0].set_title('evaluation on hard')\n",
    "axes[1].set_title('evaluation on all')"
   ]
  },
  {
   "cell_type": "code",
   "execution_count": 36,
   "metadata": {},
   "outputs": [
    {
     "name": "stdout",
     "output_type": "stream",
     "text": [
      "[37] of 505 predictions are > than 0.15logMAR\n"
     ]
    },
    {
     "data": {
      "image/png": "[encoded data removed]",
      "text/plain": [
       "<Figure size 432x288 with 1 Axes>"
      ]
     },
     "metadata": {
      "needs_background": "light"
     },
     "output_type": "display_data"
    }
   ],
   "source": [
    "# plot difference between predicted va and current va (are there large differences?)\n",
    "diff_baseline_pred = np.abs(baseline_pred_12[:,-1] - y_pred[:,-1])\n",
    "plt.hist(diff_baseline_pred)\n",
    "print(\"{} of {} predictions are > than 0.15logMAR\".format(sum(diff_baseline_pred>0.15), len(diff_baseline_pred)))"
   ]
  },
  {
   "cell_type": "markdown",
   "metadata": {},
   "source": [
    "training withouut current va works as well (similar performance for 12 mo forecasting), but overall only few patients have larger differences that 0.15logMAR (noise threshold)"
   ]
  },
  {
   "cell_type": "code",
   "execution_count": 46,
   "metadata": {},
   "outputs": [
    {
     "name": "stdout",
     "output_type": "stream",
     "text": [
      "[207] of 505 differences are > than 0.15logMAR\n"
     ]
    },
    {
     "data": {
      "image/png": "[encoded data removed]",
      "text/plain": [
       "<Figure size 432x288 with 1 Axes>"
      ]
     },
     "metadata": {
      "needs_background": "light"
     },
     "output_type": "display_data"
    }
   ],
   "source": [
    "# plot difference between predicted va and true va (are differences mostly < 0.15, the error threshold?)\n",
    "diff_pred_true = np.abs(y_true_12[:,-1] - y_pred[:,-1])\n",
    "plt.hist(diff_pred_true, bins=np.arange(0,1.5,0.15))\n",
    "# also stratify by true difference < 0.15 and >= 0.15\n",
    "diff_baseline_true = np.abs(y_true_12[:,-1] - baseline_pred_12[:,-1])\n",
    "plt.hist(diff_pred_true[diff_baseline_true<0.15], label='errors when change was very small', bins=np.arange(0,1.5,0.15), alpha=0.5)\n",
    "plt.hist(diff_pred_true[diff_baseline_true>=0.15], label='errors when change was large', bins=np.arange(0,1.5,0.15), alpha=0.5)\n",
    "plt.legend()\n",
    "print(\"{} of {} differences are > than 0.15logMAR\".format(sum(diff_pred_true>0.15), len(diff_pred_true)))"
   ]
  },
  {
   "cell_type": "markdown",
   "metadata": {},
   "source": [
    " about 1/2 of all predictions are > 0.15, and are thus incorrect!"
   ]
  },
  {
   "cell_type": "code",
   "execution_count": 40,
   "metadata": {},
   "outputs": [
    {
     "name": "stdout",
     "output_type": "stream",
     "text": [
      "[202] of 505 differences are > than 0.15logMAR\n"
     ]
    },
    {
     "data": {
      "image/png": "[encoded data removed]",
      "text/plain": [
       "<Figure size 432x288 with 1 Axes>"
      ]
     },
     "metadata": {
      "needs_background": "light"
     },
     "output_type": "display_data"
    }
   ],
   "source": [
    "# plot difference between true va and baseline va (are differences mostly < 0.15, the error threshold?)\n",
    "diff_baseline_pred = np.abs(y_true_12[:,-1] - baseline_pred_12[:,-1])\n",
    "plt.hist(diff_baseline_pred)\n",
    "print(\"{} of {} differences are > than 0.15logMAR\".format(sum(diff_baseline_pred>0.15), len(diff_baseline_pred)))"
   ]
  },
  {
   "cell_type": "markdown",
   "metadata": {},
   "source": [
    "## Other loss function for regression that does not penalize errors < 0.15\n",
    "- thresholded_mse_last\n",
    "- also implement thresholded_mae_last metric, which can actually reach 0! "
   ]
  },
  {
   "cell_type": "code",
   "execution_count": 4,
   "metadata": {},
   "outputs": [
    {
     "name": "stdout",
     "output_type": "stream",
     "text": [
      "[0.         0.05555556 0.11111111 0.16666667 0.22222222 0.27777778\n",
      " 0.33333333 0.38888889 0.44444444 0.5       ]\n",
      "[0.         0.         0.         0.00027778 0.00521605 0.01632716\n",
      " 0.03361111 0.0570679  0.08669753 0.1225    ]\n"
     ]
    },
    {
     "data": {
      "image/png": "[encoded data removed]",
      "text/plain": [
       "<Figure size 432x288 with 1 Axes>"
      ]
     },
     "metadata": {
      "needs_background": "light"
     },
     "output_type": "display_data"
    }
   ],
   "source": [
    "y_true = np.zeros((10))\n",
    "y_pred = np.linspace(0,0.5,10)\n",
    "fig, ax = plt.subplots(1,1)\n",
    "ax.plot(np.abs(y_true - y_pred), losses.thresholded_mse_last(0.15)(y_true, y_pred).numpy())\n",
    "ax.set_aspect('auto')\n",
    "print(y_pred)\n",
    "print(losses.thresholded_mse_last(0.15)(y_true, y_pred).numpy())"
   ]
  },
  {
   "cell_type": "code",
   "execution_count": 34,
   "metadata": {},
   "outputs": [],
   "source": [
    "cur_config = deepcopy(default_config)\n",
    "cur_config['sequence_data']['load_sequences'] = True\n",
    "cur_config['sequence_data']['sequences_fname'] = os.path.join(workspace_dir, 'sequences_with_checkup_3-12_dict.pickle')\n",
    "cur_config['sequence_data']['num_checkups'] =  2\n",
    "cur_config['model']['output_vars'] = [IOVar.CHECKUP2_CUR_VA]\n",
    "cur_config['training']['loss'] = losses.thresholded_mse_last(0.15)\n",
    "cur_config['training']['metrics'] = [losses.thresholded_mae_last(0.15)]\n",
    "cur_config['model']['sequence_length'] = 2"
   ]
  },
  {
   "cell_type": "code",
   "execution_count": 35,
   "metadata": {
    "collapsed": true,
    "jupyter": {
     "outputs_hidden": true
    }
   },
   "outputs": [
    {
     "name": "stderr",
     "output_type": "stream",
     "text": [
      "INFO:Estimator:Loading sequences from ../../workspace/sequences_with_checkup_3-12_dict.pickle\n",
      "INFO:Estimator:Removing 2 checkups from sequences\n",
      "INFO:Estimator:Loading features from ../../data/clinical_feature_segmentation/longitudinal_features_statistics.csv\n",
      "INFO:Estimator:Adding features to sequences\n",
      "100%|██████████| 6284/6284 [00:12<00:00, 502.35it/s]\n",
      "INFO:Estimator:Splitting sequences of len 3-None into 0.8 train, 0.1 val (seed 42)\n",
      "INFO:Estimator:Split sequences in 3654 train (76.3%), 505 val (10.5%), 629 test (13.1%)\n"
     ]
    },
    {
     "name": "stdout",
     "output_type": "stream",
     "text": [
      "resulting norm values [None, None, None, None, None]\n"
     ]
    },
    {
     "name": "stderr",
     "output_type": "stream",
     "text": [
      "INFO:Estimator:Creating <class 'models.SimpleANNModel'> model with iputs [<IOVar.CUR_VA: 'cur_va'>, <IOVar.INJ_SHORT: 'inj_short'>, <IOVar.LENS_SURGERY: 'lens_surgery'>, <IOVar.ALL_FEATURES: 'all_features'>] and outputs [<IOVar.CHECKUP2_CUR_VA: 'checkup2_cur_va'>]\n",
      "INFO:SimpleANNModel:{\n",
      "    \"encoder_layers\": {\n",
      "        \"num_layers\": 0,\n",
      "        \"units\": 32,\n",
      "        \"activation\": \"relu\",\n",
      "        \"log\": false\n",
      "    },\n",
      "    \"dense_layers\": {\n",
      "        \"num_layers\": 2,\n",
      "        \"units\": 64,\n",
      "        \"activation\": \"relu\",\n",
      "        \"log\": false\n",
      "    },\n",
      "    \"decoder_layers\": {\n",
      "        \"num_layers\": 0,\n",
      "        \"units\": 32,\n",
      "        \"activation\": \"relu\",\n",
      "        \"log\": false\n",
      "    },\n",
      "    \"output_layer\": {\n",
      "        \"units\": 1,\n",
      "        \"activation\": null,\n",
      "        \"log\": false\n",
      "    }\n",
      "}\n"
     ]
    }
   ],
   "source": [
    "# get baseline mae for 12 month target\n",
    "est = Estimator(cur_config)\n",
    "default_val_dataset = LongitudinalOCTDataset(est.val_dataset.sequences, \n",
    "                                             return_values=[IOVar.CUR_VA, IOVar.CHECKUP2_CUR_VA, IOVar.CHECKUP2_DIFF_VA_CLASS],\n",
    "                                             norm = est.val_dataset.norm, \n",
    "                                             sequence_length=est.val_dataset.sequence_length,\n",
    "                                             num_inputs=est.val_dataset.num_inputs,\n",
    "                                             num_parallel_calls=est.val_dataset.num_parallel_calls)\n",
    "baseline_pred_12, y_true_12, cls_label_12 = default_val_dataset.get_value_list([IOVar.CUR_VA, IOVar.CHECKUP2_CUR_VA, IOVar.CHECKUP2_DIFF_VA_CLASS], batch_size=512)\n",
    "cls_label_12 = np.argmax(cls_label_12[:,-1], axis=-1)\n",
    "\n",
    "# baseline: predict current va as next va\n",
    "baseline_mae_12 = losses.thresholded_mae_last_numpy(y_true_12, baseline_pred_12)    \n",
    "\n",
    "# hard baseline: predict current va as next va - only using hard examples that change a lot\n",
    "baseline_mae_hard_12 = losses.thresholded_mae_last_numpy(y_true_12[cls_label_12!=2], baseline_pred_12[cls_label_12!=2])\n",
    "\n",
    "# easy baseline: predict mean of all next vas (in train) as next va\n",
    "mean_y_true_train = np.mean(est.train_dataset.get_value_list([IOVar.CHECKUP2_CUR_VA])[0][:,-1,0])\n",
    "baseline_mae_easy_12 = losses.thresholded_mae_last_numpy(y_true_12, np.array([[mean_y_true_train]]))"
   ]
  },
  {
   "cell_type": "code",
   "execution_count": 40,
   "metadata": {
    "collapsed": true,
    "jupyter": {
     "outputs_hidden": true
    }
   },
   "outputs": [
    {
     "name": "stderr",
     "output_type": "stream",
     "text": [
      "INFO:Estimator:Loading sequences from ../../workspace/sequences_with_checkup_3-12_dict.pickle\n",
      "INFO:Estimator:Removing 2 checkups from sequences\n",
      "INFO:Estimator:Loading features from ../../data/clinical_feature_segmentation/longitudinal_features_statistics.csv\n",
      "INFO:Estimator:Adding features to sequences\n",
      "100%|██████████| 6284/6284 [00:12<00:00, 502.11it/s]\n",
      "INFO:Estimator:Splitting sequences of len 3-None into 0.8 train, 0.1 val (seed 42)\n",
      "INFO:Estimator:Split sequences in 3654 train (76.3%), 505 val (10.5%), 629 test (13.1%)\n"
     ]
    },
    {
     "name": "stdout",
     "output_type": "stream",
     "text": [
      "resulting norm values [None, None, None, None, None]\n"
     ]
    },
    {
     "name": "stderr",
     "output_type": "stream",
     "text": [
      "INFO:Estimator:Creating <class 'models.SimpleANNModel'> model with iputs [<IOVar.CUR_VA: 'cur_va'>, <IOVar.INJ_SHORT: 'inj_short'>, <IOVar.LENS_SURGERY: 'lens_surgery'>, <IOVar.ALL_FEATURES: 'all_features'>] and outputs [<IOVar.CHECKUP2_CUR_VA: 'checkup2_cur_va'>]\n",
      "INFO:SimpleANNModel:{\n",
      "    \"encoder_layers\": {\n",
      "        \"num_layers\": 0,\n",
      "        \"units\": 32,\n",
      "        \"activation\": \"relu\",\n",
      "        \"log\": false\n",
      "    },\n",
      "    \"dense_layers\": {\n",
      "        \"num_layers\": 2,\n",
      "        \"units\": 64,\n",
      "        \"activation\": \"relu\",\n",
      "        \"log\": false\n",
      "    },\n",
      "    \"decoder_layers\": {\n",
      "        \"num_layers\": 0,\n",
      "        \"units\": 32,\n",
      "        \"activation\": \"relu\",\n",
      "        \"log\": false\n",
      "    },\n",
      "    \"output_layer\": {\n",
      "        \"units\": 1,\n",
      "        \"activation\": null,\n",
      "        \"log\": false\n",
      "    }\n",
      "}\n"
     ]
    },
    {
     "name": "stdout",
     "output_type": "stream",
     "text": [
      "Epoch 1/30\n",
      "8/8 [==============================] - 1s 120ms/step - loss: 0.3575 - thresholded_mae_last_fn: 0.4529 - val_loss: 0.1383 - val_thresholded_mae_last_fn: 0.2184\n",
      "Epoch 2/30\n",
      "8/8 [==============================] - 1s 64ms/step - loss: 0.0591 - thresholded_mae_last_fn: 0.1501 - val_loss: 0.0520 - val_thresholded_mae_last_fn: 0.1133\n",
      "Epoch 3/30\n",
      "8/8 [==============================] - 0s 61ms/step - loss: 0.0323 - thresholded_mae_last_fn: 0.0896 - val_loss: 0.0403 - val_thresholded_mae_last_fn: 0.1285\n",
      "Epoch 4/30\n",
      "8/8 [==============================] - 0s 62ms/step - loss: 0.0249 - thresholded_mae_last_fn: 0.0798 - val_loss: 0.0346 - val_thresholded_mae_last_fn: 0.0829\n",
      "Epoch 5/30\n",
      "8/8 [==============================] - 0s 62ms/step - loss: 0.0204 - thresholded_mae_last_fn: 0.0594 - val_loss: 0.0300 - val_thresholded_mae_last_fn: 0.0784\n",
      "Epoch 6/30\n",
      "8/8 [==============================] - 0s 61ms/step - loss: 0.0194 - thresholded_mae_last_fn: 0.0536 - val_loss: 0.0292 - val_thresholded_mae_last_fn: 0.0860\n",
      "Epoch 7/30\n",
      "8/8 [==============================] - 0s 62ms/step - loss: 0.0191 - thresholded_mae_last_fn: 0.0581 - val_loss: 0.0299 - val_thresholded_mae_last_fn: 0.0759\n",
      "Epoch 8/30\n",
      "8/8 [==============================] - 1s 64ms/step - loss: 0.0183 - thresholded_mae_last_fn: 0.0525 - val_loss: 0.0283 - val_thresholded_mae_last_fn: 0.0790\n",
      "Epoch 9/30\n",
      "8/8 [==============================] - 0s 62ms/step - loss: 0.0181 - thresholded_mae_last_fn: 0.0523 - val_loss: 0.0279 - val_thresholded_mae_last_fn: 0.0807\n",
      "Epoch 10/30\n",
      "8/8 [==============================] - 0s 62ms/step - loss: 0.0180 - thresholded_mae_last_fn: 0.0542 - val_loss: 0.0285 - val_thresholded_mae_last_fn: 0.0763\n",
      "Epoch 11/30\n",
      "8/8 [==============================] - 0s 61ms/step - loss: 0.0176 - thresholded_mae_last_fn: 0.0516 - val_loss: 0.0280 - val_thresholded_mae_last_fn: 0.0772\n",
      "Epoch 12/30\n",
      "8/8 [==============================] - 0s 60ms/step - loss: 0.0175 - thresholded_mae_last_fn: 0.0517 - val_loss: 0.0277 - val_thresholded_mae_last_fn: 0.0789\n",
      "Epoch 13/30\n",
      "8/8 [==============================] - 0s 60ms/step - loss: 0.0175 - thresholded_mae_last_fn: 0.0520 - val_loss: 0.0279 - val_thresholded_mae_last_fn: 0.0782\n",
      "Epoch 14/30\n",
      "8/8 [==============================] - 0s 61ms/step - loss: 0.0174 - thresholded_mae_last_fn: 0.0521 - val_loss: 0.0279 - val_thresholded_mae_last_fn: 0.0779\n",
      "Epoch 15/30\n",
      "8/8 [==============================] - 0s 61ms/step - loss: 0.0173 - thresholded_mae_last_fn: 0.0519 - val_loss: 0.0279 - val_thresholded_mae_last_fn: 0.0781\n",
      "Epoch 16/30\n",
      "8/8 [==============================] - 0s 61ms/step - loss: 0.0173 - thresholded_mae_last_fn: 0.0515 - val_loss: 0.0278 - val_thresholded_mae_last_fn: 0.0789\n",
      "Epoch 17/30\n",
      "8/8 [==============================] - 0s 62ms/step - loss: 0.0172 - thresholded_mae_last_fn: 0.0516 - val_loss: 0.0278 - val_thresholded_mae_last_fn: 0.0796\n",
      "Epoch 18/30\n",
      "8/8 [==============================] - 1s 69ms/step - loss: 0.0172 - thresholded_mae_last_fn: 0.0517 - val_loss: 0.0278 - val_thresholded_mae_last_fn: 0.0803\n",
      "Epoch 19/30\n",
      "8/8 [==============================] - 1s 66ms/step - loss: 0.0172 - thresholded_mae_last_fn: 0.0519 - val_loss: 0.0278 - val_thresholded_mae_last_fn: 0.0808\n",
      "Epoch 20/30\n",
      "8/8 [==============================] - 1s 67ms/step - loss: 0.0172 - thresholded_mae_last_fn: 0.0520 - val_loss: 0.0277 - val_thresholded_mae_last_fn: 0.0810\n",
      "Epoch 21/30\n",
      "8/8 [==============================] - 1s 70ms/step - loss: 0.0172 - thresholded_mae_last_fn: 0.0521 - val_loss: 0.0278 - val_thresholded_mae_last_fn: 0.0814\n",
      "Epoch 22/30\n",
      "8/8 [==============================] - 1s 70ms/step - loss: 0.0172 - thresholded_mae_last_fn: 0.0519 - val_loss: 0.0278 - val_thresholded_mae_last_fn: 0.0820\n",
      "Epoch 23/30\n",
      "8/8 [==============================] - 1s 69ms/step - loss: 0.0172 - thresholded_mae_last_fn: 0.0524 - val_loss: 0.0278 - val_thresholded_mae_last_fn: 0.0826\n",
      "Epoch 24/30\n",
      "8/8 [==============================] - 1s 68ms/step - loss: 0.0172 - thresholded_mae_last_fn: 0.0523 - val_loss: 0.0278 - val_thresholded_mae_last_fn: 0.0831\n",
      "Epoch 25/30\n",
      "8/8 [==============================] - 1s 65ms/step - loss: 0.0172 - thresholded_mae_last_fn: 0.0525 - val_loss: 0.0279 - val_thresholded_mae_last_fn: 0.0839\n",
      "Epoch 26/30\n",
      "8/8 [==============================] - 1s 63ms/step - loss: 0.0172 - thresholded_mae_last_fn: 0.0525 - val_loss: 0.0281 - val_thresholded_mae_last_fn: 0.0848\n",
      "Epoch 27/30\n",
      "8/8 [==============================] - 1s 64ms/step - loss: 0.0172 - thresholded_mae_last_fn: 0.0526 - val_loss: 0.0280 - val_thresholded_mae_last_fn: 0.0854\n",
      "Epoch 28/30\n",
      "8/8 [==============================] - 1s 64ms/step - loss: 0.0173 - thresholded_mae_last_fn: 0.0531 - val_loss: 0.0282 - val_thresholded_mae_last_fn: 0.0859\n",
      "Epoch 29/30\n",
      "8/8 [==============================] - 1s 67ms/step - loss: 0.0173 - thresholded_mae_last_fn: 0.0531 - val_loss: 0.0282 - val_thresholded_mae_last_fn: 0.0862\n",
      "Epoch 30/30\n",
      "8/8 [==============================] - 1s 65ms/step - loss: 0.0173 - thresholded_mae_last_fn: 0.0534 - val_loss: 0.0284 - val_thresholded_mae_last_fn: 0.0862\n"
     ]
    },
    {
     "name": "stderr",
     "output_type": "stream",
     "text": [
      "INFO:Estimator:Loading sequences from ../../workspace/sequences_with_checkup_3-12_dict.pickle\n",
      "INFO:Estimator:Removing 2 checkups from sequences\n",
      "INFO:Estimator:Loading features from ../../data/clinical_feature_segmentation/longitudinal_features_statistics.csv\n",
      "/Users/hannah.spitzer/opt/miniconda3/envs/lode/lib/python3.7/site-packages/numpy/lib/arraysetops.py:569: FutureWarning: elementwise comparison failed; returning scalar instead, but in the future will perform elementwise comparison\n",
      "  mask |= (ar1 == a)\n",
      "INFO:Estimator:Adding features to sequences\n",
      "100%|██████████| 6284/6284 [00:12<00:00, 490.85it/s]\n",
      "INFO:Estimator:Splitting sequences of len 3-None into 0.8 train, 0.1 val (seed 42)\n",
      "INFO:Estimator:Split sequences in 3654 train (76.3%), 505 val (10.5%), 629 test (13.1%)\n"
     ]
    },
    {
     "name": "stdout",
     "output_type": "stream",
     "text": [
      "resulting norm values [None, None, None, None, None]\n"
     ]
    },
    {
     "name": "stderr",
     "output_type": "stream",
     "text": [
      "INFO:Estimator:Creating <class 'models.SimpleANNModel'> model with iputs [<IOVar.CUR_VA: 'cur_va'>, <IOVar.INJ_SHORT: 'inj_short'>, <IOVar.LENS_SURGERY: 'lens_surgery'>, <IOVar.ALL_FEATURES: 'all_features'>] and outputs [<IOVar.CHECKUP2_CUR_VA: 'checkup2_cur_va'>]\n",
      "INFO:SimpleANNModel:{\n",
      "    \"encoder_layers\": {\n",
      "        \"num_layers\": 0,\n",
      "        \"units\": 32,\n",
      "        \"activation\": \"relu\",\n",
      "        \"log\": false\n",
      "    },\n",
      "    \"dense_layers\": {\n",
      "        \"num_layers\": 2,\n",
      "        \"units\": 64,\n",
      "        \"activation\": \"relu\",\n",
      "        \"log\": false\n",
      "    },\n",
      "    \"decoder_layers\": {\n",
      "        \"num_layers\": 0,\n",
      "        \"units\": 32,\n",
      "        \"activation\": \"relu\",\n",
      "        \"log\": false\n",
      "    },\n",
      "    \"output_layer\": {\n",
      "        \"units\": 1,\n",
      "        \"activation\": null,\n",
      "        \"log\": false\n",
      "    }\n",
      "}\n"
     ]
    },
    {
     "name": "stdout",
     "output_type": "stream",
     "text": [
      "Epoch 1/30\n",
      "8/8 [==============================] - 1s 100ms/step - loss: 0.4284 - thresholded_mae_last_fn: 0.4503 - val_loss: 0.2279 - val_thresholded_mae_last_fn: 0.2279\n",
      "Epoch 2/30\n",
      "8/8 [==============================] - 0s 61ms/step - loss: 0.1844 - thresholded_mae_last_fn: 0.1875 - val_loss: 0.0966 - val_thresholded_mae_last_fn: 0.0966\n",
      "Epoch 3/30\n",
      "8/8 [==============================] - 1s 70ms/step - loss: 0.0868 - thresholded_mae_last_fn: 0.0879 - val_loss: 0.0830 - val_thresholded_mae_last_fn: 0.0830\n",
      "Epoch 4/30\n",
      "8/8 [==============================] - 0s 59ms/step - loss: 0.0656 - thresholded_mae_last_fn: 0.0655 - val_loss: 0.0763 - val_thresholded_mae_last_fn: 0.0763\n",
      "Epoch 5/30\n",
      "8/8 [==============================] - 0s 59ms/step - loss: 0.0560 - thresholded_mae_last_fn: 0.0551 - val_loss: 0.0757 - val_thresholded_mae_last_fn: 0.0757\n",
      "Epoch 6/30\n",
      "8/8 [==============================] - 0s 59ms/step - loss: 0.0518 - thresholded_mae_last_fn: 0.0508 - val_loss: 0.0744 - val_thresholded_mae_last_fn: 0.0744\n",
      "Epoch 7/30\n",
      "8/8 [==============================] - 0s 60ms/step - loss: 0.0504 - thresholded_mae_last_fn: 0.0496 - val_loss: 0.0732 - val_thresholded_mae_last_fn: 0.0732\n",
      "Epoch 8/30\n",
      "8/8 [==============================] - 1s 63ms/step - loss: 0.0495 - thresholded_mae_last_fn: 0.0486 - val_loss: 0.0731 - val_thresholded_mae_last_fn: 0.0731\n",
      "Epoch 9/30\n",
      "8/8 [==============================] - 0s 60ms/step - loss: 0.0490 - thresholded_mae_last_fn: 0.0482 - val_loss: 0.0724 - val_thresholded_mae_last_fn: 0.0724\n",
      "Epoch 10/30\n",
      "8/8 [==============================] - 0s 59ms/step - loss: 0.0485 - thresholded_mae_last_fn: 0.0477 - val_loss: 0.0725 - val_thresholded_mae_last_fn: 0.0725\n",
      "Epoch 11/30\n",
      "8/8 [==============================] - 0s 59ms/step - loss: 0.0483 - thresholded_mae_last_fn: 0.0477 - val_loss: 0.0730 - val_thresholded_mae_last_fn: 0.0730\n",
      "Epoch 12/30\n",
      "8/8 [==============================] - 1s 64ms/step - loss: 0.0485 - thresholded_mae_last_fn: 0.0477 - val_loss: 0.0731 - val_thresholded_mae_last_fn: 0.0731\n",
      "Epoch 13/30\n",
      "8/8 [==============================] - 1s 67ms/step - loss: 0.0477 - thresholded_mae_last_fn: 0.0471 - val_loss: 0.0734 - val_thresholded_mae_last_fn: 0.0734\n",
      "Epoch 14/30\n",
      "8/8 [==============================] - 1s 65ms/step - loss: 0.0476 - thresholded_mae_last_fn: 0.0470 - val_loss: 0.0730 - val_thresholded_mae_last_fn: 0.0730\n",
      "Epoch 15/30\n",
      "8/8 [==============================] - 1s 66ms/step - loss: 0.0473 - thresholded_mae_last_fn: 0.0467 - val_loss: 0.0739 - val_thresholded_mae_last_fn: 0.0739\n",
      "Epoch 16/30\n",
      "8/8 [==============================] - 1s 69ms/step - loss: 0.0477 - thresholded_mae_last_fn: 0.0470 - val_loss: 0.0727 - val_thresholded_mae_last_fn: 0.0727\n",
      "Epoch 17/30\n",
      "8/8 [==============================] - 1s 67ms/step - loss: 0.0478 - thresholded_mae_last_fn: 0.0471 - val_loss: 0.0737 - val_thresholded_mae_last_fn: 0.0737\n",
      "Epoch 18/30\n",
      "8/8 [==============================] - 1s 68ms/step - loss: 0.0472 - thresholded_mae_last_fn: 0.0466 - val_loss: 0.0735 - val_thresholded_mae_last_fn: 0.0735\n",
      "Epoch 19/30\n",
      "8/8 [==============================] - 1s 66ms/step - loss: 0.0468 - thresholded_mae_last_fn: 0.0463 - val_loss: 0.0738 - val_thresholded_mae_last_fn: 0.0738\n",
      "Epoch 20/30\n",
      "8/8 [==============================] - 1s 68ms/step - loss: 0.0471 - thresholded_mae_last_fn: 0.0465 - val_loss: 0.0739 - val_thresholded_mae_last_fn: 0.0739\n",
      "Epoch 21/30\n",
      "8/8 [==============================] - 1s 67ms/step - loss: 0.0465 - thresholded_mae_last_fn: 0.0459 - val_loss: 0.0757 - val_thresholded_mae_last_fn: 0.0757\n",
      "Epoch 22/30\n",
      "8/8 [==============================] - 1s 65ms/step - loss: 0.0468 - thresholded_mae_last_fn: 0.0464 - val_loss: 0.0743 - val_thresholded_mae_last_fn: 0.0743\n",
      "Epoch 23/30\n",
      "8/8 [==============================] - 1s 64ms/step - loss: 0.0463 - thresholded_mae_last_fn: 0.0457 - val_loss: 0.0767 - val_thresholded_mae_last_fn: 0.0767\n",
      "Epoch 24/30\n",
      "8/8 [==============================] - 0s 61ms/step - loss: 0.0470 - thresholded_mae_last_fn: 0.0466 - val_loss: 0.0751 - val_thresholded_mae_last_fn: 0.0751\n",
      "Epoch 25/30\n",
      "8/8 [==============================] - 0s 62ms/step - loss: 0.0467 - thresholded_mae_last_fn: 0.0460 - val_loss: 0.0768 - val_thresholded_mae_last_fn: 0.0768\n",
      "Epoch 26/30\n",
      "8/8 [==============================] - 1s 67ms/step - loss: 0.0467 - thresholded_mae_last_fn: 0.0463 - val_loss: 0.0748 - val_thresholded_mae_last_fn: 0.0748\n",
      "Epoch 27/30\n",
      "8/8 [==============================] - 1s 67ms/step - loss: 0.0468 - thresholded_mae_last_fn: 0.0461 - val_loss: 0.0777 - val_thresholded_mae_last_fn: 0.0777\n",
      "Epoch 28/30\n",
      "8/8 [==============================] - 1s 66ms/step - loss: 0.0468 - thresholded_mae_last_fn: 0.0465 - val_loss: 0.0739 - val_thresholded_mae_last_fn: 0.0739\n",
      "Epoch 29/30\n",
      "8/8 [==============================] - 1s 76ms/step - loss: 0.0462 - thresholded_mae_last_fn: 0.0457 - val_loss: 0.0793 - val_thresholded_mae_last_fn: 0.0793\n",
      "Epoch 30/30\n",
      "8/8 [==============================] - 1s 78ms/step - loss: 0.0466 - thresholded_mae_last_fn: 0.0465 - val_loss: 0.0757 - val_thresholded_mae_last_fn: 0.0757\n"
     ]
    },
    {
     "name": "stderr",
     "output_type": "stream",
     "text": [
      "INFO:Estimator:Loading sequences from ../../workspace/sequences_with_checkup_3-12_dict.pickle\n",
      "INFO:Estimator:Removing 2 checkups from sequences\n",
      "INFO:Estimator:Loading features from ../../data/clinical_feature_segmentation/longitudinal_features_statistics.csv\n",
      "/Users/hannah.spitzer/opt/miniconda3/envs/lode/lib/python3.7/site-packages/numpy/lib/arraysetops.py:569: FutureWarning: elementwise comparison failed; returning scalar instead, but in the future will perform elementwise comparison\n",
      "  mask |= (ar1 == a)\n",
      "INFO:Estimator:Adding features to sequences\n",
      "100%|██████████| 6284/6284 [00:14<00:00, 437.86it/s]\n",
      "INFO:Estimator:Splitting sequences of len 3-None into 0.8 train, 0.1 val (seed 42)\n",
      "INFO:Estimator:Split sequences in 3654 train (76.3%), 505 val (10.5%), 629 test (13.1%)\n"
     ]
    },
    {
     "name": "stdout",
     "output_type": "stream",
     "text": [
      "resulting norm values [None, None, None, None, None]\n"
     ]
    },
    {
     "name": "stderr",
     "output_type": "stream",
     "text": [
      "INFO:Estimator:Creating <class 'models.SimpleANNModel'> model with iputs [<IOVar.CUR_VA: 'cur_va'>, <IOVar.INJ_SHORT: 'inj_short'>, <IOVar.LENS_SURGERY: 'lens_surgery'>, <IOVar.ALL_FEATURES: 'all_features'>] and outputs [<IOVar.CHECKUP2_CUR_VA: 'checkup2_cur_va'>]\n",
      "INFO:SimpleANNModel:{\n",
      "    \"encoder_layers\": {\n",
      "        \"num_layers\": 0,\n",
      "        \"units\": 32,\n",
      "        \"activation\": \"relu\",\n",
      "        \"log\": false\n",
      "    },\n",
      "    \"dense_layers\": {\n",
      "        \"num_layers\": 2,\n",
      "        \"units\": 64,\n",
      "        \"activation\": \"relu\",\n",
      "        \"log\": false\n",
      "    },\n",
      "    \"decoder_layers\": {\n",
      "        \"num_layers\": 0,\n",
      "        \"units\": 32,\n",
      "        \"activation\": \"relu\",\n",
      "        \"log\": false\n",
      "    },\n",
      "    \"output_layer\": {\n",
      "        \"units\": 1,\n",
      "        \"activation\": null,\n",
      "        \"log\": false\n",
      "    }\n",
      "}\n"
     ]
    },
    {
     "name": "stdout",
     "output_type": "stream",
     "text": [
      "Epoch 1/30\n",
      "8/8 [==============================] - 1s 97ms/step - loss: 0.3754 - thresholded_mae_last_fn: 0.2578 - val_loss: 0.2298 - val_thresholded_mae_last_fn: 0.1171\n",
      "Epoch 2/30\n",
      "8/8 [==============================] - 1s 63ms/step - loss: 0.1956 - thresholded_mae_last_fn: 0.0849 - val_loss: 0.1797 - val_thresholded_mae_last_fn: 0.0757\n",
      "Epoch 3/30\n",
      "8/8 [==============================] - 1s 65ms/step - loss: 0.1578 - thresholded_mae_last_fn: 0.0567 - val_loss: 0.1816 - val_thresholded_mae_last_fn: 0.0789\n",
      "Epoch 4/30\n",
      "8/8 [==============================] - 1s 64ms/step - loss: 0.1551 - thresholded_mae_last_fn: 0.0560 - val_loss: 0.1846 - val_thresholded_mae_last_fn: 0.0818\n",
      "Epoch 5/30\n",
      "8/8 [==============================] - 1s 64ms/step - loss: 0.1500 - thresholded_mae_last_fn: 0.0522 - val_loss: 0.1852 - val_thresholded_mae_last_fn: 0.0799\n",
      "Epoch 6/30\n",
      "8/8 [==============================] - 1s 67ms/step - loss: 0.1445 - thresholded_mae_last_fn: 0.0498 - val_loss: 0.1800 - val_thresholded_mae_last_fn: 0.0775\n",
      "Epoch 7/30\n",
      "8/8 [==============================] - 1s 70ms/step - loss: 0.1466 - thresholded_mae_last_fn: 0.0504 - val_loss: 0.1805 - val_thresholded_mae_last_fn: 0.0776\n",
      "Epoch 8/30\n",
      "8/8 [==============================] - 1s 73ms/step - loss: 0.1507 - thresholded_mae_last_fn: 0.0523 - val_loss: 0.1832 - val_thresholded_mae_last_fn: 0.0789\n",
      "Epoch 9/30\n",
      "8/8 [==============================] - 1s 76ms/step - loss: 0.1474 - thresholded_mae_last_fn: 0.0515 - val_loss: 0.1826 - val_thresholded_mae_last_fn: 0.0795\n",
      "Epoch 10/30\n",
      "8/8 [==============================] - 1s 78ms/step - loss: 0.1460 - thresholded_mae_last_fn: 0.0505 - val_loss: 0.1800 - val_thresholded_mae_last_fn: 0.0766\n",
      "Epoch 11/30\n",
      "8/8 [==============================] - 1s 78ms/step - loss: 0.1462 - thresholded_mae_last_fn: 0.0507 - val_loss: 0.1783 - val_thresholded_mae_last_fn: 0.0766\n",
      "Epoch 12/30\n",
      "8/8 [==============================] - 1s 82ms/step - loss: 0.1487 - thresholded_mae_last_fn: 0.0518 - val_loss: 0.1847 - val_thresholded_mae_last_fn: 0.0797\n",
      "Epoch 13/30\n",
      "8/8 [==============================] - 1s 77ms/step - loss: 0.1456 - thresholded_mae_last_fn: 0.0506 - val_loss: 0.1858 - val_thresholded_mae_last_fn: 0.0814\n",
      "Epoch 14/30\n",
      "8/8 [==============================] - 1s 78ms/step - loss: 0.1454 - thresholded_mae_last_fn: 0.0508 - val_loss: 0.1773 - val_thresholded_mae_last_fn: 0.0751\n",
      "Epoch 15/30\n",
      "8/8 [==============================] - 1s 77ms/step - loss: 0.1412 - thresholded_mae_last_fn: 0.0484 - val_loss: 0.1803 - val_thresholded_mae_last_fn: 0.0771\n",
      "Epoch 16/30\n",
      "8/8 [==============================] - 1s 75ms/step - loss: 0.1415 - thresholded_mae_last_fn: 0.0486 - val_loss: 0.1756 - val_thresholded_mae_last_fn: 0.0739\n",
      "Epoch 17/30\n",
      "8/8 [==============================] - 1s 75ms/step - loss: 0.1409 - thresholded_mae_last_fn: 0.0484 - val_loss: 0.1753 - val_thresholded_mae_last_fn: 0.0739\n",
      "Epoch 18/30\n",
      "8/8 [==============================] - 1s 81ms/step - loss: 0.1440 - thresholded_mae_last_fn: 0.0492 - val_loss: 0.1806 - val_thresholded_mae_last_fn: 0.0776\n",
      "Epoch 19/30\n",
      "8/8 [==============================] - 1s 83ms/step - loss: 0.1449 - thresholded_mae_last_fn: 0.0500 - val_loss: 0.1823 - val_thresholded_mae_last_fn: 0.0789\n",
      "Epoch 20/30\n",
      "8/8 [==============================] - 1s 85ms/step - loss: 0.1433 - thresholded_mae_last_fn: 0.0496 - val_loss: 0.1797 - val_thresholded_mae_last_fn: 0.0772\n",
      "Epoch 21/30\n",
      "8/8 [==============================] - 1s 77ms/step - loss: 0.1437 - thresholded_mae_last_fn: 0.0495 - val_loss: 0.1828 - val_thresholded_mae_last_fn: 0.0790\n",
      "Epoch 22/30\n",
      "8/8 [==============================] - 1s 81ms/step - loss: 0.1433 - thresholded_mae_last_fn: 0.0492 - val_loss: 0.1866 - val_thresholded_mae_last_fn: 0.0817\n",
      "Epoch 23/30\n",
      "8/8 [==============================] - 1s 81ms/step - loss: 0.1432 - thresholded_mae_last_fn: 0.0498 - val_loss: 0.1851 - val_thresholded_mae_last_fn: 0.0815\n",
      "Epoch 24/30\n",
      "8/8 [==============================] - 1s 82ms/step - loss: 0.1445 - thresholded_mae_last_fn: 0.0499 - val_loss: 0.1872 - val_thresholded_mae_last_fn: 0.0828\n",
      "Epoch 25/30\n",
      "8/8 [==============================] - 1s 80ms/step - loss: 0.1451 - thresholded_mae_last_fn: 0.0500 - val_loss: 0.1794 - val_thresholded_mae_last_fn: 0.0770\n",
      "Epoch 26/30\n",
      "8/8 [==============================] - 1s 77ms/step - loss: 0.1385 - thresholded_mae_last_fn: 0.0471 - val_loss: 0.1782 - val_thresholded_mae_last_fn: 0.0760\n",
      "Epoch 27/30\n",
      "8/8 [==============================] - 1s 76ms/step - loss: 0.1420 - thresholded_mae_last_fn: 0.0484 - val_loss: 0.1812 - val_thresholded_mae_last_fn: 0.0782\n",
      "Epoch 28/30\n",
      "8/8 [==============================] - 1s 77ms/step - loss: 0.1428 - thresholded_mae_last_fn: 0.0489 - val_loss: 0.1835 - val_thresholded_mae_last_fn: 0.0797\n",
      "Epoch 29/30\n",
      "8/8 [==============================] - 1s 71ms/step - loss: 0.1430 - thresholded_mae_last_fn: 0.0494 - val_loss: 0.1836 - val_thresholded_mae_last_fn: 0.0804\n",
      "Epoch 30/30\n",
      "8/8 [==============================] - 1s 70ms/step - loss: 0.1424 - thresholded_mae_last_fn: 0.0491 - val_loss: 0.1904 - val_thresholded_mae_last_fn: 0.0848\n"
     ]
    },
    {
     "name": "stderr",
     "output_type": "stream",
     "text": [
      "INFO:Estimator:Loading sequences from ../../workspace/sequences_with_checkup_3-12_dict.pickle\n",
      "INFO:Estimator:Removing 2 checkups from sequences\n",
      "INFO:Estimator:Loading features from ../../data/clinical_feature_segmentation/longitudinal_features_statistics.csv\n",
      "/Users/hannah.spitzer/opt/miniconda3/envs/lode/lib/python3.7/site-packages/numpy/lib/arraysetops.py:569: FutureWarning: elementwise comparison failed; returning scalar instead, but in the future will perform elementwise comparison\n",
      "  mask |= (ar1 == a)\n",
      "INFO:Estimator:Adding features to sequences\n",
      "100%|██████████| 6284/6284 [00:12<00:00, 490.47it/s]\n",
      "INFO:Estimator:Splitting sequences of len 3-None into 0.8 train, 0.1 val (seed 42)\n",
      "INFO:Estimator:Split sequences in 3654 train (76.3%), 505 val (10.5%), 629 test (13.1%)\n"
     ]
    },
    {
     "name": "stdout",
     "output_type": "stream",
     "text": [
      "resulting norm values [None, None, None, None, None]\n"
     ]
    },
    {
     "name": "stderr",
     "output_type": "stream",
     "text": [
      "INFO:Estimator:Creating <class 'models.SimpleANNModel'> model with iputs [<IOVar.CUR_VA: 'cur_va'>, <IOVar.INJ_SHORT: 'inj_short'>, <IOVar.LENS_SURGERY: 'lens_surgery'>, <IOVar.ALL_FEATURES: 'all_features'>] and outputs [<IOVar.CHECKUP2_CUR_VA: 'checkup2_cur_va'>]\n",
      "INFO:SimpleANNModel:{\n",
      "    \"encoder_layers\": {\n",
      "        \"num_layers\": 0,\n",
      "        \"units\": 32,\n",
      "        \"activation\": \"relu\",\n",
      "        \"log\": false\n",
      "    },\n",
      "    \"dense_layers\": {\n",
      "        \"num_layers\": 2,\n",
      "        \"units\": 64,\n",
      "        \"activation\": \"relu\",\n",
      "        \"log\": false\n",
      "    },\n",
      "    \"decoder_layers\": {\n",
      "        \"num_layers\": 0,\n",
      "        \"units\": 32,\n",
      "        \"activation\": \"relu\",\n",
      "        \"log\": false\n",
      "    },\n",
      "    \"output_layer\": {\n",
      "        \"units\": 1,\n",
      "        \"activation\": null,\n",
      "        \"log\": false\n",
      "    }\n",
      "}\n"
     ]
    },
    {
     "name": "stdout",
     "output_type": "stream",
     "text": [
      "Epoch 1/30\n",
      "8/8 [==============================] - 1s 92ms/step - loss: 0.4840 - thresholded_mae_last_fn: 0.4315 - val_loss: 0.1181 - val_thresholded_mae_last_fn: 0.1465\n",
      "Epoch 2/30\n",
      "8/8 [==============================] - 1s 67ms/step - loss: 0.1270 - thresholded_mae_last_fn: 0.1590 - val_loss: 0.1231 - val_thresholded_mae_last_fn: 0.1379\n",
      "Epoch 3/30\n",
      "8/8 [==============================] - 1s 64ms/step - loss: 0.0739 - thresholded_mae_last_fn: 0.0936 - val_loss: 0.0738 - val_thresholded_mae_last_fn: 0.0833\n",
      "Epoch 4/30\n",
      "8/8 [==============================] - 0s 60ms/step - loss: 0.0571 - thresholded_mae_last_fn: 0.0645 - val_loss: 0.0642 - val_thresholded_mae_last_fn: 0.0788\n",
      "Epoch 5/30\n",
      "8/8 [==============================] - 0s 60ms/step - loss: 0.0513 - thresholded_mae_last_fn: 0.0567 - val_loss: 0.0616 - val_thresholded_mae_last_fn: 0.0736\n",
      "Epoch 6/30\n",
      "8/8 [==============================] - 0s 59ms/step - loss: 0.0494 - thresholded_mae_last_fn: 0.0543 - val_loss: 0.0635 - val_thresholded_mae_last_fn: 0.0725\n",
      "Epoch 7/30\n",
      "8/8 [==============================] - 0s 58ms/step - loss: 0.0474 - thresholded_mae_last_fn: 0.0511 - val_loss: 0.0636 - val_thresholded_mae_last_fn: 0.0729\n",
      "Epoch 8/30\n",
      "8/8 [==============================] - 0s 60ms/step - loss: 0.0466 - thresholded_mae_last_fn: 0.0500 - val_loss: 0.0617 - val_thresholded_mae_last_fn: 0.0718\n",
      "Epoch 9/30\n",
      "8/8 [==============================] - 0s 59ms/step - loss: 0.0462 - thresholded_mae_last_fn: 0.0494 - val_loss: 0.0612 - val_thresholded_mae_last_fn: 0.0723\n",
      "Epoch 10/30\n",
      "8/8 [==============================] - 0s 59ms/step - loss: 0.0461 - thresholded_mae_last_fn: 0.0494 - val_loss: 0.0612 - val_thresholded_mae_last_fn: 0.0726\n",
      "Epoch 11/30\n",
      "8/8 [==============================] - 0s 59ms/step - loss: 0.0460 - thresholded_mae_last_fn: 0.0494 - val_loss: 0.0613 - val_thresholded_mae_last_fn: 0.0727\n",
      "Epoch 12/30\n",
      "8/8 [==============================] - 0s 59ms/step - loss: 0.0459 - thresholded_mae_last_fn: 0.0493 - val_loss: 0.0615 - val_thresholded_mae_last_fn: 0.0730\n",
      "Epoch 13/30\n",
      "8/8 [==============================] - 0s 61ms/step - loss: 0.0458 - thresholded_mae_last_fn: 0.0491 - val_loss: 0.0618 - val_thresholded_mae_last_fn: 0.0737\n",
      "Epoch 14/30\n",
      "8/8 [==============================] - 0s 60ms/step - loss: 0.0458 - thresholded_mae_last_fn: 0.0491 - val_loss: 0.0621 - val_thresholded_mae_last_fn: 0.0743\n",
      "Epoch 15/30\n",
      "8/8 [==============================] - 0s 59ms/step - loss: 0.0457 - thresholded_mae_last_fn: 0.0491 - val_loss: 0.0624 - val_thresholded_mae_last_fn: 0.0749\n",
      "Epoch 16/30\n",
      "8/8 [==============================] - 0s 60ms/step - loss: 0.0457 - thresholded_mae_last_fn: 0.0491 - val_loss: 0.0628 - val_thresholded_mae_last_fn: 0.0756\n",
      "Epoch 17/30\n",
      "8/8 [==============================] - 0s 59ms/step - loss: 0.0457 - thresholded_mae_last_fn: 0.0491 - val_loss: 0.0633 - val_thresholded_mae_last_fn: 0.0766\n",
      "Epoch 18/30\n",
      "8/8 [==============================] - 0s 61ms/step - loss: 0.0456 - thresholded_mae_last_fn: 0.0491 - val_loss: 0.0638 - val_thresholded_mae_last_fn: 0.0772\n",
      "Epoch 19/30\n",
      "8/8 [==============================] - 1s 65ms/step - loss: 0.0455 - thresholded_mae_last_fn: 0.0490 - val_loss: 0.0642 - val_thresholded_mae_last_fn: 0.0778\n",
      "Epoch 20/30\n",
      "8/8 [==============================] - 1s 69ms/step - loss: 0.0454 - thresholded_mae_last_fn: 0.0489 - val_loss: 0.0646 - val_thresholded_mae_last_fn: 0.0782\n",
      "Epoch 21/30\n",
      "8/8 [==============================] - 1s 65ms/step - loss: 0.0452 - thresholded_mae_last_fn: 0.0487 - val_loss: 0.0652 - val_thresholded_mae_last_fn: 0.0785\n",
      "Epoch 22/30\n",
      "8/8 [==============================] - 1s 66ms/step - loss: 0.0450 - thresholded_mae_last_fn: 0.0485 - val_loss: 0.0658 - val_thresholded_mae_last_fn: 0.0789\n",
      "Epoch 23/30\n",
      "8/8 [==============================] - 1s 66ms/step - loss: 0.0448 - thresholded_mae_last_fn: 0.0483 - val_loss: 0.0665 - val_thresholded_mae_last_fn: 0.0795\n",
      "Epoch 24/30\n",
      "8/8 [==============================] - 1s 67ms/step - loss: 0.0445 - thresholded_mae_last_fn: 0.0480 - val_loss: 0.0664 - val_thresholded_mae_last_fn: 0.0786\n",
      "Epoch 25/30\n",
      "8/8 [==============================] - 1s 67ms/step - loss: 0.0443 - thresholded_mae_last_fn: 0.0478 - val_loss: 0.0678 - val_thresholded_mae_last_fn: 0.0798\n",
      "Epoch 26/30\n",
      "8/8 [==============================] - 1s 69ms/step - loss: 0.0440 - thresholded_mae_last_fn: 0.0475 - val_loss: 0.0682 - val_thresholded_mae_last_fn: 0.0798\n",
      "Epoch 27/30\n",
      "8/8 [==============================] - 1s 71ms/step - loss: 0.0439 - thresholded_mae_last_fn: 0.0473 - val_loss: 0.0685 - val_thresholded_mae_last_fn: 0.0797\n",
      "Epoch 28/30\n",
      "8/8 [==============================] - 1s 70ms/step - loss: 0.0436 - thresholded_mae_last_fn: 0.0470 - val_loss: 0.0686 - val_thresholded_mae_last_fn: 0.0793\n",
      "Epoch 29/30\n",
      "8/8 [==============================] - 1s 71ms/step - loss: 0.0434 - thresholded_mae_last_fn: 0.0467 - val_loss: 0.0695 - val_thresholded_mae_last_fn: 0.0803\n",
      "Epoch 30/30\n",
      "8/8 [==============================] - 1s 78ms/step - loss: 0.0433 - thresholded_mae_last_fn: 0.0466 - val_loss: 0.0694 - val_thresholded_mae_last_fn: 0.0802\n"
     ]
    }
   ],
   "source": [
    "# compare different loss functions\n",
    "res_dict = {'hard':{},'all':{}}\n",
    "for name, loss in [('thresholded_mse', losses.thresholded_mse_last(0.15)), ('thresholded_mae', losses.thresholded_mae_last(0.15)), \n",
    "                   ('mae', losses.mae_last), ('mse', losses.mse_last)]:\n",
    "    cur_config['training']['loss'] = loss\n",
    "    est = Estimator(cur_config)\n",
    "    # train model\n",
    "    history = est.train_model(verbose=1)\n",
    "    y_pred = est.predict_model(est.val_dataset)\n",
    "    res_dict['hard'][name] = losses.thresholded_mae_last_numpy(y_true_12[cls_label_12!=2], y_pred[cls_label_12!=2])\n",
    "    res_dict['all'][name] = losses.thresholded_mae_last_numpy(y_true_12, y_pred)"
   ]
  },
  {
   "cell_type": "code",
   "execution_count": 41,
   "metadata": {},
   "outputs": [
    {
     "data": {
      "text/plain": [
       "<matplotlib.legend.Legend at 0x199b96210>"
      ]
     },
     "execution_count": 41,
     "metadata": {},
     "output_type": "execute_result"
    },
    {
     "data": {
      "image/png": "[encoded data removed]",
      "text/plain": [
       "<Figure size 432x288 with 2 Axes>"
      ]
     },
     "metadata": {
      "needs_background": "light"
     },
     "output_type": "display_data"
    }
   ],
   "source": [
    "fig, axes = plt.subplots(1,2)\n",
    "for ax, key in zip(axes, ['hard', 'all']):\n",
    "    xs = np.arange(0,len(res_dict[key].values()),1)\n",
    "    ax.bar(xs, list(res_dict[key].values()), width=0.3)\n",
    "    ax.set_title('evaluation on {}'.format(key))\n",
    "    #ax.bar(xs+0.4, res_dict['train_all'].values(), width=0.3, label='training on all (3mo)')\n",
    "    ax.set_xticks(xs+0.2)\n",
    "    ax.set_xticklabels(res_dict[key].keys(), rotation=90)\n",
    "    ax.plot([0,len(res_dict[key])],[baseline_mae_hard_12, baseline_mae_hard_12], color='darkblue', label='hard baseline mae')\n",
    "    ax.plot([0,len(res_dict[key])],[baseline_mae_easy_12, baseline_mae_easy_12], color='lightblue', label='baseline mae easy (mean)')\n",
    "    ax.set_ylabel('mae')\n",
    "axes[-1].legend()\n"
   ]
  },
  {
   "cell_type": "markdown",
   "metadata": {},
   "source": [
    "thresholded mse performs best on hard samples -> use this loss fn from now on - the hope is that with this loss will actually have to learn sth about the difficult samples"
   ]
  },
  {
   "cell_type": "code",
   "execution_count": null,
   "metadata": {},
   "outputs": [],
   "source": []
  },
  {
   "cell_type": "code",
   "execution_count": null,
   "metadata": {},
   "outputs": [],
   "source": []
  },
  {
   "cell_type": "code",
   "execution_count": null,
   "metadata": {},
   "outputs": [],
   "source": []
  },
  {
   "cell_type": "code",
   "execution_count": null,
   "metadata": {},
   "outputs": [],
   "source": []
  },
  {
   "cell_type": "code",
   "execution_count": 16,
   "metadata": {},
   "outputs": [
    {
     "name": "stdout",
     "output_type": "stream",
     "text": [
      "0.26729586583626747\n",
      "0.1901429523468608\n"
     ]
    }
   ],
   "source": [
    "print(losses.thresholded_mae_last_numpy(y_true_12[cls_label_12!=2], y_pred[cls_label_12!=2]))\n",
    "print(losses.thresholded_mae_last_numpy(y_true_12, y_pred))\n",
    "\n",
    "\n"
   ]
  },
  {
   "cell_type": "code",
   "execution_count": 11,
   "metadata": {},
   "outputs": [
    {
     "name": "stdout",
     "output_type": "stream",
     "text": [
      "[271] of 505 differences are > than 0.15logMAR\n"
     ]
    },
    {
     "data": {
      "image/png": "[encoded data removed]",
      "text/plain": [
       "<Figure size 432x288 with 1 Axes>"
      ]
     },
     "metadata": {
      "needs_background": "light"
     },
     "output_type": "display_data"
    }
   ],
   "source": [
    "# plot difference between predicted va and true va (are differences mostly < 0.15, the error threshold?)\n",
    "diff_pred_true = np.abs(y_true_12[:,-1] - y_pred[:,-1])\n",
    "plt.hist(diff_pred_true, bins=np.arange(0,1.5,0.15))\n",
    "# also stratify by true difference < 0.15 and >= 0.15\n",
    "diff_baseline_true = np.abs(y_true_12[:,-1] - baseline_pred_12[:,-1])\n",
    "plt.hist(diff_pred_true[diff_baseline_true<0.15], label='errors when change was very small', bins=np.arange(0,1.5,0.15), alpha=0.5)\n",
    "plt.hist(diff_pred_true[diff_baseline_true>=0.15], label='errors when change was large', bins=np.arange(0,1.5,0.15), alpha=0.5)\n",
    "plt.legend()\n",
    "print(\"{} of {} differences are > than 0.15logMAR\".format(sum(diff_pred_true>0.15), len(diff_pred_true)))"
   ]
  },
  {
   "cell_type": "code",
   "execution_count": 12,
   "metadata": {},
   "outputs": [
    {
     "name": "stdout",
     "output_type": "stream",
     "text": [
      "[171] of 505 predictions are > than 0.15logMAR\n"
     ]
    },
    {
     "data": {
      "image/png": "[encoded data removed]",
      "text/plain": [
       "<Figure size 432x288 with 1 Axes>"
      ]
     },
     "metadata": {
      "needs_background": "light"
     },
     "output_type": "display_data"
    }
   ],
   "source": [
    "# plot difference between predicted va and current va (are there large differences?)\n",
    "diff_baseline_pred = np.abs(baseline_pred_12[:,-1] - y_pred[:,-1])\n",
    "plt.hist(diff_baseline_pred)\n",
    "print(\"{} of {} predictions are > than 0.15logMAR\".format(sum(diff_baseline_pred>0.15), len(diff_baseline_pred)))"
   ]
  },
  {
   "cell_type": "code",
   "execution_count": 19,
   "metadata": {},
   "outputs": [
    {
     "data": {
      "text/plain": [
       "(505, 1)"
      ]
     },
     "execution_count": 19,
     "metadata": {},
     "output_type": "execute_result"
    }
   ],
   "source": [
    "diff_pred_true.shape"
   ]
  },
  {
   "cell_type": "code",
   "execution_count": 15,
   "metadata": {},
   "outputs": [
    {
     "data": {
      "text/plain": [
       "<function matplotlib.pyplot.hist2d(x, y, bins=10, range=None, density=False, weights=None, cmin=None, cmax=None, *, data=None, **kwargs)>"
      ]
     },
     "execution_count": 15,
     "metadata": {},
     "output_type": "execute_result"
    }
   ],
   "source": [
    "plt.hist2d"
   ]
  },
  {
   "cell_type": "code",
   "execution_count": 21,
   "metadata": {},
   "outputs": [
    {
     "data": {
      "text/plain": [
       "(array([[65., 26., 16.,  2.,  2.,  0.,  4.,  0.,  0.,  1.],\n",
       "        [66., 27., 22.,  4.,  4.,  2.,  0.,  0.,  0.,  0.],\n",
       "        [56., 38., 15.,  4.,  1.,  0.,  1.,  0.,  0.,  0.],\n",
       "        [33., 42., 11.,  1.,  3.,  0.,  0.,  0.,  0.,  0.],\n",
       "        [10., 26.,  8.,  3.,  2.,  0.,  0.,  0.,  0.,  0.],\n",
       "        [ 1.,  1.,  2.,  0.,  0.,  0.,  1.,  0.,  0.,  0.],\n",
       "        [ 1.,  0.,  2.,  0.,  0.,  0.,  0.,  0.,  0.,  0.],\n",
       "        [ 0.,  0.,  1.,  0.,  0.,  0.,  0.,  0.,  0.,  0.],\n",
       "        [ 0.,  0.,  0.,  0.,  0.,  0.,  0.,  0.,  0.,  0.],\n",
       "        [ 0.,  0.,  1.,  0.,  0.,  0.,  0.,  0.,  0.,  0.]]),\n",
       " array([1.71303749e-04, 5.38966060e-02, 1.07621908e-01, 1.61347210e-01,\n",
       "        2.15072513e-01, 2.68797815e-01, 3.22523117e-01, 3.76248419e-01,\n",
       "        4.29973722e-01, 4.83699024e-01, 5.37424326e-01]),\n",
       " array([6.91175461e-04, 1.48544389e-01, 2.96397603e-01, 4.44250816e-01,\n",
       "        5.92104030e-01, 7.39957243e-01, 8.87810457e-01, 1.03566367e+00,\n",
       "        1.18351688e+00, 1.33137010e+00, 1.47922331e+00]),\n",
       " <matplotlib.collections.QuadMesh at 0x145c44910>)"
      ]
     },
     "execution_count": 21,
     "metadata": {},
     "output_type": "execute_result"
    },
    {
     "data": {
      "image/png": "[encoded data removed]",
      "text/plain": [
       "<Figure size 432x288 with 1 Axes>"
      ]
     },
     "metadata": {
      "needs_background": "light"
     },
     "output_type": "display_data"
    }
   ],
   "source": [
    "plt.hist2d(diff_baseline_pred[:,0], diff_pred_true[:,0])"
   ]
  },
  {
   "cell_type": "code",
   "execution_count": null,
   "metadata": {},
   "outputs": [],
   "source": []
  }
 ],
 "metadata": {
  "kernelspec": {
   "display_name": "Python 3",
   "language": "python",
   "name": "python3"
  },
  "language_info": {
   "codemirror_mode": {
    "name": "ipython",
    "version": 3
   },
   "file_extension": ".py",
   "mimetype": "text/x-python",
   "name": "python",
   "nbconvert_exporter": "python",
   "pygments_lexer": "ipython3",
   "version": "3.7.6"
  }
 },
 "nbformat": 4,
 "nbformat_minor": 4
}
