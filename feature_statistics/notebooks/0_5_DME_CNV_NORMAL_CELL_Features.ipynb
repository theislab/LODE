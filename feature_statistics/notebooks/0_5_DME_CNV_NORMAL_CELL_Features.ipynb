{
 "cells": [
  {
   "cell_type": "code",
   "execution_count": 12,
   "metadata": {},
   "outputs": [],
   "source": [
    "import os\n",
    "import numpy as np\n",
    "import scanpy as sc\n",
    "import pandas as pd\n",
    "\n",
    "path = \"/home/olle/PycharmProjects/LODE/workspace/cell_oct_data\"\n",
    "\n",
    "cell_pd = pd.read_csv(os.path.join(path, \"feature_statistics.csv\"))"
   ]
  },
  {
   "cell_type": "code",
   "execution_count": 58,
   "metadata": {},
   "outputs": [],
   "source": [
    "# create adata object\n",
    "var_names = [\"0\", \"1\", \"2\", \"3\",\"4\",\"5\",\"6\",\"7\",\"8\",\"9\",\"10\",\"11\",\"12\",\"13\",\"14\", \"15\"]\n",
    "\n",
    "X = np.array(cell_pd[var_names])\n",
    "\n",
    "obs_id = cell_pd.id\n",
    "obs_cls = cell_pd.id.str.split(\"-\", expand=True)[0]\n",
    "\n",
    "\n",
    "adata = sc.AnnData(X=X)\n",
    "adata.obs[\"obs_id\"] = obs_id\n",
    "adata.obs[\"obs_cls\"] = obs_cls\n",
    "adata.var[\"var_name\"] = var_names"
   ]
  },
  {
   "cell_type": "code",
   "execution_count": 65,
   "metadata": {},
   "outputs": [],
   "source": [
    "# normalize\n",
    "X_norm = sc.pp.normalize_total(adata, target_sum=1, inplace=False)['X']"
   ]
  },
  {
   "cell_type": "code",
   "execution_count": 67,
   "metadata": {},
   "outputs": [
    {
     "data": {
      "text/plain": [
       "(84001, 16)"
      ]
     },
     "execution_count": 67,
     "metadata": {},
     "output_type": "execute_result"
    }
   ],
   "source": [
    "X_norm.shape"
   ]
  }
 ],
 "metadata": {
  "kernelspec": {
   "display_name": "Python [conda env:spatial_tools]",
   "language": "python",
   "name": "conda-env-spatial_tools-py"
  },
  "language_info": {
   "codemirror_mode": {
    "name": "ipython",
    "version": 3
   },
   "file_extension": ".py",
   "mimetype": "text/x-python",
   "name": "python",
   "nbconvert_exporter": "python",
   "pygments_lexer": "ipython3",
   "version": "3.6.12"
  }
 },
 "nbformat": 4,
 "nbformat_minor": 2
}
