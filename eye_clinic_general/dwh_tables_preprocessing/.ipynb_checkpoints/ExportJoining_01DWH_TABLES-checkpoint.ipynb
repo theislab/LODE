{
 "cells": [
  {
   "cell_type": "code",
   "execution_count": 47,
   "metadata": {},
   "outputs": [],
   "source": [
    "import os\n",
    "import pandas as pd\n",
    "import numpy as np\n",
    "import glob\n",
    "from pydicom import read_file\n",
    "\n",
    "PROJ_DIR = \"/storage/groups/ml01/datasets/raw/2018_LMUAugenklinik_niklas.koehler\"\n",
    "\n",
    "SAVE_PATH = \"joint_export/dwh_tables\"\n",
    "EXPORT_1 = os.path.join(PROJ_DIR, \"dwh_tables\")\n",
    "EXPORT_2 = os.path.join(PROJ_DIR, \"Studies2_202012/dwh_tables\")\n",
    "\n",
    "OCT_DIR_EXPORT_1 = os.path.join(PROJ_DIR, \"Studies/Optical Coherence Tomography Scanner\")\n",
    "OCT_DIR_EXPORT_2 = os.path.join(PROJ_DIR, \"Studie2_202012/OPT\")\n",
    "\n",
    "DIR_EXPORT_1 = os.path.join(PROJ_DIR, \"Studies\")\n",
    "DIR_EXPORT_2 = os.path.join(PROJ_DIR, \"Studies2_202012\")"
   ]
  },
  {
   "cell_type": "markdown",
   "metadata": {},
   "source": [
    "## Diagnosis table"
   ]
  },
  {
   "cell_type": "code",
   "execution_count": 86,
   "metadata": {},
   "outputs": [],
   "source": [
    "diagnosis_export_1 = pd.read_csv(os.path.join(EXPORT_1, \"diagnosis.csv\"))\n",
    "diagnosis_export_2 = pd.read_csv(os.path.join(EXPORT_2, \"diagnosen_anonymized.csv\"))"
   ]
  },
  {
   "cell_type": "code",
   "execution_count": 87,
   "metadata": {},
   "outputs": [
    {
     "data": {
      "text/html": [
       "<div>\n",
       "<style scoped>\n",
       "    .dataframe tbody tr th:only-of-type {\n",
       "        vertical-align: middle;\n",
       "    }\n",
       "\n",
       "    .dataframe tbody tr th {\n",
       "        vertical-align: top;\n",
       "    }\n",
       "\n",
       "    .dataframe thead th {\n",
       "        text-align: right;\n",
       "    }\n",
       "</style>\n",
       "<table border=\"1\" class=\"dataframe\">\n",
       "  <thead>\n",
       "    <tr style=\"text-align: right;\">\n",
       "      <th></th>\n",
       "      <th>Unnamed: 0</th>\n",
       "      <th>LOK</th>\n",
       "      <th>DAT</th>\n",
       "      <th>DKAT</th>\n",
       "      <th>DKEY</th>\n",
       "      <th>pseudo_id</th>\n",
       "    </tr>\n",
       "  </thead>\n",
       "  <tbody>\n",
       "    <tr>\n",
       "      <td>0</td>\n",
       "      <td>0</td>\n",
       "      <td>NaN</td>\n",
       "      <td>11-18-03</td>\n",
       "      <td>A1</td>\n",
       "      <td>C44.18</td>\n",
       "      <td>17</td>\n",
       "    </tr>\n",
       "    <tr>\n",
       "      <td>1</td>\n",
       "      <td>8</td>\n",
       "      <td>NaN</td>\n",
       "      <td>03-15-06</td>\n",
       "      <td>4</td>\n",
       "      <td>J45.9</td>\n",
       "      <td>17</td>\n",
       "    </tr>\n",
       "    <tr>\n",
       "      <td>2</td>\n",
       "      <td>16</td>\n",
       "      <td>NaN</td>\n",
       "      <td>03-15-06</td>\n",
       "      <td>AS</td>\n",
       "      <td>ASA1</td>\n",
       "      <td>17</td>\n",
       "    </tr>\n",
       "    <tr>\n",
       "      <td>3</td>\n",
       "      <td>24</td>\n",
       "      <td>NaN</td>\n",
       "      <td>11-07-06</td>\n",
       "      <td>4</td>\n",
       "      <td>C44.1</td>\n",
       "      <td>17</td>\n",
       "    </tr>\n",
       "    <tr>\n",
       "      <td>4</td>\n",
       "      <td>32</td>\n",
       "      <td>NaN</td>\n",
       "      <td>08-07-07</td>\n",
       "      <td>5</td>\n",
       "      <td>C44.1</td>\n",
       "      <td>17</td>\n",
       "    </tr>\n",
       "  </tbody>\n",
       "</table>\n",
       "</div>"
      ],
      "text/plain": [
       "   Unnamed: 0  LOK       DAT DKAT    DKEY  pseudo_id\n",
       "0           0  NaN  11-18-03   A1  C44.18         17\n",
       "1           8  NaN  03-15-06    4   J45.9         17\n",
       "2          16  NaN  03-15-06   AS    ASA1         17\n",
       "3          24  NaN  11-07-06    4   C44.1         17\n",
       "4          32  NaN  08-07-07    5   C44.1         17"
      ]
     },
     "execution_count": 87,
     "metadata": {},
     "output_type": "execute_result"
    }
   ],
   "source": [
    "diagnosis_export_2.head()"
   ]
  },
  {
   "cell_type": "code",
   "execution_count": 88,
   "metadata": {},
   "outputs": [
    {
     "data": {
      "text/html": [
       "<div>\n",
       "<style scoped>\n",
       "    .dataframe tbody tr th:only-of-type {\n",
       "        vertical-align: middle;\n",
       "    }\n",
       "\n",
       "    .dataframe tbody tr th {\n",
       "        vertical-align: top;\n",
       "    }\n",
       "\n",
       "    .dataframe thead th {\n",
       "        text-align: right;\n",
       "    }\n",
       "</style>\n",
       "<table border=\"1\" class=\"dataframe\">\n",
       "  <thead>\n",
       "    <tr style=\"text-align: right;\">\n",
       "      <th></th>\n",
       "      <th>Unnamed: 0</th>\n",
       "      <th>PATNR</th>\n",
       "      <th>LOK</th>\n",
       "      <th>DAT</th>\n",
       "      <th>DKAT</th>\n",
       "      <th>DKEY</th>\n",
       "    </tr>\n",
       "  </thead>\n",
       "  <tbody>\n",
       "    <tr>\n",
       "      <td>0</td>\n",
       "      <td>0</td>\n",
       "      <td>1</td>\n",
       "      <td>NaN</td>\n",
       "      <td>2009-01-04</td>\n",
       "      <td>07</td>\n",
       "      <td>H10.0</td>\n",
       "    </tr>\n",
       "    <tr>\n",
       "      <td>1</td>\n",
       "      <td>1</td>\n",
       "      <td>2</td>\n",
       "      <td>NaN</td>\n",
       "      <td>2004-05-10</td>\n",
       "      <td>A2</td>\n",
       "      <td>H01.0</td>\n",
       "    </tr>\n",
       "    <tr>\n",
       "      <td>2</td>\n",
       "      <td>2</td>\n",
       "      <td>3</td>\n",
       "      <td>NaN</td>\n",
       "      <td>2004-10-21</td>\n",
       "      <td>A2</td>\n",
       "      <td>H25.8</td>\n",
       "    </tr>\n",
       "    <tr>\n",
       "      <td>3</td>\n",
       "      <td>3</td>\n",
       "      <td>3</td>\n",
       "      <td>NaN</td>\n",
       "      <td>2004-11-04</td>\n",
       "      <td>A2</td>\n",
       "      <td>H25.8</td>\n",
       "    </tr>\n",
       "    <tr>\n",
       "      <td>4</td>\n",
       "      <td>4</td>\n",
       "      <td>3</td>\n",
       "      <td>R</td>\n",
       "      <td>2004-11-05</td>\n",
       "      <td>A2</td>\n",
       "      <td>H25.8</td>\n",
       "    </tr>\n",
       "  </tbody>\n",
       "</table>\n",
       "</div>"
      ],
      "text/plain": [
       "   Unnamed: 0  PATNR  LOK         DAT DKAT   DKEY\n",
       "0           0      1  NaN  2009-01-04   07  H10.0\n",
       "1           1      2  NaN  2004-05-10   A2  H01.0\n",
       "2           2      3  NaN  2004-10-21   A2  H25.8\n",
       "3           3      3  NaN  2004-11-04   A2  H25.8\n",
       "4           4      3    R  2004-11-05   A2  H25.8"
      ]
     },
     "execution_count": 88,
     "metadata": {},
     "output_type": "execute_result"
    }
   ],
   "source": [
    "diagnosis_export_1.head()"
   ]
  },
  {
   "cell_type": "markdown",
   "metadata": {},
   "source": [
    "#### Align columns"
   ]
  },
  {
   "cell_type": "code",
   "execution_count": 89,
   "metadata": {},
   "outputs": [],
   "source": [
    "# rename pseudo ID to PATNR\n",
    "diagnosis_export_2 = diagnosis_export_2.rename(columns={\"pseudo_id\":\"PATNR\"})\n",
    "\n",
    "# set DAT column to pandas date time\n",
    "diagnosis_export_2[\"DAT\"] = pd.to_datetime(diagnosis_export_2[\"DAT\"])\n",
    "\n",
    "diagnosis_export_2 = diagnosis_export_2.drop(columns=[\"Unnamed: 0\"])\n",
    "diagnosis_export_1 = diagnosis_export_1.drop(columns=[\"Unnamed: 0\"])"
   ]
  },
  {
   "cell_type": "code",
   "execution_count": 90,
   "metadata": {},
   "outputs": [
    {
     "data": {
      "text/plain": [
       "((343347, 5), (1820324, 5))"
      ]
     },
     "execution_count": 90,
     "metadata": {},
     "output_type": "execute_result"
    }
   ],
   "source": [
    "diagnosis_export_2.shape, diagnosis_export_1.shape"
   ]
  },
  {
   "cell_type": "markdown",
   "metadata": {},
   "source": [
    "#### Append tables and drop duplicates "
   ]
  },
  {
   "cell_type": "code",
   "execution_count": 91,
   "metadata": {},
   "outputs": [],
   "source": [
    "diagnosis_joint = diagnosis_export_2.append(diagnosis_export_1, 'sort=True')"
   ]
  },
  {
   "cell_type": "code",
   "execution_count": 92,
   "metadata": {},
   "outputs": [
    {
     "name": "stdout",
     "output_type": "stream",
     "text": [
      "Number of records before dropping duplicates:  2163671\n",
      "Number of records after dropping duplicates:  2041980\n"
     ]
    }
   ],
   "source": [
    "print(\"Number of records before dropping duplicates: \", diagnosis_joint.shape[0])\n",
    "\n",
    "diagnosis_joint = diagnosis_joint.drop_duplicates(subset=[\"PATNR\", \"LOK\", \"DAT\", \"DKAT\", \"DKEY\"])\n",
    "\n",
    "print(\"Number of records after dropping duplicates: \", diagnosis_joint.shape[0])"
   ]
  },
  {
   "cell_type": "markdown",
   "metadata": {},
   "source": [
    "#### Save new table to joint export directory"
   ]
  },
  {
   "cell_type": "code",
   "execution_count": 93,
   "metadata": {},
   "outputs": [],
   "source": [
    "diagnosis_joint.to_csv(os.path.join(PROJ_DIR, SAVE_PATH, \"diagnosis.csv\"))"
   ]
  },
  {
   "cell_type": "markdown",
   "metadata": {},
   "source": [
    "## Visus table"
   ]
  },
  {
   "cell_type": "code",
   "execution_count": 94,
   "metadata": {},
   "outputs": [],
   "source": [
    "visus_export_1 = pd.read_csv(os.path.join(EXPORT_1, \"visus_labels.csv\"))\n",
    "visus_export_2 = pd.read_csv(os.path.join(EXPORT_2, \"visus_anonymized.csv\"))"
   ]
  },
  {
   "cell_type": "code",
   "execution_count": 95,
   "metadata": {},
   "outputs": [
    {
     "name": "stdout",
     "output_type": "stream",
     "text": [
      "Number of records in export 1 table:  843608 Number of records in export 2 table:  442017\n"
     ]
    }
   ],
   "source": [
    "print(\"Number of records in export 1 table: \", visus_export_1.shape[0], \n",
    "      \"Number of records in export 2 table: \", visus_export_2.shape[0])"
   ]
  },
  {
   "cell_type": "code",
   "execution_count": 96,
   "metadata": {},
   "outputs": [
    {
     "data": {
      "text/html": [
       "<div>\n",
       "<style scoped>\n",
       "    .dataframe tbody tr th:only-of-type {\n",
       "        vertical-align: middle;\n",
       "    }\n",
       "\n",
       "    .dataframe tbody tr th {\n",
       "        vertical-align: top;\n",
       "    }\n",
       "\n",
       "    .dataframe thead th {\n",
       "        text-align: right;\n",
       "    }\n",
       "</style>\n",
       "<table border=\"1\" class=\"dataframe\">\n",
       "  <thead>\n",
       "    <tr style=\"text-align: right;\">\n",
       "      <th></th>\n",
       "      <th>Unnamed: 0</th>\n",
       "      <th>PATNR</th>\n",
       "      <th>visual_acuity_VISUS</th>\n",
       "      <th>AUGE</th>\n",
       "      <th>MEASUREMENT_DATE</th>\n",
       "      <th>ORIGIN_TYPE</th>\n",
       "    </tr>\n",
       "  </thead>\n",
       "  <tbody>\n",
       "    <tr>\n",
       "      <td>0</td>\n",
       "      <td>0</td>\n",
       "      <td>7</td>\n",
       "      <td>1/25</td>\n",
       "      <td>L</td>\n",
       "      <td>2014-03-19</td>\n",
       "      <td>SC</td>\n",
       "    </tr>\n",
       "    <tr>\n",
       "      <td>1</td>\n",
       "      <td>1</td>\n",
       "      <td>7</td>\n",
       "      <td>NaN</td>\n",
       "      <td>L</td>\n",
       "      <td>2014-03-19</td>\n",
       "      <td>OR</td>\n",
       "    </tr>\n",
       "    <tr>\n",
       "      <td>2</td>\n",
       "      <td>2</td>\n",
       "      <td>7</td>\n",
       "      <td>0,05</td>\n",
       "      <td>R</td>\n",
       "      <td>2014-03-19</td>\n",
       "      <td>SC</td>\n",
       "    </tr>\n",
       "    <tr>\n",
       "      <td>3</td>\n",
       "      <td>3</td>\n",
       "      <td>7</td>\n",
       "      <td>NaN</td>\n",
       "      <td>R</td>\n",
       "      <td>2014-03-19</td>\n",
       "      <td>OR</td>\n",
       "    </tr>\n",
       "    <tr>\n",
       "      <td>4</td>\n",
       "      <td>4</td>\n",
       "      <td>17</td>\n",
       "      <td>0,6</td>\n",
       "      <td>L</td>\n",
       "      <td>2015-01-22</td>\n",
       "      <td>OR</td>\n",
       "    </tr>\n",
       "  </tbody>\n",
       "</table>\n",
       "</div>"
      ],
      "text/plain": [
       "   Unnamed: 0  PATNR visual_acuity_VISUS AUGE MEASUREMENT_DATE ORIGIN_TYPE\n",
       "0           0      7                1/25    L       2014-03-19          SC\n",
       "1           1      7                 NaN    L       2014-03-19          OR\n",
       "2           2      7                0,05    R       2014-03-19          SC\n",
       "3           3      7                 NaN    R       2014-03-19          OR\n",
       "4           4     17                 0,6    L       2015-01-22          OR"
      ]
     },
     "execution_count": 96,
     "metadata": {},
     "output_type": "execute_result"
    }
   ],
   "source": [
    "visus_export_1.head()"
   ]
  },
  {
   "cell_type": "code",
   "execution_count": 97,
   "metadata": {},
   "outputs": [
    {
     "data": {
      "text/html": [
       "<div>\n",
       "<style scoped>\n",
       "    .dataframe tbody tr th:only-of-type {\n",
       "        vertical-align: middle;\n",
       "    }\n",
       "\n",
       "    .dataframe tbody tr th {\n",
       "        vertical-align: top;\n",
       "    }\n",
       "\n",
       "    .dataframe thead th {\n",
       "        text-align: right;\n",
       "    }\n",
       "</style>\n",
       "<table border=\"1\" class=\"dataframe\">\n",
       "  <thead>\n",
       "    <tr style=\"text-align: right;\">\n",
       "      <th></th>\n",
       "      <th>Unnamed: 0</th>\n",
       "      <th>AUGE</th>\n",
       "      <th>ORIGIN</th>\n",
       "      <th>ORIGIN_TYPE</th>\n",
       "      <th>ORIGIN_KEY</th>\n",
       "      <th>MEASUREMENT_DATE</th>\n",
       "      <th>MEASUREMENT_TIME</th>\n",
       "      <th>MEASUREMENT_VALUE</th>\n",
       "      <th>CALCULATED_VALUE</th>\n",
       "      <th>LOGMAR_VALUE</th>\n",
       "      <th>pseudo_id</th>\n",
       "    </tr>\n",
       "  </thead>\n",
       "  <tbody>\n",
       "    <tr>\n",
       "      <td>0</td>\n",
       "      <td>0</td>\n",
       "      <td>L</td>\n",
       "      <td>YMED_AU_VISUS_v2-PatnrAugeLfdnr</td>\n",
       "      <td>OR</td>\n",
       "      <td>0010121434L00004</td>\n",
       "      <td>01-22-15</td>\n",
       "      <td>2015-01-22 11:40:00.000</td>\n",
       "      <td>0.6</td>\n",
       "      <td>0.60</td>\n",
       "      <td>0.2</td>\n",
       "      <td>17</td>\n",
       "    </tr>\n",
       "    <tr>\n",
       "      <td>1</td>\n",
       "      <td>8</td>\n",
       "      <td>R</td>\n",
       "      <td>YMED_AU_VISUS_v2-PatnrAugeLfdnr</td>\n",
       "      <td>SC</td>\n",
       "      <td>0010121434R00011</td>\n",
       "      <td>12-10-15</td>\n",
       "      <td>2015-12-10 11:15:28.000</td>\n",
       "      <td>0.5</td>\n",
       "      <td>0.50</td>\n",
       "      <td>0.3</td>\n",
       "      <td>17</td>\n",
       "    </tr>\n",
       "    <tr>\n",
       "      <td>2</td>\n",
       "      <td>16</td>\n",
       "      <td>R</td>\n",
       "      <td>YMED_AU_VISUS_v2-PatnrAugeLfdnr</td>\n",
       "      <td>CC</td>\n",
       "      <td>0010121434R00002</td>\n",
       "      <td>01-22-15</td>\n",
       "      <td>2015-01-22 11:40:00.000</td>\n",
       "      <td>0.8</td>\n",
       "      <td>0.80</td>\n",
       "      <td>0.1</td>\n",
       "      <td>17</td>\n",
       "    </tr>\n",
       "    <tr>\n",
       "      <td>3</td>\n",
       "      <td>24</td>\n",
       "      <td>L</td>\n",
       "      <td>YMED_AU_VISUS_v2-PatnrAugeLfdnr</td>\n",
       "      <td>CC</td>\n",
       "      <td>0010121435L00007</td>\n",
       "      <td>10-24-17</td>\n",
       "      <td>2017-10-24 13:00:00.000</td>\n",
       "      <td>0.25</td>\n",
       "      <td>0.25</td>\n",
       "      <td>0.6</td>\n",
       "      <td>18</td>\n",
       "    </tr>\n",
       "    <tr>\n",
       "      <td>4</td>\n",
       "      <td>63</td>\n",
       "      <td>L</td>\n",
       "      <td>YMED_AU_VISUS_v2-PatnrAugeLfdnr</td>\n",
       "      <td>CC</td>\n",
       "      <td>0010121435L00021</td>\n",
       "      <td>03-13-18</td>\n",
       "      <td>2018-03-13 11:02:27.000</td>\n",
       "      <td>0.32</td>\n",
       "      <td>0.32</td>\n",
       "      <td>0.5</td>\n",
       "      <td>18</td>\n",
       "    </tr>\n",
       "  </tbody>\n",
       "</table>\n",
       "</div>"
      ],
      "text/plain": [
       "   Unnamed: 0 AUGE                           ORIGIN ORIGIN_TYPE  \\\n",
       "0           0    L  YMED_AU_VISUS_v2-PatnrAugeLfdnr          OR   \n",
       "1           8    R  YMED_AU_VISUS_v2-PatnrAugeLfdnr          SC   \n",
       "2          16    R  YMED_AU_VISUS_v2-PatnrAugeLfdnr          CC   \n",
       "3          24    L  YMED_AU_VISUS_v2-PatnrAugeLfdnr          CC   \n",
       "4          63    L  YMED_AU_VISUS_v2-PatnrAugeLfdnr          CC   \n",
       "\n",
       "         ORIGIN_KEY MEASUREMENT_DATE         MEASUREMENT_TIME  \\\n",
       "0  0010121434L00004         01-22-15  2015-01-22 11:40:00.000   \n",
       "1  0010121434R00011         12-10-15  2015-12-10 11:15:28.000   \n",
       "2  0010121434R00002         01-22-15  2015-01-22 11:40:00.000   \n",
       "3  0010121435L00007         10-24-17  2017-10-24 13:00:00.000   \n",
       "4  0010121435L00021         03-13-18  2018-03-13 11:02:27.000   \n",
       "\n",
       "  MEASUREMENT_VALUE  CALCULATED_VALUE  LOGMAR_VALUE  pseudo_id  \n",
       "0               0.6              0.60           0.2         17  \n",
       "1               0.5              0.50           0.3         17  \n",
       "2               0.8              0.80           0.1         17  \n",
       "3              0.25              0.25           0.6         18  \n",
       "4              0.32              0.32           0.5         18  "
      ]
     },
     "execution_count": 97,
     "metadata": {},
     "output_type": "execute_result"
    }
   ],
   "source": [
    "visus_export_2.head()"
   ]
  },
  {
   "cell_type": "markdown",
   "metadata": {},
   "source": [
    "#### Rename, cast and drop columns"
   ]
  },
  {
   "cell_type": "code",
   "execution_count": 98,
   "metadata": {},
   "outputs": [],
   "source": [
    "# drop coolumns\n",
    "visus_export_2 = visus_export_2.drop([\"ORIGIN_KEY\", \"MEASUREMENT_TIME\", \"ORIGIN\", \"Unnamed: 0\"], axis=1)\n",
    "visus_export_1 = visus_export_1.drop([\"Unnamed: 0\"], axis=1)\n",
    "\n",
    "# set DAT column to pandas date time\n",
    "visus_export_2[\"MEASUREMENT_DATE\"] = pd.to_datetime(visus_export_2[\"MEASUREMENT_DATE\"])\n",
    "\n",
    "# rename id column\n",
    "visus_export_2 = visus_export_2.rename(columns={\"pseudo_id\": \"PATNR\"})"
   ]
  },
  {
   "cell_type": "code",
   "execution_count": 99,
   "metadata": {},
   "outputs": [],
   "source": [
    "# add missing columns\n",
    "visus_export_2[\"visual_acuity_VISUS\"] = np.nan\n",
    "visus_export_1[\"MEASUREMENT_VALUE\"] = np.nan\n",
    "visus_export_1[\"CALCULATED_VALUE\"] = np.nan\n",
    "visus_export_1[\"LOGMAR_VALUE\"] = np.nan"
   ]
  },
  {
   "cell_type": "code",
   "execution_count": 100,
   "metadata": {},
   "outputs": [
    {
     "data": {
      "text/plain": [
       "((843608, 8), (442017, 8))"
      ]
     },
     "execution_count": 100,
     "metadata": {},
     "output_type": "execute_result"
    }
   ],
   "source": [
    "visus_export_1.shape, visus_export_2.shape"
   ]
  },
  {
   "cell_type": "markdown",
   "metadata": {},
   "source": [
    "#### Append tables and drop duplicates "
   ]
  },
  {
   "cell_type": "code",
   "execution_count": 101,
   "metadata": {},
   "outputs": [],
   "source": [
    "visus_export_joint = visus_export_2.append(visus_export_1, 'sort=True')"
   ]
  },
  {
   "cell_type": "code",
   "execution_count": 102,
   "metadata": {
    "scrolled": true
   },
   "outputs": [
    {
     "name": "stdout",
     "output_type": "stream",
     "text": [
      "Number of records before dropping duplicates:  1285625\n",
      "Number of records after dropping duplicates:  1212908\n"
     ]
    }
   ],
   "source": [
    "print(\"Number of records before dropping duplicates: \", visus_export_joint.shape[0])\n",
    "\n",
    "visus_export_joint = visus_export_joint.drop_duplicates(subset=list(visus_export_joint.columns))\n",
    "\n",
    "print(\"Number of records after dropping duplicates: \", visus_export_joint.shape[0])"
   ]
  },
  {
   "cell_type": "markdown",
   "metadata": {},
   "source": [
    "#### Save new table to joint export directory"
   ]
  },
  {
   "cell_type": "code",
   "execution_count": 103,
   "metadata": {},
   "outputs": [],
   "source": [
    "visus_export_joint.to_csv(os.path.join(PROJ_DIR, SAVE_PATH, \"visus.csv\"))"
   ]
  },
  {
   "cell_type": "markdown",
   "metadata": {},
   "source": [
    "## Prozeduren table"
   ]
  },
  {
   "cell_type": "code",
   "execution_count": 104,
   "metadata": {},
   "outputs": [],
   "source": [
    "prozeduren_export_1 = pd.read_csv(os.path.join(EXPORT_1, \"prozeduren.csv\"))\n",
    "prozeduren_export_2 = pd.read_csv(os.path.join(EXPORT_2, \"prozeduren_anonymized.csv\"))"
   ]
  },
  {
   "cell_type": "code",
   "execution_count": 105,
   "metadata": {},
   "outputs": [
    {
     "name": "stdout",
     "output_type": "stream",
     "text": [
      "Number of records in export 1 table:  910372 Number of records in export 2 table:  192828\n"
     ]
    }
   ],
   "source": [
    "print(\"Number of records in export 1 table: \", prozeduren_export_1.shape[0], \n",
    "      \"Number of records in export 2 table: \", prozeduren_export_2.shape[0])"
   ]
  },
  {
   "cell_type": "code",
   "execution_count": 106,
   "metadata": {},
   "outputs": [
    {
     "data": {
      "text/html": [
       "<div>\n",
       "<style scoped>\n",
       "    .dataframe tbody tr th:only-of-type {\n",
       "        vertical-align: middle;\n",
       "    }\n",
       "\n",
       "    .dataframe tbody tr th {\n",
       "        vertical-align: top;\n",
       "    }\n",
       "\n",
       "    .dataframe thead th {\n",
       "        text-align: right;\n",
       "    }\n",
       "</style>\n",
       "<table border=\"1\" class=\"dataframe\">\n",
       "  <thead>\n",
       "    <tr style=\"text-align: right;\">\n",
       "      <th></th>\n",
       "      <th>Unnamed: 0</th>\n",
       "      <th>PATNR</th>\n",
       "      <th>LOK</th>\n",
       "      <th>DAT</th>\n",
       "      <th>ICPMK</th>\n",
       "      <th>ICPML</th>\n",
       "      <th>FALNR</th>\n",
       "    </tr>\n",
       "  </thead>\n",
       "  <tbody>\n",
       "    <tr>\n",
       "      <td>0</td>\n",
       "      <td>0</td>\n",
       "      <td>3</td>\n",
       "      <td>NaN</td>\n",
       "      <td>2004-11-05</td>\n",
       "      <td>P2</td>\n",
       "      <td>5-144.01</td>\n",
       "      <td>45805803</td>\n",
       "    </tr>\n",
       "    <tr>\n",
       "      <td>1</td>\n",
       "      <td>1</td>\n",
       "      <td>6</td>\n",
       "      <td>L</td>\n",
       "      <td>2011-01-20</td>\n",
       "      <td>P9</td>\n",
       "      <td>5-144.3A</td>\n",
       "      <td>49000113</td>\n",
       "    </tr>\n",
       "    <tr>\n",
       "      <td>2</td>\n",
       "      <td>2</td>\n",
       "      <td>6</td>\n",
       "      <td>NaN</td>\n",
       "      <td>2011-01-20</td>\n",
       "      <td>P9</td>\n",
       "      <td>5-984</td>\n",
       "      <td>49000113</td>\n",
       "    </tr>\n",
       "    <tr>\n",
       "      <td>3</td>\n",
       "      <td>3</td>\n",
       "      <td>6</td>\n",
       "      <td>L</td>\n",
       "      <td>2011-03-10</td>\n",
       "      <td>P9</td>\n",
       "      <td>5-146.2A</td>\n",
       "      <td>49078466</td>\n",
       "    </tr>\n",
       "    <tr>\n",
       "      <td>4</td>\n",
       "      <td>4</td>\n",
       "      <td>6</td>\n",
       "      <td>NaN</td>\n",
       "      <td>2011-03-10</td>\n",
       "      <td>P9</td>\n",
       "      <td>5-984</td>\n",
       "      <td>49078466</td>\n",
       "    </tr>\n",
       "  </tbody>\n",
       "</table>\n",
       "</div>"
      ],
      "text/plain": [
       "   Unnamed: 0  PATNR  LOK         DAT ICPMK     ICPML     FALNR\n",
       "0           0      3  NaN  2004-11-05    P2  5-144.01  45805803\n",
       "1           1      6    L  2011-01-20    P9  5-144.3A  49000113\n",
       "2           2      6  NaN  2011-01-20    P9     5-984  49000113\n",
       "3           3      6    L  2011-03-10    P9  5-146.2A  49078466\n",
       "4           4      6  NaN  2011-03-10    P9     5-984  49078466"
      ]
     },
     "execution_count": 106,
     "metadata": {},
     "output_type": "execute_result"
    }
   ],
   "source": [
    "prozeduren_export_1.head()"
   ]
  },
  {
   "cell_type": "code",
   "execution_count": 107,
   "metadata": {},
   "outputs": [
    {
     "data": {
      "text/html": [
       "<div>\n",
       "<style scoped>\n",
       "    .dataframe tbody tr th:only-of-type {\n",
       "        vertical-align: middle;\n",
       "    }\n",
       "\n",
       "    .dataframe tbody tr th {\n",
       "        vertical-align: top;\n",
       "    }\n",
       "\n",
       "    .dataframe thead th {\n",
       "        text-align: right;\n",
       "    }\n",
       "</style>\n",
       "<table border=\"1\" class=\"dataframe\">\n",
       "  <thead>\n",
       "    <tr style=\"text-align: right;\">\n",
       "      <th></th>\n",
       "      <th>Unnamed: 0</th>\n",
       "      <th>ICPMK</th>\n",
       "      <th>ICPML</th>\n",
       "      <th>ICPHC</th>\n",
       "      <th>LOK</th>\n",
       "      <th>DAT</th>\n",
       "      <th>pseudo_id</th>\n",
       "    </tr>\n",
       "  </thead>\n",
       "  <tbody>\n",
       "    <tr>\n",
       "      <td>0</td>\n",
       "      <td>0</td>\n",
       "      <td>P4</td>\n",
       "      <td>5-984</td>\n",
       "      <td>NaN</td>\n",
       "      <td>L</td>\n",
       "      <td>03-15-06</td>\n",
       "      <td>17</td>\n",
       "    </tr>\n",
       "    <tr>\n",
       "      <td>1</td>\n",
       "      <td>8</td>\n",
       "      <td>PC</td>\n",
       "      <td>5-091.10</td>\n",
       "      <td>NaN</td>\n",
       "      <td>L</td>\n",
       "      <td>05-21-14</td>\n",
       "      <td>17</td>\n",
       "    </tr>\n",
       "    <tr>\n",
       "      <td>2</td>\n",
       "      <td>16</td>\n",
       "      <td>PD</td>\n",
       "      <td>5-984</td>\n",
       "      <td>NaN</td>\n",
       "      <td>NaN</td>\n",
       "      <td>02-10-15</td>\n",
       "      <td>17</td>\n",
       "    </tr>\n",
       "    <tr>\n",
       "      <td>3</td>\n",
       "      <td>24</td>\n",
       "      <td>PD</td>\n",
       "      <td>3-300.0</td>\n",
       "      <td>X</td>\n",
       "      <td>NaN</td>\n",
       "      <td>07-13-15</td>\n",
       "      <td>17</td>\n",
       "    </tr>\n",
       "    <tr>\n",
       "      <td>4</td>\n",
       "      <td>32</td>\n",
       "      <td>PG</td>\n",
       "      <td>5-156.9</td>\n",
       "      <td>X</td>\n",
       "      <td>R</td>\n",
       "      <td>01-08-18</td>\n",
       "      <td>18</td>\n",
       "    </tr>\n",
       "  </tbody>\n",
       "</table>\n",
       "</div>"
      ],
      "text/plain": [
       "   Unnamed: 0 ICPMK     ICPML ICPHC  LOK       DAT  pseudo_id\n",
       "0           0    P4     5-984   NaN    L  03-15-06         17\n",
       "1           8    PC  5-091.10   NaN    L  05-21-14         17\n",
       "2          16    PD     5-984   NaN  NaN  02-10-15         17\n",
       "3          24    PD   3-300.0     X  NaN  07-13-15         17\n",
       "4          32    PG   5-156.9     X    R  01-08-18         18"
      ]
     },
     "execution_count": 107,
     "metadata": {},
     "output_type": "execute_result"
    }
   ],
   "source": [
    "prozeduren_export_2.head()"
   ]
  },
  {
   "cell_type": "markdown",
   "metadata": {},
   "source": [
    "#### Rename, cast and drop columns"
   ]
  },
  {
   "cell_type": "code",
   "execution_count": 108,
   "metadata": {},
   "outputs": [],
   "source": [
    "# drop coolumns\n",
    "prozeduren_export_2 = prozeduren_export_2.drop([\"ICPHC\", \"Unnamed: 0\"], axis=1)\n",
    "prozeduren_export_1 = prozeduren_export_1.drop([\"Unnamed: 0\", \"FALNR\"], axis=1)\n",
    "\n",
    "# set DAT column to pandas date time\n",
    "prozeduren_export_2[\"DAT\"] = pd.to_datetime(prozeduren_export_2[\"DAT\"])\n",
    "\n",
    "# rename id column\n",
    "prozeduren_export_2 = prozeduren_export_2.rename(columns={\"pseudo_id\": \"PATNR\"})"
   ]
  },
  {
   "cell_type": "code",
   "execution_count": 109,
   "metadata": {},
   "outputs": [
    {
     "data": {
      "text/plain": [
       "((910372, 5), (192828, 5))"
      ]
     },
     "execution_count": 109,
     "metadata": {},
     "output_type": "execute_result"
    }
   ],
   "source": [
    "prozeduren_export_1.shape, prozeduren_export_2.shape"
   ]
  },
  {
   "cell_type": "markdown",
   "metadata": {},
   "source": [
    "#### Append tables and drop duplicates "
   ]
  },
  {
   "cell_type": "code",
   "execution_count": 110,
   "metadata": {},
   "outputs": [],
   "source": [
    "prozeduren_export_joint = prozeduren_export_2.append(prozeduren_export_1, 'sort=True')"
   ]
  },
  {
   "cell_type": "code",
   "execution_count": 111,
   "metadata": {
    "scrolled": true
   },
   "outputs": [
    {
     "name": "stdout",
     "output_type": "stream",
     "text": [
      "Number of records before dropping duplicates:  1103200\n",
      "Number of records after dropping duplicates:  1055270\n"
     ]
    }
   ],
   "source": [
    "print(\"Number of records before dropping duplicates: \", prozeduren_export_joint.shape[0])\n",
    "\n",
    "prozeduren_export_joint = prozeduren_export_joint.drop_duplicates(subset=list(prozeduren_export_joint.columns))\n",
    "\n",
    "print(\"Number of records after dropping duplicates: \", prozeduren_export_joint.shape[0])"
   ]
  },
  {
   "cell_type": "markdown",
   "metadata": {},
   "source": [
    "#### Save new table to joint export directory"
   ]
  },
  {
   "cell_type": "code",
   "execution_count": 112,
   "metadata": {},
   "outputs": [],
   "source": [
    "prozeduren_export_joint.to_csv(os.path.join(PROJ_DIR, SAVE_PATH, \"prozeduren.csv\"))"
   ]
  },
  {
   "cell_type": "markdown",
   "metadata": {},
   "source": [
    "## Tensio table"
   ]
  },
  {
   "cell_type": "code",
   "execution_count": 114,
   "metadata": {},
   "outputs": [],
   "source": [
    "tensio_export_1 = pd.read_csv(os.path.join(EXPORT_1, \"tensio.csv\"))\n",
    "tensio_export_2 = pd.read_csv(os.path.join(EXPORT_2, \"tensio_anonymized.csv\"))"
   ]
  },
  {
   "cell_type": "code",
   "execution_count": 115,
   "metadata": {},
   "outputs": [
    {
     "name": "stdout",
     "output_type": "stream",
     "text": [
      "Number of records in export 1 table:  116374 Number of records in export 2 table:  283286\n"
     ]
    }
   ],
   "source": [
    "print(\"Number of records in export 1 table: \", tensio_export_1.shape[0], \n",
    "      \"Number of records in export 2 table: \", tensio_export_2.shape[0])"
   ]
  },
  {
   "cell_type": "code",
   "execution_count": 116,
   "metadata": {
    "scrolled": true
   },
   "outputs": [
    {
     "data": {
      "text/html": [
       "<div>\n",
       "<style scoped>\n",
       "    .dataframe tbody tr th:only-of-type {\n",
       "        vertical-align: middle;\n",
       "    }\n",
       "\n",
       "    .dataframe tbody tr th {\n",
       "        vertical-align: top;\n",
       "    }\n",
       "\n",
       "    .dataframe thead th {\n",
       "        text-align: right;\n",
       "    }\n",
       "</style>\n",
       "<table border=\"1\" class=\"dataframe\">\n",
       "  <thead>\n",
       "    <tr style=\"text-align: right;\">\n",
       "      <th></th>\n",
       "      <th>Unnamed: 0</th>\n",
       "      <th>PATNR</th>\n",
       "      <th>AUGE</th>\n",
       "      <th>DAT</th>\n",
       "      <th>TENSIO</th>\n",
       "    </tr>\n",
       "  </thead>\n",
       "  <tbody>\n",
       "    <tr>\n",
       "      <td>0</td>\n",
       "      <td>0</td>\n",
       "      <td>18</td>\n",
       "      <td>L</td>\n",
       "      <td>2017-10-24</td>\n",
       "      <td>16</td>\n",
       "    </tr>\n",
       "    <tr>\n",
       "      <td>1</td>\n",
       "      <td>1</td>\n",
       "      <td>18</td>\n",
       "      <td>L</td>\n",
       "      <td>2017-11-22</td>\n",
       "      <td>15</td>\n",
       "    </tr>\n",
       "    <tr>\n",
       "      <td>2</td>\n",
       "      <td>2</td>\n",
       "      <td>18</td>\n",
       "      <td>L</td>\n",
       "      <td>2018-01-08</td>\n",
       "      <td>16</td>\n",
       "    </tr>\n",
       "    <tr>\n",
       "      <td>3</td>\n",
       "      <td>3</td>\n",
       "      <td>18</td>\n",
       "      <td>L</td>\n",
       "      <td>2018-02-07</td>\n",
       "      <td>16</td>\n",
       "    </tr>\n",
       "    <tr>\n",
       "      <td>4</td>\n",
       "      <td>4</td>\n",
       "      <td>18</td>\n",
       "      <td>L</td>\n",
       "      <td>2018-03-13</td>\n",
       "      <td>15</td>\n",
       "    </tr>\n",
       "  </tbody>\n",
       "</table>\n",
       "</div>"
      ],
      "text/plain": [
       "   Unnamed: 0  PATNR AUGE         DAT TENSIO\n",
       "0           0     18    L  2017-10-24     16\n",
       "1           1     18    L  2017-11-22     15\n",
       "2           2     18    L  2018-01-08     16\n",
       "3           3     18    L  2018-02-07     16\n",
       "4           4     18    L  2018-03-13     15"
      ]
     },
     "execution_count": 116,
     "metadata": {},
     "output_type": "execute_result"
    }
   ],
   "source": [
    "tensio_export_1.head()"
   ]
  },
  {
   "cell_type": "code",
   "execution_count": 117,
   "metadata": {},
   "outputs": [
    {
     "data": {
      "text/html": [
       "<div>\n",
       "<style scoped>\n",
       "    .dataframe tbody tr th:only-of-type {\n",
       "        vertical-align: middle;\n",
       "    }\n",
       "\n",
       "    .dataframe tbody tr th {\n",
       "        vertical-align: top;\n",
       "    }\n",
       "\n",
       "    .dataframe thead th {\n",
       "        text-align: right;\n",
       "    }\n",
       "</style>\n",
       "<table border=\"1\" class=\"dataframe\">\n",
       "  <thead>\n",
       "    <tr style=\"text-align: right;\">\n",
       "      <th></th>\n",
       "      <th>Unnamed: 0</th>\n",
       "      <th>AUGE</th>\n",
       "      <th>ORIGIN_TYPE</th>\n",
       "      <th>MEASUREMENT_DATE</th>\n",
       "      <th>MEASUREMENT_TIME</th>\n",
       "      <th>MEASUREMENT_VALUE</th>\n",
       "      <th>MAXVAL_DAY</th>\n",
       "      <th>CALCULATED_VALUE</th>\n",
       "      <th>ORIGIN_KEY</th>\n",
       "      <th>ORIGIN</th>\n",
       "      <th>pseudo_id</th>\n",
       "    </tr>\n",
       "  </thead>\n",
       "  <tbody>\n",
       "    <tr>\n",
       "      <td>0</td>\n",
       "      <td>0</td>\n",
       "      <td>L</td>\n",
       "      <td>Luft</td>\n",
       "      <td>01-08-18</td>\n",
       "      <td>2018-01-08 11:10:00.000</td>\n",
       "      <td>16</td>\n",
       "      <td>16.0</td>\n",
       "      <td>16.0</td>\n",
       "      <td>0010121435L00014</td>\n",
       "      <td>YMED_AU_VISUS_v2-PatnrAugeLfdnr</td>\n",
       "      <td>18</td>\n",
       "    </tr>\n",
       "    <tr>\n",
       "      <td>1</td>\n",
       "      <td>39</td>\n",
       "      <td>L</td>\n",
       "      <td>Luft</td>\n",
       "      <td>05-08-18</td>\n",
       "      <td>2018-05-08 10:41:51.000</td>\n",
       "      <td>15</td>\n",
       "      <td>15.0</td>\n",
       "      <td>15.0</td>\n",
       "      <td>0010121435L00026</td>\n",
       "      <td>YMED_AU_VISUS_v2-PatnrAugeLfdnr</td>\n",
       "      <td>18</td>\n",
       "    </tr>\n",
       "    <tr>\n",
       "      <td>2</td>\n",
       "      <td>78</td>\n",
       "      <td>L</td>\n",
       "      <td>Luft</td>\n",
       "      <td>01-16-19</td>\n",
       "      <td>2019-01-16 14:20:09.000</td>\n",
       "      <td>17</td>\n",
       "      <td>17.0</td>\n",
       "      <td>17.0</td>\n",
       "      <td>0010121435L00058</td>\n",
       "      <td>YMED_AU_VISUS_v2-PatnrAugeLfdnr</td>\n",
       "      <td>18</td>\n",
       "    </tr>\n",
       "    <tr>\n",
       "      <td>3</td>\n",
       "      <td>117</td>\n",
       "      <td>L</td>\n",
       "      <td>Luft</td>\n",
       "      <td>12-17-19</td>\n",
       "      <td>2019-12-17 12:44:31.000</td>\n",
       "      <td>15</td>\n",
       "      <td>15.0</td>\n",
       "      <td>15.0</td>\n",
       "      <td>0010121435L00084</td>\n",
       "      <td>YMED_AU_VISUS_v2-PatnrAugeLfdnr</td>\n",
       "      <td>18</td>\n",
       "    </tr>\n",
       "    <tr>\n",
       "      <td>4</td>\n",
       "      <td>156</td>\n",
       "      <td>L</td>\n",
       "      <td>Luft</td>\n",
       "      <td>02-27-20</td>\n",
       "      <td>2020-02-27 11:04:41.000</td>\n",
       "      <td>14</td>\n",
       "      <td>14.0</td>\n",
       "      <td>14.0</td>\n",
       "      <td>0010121435L00088</td>\n",
       "      <td>YMED_AU_VISUS_v2-PatnrAugeLfdnr</td>\n",
       "      <td>18</td>\n",
       "    </tr>\n",
       "  </tbody>\n",
       "</table>\n",
       "</div>"
      ],
      "text/plain": [
       "   Unnamed: 0 AUGE ORIGIN_TYPE MEASUREMENT_DATE         MEASUREMENT_TIME  \\\n",
       "0           0    L        Luft         01-08-18  2018-01-08 11:10:00.000   \n",
       "1          39    L        Luft         05-08-18  2018-05-08 10:41:51.000   \n",
       "2          78    L        Luft         01-16-19  2019-01-16 14:20:09.000   \n",
       "3         117    L        Luft         12-17-19  2019-12-17 12:44:31.000   \n",
       "4         156    L        Luft         02-27-20  2020-02-27 11:04:41.000   \n",
       "\n",
       "  MEASUREMENT_VALUE  MAXVAL_DAY  CALCULATED_VALUE        ORIGIN_KEY  \\\n",
       "0                16        16.0              16.0  0010121435L00014   \n",
       "1                15        15.0              15.0  0010121435L00026   \n",
       "2                17        17.0              17.0  0010121435L00058   \n",
       "3                15        15.0              15.0  0010121435L00084   \n",
       "4                14        14.0              14.0  0010121435L00088   \n",
       "\n",
       "                            ORIGIN  pseudo_id  \n",
       "0  YMED_AU_VISUS_v2-PatnrAugeLfdnr         18  \n",
       "1  YMED_AU_VISUS_v2-PatnrAugeLfdnr         18  \n",
       "2  YMED_AU_VISUS_v2-PatnrAugeLfdnr         18  \n",
       "3  YMED_AU_VISUS_v2-PatnrAugeLfdnr         18  \n",
       "4  YMED_AU_VISUS_v2-PatnrAugeLfdnr         18  "
      ]
     },
     "execution_count": 117,
     "metadata": {},
     "output_type": "execute_result"
    }
   ],
   "source": [
    "tensio_export_2.head()"
   ]
  },
  {
   "cell_type": "markdown",
   "metadata": {},
   "source": [
    "#### Rename, cast and drop columns"
   ]
  },
  {
   "cell_type": "code",
   "execution_count": 118,
   "metadata": {},
   "outputs": [],
   "source": [
    "# set DAT column to pandas date time\n",
    "tensio_export_2[\"DAT\"] = pd.to_datetime(tensio_export_2[\"MEASUREMENT_DATE\"])\n",
    "\n",
    "# drop coolumns\n",
    "tensio_export_2 = tensio_export_2.drop([\"ORIGIN_TYPE\", \"Unnamed: 0\", \"MEASUREMENT_TIME\", \n",
    "                                                \"MEASUREMENT_DATE\", \n",
    "                                                \"MAXVAL_DAY\", \"ORIGIN_KEY\", \"ORIGIN\"], axis=1)\n",
    "\n",
    "tensio_export_1 = tensio_export_1.drop([\"Unnamed: 0\"], axis=1)\n",
    "\n",
    "\n",
    "# rename id column\n",
    "tensio_export_2 = tensio_export_2.rename(columns={\"pseudo_id\": \"PATNR\"})"
   ]
  },
  {
   "cell_type": "code",
   "execution_count": 119,
   "metadata": {},
   "outputs": [
    {
     "data": {
      "text/plain": [
       "((116374, 4), (283286, 5))"
      ]
     },
     "execution_count": 119,
     "metadata": {},
     "output_type": "execute_result"
    }
   ],
   "source": [
    "tensio_export_1.shape, tensio_export_2.shape"
   ]
  },
  {
   "cell_type": "markdown",
   "metadata": {},
   "source": [
    "#### Append tables and drop duplicates "
   ]
  },
  {
   "cell_type": "code",
   "execution_count": 121,
   "metadata": {},
   "outputs": [],
   "source": [
    "tensio_export_joint = tensio_export_2.append(tensio_export_1, 'sort=True')"
   ]
  },
  {
   "cell_type": "code",
   "execution_count": 122,
   "metadata": {
    "scrolled": true
   },
   "outputs": [
    {
     "name": "stdout",
     "output_type": "stream",
     "text": [
      "Number of records before dropping duplicates:  399660\n",
      "Number of records after dropping duplicates:  357829\n"
     ]
    }
   ],
   "source": [
    "print(\"Number of records before dropping duplicates: \", tensio_export_joint.shape[0])\n",
    "\n",
    "tensio_export_joint = tensio_export_joint.drop_duplicates(subset=list(tensio_export_joint.columns))\n",
    "\n",
    "print(\"Number of records after dropping duplicates: \", tensio_export_joint.shape[0])"
   ]
  },
  {
   "cell_type": "markdown",
   "metadata": {},
   "source": [
    "#### Save new table to joint export directory"
   ]
  },
  {
   "cell_type": "code",
   "execution_count": 123,
   "metadata": {},
   "outputs": [],
   "source": [
    "tensio_export_joint.to_csv(os.path.join(PROJ_DIR, SAVE_PATH, \"tensio.csv\"))"
   ]
  },
  {
   "cell_type": "markdown",
   "metadata": {},
   "source": [
    "## Patient OCT meta information"
   ]
  },
  {
   "cell_type": "code",
   "execution_count": 68,
   "metadata": {},
   "outputs": [],
   "source": [
    "oct_dicom_paths_export1 = pd.read_csv(os.path.join(DIR_EXPORT_1, \"oct_paths.csv\"), header=None)\n",
    "oct_dicom_paths_export2 = pd.read_csv(os.path.join(DIR_EXPORT_2, \"dicom_paths.csv\"))"
   ]
  },
  {
   "cell_type": "code",
   "execution_count": 69,
   "metadata": {},
   "outputs": [],
   "source": [
    "# process dicom path file \n",
    "oct_dicom_paths_export2[0] = PROJ_DIR + oct_dicom_paths_export2[\"path\"]\n",
    "oct_dicom_paths_export2[0] = oct_dicom_paths_export2[0].str.replace(\"koehler./\", \"koehler/\")\n",
    "oct_dicom_paths_export2 = oct_dicom_paths_export2[[0]]"
   ]
  },
  {
   "cell_type": "code",
   "execution_count": 86,
   "metadata": {},
   "outputs": [],
   "source": [
    "class MetaLogging:\n",
    "    def __init__(self, logdir):\n",
    "        self.logdir = logdir\n",
    "\n",
    "    def process(self, i):\n",
    "        try:\n",
    "            dc = read_file(i, stop_before_pixels = True)\n",
    "\n",
    "            dicom_log = {\"patient_id\": dc.PatientID,\n",
    "                         \"patient_name\": dc.PatientName,\n",
    "                         \"laterality\": dc.ImageLaterality,\n",
    "                         \"study_date\": dc.StudyDate,\n",
    "                         \"birthdate\": dc.PatientBirthDate,\n",
    "                         \"image_type\": dc.ImageType,\n",
    "                         \"gender\": dc.PatientSex,\n",
    "                         \"modality\": dc.Modality}\n",
    "\n",
    "            return dicom_log\n",
    "        except:\n",
    "            self.write_log(record=i)\n",
    "            print(f\"record not working: {i}\")\n",
    "\n",
    "    def write_log(self, record):\n",
    "        if not os.path.exists(self.logdir ):\n",
    "            os.makedirs(self.logdir )\n",
    "\n",
    "        if not os.path.exists(self.logdir  + '/logs/meta_error_log.txt'):\n",
    "            with open('logs/meta_error_log.txt', 'w') as f:\n",
    "                f.write(\"%s\\n\" % record)\n",
    "        else:\n",
    "            with open(self.logdir  + '/logs/meta_error_log.txt', 'a') as f:\n",
    "                f.write(\"%s\\n\" % record)"
   ]
  },
  {
   "cell_type": "code",
   "execution_count": 93,
   "metadata": {},
   "outputs": [
    {
     "name": "stderr",
     "output_type": "stream",
     "text": [
      "  1%|          | 1284/245346 [00:24<1:35:10, 42.74it/s]"
     ]
    },
    {
     "ename": "KeyboardInterrupt",
     "evalue": "",
     "output_type": "error",
     "traceback": [
      "\u001b[0;31m---------------------------------------------------------------------------\u001b[0m",
      "\u001b[0;31mKeyboardInterrupt\u001b[0m                         Traceback (most recent call last)",
      "\u001b[0;32m~/anaconda3/lib/python3.7/site-packages/joblib/parallel.py\u001b[0m in \u001b[0;36mretrieve\u001b[0;34m(self)\u001b[0m\n\u001b[1;32m    832\u001b[0m                 \u001b[0;32mif\u001b[0m \u001b[0mgetattr\u001b[0m\u001b[0;34m(\u001b[0m\u001b[0mself\u001b[0m\u001b[0;34m.\u001b[0m\u001b[0m_backend\u001b[0m\u001b[0;34m,\u001b[0m \u001b[0;34m'supports_timeout'\u001b[0m\u001b[0;34m,\u001b[0m \u001b[0;32mFalse\u001b[0m\u001b[0;34m)\u001b[0m\u001b[0;34m:\u001b[0m\u001b[0;34m\u001b[0m\u001b[0;34m\u001b[0m\u001b[0m\n\u001b[0;32m--> 833\u001b[0;31m                     \u001b[0mself\u001b[0m\u001b[0;34m.\u001b[0m\u001b[0m_output\u001b[0m\u001b[0;34m.\u001b[0m\u001b[0mextend\u001b[0m\u001b[0;34m(\u001b[0m\u001b[0mjob\u001b[0m\u001b[0;34m.\u001b[0m\u001b[0mget\u001b[0m\u001b[0;34m(\u001b[0m\u001b[0mtimeout\u001b[0m\u001b[0;34m=\u001b[0m\u001b[0mself\u001b[0m\u001b[0;34m.\u001b[0m\u001b[0mtimeout\u001b[0m\u001b[0;34m)\u001b[0m\u001b[0;34m)\u001b[0m\u001b[0;34m\u001b[0m\u001b[0;34m\u001b[0m\u001b[0m\n\u001b[0m\u001b[1;32m    834\u001b[0m                 \u001b[0;32melse\u001b[0m\u001b[0;34m:\u001b[0m\u001b[0;34m\u001b[0m\u001b[0;34m\u001b[0m\u001b[0m\n",
      "\u001b[0;32m~/anaconda3/lib/python3.7/site-packages/joblib/_parallel_backends.py\u001b[0m in \u001b[0;36mwrap_future_result\u001b[0;34m(future, timeout)\u001b[0m\n\u001b[1;32m    520\u001b[0m         \u001b[0;32mtry\u001b[0m\u001b[0;34m:\u001b[0m\u001b[0;34m\u001b[0m\u001b[0;34m\u001b[0m\u001b[0m\n\u001b[0;32m--> 521\u001b[0;31m             \u001b[0;32mreturn\u001b[0m \u001b[0mfuture\u001b[0m\u001b[0;34m.\u001b[0m\u001b[0mresult\u001b[0m\u001b[0;34m(\u001b[0m\u001b[0mtimeout\u001b[0m\u001b[0;34m=\u001b[0m\u001b[0mtimeout\u001b[0m\u001b[0;34m)\u001b[0m\u001b[0;34m\u001b[0m\u001b[0;34m\u001b[0m\u001b[0m\n\u001b[0m\u001b[1;32m    522\u001b[0m         \u001b[0;32mexcept\u001b[0m \u001b[0mLokyTimeoutError\u001b[0m\u001b[0;34m:\u001b[0m\u001b[0;34m\u001b[0m\u001b[0;34m\u001b[0m\u001b[0m\n",
      "\u001b[0;32m~/anaconda3/lib/python3.7/concurrent/futures/_base.py\u001b[0m in \u001b[0;36mresult\u001b[0;34m(self, timeout)\u001b[0m\n\u001b[1;32m    429\u001b[0m \u001b[0;34m\u001b[0m\u001b[0m\n\u001b[0;32m--> 430\u001b[0;31m             \u001b[0mself\u001b[0m\u001b[0;34m.\u001b[0m\u001b[0m_condition\u001b[0m\u001b[0;34m.\u001b[0m\u001b[0mwait\u001b[0m\u001b[0;34m(\u001b[0m\u001b[0mtimeout\u001b[0m\u001b[0;34m)\u001b[0m\u001b[0;34m\u001b[0m\u001b[0;34m\u001b[0m\u001b[0m\n\u001b[0m\u001b[1;32m    431\u001b[0m \u001b[0;34m\u001b[0m\u001b[0m\n",
      "\u001b[0;32m~/anaconda3/lib/python3.7/threading.py\u001b[0m in \u001b[0;36mwait\u001b[0;34m(self, timeout)\u001b[0m\n\u001b[1;32m    295\u001b[0m             \u001b[0;32mif\u001b[0m \u001b[0mtimeout\u001b[0m \u001b[0;32mis\u001b[0m \u001b[0;32mNone\u001b[0m\u001b[0;34m:\u001b[0m\u001b[0;34m\u001b[0m\u001b[0;34m\u001b[0m\u001b[0m\n\u001b[0;32m--> 296\u001b[0;31m                 \u001b[0mwaiter\u001b[0m\u001b[0;34m.\u001b[0m\u001b[0macquire\u001b[0m\u001b[0;34m(\u001b[0m\u001b[0;34m)\u001b[0m\u001b[0;34m\u001b[0m\u001b[0;34m\u001b[0m\u001b[0m\n\u001b[0m\u001b[1;32m    297\u001b[0m                 \u001b[0mgotit\u001b[0m \u001b[0;34m=\u001b[0m \u001b[0;32mTrue\u001b[0m\u001b[0;34m\u001b[0m\u001b[0;34m\u001b[0m\u001b[0m\n",
      "\u001b[0;31mKeyboardInterrupt\u001b[0m: ",
      "\nDuring handling of the above exception, another exception occurred:\n",
      "\u001b[0;31mKeyboardInterrupt\u001b[0m                         Traceback (most recent call last)",
      "\u001b[0;32m<ipython-input-93-d89c5dd218d5>\u001b[0m in \u001b[0;36m<module>\u001b[0;34m\u001b[0m\n\u001b[1;32m      9\u001b[0m \u001b[0mnum_cores\u001b[0m \u001b[0;34m=\u001b[0m \u001b[0;34m-\u001b[0m\u001b[0;36m1\u001b[0m\u001b[0;34m\u001b[0m\u001b[0;34m\u001b[0m\u001b[0m\n\u001b[1;32m     10\u001b[0m \u001b[0;34m\u001b[0m\u001b[0m\n\u001b[0;32m---> 11\u001b[0;31m \u001b[0mprocessed_list\u001b[0m \u001b[0;34m=\u001b[0m \u001b[0mParallel\u001b[0m\u001b[0;34m(\u001b[0m\u001b[0mn_jobs\u001b[0m \u001b[0;34m=\u001b[0m \u001b[0mnum_cores\u001b[0m\u001b[0;34m)\u001b[0m\u001b[0;34m(\u001b[0m\u001b[0mdelayed\u001b[0m\u001b[0;34m(\u001b[0m\u001b[0mmeta_logging\u001b[0m\u001b[0;34m.\u001b[0m\u001b[0mprocess\u001b[0m\u001b[0;34m)\u001b[0m\u001b[0;34m(\u001b[0m\u001b[0mi\u001b[0m\u001b[0;34m)\u001b[0m \u001b[0;32mfor\u001b[0m \u001b[0mi\u001b[0m \u001b[0;32min\u001b[0m \u001b[0mtqdm\u001b[0m\u001b[0;34m(\u001b[0m\u001b[0mdicom_files\u001b[0m\u001b[0;34m)\u001b[0m\u001b[0;34m)\u001b[0m\u001b[0;34m\u001b[0m\u001b[0;34m\u001b[0m\u001b[0m\n\u001b[0m\u001b[1;32m     12\u001b[0m \u001b[0mprocessed_list\u001b[0m \u001b[0;34m=\u001b[0m \u001b[0;34m[\u001b[0m\u001b[0mpl\u001b[0m \u001b[0;32mfor\u001b[0m \u001b[0mpl\u001b[0m \u001b[0;32min\u001b[0m \u001b[0mprocessed_list\u001b[0m \u001b[0;32mif\u001b[0m \u001b[0mpl\u001b[0m \u001b[0;32mis\u001b[0m \u001b[0;32mnot\u001b[0m \u001b[0;32mNone\u001b[0m\u001b[0;34m]\u001b[0m\u001b[0;34m\u001b[0m\u001b[0;34m\u001b[0m\u001b[0m\n\u001b[1;32m     13\u001b[0m \u001b[0;34m\u001b[0m\u001b[0m\n",
      "\u001b[0;32m~/anaconda3/lib/python3.7/site-packages/joblib/parallel.py\u001b[0m in \u001b[0;36m__call__\u001b[0;34m(self, iterable)\u001b[0m\n\u001b[1;32m    932\u001b[0m \u001b[0;34m\u001b[0m\u001b[0m\n\u001b[1;32m    933\u001b[0m             \u001b[0;32mwith\u001b[0m \u001b[0mself\u001b[0m\u001b[0;34m.\u001b[0m\u001b[0m_backend\u001b[0m\u001b[0;34m.\u001b[0m\u001b[0mretrieval_context\u001b[0m\u001b[0;34m(\u001b[0m\u001b[0;34m)\u001b[0m\u001b[0;34m:\u001b[0m\u001b[0;34m\u001b[0m\u001b[0;34m\u001b[0m\u001b[0m\n\u001b[0;32m--> 934\u001b[0;31m                 \u001b[0mself\u001b[0m\u001b[0;34m.\u001b[0m\u001b[0mretrieve\u001b[0m\u001b[0;34m(\u001b[0m\u001b[0;34m)\u001b[0m\u001b[0;34m\u001b[0m\u001b[0;34m\u001b[0m\u001b[0m\n\u001b[0m\u001b[1;32m    935\u001b[0m             \u001b[0;31m# Make sure that we get a last message telling us we are done\u001b[0m\u001b[0;34m\u001b[0m\u001b[0;34m\u001b[0m\u001b[0;34m\u001b[0m\u001b[0m\n\u001b[1;32m    936\u001b[0m             \u001b[0melapsed_time\u001b[0m \u001b[0;34m=\u001b[0m \u001b[0mtime\u001b[0m\u001b[0;34m.\u001b[0m\u001b[0mtime\u001b[0m\u001b[0;34m(\u001b[0m\u001b[0;34m)\u001b[0m \u001b[0;34m-\u001b[0m \u001b[0mself\u001b[0m\u001b[0;34m.\u001b[0m\u001b[0m_start_time\u001b[0m\u001b[0;34m\u001b[0m\u001b[0;34m\u001b[0m\u001b[0m\n",
      "\u001b[0;32m~/anaconda3/lib/python3.7/site-packages/joblib/parallel.py\u001b[0m in \u001b[0;36mretrieve\u001b[0;34m(self)\u001b[0m\n\u001b[1;32m    853\u001b[0m                     \u001b[0;31m# scheduling.\u001b[0m\u001b[0;34m\u001b[0m\u001b[0;34m\u001b[0m\u001b[0;34m\u001b[0m\u001b[0m\n\u001b[1;32m    854\u001b[0m                     \u001b[0mensure_ready\u001b[0m \u001b[0;34m=\u001b[0m \u001b[0mself\u001b[0m\u001b[0;34m.\u001b[0m\u001b[0m_managed_backend\u001b[0m\u001b[0;34m\u001b[0m\u001b[0;34m\u001b[0m\u001b[0m\n\u001b[0;32m--> 855\u001b[0;31m                     \u001b[0mbackend\u001b[0m\u001b[0;34m.\u001b[0m\u001b[0mabort_everything\u001b[0m\u001b[0;34m(\u001b[0m\u001b[0mensure_ready\u001b[0m\u001b[0;34m=\u001b[0m\u001b[0mensure_ready\u001b[0m\u001b[0;34m)\u001b[0m\u001b[0;34m\u001b[0m\u001b[0;34m\u001b[0m\u001b[0m\n\u001b[0m\u001b[1;32m    856\u001b[0m \u001b[0;34m\u001b[0m\u001b[0m\n\u001b[1;32m    857\u001b[0m                 \u001b[0;32mif\u001b[0m \u001b[0misinstance\u001b[0m\u001b[0;34m(\u001b[0m\u001b[0mexception\u001b[0m\u001b[0;34m,\u001b[0m \u001b[0mTransportableException\u001b[0m\u001b[0;34m)\u001b[0m\u001b[0;34m:\u001b[0m\u001b[0;34m\u001b[0m\u001b[0;34m\u001b[0m\u001b[0m\n",
      "\u001b[0;32m~/anaconda3/lib/python3.7/site-packages/joblib/_parallel_backends.py\u001b[0m in \u001b[0;36mabort_everything\u001b[0;34m(self, ensure_ready)\u001b[0m\n\u001b[1;32m    536\u001b[0m         \"\"\"Shutdown the workers and restart a new one with the same parameters\n\u001b[1;32m    537\u001b[0m         \"\"\"\n\u001b[0;32m--> 538\u001b[0;31m         \u001b[0mself\u001b[0m\u001b[0;34m.\u001b[0m\u001b[0m_workers\u001b[0m\u001b[0;34m.\u001b[0m\u001b[0mshutdown\u001b[0m\u001b[0;34m(\u001b[0m\u001b[0mkill_workers\u001b[0m\u001b[0;34m=\u001b[0m\u001b[0;32mTrue\u001b[0m\u001b[0;34m)\u001b[0m\u001b[0;34m\u001b[0m\u001b[0;34m\u001b[0m\u001b[0m\n\u001b[0m\u001b[1;32m    539\u001b[0m         \u001b[0mdelete_folder\u001b[0m\u001b[0;34m(\u001b[0m\u001b[0mself\u001b[0m\u001b[0;34m.\u001b[0m\u001b[0m_workers\u001b[0m\u001b[0;34m.\u001b[0m\u001b[0m_temp_folder\u001b[0m\u001b[0;34m)\u001b[0m\u001b[0;34m\u001b[0m\u001b[0;34m\u001b[0m\u001b[0m\n\u001b[1;32m    540\u001b[0m         \u001b[0mself\u001b[0m\u001b[0;34m.\u001b[0m\u001b[0m_workers\u001b[0m \u001b[0;34m=\u001b[0m \u001b[0;32mNone\u001b[0m\u001b[0;34m\u001b[0m\u001b[0;34m\u001b[0m\u001b[0m\n",
      "\u001b[0;32m~/anaconda3/lib/python3.7/site-packages/joblib/externals/loky/process_executor.py\u001b[0m in \u001b[0;36mshutdown\u001b[0;34m(self, wait, kill_workers)\u001b[0m\n\u001b[1;32m   1094\u001b[0m                     \u001b[0;32mpass\u001b[0m\u001b[0;34m\u001b[0m\u001b[0;34m\u001b[0m\u001b[0m\n\u001b[1;32m   1095\u001b[0m             \u001b[0;32mif\u001b[0m \u001b[0mwait\u001b[0m\u001b[0;34m:\u001b[0m\u001b[0;34m\u001b[0m\u001b[0;34m\u001b[0m\u001b[0m\n\u001b[0;32m-> 1096\u001b[0;31m                 \u001b[0mqmt\u001b[0m\u001b[0;34m.\u001b[0m\u001b[0mjoin\u001b[0m\u001b[0;34m(\u001b[0m\u001b[0;34m)\u001b[0m\u001b[0;34m\u001b[0m\u001b[0;34m\u001b[0m\u001b[0m\n\u001b[0m\u001b[1;32m   1097\u001b[0m \u001b[0;34m\u001b[0m\u001b[0m\n\u001b[1;32m   1098\u001b[0m         \u001b[0mcq\u001b[0m \u001b[0;34m=\u001b[0m \u001b[0mself\u001b[0m\u001b[0;34m.\u001b[0m\u001b[0m_call_queue\u001b[0m\u001b[0;34m\u001b[0m\u001b[0;34m\u001b[0m\u001b[0m\n",
      "\u001b[0;32m~/anaconda3/lib/python3.7/threading.py\u001b[0m in \u001b[0;36mjoin\u001b[0;34m(self, timeout)\u001b[0m\n\u001b[1;32m   1042\u001b[0m \u001b[0;34m\u001b[0m\u001b[0m\n\u001b[1;32m   1043\u001b[0m         \u001b[0;32mif\u001b[0m \u001b[0mtimeout\u001b[0m \u001b[0;32mis\u001b[0m \u001b[0;32mNone\u001b[0m\u001b[0;34m:\u001b[0m\u001b[0;34m\u001b[0m\u001b[0;34m\u001b[0m\u001b[0m\n\u001b[0;32m-> 1044\u001b[0;31m             \u001b[0mself\u001b[0m\u001b[0;34m.\u001b[0m\u001b[0m_wait_for_tstate_lock\u001b[0m\u001b[0;34m(\u001b[0m\u001b[0;34m)\u001b[0m\u001b[0;34m\u001b[0m\u001b[0;34m\u001b[0m\u001b[0m\n\u001b[0m\u001b[1;32m   1045\u001b[0m         \u001b[0;32melse\u001b[0m\u001b[0;34m:\u001b[0m\u001b[0;34m\u001b[0m\u001b[0;34m\u001b[0m\u001b[0m\n\u001b[1;32m   1046\u001b[0m             \u001b[0;31m# the behavior of a negative timeout isn't documented, but\u001b[0m\u001b[0;34m\u001b[0m\u001b[0;34m\u001b[0m\u001b[0;34m\u001b[0m\u001b[0m\n",
      "\u001b[0;32m~/anaconda3/lib/python3.7/threading.py\u001b[0m in \u001b[0;36m_wait_for_tstate_lock\u001b[0;34m(self, block, timeout)\u001b[0m\n\u001b[1;32m   1058\u001b[0m         \u001b[0;32mif\u001b[0m \u001b[0mlock\u001b[0m \u001b[0;32mis\u001b[0m \u001b[0;32mNone\u001b[0m\u001b[0;34m:\u001b[0m  \u001b[0;31m# already determined that the C code is done\u001b[0m\u001b[0;34m\u001b[0m\u001b[0;34m\u001b[0m\u001b[0m\n\u001b[1;32m   1059\u001b[0m             \u001b[0;32massert\u001b[0m \u001b[0mself\u001b[0m\u001b[0;34m.\u001b[0m\u001b[0m_is_stopped\u001b[0m\u001b[0;34m\u001b[0m\u001b[0;34m\u001b[0m\u001b[0m\n\u001b[0;32m-> 1060\u001b[0;31m         \u001b[0;32melif\u001b[0m \u001b[0mlock\u001b[0m\u001b[0;34m.\u001b[0m\u001b[0macquire\u001b[0m\u001b[0;34m(\u001b[0m\u001b[0mblock\u001b[0m\u001b[0;34m,\u001b[0m \u001b[0mtimeout\u001b[0m\u001b[0;34m)\u001b[0m\u001b[0;34m:\u001b[0m\u001b[0;34m\u001b[0m\u001b[0;34m\u001b[0m\u001b[0m\n\u001b[0m\u001b[1;32m   1061\u001b[0m             \u001b[0mlock\u001b[0m\u001b[0;34m.\u001b[0m\u001b[0mrelease\u001b[0m\u001b[0;34m(\u001b[0m\u001b[0;34m)\u001b[0m\u001b[0;34m\u001b[0m\u001b[0;34m\u001b[0m\u001b[0m\n\u001b[1;32m   1062\u001b[0m             \u001b[0mself\u001b[0m\u001b[0;34m.\u001b[0m\u001b[0m_stop\u001b[0m\u001b[0;34m(\u001b[0m\u001b[0;34m)\u001b[0m\u001b[0;34m\u001b[0m\u001b[0;34m\u001b[0m\u001b[0m\n",
      "\u001b[0;31mKeyboardInterrupt\u001b[0m: "
     ]
    }
   ],
   "source": [
    "from joblib import Parallel, delayed\n",
    "from tqdm import tqdm\n",
    "\n",
    "dicom_files = oct_dicom_paths_export2[0].tolist()\n",
    "\n",
    "logdir = \"/storage/groups/ml01/workspace/olle.holmberg/LODE/eye_clinic_general/notebooks_logs\"\n",
    "\n",
    "meta_logging = MetaLogging(logdir = logdir)\n",
    "num_cores = -1\n",
    "    \n",
    "processed_list = Parallel(n_jobs = num_cores)(delayed(meta_logging.process)(i) for i in tqdm(dicom_files))\n",
    "processed_list = [pl for pl in processed_list if pl is not None]\n",
    "\n",
    "export_pd = pd.DataFrame.from_dict(processed_list)"
   ]
  },
  {
   "cell_type": "code",
   "execution_count": 71,
   "metadata": {},
   "outputs": [],
   "source": [
    "dicom_files = oct_dicom_paths_export2[0].tolist()\n",
    "dc = read_file(dicom_files[0])"
   ]
  },
  {
   "cell_type": "code",
   "execution_count": 89,
   "metadata": {},
   "outputs": [
    {
     "data": {
      "text/plain": [
       "<bound method MetaLogging.process of <__main__.MetaLogging object at 0x7f0fc1f88c50>>"
      ]
     },
     "execution_count": 89,
     "metadata": {},
     "output_type": "execute_result"
    }
   ],
   "source": [
    "meta_logging.process"
   ]
  }
 ],
 "metadata": {
  "kernelspec": {
   "display_name": "conda base",
   "language": "python",
   "name": "base"
  },
  "language_info": {
   "codemirror_mode": {
    "name": "ipython",
    "version": 3
   },
   "file_extension": ".py",
   "mimetype": "text/x-python",
   "name": "python",
   "nbconvert_exporter": "python",
   "pygments_lexer": "ipython3",
   "version": "3.7.4"
  }
 },
 "nbformat": 4,
 "nbformat_minor": 2
}
