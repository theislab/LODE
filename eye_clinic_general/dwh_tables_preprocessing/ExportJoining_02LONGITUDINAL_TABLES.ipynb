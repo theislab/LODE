{
 "cells": [
  {
   "cell_type": "code",
   "execution_count": 204,
   "metadata": {},
   "outputs": [],
   "source": [
    "import os\n",
    "import pandas as pd\n",
    "import numpy as np\n",
    "import glob\n",
    "import matplotlib.pyplot as plt\n",
    "from tqdm import tqdm\n",
    "from pydicom import read_file\n",
    "import re\n",
    "\n",
    "PROJ_DIR = \"/storage/groups/ml01/datasets/raw/2018_LMUAugenklinik_niklas.koehler\"\n",
    "\n",
    "JOINT_PATH = os.path.join(PROJ_DIR, \"joint_export/dwh_tables\")\n",
    "\n",
    "EXPORT_1 = os.path.join(PROJ_DIR, \"dwh_tables\")\n",
    "EXPORT_2 = os.path.join(PROJ_DIR, \"Studies2_202012/dwh_tables\")\n",
    "\n",
    "OCT_DIR_EXPORT_1 = os.path.join(PROJ_DIR, \"Studies/Optical Coherence Tomography Scanner\")\n",
    "OCT_DIR_EXPORT_2 = os.path.join(PROJ_DIR, \"Studies2_202012/OPT\")\n",
    "\n",
    "DIR_EXPORT_1 = os.path.join(PROJ_DIR, \"Studies\")\n",
    "DIR_EXPORT_2 = os.path.join(PROJ_DIR, \"Studies2_202012\")"
   ]
  },
  {
   "cell_type": "markdown",
   "metadata": {},
   "source": [
    "## Join OCT meta tables from both exports"
   ]
  },
  {
   "cell_type": "code",
   "execution_count": 205,
   "metadata": {},
   "outputs": [],
   "source": [
    "oct_meta_export_1 = os.path.join(DIR_EXPORT_1, 'oct_meta_information.csv')\n",
    "oct_meta_export_2 = os.path.join(DIR_EXPORT_2, 'oct_meta_information.csv')\n",
    "\n",
    "oct_meta_export_1_pd = pd.read_csv(oct_meta_export_1)\n",
    "oct_meta_export_2_pd = pd.read_csv(oct_meta_export_2)"
   ]
  },
  {
   "cell_type": "markdown",
   "metadata": {},
   "source": [
    "#### pre process tables"
   ]
  },
  {
   "cell_type": "code",
   "execution_count": 206,
   "metadata": {},
   "outputs": [],
   "source": [
    "oct_meta_export_1_pd[\"PATNR\"] = oct_meta_export_1_pd.PATNR.str.replace(\"ps:\", \"\")\n",
    "oct_meta_export_1_pd = oct_meta_export_1_pd.drop(columns={\"Unnamed: 0\"})\n",
    "\n",
    "oct_meta_export_2_pd = oct_meta_export_2_pd.drop(columns={\"Unnamed: 0\"})\n",
    "\n",
    "# remove nan patients\n",
    "oct_meta_export_2_pd = oct_meta_export_2_pd[~oct_meta_export_2_pd.PATNR.isna()]\n",
    "oct_meta_export_1_pd = oct_meta_export_1_pd[~oct_meta_export_1_pd.PATNR.isna()]\n",
    "\n",
    "# convert PATNR to int\n",
    "oct_meta_export_1_pd.loc[:, \"PATNR\"] = oct_meta_export_1_pd.PATNR.astype(int)"
   ]
  },
  {
   "cell_type": "markdown",
   "metadata": {},
   "source": [
    "### check for duplicate birthdays or Genders"
   ]
  },
  {
   "cell_type": "code",
   "execution_count": 207,
   "metadata": {},
   "outputs": [
    {
     "name": "stdout",
     "output_type": "stream",
     "text": [
      "duplicate gender for patient 257985\n",
      "duplicate gender for patient 367544\n",
      "duplicate gender for patient 373514\n",
      "duplicate gender for patient 367544\n"
     ]
    }
   ],
   "source": [
    "# birthday\n",
    "\n",
    "\n",
    "'''\n",
    "test patients as provided by Nastassya:\n",
    "\n",
    "'''\n",
    "\n",
    "patients = [183,  187,  224,  281,  289,  319,  335,  358,  401,  407,  498,  500,  502,  526]\n",
    "\n",
    "\n",
    "for k, oct_meta_file in enumerate([oct_meta_export_1_pd, oct_meta_export_2_pd]):\n",
    "    for patient in patients:\n",
    "        patient_filter = oct_meta_file.PATNR == patient\n",
    "        n_birthdays = oct_meta_file[patient_filter].birthdate.drop_duplicates().shape[0]\n",
    "        assert n_birthdays <= 1, f\"duplicate birthdays for patient {patient}\"\n",
    "        \n",
    "\n",
    "# gender\n",
    "\n",
    "'''\n",
    "test patients as provided by Nastassya:\n",
    "\n",
    "'''\n",
    "patients = [257985, 367544, 373514]\n",
    "\n",
    "for k, oct_meta_file in enumerate([oct_meta_export_1_pd, oct_meta_export_2_pd]):\n",
    "    for patient in patients:\n",
    "        patient_filter = oct_meta_file.PATNR == patient\n",
    "        n_genders = oct_meta_file[patient_filter].gender.drop_duplicates().shape[0]\n",
    "        try:\n",
    "            assert n_genders <= 1, f\"duplicate gender for patient {patient}\"\n",
    "        except:\n",
    "            print(f\"duplicate gender for patient {patient}\")"
   ]
  },
  {
   "cell_type": "code",
   "execution_count": 208,
   "metadata": {},
   "outputs": [
    {
     "name": "stdout",
     "output_type": "stream",
     "text": [
      "birthday different. Patient:  502 Export 1: 19340101 - Export 2: 19340501.\n",
      "birthday different. Patient:  709 Export 1: 19380101 - Export 2: 19380701.\n",
      "birthday different. Patient:  719 Export 1: 19400101 - Export 2: 19400701.\n",
      "birthday different. Patient:  735 Export 1: 19500101 - Export 2: 19500701.\n",
      "birthday different. Patient:  1475 Export 1: 19450101 - Export 2: 19450301.\n",
      "birthday different. Patient:  1557 Export 1: 19360101 - Export 2: 19360401.\n",
      "birthday different. Patient:  1764 Export 1: 19390101 - Export 2: 19390601.\n",
      "birthday different. Patient:  1826 Export 1: 19330101 - Export 2: 19330701.\n",
      "birthday different. Patient:  2005 Export 1: 19360101 - Export 2: 19360901.\n",
      "birthday different. Patient:  2005 Export 1: 19360101 - Export 2: 19360901.\n",
      "birthday different. Patient:  3213 Export 1: 19350101 - Export 2: 19351101.\n",
      "birthday different. Patient:  3828 Export 1: 19470101 - Export 2: 19470601.\n",
      "birthday different. Patient:  4206 Export 1: 19330101 - Export 2: 19331101.\n",
      "birthday different. Patient:  4206 Export 1: 19330101 - Export 2: 19331101.\n",
      "birthday different. Patient:  4724 Export 1: 19400101 - Export 2: 19400501.\n"
     ]
    }
   ],
   "source": [
    "# birthday between exports\n",
    "patients = [18,\n",
    " 502,\n",
    " 709,\n",
    " 719,\n",
    " 735,\n",
    " 1263,\n",
    " 1263,\n",
    " 1475,\n",
    " 1557,\n",
    " 1764,\n",
    " 1826,\n",
    " 2005,\n",
    " 2005,\n",
    " 3213,\n",
    " 3828,\n",
    " 4206,\n",
    " 4206,\n",
    " 4724]\n",
    "\n",
    "\n",
    "for patient in patients:\n",
    "    patient_filter_export_1 = oct_meta_export_1_pd.PATNR == patient\n",
    "    patient_filter_export_2 = oct_meta_export_2_pd.PATNR == patient\n",
    "    \n",
    "    b1 = oct_meta_export_1_pd[patient_filter_export_1].birthdate\n",
    "    b2 =  oct_meta_export_2_pd[patient_filter_export_2].birthdate\n",
    "    \n",
    "    if b1.size > 0 and (b2.size > 0):\n",
    "        b1 = b1.drop_duplicates().iloc[0]\n",
    "        b2 = b2.drop_duplicates().iloc[0]\n",
    "    else:\n",
    "        continue\n",
    "    try:\n",
    "        assert b1 == b2, \"birthdays different in each export\"\n",
    "    except:\n",
    "        print(f\"birthday different. Patient:  {patient} Export 1: {b1} - Export 2: {b2}.\")"
   ]
  },
  {
   "cell_type": "markdown",
   "metadata": {},
   "source": [
    "#### Filter DICOMS of right type and img shape"
   ]
  },
  {
   "cell_type": "code",
   "execution_count": 209,
   "metadata": {},
   "outputs": [
    {
     "name": "stdout",
     "output_type": "stream",
     "text": [
      "Number of DICOMS before filtering:  244533\n",
      "Number of DICOMS after filtering:  165371\n"
     ]
    }
   ],
   "source": [
    "export2_study_descr_bool = oct_meta_export_2_pd.study_description == 'Makula (OCT)'\n",
    "export2_img_shape_bool = oct_meta_export_2_pd.img_shape == '(49, 496, 512)'\n",
    "\n",
    "print(\"Number of DICOMS before filtering: \", oct_meta_export_2_pd.shape[0])\n",
    "\n",
    "oct_meta_export_2_pd = oct_meta_export_2_pd[export2_study_descr_bool & export2_img_shape_bool]\n",
    "\n",
    "print(\"Number of DICOMS after filtering: \", oct_meta_export_2_pd.shape[0])"
   ]
  },
  {
   "cell_type": "code",
   "execution_count": 210,
   "metadata": {},
   "outputs": [
    {
     "name": "stdout",
     "output_type": "stream",
     "text": [
      "Number of DICOMS before filtering:  170877\n",
      "Number of DICOMS after filtering:  136226\n"
     ]
    }
   ],
   "source": [
    "export1_study_descr_bool = oct_meta_export_1_pd.study_description == 'Makula (OCT)'\n",
    "export1_img_shape_bool = oct_meta_export_1_pd.img_shape == '(49, 496, 512)'\n",
    "\n",
    "print(\"Number of DICOMS before filtering: \", oct_meta_export_1_pd.shape[0])\n",
    "\n",
    "oct_meta_export_1_pd = oct_meta_export_1_pd[export1_study_descr_bool & export1_img_shape_bool]\n",
    "\n",
    "print(\"Number of DICOMS after filtering: \", oct_meta_export_1_pd.shape[0])"
   ]
  },
  {
   "cell_type": "markdown",
   "metadata": {},
   "source": [
    "### Append meta tables and drop duplicates"
   ]
  },
  {
   "cell_type": "code",
   "execution_count": 211,
   "metadata": {},
   "outputs": [
    {
     "name": "stdout",
     "output_type": "stream",
     "text": [
      "Number of OCT studies from export 1: 136226       and export 2: 165371\n"
     ]
    },
    {
     "name": "stderr",
     "output_type": "stream",
     "text": [
      "/home/icb/olle.holmberg/anaconda3/lib/python3.7/site-packages/ipykernel_launcher.py:6: SettingWithCopyWarning: \n",
      "A value is trying to be set on a copy of a slice from a DataFrame.\n",
      "Try using .loc[row_indexer,col_indexer] = value instead\n",
      "\n",
      "See the caveats in the documentation: http://pandas.pydata.org/pandas-docs/stable/user_guide/indexing.html#returning-a-view-versus-a-copy\n",
      "  \n"
     ]
    },
    {
     "name": "stdout",
     "output_type": "stream",
     "text": [
      "Number of records bef drop:  301597\n",
      "Number of records after drop:  290540\n",
      "Number of added OCTs from second export: 154314\n"
     ]
    }
   ],
   "source": [
    "print(f\"Number of OCT studies from export 1: {oct_meta_export_1_pd.shape[0]} \\\n",
    "      and export 2: {oct_meta_export_2_pd.shape[0]}\")\n",
    "\n",
    "# assign column stating export\n",
    "oct_meta_export_1_pd[\"export\"] = \"1\"\n",
    "oct_meta_export_2_pd[\"export\"] = \"2\"\n",
    "\n",
    "joint_meta_pd = oct_meta_export_1_pd.append(oct_meta_export_2_pd)\n",
    "\n",
    "print(\"Number of records bef drop: \", joint_meta_pd.shape[0])\n",
    "\n",
    "joint_meta_pd = joint_meta_pd.drop_duplicates(subset=joint_meta_pd.columns)\n",
    "\n",
    "print(\"Number of records after drop: \", joint_meta_pd.shape[0])\n",
    "\n",
    "print(f\"Number of added OCTs from second export: {joint_meta_pd.shape[0] - oct_meta_export_1_pd.shape[0]}\")"
   ]
  },
  {
   "cell_type": "markdown",
   "metadata": {},
   "source": [
    "#### Add dicom path to each OCT record"
   ]
  },
  {
   "cell_type": "code",
   "execution_count": 212,
   "metadata": {},
   "outputs": [],
   "source": [
    "joint_export_dicom_paths = pd.read_csv(os.path.join(PROJ_DIR, \"joint_export/dicom_paths.csv\"))\n",
    "path_info = joint_export_dicom_paths[\"0\"].str.split(\"/\", expand=True)[[9, 10, 11, 12]]\n",
    "\n",
    "# add export info\n",
    "path_info[\"export\"] = joint_export_dicom_paths[\"0\"].str.split(\"/\", expand=True)[7]\n",
    "\n",
    "# convert laterality format\n",
    "path_info[10] = path_info[10].str.replace(\"Left\", \"L\").str.replace(\"Right\", \"R\")\n",
    "\n",
    "joint_meta_pd[\"study_date\"] = joint_meta_pd[\"study_date\"].astype(str)\n",
    "joint_meta_pd[\"PATNR\"] = joint_meta_pd.PATNR.astype(str)"
   ]
  },
  {
   "cell_type": "code",
   "execution_count": 213,
   "metadata": {},
   "outputs": [],
   "source": [
    "## Check data Quality (duplicate patients and birthdays)"
   ]
  },
  {
   "cell_type": "code",
   "execution_count": 214,
   "metadata": {},
   "outputs": [],
   "source": [
    "joint_meta_export_1_pd = joint_meta_pd[joint_meta_pd.export==\"1\"]\n",
    "joint_meta_export_2_pd = joint_meta_pd[joint_meta_pd.export==\"2\"]"
   ]
  },
  {
   "cell_type": "code",
   "execution_count": 215,
   "metadata": {},
   "outputs": [],
   "source": [
    "joint_meta_exp_1_pd = pd.merge(joint_meta_export_1_pd, path_info[path_info.export==\"Studies\"], \n",
    "                         left_on=[\"PATNR\", \"laterality\", \"study_date\"], \n",
    "                         right_on=[9, 10, 11], how=\"left\")\n",
    "\n",
    "joint_meta_exp_2_pd = pd.merge(joint_meta_export_2_pd, path_info[path_info.export==\"Studies2_202012\"], \n",
    "                         left_on=[\"PATNR\", \"laterality\", \"study_date\"], \n",
    "                         right_on=[9, 10, 11], how=\"left\")"
   ]
  },
  {
   "cell_type": "markdown",
   "metadata": {},
   "source": [
    "#### drop, rename thus align columns for appending"
   ]
  },
  {
   "cell_type": "code",
   "execution_count": 216,
   "metadata": {},
   "outputs": [],
   "source": [
    "joint_meta_exp_1_pd.drop(columns=[9, 10, 11, \"export_y\"], inplace=True)\n",
    "joint_meta_exp_1_pd.rename(columns={\"export_x\": \"export\", 12: \"dicom_name\"}, inplace=True)"
   ]
  },
  {
   "cell_type": "code",
   "execution_count": 217,
   "metadata": {},
   "outputs": [],
   "source": [
    "joint_meta_exp_2_pd.drop(columns=[9, 10, 11, \"export_y\"], inplace=True)\n",
    "joint_meta_exp_2_pd.rename(columns={\"export_x\": \"export\", 12: \"dicom_name\"}, inplace=True)"
   ]
  },
  {
   "cell_type": "code",
   "execution_count": 218,
   "metadata": {},
   "outputs": [
    {
     "data": {
      "text/html": [
       "<div>\n",
       "<style scoped>\n",
       "    .dataframe tbody tr th:only-of-type {\n",
       "        vertical-align: middle;\n",
       "    }\n",
       "\n",
       "    .dataframe tbody tr th {\n",
       "        vertical-align: top;\n",
       "    }\n",
       "\n",
       "    .dataframe thead th {\n",
       "        text-align: right;\n",
       "    }\n",
       "</style>\n",
       "<table border=\"1\" class=\"dataframe\">\n",
       "  <thead>\n",
       "    <tr style=\"text-align: right;\">\n",
       "      <th></th>\n",
       "      <th>PATNR</th>\n",
       "      <th>laterality</th>\n",
       "      <th>study_date</th>\n",
       "      <th>birthdate</th>\n",
       "      <th>image_type</th>\n",
       "      <th>gender</th>\n",
       "      <th>modality</th>\n",
       "      <th>study_description</th>\n",
       "      <th>img_shape</th>\n",
       "      <th>age</th>\n",
       "      <th>number_of_visits</th>\n",
       "      <th>export</th>\n",
       "      <th>dicom_name</th>\n",
       "    </tr>\n",
       "  </thead>\n",
       "  <tbody>\n",
       "    <tr>\n",
       "      <td>0</td>\n",
       "      <td>381934</td>\n",
       "      <td>R</td>\n",
       "      <td>20200513</td>\n",
       "      <td>19450901</td>\n",
       "      <td>['ORIGINAL', 'PRIMARY']</td>\n",
       "      <td>F</td>\n",
       "      <td>OPT</td>\n",
       "      <td>Makula (OCT)</td>\n",
       "      <td>(49, 496, 512)</td>\n",
       "      <td>75</td>\n",
       "      <td>2</td>\n",
       "      <td>2</td>\n",
       "      <td>OPt.1.3.6.1.4.1.33437.10.4.16073696.1323383288...</td>\n",
       "    </tr>\n",
       "    <tr>\n",
       "      <td>1</td>\n",
       "      <td>381934</td>\n",
       "      <td>L</td>\n",
       "      <td>20200513</td>\n",
       "      <td>19450901</td>\n",
       "      <td>['ORIGINAL', 'PRIMARY']</td>\n",
       "      <td>F</td>\n",
       "      <td>OPT</td>\n",
       "      <td>Makula (OCT)</td>\n",
       "      <td>(49, 496, 512)</td>\n",
       "      <td>75</td>\n",
       "      <td>2</td>\n",
       "      <td>2</td>\n",
       "      <td>OPt.1.3.6.1.4.1.33437.10.4.16073696.1323383288...</td>\n",
       "    </tr>\n",
       "    <tr>\n",
       "      <td>2</td>\n",
       "      <td>9846</td>\n",
       "      <td>L</td>\n",
       "      <td>20181219</td>\n",
       "      <td>19380501</td>\n",
       "      <td>['ORIGINAL', 'PRIMARY']</td>\n",
       "      <td>F</td>\n",
       "      <td>OPT</td>\n",
       "      <td>Makula (OCT)</td>\n",
       "      <td>(49, 496, 512)</td>\n",
       "      <td>83</td>\n",
       "      <td>17</td>\n",
       "      <td>2</td>\n",
       "      <td>OPt.1.3.6.1.4.1.33437.10.4.16073696.1318968422...</td>\n",
       "    </tr>\n",
       "    <tr>\n",
       "      <td>3</td>\n",
       "      <td>9846</td>\n",
       "      <td>L</td>\n",
       "      <td>20181009</td>\n",
       "      <td>19380501</td>\n",
       "      <td>['ORIGINAL', 'PRIMARY']</td>\n",
       "      <td>F</td>\n",
       "      <td>OPT</td>\n",
       "      <td>Makula (OCT)</td>\n",
       "      <td>(49, 496, 512)</td>\n",
       "      <td>83</td>\n",
       "      <td>17</td>\n",
       "      <td>2</td>\n",
       "      <td>OPt.1.3.6.1.4.1.33437.10.4.6339912.13183544275...</td>\n",
       "    </tr>\n",
       "    <tr>\n",
       "      <td>4</td>\n",
       "      <td>9846</td>\n",
       "      <td>L</td>\n",
       "      <td>20190213</td>\n",
       "      <td>19380501</td>\n",
       "      <td>['ORIGINAL', 'PRIMARY']</td>\n",
       "      <td>F</td>\n",
       "      <td>OPT</td>\n",
       "      <td>Makula (OCT)</td>\n",
       "      <td>(49, 496, 512)</td>\n",
       "      <td>83</td>\n",
       "      <td>17</td>\n",
       "      <td>2</td>\n",
       "      <td>OPt.1.3.6.1.4.1.33437.10.4.6339912.13194535929...</td>\n",
       "    </tr>\n",
       "  </tbody>\n",
       "</table>\n",
       "</div>"
      ],
      "text/plain": [
       "    PATNR laterality study_date  birthdate               image_type gender  \\\n",
       "0  381934          R   20200513   19450901  ['ORIGINAL', 'PRIMARY']      F   \n",
       "1  381934          L   20200513   19450901  ['ORIGINAL', 'PRIMARY']      F   \n",
       "2    9846          L   20181219   19380501  ['ORIGINAL', 'PRIMARY']      F   \n",
       "3    9846          L   20181009   19380501  ['ORIGINAL', 'PRIMARY']      F   \n",
       "4    9846          L   20190213   19380501  ['ORIGINAL', 'PRIMARY']      F   \n",
       "\n",
       "  modality study_description       img_shape  age  number_of_visits export  \\\n",
       "0      OPT      Makula (OCT)  (49, 496, 512)   75                 2      2   \n",
       "1      OPT      Makula (OCT)  (49, 496, 512)   75                 2      2   \n",
       "2      OPT      Makula (OCT)  (49, 496, 512)   83                17      2   \n",
       "3      OPT      Makula (OCT)  (49, 496, 512)   83                17      2   \n",
       "4      OPT      Makula (OCT)  (49, 496, 512)   83                17      2   \n",
       "\n",
       "                                          dicom_name  \n",
       "0  OPt.1.3.6.1.4.1.33437.10.4.16073696.1323383288...  \n",
       "1  OPt.1.3.6.1.4.1.33437.10.4.16073696.1323383288...  \n",
       "2  OPt.1.3.6.1.4.1.33437.10.4.16073696.1318968422...  \n",
       "3  OPt.1.3.6.1.4.1.33437.10.4.6339912.13183544275...  \n",
       "4  OPt.1.3.6.1.4.1.33437.10.4.6339912.13194535929...  "
      ]
     },
     "execution_count": 218,
     "metadata": {},
     "output_type": "execute_result"
    }
   ],
   "source": [
    "joint_meta_exp_2_pd.head()"
   ]
  },
  {
   "cell_type": "markdown",
   "metadata": {},
   "source": [
    "#### Create correct laterality string for export 2 path"
   ]
  },
  {
   "cell_type": "code",
   "execution_count": 219,
   "metadata": {},
   "outputs": [],
   "source": [
    "lat_exp1 = joint_meta_exp_1_pd[\"laterality\"].copy()\n",
    "\n",
    "lat_exp1[lat_exp1 == \"R\"]  = lat_exp1[lat_exp1 == \"R\"] + \"ight\"\n",
    "lat_exp1[lat_exp1 == \"L\"]  = lat_exp1[lat_exp1 == \"L\"] + \"eft\""
   ]
  },
  {
   "cell_type": "code",
   "execution_count": 220,
   "metadata": {},
   "outputs": [],
   "source": [
    "PATH_EXT_1 = joint_meta_exp_1_pd.PATNR + \"/\" + lat_exp1 + \"/\" + joint_meta_exp_1_pd.study_date\n",
    "PATH_EXT_2 = joint_meta_exp_2_pd.PATNR + \"/\" + joint_meta_exp_2_pd.laterality + \"/\" + joint_meta_exp_2_pd.study_date\n",
    "\n",
    "joint_meta_exp_1_pd[\"oct_path\"] = OCT_DIR_EXPORT_1 + \"/\" + PATH_EXT_1 + \"/\" + joint_meta_exp_1_pd.dicom_name\n",
    "joint_meta_exp_2_pd[\"oct_path\"] = OCT_DIR_EXPORT_2 + \"/\" + PATH_EXT_2 + \"/\" + joint_meta_exp_2_pd.dicom_name"
   ]
  },
  {
   "cell_type": "markdown",
   "metadata": {},
   "source": [
    "## verify that same patient in export 1 and 2 are in fact the same"
   ]
  },
  {
   "cell_type": "code",
   "execution_count": 221,
   "metadata": {},
   "outputs": [
    {
     "name": "stdout",
     "output_type": "stream",
     "text": [
      "displaying oct path:  /storage/groups/ml01/datasets/raw/2018_LMUAugenklinik_niklas.koehler/Studies/Optical Coherence Tomography Scanner/183/Right/20180306/1.3.6.1.4.1.33437.10.4.13118731.13164795005.22408.4.1.dcm\n"
     ]
    },
    {
     "data": {
      "text/plain": [
       "<matplotlib.image.AxesImage at 0x7f214cd63a90>"
      ]
     },
     "execution_count": 221,
     "metadata": {},
     "output_type": "execute_result"
    },
    {
     "data": {
      "image/png": "[encoded data removed]",
      "text/plain": [
       "<Figure size 432x288 with 1 Axes>"
      ]
     },
     "metadata": {
      "needs_background": "light"
     },
     "output_type": "display_data"
    }
   ],
   "source": [
    "from pydicom import read_file\n",
    "\n",
    "patient = \"183\"\n",
    "laterality = \"R\"\n",
    "study_date = \"20180306\"\n",
    "\n",
    "patient_pd = joint_meta_exp_1_pd[joint_meta_exp_1_pd.PATNR == patient]\n",
    "lat_pd = patient_pd[patient_pd.laterality == laterality]\n",
    "study_pd = lat_pd[lat_pd.study_date == study_date]\n",
    "\n",
    "oct_1 = read_file(study_pd.oct_path.iloc[0]).pixel_array[15, :, :]\n",
    "\n",
    "print(\"displaying oct path: \", study_pd.oct_path.iloc[0])\n",
    "plt.imshow(oct_1)"
   ]
  },
  {
   "cell_type": "code",
   "execution_count": 222,
   "metadata": {},
   "outputs": [
    {
     "name": "stdout",
     "output_type": "stream",
     "text": [
      "displaying oct path:  /storage/groups/ml01/datasets/raw/2018_LMUAugenklinik_niklas.koehler/Studies2_202012/OPT/183/R/20180306/OPt.1.3.6.1.4.1.33437.10.4.13118731.13164795005.22408.4.1.dcm\n"
     ]
    },
    {
     "data": {
      "text/plain": [
       "<matplotlib.image.AxesImage at 0x7f214ccea750>"
      ]
     },
     "execution_count": 222,
     "metadata": {},
     "output_type": "execute_result"
    },
    {
     "data": {
      "image/png": "[encoded data removed]",
      "text/plain": [
       "<Figure size 432x288 with 1 Axes>"
      ]
     },
     "metadata": {
      "needs_background": "light"
     },
     "output_type": "display_data"
    }
   ],
   "source": [
    "patient_pd = joint_meta_exp_2_pd[joint_meta_exp_2_pd.PATNR == patient]\n",
    "lat_pd = patient_pd[patient_pd.laterality == laterality]\n",
    "study_pd = lat_pd[lat_pd.study_date == study_date]\n",
    "\n",
    "oct_2 = read_file(study_pd.oct_path.iloc[0]).pixel_array[15, :, :]\n",
    "\n",
    "print(\"displaying oct path: \", study_pd.oct_path.iloc[0])\n",
    "\n",
    "plt.imshow(oct_2)"
   ]
  },
  {
   "cell_type": "markdown",
   "metadata": {},
   "source": [
    "#### join meta tables"
   ]
  },
  {
   "cell_type": "code",
   "execution_count": 223,
   "metadata": {},
   "outputs": [],
   "source": [
    "joint_meta_pd = joint_meta_exp_1_pd.append(joint_meta_exp_2_pd)"
   ]
  },
  {
   "cell_type": "markdown",
   "metadata": {},
   "source": [
    "#### Save joint meta table to joint export directory"
   ]
  },
  {
   "cell_type": "code",
   "execution_count": 224,
   "metadata": {},
   "outputs": [],
   "source": [
    "joint_meta_pd.to_csv(os.path.join(PROJ_DIR, \"joint_export\", \"oct_meta_information.csv\"), index=False)"
   ]
  },
  {
   "cell_type": "code",
   "execution_count": 225,
   "metadata": {},
   "outputs": [
    {
     "data": {
      "text/html": [
       "<div>\n",
       "<style scoped>\n",
       "    .dataframe tbody tr th:only-of-type {\n",
       "        vertical-align: middle;\n",
       "    }\n",
       "\n",
       "    .dataframe tbody tr th {\n",
       "        vertical-align: top;\n",
       "    }\n",
       "\n",
       "    .dataframe thead th {\n",
       "        text-align: right;\n",
       "    }\n",
       "</style>\n",
       "<table border=\"1\" class=\"dataframe\">\n",
       "  <thead>\n",
       "    <tr style=\"text-align: right;\">\n",
       "      <th></th>\n",
       "      <th>PATNR</th>\n",
       "      <th>laterality</th>\n",
       "      <th>study_date</th>\n",
       "      <th>birthdate</th>\n",
       "      <th>image_type</th>\n",
       "      <th>gender</th>\n",
       "      <th>modality</th>\n",
       "      <th>study_description</th>\n",
       "      <th>img_shape</th>\n",
       "      <th>age</th>\n",
       "      <th>number_of_visits</th>\n",
       "      <th>export</th>\n",
       "      <th>dicom_name</th>\n",
       "      <th>oct_path</th>\n",
       "    </tr>\n",
       "  </thead>\n",
       "  <tbody>\n",
       "    <tr>\n",
       "      <td>0</td>\n",
       "      <td>363979</td>\n",
       "      <td>R</td>\n",
       "      <td>20180129</td>\n",
       "      <td>19900101</td>\n",
       "      <td>['ORIGINAL', 'PRIMARY']</td>\n",
       "      <td>M</td>\n",
       "      <td>OPT</td>\n",
       "      <td>Makula (OCT)</td>\n",
       "      <td>(49, 496, 512)</td>\n",
       "      <td>31</td>\n",
       "      <td>2</td>\n",
       "      <td>1</td>\n",
       "      <td>1.3.6.1.4.1.33437.10.4.4089432.13161688882.283...</td>\n",
       "      <td>/storage/groups/ml01/datasets/raw/2018_LMUAuge...</td>\n",
       "    </tr>\n",
       "    <tr>\n",
       "      <td>1</td>\n",
       "      <td>363979</td>\n",
       "      <td>L</td>\n",
       "      <td>20180129</td>\n",
       "      <td>19900101</td>\n",
       "      <td>['ORIGINAL', 'PRIMARY']</td>\n",
       "      <td>M</td>\n",
       "      <td>OPT</td>\n",
       "      <td>Makula (OCT)</td>\n",
       "      <td>(49, 496, 512)</td>\n",
       "      <td>31</td>\n",
       "      <td>2</td>\n",
       "      <td>1</td>\n",
       "      <td>1.3.6.1.4.1.33437.10.4.4089432.13161688884.283...</td>\n",
       "      <td>/storage/groups/ml01/datasets/raw/2018_LMUAuge...</td>\n",
       "    </tr>\n",
       "    <tr>\n",
       "      <td>2</td>\n",
       "      <td>350569</td>\n",
       "      <td>R</td>\n",
       "      <td>20170306</td>\n",
       "      <td>20110101</td>\n",
       "      <td>['ORIGINAL', 'PRIMARY']</td>\n",
       "      <td>M</td>\n",
       "      <td>OPT</td>\n",
       "      <td>Makula (OCT)</td>\n",
       "      <td>(49, 496, 512)</td>\n",
       "      <td>10</td>\n",
       "      <td>2</td>\n",
       "      <td>1</td>\n",
       "      <td>1.3.6.1.4.1.33437.10.4.4089432.13133269474.269...</td>\n",
       "      <td>/storage/groups/ml01/datasets/raw/2018_LMUAuge...</td>\n",
       "    </tr>\n",
       "    <tr>\n",
       "      <td>3</td>\n",
       "      <td>350569</td>\n",
       "      <td>L</td>\n",
       "      <td>20170306</td>\n",
       "      <td>20110101</td>\n",
       "      <td>['ORIGINAL', 'PRIMARY']</td>\n",
       "      <td>M</td>\n",
       "      <td>OPT</td>\n",
       "      <td>Makula (OCT)</td>\n",
       "      <td>(49, 496, 512)</td>\n",
       "      <td>10</td>\n",
       "      <td>2</td>\n",
       "      <td>1</td>\n",
       "      <td>1.3.6.1.4.1.33437.10.4.4089432.13133269479.269...</td>\n",
       "      <td>/storage/groups/ml01/datasets/raw/2018_LMUAuge...</td>\n",
       "    </tr>\n",
       "    <tr>\n",
       "      <td>4</td>\n",
       "      <td>185669</td>\n",
       "      <td>L</td>\n",
       "      <td>20141209</td>\n",
       "      <td>19720101</td>\n",
       "      <td>['ORIGINAL', 'PRIMARY']</td>\n",
       "      <td>F</td>\n",
       "      <td>OPT</td>\n",
       "      <td>Makula (OCT)</td>\n",
       "      <td>(49, 496, 512)</td>\n",
       "      <td>49</td>\n",
       "      <td>2</td>\n",
       "      <td>1</td>\n",
       "      <td>1.3.6.1.4.1.33437.10.4.15740454.13062592861.12...</td>\n",
       "      <td>/storage/groups/ml01/datasets/raw/2018_LMUAuge...</td>\n",
       "    </tr>\n",
       "  </tbody>\n",
       "</table>\n",
       "</div>"
      ],
      "text/plain": [
       "    PATNR laterality study_date  birthdate               image_type gender  \\\n",
       "0  363979          R   20180129   19900101  ['ORIGINAL', 'PRIMARY']      M   \n",
       "1  363979          L   20180129   19900101  ['ORIGINAL', 'PRIMARY']      M   \n",
       "2  350569          R   20170306   20110101  ['ORIGINAL', 'PRIMARY']      M   \n",
       "3  350569          L   20170306   20110101  ['ORIGINAL', 'PRIMARY']      M   \n",
       "4  185669          L   20141209   19720101  ['ORIGINAL', 'PRIMARY']      F   \n",
       "\n",
       "  modality study_description       img_shape  age  number_of_visits export  \\\n",
       "0      OPT      Makula (OCT)  (49, 496, 512)   31                 2      1   \n",
       "1      OPT      Makula (OCT)  (49, 496, 512)   31                 2      1   \n",
       "2      OPT      Makula (OCT)  (49, 496, 512)   10                 2      1   \n",
       "3      OPT      Makula (OCT)  (49, 496, 512)   10                 2      1   \n",
       "4      OPT      Makula (OCT)  (49, 496, 512)   49                 2      1   \n",
       "\n",
       "                                          dicom_name  \\\n",
       "0  1.3.6.1.4.1.33437.10.4.4089432.13161688882.283...   \n",
       "1  1.3.6.1.4.1.33437.10.4.4089432.13161688884.283...   \n",
       "2  1.3.6.1.4.1.33437.10.4.4089432.13133269474.269...   \n",
       "3  1.3.6.1.4.1.33437.10.4.4089432.13133269479.269...   \n",
       "4  1.3.6.1.4.1.33437.10.4.15740454.13062592861.12...   \n",
       "\n",
       "                                            oct_path  \n",
       "0  /storage/groups/ml01/datasets/raw/2018_LMUAuge...  \n",
       "1  /storage/groups/ml01/datasets/raw/2018_LMUAuge...  \n",
       "2  /storage/groups/ml01/datasets/raw/2018_LMUAuge...  \n",
       "3  /storage/groups/ml01/datasets/raw/2018_LMUAuge...  \n",
       "4  /storage/groups/ml01/datasets/raw/2018_LMUAuge...  "
      ]
     },
     "execution_count": 225,
     "metadata": {},
     "output_type": "execute_result"
    }
   ],
   "source": [
    "joint_meta_pd.head()"
   ]
  },
  {
   "cell_type": "markdown",
   "metadata": {},
   "source": [
    "### Join Diagnosen and Prozeduren tables"
   ]
  },
  {
   "cell_type": "code",
   "execution_count": 226,
   "metadata": {},
   "outputs": [
    {
     "name": "stdout",
     "output_type": "stream",
     "text": [
      "Files in joint path ['visus.csv', 'prozeduren.csv', 'tensio.csv', 'medications.csv', 'visus_labels.csv', 'diagnosis.csv', 'supplement_tables']\n"
     ]
    }
   ],
   "source": [
    "print(\"Files in joint path\", os.listdir(JOINT_PATH))\n",
    "\n",
    "joint_prozeduren_pd = pd.read_csv(os.path.join(JOINT_PATH, 'prozeduren.csv'))\n",
    "joint_diagnosis_pd = pd.read_csv(os.path.join(JOINT_PATH, 'diagnosis.csv'))"
   ]
  },
  {
   "cell_type": "code",
   "execution_count": 227,
   "metadata": {
    "scrolled": true
   },
   "outputs": [
    {
     "data": {
      "text/html": [
       "<div>\n",
       "<style scoped>\n",
       "    .dataframe tbody tr th:only-of-type {\n",
       "        vertical-align: middle;\n",
       "    }\n",
       "\n",
       "    .dataframe tbody tr th {\n",
       "        vertical-align: top;\n",
       "    }\n",
       "\n",
       "    .dataframe thead th {\n",
       "        text-align: right;\n",
       "    }\n",
       "</style>\n",
       "<table border=\"1\" class=\"dataframe\">\n",
       "  <thead>\n",
       "    <tr style=\"text-align: right;\">\n",
       "      <th></th>\n",
       "      <th>Unnamed: 0</th>\n",
       "      <th>DAT</th>\n",
       "      <th>ICPMK</th>\n",
       "      <th>ICPML</th>\n",
       "      <th>LOK</th>\n",
       "      <th>PATNR</th>\n",
       "    </tr>\n",
       "  </thead>\n",
       "  <tbody>\n",
       "    <tr>\n",
       "      <td>0</td>\n",
       "      <td>0</td>\n",
       "      <td>2006-03-15 00:00:00</td>\n",
       "      <td>P4</td>\n",
       "      <td>5-984</td>\n",
       "      <td>L</td>\n",
       "      <td>17</td>\n",
       "    </tr>\n",
       "    <tr>\n",
       "      <td>1</td>\n",
       "      <td>1</td>\n",
       "      <td>2014-05-21 00:00:00</td>\n",
       "      <td>PC</td>\n",
       "      <td>5-091.10</td>\n",
       "      <td>L</td>\n",
       "      <td>17</td>\n",
       "    </tr>\n",
       "    <tr>\n",
       "      <td>2</td>\n",
       "      <td>2</td>\n",
       "      <td>2015-02-10 00:00:00</td>\n",
       "      <td>PD</td>\n",
       "      <td>5-984</td>\n",
       "      <td>NaN</td>\n",
       "      <td>17</td>\n",
       "    </tr>\n",
       "    <tr>\n",
       "      <td>3</td>\n",
       "      <td>3</td>\n",
       "      <td>2015-07-13 00:00:00</td>\n",
       "      <td>PD</td>\n",
       "      <td>3-300.0</td>\n",
       "      <td>NaN</td>\n",
       "      <td>17</td>\n",
       "    </tr>\n",
       "    <tr>\n",
       "      <td>4</td>\n",
       "      <td>4</td>\n",
       "      <td>2018-01-08 00:00:00</td>\n",
       "      <td>PG</td>\n",
       "      <td>5-156.9</td>\n",
       "      <td>R</td>\n",
       "      <td>18</td>\n",
       "    </tr>\n",
       "  </tbody>\n",
       "</table>\n",
       "</div>"
      ],
      "text/plain": [
       "   Unnamed: 0                  DAT ICPMK     ICPML  LOK  PATNR\n",
       "0           0  2006-03-15 00:00:00    P4     5-984    L     17\n",
       "1           1  2014-05-21 00:00:00    PC  5-091.10    L     17\n",
       "2           2  2015-02-10 00:00:00    PD     5-984  NaN     17\n",
       "3           3  2015-07-13 00:00:00    PD   3-300.0  NaN     17\n",
       "4           4  2018-01-08 00:00:00    PG   5-156.9    R     18"
      ]
     },
     "execution_count": 227,
     "metadata": {},
     "output_type": "execute_result"
    }
   ],
   "source": [
    "joint_prozeduren_pd.head()"
   ]
  },
  {
   "cell_type": "code",
   "execution_count": 228,
   "metadata": {
    "scrolled": true
   },
   "outputs": [
    {
     "data": {
      "text/html": [
       "<div>\n",
       "<style scoped>\n",
       "    .dataframe tbody tr th:only-of-type {\n",
       "        vertical-align: middle;\n",
       "    }\n",
       "\n",
       "    .dataframe tbody tr th {\n",
       "        vertical-align: top;\n",
       "    }\n",
       "\n",
       "    .dataframe thead th {\n",
       "        text-align: right;\n",
       "    }\n",
       "</style>\n",
       "<table border=\"1\" class=\"dataframe\">\n",
       "  <thead>\n",
       "    <tr style=\"text-align: right;\">\n",
       "      <th></th>\n",
       "      <th>Unnamed: 0</th>\n",
       "      <th>DAT</th>\n",
       "      <th>DKAT</th>\n",
       "      <th>DKEY</th>\n",
       "      <th>LOK</th>\n",
       "      <th>PATNR</th>\n",
       "    </tr>\n",
       "  </thead>\n",
       "  <tbody>\n",
       "    <tr>\n",
       "      <td>0</td>\n",
       "      <td>0</td>\n",
       "      <td>2003-11-18 00:00:00</td>\n",
       "      <td>A1</td>\n",
       "      <td>C44.18</td>\n",
       "      <td>NaN</td>\n",
       "      <td>17</td>\n",
       "    </tr>\n",
       "    <tr>\n",
       "      <td>1</td>\n",
       "      <td>1</td>\n",
       "      <td>2006-03-15 00:00:00</td>\n",
       "      <td>4</td>\n",
       "      <td>J45.9</td>\n",
       "      <td>NaN</td>\n",
       "      <td>17</td>\n",
       "    </tr>\n",
       "    <tr>\n",
       "      <td>2</td>\n",
       "      <td>2</td>\n",
       "      <td>2006-03-15 00:00:00</td>\n",
       "      <td>AS</td>\n",
       "      <td>ASA1</td>\n",
       "      <td>NaN</td>\n",
       "      <td>17</td>\n",
       "    </tr>\n",
       "    <tr>\n",
       "      <td>3</td>\n",
       "      <td>3</td>\n",
       "      <td>2006-11-07 00:00:00</td>\n",
       "      <td>4</td>\n",
       "      <td>C44.1</td>\n",
       "      <td>NaN</td>\n",
       "      <td>17</td>\n",
       "    </tr>\n",
       "    <tr>\n",
       "      <td>4</td>\n",
       "      <td>4</td>\n",
       "      <td>2007-08-07 00:00:00</td>\n",
       "      <td>5</td>\n",
       "      <td>C44.1</td>\n",
       "      <td>NaN</td>\n",
       "      <td>17</td>\n",
       "    </tr>\n",
       "  </tbody>\n",
       "</table>\n",
       "</div>"
      ],
      "text/plain": [
       "   Unnamed: 0                  DAT DKAT    DKEY  LOK  PATNR\n",
       "0           0  2003-11-18 00:00:00   A1  C44.18  NaN     17\n",
       "1           1  2006-03-15 00:00:00    4   J45.9  NaN     17\n",
       "2           2  2006-03-15 00:00:00   AS    ASA1  NaN     17\n",
       "3           3  2006-11-07 00:00:00    4   C44.1  NaN     17\n",
       "4           4  2007-08-07 00:00:00    5   C44.1  NaN     17"
      ]
     },
     "execution_count": 228,
     "metadata": {},
     "output_type": "execute_result"
    }
   ],
   "source": [
    "joint_diagnosis_pd.head()"
   ]
  },
  {
   "cell_type": "markdown",
   "metadata": {},
   "source": [
    "#### remove nan values from patient id"
   ]
  },
  {
   "cell_type": "code",
   "execution_count": 229,
   "metadata": {
    "scrolled": true
   },
   "outputs": [],
   "source": [
    "joint_meta_pd = joint_meta_pd[joint_meta_pd[\"PATNR\"] != \"nan\"]"
   ]
  },
  {
   "cell_type": "markdown",
   "metadata": {},
   "source": [
    "### Get list of unique diagnosises for each patient"
   ]
  },
  {
   "cell_type": "code",
   "execution_count": 230,
   "metadata": {
    "scrolled": true
   },
   "outputs": [
    {
     "name": "stderr",
     "output_type": "stream",
     "text": [
      "100%|██████████| 34062/34062 [03:39<00:00, 154.89it/s]\n"
     ]
    }
   ],
   "source": [
    "unique_patients = joint_meta_pd[\"PATNR\"].drop_duplicates().tolist()\n",
    "\n",
    "joint_diagnosis_pd[\"DAT_dt\"] = pd.to_datetime(joint_diagnosis_pd.DAT)\n",
    "\n",
    "diagnosis_dict = {\"PATNR\": [], \"AMD\": [], \"DKEY_first_date\": []}\n",
    "\n",
    "for patient in tqdm(unique_patients):\n",
    "    diagnosis_dict[\"PATNR\"].append(patient)\n",
    "    \n",
    "    patient_dkat_pd = joint_diagnosis_pd[joint_diagnosis_pd.PATNR == int(patient)]\n",
    "    dkeys = patient_dkat_pd.DKEY.drop_duplicates().values\n",
    "    \n",
    "    if any(\"H35.3\" in str(dk) for dk in dkeys):\n",
    "        amd_dates = patient_dkat_pd[patient_dkat_pd.DKEY.str.contains('H35.3').fillna(False)].DAT_dt\n",
    "        \n",
    "        diagnosis_dict[\"DKEY_first_date\"].append(min(amd_dates))\n",
    "        diagnosis_dict[\"AMD\"].append(True)\n",
    "    else:\n",
    "        diagnosis_dict[\"DKEY_first_date\"].append(np.nan)\n",
    "        diagnosis_dict[\"AMD\"].append(False)"
   ]
  },
  {
   "cell_type": "markdown",
   "metadata": {},
   "source": [
    "#### Join DKEY info to joint meta table"
   ]
  },
  {
   "cell_type": "code",
   "execution_count": 231,
   "metadata": {},
   "outputs": [],
   "source": [
    "amd_assignment = pd.DataFrame.from_dict(diagnosis_dict)\n",
    "amd_assignment[\"PATNR\"] = amd_assignment.PATNR.astype(str)\n",
    "\n",
    "joint_meta_pd = pd.merge(joint_meta_pd, amd_assignment, left_on=\"PATNR\", right_on=\"PATNR\", how=\"left\")"
   ]
  },
  {
   "cell_type": "markdown",
   "metadata": {},
   "source": [
    "### Get list of unique procedures for each patient"
   ]
  },
  {
   "cell_type": "code",
   "execution_count": 232,
   "metadata": {},
   "outputs": [
    {
     "name": "stderr",
     "output_type": "stream",
     "text": [
      "100%|██████████| 34062/34062 [02:16<00:00, 249.30it/s]\n"
     ]
    }
   ],
   "source": [
    "prozeduren_dict = {\"PATNR\": [], \"INJECTION\": [], \"INJECTION_first_date\": []}\n",
    "\n",
    "joint_prozeduren_pd[\"DAT_dt\"] = pd.to_datetime(joint_prozeduren_pd.DAT)\n",
    "\n",
    "for patient in tqdm(unique_patients):\n",
    "    prozeduren_dict[\"PATNR\"].append(patient)\n",
    "    \n",
    "    patient_prozeduren_pd = joint_prozeduren_pd[joint_prozeduren_pd.PATNR == int(patient)]\n",
    "    ICPML_codes = patient_prozeduren_pd.ICPML.drop_duplicates().values\n",
    "    \n",
    "    if any(\"5-156.9\" in str(code) for code in ICPML_codes):\n",
    "        injection_dates = patient_prozeduren_pd[patient_prozeduren_pd.ICPML.str.contains('5-156.9')].DAT_dt\n",
    "        \n",
    "        prozeduren_dict[\"INJECTION_first_date\"].append(min(injection_dates))\n",
    "        prozeduren_dict[\"INJECTION\"].append(True)\n",
    "    else:\n",
    "        prozeduren_dict[\"INJECTION_first_date\"].append(np.nan)\n",
    "        prozeduren_dict[\"INJECTION\"].append(False)"
   ]
  },
  {
   "cell_type": "markdown",
   "metadata": {},
   "source": [
    "#### Join Injection info to joint meta table"
   ]
  },
  {
   "cell_type": "code",
   "execution_count": 233,
   "metadata": {
    "scrolled": true
   },
   "outputs": [
    {
     "data": {
      "text/plain": [
       "(34062, 34062, 34062)"
      ]
     },
     "execution_count": 233,
     "metadata": {},
     "output_type": "execute_result"
    }
   ],
   "source": [
    "len(prozeduren_dict[\"PATNR\"]), len(prozeduren_dict[\"INJECTION\"]), len(prozeduren_dict[\"INJECTION_first_date\"])"
   ]
  },
  {
   "cell_type": "code",
   "execution_count": 234,
   "metadata": {},
   "outputs": [],
   "source": [
    "injection_assignment = pd.DataFrame.from_dict(prozeduren_dict)\n",
    "injection_assignment[\"PATNR\"] = injection_assignment.PATNR.astype(str)\n",
    "\n",
    "joint_meta_pd = pd.merge(joint_meta_pd, injection_assignment, left_on=\"PATNR\", right_on=\"PATNR\", how=\"left\") "
   ]
  },
  {
   "cell_type": "markdown",
   "metadata": {},
   "source": [
    "#### Save meta table"
   ]
  },
  {
   "cell_type": "code",
   "execution_count": 235,
   "metadata": {},
   "outputs": [],
   "source": [
    "EXT = \"joint_export\"\n",
    "joint_meta_pd.to_csv(os.path.join(PROJ_DIR, EXT, \"oct_meta_information.csv\"), index=False)"
   ]
  },
  {
   "cell_type": "markdown",
   "metadata": {},
   "source": [
    "## Drop cross export duplicates"
   ]
  },
  {
   "cell_type": "code",
   "execution_count": 236,
   "metadata": {},
   "outputs": [],
   "source": [
    "joint_meta_pd = joint_meta_pd.drop_duplicates(subset=[\"PATNR\", \"laterality\", \"study_date\"])"
   ]
  },
  {
   "cell_type": "markdown",
   "metadata": {},
   "source": [
    "## Filter for > 2 visists, join in Diagnosis and Prozeduren tables "
   ]
  },
  {
   "cell_type": "code",
   "execution_count": 238,
   "metadata": {},
   "outputs": [
    {
     "name": "stdout",
     "output_type": "stream",
     "text": [
      "Number of OCTs part of time series:  182786\n"
     ]
    }
   ],
   "source": [
    "single_visit_filter = joint_meta_pd.number_of_visits > 2\n",
    "\n",
    "joint_meta_longitudinal = joint_meta_pd[single_visit_filter]\n",
    "\n",
    "print(\"Number of OCTs part of time series: \", joint_meta_longitudinal.shape[0])"
   ]
  },
  {
   "cell_type": "code",
   "execution_count": 239,
   "metadata": {},
   "outputs": [],
   "source": [
    "EXT = \"joint_export/longitudinal_tables\"\n",
    "joint_meta_longitudinal.to_csv(os.path.join(PROJ_DIR, EXT, \"oct_meta_longitudinal_information.csv\"), index=False)"
   ]
  },
  {
   "cell_type": "code",
   "execution_count": 240,
   "metadata": {},
   "outputs": [
    {
     "data": {
      "text/html": [
       "<div>\n",
       "<style scoped>\n",
       "    .dataframe tbody tr th:only-of-type {\n",
       "        vertical-align: middle;\n",
       "    }\n",
       "\n",
       "    .dataframe tbody tr th {\n",
       "        vertical-align: top;\n",
       "    }\n",
       "\n",
       "    .dataframe thead th {\n",
       "        text-align: right;\n",
       "    }\n",
       "</style>\n",
       "<table border=\"1\" class=\"dataframe\">\n",
       "  <thead>\n",
       "    <tr style=\"text-align: right;\">\n",
       "      <th></th>\n",
       "      <th>PATNR</th>\n",
       "      <th>laterality</th>\n",
       "      <th>study_date</th>\n",
       "      <th>birthdate</th>\n",
       "      <th>image_type</th>\n",
       "      <th>gender</th>\n",
       "      <th>modality</th>\n",
       "      <th>study_description</th>\n",
       "      <th>img_shape</th>\n",
       "      <th>age</th>\n",
       "      <th>number_of_visits</th>\n",
       "      <th>export</th>\n",
       "      <th>dicom_name</th>\n",
       "      <th>oct_path</th>\n",
       "      <th>AMD</th>\n",
       "      <th>DKEY_first_date</th>\n",
       "      <th>INJECTION</th>\n",
       "      <th>INJECTION_first_date</th>\n",
       "    </tr>\n",
       "  </thead>\n",
       "  <tbody>\n",
       "    <tr>\n",
       "      <td>6</td>\n",
       "      <td>316294</td>\n",
       "      <td>L</td>\n",
       "      <td>20160520</td>\n",
       "      <td>19880101</td>\n",
       "      <td>['ORIGINAL', 'PRIMARY']</td>\n",
       "      <td>M</td>\n",
       "      <td>OPT</td>\n",
       "      <td>Makula (OCT)</td>\n",
       "      <td>(49, 496, 512)</td>\n",
       "      <td>33</td>\n",
       "      <td>12</td>\n",
       "      <td>1</td>\n",
       "      <td>1.3.6.1.4.1.33437.10.4.16265058.13108199572.79...</td>\n",
       "      <td>/storage/groups/ml01/datasets/raw/2018_LMUAuge...</td>\n",
       "      <td>False</td>\n",
       "      <td>NaT</td>\n",
       "      <td>False</td>\n",
       "      <td>NaT</td>\n",
       "    </tr>\n",
       "    <tr>\n",
       "      <td>7</td>\n",
       "      <td>316294</td>\n",
       "      <td>L</td>\n",
       "      <td>20171103</td>\n",
       "      <td>19880101</td>\n",
       "      <td>['ORIGINAL', 'PRIMARY']</td>\n",
       "      <td>M</td>\n",
       "      <td>OPT</td>\n",
       "      <td>Makula (OCT)</td>\n",
       "      <td>(49, 496, 512)</td>\n",
       "      <td>33</td>\n",
       "      <td>12</td>\n",
       "      <td>1</td>\n",
       "      <td>1.3.6.1.4.1.33437.10.4.4089432.13154166623.280...</td>\n",
       "      <td>/storage/groups/ml01/datasets/raw/2018_LMUAuge...</td>\n",
       "      <td>False</td>\n",
       "      <td>NaT</td>\n",
       "      <td>False</td>\n",
       "      <td>NaT</td>\n",
       "    </tr>\n",
       "    <tr>\n",
       "      <td>9</td>\n",
       "      <td>316294</td>\n",
       "      <td>L</td>\n",
       "      <td>20151016</td>\n",
       "      <td>19880101</td>\n",
       "      <td>['ORIGINAL', 'PRIMARY']</td>\n",
       "      <td>M</td>\n",
       "      <td>OPT</td>\n",
       "      <td>Makula (OCT)</td>\n",
       "      <td>(49, 496, 512)</td>\n",
       "      <td>33</td>\n",
       "      <td>12</td>\n",
       "      <td>1</td>\n",
       "      <td>1.3.6.1.4.1.33437.10.4.16395944.13089451581.11...</td>\n",
       "      <td>/storage/groups/ml01/datasets/raw/2018_LMUAuge...</td>\n",
       "      <td>False</td>\n",
       "      <td>NaT</td>\n",
       "      <td>False</td>\n",
       "      <td>NaT</td>\n",
       "    </tr>\n",
       "    <tr>\n",
       "      <td>10</td>\n",
       "      <td>316294</td>\n",
       "      <td>L</td>\n",
       "      <td>20161118</td>\n",
       "      <td>19880101</td>\n",
       "      <td>['ORIGINAL', 'PRIMARY']</td>\n",
       "      <td>M</td>\n",
       "      <td>OPT</td>\n",
       "      <td>Makula (OCT)</td>\n",
       "      <td>(49, 496, 512)</td>\n",
       "      <td>33</td>\n",
       "      <td>12</td>\n",
       "      <td>1</td>\n",
       "      <td>1.3.6.1.4.1.33437.10.4.4089432.13123928376.265...</td>\n",
       "      <td>/storage/groups/ml01/datasets/raw/2018_LMUAuge...</td>\n",
       "      <td>False</td>\n",
       "      <td>NaT</td>\n",
       "      <td>False</td>\n",
       "      <td>NaT</td>\n",
       "    </tr>\n",
       "    <tr>\n",
       "      <td>11</td>\n",
       "      <td>316294</td>\n",
       "      <td>L</td>\n",
       "      <td>20170519</td>\n",
       "      <td>19880101</td>\n",
       "      <td>['ORIGINAL', 'PRIMARY']</td>\n",
       "      <td>M</td>\n",
       "      <td>OPT</td>\n",
       "      <td>Makula (OCT)</td>\n",
       "      <td>(49, 496, 512)</td>\n",
       "      <td>33</td>\n",
       "      <td>12</td>\n",
       "      <td>1</td>\n",
       "      <td>1.3.6.1.4.1.33437.10.4.4089432.13139649101.273...</td>\n",
       "      <td>/storage/groups/ml01/datasets/raw/2018_LMUAuge...</td>\n",
       "      <td>False</td>\n",
       "      <td>NaT</td>\n",
       "      <td>False</td>\n",
       "      <td>NaT</td>\n",
       "    </tr>\n",
       "    <tr>\n",
       "      <td>...</td>\n",
       "      <td>...</td>\n",
       "      <td>...</td>\n",
       "      <td>...</td>\n",
       "      <td>...</td>\n",
       "      <td>...</td>\n",
       "      <td>...</td>\n",
       "      <td>...</td>\n",
       "      <td>...</td>\n",
       "      <td>...</td>\n",
       "      <td>...</td>\n",
       "      <td>...</td>\n",
       "      <td>...</td>\n",
       "      <td>...</td>\n",
       "      <td>...</td>\n",
       "      <td>...</td>\n",
       "      <td>...</td>\n",
       "      <td>...</td>\n",
       "      <td>...</td>\n",
       "    </tr>\n",
       "    <tr>\n",
       "      <td>326639</td>\n",
       "      <td>47073</td>\n",
       "      <td>L</td>\n",
       "      <td>20200522</td>\n",
       "      <td>19450501</td>\n",
       "      <td>['ORIGINAL', 'PRIMARY']</td>\n",
       "      <td>F</td>\n",
       "      <td>OPT</td>\n",
       "      <td>Makula (OCT)</td>\n",
       "      <td>(49, 496, 512)</td>\n",
       "      <td>76</td>\n",
       "      <td>8</td>\n",
       "      <td>2</td>\n",
       "      <td>OPt.1.3.6.1.4.1.33437.10.4.7175529.13234611308...</td>\n",
       "      <td>/storage/groups/ml01/datasets/raw/2018_LMUAuge...</td>\n",
       "      <td>False</td>\n",
       "      <td>NaT</td>\n",
       "      <td>False</td>\n",
       "      <td>NaT</td>\n",
       "    </tr>\n",
       "    <tr>\n",
       "      <td>326641</td>\n",
       "      <td>47073</td>\n",
       "      <td>R</td>\n",
       "      <td>20200522</td>\n",
       "      <td>19450501</td>\n",
       "      <td>['ORIGINAL', 'PRIMARY']</td>\n",
       "      <td>F</td>\n",
       "      <td>OPT</td>\n",
       "      <td>Makula (OCT)</td>\n",
       "      <td>(49, 496, 512)</td>\n",
       "      <td>76</td>\n",
       "      <td>8</td>\n",
       "      <td>2</td>\n",
       "      <td>OPt.1.3.6.1.4.1.33437.10.4.7175529.13234611307...</td>\n",
       "      <td>/storage/groups/ml01/datasets/raw/2018_LMUAuge...</td>\n",
       "      <td>False</td>\n",
       "      <td>NaT</td>\n",
       "      <td>False</td>\n",
       "      <td>NaT</td>\n",
       "    </tr>\n",
       "    <tr>\n",
       "      <td>326644</td>\n",
       "      <td>47073</td>\n",
       "      <td>R</td>\n",
       "      <td>20190225</td>\n",
       "      <td>19450501</td>\n",
       "      <td>['ORIGINAL', 'PRIMARY']</td>\n",
       "      <td>F</td>\n",
       "      <td>OPT</td>\n",
       "      <td>Makula (OCT)</td>\n",
       "      <td>(49, 496, 512)</td>\n",
       "      <td>76</td>\n",
       "      <td>8</td>\n",
       "      <td>2</td>\n",
       "      <td>OPt.1.3.6.1.4.1.33437.10.4.7175529.13195573665...</td>\n",
       "      <td>/storage/groups/ml01/datasets/raw/2018_LMUAuge...</td>\n",
       "      <td>False</td>\n",
       "      <td>NaT</td>\n",
       "      <td>False</td>\n",
       "      <td>NaT</td>\n",
       "    </tr>\n",
       "    <tr>\n",
       "      <td>326646</td>\n",
       "      <td>407</td>\n",
       "      <td>L</td>\n",
       "      <td>20190213</td>\n",
       "      <td>19360401</td>\n",
       "      <td>['ORIGINAL', 'PRIMARY']</td>\n",
       "      <td>M</td>\n",
       "      <td>OPT</td>\n",
       "      <td>Makula (OCT)</td>\n",
       "      <td>(49, 496, 512)</td>\n",
       "      <td>85</td>\n",
       "      <td>4</td>\n",
       "      <td>2</td>\n",
       "      <td>OPt.1.3.6.1.4.1.33437.10.4.16073696.1319453008...</td>\n",
       "      <td>/storage/groups/ml01/datasets/raw/2018_LMUAuge...</td>\n",
       "      <td>False</td>\n",
       "      <td>NaT</td>\n",
       "      <td>False</td>\n",
       "      <td>NaT</td>\n",
       "    </tr>\n",
       "    <tr>\n",
       "      <td>326648</td>\n",
       "      <td>407</td>\n",
       "      <td>R</td>\n",
       "      <td>20190213</td>\n",
       "      <td>19360401</td>\n",
       "      <td>['ORIGINAL', 'PRIMARY']</td>\n",
       "      <td>M</td>\n",
       "      <td>OPT</td>\n",
       "      <td>Makula (OCT)</td>\n",
       "      <td>(49, 496, 512)</td>\n",
       "      <td>85</td>\n",
       "      <td>4</td>\n",
       "      <td>2</td>\n",
       "      <td>OPt.1.3.6.1.4.1.33437.10.4.16073696.1319453008...</td>\n",
       "      <td>/storage/groups/ml01/datasets/raw/2018_LMUAuge...</td>\n",
       "      <td>False</td>\n",
       "      <td>NaT</td>\n",
       "      <td>False</td>\n",
       "      <td>NaT</td>\n",
       "    </tr>\n",
       "  </tbody>\n",
       "</table>\n",
       "<p>182786 rows × 18 columns</p>\n",
       "</div>"
      ],
      "text/plain": [
       "         PATNR laterality study_date  birthdate               image_type  \\\n",
       "6       316294          L   20160520   19880101  ['ORIGINAL', 'PRIMARY']   \n",
       "7       316294          L   20171103   19880101  ['ORIGINAL', 'PRIMARY']   \n",
       "9       316294          L   20151016   19880101  ['ORIGINAL', 'PRIMARY']   \n",
       "10      316294          L   20161118   19880101  ['ORIGINAL', 'PRIMARY']   \n",
       "11      316294          L   20170519   19880101  ['ORIGINAL', 'PRIMARY']   \n",
       "...        ...        ...        ...        ...                      ...   \n",
       "326639   47073          L   20200522   19450501  ['ORIGINAL', 'PRIMARY']   \n",
       "326641   47073          R   20200522   19450501  ['ORIGINAL', 'PRIMARY']   \n",
       "326644   47073          R   20190225   19450501  ['ORIGINAL', 'PRIMARY']   \n",
       "326646     407          L   20190213   19360401  ['ORIGINAL', 'PRIMARY']   \n",
       "326648     407          R   20190213   19360401  ['ORIGINAL', 'PRIMARY']   \n",
       "\n",
       "       gender modality study_description       img_shape  age  \\\n",
       "6           M      OPT      Makula (OCT)  (49, 496, 512)   33   \n",
       "7           M      OPT      Makula (OCT)  (49, 496, 512)   33   \n",
       "9           M      OPT      Makula (OCT)  (49, 496, 512)   33   \n",
       "10          M      OPT      Makula (OCT)  (49, 496, 512)   33   \n",
       "11          M      OPT      Makula (OCT)  (49, 496, 512)   33   \n",
       "...       ...      ...               ...             ...  ...   \n",
       "326639      F      OPT      Makula (OCT)  (49, 496, 512)   76   \n",
       "326641      F      OPT      Makula (OCT)  (49, 496, 512)   76   \n",
       "326644      F      OPT      Makula (OCT)  (49, 496, 512)   76   \n",
       "326646      M      OPT      Makula (OCT)  (49, 496, 512)   85   \n",
       "326648      M      OPT      Makula (OCT)  (49, 496, 512)   85   \n",
       "\n",
       "        number_of_visits export  \\\n",
       "6                     12      1   \n",
       "7                     12      1   \n",
       "9                     12      1   \n",
       "10                    12      1   \n",
       "11                    12      1   \n",
       "...                  ...    ...   \n",
       "326639                 8      2   \n",
       "326641                 8      2   \n",
       "326644                 8      2   \n",
       "326646                 4      2   \n",
       "326648                 4      2   \n",
       "\n",
       "                                               dicom_name  \\\n",
       "6       1.3.6.1.4.1.33437.10.4.16265058.13108199572.79...   \n",
       "7       1.3.6.1.4.1.33437.10.4.4089432.13154166623.280...   \n",
       "9       1.3.6.1.4.1.33437.10.4.16395944.13089451581.11...   \n",
       "10      1.3.6.1.4.1.33437.10.4.4089432.13123928376.265...   \n",
       "11      1.3.6.1.4.1.33437.10.4.4089432.13139649101.273...   \n",
       "...                                                   ...   \n",
       "326639  OPt.1.3.6.1.4.1.33437.10.4.7175529.13234611308...   \n",
       "326641  OPt.1.3.6.1.4.1.33437.10.4.7175529.13234611307...   \n",
       "326644  OPt.1.3.6.1.4.1.33437.10.4.7175529.13195573665...   \n",
       "326646  OPt.1.3.6.1.4.1.33437.10.4.16073696.1319453008...   \n",
       "326648  OPt.1.3.6.1.4.1.33437.10.4.16073696.1319453008...   \n",
       "\n",
       "                                                 oct_path    AMD  \\\n",
       "6       /storage/groups/ml01/datasets/raw/2018_LMUAuge...  False   \n",
       "7       /storage/groups/ml01/datasets/raw/2018_LMUAuge...  False   \n",
       "9       /storage/groups/ml01/datasets/raw/2018_LMUAuge...  False   \n",
       "10      /storage/groups/ml01/datasets/raw/2018_LMUAuge...  False   \n",
       "11      /storage/groups/ml01/datasets/raw/2018_LMUAuge...  False   \n",
       "...                                                   ...    ...   \n",
       "326639  /storage/groups/ml01/datasets/raw/2018_LMUAuge...  False   \n",
       "326641  /storage/groups/ml01/datasets/raw/2018_LMUAuge...  False   \n",
       "326644  /storage/groups/ml01/datasets/raw/2018_LMUAuge...  False   \n",
       "326646  /storage/groups/ml01/datasets/raw/2018_LMUAuge...  False   \n",
       "326648  /storage/groups/ml01/datasets/raw/2018_LMUAuge...  False   \n",
       "\n",
       "       DKEY_first_date  INJECTION INJECTION_first_date  \n",
       "6                  NaT      False                  NaT  \n",
       "7                  NaT      False                  NaT  \n",
       "9                  NaT      False                  NaT  \n",
       "10                 NaT      False                  NaT  \n",
       "11                 NaT      False                  NaT  \n",
       "...                ...        ...                  ...  \n",
       "326639             NaT      False                  NaT  \n",
       "326641             NaT      False                  NaT  \n",
       "326644             NaT      False                  NaT  \n",
       "326646             NaT      False                  NaT  \n",
       "326648             NaT      False                  NaT  \n",
       "\n",
       "[182786 rows x 18 columns]"
      ]
     },
     "execution_count": 240,
     "metadata": {},
     "output_type": "execute_result"
    }
   ],
   "source": [
    "joint_meta_longitudinal"
   ]
  },
  {
   "cell_type": "markdown",
   "metadata": {},
   "source": [
    "#### Load meta table"
   ]
  },
  {
   "cell_type": "code",
   "execution_count": 51,
   "metadata": {},
   "outputs": [],
   "source": [
    "EXT = \"joint_export/longitudinal_tables\"\n",
    "joint_meta_longitudinal = pd.read_csv(os.path.join(PROJ_DIR, EXT, \"oct_meta_longitudinal_information.csv\"))"
   ]
  },
  {
   "cell_type": "code",
   "execution_count": 52,
   "metadata": {},
   "outputs": [
    {
     "data": {
      "text/html": [
       "<div>\n",
       "<style scoped>\n",
       "    .dataframe tbody tr th:only-of-type {\n",
       "        vertical-align: middle;\n",
       "    }\n",
       "\n",
       "    .dataframe tbody tr th {\n",
       "        vertical-align: top;\n",
       "    }\n",
       "\n",
       "    .dataframe thead th {\n",
       "        text-align: right;\n",
       "    }\n",
       "</style>\n",
       "<table border=\"1\" class=\"dataframe\">\n",
       "  <thead>\n",
       "    <tr style=\"text-align: right;\">\n",
       "      <th></th>\n",
       "      <th>PATNR</th>\n",
       "      <th>laterality</th>\n",
       "      <th>study_date</th>\n",
       "      <th>birthdate</th>\n",
       "      <th>image_type</th>\n",
       "      <th>gender</th>\n",
       "      <th>modality</th>\n",
       "      <th>study_description</th>\n",
       "      <th>img_shape</th>\n",
       "      <th>age</th>\n",
       "      <th>number_of_visits</th>\n",
       "      <th>export</th>\n",
       "      <th>dicom_name</th>\n",
       "      <th>oct_path</th>\n",
       "      <th>AMD</th>\n",
       "      <th>DKEY_first_date</th>\n",
       "      <th>INJECTION</th>\n",
       "      <th>INJECTION_first_date</th>\n",
       "    </tr>\n",
       "  </thead>\n",
       "  <tbody>\n",
       "    <tr>\n",
       "      <td>0</td>\n",
       "      <td>316294</td>\n",
       "      <td>L</td>\n",
       "      <td>20160520</td>\n",
       "      <td>19880101</td>\n",
       "      <td>['ORIGINAL', 'PRIMARY']</td>\n",
       "      <td>M</td>\n",
       "      <td>OPT</td>\n",
       "      <td>Makula (OCT)</td>\n",
       "      <td>(49, 496, 512)</td>\n",
       "      <td>33</td>\n",
       "      <td>12</td>\n",
       "      <td>1</td>\n",
       "      <td>1.3.6.1.4.1.33437.10.4.16265058.13108199572.79...</td>\n",
       "      <td>/storage/groups/ml01/datasets/raw/2018_LMUAuge...</td>\n",
       "      <td>False</td>\n",
       "      <td>NaN</td>\n",
       "      <td>False</td>\n",
       "      <td>NaN</td>\n",
       "    </tr>\n",
       "    <tr>\n",
       "      <td>1</td>\n",
       "      <td>316294</td>\n",
       "      <td>L</td>\n",
       "      <td>20171103</td>\n",
       "      <td>19880101</td>\n",
       "      <td>['ORIGINAL', 'PRIMARY']</td>\n",
       "      <td>M</td>\n",
       "      <td>OPT</td>\n",
       "      <td>Makula (OCT)</td>\n",
       "      <td>(49, 496, 512)</td>\n",
       "      <td>33</td>\n",
       "      <td>12</td>\n",
       "      <td>1</td>\n",
       "      <td>1.3.6.1.4.1.33437.10.4.4089432.13154166623.280...</td>\n",
       "      <td>/storage/groups/ml01/datasets/raw/2018_LMUAuge...</td>\n",
       "      <td>False</td>\n",
       "      <td>NaN</td>\n",
       "      <td>False</td>\n",
       "      <td>NaN</td>\n",
       "    </tr>\n",
       "    <tr>\n",
       "      <td>2</td>\n",
       "      <td>316294</td>\n",
       "      <td>L</td>\n",
       "      <td>20151016</td>\n",
       "      <td>19880101</td>\n",
       "      <td>['ORIGINAL', 'PRIMARY']</td>\n",
       "      <td>M</td>\n",
       "      <td>OPT</td>\n",
       "      <td>Makula (OCT)</td>\n",
       "      <td>(49, 496, 512)</td>\n",
       "      <td>33</td>\n",
       "      <td>12</td>\n",
       "      <td>1</td>\n",
       "      <td>1.3.6.1.4.1.33437.10.4.16395944.13089451581.11...</td>\n",
       "      <td>/storage/groups/ml01/datasets/raw/2018_LMUAuge...</td>\n",
       "      <td>False</td>\n",
       "      <td>NaN</td>\n",
       "      <td>False</td>\n",
       "      <td>NaN</td>\n",
       "    </tr>\n",
       "    <tr>\n",
       "      <td>3</td>\n",
       "      <td>316294</td>\n",
       "      <td>L</td>\n",
       "      <td>20161118</td>\n",
       "      <td>19880101</td>\n",
       "      <td>['ORIGINAL', 'PRIMARY']</td>\n",
       "      <td>M</td>\n",
       "      <td>OPT</td>\n",
       "      <td>Makula (OCT)</td>\n",
       "      <td>(49, 496, 512)</td>\n",
       "      <td>33</td>\n",
       "      <td>12</td>\n",
       "      <td>1</td>\n",
       "      <td>1.3.6.1.4.1.33437.10.4.4089432.13123928376.265...</td>\n",
       "      <td>/storage/groups/ml01/datasets/raw/2018_LMUAuge...</td>\n",
       "      <td>False</td>\n",
       "      <td>NaN</td>\n",
       "      <td>False</td>\n",
       "      <td>NaN</td>\n",
       "    </tr>\n",
       "    <tr>\n",
       "      <td>4</td>\n",
       "      <td>316294</td>\n",
       "      <td>L</td>\n",
       "      <td>20170519</td>\n",
       "      <td>19880101</td>\n",
       "      <td>['ORIGINAL', 'PRIMARY']</td>\n",
       "      <td>M</td>\n",
       "      <td>OPT</td>\n",
       "      <td>Makula (OCT)</td>\n",
       "      <td>(49, 496, 512)</td>\n",
       "      <td>33</td>\n",
       "      <td>12</td>\n",
       "      <td>1</td>\n",
       "      <td>1.3.6.1.4.1.33437.10.4.4089432.13139649101.273...</td>\n",
       "      <td>/storage/groups/ml01/datasets/raw/2018_LMUAuge...</td>\n",
       "      <td>False</td>\n",
       "      <td>NaN</td>\n",
       "      <td>False</td>\n",
       "      <td>NaN</td>\n",
       "    </tr>\n",
       "    <tr>\n",
       "      <td>...</td>\n",
       "      <td>...</td>\n",
       "      <td>...</td>\n",
       "      <td>...</td>\n",
       "      <td>...</td>\n",
       "      <td>...</td>\n",
       "      <td>...</td>\n",
       "      <td>...</td>\n",
       "      <td>...</td>\n",
       "      <td>...</td>\n",
       "      <td>...</td>\n",
       "      <td>...</td>\n",
       "      <td>...</td>\n",
       "      <td>...</td>\n",
       "      <td>...</td>\n",
       "      <td>...</td>\n",
       "      <td>...</td>\n",
       "      <td>...</td>\n",
       "      <td>...</td>\n",
       "    </tr>\n",
       "    <tr>\n",
       "      <td>182781</td>\n",
       "      <td>47073</td>\n",
       "      <td>L</td>\n",
       "      <td>20200522</td>\n",
       "      <td>19450501</td>\n",
       "      <td>['ORIGINAL', 'PRIMARY']</td>\n",
       "      <td>F</td>\n",
       "      <td>OPT</td>\n",
       "      <td>Makula (OCT)</td>\n",
       "      <td>(49, 496, 512)</td>\n",
       "      <td>76</td>\n",
       "      <td>8</td>\n",
       "      <td>2</td>\n",
       "      <td>OPt.1.3.6.1.4.1.33437.10.4.7175529.13234611308...</td>\n",
       "      <td>/storage/groups/ml01/datasets/raw/2018_LMUAuge...</td>\n",
       "      <td>False</td>\n",
       "      <td>NaN</td>\n",
       "      <td>False</td>\n",
       "      <td>NaN</td>\n",
       "    </tr>\n",
       "    <tr>\n",
       "      <td>182782</td>\n",
       "      <td>47073</td>\n",
       "      <td>R</td>\n",
       "      <td>20200522</td>\n",
       "      <td>19450501</td>\n",
       "      <td>['ORIGINAL', 'PRIMARY']</td>\n",
       "      <td>F</td>\n",
       "      <td>OPT</td>\n",
       "      <td>Makula (OCT)</td>\n",
       "      <td>(49, 496, 512)</td>\n",
       "      <td>76</td>\n",
       "      <td>8</td>\n",
       "      <td>2</td>\n",
       "      <td>OPt.1.3.6.1.4.1.33437.10.4.7175529.13234611307...</td>\n",
       "      <td>/storage/groups/ml01/datasets/raw/2018_LMUAuge...</td>\n",
       "      <td>False</td>\n",
       "      <td>NaN</td>\n",
       "      <td>False</td>\n",
       "      <td>NaN</td>\n",
       "    </tr>\n",
       "    <tr>\n",
       "      <td>182783</td>\n",
       "      <td>47073</td>\n",
       "      <td>R</td>\n",
       "      <td>20190225</td>\n",
       "      <td>19450501</td>\n",
       "      <td>['ORIGINAL', 'PRIMARY']</td>\n",
       "      <td>F</td>\n",
       "      <td>OPT</td>\n",
       "      <td>Makula (OCT)</td>\n",
       "      <td>(49, 496, 512)</td>\n",
       "      <td>76</td>\n",
       "      <td>8</td>\n",
       "      <td>2</td>\n",
       "      <td>OPt.1.3.6.1.4.1.33437.10.4.7175529.13195573665...</td>\n",
       "      <td>/storage/groups/ml01/datasets/raw/2018_LMUAuge...</td>\n",
       "      <td>False</td>\n",
       "      <td>NaN</td>\n",
       "      <td>False</td>\n",
       "      <td>NaN</td>\n",
       "    </tr>\n",
       "    <tr>\n",
       "      <td>182784</td>\n",
       "      <td>407</td>\n",
       "      <td>L</td>\n",
       "      <td>20190213</td>\n",
       "      <td>19360401</td>\n",
       "      <td>['ORIGINAL', 'PRIMARY']</td>\n",
       "      <td>M</td>\n",
       "      <td>OPT</td>\n",
       "      <td>Makula (OCT)</td>\n",
       "      <td>(49, 496, 512)</td>\n",
       "      <td>85</td>\n",
       "      <td>4</td>\n",
       "      <td>2</td>\n",
       "      <td>OPt.1.3.6.1.4.1.33437.10.4.16073696.1319453008...</td>\n",
       "      <td>/storage/groups/ml01/datasets/raw/2018_LMUAuge...</td>\n",
       "      <td>False</td>\n",
       "      <td>NaN</td>\n",
       "      <td>False</td>\n",
       "      <td>NaN</td>\n",
       "    </tr>\n",
       "    <tr>\n",
       "      <td>182785</td>\n",
       "      <td>407</td>\n",
       "      <td>R</td>\n",
       "      <td>20190213</td>\n",
       "      <td>19360401</td>\n",
       "      <td>['ORIGINAL', 'PRIMARY']</td>\n",
       "      <td>M</td>\n",
       "      <td>OPT</td>\n",
       "      <td>Makula (OCT)</td>\n",
       "      <td>(49, 496, 512)</td>\n",
       "      <td>85</td>\n",
       "      <td>4</td>\n",
       "      <td>2</td>\n",
       "      <td>OPt.1.3.6.1.4.1.33437.10.4.16073696.1319453008...</td>\n",
       "      <td>/storage/groups/ml01/datasets/raw/2018_LMUAuge...</td>\n",
       "      <td>False</td>\n",
       "      <td>NaN</td>\n",
       "      <td>False</td>\n",
       "      <td>NaN</td>\n",
       "    </tr>\n",
       "  </tbody>\n",
       "</table>\n",
       "<p>182786 rows × 18 columns</p>\n",
       "</div>"
      ],
      "text/plain": [
       "         PATNR laterality  study_date  birthdate               image_type  \\\n",
       "0       316294          L    20160520   19880101  ['ORIGINAL', 'PRIMARY']   \n",
       "1       316294          L    20171103   19880101  ['ORIGINAL', 'PRIMARY']   \n",
       "2       316294          L    20151016   19880101  ['ORIGINAL', 'PRIMARY']   \n",
       "3       316294          L    20161118   19880101  ['ORIGINAL', 'PRIMARY']   \n",
       "4       316294          L    20170519   19880101  ['ORIGINAL', 'PRIMARY']   \n",
       "...        ...        ...         ...        ...                      ...   \n",
       "182781   47073          L    20200522   19450501  ['ORIGINAL', 'PRIMARY']   \n",
       "182782   47073          R    20200522   19450501  ['ORIGINAL', 'PRIMARY']   \n",
       "182783   47073          R    20190225   19450501  ['ORIGINAL', 'PRIMARY']   \n",
       "182784     407          L    20190213   19360401  ['ORIGINAL', 'PRIMARY']   \n",
       "182785     407          R    20190213   19360401  ['ORIGINAL', 'PRIMARY']   \n",
       "\n",
       "       gender modality study_description       img_shape  age  \\\n",
       "0           M      OPT      Makula (OCT)  (49, 496, 512)   33   \n",
       "1           M      OPT      Makula (OCT)  (49, 496, 512)   33   \n",
       "2           M      OPT      Makula (OCT)  (49, 496, 512)   33   \n",
       "3           M      OPT      Makula (OCT)  (49, 496, 512)   33   \n",
       "4           M      OPT      Makula (OCT)  (49, 496, 512)   33   \n",
       "...       ...      ...               ...             ...  ...   \n",
       "182781      F      OPT      Makula (OCT)  (49, 496, 512)   76   \n",
       "182782      F      OPT      Makula (OCT)  (49, 496, 512)   76   \n",
       "182783      F      OPT      Makula (OCT)  (49, 496, 512)   76   \n",
       "182784      M      OPT      Makula (OCT)  (49, 496, 512)   85   \n",
       "182785      M      OPT      Makula (OCT)  (49, 496, 512)   85   \n",
       "\n",
       "        number_of_visits  export  \\\n",
       "0                     12       1   \n",
       "1                     12       1   \n",
       "2                     12       1   \n",
       "3                     12       1   \n",
       "4                     12       1   \n",
       "...                  ...     ...   \n",
       "182781                 8       2   \n",
       "182782                 8       2   \n",
       "182783                 8       2   \n",
       "182784                 4       2   \n",
       "182785                 4       2   \n",
       "\n",
       "                                               dicom_name  \\\n",
       "0       1.3.6.1.4.1.33437.10.4.16265058.13108199572.79...   \n",
       "1       1.3.6.1.4.1.33437.10.4.4089432.13154166623.280...   \n",
       "2       1.3.6.1.4.1.33437.10.4.16395944.13089451581.11...   \n",
       "3       1.3.6.1.4.1.33437.10.4.4089432.13123928376.265...   \n",
       "4       1.3.6.1.4.1.33437.10.4.4089432.13139649101.273...   \n",
       "...                                                   ...   \n",
       "182781  OPt.1.3.6.1.4.1.33437.10.4.7175529.13234611308...   \n",
       "182782  OPt.1.3.6.1.4.1.33437.10.4.7175529.13234611307...   \n",
       "182783  OPt.1.3.6.1.4.1.33437.10.4.7175529.13195573665...   \n",
       "182784  OPt.1.3.6.1.4.1.33437.10.4.16073696.1319453008...   \n",
       "182785  OPt.1.3.6.1.4.1.33437.10.4.16073696.1319453008...   \n",
       "\n",
       "                                                 oct_path    AMD  \\\n",
       "0       /storage/groups/ml01/datasets/raw/2018_LMUAuge...  False   \n",
       "1       /storage/groups/ml01/datasets/raw/2018_LMUAuge...  False   \n",
       "2       /storage/groups/ml01/datasets/raw/2018_LMUAuge...  False   \n",
       "3       /storage/groups/ml01/datasets/raw/2018_LMUAuge...  False   \n",
       "4       /storage/groups/ml01/datasets/raw/2018_LMUAuge...  False   \n",
       "...                                                   ...    ...   \n",
       "182781  /storage/groups/ml01/datasets/raw/2018_LMUAuge...  False   \n",
       "182782  /storage/groups/ml01/datasets/raw/2018_LMUAuge...  False   \n",
       "182783  /storage/groups/ml01/datasets/raw/2018_LMUAuge...  False   \n",
       "182784  /storage/groups/ml01/datasets/raw/2018_LMUAuge...  False   \n",
       "182785  /storage/groups/ml01/datasets/raw/2018_LMUAuge...  False   \n",
       "\n",
       "       DKEY_first_date  INJECTION INJECTION_first_date  \n",
       "0                  NaN      False                  NaN  \n",
       "1                  NaN      False                  NaN  \n",
       "2                  NaN      False                  NaN  \n",
       "3                  NaN      False                  NaN  \n",
       "4                  NaN      False                  NaN  \n",
       "...                ...        ...                  ...  \n",
       "182781             NaN      False                  NaN  \n",
       "182782             NaN      False                  NaN  \n",
       "182783             NaN      False                  NaN  \n",
       "182784             NaN      False                  NaN  \n",
       "182785             NaN      False                  NaN  \n",
       "\n",
       "[182786 rows x 18 columns]"
      ]
     },
     "execution_count": 52,
     "metadata": {},
     "output_type": "execute_result"
    }
   ],
   "source": [
    "joint_meta_longitudinal.drop_duplicates(subset=[\"PATNR\", \"laterality\", \"study_date\"])"
   ]
  },
  {
   "cell_type": "markdown",
   "metadata": {},
   "source": [
    "## Load and Join Longiudinal patients from Export 1 and Export 2"
   ]
  },
  {
   "cell_type": "code",
   "execution_count": 53,
   "metadata": {},
   "outputs": [],
   "source": [
    "longitudinal_export_1 = os.path.join(PROJ_DIR, EXT, \"check_naive_patients_CORRECTED.csv\")\n",
    "longitudinal_export_2 = os.path.join(PROJ_DIR, EXT, \"longitudinal_records_with_date_CHECKED.csv\")\n",
    "\n",
    "longitudinal_export_1_raw_pd = pd.read_csv(longitudinal_export_1)\n",
    "longitudinal_export_2_raw_pd = pd.read_csv(longitudinal_export_2)"
   ]
  },
  {
   "cell_type": "markdown",
   "metadata": {},
   "source": [
    "### Process tables formats"
   ]
  },
  {
   "cell_type": "code",
   "execution_count": 54,
   "metadata": {},
   "outputs": [],
   "source": [
    "longitudinal_export_1_pd = longitudinal_export_1_raw_pd.dropna(how=\"all\")\n",
    "\n",
    "longitudinal_export_1_pd = longitudinal_export_1_pd.drop(columns=[\"Unnamed: 0\", \"Unnamed: 5\", \"Unnamed: 6\", \n",
    "                                                                  \"Unnamed: 7\", \"Unnamed: 8\", \"Unnamed: 9\", \n",
    "                                                                  \"Unnamed: 10\"])\n",
    "\n",
    "longitudinal_export_1_pd = longitudinal_export_1_pd.rename(columns={\"patient_id\": \"PATNR\"})\n",
    "longitudinal_export_1_pd.PATNR = longitudinal_export_1_pd.PATNR.astype(int)"
   ]
  },
  {
   "cell_type": "code",
   "execution_count": 55,
   "metadata": {},
   "outputs": [],
   "source": [
    "longitudinal_export_2_pd = longitudinal_export_2_raw_pd.dropna(how=\"all\")\n",
    "\n",
    "longitudinal_export_2_pd = longitudinal_export_2_pd.drop(columns=[\"Unnamed: 0\", \"Unnamed: 9\"])\n",
    "longitudinal_export_2_pd = longitudinal_export_2_pd.rename(columns={\"pseudo_id\": \"PATNR\"})\n",
    "\n",
    "longitudinal_export_2_pd.PATNR = longitudinal_export_2_pd.PATNR.astype(int)"
   ]
  },
  {
   "cell_type": "markdown",
   "metadata": {},
   "source": [
    "### Mark patients in meta_pd which are in longitudinal lists"
   ]
  },
  {
   "cell_type": "code",
   "execution_count": 56,
   "metadata": {},
   "outputs": [],
   "source": [
    "joint_meta_longitudinal[\"LONGITUDINAL_LISTS_1\"] = joint_meta_longitudinal.PATNR.isin(longitudinal_export_1_pd.PATNR.values.tolist())\n",
    "joint_meta_longitudinal[\"LONGITUDINAL_LISTS_2\"] = joint_meta_longitudinal.PATNR.isin(longitudinal_export_2_pd.PATNR.values.tolist())"
   ]
  },
  {
   "cell_type": "markdown",
   "metadata": {},
   "source": [
    "### Merge naive column into frame"
   ]
  },
  {
   "cell_type": "code",
   "execution_count": 57,
   "metadata": {},
   "outputs": [],
   "source": [
    "joint_meta_longitudinal = pd.merge(joint_meta_longitudinal, longitudinal_export_2_pd[[\"PATNR\", \"Naive\"]], \n",
    "                                   left_on=\"PATNR\", right_on=\"PATNR\", how=\"left\")"
   ]
  },
  {
   "cell_type": "code",
   "execution_count": 58,
   "metadata": {},
   "outputs": [],
   "source": [
    "joint_meta_longitudinal = pd.merge(joint_meta_longitudinal, longitudinal_export_1_pd[[\"PATNR\", \"Naive\"]], \n",
    "                                   left_on=\"PATNR\", right_on=\"PATNR\", how=\"left\")"
   ]
  },
  {
   "cell_type": "code",
   "execution_count": 61,
   "metadata": {},
   "outputs": [
    {
     "data": {
      "text/html": [
       "<div>\n",
       "<style scoped>\n",
       "    .dataframe tbody tr th:only-of-type {\n",
       "        vertical-align: middle;\n",
       "    }\n",
       "\n",
       "    .dataframe tbody tr th {\n",
       "        vertical-align: top;\n",
       "    }\n",
       "\n",
       "    .dataframe thead th {\n",
       "        text-align: right;\n",
       "    }\n",
       "</style>\n",
       "<table border=\"1\" class=\"dataframe\">\n",
       "  <thead>\n",
       "    <tr style=\"text-align: right;\">\n",
       "      <th></th>\n",
       "      <th>PATNR</th>\n",
       "      <th>laterality</th>\n",
       "      <th>study_date</th>\n",
       "      <th>birthdate</th>\n",
       "      <th>image_type</th>\n",
       "      <th>gender</th>\n",
       "      <th>modality</th>\n",
       "      <th>study_description</th>\n",
       "      <th>img_shape</th>\n",
       "      <th>age</th>\n",
       "      <th>...</th>\n",
       "      <th>dicom_name</th>\n",
       "      <th>oct_path</th>\n",
       "      <th>AMD</th>\n",
       "      <th>DKEY_first_date</th>\n",
       "      <th>INJECTION</th>\n",
       "      <th>INJECTION_first_date</th>\n",
       "      <th>LONGITUDINAL_LISTS_1</th>\n",
       "      <th>LONGITUDINAL_LISTS_2</th>\n",
       "      <th>Naive_x</th>\n",
       "      <th>Naive_y</th>\n",
       "    </tr>\n",
       "  </thead>\n",
       "  <tbody>\n",
       "    <tr>\n",
       "      <td>598</td>\n",
       "      <td>29892</td>\n",
       "      <td>L</td>\n",
       "      <td>20170711</td>\n",
       "      <td>19300101</td>\n",
       "      <td>['ORIGINAL', 'PRIMARY']</td>\n",
       "      <td>F</td>\n",
       "      <td>OPT</td>\n",
       "      <td>Makula (OCT)</td>\n",
       "      <td>(49, 496, 512)</td>\n",
       "      <td>91</td>\n",
       "      <td>...</td>\n",
       "      <td>1.3.6.1.4.1.33437.10.4.4089432.13144246997.276...</td>\n",
       "      <td>/storage/groups/ml01/datasets/raw/2018_LMUAuge...</td>\n",
       "      <td>True</td>\n",
       "      <td>2017-04-04</td>\n",
       "      <td>True</td>\n",
       "      <td>2017-02-02</td>\n",
       "      <td>True</td>\n",
       "      <td>False</td>\n",
       "      <td>NaN</td>\n",
       "      <td>1.0</td>\n",
       "    </tr>\n",
       "    <tr>\n",
       "      <td>599</td>\n",
       "      <td>29892</td>\n",
       "      <td>L</td>\n",
       "      <td>20180411</td>\n",
       "      <td>19300101</td>\n",
       "      <td>['ORIGINAL', 'PRIMARY']</td>\n",
       "      <td>F</td>\n",
       "      <td>OPT</td>\n",
       "      <td>Makula (OCT)</td>\n",
       "      <td>(49, 496, 512)</td>\n",
       "      <td>91</td>\n",
       "      <td>...</td>\n",
       "      <td>1.3.6.1.4.1.33437.10.4.4089432.13167914814.288...</td>\n",
       "      <td>/storage/groups/ml01/datasets/raw/2018_LMUAuge...</td>\n",
       "      <td>True</td>\n",
       "      <td>2017-04-04</td>\n",
       "      <td>True</td>\n",
       "      <td>2017-02-02</td>\n",
       "      <td>True</td>\n",
       "      <td>False</td>\n",
       "      <td>NaN</td>\n",
       "      <td>1.0</td>\n",
       "    </tr>\n",
       "    <tr>\n",
       "      <td>600</td>\n",
       "      <td>29892</td>\n",
       "      <td>L</td>\n",
       "      <td>20171128</td>\n",
       "      <td>19300101</td>\n",
       "      <td>['ORIGINAL', 'PRIMARY']</td>\n",
       "      <td>F</td>\n",
       "      <td>OPT</td>\n",
       "      <td>Makula (OCT)</td>\n",
       "      <td>(49, 496, 512)</td>\n",
       "      <td>91</td>\n",
       "      <td>...</td>\n",
       "      <td>1.3.6.1.4.1.33437.10.4.13118731.13156339954.21...</td>\n",
       "      <td>/storage/groups/ml01/datasets/raw/2018_LMUAuge...</td>\n",
       "      <td>True</td>\n",
       "      <td>2017-04-04</td>\n",
       "      <td>True</td>\n",
       "      <td>2017-02-02</td>\n",
       "      <td>True</td>\n",
       "      <td>False</td>\n",
       "      <td>NaN</td>\n",
       "      <td>1.0</td>\n",
       "    </tr>\n",
       "    <tr>\n",
       "      <td>601</td>\n",
       "      <td>29892</td>\n",
       "      <td>L</td>\n",
       "      <td>20180228</td>\n",
       "      <td>19300101</td>\n",
       "      <td>['ORIGINAL', 'PRIMARY']</td>\n",
       "      <td>F</td>\n",
       "      <td>OPT</td>\n",
       "      <td>Makula (OCT)</td>\n",
       "      <td>(49, 496, 512)</td>\n",
       "      <td>91</td>\n",
       "      <td>...</td>\n",
       "      <td>1.3.6.1.4.1.33437.10.4.4089432.13164297799.285...</td>\n",
       "      <td>/storage/groups/ml01/datasets/raw/2018_LMUAuge...</td>\n",
       "      <td>True</td>\n",
       "      <td>2017-04-04</td>\n",
       "      <td>True</td>\n",
       "      <td>2017-02-02</td>\n",
       "      <td>True</td>\n",
       "      <td>False</td>\n",
       "      <td>NaN</td>\n",
       "      <td>1.0</td>\n",
       "    </tr>\n",
       "    <tr>\n",
       "      <td>602</td>\n",
       "      <td>29892</td>\n",
       "      <td>L</td>\n",
       "      <td>20180723</td>\n",
       "      <td>19300101</td>\n",
       "      <td>['ORIGINAL', 'PRIMARY']</td>\n",
       "      <td>F</td>\n",
       "      <td>OPT</td>\n",
       "      <td>Makula (OCT)</td>\n",
       "      <td>(49, 496, 512)</td>\n",
       "      <td>91</td>\n",
       "      <td>...</td>\n",
       "      <td>1.3.6.1.4.1.33437.10.4.4089432.13176810348.294...</td>\n",
       "      <td>/storage/groups/ml01/datasets/raw/2018_LMUAuge...</td>\n",
       "      <td>True</td>\n",
       "      <td>2017-04-04</td>\n",
       "      <td>True</td>\n",
       "      <td>2017-02-02</td>\n",
       "      <td>True</td>\n",
       "      <td>False</td>\n",
       "      <td>NaN</td>\n",
       "      <td>1.0</td>\n",
       "    </tr>\n",
       "    <tr>\n",
       "      <td>...</td>\n",
       "      <td>...</td>\n",
       "      <td>...</td>\n",
       "      <td>...</td>\n",
       "      <td>...</td>\n",
       "      <td>...</td>\n",
       "      <td>...</td>\n",
       "      <td>...</td>\n",
       "      <td>...</td>\n",
       "      <td>...</td>\n",
       "      <td>...</td>\n",
       "      <td>...</td>\n",
       "      <td>...</td>\n",
       "      <td>...</td>\n",
       "      <td>...</td>\n",
       "      <td>...</td>\n",
       "      <td>...</td>\n",
       "      <td>...</td>\n",
       "      <td>...</td>\n",
       "      <td>...</td>\n",
       "      <td>...</td>\n",
       "      <td>...</td>\n",
       "    </tr>\n",
       "    <tr>\n",
       "      <td>187681</td>\n",
       "      <td>253802</td>\n",
       "      <td>L</td>\n",
       "      <td>20191002</td>\n",
       "      <td>19350601</td>\n",
       "      <td>['ORIGINAL', 'PRIMARY']</td>\n",
       "      <td>M</td>\n",
       "      <td>OPT</td>\n",
       "      <td>Makula (OCT)</td>\n",
       "      <td>(49, 496, 512)</td>\n",
       "      <td>86</td>\n",
       "      <td>...</td>\n",
       "      <td>OPt.1.3.6.1.4.1.33437.10.4.16073696.1321447038...</td>\n",
       "      <td>/storage/groups/ml01/datasets/raw/2018_LMUAuge...</td>\n",
       "      <td>True</td>\n",
       "      <td>2015-08-25</td>\n",
       "      <td>True</td>\n",
       "      <td>2015-08-25</td>\n",
       "      <td>True</td>\n",
       "      <td>False</td>\n",
       "      <td>NaN</td>\n",
       "      <td>1.0</td>\n",
       "    </tr>\n",
       "    <tr>\n",
       "      <td>187682</td>\n",
       "      <td>253802</td>\n",
       "      <td>L</td>\n",
       "      <td>20191030</td>\n",
       "      <td>19350601</td>\n",
       "      <td>['ORIGINAL', 'PRIMARY']</td>\n",
       "      <td>M</td>\n",
       "      <td>OPT</td>\n",
       "      <td>Makula (OCT)</td>\n",
       "      <td>(49, 496, 512)</td>\n",
       "      <td>86</td>\n",
       "      <td>...</td>\n",
       "      <td>OPt.1.3.6.1.4.1.33437.10.4.9457825.13216892739...</td>\n",
       "      <td>/storage/groups/ml01/datasets/raw/2018_LMUAuge...</td>\n",
       "      <td>True</td>\n",
       "      <td>2015-08-25</td>\n",
       "      <td>True</td>\n",
       "      <td>2015-08-25</td>\n",
       "      <td>True</td>\n",
       "      <td>False</td>\n",
       "      <td>NaN</td>\n",
       "      <td>1.0</td>\n",
       "    </tr>\n",
       "    <tr>\n",
       "      <td>187683</td>\n",
       "      <td>253802</td>\n",
       "      <td>L</td>\n",
       "      <td>20200219</td>\n",
       "      <td>19350601</td>\n",
       "      <td>['ORIGINAL', 'PRIMARY']</td>\n",
       "      <td>M</td>\n",
       "      <td>OPT</td>\n",
       "      <td>Makula (OCT)</td>\n",
       "      <td>(49, 496, 512)</td>\n",
       "      <td>86</td>\n",
       "      <td>...</td>\n",
       "      <td>OPt.1.3.6.1.4.1.33437.10.4.9457825.13226571111...</td>\n",
       "      <td>/storage/groups/ml01/datasets/raw/2018_LMUAuge...</td>\n",
       "      <td>True</td>\n",
       "      <td>2015-08-25</td>\n",
       "      <td>True</td>\n",
       "      <td>2015-08-25</td>\n",
       "      <td>True</td>\n",
       "      <td>False</td>\n",
       "      <td>NaN</td>\n",
       "      <td>1.0</td>\n",
       "    </tr>\n",
       "    <tr>\n",
       "      <td>187684</td>\n",
       "      <td>253802</td>\n",
       "      <td>L</td>\n",
       "      <td>20190925</td>\n",
       "      <td>19350601</td>\n",
       "      <td>['ORIGINAL', 'PRIMARY']</td>\n",
       "      <td>M</td>\n",
       "      <td>OPT</td>\n",
       "      <td>Makula (OCT)</td>\n",
       "      <td>(49, 496, 512)</td>\n",
       "      <td>86</td>\n",
       "      <td>...</td>\n",
       "      <td>OPt.1.3.6.1.4.1.33437.10.4.6339912.13213867254...</td>\n",
       "      <td>/storage/groups/ml01/datasets/raw/2018_LMUAuge...</td>\n",
       "      <td>True</td>\n",
       "      <td>2015-08-25</td>\n",
       "      <td>True</td>\n",
       "      <td>2015-08-25</td>\n",
       "      <td>True</td>\n",
       "      <td>False</td>\n",
       "      <td>NaN</td>\n",
       "      <td>1.0</td>\n",
       "    </tr>\n",
       "    <tr>\n",
       "      <td>187685</td>\n",
       "      <td>253802</td>\n",
       "      <td>L</td>\n",
       "      <td>20200108</td>\n",
       "      <td>19350601</td>\n",
       "      <td>['ORIGINAL', 'PRIMARY']</td>\n",
       "      <td>M</td>\n",
       "      <td>OPT</td>\n",
       "      <td>Makula (OCT)</td>\n",
       "      <td>(49, 496, 512)</td>\n",
       "      <td>86</td>\n",
       "      <td>...</td>\n",
       "      <td>OPt.1.3.6.1.4.1.33437.10.4.9457825.13222941128...</td>\n",
       "      <td>/storage/groups/ml01/datasets/raw/2018_LMUAuge...</td>\n",
       "      <td>True</td>\n",
       "      <td>2015-08-25</td>\n",
       "      <td>True</td>\n",
       "      <td>2015-08-25</td>\n",
       "      <td>True</td>\n",
       "      <td>False</td>\n",
       "      <td>NaN</td>\n",
       "      <td>1.0</td>\n",
       "    </tr>\n",
       "  </tbody>\n",
       "</table>\n",
       "<p>20131 rows × 22 columns</p>\n",
       "</div>"
      ],
      "text/plain": [
       "         PATNR laterality  study_date  birthdate               image_type  \\\n",
       "598      29892          L    20170711   19300101  ['ORIGINAL', 'PRIMARY']   \n",
       "599      29892          L    20180411   19300101  ['ORIGINAL', 'PRIMARY']   \n",
       "600      29892          L    20171128   19300101  ['ORIGINAL', 'PRIMARY']   \n",
       "601      29892          L    20180228   19300101  ['ORIGINAL', 'PRIMARY']   \n",
       "602      29892          L    20180723   19300101  ['ORIGINAL', 'PRIMARY']   \n",
       "...        ...        ...         ...        ...                      ...   \n",
       "187681  253802          L    20191002   19350601  ['ORIGINAL', 'PRIMARY']   \n",
       "187682  253802          L    20191030   19350601  ['ORIGINAL', 'PRIMARY']   \n",
       "187683  253802          L    20200219   19350601  ['ORIGINAL', 'PRIMARY']   \n",
       "187684  253802          L    20190925   19350601  ['ORIGINAL', 'PRIMARY']   \n",
       "187685  253802          L    20200108   19350601  ['ORIGINAL', 'PRIMARY']   \n",
       "\n",
       "       gender modality study_description       img_shape  age  ...  \\\n",
       "598         F      OPT      Makula (OCT)  (49, 496, 512)   91  ...   \n",
       "599         F      OPT      Makula (OCT)  (49, 496, 512)   91  ...   \n",
       "600         F      OPT      Makula (OCT)  (49, 496, 512)   91  ...   \n",
       "601         F      OPT      Makula (OCT)  (49, 496, 512)   91  ...   \n",
       "602         F      OPT      Makula (OCT)  (49, 496, 512)   91  ...   \n",
       "...       ...      ...               ...             ...  ...  ...   \n",
       "187681      M      OPT      Makula (OCT)  (49, 496, 512)   86  ...   \n",
       "187682      M      OPT      Makula (OCT)  (49, 496, 512)   86  ...   \n",
       "187683      M      OPT      Makula (OCT)  (49, 496, 512)   86  ...   \n",
       "187684      M      OPT      Makula (OCT)  (49, 496, 512)   86  ...   \n",
       "187685      M      OPT      Makula (OCT)  (49, 496, 512)   86  ...   \n",
       "\n",
       "                                               dicom_name  \\\n",
       "598     1.3.6.1.4.1.33437.10.4.4089432.13144246997.276...   \n",
       "599     1.3.6.1.4.1.33437.10.4.4089432.13167914814.288...   \n",
       "600     1.3.6.1.4.1.33437.10.4.13118731.13156339954.21...   \n",
       "601     1.3.6.1.4.1.33437.10.4.4089432.13164297799.285...   \n",
       "602     1.3.6.1.4.1.33437.10.4.4089432.13176810348.294...   \n",
       "...                                                   ...   \n",
       "187681  OPt.1.3.6.1.4.1.33437.10.4.16073696.1321447038...   \n",
       "187682  OPt.1.3.6.1.4.1.33437.10.4.9457825.13216892739...   \n",
       "187683  OPt.1.3.6.1.4.1.33437.10.4.9457825.13226571111...   \n",
       "187684  OPt.1.3.6.1.4.1.33437.10.4.6339912.13213867254...   \n",
       "187685  OPt.1.3.6.1.4.1.33437.10.4.9457825.13222941128...   \n",
       "\n",
       "                                                 oct_path   AMD  \\\n",
       "598     /storage/groups/ml01/datasets/raw/2018_LMUAuge...  True   \n",
       "599     /storage/groups/ml01/datasets/raw/2018_LMUAuge...  True   \n",
       "600     /storage/groups/ml01/datasets/raw/2018_LMUAuge...  True   \n",
       "601     /storage/groups/ml01/datasets/raw/2018_LMUAuge...  True   \n",
       "602     /storage/groups/ml01/datasets/raw/2018_LMUAuge...  True   \n",
       "...                                                   ...   ...   \n",
       "187681  /storage/groups/ml01/datasets/raw/2018_LMUAuge...  True   \n",
       "187682  /storage/groups/ml01/datasets/raw/2018_LMUAuge...  True   \n",
       "187683  /storage/groups/ml01/datasets/raw/2018_LMUAuge...  True   \n",
       "187684  /storage/groups/ml01/datasets/raw/2018_LMUAuge...  True   \n",
       "187685  /storage/groups/ml01/datasets/raw/2018_LMUAuge...  True   \n",
       "\n",
       "       DKEY_first_date  INJECTION INJECTION_first_date  LONGITUDINAL_LISTS_1  \\\n",
       "598         2017-04-04       True           2017-02-02                  True   \n",
       "599         2017-04-04       True           2017-02-02                  True   \n",
       "600         2017-04-04       True           2017-02-02                  True   \n",
       "601         2017-04-04       True           2017-02-02                  True   \n",
       "602         2017-04-04       True           2017-02-02                  True   \n",
       "...                ...        ...                  ...                   ...   \n",
       "187681      2015-08-25       True           2015-08-25                  True   \n",
       "187682      2015-08-25       True           2015-08-25                  True   \n",
       "187683      2015-08-25       True           2015-08-25                  True   \n",
       "187684      2015-08-25       True           2015-08-25                  True   \n",
       "187685      2015-08-25       True           2015-08-25                  True   \n",
       "\n",
       "       LONGITUDINAL_LISTS_2  Naive_x  Naive_y  \n",
       "598                   False      NaN      1.0  \n",
       "599                   False      NaN      1.0  \n",
       "600                   False      NaN      1.0  \n",
       "601                   False      NaN      1.0  \n",
       "602                   False      NaN      1.0  \n",
       "...                     ...      ...      ...  \n",
       "187681                False      NaN      1.0  \n",
       "187682                False      NaN      1.0  \n",
       "187683                False      NaN      1.0  \n",
       "187684                False      NaN      1.0  \n",
       "187685                False      NaN      1.0  \n",
       "\n",
       "[20131 rows x 22 columns]"
      ]
     },
     "execution_count": 61,
     "metadata": {},
     "output_type": "execute_result"
    }
   ],
   "source": [
    "joint_meta_longitudinal[joint_meta_longitudinal.Naive_y == True]"
   ]
  },
  {
   "cell_type": "markdown",
   "metadata": {},
   "source": [
    "### Get meta tables for included and excluded patients"
   ]
  },
  {
   "cell_type": "code",
   "execution_count": 62,
   "metadata": {},
   "outputs": [],
   "source": [
    "included_longitudinal = joint_meta_longitudinal[(joint_meta_longitudinal.LONGITUDINAL_LISTS_1 == True) | \n",
    "                                                (joint_meta_longitudinal.LONGITUDINAL_LISTS_2 == True)]\n",
    "excluded_longitudinal = joint_meta_longitudinal[(joint_meta_longitudinal.LONGITUDINAL_LISTS_1 == False) & \n",
    "                                                (joint_meta_longitudinal.LONGITUDINAL_LISTS_2 == False)]"
   ]
  },
  {
   "cell_type": "code",
   "execution_count": 63,
   "metadata": {},
   "outputs": [
    {
     "data": {
      "text/html": [
       "<div>\n",
       "<style scoped>\n",
       "    .dataframe tbody tr th:only-of-type {\n",
       "        vertical-align: middle;\n",
       "    }\n",
       "\n",
       "    .dataframe tbody tr th {\n",
       "        vertical-align: top;\n",
       "    }\n",
       "\n",
       "    .dataframe thead th {\n",
       "        text-align: right;\n",
       "    }\n",
       "</style>\n",
       "<table border=\"1\" class=\"dataframe\">\n",
       "  <thead>\n",
       "    <tr style=\"text-align: right;\">\n",
       "      <th></th>\n",
       "      <th>PATNR</th>\n",
       "      <th>laterality</th>\n",
       "      <th>study_date</th>\n",
       "      <th>birthdate</th>\n",
       "      <th>image_type</th>\n",
       "      <th>gender</th>\n",
       "      <th>modality</th>\n",
       "      <th>study_description</th>\n",
       "      <th>img_shape</th>\n",
       "      <th>age</th>\n",
       "      <th>...</th>\n",
       "      <th>dicom_name</th>\n",
       "      <th>oct_path</th>\n",
       "      <th>AMD</th>\n",
       "      <th>DKEY_first_date</th>\n",
       "      <th>INJECTION</th>\n",
       "      <th>INJECTION_first_date</th>\n",
       "      <th>LONGITUDINAL_LISTS_1</th>\n",
       "      <th>LONGITUDINAL_LISTS_2</th>\n",
       "      <th>Naive_x</th>\n",
       "      <th>Naive_y</th>\n",
       "    </tr>\n",
       "  </thead>\n",
       "  <tbody>\n",
       "    <tr>\n",
       "      <td>598</td>\n",
       "      <td>29892</td>\n",
       "      <td>L</td>\n",
       "      <td>20170711</td>\n",
       "      <td>19300101</td>\n",
       "      <td>['ORIGINAL', 'PRIMARY']</td>\n",
       "      <td>F</td>\n",
       "      <td>OPT</td>\n",
       "      <td>Makula (OCT)</td>\n",
       "      <td>(49, 496, 512)</td>\n",
       "      <td>91</td>\n",
       "      <td>...</td>\n",
       "      <td>1.3.6.1.4.1.33437.10.4.4089432.13144246997.276...</td>\n",
       "      <td>/storage/groups/ml01/datasets/raw/2018_LMUAuge...</td>\n",
       "      <td>True</td>\n",
       "      <td>2017-04-04</td>\n",
       "      <td>True</td>\n",
       "      <td>2017-02-02</td>\n",
       "      <td>True</td>\n",
       "      <td>False</td>\n",
       "      <td>NaN</td>\n",
       "      <td>1.0</td>\n",
       "    </tr>\n",
       "    <tr>\n",
       "      <td>599</td>\n",
       "      <td>29892</td>\n",
       "      <td>L</td>\n",
       "      <td>20180411</td>\n",
       "      <td>19300101</td>\n",
       "      <td>['ORIGINAL', 'PRIMARY']</td>\n",
       "      <td>F</td>\n",
       "      <td>OPT</td>\n",
       "      <td>Makula (OCT)</td>\n",
       "      <td>(49, 496, 512)</td>\n",
       "      <td>91</td>\n",
       "      <td>...</td>\n",
       "      <td>1.3.6.1.4.1.33437.10.4.4089432.13167914814.288...</td>\n",
       "      <td>/storage/groups/ml01/datasets/raw/2018_LMUAuge...</td>\n",
       "      <td>True</td>\n",
       "      <td>2017-04-04</td>\n",
       "      <td>True</td>\n",
       "      <td>2017-02-02</td>\n",
       "      <td>True</td>\n",
       "      <td>False</td>\n",
       "      <td>NaN</td>\n",
       "      <td>1.0</td>\n",
       "    </tr>\n",
       "    <tr>\n",
       "      <td>600</td>\n",
       "      <td>29892</td>\n",
       "      <td>L</td>\n",
       "      <td>20171128</td>\n",
       "      <td>19300101</td>\n",
       "      <td>['ORIGINAL', 'PRIMARY']</td>\n",
       "      <td>F</td>\n",
       "      <td>OPT</td>\n",
       "      <td>Makula (OCT)</td>\n",
       "      <td>(49, 496, 512)</td>\n",
       "      <td>91</td>\n",
       "      <td>...</td>\n",
       "      <td>1.3.6.1.4.1.33437.10.4.13118731.13156339954.21...</td>\n",
       "      <td>/storage/groups/ml01/datasets/raw/2018_LMUAuge...</td>\n",
       "      <td>True</td>\n",
       "      <td>2017-04-04</td>\n",
       "      <td>True</td>\n",
       "      <td>2017-02-02</td>\n",
       "      <td>True</td>\n",
       "      <td>False</td>\n",
       "      <td>NaN</td>\n",
       "      <td>1.0</td>\n",
       "    </tr>\n",
       "    <tr>\n",
       "      <td>601</td>\n",
       "      <td>29892</td>\n",
       "      <td>L</td>\n",
       "      <td>20180228</td>\n",
       "      <td>19300101</td>\n",
       "      <td>['ORIGINAL', 'PRIMARY']</td>\n",
       "      <td>F</td>\n",
       "      <td>OPT</td>\n",
       "      <td>Makula (OCT)</td>\n",
       "      <td>(49, 496, 512)</td>\n",
       "      <td>91</td>\n",
       "      <td>...</td>\n",
       "      <td>1.3.6.1.4.1.33437.10.4.4089432.13164297799.285...</td>\n",
       "      <td>/storage/groups/ml01/datasets/raw/2018_LMUAuge...</td>\n",
       "      <td>True</td>\n",
       "      <td>2017-04-04</td>\n",
       "      <td>True</td>\n",
       "      <td>2017-02-02</td>\n",
       "      <td>True</td>\n",
       "      <td>False</td>\n",
       "      <td>NaN</td>\n",
       "      <td>1.0</td>\n",
       "    </tr>\n",
       "    <tr>\n",
       "      <td>602</td>\n",
       "      <td>29892</td>\n",
       "      <td>L</td>\n",
       "      <td>20180723</td>\n",
       "      <td>19300101</td>\n",
       "      <td>['ORIGINAL', 'PRIMARY']</td>\n",
       "      <td>F</td>\n",
       "      <td>OPT</td>\n",
       "      <td>Makula (OCT)</td>\n",
       "      <td>(49, 496, 512)</td>\n",
       "      <td>91</td>\n",
       "      <td>...</td>\n",
       "      <td>1.3.6.1.4.1.33437.10.4.4089432.13176810348.294...</td>\n",
       "      <td>/storage/groups/ml01/datasets/raw/2018_LMUAuge...</td>\n",
       "      <td>True</td>\n",
       "      <td>2017-04-04</td>\n",
       "      <td>True</td>\n",
       "      <td>2017-02-02</td>\n",
       "      <td>True</td>\n",
       "      <td>False</td>\n",
       "      <td>NaN</td>\n",
       "      <td>1.0</td>\n",
       "    </tr>\n",
       "    <tr>\n",
       "      <td>...</td>\n",
       "      <td>...</td>\n",
       "      <td>...</td>\n",
       "      <td>...</td>\n",
       "      <td>...</td>\n",
       "      <td>...</td>\n",
       "      <td>...</td>\n",
       "      <td>...</td>\n",
       "      <td>...</td>\n",
       "      <td>...</td>\n",
       "      <td>...</td>\n",
       "      <td>...</td>\n",
       "      <td>...</td>\n",
       "      <td>...</td>\n",
       "      <td>...</td>\n",
       "      <td>...</td>\n",
       "      <td>...</td>\n",
       "      <td>...</td>\n",
       "      <td>...</td>\n",
       "      <td>...</td>\n",
       "      <td>...</td>\n",
       "      <td>...</td>\n",
       "    </tr>\n",
       "    <tr>\n",
       "      <td>187730</td>\n",
       "      <td>378436</td>\n",
       "      <td>L</td>\n",
       "      <td>20200420</td>\n",
       "      <td>19631001</td>\n",
       "      <td>['ORIGINAL', 'PRIMARY']</td>\n",
       "      <td>M</td>\n",
       "      <td>OPT</td>\n",
       "      <td>Makula (OCT)</td>\n",
       "      <td>(49, 496, 512)</td>\n",
       "      <td>57</td>\n",
       "      <td>...</td>\n",
       "      <td>OPt.1.3.6.1.4.1.33437.10.4.9457825.13231836725...</td>\n",
       "      <td>/storage/groups/ml01/datasets/raw/2018_LMUAuge...</td>\n",
       "      <td>True</td>\n",
       "      <td>2020-01-02</td>\n",
       "      <td>True</td>\n",
       "      <td>2020-01-02</td>\n",
       "      <td>False</td>\n",
       "      <td>True</td>\n",
       "      <td>0.0</td>\n",
       "      <td>NaN</td>\n",
       "    </tr>\n",
       "    <tr>\n",
       "      <td>187731</td>\n",
       "      <td>378436</td>\n",
       "      <td>L</td>\n",
       "      <td>20200810</td>\n",
       "      <td>19631001</td>\n",
       "      <td>['ORIGINAL', 'PRIMARY']</td>\n",
       "      <td>M</td>\n",
       "      <td>OPT</td>\n",
       "      <td>Makula (OCT)</td>\n",
       "      <td>(49, 496, 512)</td>\n",
       "      <td>57</td>\n",
       "      <td>...</td>\n",
       "      <td>OPt.1.3.6.1.4.1.33437.10.4.9457825.13241514009...</td>\n",
       "      <td>/storage/groups/ml01/datasets/raw/2018_LMUAuge...</td>\n",
       "      <td>True</td>\n",
       "      <td>2020-01-02</td>\n",
       "      <td>True</td>\n",
       "      <td>2020-01-02</td>\n",
       "      <td>False</td>\n",
       "      <td>True</td>\n",
       "      <td>0.0</td>\n",
       "      <td>NaN</td>\n",
       "    </tr>\n",
       "    <tr>\n",
       "      <td>187732</td>\n",
       "      <td>378436</td>\n",
       "      <td>L</td>\n",
       "      <td>20200203</td>\n",
       "      <td>19631001</td>\n",
       "      <td>['ORIGINAL', 'PRIMARY']</td>\n",
       "      <td>M</td>\n",
       "      <td>OPT</td>\n",
       "      <td>Makula (OCT)</td>\n",
       "      <td>(49, 496, 512)</td>\n",
       "      <td>57</td>\n",
       "      <td>...</td>\n",
       "      <td>OPt.1.3.6.1.4.1.33437.10.4.9457825.13225192919...</td>\n",
       "      <td>/storage/groups/ml01/datasets/raw/2018_LMUAuge...</td>\n",
       "      <td>True</td>\n",
       "      <td>2020-01-02</td>\n",
       "      <td>True</td>\n",
       "      <td>2020-01-02</td>\n",
       "      <td>False</td>\n",
       "      <td>True</td>\n",
       "      <td>0.0</td>\n",
       "      <td>NaN</td>\n",
       "    </tr>\n",
       "    <tr>\n",
       "      <td>187733</td>\n",
       "      <td>378436</td>\n",
       "      <td>L</td>\n",
       "      <td>20200309</td>\n",
       "      <td>19631001</td>\n",
       "      <td>['ORIGINAL', 'PRIMARY']</td>\n",
       "      <td>M</td>\n",
       "      <td>OPT</td>\n",
       "      <td>Makula (OCT)</td>\n",
       "      <td>(49, 496, 512)</td>\n",
       "      <td>57</td>\n",
       "      <td>...</td>\n",
       "      <td>OPt.1.3.6.1.4.1.33437.10.4.9457825.13228212343...</td>\n",
       "      <td>/storage/groups/ml01/datasets/raw/2018_LMUAuge...</td>\n",
       "      <td>True</td>\n",
       "      <td>2020-01-02</td>\n",
       "      <td>True</td>\n",
       "      <td>2020-01-02</td>\n",
       "      <td>False</td>\n",
       "      <td>True</td>\n",
       "      <td>0.0</td>\n",
       "      <td>NaN</td>\n",
       "    </tr>\n",
       "    <tr>\n",
       "      <td>187734</td>\n",
       "      <td>378436</td>\n",
       "      <td>L</td>\n",
       "      <td>20200615</td>\n",
       "      <td>19631001</td>\n",
       "      <td>['ORIGINAL', 'PRIMARY']</td>\n",
       "      <td>M</td>\n",
       "      <td>OPT</td>\n",
       "      <td>Makula (OCT)</td>\n",
       "      <td>(49, 496, 512)</td>\n",
       "      <td>57</td>\n",
       "      <td>...</td>\n",
       "      <td>OPt.1.3.6.1.4.1.33437.10.4.9457825.13236675919...</td>\n",
       "      <td>/storage/groups/ml01/datasets/raw/2018_LMUAuge...</td>\n",
       "      <td>True</td>\n",
       "      <td>2020-01-02</td>\n",
       "      <td>True</td>\n",
       "      <td>2020-01-02</td>\n",
       "      <td>False</td>\n",
       "      <td>True</td>\n",
       "      <td>0.0</td>\n",
       "      <td>NaN</td>\n",
       "    </tr>\n",
       "  </tbody>\n",
       "</table>\n",
       "<p>26991 rows × 22 columns</p>\n",
       "</div>"
      ],
      "text/plain": [
       "         PATNR laterality  study_date  birthdate               image_type  \\\n",
       "598      29892          L    20170711   19300101  ['ORIGINAL', 'PRIMARY']   \n",
       "599      29892          L    20180411   19300101  ['ORIGINAL', 'PRIMARY']   \n",
       "600      29892          L    20171128   19300101  ['ORIGINAL', 'PRIMARY']   \n",
       "601      29892          L    20180228   19300101  ['ORIGINAL', 'PRIMARY']   \n",
       "602      29892          L    20180723   19300101  ['ORIGINAL', 'PRIMARY']   \n",
       "...        ...        ...         ...        ...                      ...   \n",
       "187730  378436          L    20200420   19631001  ['ORIGINAL', 'PRIMARY']   \n",
       "187731  378436          L    20200810   19631001  ['ORIGINAL', 'PRIMARY']   \n",
       "187732  378436          L    20200203   19631001  ['ORIGINAL', 'PRIMARY']   \n",
       "187733  378436          L    20200309   19631001  ['ORIGINAL', 'PRIMARY']   \n",
       "187734  378436          L    20200615   19631001  ['ORIGINAL', 'PRIMARY']   \n",
       "\n",
       "       gender modality study_description       img_shape  age  ...  \\\n",
       "598         F      OPT      Makula (OCT)  (49, 496, 512)   91  ...   \n",
       "599         F      OPT      Makula (OCT)  (49, 496, 512)   91  ...   \n",
       "600         F      OPT      Makula (OCT)  (49, 496, 512)   91  ...   \n",
       "601         F      OPT      Makula (OCT)  (49, 496, 512)   91  ...   \n",
       "602         F      OPT      Makula (OCT)  (49, 496, 512)   91  ...   \n",
       "...       ...      ...               ...             ...  ...  ...   \n",
       "187730      M      OPT      Makula (OCT)  (49, 496, 512)   57  ...   \n",
       "187731      M      OPT      Makula (OCT)  (49, 496, 512)   57  ...   \n",
       "187732      M      OPT      Makula (OCT)  (49, 496, 512)   57  ...   \n",
       "187733      M      OPT      Makula (OCT)  (49, 496, 512)   57  ...   \n",
       "187734      M      OPT      Makula (OCT)  (49, 496, 512)   57  ...   \n",
       "\n",
       "                                               dicom_name  \\\n",
       "598     1.3.6.1.4.1.33437.10.4.4089432.13144246997.276...   \n",
       "599     1.3.6.1.4.1.33437.10.4.4089432.13167914814.288...   \n",
       "600     1.3.6.1.4.1.33437.10.4.13118731.13156339954.21...   \n",
       "601     1.3.6.1.4.1.33437.10.4.4089432.13164297799.285...   \n",
       "602     1.3.6.1.4.1.33437.10.4.4089432.13176810348.294...   \n",
       "...                                                   ...   \n",
       "187730  OPt.1.3.6.1.4.1.33437.10.4.9457825.13231836725...   \n",
       "187731  OPt.1.3.6.1.4.1.33437.10.4.9457825.13241514009...   \n",
       "187732  OPt.1.3.6.1.4.1.33437.10.4.9457825.13225192919...   \n",
       "187733  OPt.1.3.6.1.4.1.33437.10.4.9457825.13228212343...   \n",
       "187734  OPt.1.3.6.1.4.1.33437.10.4.9457825.13236675919...   \n",
       "\n",
       "                                                 oct_path   AMD  \\\n",
       "598     /storage/groups/ml01/datasets/raw/2018_LMUAuge...  True   \n",
       "599     /storage/groups/ml01/datasets/raw/2018_LMUAuge...  True   \n",
       "600     /storage/groups/ml01/datasets/raw/2018_LMUAuge...  True   \n",
       "601     /storage/groups/ml01/datasets/raw/2018_LMUAuge...  True   \n",
       "602     /storage/groups/ml01/datasets/raw/2018_LMUAuge...  True   \n",
       "...                                                   ...   ...   \n",
       "187730  /storage/groups/ml01/datasets/raw/2018_LMUAuge...  True   \n",
       "187731  /storage/groups/ml01/datasets/raw/2018_LMUAuge...  True   \n",
       "187732  /storage/groups/ml01/datasets/raw/2018_LMUAuge...  True   \n",
       "187733  /storage/groups/ml01/datasets/raw/2018_LMUAuge...  True   \n",
       "187734  /storage/groups/ml01/datasets/raw/2018_LMUAuge...  True   \n",
       "\n",
       "       DKEY_first_date  INJECTION INJECTION_first_date  LONGITUDINAL_LISTS_1  \\\n",
       "598         2017-04-04       True           2017-02-02                  True   \n",
       "599         2017-04-04       True           2017-02-02                  True   \n",
       "600         2017-04-04       True           2017-02-02                  True   \n",
       "601         2017-04-04       True           2017-02-02                  True   \n",
       "602         2017-04-04       True           2017-02-02                  True   \n",
       "...                ...        ...                  ...                   ...   \n",
       "187730      2020-01-02       True           2020-01-02                 False   \n",
       "187731      2020-01-02       True           2020-01-02                 False   \n",
       "187732      2020-01-02       True           2020-01-02                 False   \n",
       "187733      2020-01-02       True           2020-01-02                 False   \n",
       "187734      2020-01-02       True           2020-01-02                 False   \n",
       "\n",
       "       LONGITUDINAL_LISTS_2  Naive_x  Naive_y  \n",
       "598                   False      NaN      1.0  \n",
       "599                   False      NaN      1.0  \n",
       "600                   False      NaN      1.0  \n",
       "601                   False      NaN      1.0  \n",
       "602                   False      NaN      1.0  \n",
       "...                     ...      ...      ...  \n",
       "187730                 True      0.0      NaN  \n",
       "187731                 True      0.0      NaN  \n",
       "187732                 True      0.0      NaN  \n",
       "187733                 True      0.0      NaN  \n",
       "187734                 True      0.0      NaN  \n",
       "\n",
       "[26991 rows x 22 columns]"
      ]
     },
     "execution_count": 63,
     "metadata": {},
     "output_type": "execute_result"
    }
   ],
   "source": [
    "included_longitudinal"
   ]
  },
  {
   "cell_type": "code",
   "execution_count": 64,
   "metadata": {},
   "outputs": [
    {
     "name": "stdout",
     "output_type": "stream",
     "text": [
      "Number of patient included in the longitudinal study is:  583\n"
     ]
    }
   ],
   "source": [
    "print(\"Number of patient included in the longitudinal study is: \", \n",
    "      included_longitudinal.PATNR.drop_duplicates().shape[0])"
   ]
  },
  {
   "cell_type": "code",
   "execution_count": 65,
   "metadata": {
    "scrolled": true
   },
   "outputs": [
    {
     "name": "stdout",
     "output_type": "stream",
     "text": [
      "Number of patients not with more OCTs but not included in export:  19198\n"
     ]
    }
   ],
   "source": [
    "print(\"Number of patients not with more OCTs but not included in export: \", \n",
    "      excluded_longitudinal.PATNR.drop_duplicates().shape[0])"
   ]
  },
  {
   "cell_type": "markdown",
   "metadata": {},
   "source": [
    "### Filter based on AMD and Injections"
   ]
  },
  {
   "cell_type": "code",
   "execution_count": 66,
   "metadata": {},
   "outputs": [],
   "source": [
    "excluded_longitudinal_amd = excluded_longitudinal[excluded_longitudinal.AMD == True]"
   ]
  },
  {
   "cell_type": "code",
   "execution_count": 67,
   "metadata": {},
   "outputs": [],
   "source": [
    "excluded_longitudinal_amd_inj = excluded_longitudinal_amd[excluded_longitudinal_amd.INJECTION == True]"
   ]
  },
  {
   "cell_type": "code",
   "execution_count": 68,
   "metadata": {
    "scrolled": true
   },
   "outputs": [
    {
     "name": "stdout",
     "output_type": "stream",
     "text": [
      "Number of patients with more than 2 OCTs taken with recorded H35.3 and injections: 5-156.9 is 2795\n"
     ]
    }
   ],
   "source": [
    "print(\"Number of patients with more than 2 OCTs taken with recorded H35.3 and injections: 5-156.9 is\", \n",
    "     excluded_longitudinal_amd_inj.PATNR.drop_duplicates().shape[0])"
   ]
  },
  {
   "cell_type": "markdown",
   "metadata": {},
   "source": [
    "### Calculate time range of visit per group"
   ]
  },
  {
   "cell_type": "code",
   "execution_count": 69,
   "metadata": {
    "scrolled": true
   },
   "outputs": [
    {
     "name": "stderr",
     "output_type": "stream",
     "text": [
      "/home/icb/olle.holmberg/anaconda3/lib/python3.7/site-packages/pandas/core/indexing.py:376: SettingWithCopyWarning: \n",
      "A value is trying to be set on a copy of a slice from a DataFrame.\n",
      "Try using .loc[row_indexer,col_indexer] = value instead\n",
      "\n",
      "See the caveats in the documentation: http://pandas.pydata.org/pandas-docs/stable/user_guide/indexing.html#returning-a-view-versus-a-copy\n",
      "  self.obj[key] = _infer_fill_value(value)\n",
      "/home/icb/olle.holmberg/anaconda3/lib/python3.7/site-packages/pandas/core/indexing.py:494: SettingWithCopyWarning: \n",
      "A value is trying to be set on a copy of a slice from a DataFrame.\n",
      "Try using .loc[row_indexer,col_indexer] = value instead\n",
      "\n",
      "See the caveats in the documentation: http://pandas.pydata.org/pandas-docs/stable/user_guide/indexing.html#returning-a-view-versus-a-copy\n",
      "  self.obj[item] = s\n"
     ]
    }
   ],
   "source": [
    "excluded_longitudinal_amd_inj.loc[:,\"study_date_dt\"] = pd.to_datetime(excluded_longitudinal_amd_inj.study_date.astype(str),\n",
    "                                                                     format='%Y%m%d')"
   ]
  },
  {
   "cell_type": "code",
   "execution_count": 70,
   "metadata": {
    "scrolled": true
   },
   "outputs": [
    {
     "name": "stderr",
     "output_type": "stream",
     "text": [
      "/home/icb/olle.holmberg/anaconda3/lib/python3.7/site-packages/pandas/core/reshape/merge.py:617: UserWarning: merging between different levels can give an unintended result (1 levels on the left, 2 on the right)\n",
      "  warnings.warn(msg, UserWarning)\n",
      "/home/icb/olle.holmberg/anaconda3/lib/python3.7/site-packages/pandas/core/generic.py:3946: PerformanceWarning: dropping on a non-lexsorted multi-index without a level parameter may impact performance.\n",
      "  new_axis = axis.drop(labels, errors=errors)\n"
     ]
    }
   ],
   "source": [
    "gp = excluded_longitudinal_amd_inj.groupby(['PATNR', 'laterality'])\n",
    "date_min_max = gp.agg({'study_date_dt' : [np.min, np.max]})\n",
    "date_min_max[\"time_range\"] = date_min_max[('study_date_dt', 'amax')] - date_min_max[('study_date_dt', 'amin')]\n",
    "date_min_max = date_min_max.reset_index()\n",
    "\n",
    "excluded_longitudinal_amd_inj = pd.merge(excluded_longitudinal_amd_inj, \n",
    "                                         date_min_max[[(        'PATNR',     ''), (   'time_range',     '')]], \n",
    "                                         left_on=\"PATNR\", right_on=\"PATNR\", how=\"left\")\n",
    "\n",
    "excluded_longitudinal_amd_inj = excluded_longitudinal_amd_inj.rename(columns={ ('time_range', ''): \"time_range\"})\n",
    "excluded_longitudinal_amd_inj[\"time_range\"] = excluded_longitudinal_amd_inj.time_range.dt.days"
   ]
  },
  {
   "cell_type": "markdown",
   "metadata": {},
   "source": [
    "### Filter on time range"
   ]
  },
  {
   "cell_type": "code",
   "execution_count": 71,
   "metadata": {
    "scrolled": true
   },
   "outputs": [],
   "source": [
    "excluded_longitudinal_amd_inj = excluded_longitudinal_amd_inj[excluded_longitudinal_amd_inj[\"time_range\"] > 90]"
   ]
  },
  {
   "cell_type": "markdown",
   "metadata": {},
   "source": [
    "## Drop duplicates"
   ]
  },
  {
   "cell_type": "code",
   "execution_count": 72,
   "metadata": {},
   "outputs": [],
   "source": [
    "excluded_longitudinal_amd_inj = excluded_longitudinal_amd_inj.drop_duplicates(subset=[\"PATNR\",\"laterality\",\"study_date\"])"
   ]
  },
  {
   "cell_type": "markdown",
   "metadata": {},
   "source": [
    "### Number of visits distribution among patients with "
   ]
  },
  {
   "cell_type": "code",
   "execution_count": 73,
   "metadata": {
    "scrolled": true
   },
   "outputs": [
    {
     "data": {
      "text/plain": [
       "<matplotlib.axes._subplots.AxesSubplot at 0x7f18a9a85710>"
      ]
     },
     "execution_count": 73,
     "metadata": {},
     "output_type": "execute_result"
    },
    {
     "data": {
      "image/png": "[encoded data removed]",
      "text/plain": [
       "<Figure size 432x288 with 1 Axes>"
      ]
     },
     "metadata": {
      "needs_background": "light"
     },
     "output_type": "display_data"
    }
   ],
   "source": [
    "excluded_longitudinal_amd_inj.drop_duplicates(subset=[\"PATNR\"]).number_of_visits.hist()"
   ]
  },
  {
   "cell_type": "markdown",
   "metadata": {},
   "source": [
    "### Time range"
   ]
  },
  {
   "cell_type": "code",
   "execution_count": 74,
   "metadata": {},
   "outputs": [
    {
     "data": {
      "text/plain": [
       "<matplotlib.axes._subplots.AxesSubplot at 0x7f187a8b6450>"
      ]
     },
     "execution_count": 74,
     "metadata": {},
     "output_type": "execute_result"
    },
    {
     "data": {
      "image/png": "[encoded data removed]",
      "text/plain": [
       "<Figure size 432x288 with 1 Axes>"
      ]
     },
     "metadata": {
      "needs_background": "light"
     },
     "output_type": "display_data"
    }
   ],
   "source": [
    "excluded_longitudinal_amd_inj.drop_duplicates(subset=[\"PATNR\"]).time_range.hist()"
   ]
  },
  {
   "cell_type": "markdown",
   "metadata": {},
   "source": [
    "## Get only eyes which are naive to the eye clinic itself"
   ]
  },
  {
   "cell_type": "code",
   "execution_count": 75,
   "metadata": {},
   "outputs": [],
   "source": [
    "inj_date = pd.DataFrame(date_min_max[\"study_date_dt\"][\"amin\"])\n",
    "\n",
    "inj_date = inj_date.rename(columns={\"amin\": \"first_oct_date\"})\n",
    "inj_date[\"PATNR\"] = date_min_max[[\"PATNR\"]]\n",
    "inj_date[\"laterality\"] = date_min_max[[\"laterality\"]]\n",
    "\n",
    "treatment_naive = pd.merge(excluded_longitudinal_amd_inj[[\"PATNR\", \"laterality\", \"INJECTION_first_date\"]], \n",
    "         inj_date[[\"PATNR\", \"laterality\", \"first_oct_date\"]], \n",
    "         left_on=[\"PATNR\", \"laterality\"], \n",
    "         right_on=[\"PATNR\", \"laterality\"], \n",
    "         how=\"left\")\n",
    "\n",
    "treatment_naive_seq = treatment_naive.drop_duplicates(subset=[\"PATNR\", \"laterality\"])"
   ]
  },
  {
   "cell_type": "code",
   "execution_count": null,
   "metadata": {},
   "outputs": [],
   "source": [
    "eye_clinic_treatment_naive = pd.to_datetime(treatment_naive_seq[\"INJECTION_first_date\"]) < \\\n",
    "pd.to_datetime(treatment_naive_seq[\"first_oct_date\"])\n",
    "\n",
    "treatment_naive_seq[\"oct_after_injections\"] = eye_clinic_treatment_naive"
   ]
  },
  {
   "cell_type": "markdown",
   "metadata": {},
   "source": [
    "### Join with meta table"
   ]
  },
  {
   "cell_type": "markdown",
   "metadata": {},
   "source": [
    "## Merge Treatment naive patients logging"
   ]
  },
  {
   "cell_type": "code",
   "execution_count": null,
   "metadata": {},
   "outputs": [],
   "source": [
    "excluded_longitudinal_amd_inj = pd.merge(excluded_longitudinal_amd_inj, \n",
    "         treatment_naive_seq[[\"PATNR\", \"laterality\", \"oct_after_injections\"]], \n",
    "         left_on = [\"PATNR\", \"laterality\"], \n",
    "         right_on=[\"PATNR\", \"laterality\"], how=\"left\")"
   ]
  },
  {
   "cell_type": "markdown",
   "metadata": {},
   "source": [
    "### Filter for treatment naive patients"
   ]
  },
  {
   "cell_type": "code",
   "execution_count": null,
   "metadata": {},
   "outputs": [],
   "source": [
    "excluded_longitudinal_amd_inj = excluded_longitudinal_amd_inj[excluded_longitudinal_amd_inj.oct_after_injections == False]"
   ]
  },
  {
   "cell_type": "code",
   "execution_count": null,
   "metadata": {},
   "outputs": [],
   "source": [
    "print(\"Number of patients treatment naive at Eye clinic\", \n",
    "      excluded_longitudinal_amd_inj.drop_duplicates(subset=[\"PATNR\"]).shape[0])"
   ]
  },
  {
   "cell_type": "markdown",
   "metadata": {},
   "source": [
    "#### Drop any duplicate records"
   ]
  },
  {
   "cell_type": "code",
   "execution_count": null,
   "metadata": {},
   "outputs": [],
   "source": [
    "excluded_longitudinal_amd_inj = excluded_longitudinal_amd_inj.drop_duplicates(subset=[\"PATNR\", \"laterality\", \"study_date\"])"
   ]
  },
  {
   "cell_type": "code",
   "execution_count": null,
   "metadata": {},
   "outputs": [],
   "source": [
    "excluded_longitudinal_amd_inj"
   ]
  },
  {
   "cell_type": "markdown",
   "metadata": {},
   "source": [
    "## Check export overlap"
   ]
  },
  {
   "cell_type": "code",
   "execution_count": null,
   "metadata": {
    "scrolled": true
   },
   "outputs": [],
   "source": [
    "np.unique(excluded_longitudinal_amd_inj.export, return_counts=True)"
   ]
  },
  {
   "cell_type": "code",
   "execution_count": null,
   "metadata": {},
   "outputs": [],
   "source": [
    "patient_bool = excluded_longitudinal_amd_inj.PATNR == 367711\n",
    "laterality_bool = excluded_longitudinal_amd_inj.laterality == \"R\"\n",
    "\n",
    "excluded_longitudinal_amd_inj[patient_bool & laterality_bool][[\"PATNR\", \n",
    "                                                               \"laterality\", \n",
    "                                                               \"study_date\", \n",
    "                                                               \"export\",\n",
    "                                                               \"INJECTION_first_date\", \n",
    "                                                               \"DKEY_first_date\"]]"
   ]
  },
  {
   "cell_type": "code",
   "execution_count": null,
   "metadata": {},
   "outputs": [],
   "source": [
    "longitudinal_export_1_pd[longitudinal_export_1_pd.PATNR == 265145]"
   ]
  },
  {
   "cell_type": "code",
   "execution_count": null,
   "metadata": {
    "scrolled": true
   },
   "outputs": [],
   "source": [
    "longitudinal_export_2_pd[longitudinal_export_2_pd.PATNR == 265145]"
   ]
  },
  {
   "cell_type": "code",
   "execution_count": null,
   "metadata": {},
   "outputs": [],
   "source": [
    "joint_prozeduren_pd[joint_prozeduren_pd.PATNR == 265145]"
   ]
  },
  {
   "cell_type": "markdown",
   "metadata": {},
   "source": [
    "## Save potential additional time series data"
   ]
  },
  {
   "cell_type": "code",
   "execution_count": null,
   "metadata": {},
   "outputs": [],
   "source": [
    "EXT = \"joint_export/longitudinal_tables\"\n",
    "excluded_longitudinal_amd_inj.to_csv(os.path.join(PROJ_DIR, EXT, \"oct_meta_longitudinal_naive_information.csv\"), \n",
    "                                     index=False)"
   ]
  },
  {
   "cell_type": "code",
   "execution_count": null,
   "metadata": {},
   "outputs": [],
   "source": [
    "column_oi = [\"PATNR\", \"birthdate\", \"DKEY_first_date\", \"INJECTION_first_date\", \"time_range\", \"number_of_visits\"]\n",
    "patient_unique_longitudinal_amd_inj = excluded_longitudinal_amd_inj[column_oi].drop_duplicates(subset=[\"PATNR\"])\n",
    "\n",
    "patient_unique_longitudinal_amd_inj.to_csv(os.path.join(PROJ_DIR, \n",
    "                                                        EXT, \n",
    "                                                        \"oct_meta_patient_uniquelongitudinal_naive.csv\"), \n",
    "                                     index=False)"
   ]
  }
 ],
 "metadata": {
  "kernelspec": {
   "display_name": "tracking_library",
   "language": "python",
   "name": "tracking_library"
  },
  "language_info": {
   "codemirror_mode": {
    "name": "ipython",
    "version": 3
   },
   "file_extension": ".py",
   "mimetype": "text/x-python",
   "name": "python",
   "nbconvert_exporter": "python",
   "pygments_lexer": "ipython3",
   "version": "3.6.13"
  }
 },
 "nbformat": 4,
 "nbformat_minor": 2
}
