{
 "cells": [
  {
   "cell_type": "markdown",
   "metadata": {},
   "source": [
    "# Creating a train, validation and test split with even distribution of scans with features of interesting\n",
    "\n",
    "### Split split focuses on the following features\n",
    "\n",
    "- 4: sub retinal fluid\n",
    "- 5: sub retainal hyper reflective material\n",
    "- 7: fibrovascular PED\n",
    "- 8: drusen\n",
    "- 9: poster hyloid membrane detachment\n",
    "- 10: choroid\n",
    "- 13: fibrosis"
   ]
  },
  {
   "cell_type": "code",
   "execution_count": 3,
   "metadata": {},
   "outputs": [],
   "source": [
    "import os\n",
    "import numpy as np\n",
    "import pandas as pd\n",
    "import sklearn\n",
    "import cv2\n",
    "from tqdm import tqdm\n",
    "\n",
    "FEATURES_OI = [4, 5, 7, 8, 9, 10, 13]\n",
    "\n",
    "WORK_SPACE = \"/home/olle/PycharmProjects/LODE/workspace\"\n",
    "LBL_PATH = \"feature_segmentation/segmentation/data/train_data/hq_examples/masks\"\n",
    "\n",
    "MASK_DIR = os.path.join(WORK_SPACE, LBL_PATH)"
   ]
  },
  {
   "cell_type": "markdown",
   "metadata": {},
   "source": [
    "#### load all labels"
   ]
  },
  {
   "cell_type": "code",
   "execution_count": 74,
   "metadata": {},
   "outputs": [],
   "source": [
    "label_names = os.listdir(MASK_DIR)\n",
    "\n",
    "labels = {}\n",
    "for label_name in label_names:\n",
    "    label_path = os.path.join(MASK_DIR, label_name)\n",
    "    label = cv2.imread(label_path)\n",
    "    labels[label_name] = label"
   ]
  },
  {
   "cell_type": "markdown",
   "metadata": {},
   "source": [
    "#### create dict with record feature distribution"
   ]
  },
  {
   "cell_type": "code",
   "execution_count": 75,
   "metadata": {},
   "outputs": [
    {
     "name": "stderr",
     "output_type": "stream",
     "text": [
      "100%|██████████| 592/592 [00:00<00:00, 10367.64it/s]\n",
      "100%|██████████| 592/592 [00:00<00:00, 10064.85it/s]\n",
      "100%|██████████| 592/592 [00:00<00:00, 8324.49it/s]\n",
      "  0%|          | 0/592 [00:00<?, ?it/s]"
     ]
    },
    {
     "name": "stdout",
     "output_type": "stream",
     "text": [
      "Loogging feature:  1\n",
      "Loogging feature:  2\n",
      "Loogging feature:  3\n",
      "Loogging feature:  4\n"
     ]
    },
    {
     "name": "stderr",
     "output_type": "stream",
     "text": [
      "100%|██████████| 592/592 [00:00<00:00, 8551.90it/s]\n",
      "100%|██████████| 592/592 [00:00<00:00, 7718.67it/s]\n",
      "100%|██████████| 592/592 [00:00<00:00, 8488.69it/s]\n",
      "  0%|          | 0/592 [00:00<?, ?it/s]"
     ]
    },
    {
     "name": "stdout",
     "output_type": "stream",
     "text": [
      "Loogging feature:  5\n",
      "Loogging feature:  6\n",
      "Loogging feature:  7\n"
     ]
    },
    {
     "name": "stderr",
     "output_type": "stream",
     "text": [
      "100%|██████████| 592/592 [00:00<00:00, 7532.09it/s]\n",
      "100%|██████████| 592/592 [00:00<00:00, 7718.89it/s]\n",
      "100%|██████████| 592/592 [00:00<00:00, 8991.59it/s]\n",
      "  0%|          | 0/592 [00:00<?, ?it/s]"
     ]
    },
    {
     "name": "stdout",
     "output_type": "stream",
     "text": [
      "Loogging feature:  8\n",
      "Loogging feature:  9\n",
      "Loogging feature:  10\n"
     ]
    },
    {
     "name": "stderr",
     "output_type": "stream",
     "text": [
      "100%|██████████| 592/592 [00:00<00:00, 10304.73it/s]\n",
      "100%|██████████| 592/592 [00:00<00:00, 8382.49it/s]"
     ]
    },
    {
     "name": "stdout",
     "output_type": "stream",
     "text": [
      "Loogging feature:  13\n"
     ]
    },
    {
     "name": "stderr",
     "output_type": "stream",
     "text": [
      "\n"
     ]
    }
   ],
   "source": [
    "feature_record_dist = {1:[], 2:[], 3:[], 4: [], 5: [], 6: [], 7: [], 8: [], 9: [], 10: [], 13: []}\n",
    "for feature in [1,2,3,4,5,6,7,8,9,10, 13]:\n",
    "    print(\"Loogging feature: \", feature)\n",
    "    for label_name in tqdm(labels.keys()):\n",
    "        if feature in labels[label_name]:\n",
    "            feature_record_dist[feature].append(label_name)"
   ]
  },
  {
   "cell_type": "code",
   "execution_count": 76,
   "metadata": {
    "scrolled": true
   },
   "outputs": [
    {
     "name": "stdout",
     "output_type": "stream",
     "text": [
      "Number of samples in feature 1 is 294\n",
      "Number of samples in feature 2 is 592\n",
      "Number of samples in feature 3 is 165\n",
      "Number of samples in feature 4 is 98\n",
      "Number of samples in feature 5 is 66\n",
      "Number of samples in feature 6 is 557\n",
      "Number of samples in feature 7 is 178\n",
      "Number of samples in feature 8 is 120\n",
      "Number of samples in feature 9 is 126\n",
      "Number of samples in feature 10 is 362\n",
      "Number of samples in feature 13 is 84\n"
     ]
    }
   ],
   "source": [
    "for feature in [1,2,3,4,5,6,7,8,9,10, 13]:\n",
    "    print(f\"Number of samples in feature {feature} is {len(feature_record_dist[feature])}\")"
   ]
  },
  {
   "cell_type": "code",
   "execution_count": 77,
   "metadata": {},
   "outputs": [],
   "source": [
    "#### data distribution plot"
   ]
  },
  {
   "cell_type": "code",
   "execution_count": 78,
   "metadata": {},
   "outputs": [
    {
     "name": "stderr",
     "output_type": "stream",
     "text": [
      "/home/olle/miniconda3/envs/DeepRT/lib/python3.7/site-packages/seaborn/_decorators.py:43: FutureWarning: Pass the following variables as keyword args: x, y. From version 0.12, the only valid positional argument will be `data`, and passing other arguments without an explicit keyword will result in an error or misinterpretation.\n",
      "  FutureWarning\n"
     ]
    },
    {
     "data": {
      "text/plain": [
       "Text(0.5, 1.0, 'class distribution')"
      ]
     },
     "execution_count": 78,
     "metadata": {},
     "output_type": "execute_result"
    },
    {
     "data": {
      "image/png": "[encoded data removed]",
      "text/plain": [
       "<Figure size 720x360 with 1 Axes>"
      ]
     },
     "metadata": {
      "needs_background": "light"
     },
     "output_type": "display_data"
    }
   ],
   "source": [
    "import numpy as np\n",
    "import os\n",
    "import seaborn as sns\n",
    "import matplotlib.pyplot as plt\n",
    "\n",
    "ious = [254, 525, 159, 98, 60, 491, 176, 114, 126, 456, 80]\n",
    "\n",
    "classes = [1,2,3,4,5,6,7,8,9,10, 13]\n",
    "\n",
    "plt.figure(figsize=(10,5))\n",
    "sns.barplot(classes, ious, color=\"darkblue\")\n",
    "plt.xlabel(\"class\")\n",
    "plt.ylabel(\"n\")\n",
    "plt.title(\"class distribution\")"
   ]
  },
  {
   "cell_type": "code",
   "execution_count": 79,
   "metadata": {},
   "outputs": [],
   "source": [
    "test_records = []\n",
    "validation_records = []\n",
    "record_names = list(labels.keys())"
   ]
  },
  {
   "cell_type": "code",
   "execution_count": 80,
   "metadata": {},
   "outputs": [
    {
     "name": "stdout",
     "output_type": "stream",
     "text": [
      "Number of available records before test data: 592\n",
      "13\n",
      "13\n",
      "13\n",
      "13\n",
      "13\n",
      "13\n",
      "13\n",
      "13\n",
      "Number of available records after test data: 520\n"
     ]
    }
   ],
   "source": [
    "n_srf_test = 0\n",
    "n_srhm_test = 0\n",
    "n_drusen_test = 0\n",
    "n_fibrosis_test = 0\n",
    "n_phmd_test = 0 \n",
    "n_not_choroid_test = 0\n",
    "n_irf_test = 0\n",
    "n_em_test = 0 \n",
    "n_fvped_test = 0\n",
    "\n",
    "n_from_class = 8\n",
    "test_records = []\n",
    "print(\"Number of available records before test data:\", len(record_names))\n",
    "for label_name in record_names:\n",
    "    if not \"oct_\" in label_name:\n",
    "        lbl = labels[label_name]\n",
    "\n",
    "        if n_fvped_test < n_from_class:\n",
    "            if 7 in lbl:\n",
    "                n_fvped_test += 1\n",
    "                test_records.append(label_name)\n",
    "                record_names.remove(label_name)\n",
    "                continue\n",
    "\n",
    "        if n_em_test < n_from_class:\n",
    "            if 1 in lbl:\n",
    "                n_em_test += 1\n",
    "                test_records.append(label_name)\n",
    "                record_names.remove(label_name)\n",
    "                continue\n",
    "\n",
    "        if n_srf_test < n_from_class:\n",
    "            if 4 in lbl:\n",
    "                n_srf_test += 1\n",
    "                test_records.append(label_name)\n",
    "                record_names.remove(label_name)\n",
    "                continue\n",
    "\n",
    "        if n_srhm_test < n_from_class:\n",
    "            if 5 in lbl:\n",
    "                n_srhm_test += 1\n",
    "                test_records.append(label_name)\n",
    "                record_names.remove(label_name)\n",
    "                continue\n",
    "\n",
    "        if n_drusen_test < n_from_class:\n",
    "            if 8 in lbl:\n",
    "                n_drusen_test += 1\n",
    "                test_records.append(label_name)\n",
    "                record_names.remove(label_name)\n",
    "                continue\n",
    "\n",
    "        if n_fibrosis_test < n_from_class:\n",
    "            if 13 in lbl:\n",
    "                print(13)\n",
    "                n_fibrosis_test += 1\n",
    "                test_records.append(label_name)\n",
    "                record_names.remove(label_name)\n",
    "                continue\n",
    "\n",
    "        if n_phmd_test < n_from_class:\n",
    "            if 9 in lbl:\n",
    "                n_phmd_test += 1\n",
    "                test_records.append(label_name)\n",
    "                record_names.remove(label_name)\n",
    "                continue\n",
    "\n",
    "        if n_not_choroid_test < n_from_class:\n",
    "            if 10 not in lbl:\n",
    "                n_not_choroid_test += 1\n",
    "                test_records.append(label_name)\n",
    "                record_names.remove(label_name)\n",
    "                continue\n",
    "\n",
    "        if n_irf_test < n_from_class:\n",
    "            if 3 in lbl:\n",
    "                n_irf_test += 1\n",
    "                test_records.append(label_name)\n",
    "                record_names.remove(label_name)\n",
    "                continue\n",
    "\n",
    "print(\"Number of available records after test data:\", len(record_names))"
   ]
  },
  {
   "cell_type": "code",
   "execution_count": 36,
   "metadata": {},
   "outputs": [
    {
     "name": "stdout",
     "output_type": "stream",
     "text": [
      "Number of available records before test data: 439\n",
      "13\n",
      "7\n",
      "8\n",
      "not 10\n",
      "8\n",
      "4\n",
      "not 10\n",
      "1\n",
      "not 10\n",
      "8\n",
      "8\n",
      "7\n",
      "4\n",
      "7\n",
      "1\n",
      "7\n",
      "13\n",
      "9\n",
      "7\n",
      "9\n",
      "9\n",
      "4\n",
      "5\n",
      "13\n",
      "4\n",
      "8\n",
      "4\n",
      "1\n",
      "not 10\n",
      "not 10\n",
      "3\n",
      "1\n",
      "1\n",
      "3\n",
      "5\n",
      "9\n",
      "9\n",
      "3\n",
      "13\n",
      "3\n",
      "3\n",
      "13\n",
      "5\n",
      "5\n",
      "5\n",
      "Number of available records after test data: 394\n"
     ]
    }
   ],
   "source": [
    "n_srf_validation = 0\n",
    "n_srhm_validation = 0\n",
    "n_drusen_validation = 0\n",
    "n_fibrosis_validation = 0\n",
    "n_phmd_validation = 0 \n",
    "n_not_choroid_validation = 0\n",
    "n_irf_validation = 0 \n",
    "n_em_validation = 0\n",
    "n_fvped_validation = 0 \n",
    "\n",
    "validation_records = []\n",
    "print(\"Number of available records before test data:\", len(record_names))\n",
    "for label_name in record_names:\n",
    "    lbl = labels[label_name]\n",
    "    \n",
    "    if n_fvped_validation < 5:\n",
    "        if 7 in lbl:\n",
    "            print(7)\n",
    "            n_fvped_validation += 1\n",
    "            validation_records.append(label_name)\n",
    "            record_names.remove(label_name)\n",
    "            continue\n",
    "    \n",
    "    if n_srf_validation < 5:\n",
    "        if 4 in lbl:\n",
    "            print(4)\n",
    "            n_srf_validation += 1\n",
    "            validation_records.append(label_name)\n",
    "            record_names.remove(label_name)\n",
    "            continue\n",
    "    \n",
    "    if n_srhm_validation < 5:\n",
    "        if 5 in lbl:\n",
    "            print(5)\n",
    "            n_srhm_validation += 1\n",
    "            validation_records.append(label_name)\n",
    "            record_names.remove(label_name)\n",
    "            continue\n",
    "    \n",
    "    if n_drusen_validation < 5:\n",
    "        if 8 in lbl:\n",
    "            print(8)\n",
    "            n_drusen_validation += 1\n",
    "            validation_records.append(label_name)\n",
    "            record_names.remove(label_name)\n",
    "            continue\n",
    "\n",
    "    if n_fibrosis_validation < 5:\n",
    "        if 13 in lbl:\n",
    "            print(13)\n",
    "            n_fibrosis_validation += 1\n",
    "            validation_records.append(label_name)\n",
    "            record_names.remove(label_name)\n",
    "            continue\n",
    "                \n",
    "    if n_phmd_validation < 5:\n",
    "        if 9 in lbl:\n",
    "            print(9)\n",
    "            n_phmd_validation += 1\n",
    "            validation_records.append(label_name)\n",
    "            record_names.remove(label_name)\n",
    "            continue\n",
    "    \n",
    "    if n_not_choroid_validation < 5:\n",
    "        if 10 not in lbl:\n",
    "            print(\"not\", 10)\n",
    "            n_not_choroid_validation += 1\n",
    "            validation_records.append(label_name)\n",
    "            record_names.remove(label_name)\n",
    "            continue\n",
    "            \n",
    "    if n_irf_validation < 5:\n",
    "        if 3 in lbl:\n",
    "            print(3)\n",
    "            n_irf_validation += 1\n",
    "            validation_records.append(label_name)\n",
    "            record_names.remove(label_name)\n",
    "            continue\n",
    "    \n",
    "    if n_em_validation < 5:\n",
    "        if 1 in lbl:\n",
    "            print(1)\n",
    "            n_em_validation += 1\n",
    "            validation_records.append(label_name)\n",
    "            record_names.remove(label_name)\n",
    "            continue\n",
    "            \n",
    "            \n",
    "print(\"Number of available records after test data:\", len(record_names))"
   ]
  },
  {
   "cell_type": "markdown",
   "metadata": {},
   "source": [
    "## verify data split distribution"
   ]
  },
  {
   "cell_type": "code",
   "execution_count": 81,
   "metadata": {
    "scrolled": true
   },
   "outputs": [
    {
     "name": "stdout",
     "output_type": "stream",
     "text": [
      "number of train records: 520,       number validation records: 0,       number of test records: 72\n"
     ]
    }
   ],
   "source": [
    "print(f\"number of train records: {len(record_names)}, \\\n",
    "      number validation records: {len(validation_records)}, \\\n",
    "      number of test records: {len(test_records)}\")"
   ]
  },
  {
   "cell_type": "code",
   "execution_count": 68,
   "metadata": {},
   "outputs": [
    {
     "name": "stdout",
     "output_type": "stream",
     "text": [
      "[]\n",
      "[]\n",
      "[]\n"
     ]
    }
   ],
   "source": [
    "# test so no records overlap\n",
    "print([record for record in record_names if record in validation_records])\n",
    "print([record for record in record_names if record in test_records])\n",
    "print([record for record in validation_records if record in test_records])"
   ]
  },
  {
   "cell_type": "code",
   "execution_count": 82,
   "metadata": {},
   "outputs": [],
   "source": [
    "save_dir = \"feature_segmentation/segmentation/data/train_data/data_split\"\n",
    "\n",
    "test_save_path = os.path.join(WORK_SPACE, save_dir, \"test_ids.csv\")\n",
    "train_save_path = os.path.join(WORK_SPACE, save_dir, \"train_ids.csv\")\n",
    "validation_save_path = os.path.join(WORK_SPACE, save_dir, \"validation_ids.csv\")\n",
    "\n",
    "pd.DataFrame(test_records).to_csv(test_save_path)\n",
    "pd.DataFrame(validation_records).to_csv(validation_save_path)\n",
    "pd.DataFrame(record_names).to_csv(train_save_path)"
   ]
  },
  {
   "cell_type": "code",
   "execution_count": 83,
   "metadata": {},
   "outputs": [],
   "source": [
    "#### visualize data split\n",
    "\n",
    "import shutil\n",
    "\n",
    "overview_path = \"feature_segmentation/segmentation/data/train_data/hq_examples/overview\"\n",
    "\n",
    "os.makedirs(os.path.join(WORK_SPACE, save_dir, \"train_overview\"), exist_ok=True)\n",
    "os.makedirs(os.path.join(WORK_SPACE, save_dir, \"test_overview\"), exist_ok=True)\n",
    "os.makedirs(os.path.join(WORK_SPACE, save_dir, \"validation_overview\"), exist_ok=True)\n",
    "\n",
    "for record in record_names:\n",
    "    shutil.copy(os.path.join(WORK_SPACE, overview_path, record), \n",
    "               os.path.join(WORK_SPACE, save_dir, \"train_overview\"))\n",
    "    \n",
    "\n",
    "for record in test_records:\n",
    "    shutil.copy(os.path.join(WORK_SPACE, overview_path, record), \n",
    "               os.path.join(WORK_SPACE, save_dir, \"test_overview\"))\n",
    "    \n",
    "\n",
    "for record in validation_records:\n",
    "    shutil.copy(os.path.join(WORK_SPACE, overview_path, record), \n",
    "               os.path.join(WORK_SPACE, save_dir, \"validation_overview\"))"
   ]
  },
  {
   "cell_type": "markdown",
   "metadata": {},
   "source": [
    "## Data split curated by me"
   ]
  },
  {
   "cell_type": "code",
   "execution_count": 403,
   "metadata": {},
   "outputs": [
    {
     "name": "stdout",
     "output_type": "stream",
     "text": [
      "Number of records in test list:  35 in filter:  36\n",
      "Number of records in remove list:  80 in filter:  82\n",
      "Number of records in oct_ list: in filter:  49\n"
     ]
    },
    {
     "name": "stderr",
     "output_type": "stream",
     "text": [
      "/home/olle/miniconda3/lib/python3.7/site-packages/ipykernel_launcher.py:74: SettingWithCopyWarning: \n",
      "A value is trying to be set on a copy of a slice from a DataFrame.\n",
      "Try using .loc[row_indexer,col_indexer] = value instead\n",
      "\n",
      "See the caveats in the documentation: https://pandas.pydata.org/pandas-docs/stable/user_guide/indexing.html#returning-a-view-versus-a-copy\n"
     ]
    }
   ],
   "source": [
    "'''Data samples for removing and testing'''\n",
    "\n",
    "# test samples\n",
    "test_dict = {\"fibrosis\": [\"1745\", \"22757\", \"24844\", \"47557\", \"48212\", \"64530\", \"273218\"],\n",
    "            \"srhm\":[\"13130\", \"45526\", \"196106\"],\n",
    "            \"fv_pred\":[\"4206\", \"5091\", \"7561\",\"47407\",\"48221\"],\n",
    "            \"drusen\":[\"295655\", \"319355\", \"2106\", \"42510\", \"43106\", \"86737\", \"160803\"],\n",
    "            \"srf\":[\"240948\", \"338917\"],\n",
    "            \"irf\": [\"61989\", \"135590\", \"333295\"],\n",
    "            \"phm\": [\"354106\"],\n",
    "            \"erm\": [\"9637\"], \n",
    "            \"normal\": [\"36093\", \"290173\", \"41172\", \"76510\", \"90356\", \"272050\"]}\n",
    "\n",
    "to_remove = [\"356065\", \"370411\", \"256773\", \"367861\",\n",
    "             \"35013\", \"58253\",\"169093\",\"18780\", \"224732\",\"245835\",\"347778\", \n",
    "             \"213583\", \"252332\",\"299680\", \n",
    "             \"322043\",\"332319\",\"347443\",\n",
    "             \"351500\",\"22475\",\"36626\",\n",
    "             \"61858\", \"73008\",\"130380\",\n",
    "             \"130492\",\"158985\", \"196084\",\n",
    "             \"253081\", \"262571\",\"289786\",\n",
    "             \"289948\",\"302111\", \"303150\",\n",
    "             \"307848\",\"312696\",\"329862\",\n",
    "             \"345182\",\"347851\", \"348456\",\n",
    "             \"348706\", \"350899\",\"352115\",\"366746\",\n",
    "             \"368378\",\"368570\",\"369769\",\"370803\",\n",
    "            \"12956\", \"61322\", \"266702\", \"16500\", \"78057\",\n",
    "            \"290630\", \"38217\", \"46780\", \"92986\", \"297087\", \"343177\",\n",
    "            \"54017\", \"176808\", \"306704\", \"226215\", \"317244\", \"57052\", \"259225\", \"333069\",\n",
    "            \"48478\", \"222071\", \"94783\", \"273564\", \"183611\"]\n",
    "\n",
    "insecure_records = [\"20844\", \"305355\", \"301630\", \"282167\", \"33676\", \"51217\", \"51640\", \"64565\", \"151221\",\n",
    "                   \"1475\"]\n",
    "\n",
    "to_remove = to_remove + insecure_records\n",
    "save_dir = \"feature_segmentation/segmentation/data/train_data/agreement_data_split\"\n",
    "\n",
    "\n",
    "# load csv files\n",
    "test_save_path = os.path.join(WORK_SPACE, save_dir, \"test_ids.csv\")\n",
    "train_save_path = os.path.join(WORK_SPACE, save_dir, \"train_ids.csv\")\n",
    "validation_save_path = os.path.join(WORK_SPACE, save_dir, \"validation_ids.csv\")\n",
    "\n",
    "test_ids = pd.read_csv(test_save_path)[\"0\"].tolist()\n",
    "train_ids = pd.read_csv(train_save_path)[\"0\"].tolist()\n",
    "validation_ids = pd.read_csv(validation_save_path)[\"0\"].tolist()\n",
    "\n",
    "all_ids = test_ids + validation_ids + train_ids\n",
    "all_ids_pd = pd.DataFrame(all_ids).drop_duplicates()\n",
    "\n",
    "all_ids_pd[\"id\"] = all_ids_pd[0].str.split(\"_\", expand=True)[0]\n",
    "\n",
    "# get all test records\n",
    "test_records = []\n",
    "for feature in test_dict.keys():\n",
    "    test_records = test_records + test_dict[feature]\n",
    "    \n",
    "print(\"Number of records in test list: \", len(test_records), \n",
    "      \"in filter: \", sum(all_ids_pd[\"id\"].isin(test_records)))\n",
    "\n",
    "test_records_bool = all_ids_pd[\"id\"].isin(test_records)\n",
    "\n",
    "print(\"Number of records in remove list: \", len(to_remove), \n",
    "      \"in filter: \", sum(all_ids_pd[\"id\"].isin(to_remove)))\n",
    "    \n",
    "remove_records_bool = all_ids_pd[\"id\"].isin(to_remove)\n",
    "\n",
    "print(\"Number of records in oct_ list: in filter: \", sum(all_ids_pd[\"id\"].isin([\"oct\"])))\n",
    "\n",
    "oct_remove_bool = all_ids_pd[\"id\"].isin([\"oct\"])\n",
    "\n",
    "# assign split columns\n",
    "all_ids_pd[\"split\"] = \"train\"\n",
    "all_ids_pd[test_records_bool][\"split\"] = \"test\""
   ]
  },
  {
   "cell_type": "markdown",
   "metadata": {},
   "source": [
    "### set test split"
   ]
  },
  {
   "cell_type": "code",
   "execution_count": 404,
   "metadata": {},
   "outputs": [],
   "source": [
    "all_ids_pd.loc[test_records_bool, \"split\"] = \"test\""
   ]
  },
  {
   "cell_type": "markdown",
   "metadata": {},
   "source": [
    "### remove lq records"
   ]
  },
  {
   "cell_type": "code",
   "execution_count": 405,
   "metadata": {},
   "outputs": [],
   "source": [
    "all_ids_pd = all_ids_pd.loc[~(remove_records_bool | oct_remove_bool),:]\n",
    "all_ids_pd = all_ids_pd.reset_index()#.drop(columns=[\"index\"])"
   ]
  },
  {
   "cell_type": "markdown",
   "metadata": {},
   "source": [
    "### split train / validation records"
   ]
  },
  {
   "cell_type": "code",
   "execution_count": 406,
   "metadata": {},
   "outputs": [],
   "source": [
    "train_ids_pd = all_ids_pd[all_ids_pd.split == \"train\"].sample(frac=1.0)\n",
    "\n",
    "validation_ids = train_ids_pd[0:int(train_ids_pd.shape[0]*0.2)]\n",
    "train_ids = train_ids_pd[int(train_ids_pd.shape[0]*0.2):]\n",
    "\n",
    "test_ids = all_ids_pd[all_ids_pd.split == \"test\"]"
   ]
  },
  {
   "cell_type": "code",
   "execution_count": 407,
   "metadata": {},
   "outputs": [
    {
     "data": {
      "text/plain": [
       "((36, 4), (339, 4), (84, 4))"
      ]
     },
     "execution_count": 407,
     "metadata": {},
     "output_type": "execute_result"
    }
   ],
   "source": [
    "test_ids.shape, train_ids.shape, validation_ids.shape"
   ]
  },
  {
   "cell_type": "markdown",
   "metadata": {},
   "source": [
    "### save files"
   ]
  },
  {
   "cell_type": "code",
   "execution_count": 408,
   "metadata": {},
   "outputs": [],
   "source": [
    "save_dir = \"feature_segmentation/segmentation/data/train_data/curated_data_split\"\n",
    "\n",
    "test_ids[[0]].to_csv(os.path.join(WORK_SPACE, save_dir, \"test_ids.csv\"))\n",
    "train_ids[[0]].to_csv(os.path.join(WORK_SPACE, save_dir, \"train_ids.csv\"))\n",
    "validation_ids[[0]].to_csv(os.path.join(WORK_SPACE, save_dir, \"validation_ids.csv\"))"
   ]
  },
  {
   "cell_type": "markdown",
   "metadata": {},
   "source": [
    "### move overview files"
   ]
  },
  {
   "cell_type": "code",
   "execution_count": 409,
   "metadata": {},
   "outputs": [],
   "source": [
    "#### visualize data split\n",
    "import shutil\n",
    "\n",
    "overview_path = \"feature_segmentation/segmentation/data/train_data/hq_examples/overview\"\n",
    "\n",
    "os.makedirs(os.path.join(WORK_SPACE, save_dir, \"train_overview\"), exist_ok=True)\n",
    "os.makedirs(os.path.join(WORK_SPACE, save_dir, \"test_overview\"), exist_ok=True)\n",
    "os.makedirs(os.path.join(WORK_SPACE, save_dir, \"validation_overview\"), exist_ok=True)\n",
    "\n",
    "for record in train_ids[0].values.tolist():\n",
    "    shutil.copy(os.path.join(WORK_SPACE, overview_path, record), \n",
    "               os.path.join(WORK_SPACE, save_dir, \"train_overview\"))\n",
    "    \n",
    "\n",
    "for record in test_ids[0].values.tolist():\n",
    "    shutil.copy(os.path.join(WORK_SPACE, overview_path, record), \n",
    "               os.path.join(WORK_SPACE, save_dir, \"test_overview\"))\n",
    "    \n",
    "\n",
    "for record in validation_ids[0].values.tolist():\n",
    "    shutil.copy(os.path.join(WORK_SPACE, overview_path, record), \n",
    "               os.path.join(WORK_SPACE, save_dir, \"validation_overview\"))"
   ]
  }
 ],
 "metadata": {
  "kernelspec": {
   "display_name": "Python [conda env:root] *",
   "language": "python",
   "name": "conda-root-py"
  },
  "language_info": {
   "codemirror_mode": {
    "name": "ipython",
    "version": 3
   },
   "file_extension": ".py",
   "mimetype": "text/x-python",
   "name": "python",
   "nbconvert_exporter": "python",
   "pygments_lexer": "ipython3",
   "version": "3.7.4"
  }
 },
 "nbformat": 4,
 "nbformat_minor": 2
}
