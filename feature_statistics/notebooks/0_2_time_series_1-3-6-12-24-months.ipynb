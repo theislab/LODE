{
 "cells": [
  {
   "cell_type": "code",
   "execution_count": 1,
   "metadata": {},
   "outputs": [],
   "source": [
    "import os\n",
    "import pandas as pd\n",
    "import numpy as np\n",
    "import matplotlib.pyplot as plt\n",
    "\n",
    "data_file = \"/home/olle/PycharmProjects/LODE/workspace/sequence_data/longitudinal_properties.csv\"\n",
    "data_pd = pd.read_csv(data_file)"
   ]
  },
  {
   "cell_type": "code",
   "execution_count": 2,
   "metadata": {
    "scrolled": true
   },
   "outputs": [
    {
     "data": {
      "text/html": [
       "<div>\n",
       "<style scoped>\n",
       "    .dataframe tbody tr th:only-of-type {\n",
       "        vertical-align: middle;\n",
       "    }\n",
       "\n",
       "    .dataframe tbody tr th {\n",
       "        vertical-align: top;\n",
       "    }\n",
       "\n",
       "    .dataframe thead th {\n",
       "        text-align: right;\n",
       "    }\n",
       "</style>\n",
       "<table border=\"1\" class=\"dataframe\">\n",
       "  <thead>\n",
       "    <tr style=\"text-align: right;\">\n",
       "      <th></th>\n",
       "      <th>Unnamed: 0</th>\n",
       "      <th>sequence</th>\n",
       "      <th>study_date_1</th>\n",
       "      <th>total_fluid_1</th>\n",
       "      <th>time_range_1</th>\n",
       "      <th>time_range_before_1</th>\n",
       "      <th>time_range_after_1</th>\n",
       "      <th>insertion_type_1</th>\n",
       "      <th>cur_va_rounded_1</th>\n",
       "      <th>next_va_1</th>\n",
       "      <th>...</th>\n",
       "      <th>next_va_24</th>\n",
       "      <th>intra_retinal_fluid_24</th>\n",
       "      <th>sub_retinal_fluid_24</th>\n",
       "      <th>srhm_24</th>\n",
       "      <th>fibrovascular_ped_24</th>\n",
       "      <th>choroid_24</th>\n",
       "      <th>drusen_24</th>\n",
       "      <th>rpe_24</th>\n",
       "      <th>epiretinal_membrane_24</th>\n",
       "      <th>fibrosis_24</th>\n",
       "    </tr>\n",
       "  </thead>\n",
       "  <tbody>\n",
       "    <tr>\n",
       "      <th>0</th>\n",
       "      <td>2</td>\n",
       "      <td>502_R</td>\n",
       "      <td>2016-04-04</td>\n",
       "      <td>0.000534</td>\n",
       "      <td>NaN</td>\n",
       "      <td>NaN</td>\n",
       "      <td>NaN</td>\n",
       "      <td>NaN</td>\n",
       "      <td>0.10</td>\n",
       "      <td>0.494850</td>\n",
       "      <td>...</td>\n",
       "      <td>0.078451</td>\n",
       "      <td>0.000267</td>\n",
       "      <td>0.001013</td>\n",
       "      <td>0.000821</td>\n",
       "      <td>0.095364</td>\n",
       "      <td>1.753434</td>\n",
       "      <td>0.065789</td>\n",
       "      <td>0.489890</td>\n",
       "      <td>0.001536</td>\n",
       "      <td>0.000401</td>\n",
       "    </tr>\n",
       "    <tr>\n",
       "      <th>1</th>\n",
       "      <td>10</td>\n",
       "      <td>1557_L</td>\n",
       "      <td>2014-10-20</td>\n",
       "      <td>0.017480</td>\n",
       "      <td>NaN</td>\n",
       "      <td>NaN</td>\n",
       "      <td>NaN</td>\n",
       "      <td>NaN</td>\n",
       "      <td>1.10</td>\n",
       "      <td>1.096910</td>\n",
       "      <td>...</td>\n",
       "      <td>1.301030</td>\n",
       "      <td>0.000152</td>\n",
       "      <td>0.000571</td>\n",
       "      <td>0.055693</td>\n",
       "      <td>0.210156</td>\n",
       "      <td>2.075865</td>\n",
       "      <td>0.003946</td>\n",
       "      <td>0.252950</td>\n",
       "      <td>0.018018</td>\n",
       "      <td>0.277361</td>\n",
       "    </tr>\n",
       "    <tr>\n",
       "      <th>2</th>\n",
       "      <td>11</td>\n",
       "      <td>1557_R</td>\n",
       "      <td>2013-09-20</td>\n",
       "      <td>0.389026</td>\n",
       "      <td>NaN</td>\n",
       "      <td>NaN</td>\n",
       "      <td>NaN</td>\n",
       "      <td>NaN</td>\n",
       "      <td>0.70</td>\n",
       "      <td>0.698970</td>\n",
       "      <td>...</td>\n",
       "      <td>0.698970</td>\n",
       "      <td>0.000693</td>\n",
       "      <td>0.001843</td>\n",
       "      <td>0.019360</td>\n",
       "      <td>0.240204</td>\n",
       "      <td>2.128582</td>\n",
       "      <td>0.008848</td>\n",
       "      <td>0.437410</td>\n",
       "      <td>0.008200</td>\n",
       "      <td>0.067541</td>\n",
       "    </tr>\n",
       "    <tr>\n",
       "      <th>3</th>\n",
       "      <td>13</td>\n",
       "      <td>1570_R</td>\n",
       "      <td>2014-02-17</td>\n",
       "      <td>0.002409</td>\n",
       "      <td>NaN</td>\n",
       "      <td>NaN</td>\n",
       "      <td>NaN</td>\n",
       "      <td>NaN</td>\n",
       "      <td>0.70</td>\n",
       "      <td>0.602060</td>\n",
       "      <td>...</td>\n",
       "      <td>0.795880</td>\n",
       "      <td>0.111120</td>\n",
       "      <td>0.001271</td>\n",
       "      <td>0.012301</td>\n",
       "      <td>0.369197</td>\n",
       "      <td>1.981089</td>\n",
       "      <td>0.006128</td>\n",
       "      <td>0.445304</td>\n",
       "      <td>0.008235</td>\n",
       "      <td>0.046260</td>\n",
       "    </tr>\n",
       "    <tr>\n",
       "      <th>4</th>\n",
       "      <td>19</td>\n",
       "      <td>3897_R</td>\n",
       "      <td>2014-02-21</td>\n",
       "      <td>0.009870</td>\n",
       "      <td>NaN</td>\n",
       "      <td>NaN</td>\n",
       "      <td>NaN</td>\n",
       "      <td>NaN</td>\n",
       "      <td>0.30</td>\n",
       "      <td>0.102373</td>\n",
       "      <td>...</td>\n",
       "      <td>0.265605</td>\n",
       "      <td>0.002098</td>\n",
       "      <td>0.061646</td>\n",
       "      <td>0.000170</td>\n",
       "      <td>0.099569</td>\n",
       "      <td>0.017839</td>\n",
       "      <td>0.035282</td>\n",
       "      <td>0.489694</td>\n",
       "      <td>0.228036</td>\n",
       "      <td>0.000000</td>\n",
       "    </tr>\n",
       "    <tr>\n",
       "      <th>5</th>\n",
       "      <td>20</td>\n",
       "      <td>4206_L</td>\n",
       "      <td>2013-08-13</td>\n",
       "      <td>0.252856</td>\n",
       "      <td>NaN</td>\n",
       "      <td>NaN</td>\n",
       "      <td>NaN</td>\n",
       "      <td>NaN</td>\n",
       "      <td>1.18</td>\n",
       "      <td>0.886057</td>\n",
       "      <td>...</td>\n",
       "      <td>0.886057</td>\n",
       "      <td>0.060799</td>\n",
       "      <td>0.004836</td>\n",
       "      <td>0.048626</td>\n",
       "      <td>0.435461</td>\n",
       "      <td>3.406546</td>\n",
       "      <td>0.000395</td>\n",
       "      <td>0.405971</td>\n",
       "      <td>0.006854</td>\n",
       "      <td>0.015847</td>\n",
       "    </tr>\n",
       "    <tr>\n",
       "      <th>6</th>\n",
       "      <td>23</td>\n",
       "      <td>4353_L</td>\n",
       "      <td>2014-02-20</td>\n",
       "      <td>0.002724</td>\n",
       "      <td>NaN</td>\n",
       "      <td>NaN</td>\n",
       "      <td>NaN</td>\n",
       "      <td>NaN</td>\n",
       "      <td>0.20</td>\n",
       "      <td>0.301030</td>\n",
       "      <td>...</td>\n",
       "      <td>NaN</td>\n",
       "      <td>0.000422</td>\n",
       "      <td>0.181441</td>\n",
       "      <td>0.000000</td>\n",
       "      <td>0.110744</td>\n",
       "      <td>1.065789</td>\n",
       "      <td>0.001992</td>\n",
       "      <td>0.501481</td>\n",
       "      <td>0.069733</td>\n",
       "      <td>0.000000</td>\n",
       "    </tr>\n",
       "    <tr>\n",
       "      <th>7</th>\n",
       "      <td>26</td>\n",
       "      <td>5091_L</td>\n",
       "      <td>2014-01-20</td>\n",
       "      <td>0.052803</td>\n",
       "      <td>NaN</td>\n",
       "      <td>NaN</td>\n",
       "      <td>NaN</td>\n",
       "      <td>NaN</td>\n",
       "      <td>1.54</td>\n",
       "      <td>1.698970</td>\n",
       "      <td>...</td>\n",
       "      <td>NaN</td>\n",
       "      <td>0.000169</td>\n",
       "      <td>0.037901</td>\n",
       "      <td>0.006163</td>\n",
       "      <td>0.488533</td>\n",
       "      <td>1.700317</td>\n",
       "      <td>0.010257</td>\n",
       "      <td>0.485732</td>\n",
       "      <td>0.048878</td>\n",
       "      <td>0.004116</td>\n",
       "    </tr>\n",
       "    <tr>\n",
       "      <th>8</th>\n",
       "      <td>28</td>\n",
       "      <td>5249_L</td>\n",
       "      <td>2014-04-29</td>\n",
       "      <td>0.000433</td>\n",
       "      <td>NaN</td>\n",
       "      <td>NaN</td>\n",
       "      <td>NaN</td>\n",
       "      <td>NaN</td>\n",
       "      <td>0.40</td>\n",
       "      <td>0.397940</td>\n",
       "      <td>...</td>\n",
       "      <td>0.543582</td>\n",
       "      <td>0.000697</td>\n",
       "      <td>0.000124</td>\n",
       "      <td>0.027822</td>\n",
       "      <td>0.067020</td>\n",
       "      <td>2.022039</td>\n",
       "      <td>0.001337</td>\n",
       "      <td>0.365908</td>\n",
       "      <td>0.035246</td>\n",
       "      <td>0.465482</td>\n",
       "    </tr>\n",
       "    <tr>\n",
       "      <th>9</th>\n",
       "      <td>29</td>\n",
       "      <td>5249_R</td>\n",
       "      <td>2014-04-29</td>\n",
       "      <td>0.009502</td>\n",
       "      <td>NaN</td>\n",
       "      <td>NaN</td>\n",
       "      <td>NaN</td>\n",
       "      <td>NaN</td>\n",
       "      <td>0.49</td>\n",
       "      <td>0.397940</td>\n",
       "      <td>...</td>\n",
       "      <td>0.795880</td>\n",
       "      <td>0.250686</td>\n",
       "      <td>0.152104</td>\n",
       "      <td>0.128621</td>\n",
       "      <td>0.436536</td>\n",
       "      <td>1.620521</td>\n",
       "      <td>0.000288</td>\n",
       "      <td>0.234709</td>\n",
       "      <td>0.025624</td>\n",
       "      <td>0.558414</td>\n",
       "    </tr>\n",
       "    <tr>\n",
       "      <th>10</th>\n",
       "      <td>30</td>\n",
       "      <td>5513_L</td>\n",
       "      <td>2016-02-25</td>\n",
       "      <td>0.006544</td>\n",
       "      <td>NaN</td>\n",
       "      <td>NaN</td>\n",
       "      <td>NaN</td>\n",
       "      <td>NaN</td>\n",
       "      <td>0.20</td>\n",
       "      <td>0.200659</td>\n",
       "      <td>...</td>\n",
       "      <td>0.223192</td>\n",
       "      <td>0.018220</td>\n",
       "      <td>0.000468</td>\n",
       "      <td>0.002129</td>\n",
       "      <td>0.480907</td>\n",
       "      <td>1.977606</td>\n",
       "      <td>0.051468</td>\n",
       "      <td>0.508567</td>\n",
       "      <td>0.057627</td>\n",
       "      <td>0.044998</td>\n",
       "    </tr>\n",
       "    <tr>\n",
       "      <th>11</th>\n",
       "      <td>33</td>\n",
       "      <td>5604_L</td>\n",
       "      <td>2014-04-08</td>\n",
       "      <td>0.482936</td>\n",
       "      <td>NaN</td>\n",
       "      <td>NaN</td>\n",
       "      <td>NaN</td>\n",
       "      <td>NaN</td>\n",
       "      <td>0.70</td>\n",
       "      <td>0.397940</td>\n",
       "      <td>...</td>\n",
       "      <td>0.397940</td>\n",
       "      <td>0.003920</td>\n",
       "      <td>0.001009</td>\n",
       "      <td>0.027586</td>\n",
       "      <td>0.622810</td>\n",
       "      <td>1.387231</td>\n",
       "      <td>0.013719</td>\n",
       "      <td>0.241849</td>\n",
       "      <td>0.003507</td>\n",
       "      <td>1.151388</td>\n",
       "    </tr>\n",
       "    <tr>\n",
       "      <th>12</th>\n",
       "      <td>43</td>\n",
       "      <td>7561_L</td>\n",
       "      <td>2014-07-18</td>\n",
       "      <td>0.078663</td>\n",
       "      <td>NaN</td>\n",
       "      <td>NaN</td>\n",
       "      <td>NaN</td>\n",
       "      <td>NaN</td>\n",
       "      <td>1.00</td>\n",
       "      <td>1.096910</td>\n",
       "      <td>...</td>\n",
       "      <td>1.176091</td>\n",
       "      <td>0.013012</td>\n",
       "      <td>0.089557</td>\n",
       "      <td>0.063281</td>\n",
       "      <td>0.047495</td>\n",
       "      <td>1.560504</td>\n",
       "      <td>0.000346</td>\n",
       "      <td>0.472634</td>\n",
       "      <td>0.029530</td>\n",
       "      <td>0.056239</td>\n",
       "    </tr>\n",
       "    <tr>\n",
       "      <th>13</th>\n",
       "      <td>45</td>\n",
       "      <td>7659_L</td>\n",
       "      <td>2013-09-30</td>\n",
       "      <td>0.696653</td>\n",
       "      <td>NaN</td>\n",
       "      <td>NaN</td>\n",
       "      <td>NaN</td>\n",
       "      <td>NaN</td>\n",
       "      <td>0.49</td>\n",
       "      <td>0.200659</td>\n",
       "      <td>...</td>\n",
       "      <td>0.116614</td>\n",
       "      <td>0.000319</td>\n",
       "      <td>0.199677</td>\n",
       "      <td>0.005915</td>\n",
       "      <td>0.583624</td>\n",
       "      <td>2.714179</td>\n",
       "      <td>0.018961</td>\n",
       "      <td>0.460219</td>\n",
       "      <td>0.000632</td>\n",
       "      <td>0.001089</td>\n",
       "    </tr>\n",
       "    <tr>\n",
       "      <th>14</th>\n",
       "      <td>47</td>\n",
       "      <td>7763_L</td>\n",
       "      <td>2014-01-07</td>\n",
       "      <td>0.036710</td>\n",
       "      <td>NaN</td>\n",
       "      <td>NaN</td>\n",
       "      <td>NaN</td>\n",
       "      <td>NaN</td>\n",
       "      <td>0.80</td>\n",
       "      <td>0.200659</td>\n",
       "      <td>...</td>\n",
       "      <td>0.418053</td>\n",
       "      <td>0.013234</td>\n",
       "      <td>0.001833</td>\n",
       "      <td>0.012387</td>\n",
       "      <td>0.370908</td>\n",
       "      <td>0.437202</td>\n",
       "      <td>0.019516</td>\n",
       "      <td>0.438691</td>\n",
       "      <td>0.008019</td>\n",
       "      <td>0.042872</td>\n",
       "    </tr>\n",
       "    <tr>\n",
       "      <th>15</th>\n",
       "      <td>48</td>\n",
       "      <td>7763_R</td>\n",
       "      <td>2014-01-07</td>\n",
       "      <td>0.137767</td>\n",
       "      <td>NaN</td>\n",
       "      <td>NaN</td>\n",
       "      <td>NaN</td>\n",
       "      <td>NaN</td>\n",
       "      <td>0.22</td>\n",
       "      <td>0.200659</td>\n",
       "      <td>...</td>\n",
       "      <td>0.143604</td>\n",
       "      <td>0.000026</td>\n",
       "      <td>0.036523</td>\n",
       "      <td>0.000013</td>\n",
       "      <td>0.181640</td>\n",
       "      <td>0.995252</td>\n",
       "      <td>0.001873</td>\n",
       "      <td>0.489891</td>\n",
       "      <td>0.001002</td>\n",
       "      <td>0.000009</td>\n",
       "    </tr>\n",
       "    <tr>\n",
       "      <th>16</th>\n",
       "      <td>51</td>\n",
       "      <td>12816_R</td>\n",
       "      <td>2015-01-13</td>\n",
       "      <td>0.009434</td>\n",
       "      <td>NaN</td>\n",
       "      <td>NaN</td>\n",
       "      <td>NaN</td>\n",
       "      <td>NaN</td>\n",
       "      <td>1.00</td>\n",
       "      <td>0.602060</td>\n",
       "      <td>...</td>\n",
       "      <td>0.516952</td>\n",
       "      <td>0.000038</td>\n",
       "      <td>0.002663</td>\n",
       "      <td>0.001274</td>\n",
       "      <td>0.053557</td>\n",
       "      <td>2.673000</td>\n",
       "      <td>0.022578</td>\n",
       "      <td>0.465865</td>\n",
       "      <td>0.013495</td>\n",
       "      <td>0.000005</td>\n",
       "    </tr>\n",
       "    <tr>\n",
       "      <th>17</th>\n",
       "      <td>52</td>\n",
       "      <td>12956_R</td>\n",
       "      <td>2014-02-20</td>\n",
       "      <td>0.021879</td>\n",
       "      <td>NaN</td>\n",
       "      <td>NaN</td>\n",
       "      <td>NaN</td>\n",
       "      <td>NaN</td>\n",
       "      <td>0.89</td>\n",
       "      <td>0.886057</td>\n",
       "      <td>...</td>\n",
       "      <td>1.000000</td>\n",
       "      <td>0.002590</td>\n",
       "      <td>0.001139</td>\n",
       "      <td>0.078773</td>\n",
       "      <td>0.085242</td>\n",
       "      <td>2.270751</td>\n",
       "      <td>0.000473</td>\n",
       "      <td>0.235310</td>\n",
       "      <td>0.025810</td>\n",
       "      <td>0.252277</td>\n",
       "    </tr>\n",
       "    <tr>\n",
       "      <th>18</th>\n",
       "      <td>56</td>\n",
       "      <td>13533_L</td>\n",
       "      <td>2015-04-30</td>\n",
       "      <td>0.211290</td>\n",
       "      <td>NaN</td>\n",
       "      <td>NaN</td>\n",
       "      <td>NaN</td>\n",
       "      <td>NaN</td>\n",
       "      <td>0.40</td>\n",
       "      <td>0.494850</td>\n",
       "      <td>...</td>\n",
       "      <td>0.494850</td>\n",
       "      <td>0.001502</td>\n",
       "      <td>0.000193</td>\n",
       "      <td>0.002102</td>\n",
       "      <td>0.828457</td>\n",
       "      <td>1.327950</td>\n",
       "      <td>0.014514</td>\n",
       "      <td>0.501552</td>\n",
       "      <td>0.036182</td>\n",
       "      <td>0.004892</td>\n",
       "    </tr>\n",
       "    <tr>\n",
       "      <th>19</th>\n",
       "      <td>59</td>\n",
       "      <td>13774_L</td>\n",
       "      <td>2014-02-27</td>\n",
       "      <td>0.023961</td>\n",
       "      <td>NaN</td>\n",
       "      <td>NaN</td>\n",
       "      <td>NaN</td>\n",
       "      <td>NaN</td>\n",
       "      <td>0.80</td>\n",
       "      <td>1.096910</td>\n",
       "      <td>...</td>\n",
       "      <td>1.301030</td>\n",
       "      <td>0.001058</td>\n",
       "      <td>0.000127</td>\n",
       "      <td>0.077788</td>\n",
       "      <td>0.081643</td>\n",
       "      <td>2.120027</td>\n",
       "      <td>0.000045</td>\n",
       "      <td>0.281635</td>\n",
       "      <td>0.007920</td>\n",
       "      <td>0.400950</td>\n",
       "    </tr>\n",
       "  </tbody>\n",
       "</table>\n",
       "<p>20 rows × 87 columns</p>\n",
       "</div>"
      ],
      "text/plain": [
       "    Unnamed: 0 sequence study_date_1  total_fluid_1  time_range_1  \\\n",
       "0            2    502_R   2016-04-04       0.000534           NaN   \n",
       "1           10   1557_L   2014-10-20       0.017480           NaN   \n",
       "2           11   1557_R   2013-09-20       0.389026           NaN   \n",
       "3           13   1570_R   2014-02-17       0.002409           NaN   \n",
       "4           19   3897_R   2014-02-21       0.009870           NaN   \n",
       "5           20   4206_L   2013-08-13       0.252856           NaN   \n",
       "6           23   4353_L   2014-02-20       0.002724           NaN   \n",
       "7           26   5091_L   2014-01-20       0.052803           NaN   \n",
       "8           28   5249_L   2014-04-29       0.000433           NaN   \n",
       "9           29   5249_R   2014-04-29       0.009502           NaN   \n",
       "10          30   5513_L   2016-02-25       0.006544           NaN   \n",
       "11          33   5604_L   2014-04-08       0.482936           NaN   \n",
       "12          43   7561_L   2014-07-18       0.078663           NaN   \n",
       "13          45   7659_L   2013-09-30       0.696653           NaN   \n",
       "14          47   7763_L   2014-01-07       0.036710           NaN   \n",
       "15          48   7763_R   2014-01-07       0.137767           NaN   \n",
       "16          51  12816_R   2015-01-13       0.009434           NaN   \n",
       "17          52  12956_R   2014-02-20       0.021879           NaN   \n",
       "18          56  13533_L   2015-04-30       0.211290           NaN   \n",
       "19          59  13774_L   2014-02-27       0.023961           NaN   \n",
       "\n",
       "    time_range_before_1  time_range_after_1  insertion_type_1  \\\n",
       "0                   NaN                 NaN               NaN   \n",
       "1                   NaN                 NaN               NaN   \n",
       "2                   NaN                 NaN               NaN   \n",
       "3                   NaN                 NaN               NaN   \n",
       "4                   NaN                 NaN               NaN   \n",
       "5                   NaN                 NaN               NaN   \n",
       "6                   NaN                 NaN               NaN   \n",
       "7                   NaN                 NaN               NaN   \n",
       "8                   NaN                 NaN               NaN   \n",
       "9                   NaN                 NaN               NaN   \n",
       "10                  NaN                 NaN               NaN   \n",
       "11                  NaN                 NaN               NaN   \n",
       "12                  NaN                 NaN               NaN   \n",
       "13                  NaN                 NaN               NaN   \n",
       "14                  NaN                 NaN               NaN   \n",
       "15                  NaN                 NaN               NaN   \n",
       "16                  NaN                 NaN               NaN   \n",
       "17                  NaN                 NaN               NaN   \n",
       "18                  NaN                 NaN               NaN   \n",
       "19                  NaN                 NaN               NaN   \n",
       "\n",
       "    cur_va_rounded_1  next_va_1  ...  next_va_24  intra_retinal_fluid_24  \\\n",
       "0               0.10   0.494850  ...    0.078451                0.000267   \n",
       "1               1.10   1.096910  ...    1.301030                0.000152   \n",
       "2               0.70   0.698970  ...    0.698970                0.000693   \n",
       "3               0.70   0.602060  ...    0.795880                0.111120   \n",
       "4               0.30   0.102373  ...    0.265605                0.002098   \n",
       "5               1.18   0.886057  ...    0.886057                0.060799   \n",
       "6               0.20   0.301030  ...         NaN                0.000422   \n",
       "7               1.54   1.698970  ...         NaN                0.000169   \n",
       "8               0.40   0.397940  ...    0.543582                0.000697   \n",
       "9               0.49   0.397940  ...    0.795880                0.250686   \n",
       "10              0.20   0.200659  ...    0.223192                0.018220   \n",
       "11              0.70   0.397940  ...    0.397940                0.003920   \n",
       "12              1.00   1.096910  ...    1.176091                0.013012   \n",
       "13              0.49   0.200659  ...    0.116614                0.000319   \n",
       "14              0.80   0.200659  ...    0.418053                0.013234   \n",
       "15              0.22   0.200659  ...    0.143604                0.000026   \n",
       "16              1.00   0.602060  ...    0.516952                0.000038   \n",
       "17              0.89   0.886057  ...    1.000000                0.002590   \n",
       "18              0.40   0.494850  ...    0.494850                0.001502   \n",
       "19              0.80   1.096910  ...    1.301030                0.001058   \n",
       "\n",
       "    sub_retinal_fluid_24   srhm_24  fibrovascular_ped_24  choroid_24  \\\n",
       "0               0.001013  0.000821              0.095364    1.753434   \n",
       "1               0.000571  0.055693              0.210156    2.075865   \n",
       "2               0.001843  0.019360              0.240204    2.128582   \n",
       "3               0.001271  0.012301              0.369197    1.981089   \n",
       "4               0.061646  0.000170              0.099569    0.017839   \n",
       "5               0.004836  0.048626              0.435461    3.406546   \n",
       "6               0.181441  0.000000              0.110744    1.065789   \n",
       "7               0.037901  0.006163              0.488533    1.700317   \n",
       "8               0.000124  0.027822              0.067020    2.022039   \n",
       "9               0.152104  0.128621              0.436536    1.620521   \n",
       "10              0.000468  0.002129              0.480907    1.977606   \n",
       "11              0.001009  0.027586              0.622810    1.387231   \n",
       "12              0.089557  0.063281              0.047495    1.560504   \n",
       "13              0.199677  0.005915              0.583624    2.714179   \n",
       "14              0.001833  0.012387              0.370908    0.437202   \n",
       "15              0.036523  0.000013              0.181640    0.995252   \n",
       "16              0.002663  0.001274              0.053557    2.673000   \n",
       "17              0.001139  0.078773              0.085242    2.270751   \n",
       "18              0.000193  0.002102              0.828457    1.327950   \n",
       "19              0.000127  0.077788              0.081643    2.120027   \n",
       "\n",
       "    drusen_24    rpe_24  epiretinal_membrane_24 fibrosis_24  \n",
       "0    0.065789  0.489890                0.001536    0.000401  \n",
       "1    0.003946  0.252950                0.018018    0.277361  \n",
       "2    0.008848  0.437410                0.008200    0.067541  \n",
       "3    0.006128  0.445304                0.008235    0.046260  \n",
       "4    0.035282  0.489694                0.228036    0.000000  \n",
       "5    0.000395  0.405971                0.006854    0.015847  \n",
       "6    0.001992  0.501481                0.069733    0.000000  \n",
       "7    0.010257  0.485732                0.048878    0.004116  \n",
       "8    0.001337  0.365908                0.035246    0.465482  \n",
       "9    0.000288  0.234709                0.025624    0.558414  \n",
       "10   0.051468  0.508567                0.057627    0.044998  \n",
       "11   0.013719  0.241849                0.003507    1.151388  \n",
       "12   0.000346  0.472634                0.029530    0.056239  \n",
       "13   0.018961  0.460219                0.000632    0.001089  \n",
       "14   0.019516  0.438691                0.008019    0.042872  \n",
       "15   0.001873  0.489891                0.001002    0.000009  \n",
       "16   0.022578  0.465865                0.013495    0.000005  \n",
       "17   0.000473  0.235310                0.025810    0.252277  \n",
       "18   0.014514  0.501552                0.036182    0.004892  \n",
       "19   0.000045  0.281635                0.007920    0.400950  \n",
       "\n",
       "[20 rows x 87 columns]"
      ]
     },
     "execution_count": 2,
     "metadata": {},
     "output_type": "execute_result"
    }
   ],
   "source": [
    "data_pd.head(20)"
   ]
  },
  {
   "cell_type": "code",
   "execution_count": 3,
   "metadata": {},
   "outputs": [
    {
     "data": {
      "text/plain": [
       "Index(['Unnamed: 0', 'sequence', 'study_date_1', 'total_fluid_1',\n",
       "       'time_range_1', 'time_range_before_1', 'time_range_after_1',\n",
       "       'insertion_type_1', 'cur_va_rounded_1', 'next_va_1',\n",
       "       'intra_retinal_fluid_1', 'sub_retinal_fluid_1', 'srhm_1',\n",
       "       'fibrovascular_ped_1', 'choroid_1', 'drusen_1', 'rpe_1',\n",
       "       'epiretinal_membrane_1', 'fibrosis_1', 'study_date_3', 'total_fluid_3',\n",
       "       'time_range_3', 'time_range_before_3', 'time_range_after_3',\n",
       "       'insertion_type_3', 'cur_va_rounded_3', 'next_va_3',\n",
       "       'intra_retinal_fluid_3', 'sub_retinal_fluid_3', 'srhm_3',\n",
       "       'fibrovascular_ped_3', 'choroid_3', 'drusen_3', 'rpe_3',\n",
       "       'epiretinal_membrane_3', 'fibrosis_3', 'study_date_6', 'total_fluid_6',\n",
       "       'time_range_6', 'time_range_before_6', 'time_range_after_6',\n",
       "       'insertion_type_6', 'cur_va_rounded_6', 'next_va_6',\n",
       "       'intra_retinal_fluid_6', 'sub_retinal_fluid_6', 'srhm_6',\n",
       "       'fibrovascular_ped_6', 'choroid_6', 'drusen_6', 'rpe_6',\n",
       "       'epiretinal_membrane_6', 'fibrosis_6', 'study_date_12',\n",
       "       'total_fluid_12', 'time_range_12', 'time_range_before_12',\n",
       "       'time_range_after_12', 'insertion_type_12', 'cur_va_rounded_12',\n",
       "       'next_va_12', 'intra_retinal_fluid_12', 'sub_retinal_fluid_12',\n",
       "       'srhm_12', 'fibrovascular_ped_12', 'choroid_12', 'drusen_12', 'rpe_12',\n",
       "       'epiretinal_membrane_12', 'fibrosis_12', 'study_date_24',\n",
       "       'total_fluid_24', 'time_range_24', 'time_range_before_24',\n",
       "       'time_range_after_24', 'insertion_type_24', 'cur_va_rounded_24',\n",
       "       'next_va_24', 'intra_retinal_fluid_24', 'sub_retinal_fluid_24',\n",
       "       'srhm_24', 'fibrovascular_ped_24', 'choroid_24', 'drusen_24', 'rpe_24',\n",
       "       'epiretinal_membrane_24', 'fibrosis_24'],\n",
       "      dtype='object')"
      ]
     },
     "execution_count": 3,
     "metadata": {},
     "output_type": "execute_result"
    }
   ],
   "source": [
    "data_pd.columns"
   ]
  },
  {
   "cell_type": "markdown",
   "metadata": {},
   "source": [
    "#### How many sequence are treated?"
   ]
  },
  {
   "cell_type": "code",
   "execution_count": 4,
   "metadata": {
    "scrolled": true
   },
   "outputs": [
    {
     "name": "stdout",
     "output_type": "stream",
     "text": [
      "number of treated sequences 397\n"
     ]
    }
   ],
   "source": [
    "print(f\"number of treated sequences {data_pd.shape[0]}\")"
   ]
  },
  {
   "cell_type": "markdown",
   "metadata": {},
   "source": [
    "#### Insertion type distribution"
   ]
  },
  {
   "cell_type": "code",
   "execution_count": 5,
   "metadata": {},
   "outputs": [
    {
     "data": {
      "text/plain": [
       "Text(0.5, 1.0, 'month 24')"
      ]
     },
     "execution_count": 5,
     "metadata": {},
     "output_type": "execute_result"
    },
    {
     "data": {
      "image/png": "[encoded data removed]",
      "text/plain": [
       "<Figure size 720x720 with 4 Axes>"
      ]
     },
     "metadata": {
      "needs_background": "light"
     },
     "output_type": "display_data"
    }
   ],
   "source": [
    "fig, ((ax1, ax2), (ax3, ax4)) = plt.subplots(2, 2, figsize=(10,10))\n",
    "\n",
    "month_3 = data_pd.groupby(['insertion_type_3']).size().tolist()\n",
    "month_6 = data_pd.groupby(['insertion_type_6']).size().tolist()\n",
    "month_12 = data_pd.groupby(['insertion_type_12']).size().tolist()\n",
    "month_24 = data_pd.groupby(['insertion_type_24']).size().tolist()\n",
    "\n",
    "x_labels = [\"carried over\", \"interpolation\", \"match\"]\n",
    "\n",
    "ax1.bar(x_labels, month_3,align='center')\n",
    "ax1.set_title(\"month 3\")\n",
    "ax2.bar(x_labels,month_6,align='center')\n",
    "ax2.set_title(\"month 6\")\n",
    "ax3.bar(x_labels,month_12,align='center')\n",
    "ax3.set_title(\"month 12\")\n",
    "ax4.bar(x_labels,month_24,align='center')\n",
    "ax4.set_title(\"month 24\")"
   ]
  },
  {
   "cell_type": "markdown",
   "metadata": {},
   "source": [
    "### carried over time distribution"
   ]
  },
  {
   "cell_type": "code",
   "execution_count": 6,
   "metadata": {},
   "outputs": [
    {
     "data": {
      "text/plain": [
       "Text(0.5, 1.0, 'Time from carry over 6 months')"
      ]
     },
     "execution_count": 6,
     "metadata": {},
     "output_type": "execute_result"
    },
    {
     "data": {
      "image/png": "[encoded data removed]",
      "text/plain": [
       "<Figure size 1440x720 with 1 Axes>"
      ]
     },
     "metadata": {
      "needs_background": "light"
     },
     "output_type": "display_data"
    }
   ],
   "source": [
    "plt.figure(figsize=(20,10))\n",
    "month_6_carry_over = data_pd.loc[data_pd.insertion_type_6 == \"carry_over\"]\n",
    "plt.hist(month_6_carry_over.time_range_6, bins = 15)\n",
    "plt.xlabel(\"days\")\n",
    "plt.ylabel(\"number of sequences\")\n",
    "plt.title(\"Time from carry over 6 months\")"
   ]
  },
  {
   "cell_type": "code",
   "execution_count": 7,
   "metadata": {},
   "outputs": [
    {
     "data": {
      "text/plain": [
       "Text(0.5, 1.0, 'Time from carry over 12 months')"
      ]
     },
     "execution_count": 7,
     "metadata": {},
     "output_type": "execute_result"
    },
    {
     "data": {
      "image/png": "[encoded data removed]",
      "text/plain": [
       "<Figure size 1440x720 with 1 Axes>"
      ]
     },
     "metadata": {
      "needs_background": "light"
     },
     "output_type": "display_data"
    }
   ],
   "source": [
    "plt.figure(figsize=(20,10))\n",
    "month_12_carry_over = data_pd.loc[data_pd.insertion_type_12 == \"carry_over\"]\n",
    "plt.hist(month_12_carry_over.time_range_12, bins = 15)\n",
    "plt.xlabel(\"days\")\n",
    "plt.ylabel(\"number of sequences\")\n",
    "plt.title(\"Time from carry over 12 months\")\n"
   ]
  },
  {
   "cell_type": "markdown",
   "metadata": {},
   "source": [
    "### interpolation over time distribution"
   ]
  },
  {
   "cell_type": "code",
   "execution_count": 8,
   "metadata": {},
   "outputs": [
    {
     "data": {
      "text/plain": [
       "Text(0.5, 1.0, 'Time from interpolation 6 months')"
      ]
     },
     "execution_count": 8,
     "metadata": {},
     "output_type": "execute_result"
    },
    {
     "data": {
      "image/png": "[encoded data removed]",
      "text/plain": [
       "<Figure size 1440x720 with 1 Axes>"
      ]
     },
     "metadata": {
      "needs_background": "light"
     },
     "output_type": "display_data"
    }
   ],
   "source": [
    "plt.figure(figsize=(20,10))\n",
    "month_6_interpolation = data_pd.loc[data_pd.insertion_type_6 == \"interpolation\"]\n",
    "plt.hist(month_6_interpolation.time_range_6, bins = 30)\n",
    "plt.xlabel(\"days\")\n",
    "plt.ylabel(\"number of sequences\")\n",
    "plt.title(\"Time from interpolation 6 months\")"
   ]
  },
  {
   "cell_type": "code",
   "execution_count": 9,
   "metadata": {},
   "outputs": [
    {
     "data": {
      "text/plain": [
       "Text(0.5, 1.0, 'Time from interpolation 12 months')"
      ]
     },
     "execution_count": 9,
     "metadata": {},
     "output_type": "execute_result"
    },
    {
     "data": {
      "image/png": "[encoded data removed]",
      "text/plain": [
       "<Figure size 1440x720 with 1 Axes>"
      ]
     },
     "metadata": {
      "needs_background": "light"
     },
     "output_type": "display_data"
    }
   ],
   "source": [
    "plt.figure(figsize=(20,10))\n",
    "month_12_interpolation = data_pd.loc[data_pd.insertion_type_12 == \"interpolation\"]\n",
    "plt.hist(month_12_interpolation.time_range_12, bins = 30)\n",
    "plt.xlabel(\"days\")\n",
    "plt.ylabel(\"number of sequences\")\n",
    "plt.title(\"Time from interpolation 12 months\")"
   ]
  },
  {
   "cell_type": "markdown",
   "metadata": {},
   "source": [
    "#### Time until dry"
   ]
  },
  {
   "cell_type": "code",
   "execution_count": 10,
   "metadata": {},
   "outputs": [
    {
     "name": "stdout",
     "output_type": "stream",
     "text": [
      "Number of sequences starting as dry:  3\n",
      "Number of sequences dry after 3 months:  2\n",
      "Number of sequences dry after 6 months:  1\n",
      "Number of sequences dry after 12 months:  1\n",
      "Number of sequences dry after 24 months:  3\n"
     ]
    }
   ],
   "source": [
    "start_dry = data_pd.total_fluid_1 == 0\n",
    "\n",
    "print(f\"Number of sequences starting as dry: \", sum(start_dry))\n",
    "\n",
    "# exclude dry start sequences\n",
    "fluid_pd = data_pd.loc[~start_dry]\n",
    "\n",
    "print(f\"Number of sequences dry after 3 months: \", sum(fluid_pd.total_fluid_3 == 0))\n",
    "print(f\"Number of sequences dry after 6 months: \", sum(fluid_pd.total_fluid_6 == 0))\n",
    "print(f\"Number of sequences dry after 12 months: \", sum(fluid_pd.total_fluid_12 == 0))\n",
    "print(f\"Number of sequences dry after 24 months: \", sum(fluid_pd.total_fluid_24 == 0))\n",
    "\n"
   ]
  },
  {
   "cell_type": "markdown",
   "metadata": {},
   "source": [
    "#### Filter data based on time series eclusion criterias"
   ]
  },
  {
   "cell_type": "code",
   "execution_count": 11,
   "metadata": {},
   "outputs": [],
   "source": [
    "##### carry over above 2 months"
   ]
  },
  {
   "cell_type": "code",
   "execution_count": 12,
   "metadata": {},
   "outputs": [],
   "source": [
    "columns = [\"time_range_6\", \"time_range_before_6\", \"time_range_after_6\", \n",
    "           \"time_range_12\", \"time_range_before_12\", \"time_range_after_12\",\n",
    "          \"insertion_type_6\", \"insertion_type_12\"]\n",
    "\n",
    "filter_base = data_pd[columns]\n",
    "\n",
    "# 6 month bools\n",
    "interp_6 = filter_base.insertion_type_6 == \"interpolation\" \n",
    "carry_over_6 = filter_base.insertion_type_6 == \"carry_over\" \n",
    "match_6 = filter_base.insertion_type_6 == \"match\" \n",
    "\n",
    "\n",
    "interp_12 = filter_base.insertion_type_12 == \"interpolation\" \n",
    "carry_over_12 = filter_base.insertion_type_12 == \"carry_over\" \n",
    "match_12 = filter_base.insertion_type_12 == \"match\" \n",
    "\n",
    "# interpolation time filters\n",
    "interp_time_before_6 = filter_base.time_range_before_6 < 60\n",
    "interp_time_after_6 = filter_base.time_range_after_6 < 60\n",
    "\n",
    "interp_time_before_12 = filter_base.time_range_before_12 < 60\n",
    "interp_time_after_12 = filter_base.time_range_after_12 < 60\n",
    "\n",
    "# carry over time filters\n",
    "carry_over_time_after_6 = filter_base.time_range_6 < 60\n",
    "carry_over_time_after_12 = filter_base.time_range_12 < 60"
   ]
  },
  {
   "cell_type": "code",
   "execution_count": 13,
   "metadata": {},
   "outputs": [
    {
     "name": "stdout",
     "output_type": "stream",
     "text": [
      "Number of filtered sequences for 6 months are: 220\n"
     ]
    }
   ],
   "source": [
    "# interpolation 6 months\n",
    "interp_bef = np.logical_and(interp_6.values, interp_time_before_6)\n",
    "interp_aft = np.logical_and(interp_6.values, interp_time_after_6)\n",
    "\n",
    "interp_6 = np.logical_and(interp_bef, interp_aft)\n",
    "\n",
    "# carry over 6 months\n",
    "carry_over_6 = np.logical_and(carry_over_6.values, carry_over_time_after_6)\n",
    "\n",
    "insertion_6_ = np.logical_or(carry_over_6, interp_6)\n",
    "filter_6 = np.logical_or(insertion_6_, match_6)\n",
    "\n",
    "print(\"Number of filtered sequences for 6 months are:\", sum(filter_6))"
   ]
  },
  {
   "cell_type": "code",
   "execution_count": 14,
   "metadata": {
    "scrolled": true
   },
   "outputs": [
    {
     "name": "stdout",
     "output_type": "stream",
     "text": [
      "Number of filtered sequences for 12 months are: 195\n"
     ]
    }
   ],
   "source": [
    "# interpolation 12 months\n",
    "interp_bef = np.logical_and(interp_12.values, interp_time_before_12)\n",
    "interp_aft = np.logical_and(interp_12.values, interp_time_after_12)\n",
    "\n",
    "interp_12 = np.logical_and(interp_bef, interp_aft)\n",
    "\n",
    "# carry over 6 months\n",
    "carry_over_12 = np.logical_and(carry_over_12.values, carry_over_time_after_12)\n",
    "\n",
    "insertion_12_ = np.logical_or(carry_over_12, interp_12)\n",
    "filter_12 = np.logical_or(insertion_12_, match_12)\n",
    "\n",
    "print(\"Number of filtered sequences for 12 months are:\", sum(filter_12))"
   ]
  },
  {
   "cell_type": "markdown",
   "metadata": {},
   "source": [
    "#### Define VA fate groups"
   ]
  },
  {
   "cell_type": "code",
   "execution_count": 15,
   "metadata": {},
   "outputs": [],
   "source": [
    "#### Worsened v. Imporoved"
   ]
  },
  {
   "cell_type": "code",
   "execution_count": 16,
   "metadata": {},
   "outputs": [],
   "source": [
    "data_6 = data_pd.loc[filter_6]\n",
    "data_12 = data_pd.loc[filter_12]"
   ]
  },
  {
   "cell_type": "code",
   "execution_count": 17,
   "metadata": {},
   "outputs": [
    {
     "name": "stdout",
     "output_type": "stream",
     "text": [
      "six month recovery:  139\n",
      "twelwe month recovery:  93\n"
     ]
    },
    {
     "name": "stderr",
     "output_type": "stream",
     "text": [
      "/home/olle/miniconda3/envs/DeepRT/lib/python3.7/site-packages/ipykernel_launcher.py:4: SettingWithCopyWarning: \n",
      "A value is trying to be set on a copy of a slice from a DataFrame.\n",
      "Try using .loc[row_indexer,col_indexer] = value instead\n",
      "\n",
      "See the caveats in the documentation: http://pandas.pydata.org/pandas-docs/stable/user_guide/indexing.html#returning-a-view-versus-a-copy\n",
      "  after removing the cwd from sys.path.\n",
      "/home/olle/miniconda3/envs/DeepRT/lib/python3.7/site-packages/ipykernel_launcher.py:5: SettingWithCopyWarning: \n",
      "A value is trying to be set on a copy of a slice from a DataFrame.\n",
      "Try using .loc[row_indexer,col_indexer] = value instead\n",
      "\n",
      "See the caveats in the documentation: http://pandas.pydata.org/pandas-docs/stable/user_guide/indexing.html#returning-a-view-versus-a-copy\n",
      "  \"\"\"\n"
     ]
    }
   ],
   "source": [
    "va_delta_6 = data_6.cur_va_rounded_6 - data_6.cur_va_rounded_1 \n",
    "va_delta_12 = data_12.cur_va_rounded_12 - data_12.cur_va_rounded_1 \n",
    "\n",
    "data_6[\"six_month_recovery\"] = va_delta_6 <= 0\n",
    "data_12[\"twelwe_month_recovery\"] = va_delta_12 <= 0\n",
    "\n",
    "print(\"six month recovery: \", sum(data_6[\"six_month_recovery\"]))\n",
    "print(\"twelwe month recovery: \", sum(data_12[\"twelwe_month_recovery\"]))"
   ]
  },
  {
   "cell_type": "code",
   "execution_count": 18,
   "metadata": {},
   "outputs": [],
   "source": [
    "### Improved from VI to NVI"
   ]
  },
  {
   "cell_type": "code",
   "execution_count": 19,
   "metadata": {},
   "outputs": [
    {
     "name": "stdout",
     "output_type": "stream",
     "text": [
      "six month vi recovery:  18\n",
      "twelwe month vi recovery:  15\n"
     ]
    },
    {
     "name": "stderr",
     "output_type": "stream",
     "text": [
      "/home/olle/miniconda3/envs/DeepRT/lib/python3.7/site-packages/ipykernel_launcher.py:7: SettingWithCopyWarning: \n",
      "A value is trying to be set on a copy of a slice from a DataFrame.\n",
      "Try using .loc[row_indexer,col_indexer] = value instead\n",
      "\n",
      "See the caveats in the documentation: http://pandas.pydata.org/pandas-docs/stable/user_guide/indexing.html#returning-a-view-versus-a-copy\n",
      "  import sys\n",
      "/home/olle/miniconda3/envs/DeepRT/lib/python3.7/site-packages/ipykernel_launcher.py:8: SettingWithCopyWarning: \n",
      "A value is trying to be set on a copy of a slice from a DataFrame.\n",
      "Try using .loc[row_indexer,col_indexer] = value instead\n",
      "\n",
      "See the caveats in the documentation: http://pandas.pydata.org/pandas-docs/stable/user_guide/indexing.html#returning-a-view-versus-a-copy\n",
      "  \n"
     ]
    }
   ],
   "source": [
    "vi6_1 = data_6.cur_va_rounded_1 >= 0.4 \n",
    "nvi_6 = data_6.cur_va_rounded_6 < 0.4\n",
    "\n",
    "vi12_1 = data_12.cur_va_rounded_1 >= 0.4 \n",
    "nvi_12 = data_12.cur_va_rounded_12 < 0.4 \n",
    "\n",
    "data_6[\"six_month_vi_recovery\"] = np.logical_and(vi6_1.values, nvi_6.values)\n",
    "data_12[\"twelwe_month_vi_recovery\"] = np.logical_and(vi12_1.values, nvi_12.values)\n",
    "\n",
    "print(\"six month vi recovery: \", sum(data_6[\"six_month_vi_recovery\"]))\n",
    "print(\"twelwe month vi recovery: \", sum(data_12[\"twelwe_month_vi_recovery\"]))"
   ]
  },
  {
   "cell_type": "code",
   "execution_count": 20,
   "metadata": {},
   "outputs": [],
   "source": [
    "### Improved from LB to NLB"
   ]
  },
  {
   "cell_type": "code",
   "execution_count": 21,
   "metadata": {},
   "outputs": [
    {
     "name": "stdout",
     "output_type": "stream",
     "text": [
      "six month lb recoverment:  12\n",
      "twelwe month lb recoverment:  15\n"
     ]
    },
    {
     "name": "stderr",
     "output_type": "stream",
     "text": [
      "/home/olle/miniconda3/envs/DeepRT/lib/python3.7/site-packages/ipykernel_launcher.py:7: SettingWithCopyWarning: \n",
      "A value is trying to be set on a copy of a slice from a DataFrame.\n",
      "Try using .loc[row_indexer,col_indexer] = value instead\n",
      "\n",
      "See the caveats in the documentation: http://pandas.pydata.org/pandas-docs/stable/user_guide/indexing.html#returning-a-view-versus-a-copy\n",
      "  import sys\n",
      "/home/olle/miniconda3/envs/DeepRT/lib/python3.7/site-packages/ipykernel_launcher.py:8: SettingWithCopyWarning: \n",
      "A value is trying to be set on a copy of a slice from a DataFrame.\n",
      "Try using .loc[row_indexer,col_indexer] = value instead\n",
      "\n",
      "See the caveats in the documentation: http://pandas.pydata.org/pandas-docs/stable/user_guide/indexing.html#returning-a-view-versus-a-copy\n",
      "  \n"
     ]
    }
   ],
   "source": [
    "lb6_1 = data_6.cur_va_rounded_1 >= 1.0\n",
    "nlb_6 = data_6.cur_va_rounded_6 < 1.0 \n",
    "\n",
    "lb12_1 = data_12.cur_va_rounded_1 >= 1.0\n",
    "nlb_12 = data_12.cur_va_rounded_12 < 1.0 \n",
    "\n",
    "data_6[\"six_month_lb_recoverment\"] = np.logical_and(lb6_1.values, nlb_6.values)\n",
    "data_12[\"twelwe_month_lb_recoverment\"] = np.logical_and(lb12_1.values, nlb_12.values)\n",
    "\n",
    "print(\"six month lb recoverment: \", sum(data_6[\"six_month_lb_recoverment\"]))\n",
    "print(\"twelwe month lb recoverment: \", sum(data_12[\"twelwe_month_lb_recoverment\"]))\n"
   ]
  },
  {
   "cell_type": "markdown",
   "metadata": {},
   "source": [
    "### VA outcome distribution plotting"
   ]
  },
  {
   "cell_type": "code",
   "execution_count": 39,
   "metadata": {},
   "outputs": [],
   "source": [
    "import seaborn as sns\n",
    "import matplotlib.pyplot as plt\n",
    "import pandas as pd\n",
    "from sklearn import preprocessing\n",
    "sns.set_theme(style=\"whitegrid\")"
   ]
  },
  {
   "cell_type": "code",
   "execution_count": null,
   "metadata": {},
   "outputs": [],
   "source": [
    "\n",
    "\n",
    "x = df.values #returns a numpy array\n",
    "x_scaled = min_max_scaler.fit_transform(x)\n",
    "df = pd.DataFrame(x_scaled)"
   ]
  },
  {
   "cell_type": "code",
   "execution_count": 72,
   "metadata": {},
   "outputs": [
    {
     "data": {
      "text/plain": [
       "array([ True,  True,  True, ...,  True,  True,  True])"
      ]
     },
     "execution_count": 72,
     "metadata": {},
     "output_type": "execute_result"
    }
   ],
   "source": []
  },
  {
   "cell_type": "code",
   "execution_count": 68,
   "metadata": {},
   "outputs": [
    {
     "data": {
      "text/plain": [
       "array([[ True,  True,  True],\n",
       "       [ True,  True,  True],\n",
       "       [ True,  True,  True],\n",
       "       ...,\n",
       "       [ True,  True,  True],\n",
       "       [ True,  True,  True],\n",
       "       [ True,  True,  True]])"
      ]
     },
     "execution_count": 68,
     "metadata": {},
     "output_type": "execute_result"
    }
   ],
   "source": [
    "outlier = data_6_plotting.values != 1.000\n",
    "outlier"
   ]
  },
  {
   "cell_type": "code",
   "execution_count": 75,
   "metadata": {},
   "outputs": [
    {
     "name": "stderr",
     "output_type": "stream",
     "text": [
      "/home/olle/miniconda3/envs/DeepRT/lib/python3.7/site-packages/ipykernel_launcher.py:9: SettingWithCopyWarning: \n",
      "A value is trying to be set on a copy of a slice from a DataFrame.\n",
      "Try using .loc[row_indexer,col_indexer] = value instead\n",
      "\n",
      "See the caveats in the documentation: http://pandas.pydata.org/pandas-docs/stable/user_guide/indexing.html#returning-a-view-versus-a-copy\n",
      "  if __name__ == '__main__':\n",
      "/home/olle/miniconda3/envs/DeepRT/lib/python3.7/site-packages/ipykernel_launcher.py:9: SettingWithCopyWarning: \n",
      "A value is trying to be set on a copy of a slice from a DataFrame.\n",
      "Try using .loc[row_indexer,col_indexer] = value instead\n",
      "\n",
      "See the caveats in the documentation: http://pandas.pydata.org/pandas-docs/stable/user_guide/indexing.html#returning-a-view-versus-a-copy\n",
      "  if __name__ == '__main__':\n",
      "/home/olle/miniconda3/envs/DeepRT/lib/python3.7/site-packages/ipykernel_launcher.py:9: SettingWithCopyWarning: \n",
      "A value is trying to be set on a copy of a slice from a DataFrame.\n",
      "Try using .loc[row_indexer,col_indexer] = value instead\n",
      "\n",
      "See the caveats in the documentation: http://pandas.pydata.org/pandas-docs/stable/user_guide/indexing.html#returning-a-view-versus-a-copy\n",
      "  if __name__ == '__main__':\n",
      "/home/olle/miniconda3/envs/DeepRT/lib/python3.7/site-packages/ipykernel_launcher.py:9: SettingWithCopyWarning: \n",
      "A value is trying to be set on a copy of a slice from a DataFrame.\n",
      "Try using .loc[row_indexer,col_indexer] = value instead\n",
      "\n",
      "See the caveats in the documentation: http://pandas.pydata.org/pandas-docs/stable/user_guide/indexing.html#returning-a-view-versus-a-copy\n",
      "  if __name__ == '__main__':\n",
      "/home/olle/miniconda3/envs/DeepRT/lib/python3.7/site-packages/ipykernel_launcher.py:9: SettingWithCopyWarning: \n",
      "A value is trying to be set on a copy of a slice from a DataFrame.\n",
      "Try using .loc[row_indexer,col_indexer] = value instead\n",
      "\n",
      "See the caveats in the documentation: http://pandas.pydata.org/pandas-docs/stable/user_guide/indexing.html#returning-a-view-versus-a-copy\n",
      "  if __name__ == '__main__':\n",
      "/home/olle/miniconda3/envs/DeepRT/lib/python3.7/site-packages/ipykernel_launcher.py:9: SettingWithCopyWarning: \n",
      "A value is trying to be set on a copy of a slice from a DataFrame.\n",
      "Try using .loc[row_indexer,col_indexer] = value instead\n",
      "\n",
      "See the caveats in the documentation: http://pandas.pydata.org/pandas-docs/stable/user_guide/indexing.html#returning-a-view-versus-a-copy\n",
      "  if __name__ == '__main__':\n"
     ]
    },
    {
     "data": {
      "text/plain": [
       "Text(0, 0.5, 'Normalized feature distribution')"
      ]
     },
     "execution_count": 75,
     "metadata": {},
     "output_type": "execute_result"
    },
    {
     "data": {
      "image/png": "[encoded data removed]",
      "text/plain": [
       "<Figure size 1440x504 with 1 Axes>"
      ]
     },
     "metadata": {},
     "output_type": "display_data"
    }
   ],
   "source": [
    "#### six month outcome\n",
    "value_columns = [\"intra_retinal_fluid_6\", \"sub_retinal_fluid_6\", \"fibrosis_6\", \n",
    "          \"fibrovascular_ped_6\", \"rpe_6\", \"epiretinal_membrane_6\"]\n",
    "\n",
    "for column in value_columns:\n",
    "    col_values = data_6[column].values\n",
    "    min_max_scaler = preprocessing.MinMaxScaler()\n",
    "    x_scaled = min_max_scaler.fit_transform(col_values.reshape(-1, 1))\n",
    "    data_6[column + \"_scaled\"] = x_scaled\n",
    "    \n",
    "    \n",
    "value_columns_scaled = [\"intra_retinal_fluid_6_scaled\", \n",
    "                        \"sub_retinal_fluid_6_scaled\", \"fibrosis_6_scaled\", \n",
    "                        \"fibrovascular_ped_6_scaled\", \"rpe_6_scaled\", \n",
    "                        \"epiretinal_membrane_6_scaled\"]\n",
    "\n",
    "\n",
    "data_6_plotting = pd.melt(data_6, id_vars=[\"six_month_recovery\"], value_vars=value_columns_scaled)\n",
    "\n",
    "data_6_plotting = data_6_plotting.loc[data_6_plotting.value.values != 1.000]\n",
    "\n",
    "plt.figure(figsize=(20,7))\n",
    "ax = sns.boxplot(x=\"variable\", y=\"value\", hue=\"six_month_recovery\",\n",
    "                 data=data_6_plotting, linewidth=2.5)\n",
    "\n",
    "plt.xlabel(\"Feature\")\n",
    "plt.ylabel(\"Normalized feature distribution\")"
   ]
  },
  {
   "cell_type": "code",
   "execution_count": 48,
   "metadata": {},
   "outputs": [
    {
     "name": "stderr",
     "output_type": "stream",
     "text": [
      "/home/olle/miniconda3/envs/DeepRT/lib/python3.7/site-packages/ipykernel_launcher.py:9: SettingWithCopyWarning: \n",
      "A value is trying to be set on a copy of a slice from a DataFrame.\n",
      "Try using .loc[row_indexer,col_indexer] = value instead\n",
      "\n",
      "See the caveats in the documentation: http://pandas.pydata.org/pandas-docs/stable/user_guide/indexing.html#returning-a-view-versus-a-copy\n",
      "  if __name__ == '__main__':\n",
      "/home/olle/miniconda3/envs/DeepRT/lib/python3.7/site-packages/ipykernel_launcher.py:9: SettingWithCopyWarning: \n",
      "A value is trying to be set on a copy of a slice from a DataFrame.\n",
      "Try using .loc[row_indexer,col_indexer] = value instead\n",
      "\n",
      "See the caveats in the documentation: http://pandas.pydata.org/pandas-docs/stable/user_guide/indexing.html#returning-a-view-versus-a-copy\n",
      "  if __name__ == '__main__':\n",
      "/home/olle/miniconda3/envs/DeepRT/lib/python3.7/site-packages/ipykernel_launcher.py:9: SettingWithCopyWarning: \n",
      "A value is trying to be set on a copy of a slice from a DataFrame.\n",
      "Try using .loc[row_indexer,col_indexer] = value instead\n",
      "\n",
      "See the caveats in the documentation: http://pandas.pydata.org/pandas-docs/stable/user_guide/indexing.html#returning-a-view-versus-a-copy\n",
      "  if __name__ == '__main__':\n",
      "/home/olle/miniconda3/envs/DeepRT/lib/python3.7/site-packages/ipykernel_launcher.py:9: SettingWithCopyWarning: \n",
      "A value is trying to be set on a copy of a slice from a DataFrame.\n",
      "Try using .loc[row_indexer,col_indexer] = value instead\n",
      "\n",
      "See the caveats in the documentation: http://pandas.pydata.org/pandas-docs/stable/user_guide/indexing.html#returning-a-view-versus-a-copy\n",
      "  if __name__ == '__main__':\n",
      "/home/olle/miniconda3/envs/DeepRT/lib/python3.7/site-packages/ipykernel_launcher.py:9: SettingWithCopyWarning: \n",
      "A value is trying to be set on a copy of a slice from a DataFrame.\n",
      "Try using .loc[row_indexer,col_indexer] = value instead\n",
      "\n",
      "See the caveats in the documentation: http://pandas.pydata.org/pandas-docs/stable/user_guide/indexing.html#returning-a-view-versus-a-copy\n",
      "  if __name__ == '__main__':\n",
      "/home/olle/miniconda3/envs/DeepRT/lib/python3.7/site-packages/ipykernel_launcher.py:9: SettingWithCopyWarning: \n",
      "A value is trying to be set on a copy of a slice from a DataFrame.\n",
      "Try using .loc[row_indexer,col_indexer] = value instead\n",
      "\n",
      "See the caveats in the documentation: http://pandas.pydata.org/pandas-docs/stable/user_guide/indexing.html#returning-a-view-versus-a-copy\n",
      "  if __name__ == '__main__':\n"
     ]
    },
    {
     "data": {
      "image/png": "[encoded data removed]",
      "text/plain": [
       "<Figure size 1440x504 with 1 Axes>"
      ]
     },
     "metadata": {},
     "output_type": "display_data"
    }
   ],
   "source": [
    "#### 12 month outcome\n",
    "value_columns = [\"intra_retinal_fluid_12\", \"sub_retinal_fluid_12\", \"fibrosis_12\", \n",
    "          \"fibrovascular_ped_12\", \"rpe_12\", \"epiretinal_membrane_12\"]\n",
    "\n",
    "for column in value_columns:\n",
    "    col_values = data_12[column].values\n",
    "    min_max_scaler = preprocessing.MinMaxScaler()\n",
    "    x_scaled = min_max_scaler.fit_transform(col_values.reshape(-1, 1))\n",
    "    data_12[column + \"_scaled\"] = x_scaled\n",
    "    \n",
    "    \n",
    "value_columns_scaled = [\"intra_retinal_fluid_12_scaled\", \n",
    "                        \"sub_retinal_fluid_12_scaled\", \"fibrosis_12_scaled\", \n",
    "                        \"fibrovascular_ped_12_scaled\", \"rpe_12_scaled\", \n",
    "                        \"epiretinal_membrane_12_scaled\"]\n",
    "\n",
    "data_12_plotting = pd.melt(data_12, id_vars=[\"twelwe_month_recovery\"], value_vars=value_columns_scaled)\n",
    "\n",
    "plt.figure(figsize=(20,7))\n",
    "ax = sns.boxplot(x=\"variable\", y=\"value\", hue=\"twelwe_month_recovery\",\n",
    "                 data=data_12_plotting, linewidth=2.5)"
   ]
  },
  {
   "cell_type": "code",
   "execution_count": 28,
   "metadata": {},
   "outputs": [
    {
     "data": {
      "text/html": [
       "<div>\n",
       "<style scoped>\n",
       "    .dataframe tbody tr th:only-of-type {\n",
       "        vertical-align: middle;\n",
       "    }\n",
       "\n",
       "    .dataframe tbody tr th {\n",
       "        vertical-align: top;\n",
       "    }\n",
       "\n",
       "    .dataframe thead th {\n",
       "        text-align: right;\n",
       "    }\n",
       "</style>\n",
       "<table border=\"1\" class=\"dataframe\">\n",
       "  <thead>\n",
       "    <tr style=\"text-align: right;\">\n",
       "      <th></th>\n",
       "      <th>six_month_recovery</th>\n",
       "      <th>variable</th>\n",
       "      <th>value</th>\n",
       "    </tr>\n",
       "  </thead>\n",
       "  <tbody>\n",
       "    <tr>\n",
       "      <th>0</th>\n",
       "      <td>False</td>\n",
       "      <td>intra_retinal_fluid_6</td>\n",
       "      <td>0.002220</td>\n",
       "    </tr>\n",
       "    <tr>\n",
       "      <th>1</th>\n",
       "      <td>False</td>\n",
       "      <td>intra_retinal_fluid_6</td>\n",
       "      <td>0.000000</td>\n",
       "    </tr>\n",
       "    <tr>\n",
       "      <th>2</th>\n",
       "      <td>True</td>\n",
       "      <td>intra_retinal_fluid_6</td>\n",
       "      <td>0.017884</td>\n",
       "    </tr>\n",
       "    <tr>\n",
       "      <th>3</th>\n",
       "      <td>True</td>\n",
       "      <td>intra_retinal_fluid_6</td>\n",
       "      <td>0.010911</td>\n",
       "    </tr>\n",
       "    <tr>\n",
       "      <th>4</th>\n",
       "      <td>False</td>\n",
       "      <td>intra_retinal_fluid_6</td>\n",
       "      <td>0.009699</td>\n",
       "    </tr>\n",
       "    <tr>\n",
       "      <th>...</th>\n",
       "      <td>...</td>\n",
       "      <td>...</td>\n",
       "      <td>...</td>\n",
       "    </tr>\n",
       "    <tr>\n",
       "      <th>1315</th>\n",
       "      <td>True</td>\n",
       "      <td>epiretinal_membrane_6</td>\n",
       "      <td>0.022617</td>\n",
       "    </tr>\n",
       "    <tr>\n",
       "      <th>1316</th>\n",
       "      <td>True</td>\n",
       "      <td>epiretinal_membrane_6</td>\n",
       "      <td>0.002523</td>\n",
       "    </tr>\n",
       "    <tr>\n",
       "      <th>1317</th>\n",
       "      <td>False</td>\n",
       "      <td>epiretinal_membrane_6</td>\n",
       "      <td>0.010130</td>\n",
       "    </tr>\n",
       "    <tr>\n",
       "      <th>1318</th>\n",
       "      <td>True</td>\n",
       "      <td>epiretinal_membrane_6</td>\n",
       "      <td>0.002603</td>\n",
       "    </tr>\n",
       "    <tr>\n",
       "      <th>1319</th>\n",
       "      <td>True</td>\n",
       "      <td>epiretinal_membrane_6</td>\n",
       "      <td>0.004833</td>\n",
       "    </tr>\n",
       "  </tbody>\n",
       "</table>\n",
       "<p>1320 rows × 3 columns</p>\n",
       "</div>"
      ],
      "text/plain": [
       "      six_month_recovery               variable     value\n",
       "0                  False  intra_retinal_fluid_6  0.002220\n",
       "1                  False  intra_retinal_fluid_6  0.000000\n",
       "2                   True  intra_retinal_fluid_6  0.017884\n",
       "3                   True  intra_retinal_fluid_6  0.010911\n",
       "4                  False  intra_retinal_fluid_6  0.009699\n",
       "...                  ...                    ...       ...\n",
       "1315                True  epiretinal_membrane_6  0.022617\n",
       "1316                True  epiretinal_membrane_6  0.002523\n",
       "1317               False  epiretinal_membrane_6  0.010130\n",
       "1318                True  epiretinal_membrane_6  0.002603\n",
       "1319                True  epiretinal_membrane_6  0.004833\n",
       "\n",
       "[1320 rows x 3 columns]"
      ]
     },
     "execution_count": 28,
     "metadata": {},
     "output_type": "execute_result"
    }
   ],
   "source": [
    "data_6_plotting"
   ]
  }
 ],
 "metadata": {
  "kernelspec": {
   "display_name": "Python [conda env:DeepRT] *",
   "language": "python",
   "name": "conda-env-DeepRT-py"
  },
  "language_info": {
   "codemirror_mode": {
    "name": "ipython",
    "version": 3
   },
   "file_extension": ".py",
   "mimetype": "text/x-python",
   "name": "python",
   "nbconvert_exporter": "python",
   "pygments_lexer": "ipython3",
   "version": "3.7.6"
  }
 },
 "nbformat": 4,
 "nbformat_minor": 2
}
