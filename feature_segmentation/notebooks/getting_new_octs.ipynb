{
 "cells": [
  {
   "cell_type": "code",
   "execution_count": 126,
   "metadata": {},
   "outputs": [],
   "source": [
    "import os \n",
    "import numpy as np\n",
    "import glob\n",
    "import pandas as pd"
   ]
  },
  {
   "cell_type": "code",
   "execution_count": 127,
   "metadata": {},
   "outputs": [],
   "source": [
    "#set path \n",
    "pd_path = \"/home/olle/PycharmProjects/clinical_feature_segmentation/oct_feature_log.csv\"\n",
    "\n",
    "#read csv\n",
    "oct_pd = pd.read_csv(pd_path, index_col=0)\n",
    "\n",
    "#create patient id columns\n",
    "oct_pd[\"pat_id\"] = oct_pd.img.str.split(\"/\",expand=True)[5].str.split(\"_\",expand=True)[0]"
   ]
  },
  {
   "cell_type": "code",
   "execution_count": null,
   "metadata": {},
   "outputs": [],
   "source": [
    "### feature 1 - epiratinal membrane -50 epiretinal membrance OCT's"
   ]
  },
  {
   "cell_type": "code",
   "execution_count": 128,
   "metadata": {},
   "outputs": [],
   "source": [
    "epi_examples = oct_pd[oct_pd[\"1\"]==1].\\\n",
    "groupby('pat_id',as_index=False).apply(lambda df: df.sample(1)).iloc[0:50]#[[\"img\"]]"
   ]
  },
  {
   "cell_type": "code",
   "execution_count": null,
   "metadata": {},
   "outputs": [],
   "source": [
    "### feature 3 - intra retinal fluid - 100  OCT's"
   ]
  },
  {
   "cell_type": "code",
   "execution_count": 129,
   "metadata": {},
   "outputs": [],
   "source": [
    "intr_fluid_ = oct_pd[oct_pd[\"3\"]==1].\\\n",
    "groupby('pat_id',as_index=False).apply(lambda df: df.sample(1)).iloc[0:100]#[[\"img\"]]"
   ]
  },
  {
   "cell_type": "code",
   "execution_count": null,
   "metadata": {},
   "outputs": [],
   "source": [
    "### feature 4 - sub retinal fluid"
   ]
  },
  {
   "cell_type": "code",
   "execution_count": 138,
   "metadata": {},
   "outputs": [],
   "source": [
    "subr_fluid_ = oct_pd[oct_pd[\"4\"]==1].\\\n",
    "groupby('pat_id',as_index=False).apply(lambda df: df.sample(1)).iloc[0:400]#[[\"img\"]]"
   ]
  },
  {
   "cell_type": "code",
   "execution_count": null,
   "metadata": {},
   "outputs": [],
   "source": [
    "### feature 5 - subretinal hyper reflective material"
   ]
  },
  {
   "cell_type": "code",
   "execution_count": 143,
   "metadata": {},
   "outputs": [],
   "source": [
    "subhrm_ = oct_pd[oct_pd[\"5\"]==1].\\\n",
    "groupby('pat_id',as_index=False).apply(lambda df: df.sample(1)).iloc[0:400]#[[\"img\"]]"
   ]
  },
  {
   "cell_type": "code",
   "execution_count": null,
   "metadata": {},
   "outputs": [],
   "source": [
    "### feature 6 - RPE"
   ]
  },
  {
   "cell_type": "code",
   "execution_count": 153,
   "metadata": {},
   "outputs": [
    {
     "data": {
      "text/plain": [
       "(400, 13)"
      ]
     },
     "execution_count": 153,
     "metadata": {},
     "output_type": "execute_result"
    }
   ],
   "source": [
    "rpe_ = oct_pd[oct_pd[\"6\"]==1].\\\n",
    "groupby('pat_id',as_index=False).apply(lambda df: df.sample(1)).iloc[0:400]#[[\"img\"]]\n",
    "\n",
    "rpe_.shape"
   ]
  },
  {
   "cell_type": "code",
   "execution_count": null,
   "metadata": {},
   "outputs": [],
   "source": [
    "### feature 7 - fibrovascular PDE"
   ]
  },
  {
   "cell_type": "code",
   "execution_count": 161,
   "metadata": {},
   "outputs": [
    {
     "data": {
      "text/plain": [
       "(82, 13)"
      ]
     },
     "execution_count": 161,
     "metadata": {},
     "output_type": "execute_result"
    }
   ],
   "source": [
    "fvPDE_ = oct_pd[oct_pd[\"7\"]==1].\\\n",
    "groupby('pat_id',as_index=False).apply(lambda df: df.sample(1)).iloc[0:100]#[[\"img\"]]\n",
    "\n",
    "fvPDE_.shape"
   ]
  },
  {
   "cell_type": "code",
   "execution_count": null,
   "metadata": {},
   "outputs": [],
   "source": [
    "### feature 8 - geogrphic atrophy"
   ]
  },
  {
   "cell_type": "code",
   "execution_count": 174,
   "metadata": {},
   "outputs": [
    {
     "data": {
      "text/plain": [
       "(135, 13)"
      ]
     },
     "execution_count": 174,
     "metadata": {},
     "output_type": "execute_result"
    }
   ],
   "source": [
    "geo_a_ = oct_pd[oct_pd[\"8\"]==1].\\\n",
    "groupby('pat_id',as_index=False).apply(lambda df: df.sample(1)).iloc[0:500]#[[\"img\"]]\n",
    "\n",
    "geo_a_.shape"
   ]
  },
  {
   "cell_type": "code",
   "execution_count": null,
   "metadata": {},
   "outputs": [],
   "source": [
    "### feature 9 - posterior hylaoid membrane"
   ]
  },
  {
   "cell_type": "code",
   "execution_count": 204,
   "metadata": {},
   "outputs": [
    {
     "data": {
      "text/plain": [
       "(50, 13)"
      ]
     },
     "execution_count": 204,
     "metadata": {},
     "output_type": "execute_result"
    }
   ],
   "source": [
    "d_ped_ = oct_pd[oct_pd[\"9\"]==1].\\\n",
    "groupby('pat_id',as_index=False).apply(lambda df: df.sample(1)).iloc[0:500]#[[\"img\"]]\n",
    "\n",
    "d_ped_.shape"
   ]
  },
  {
   "cell_type": "code",
   "execution_count": null,
   "metadata": {},
   "outputs": [],
   "source": [
    "### join tables excluding re-occuring patients"
   ]
  },
  {
   "cell_type": "code",
   "execution_count": 206,
   "metadata": {},
   "outputs": [],
   "source": [
    "main_ = epi_examples[[\"img\",\"pat_id\"]]\n",
    "main_.reset_index(drop=True, inplace=True)\n",
    "\n",
    "#feature 3\n",
    "exclusion_irf = main_.merge(intr_fluid_,\n",
    "         left_on=\"pat_id\",right_on=\"pat_id\",\n",
    "         how=\"outer\", indicator=True)[[\"img_y\",\"pat_id\",\"_merge\"]]\n",
    "\n",
    "main_irf = exclusion_irf[exclusion_irf._merge==\"right_only\"][[\"img_y\",\n",
    "                                                              \"pat_id\"]].rename(columns={\"img_y\":\"img\"})\n",
    "\n",
    "main_ = pd.concat([main_,main_irf])\n",
    "\n",
    "#feature 4\n",
    "exclusion_srf = main_.merge(subr_fluid_,\n",
    "         left_on=\"pat_id\",right_on=\"pat_id\",\n",
    "         how=\"outer\", indicator=True)[[\"img_y\",\"pat_id\",\"_merge\"]]\n",
    "\n",
    "main_srf = exclusion_srf[exclusion_srf._merge==\"right_only\"][[\"img_y\",\n",
    "                                                              \"pat_id\"]].rename(columns={\"img_y\":\"img\"})\n",
    "\n",
    "main_ = pd.concat([main_,main_srf])\n",
    "\n",
    "#feature 5\n",
    "exclusion_srhrm = main_.merge(subhrm_,\n",
    "         left_on=\"pat_id\",right_on=\"pat_id\",\n",
    "         how=\"outer\", indicator=True)[[\"img_y\",\"pat_id\",\"_merge\"]]\n",
    "\n",
    "main_srhrm = exclusion_srhrm[exclusion_srhrm._merge==\"right_only\"][[\"img_y\",\n",
    "                                                              \"pat_id\"]].rename(columns={\"img_y\":\"img\"})\n",
    "\n",
    "main_ = pd.concat([main_,main_srhrm])\n",
    "\n",
    "#feature 6\n",
    "exclusion_rpe = main_.merge(rpe_,\n",
    "         left_on=\"pat_id\",right_on=\"pat_id\",\n",
    "         how=\"outer\", indicator=True)[[\"img_y\",\"pat_id\",\"_merge\"]]\n",
    "\n",
    "main_rpe = exclusion_rpe[exclusion_rpe._merge==\"right_only\"][[\"img_y\",\n",
    "                                                              \"pat_id\"]].rename(columns={\"img_y\":\"img\"})\n",
    "\n",
    "main_ = pd.concat([main_,main_rpe])\n",
    "\n",
    "#feature 7 -  all patients allready present\n",
    "exclusion_fvPDE = main_.merge(fvPDE_,\n",
    "         left_on=\"pat_id\",right_on=\"pat_id\",\n",
    "         how=\"outer\", indicator=True)[[\"img_y\",\"pat_id\",\"_merge\"]]\n",
    "\n",
    "#here setting \"both\" as otherwise all records get excluded\n",
    "main_fvPDE = exclusion_fvPDE[exclusion_fvPDE._merge==\"both\"][[\"img_y\",\n",
    "                                                              \"pat_id\"]].rename(columns={\"img_y\":\"img\"})\n",
    "\n",
    "main_ = pd.concat([main_,main_fvPDE])\n",
    "\n",
    "#feature 8 -  all patients allready present\n",
    "exclusion_geo_a = main_.merge(geo_a_,\n",
    "         left_on=\"pat_id\",right_on=\"pat_id\",\n",
    "         how=\"outer\", indicator=True)[[\"img_y\",\"pat_id\",\"_merge\"]]\n",
    "\n",
    "#here setting \"both\" as otherwise all records get excluded\n",
    "main_geo_a = exclusion_geo_a[exclusion_geo_a._merge==\"both\"][[\"img_y\",\n",
    "                                                              \"pat_id\"]].rename(columns={\"img_y\":\"img\"})[0:100]\n",
    "\n",
    "\n",
    "#feature 9 -  all patients allready present\n",
    "exclusion_d_ped_ = main_.merge(d_ped_,\n",
    "         left_on=\"pat_id\",right_on=\"pat_id\",\n",
    "         how=\"outer\", indicator=True)[[\"img_y\",\"pat_id\",\"_merge\"]]\n",
    "\n",
    "#here setting \"both\" as otherwise all records get excluded\n",
    "main_d_ped_ = exclusion_d_ped_[exclusion_d_ped_._merge==\"both\"][[\"img_y\",\n",
    "                                                              \"pat_id\"]].rename(columns={\"img_y\":\"img\"})[0:100]\n",
    "\n",
    "\n",
    "\n",
    "main_ = pd.concat([main_,main_d_ped_])\n"
   ]
  },
  {
   "cell_type": "markdown",
   "metadata": {},
   "source": [
    "### second iteration of OCT's for annotation"
   ]
  },
  {
   "cell_type": "code",
   "execution_count": 213,
   "metadata": {},
   "outputs": [
    {
     "name": "stdout",
     "output_type": "stream",
     "text": [
      "number of records: 529\n"
     ]
    }
   ],
   "source": [
    "main_unique = main_.drop_duplicates()\n",
    "\n",
    "print(\"number of records:\",main_unique.shape[0])"
   ]
  },
  {
   "cell_type": "code",
   "execution_count": 215,
   "metadata": {},
   "outputs": [],
   "source": [
    "main_unique.to_csv(\"oct_second_iteration.csv\")"
   ]
  }
 ],
 "metadata": {
  "kernelspec": {
   "display_name": "Python [conda env:root] *",
   "language": "python",
   "name": "conda-root-py"
  },
  "language_info": {
   "codemirror_mode": {
    "name": "ipython",
    "version": 3
   },
   "file_extension": ".py",
   "mimetype": "text/x-python",
   "name": "python",
   "nbconvert_exporter": "python",
   "pygments_lexer": "ipython3",
   "version": "3.7.3"
  }
 },
 "nbformat": 4,
 "nbformat_minor": 2
}
