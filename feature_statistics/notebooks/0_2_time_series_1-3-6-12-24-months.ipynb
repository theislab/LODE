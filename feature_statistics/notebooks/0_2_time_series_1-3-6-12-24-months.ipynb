{
 "cells": [
  {
   "cell_type": "code",
   "execution_count": 3,
   "metadata": {},
   "outputs": [],
   "source": [
    "import os\n",
    "import pandas as pd\n",
    "import numpy as np\n",
    "import matplotlib.pyplot as plt\n",
    "from pydicom import read_file\n",
    "import scanpy as sc\n",
    "import sys\n",
    "\n",
    "PROJ_DIR = \"/home/icb/olle.holmberg/projects/LODE\"\n",
    "\n",
    "sys.path.insert(0, os.path.join(PROJ_DIR, 'feature_segmentation/utils'))\n",
    "\n",
    "import plotting\n",
    "plt.style.use('seaborn')\n",
    "\n",
    "WORK_SPACE = \"/storage/groups/ml01/workspace/olle.holmberg/LODE/feature_segmentation\"\n",
    "DATA_DIR = \"/storage/groups/ml01/datasets/raw/2018_LMUAugenklinik_niklas.koehler\"\n",
    "\n",
    "data_file = os.path.join(WORK_SPACE, \"sequence_data/longitudinal_properties_naive.csv\")\n",
    "data_pd = pd.read_csv(data_file)\n",
    "\n",
    "#### add patient id and lateraliy\n",
    "\n",
    "data_pd[\"patient_id\"] = data_pd.sequence.str.split(\"_\", expand=True)[0]\n",
    "data_pd[\"laterality\"] = data_pd.sequence.str.split(\"_\", expand=True)[1]"
   ]
  },
  {
   "cell_type": "code",
   "execution_count": 4,
   "metadata": {},
   "outputs": [],
   "source": [
    "def heatmap(data, row_labels, col_labels, ax=None,\n",
    "            cbar_kw={}, cbarlabel=\"\", **kwargs):\n",
    "    \"\"\"\n",
    "    Create a heatmap from a numpy array and two lists of labels.\n",
    "\n",
    "    Parameters\n",
    "    ----------\n",
    "    data\n",
    "        A 2D numpy array of shape (N, M).\n",
    "    row_labels\n",
    "        A list or array of length N with the labels for the rows.\n",
    "    col_labels\n",
    "        A list or array of length M with the labels for the columns.\n",
    "    ax\n",
    "        A `matplotlib.axes.Axes` instance to which the heatmap is plotted.  If\n",
    "        not provided, use current axes or create a new one.  Optional.\n",
    "    cbar_kw\n",
    "        A dictionary with arguments to `matplotlib.Figure.colorbar`.  Optional.\n",
    "    cbarlabel\n",
    "        The label for the colorbar.  Optional.\n",
    "    **kwargs\n",
    "        All other arguments are forwarded to `imshow`.\n",
    "    \"\"\"\n",
    "\n",
    "    if not ax:\n",
    "        ax = plt.gca()\n",
    "\n",
    "    # Plot the heatmap\n",
    "    im = ax.imshow(data, **kwargs)\n",
    "\n",
    "    # Create colorbar\n",
    "    cbar = ax.figure.colorbar(im, ax=ax, **cbar_kw)\n",
    "    cbar.ax.set_ylabel(cbarlabel, rotation=-90, va=\"bottom\")\n",
    "\n",
    "    # We want to show all ticks...\n",
    "    ax.set_xticks(np.arange(data.shape[1]))\n",
    "    ax.set_yticks(np.arange(data.shape[0]))\n",
    "    # ... and label them with the respective list entries.\n",
    "    ax.set_xticklabels(col_labels)\n",
    "    ax.set_yticklabels(row_labels)\n",
    "\n",
    "    # Let the horizontal axes labeling appear on top.\n",
    "    ax.tick_params(top=True, bottom=False,\n",
    "                   labeltop=True, labelbottom=False)\n",
    "\n",
    "    # Rotate the tick labels and set their alignment.\n",
    "    plt.setp(ax.get_xticklabels(), rotation=-30, ha=\"right\",\n",
    "             rotation_mode=\"anchor\")\n",
    "\n",
    "    # Turn spines off and create white grid.\n",
    "    for edge, spine in ax.spines.items():\n",
    "        spine.set_visible(False)\n",
    "\n",
    "    ax.set_xticks(np.arange(data.shape[1]+1)-.5, minor=True)\n",
    "    ax.set_yticks(np.arange(data.shape[0]+1)-.5, minor=True)\n",
    "    ax.grid(which=\"minor\", color=\"w\", linestyle='-', linewidth=3)\n",
    "    ax.tick_params(which=\"minor\", bottom=False, left=False)\n",
    "\n",
    "    return im, cbar\n",
    "\n",
    "\n",
    "def annotate_heatmap(im, data=None, valfmt=\"{x:.2f}\",\n",
    "                     textcolors=[\"black\", \"white\"],\n",
    "                     threshold=None, **textkw):\n",
    "    \"\"\"\n",
    "    A function to annotate a heatmap.\n",
    "\n",
    "    Parameters\n",
    "    ----------\n",
    "    im\n",
    "        The AxesImage to be labeled.\n",
    "    data\n",
    "        Data used to annotate.  If None, the image's data is used.  Optional.\n",
    "    valfmt\n",
    "        The format of the annotations inside the heatmap.  This should either\n",
    "        use the string format method, e.g. \"$ {x:.2f}\", or be a\n",
    "        `matplotlib.ticker.Formatter`.  Optional.\n",
    "    textcolors\n",
    "        A list or array of two color specifications.  The first is used for\n",
    "        values below a threshold, the second for those above.  Optional.\n",
    "    threshold\n",
    "        Value in data units according to which the colors from textcolors are\n",
    "        applied.  If None (the default) uses the middle of the colormap as\n",
    "        separation.  Optional.\n",
    "    **kwargs\n",
    "        All other arguments are forwarded to each call to `text` used to create\n",
    "        the text labels.\n",
    "    \"\"\"\n",
    "\n",
    "    if not isinstance(data, (list, np.ndarray)):\n",
    "        data = im.get_array()\n",
    "\n",
    "    # Normalize the threshold to the images color range.\n",
    "    if threshold is not None:\n",
    "        threshold = im.norm(threshold)\n",
    "    else:\n",
    "        threshold = im.norm(data.max())/2.\n",
    "\n",
    "    # Set default alignment to center, but allow it to be\n",
    "    # overwritten by textkw.\n",
    "    kw = dict(horizontalalignment=\"center\",\n",
    "              verticalalignment=\"center\")\n",
    "    kw.update(textkw)\n",
    "\n",
    "    # Get the formatter in case a string is supplied\n",
    "    if isinstance(valfmt, str):\n",
    "        valfmt = matplotlib.ticker.StrMethodFormatter(valfmt)\n",
    "\n",
    "    # Loop over the data and create a `Text` for each \"pixel\".\n",
    "    # Change the text's color depending on the data.\n",
    "    texts = []\n",
    "    for i in range(data.shape[0]):\n",
    "        for j in range(data.shape[1]):\n",
    "            kw.update(color=textcolors[int(im.norm(data[i, j]) > threshold)])\n",
    "            text = im.axes.text(j, i, valfmt(data[i, j], None), **kw)\n",
    "            texts.append(text)\n",
    "\n",
    "    return texts"
   ]
  },
  {
   "cell_type": "code",
   "execution_count": 5,
   "metadata": {
    "scrolled": false
   },
   "outputs": [
    {
     "data": {
      "text/html": [
       "<div>\n",
       "<style scoped>\n",
       "    .dataframe tbody tr th:only-of-type {\n",
       "        vertical-align: middle;\n",
       "    }\n",
       "\n",
       "    .dataframe tbody tr th {\n",
       "        vertical-align: top;\n",
       "    }\n",
       "\n",
       "    .dataframe thead th {\n",
       "        text-align: right;\n",
       "    }\n",
       "</style>\n",
       "<table border=\"1\" class=\"dataframe\">\n",
       "  <thead>\n",
       "    <tr style=\"text-align: right;\">\n",
       "      <th></th>\n",
       "      <th>Unnamed: 0</th>\n",
       "      <th>sequence</th>\n",
       "      <th>study_date_1</th>\n",
       "      <th>total_fluid_1</th>\n",
       "      <th>time_range_1</th>\n",
       "      <th>time_range_before_1</th>\n",
       "      <th>time_range_after_1</th>\n",
       "      <th>insertion_type_1</th>\n",
       "      <th>cur_va_rounded_1</th>\n",
       "      <th>next_va_1</th>\n",
       "      <th>...</th>\n",
       "      <th>T2_13_24</th>\n",
       "      <th>S1_13_24</th>\n",
       "      <th>S2_13_24</th>\n",
       "      <th>N1_13_24</th>\n",
       "      <th>N2_13_24</th>\n",
       "      <th>C0_13_24</th>\n",
       "      <th>I1_13_24</th>\n",
       "      <th>I2_13_24</th>\n",
       "      <th>patient_id</th>\n",
       "      <th>laterality</th>\n",
       "    </tr>\n",
       "  </thead>\n",
       "  <tbody>\n",
       "    <tr>\n",
       "      <th>0</th>\n",
       "      <td>0</td>\n",
       "      <td>18_R</td>\n",
       "      <td>2017-09-26</td>\n",
       "      <td>569.0</td>\n",
       "      <td>NaN</td>\n",
       "      <td>NaN</td>\n",
       "      <td>NaN</td>\n",
       "      <td>NaN</td>\n",
       "      <td>0.40</td>\n",
       "      <td>0.39794</td>\n",
       "      <td>...</td>\n",
       "      <td>0.0</td>\n",
       "      <td>0.00000</td>\n",
       "      <td>0.0</td>\n",
       "      <td>0.000000</td>\n",
       "      <td>0.0</td>\n",
       "      <td>0.000000</td>\n",
       "      <td>0.0</td>\n",
       "      <td>0.0</td>\n",
       "      <td>18</td>\n",
       "      <td>R</td>\n",
       "    </tr>\n",
       "    <tr>\n",
       "      <th>1</th>\n",
       "      <td>1</td>\n",
       "      <td>502_R</td>\n",
       "      <td>2016-04-04</td>\n",
       "      <td>0.0</td>\n",
       "      <td>NaN</td>\n",
       "      <td>NaN</td>\n",
       "      <td>NaN</td>\n",
       "      <td>NaN</td>\n",
       "      <td>0.10</td>\n",
       "      <td>0.49485</td>\n",
       "      <td>...</td>\n",
       "      <td>0.0</td>\n",
       "      <td>2.47619</td>\n",
       "      <td>0.0</td>\n",
       "      <td>21.619048</td>\n",
       "      <td>0.0</td>\n",
       "      <td>46.142857</td>\n",
       "      <td>0.0</td>\n",
       "      <td>0.0</td>\n",
       "      <td>502</td>\n",
       "      <td>R</td>\n",
       "    </tr>\n",
       "    <tr>\n",
       "      <th>2</th>\n",
       "      <td>2</td>\n",
       "      <td>709_L</td>\n",
       "      <td>2016-08-08</td>\n",
       "      <td>20367.0</td>\n",
       "      <td>NaN</td>\n",
       "      <td>NaN</td>\n",
       "      <td>NaN</td>\n",
       "      <td>NaN</td>\n",
       "      <td>0.30</td>\n",
       "      <td>0.39794</td>\n",
       "      <td>...</td>\n",
       "      <td>0.0</td>\n",
       "      <td>4206.00000</td>\n",
       "      <td>0.0</td>\n",
       "      <td>14946.000000</td>\n",
       "      <td>396.0</td>\n",
       "      <td>13862.000000</td>\n",
       "      <td>0.0</td>\n",
       "      <td>0.0</td>\n",
       "      <td>709</td>\n",
       "      <td>L</td>\n",
       "    </tr>\n",
       "    <tr>\n",
       "      <th>3</th>\n",
       "      <td>3</td>\n",
       "      <td>709_R</td>\n",
       "      <td>2015-11-25</td>\n",
       "      <td>2233.0</td>\n",
       "      <td>NaN</td>\n",
       "      <td>NaN</td>\n",
       "      <td>NaN</td>\n",
       "      <td>NaN</td>\n",
       "      <td>0.89</td>\n",
       "      <td>1.00000</td>\n",
       "      <td>...</td>\n",
       "      <td>56169.0</td>\n",
       "      <td>0.00000</td>\n",
       "      <td>0.0</td>\n",
       "      <td>0.000000</td>\n",
       "      <td>2.0</td>\n",
       "      <td>0.000000</td>\n",
       "      <td>9357.0</td>\n",
       "      <td>31865.0</td>\n",
       "      <td>709</td>\n",
       "      <td>R</td>\n",
       "    </tr>\n",
       "    <tr>\n",
       "      <th>4</th>\n",
       "      <td>4</td>\n",
       "      <td>1263_L</td>\n",
       "      <td>2015-07-28</td>\n",
       "      <td>3198.0</td>\n",
       "      <td>NaN</td>\n",
       "      <td>NaN</td>\n",
       "      <td>NaN</td>\n",
       "      <td>NaN</td>\n",
       "      <td>0.40</td>\n",
       "      <td>0.39794</td>\n",
       "      <td>...</td>\n",
       "      <td>0.0</td>\n",
       "      <td>3.00000</td>\n",
       "      <td>0.0</td>\n",
       "      <td>0.000000</td>\n",
       "      <td>0.0</td>\n",
       "      <td>0.000000</td>\n",
       "      <td>0.0</td>\n",
       "      <td>0.0</td>\n",
       "      <td>1263</td>\n",
       "      <td>L</td>\n",
       "    </tr>\n",
       "  </tbody>\n",
       "</table>\n",
       "<p>5 rows × 544 columns</p>\n",
       "</div>"
      ],
      "text/plain": [
       "   Unnamed: 0 sequence study_date_1  total_fluid_1  time_range_1  \\\n",
       "0           0     18_R   2017-09-26          569.0           NaN   \n",
       "1           1    502_R   2016-04-04            0.0           NaN   \n",
       "2           2    709_L   2016-08-08        20367.0           NaN   \n",
       "3           3    709_R   2015-11-25         2233.0           NaN   \n",
       "4           4   1263_L   2015-07-28         3198.0           NaN   \n",
       "\n",
       "   time_range_before_1  time_range_after_1  insertion_type_1  \\\n",
       "0                  NaN                 NaN               NaN   \n",
       "1                  NaN                 NaN               NaN   \n",
       "2                  NaN                 NaN               NaN   \n",
       "3                  NaN                 NaN               NaN   \n",
       "4                  NaN                 NaN               NaN   \n",
       "\n",
       "   cur_va_rounded_1  next_va_1  ...  T2_13_24    S1_13_24  S2_13_24  \\\n",
       "0              0.40    0.39794  ...       0.0     0.00000       0.0   \n",
       "1              0.10    0.49485  ...       0.0     2.47619       0.0   \n",
       "2              0.30    0.39794  ...       0.0  4206.00000       0.0   \n",
       "3              0.89    1.00000  ...   56169.0     0.00000       0.0   \n",
       "4              0.40    0.39794  ...       0.0     3.00000       0.0   \n",
       "\n",
       "       N1_13_24  N2_13_24      C0_13_24  I1_13_24  I2_13_24  patient_id  \\\n",
       "0      0.000000       0.0      0.000000       0.0       0.0          18   \n",
       "1     21.619048       0.0     46.142857       0.0       0.0         502   \n",
       "2  14946.000000     396.0  13862.000000       0.0       0.0         709   \n",
       "3      0.000000       2.0      0.000000    9357.0   31865.0         709   \n",
       "4      0.000000       0.0      0.000000       0.0       0.0        1263   \n",
       "\n",
       "   laterality  \n",
       "0           R  \n",
       "1           R  \n",
       "2           L  \n",
       "3           R  \n",
       "4           L  \n",
       "\n",
       "[5 rows x 544 columns]"
      ]
     },
     "execution_count": 5,
     "metadata": {},
     "output_type": "execute_result"
    }
   ],
   "source": [
    "data_pd.head()"
   ]
  },
  {
   "cell_type": "code",
   "execution_count": 9,
   "metadata": {},
   "outputs": [
    {
     "data": {
      "text/plain": [
       "array(['Unnamed: 0', 'sequence', 'study_date_1', 'total_fluid_1',\n",
       "       'time_range_1', 'time_range_before_1', 'time_range_after_1',\n",
       "       'insertion_type_1', 'cur_va_rounded_1', 'next_va_1',\n",
       "       'cumsum_injections_1', 'intra_retinal_fluid_1',\n",
       "       'sub_retinal_fluid_1', 'srhm_1', 'fibrovascular_ped_1',\n",
       "       'choroid_1', 'drusen_1', 'rpe_1', 'epiretinal_membrane_1',\n",
       "       'fibrosis_1', 'cumsum_injection_Avastin_1',\n",
       "       'cumsum_injection_Dexamethason_1', 'cumsum_injection_Eylea_1',\n",
       "       'cumsum_injection_Iluvien_1', 'cumsum_injection_Jetrea_1',\n",
       "       'cumsum_injection_Lucentis_1', 'cumsum_injection_Ozurdex_1',\n",
       "       'cumsum_injection_Triamcinolon_1', 'cumsum_injection_Unknown_1',\n",
       "       'T1_3_1', 'T2_3_1', 'S1_3_1', 'S2_3_1', 'N1_3_1', 'N2_3_1',\n",
       "       'C0_3_1', 'I1_3_1', 'I2_3_1', 'T1_4_1', 'T2_4_1', 'S1_4_1',\n",
       "       'S2_4_1', 'N1_4_1', 'N2_4_1', 'C0_4_1', 'I1_4_1', 'I2_4_1',\n",
       "       'T1_5_1', 'T2_5_1', 'S1_5_1', 'S2_5_1', 'N1_5_1', 'N2_5_1',\n",
       "       'C0_5_1', 'I1_5_1', 'I2_5_1', 'T1_7_1', 'T2_7_1', 'S1_7_1',\n",
       "       'S2_7_1', 'N1_7_1', 'N2_7_1', 'C0_7_1', 'I1_7_1', 'I2_7_1',\n",
       "       'T1_10_1', 'T2_10_1', 'S1_10_1', 'S2_10_1', 'N1_10_1', 'N2_10_1',\n",
       "       'C0_10_1', 'I1_10_1', 'I2_10_1', 'T1_8_1', 'T2_8_1', 'S1_8_1',\n",
       "       'S2_8_1', 'N1_8_1', 'N2_8_1', 'C0_8_1', 'I1_8_1', 'I2_8_1',\n",
       "       'T1_6_1', 'T2_6_1', 'S1_6_1', 'S2_6_1', 'N1_6_1', 'N2_6_1',\n",
       "       'C0_6_1', 'I1_6_1', 'I2_6_1', 'T1_1_1', 'T2_1_1', 'S1_1_1',\n",
       "       'S2_1_1', 'N1_1_1', 'N2_1_1', 'C0_1_1', 'I1_1_1', 'I2_1_1',\n",
       "       'T1_13_1', 'T2_13_1', 'S1_13_1', 'S2_13_1', 'N1_13_1', 'N2_13_1',\n",
       "       'C0_13_1', 'I1_13_1', 'I2_13_1', 'study_date_3', 'total_fluid_3',\n",
       "       'time_range_3', 'time_range_before_3', 'time_range_after_3',\n",
       "       'insertion_type_3', 'cur_va_rounded_3', 'next_va_3',\n",
       "       'cumsum_injections_3', 'intra_retinal_fluid_3',\n",
       "       'sub_retinal_fluid_3', 'srhm_3', 'fibrovascular_ped_3',\n",
       "       'choroid_3', 'drusen_3', 'rpe_3', 'epiretinal_membrane_3',\n",
       "       'fibrosis_3', 'cumsum_injection_Avastin_3',\n",
       "       'cumsum_injection_Dexamethason_3', 'cumsum_injection_Eylea_3',\n",
       "       'cumsum_injection_Iluvien_3', 'cumsum_injection_Jetrea_3',\n",
       "       'cumsum_injection_Lucentis_3', 'cumsum_injection_Ozurdex_3',\n",
       "       'cumsum_injection_Triamcinolon_3', 'cumsum_injection_Unknown_3',\n",
       "       'T1_3_3', 'T2_3_3', 'S1_3_3', 'S2_3_3', 'N1_3_3', 'N2_3_3',\n",
       "       'C0_3_3', 'I1_3_3', 'I2_3_3', 'T1_4_3', 'T2_4_3', 'S1_4_3',\n",
       "       'S2_4_3', 'N1_4_3', 'N2_4_3', 'C0_4_3', 'I1_4_3', 'I2_4_3',\n",
       "       'T1_5_3', 'T2_5_3', 'S1_5_3', 'S2_5_3', 'N1_5_3', 'N2_5_3',\n",
       "       'C0_5_3', 'I1_5_3', 'I2_5_3', 'T1_7_3', 'T2_7_3', 'S1_7_3',\n",
       "       'S2_7_3', 'N1_7_3', 'N2_7_3', 'C0_7_3', 'I1_7_3', 'I2_7_3',\n",
       "       'T1_10_3', 'T2_10_3', 'S1_10_3', 'S2_10_3', 'N1_10_3', 'N2_10_3',\n",
       "       'C0_10_3', 'I1_10_3', 'I2_10_3', 'T1_8_3', 'T2_8_3', 'S1_8_3',\n",
       "       'S2_8_3', 'N1_8_3', 'N2_8_3', 'C0_8_3', 'I1_8_3', 'I2_8_3',\n",
       "       'T1_6_3', 'T2_6_3', 'S1_6_3', 'S2_6_3', 'N1_6_3', 'N2_6_3',\n",
       "       'C0_6_3', 'I1_6_3', 'I2_6_3', 'T1_1_3', 'T2_1_3', 'S1_1_3',\n",
       "       'S2_1_3', 'N1_1_3', 'N2_1_3', 'C0_1_3', 'I1_1_3', 'I2_1_3',\n",
       "       'T1_13_3', 'T2_13_3', 'S1_13_3', 'S2_13_3', 'N1_13_3', 'N2_13_3',\n",
       "       'C0_13_3', 'I1_13_3', 'I2_13_3', 'study_date_6', 'total_fluid_6',\n",
       "       'time_range_6', 'time_range_before_6', 'time_range_after_6',\n",
       "       'insertion_type_6', 'cur_va_rounded_6', 'next_va_6',\n",
       "       'cumsum_injections_6', 'intra_retinal_fluid_6',\n",
       "       'sub_retinal_fluid_6', 'srhm_6', 'fibrovascular_ped_6',\n",
       "       'choroid_6', 'drusen_6', 'rpe_6', 'epiretinal_membrane_6',\n",
       "       'fibrosis_6', 'cumsum_injection_Avastin_6',\n",
       "       'cumsum_injection_Dexamethason_6', 'cumsum_injection_Eylea_6',\n",
       "       'cumsum_injection_Iluvien_6', 'cumsum_injection_Jetrea_6',\n",
       "       'cumsum_injection_Lucentis_6', 'cumsum_injection_Ozurdex_6',\n",
       "       'cumsum_injection_Triamcinolon_6', 'cumsum_injection_Unknown_6',\n",
       "       'T1_3_6', 'T2_3_6', 'S1_3_6', 'S2_3_6', 'N1_3_6', 'N2_3_6',\n",
       "       'C0_3_6', 'I1_3_6', 'I2_3_6', 'T1_4_6', 'T2_4_6', 'S1_4_6',\n",
       "       'S2_4_6', 'N1_4_6', 'N2_4_6', 'C0_4_6', 'I1_4_6', 'I2_4_6',\n",
       "       'T1_5_6', 'T2_5_6', 'S1_5_6', 'S2_5_6', 'N1_5_6', 'N2_5_6',\n",
       "       'C0_5_6', 'I1_5_6', 'I2_5_6', 'T1_7_6', 'T2_7_6', 'S1_7_6',\n",
       "       'S2_7_6', 'N1_7_6', 'N2_7_6', 'C0_7_6', 'I1_7_6', 'I2_7_6',\n",
       "       'T1_10_6', 'T2_10_6', 'S1_10_6', 'S2_10_6', 'N1_10_6', 'N2_10_6',\n",
       "       'C0_10_6', 'I1_10_6', 'I2_10_6', 'T1_8_6', 'T2_8_6', 'S1_8_6',\n",
       "       'S2_8_6', 'N1_8_6', 'N2_8_6', 'C0_8_6', 'I1_8_6', 'I2_8_6',\n",
       "       'T1_6_6', 'T2_6_6', 'S1_6_6', 'S2_6_6', 'N1_6_6', 'N2_6_6',\n",
       "       'C0_6_6', 'I1_6_6', 'I2_6_6', 'T1_1_6', 'T2_1_6', 'S1_1_6',\n",
       "       'S2_1_6', 'N1_1_6', 'N2_1_6', 'C0_1_6', 'I1_1_6', 'I2_1_6',\n",
       "       'T1_13_6', 'T2_13_6', 'S1_13_6', 'S2_13_6', 'N1_13_6', 'N2_13_6',\n",
       "       'C0_13_6', 'I1_13_6', 'I2_13_6', 'study_date_12', 'total_fluid_12',\n",
       "       'time_range_12', 'time_range_before_12', 'time_range_after_12',\n",
       "       'insertion_type_12', 'cur_va_rounded_12', 'next_va_12',\n",
       "       'cumsum_injections_12', 'intra_retinal_fluid_12',\n",
       "       'sub_retinal_fluid_12', 'srhm_12', 'fibrovascular_ped_12',\n",
       "       'choroid_12', 'drusen_12', 'rpe_12', 'epiretinal_membrane_12',\n",
       "       'fibrosis_12', 'cumsum_injection_Avastin_12',\n",
       "       'cumsum_injection_Dexamethason_12', 'cumsum_injection_Eylea_12',\n",
       "       'cumsum_injection_Iluvien_12', 'cumsum_injection_Jetrea_12',\n",
       "       'cumsum_injection_Lucentis_12', 'cumsum_injection_Ozurdex_12',\n",
       "       'cumsum_injection_Triamcinolon_12', 'cumsum_injection_Unknown_12',\n",
       "       'T1_3_12', 'T2_3_12', 'S1_3_12', 'S2_3_12', 'N1_3_12', 'N2_3_12',\n",
       "       'C0_3_12', 'I1_3_12', 'I2_3_12', 'T1_4_12', 'T2_4_12', 'S1_4_12',\n",
       "       'S2_4_12', 'N1_4_12', 'N2_4_12', 'C0_4_12', 'I1_4_12', 'I2_4_12',\n",
       "       'T1_5_12', 'T2_5_12', 'S1_5_12', 'S2_5_12', 'N1_5_12', 'N2_5_12',\n",
       "       'C0_5_12', 'I1_5_12', 'I2_5_12', 'T1_7_12', 'T2_7_12', 'S1_7_12',\n",
       "       'S2_7_12', 'N1_7_12', 'N2_7_12', 'C0_7_12', 'I1_7_12', 'I2_7_12',\n",
       "       'T1_10_12', 'T2_10_12', 'S1_10_12', 'S2_10_12', 'N1_10_12',\n",
       "       'N2_10_12', 'C0_10_12', 'I1_10_12', 'I2_10_12', 'T1_8_12',\n",
       "       'T2_8_12', 'S1_8_12', 'S2_8_12', 'N1_8_12', 'N2_8_12', 'C0_8_12',\n",
       "       'I1_8_12', 'I2_8_12', 'T1_6_12', 'T2_6_12', 'S1_6_12', 'S2_6_12',\n",
       "       'N1_6_12', 'N2_6_12', 'C0_6_12', 'I1_6_12', 'I2_6_12', 'T1_1_12',\n",
       "       'T2_1_12', 'S1_1_12', 'S2_1_12', 'N1_1_12', 'N2_1_12', 'C0_1_12',\n",
       "       'I1_1_12', 'I2_1_12', 'T1_13_12', 'T2_13_12', 'S1_13_12',\n",
       "       'S2_13_12', 'N1_13_12', 'N2_13_12', 'C0_13_12', 'I1_13_12',\n",
       "       'I2_13_12', 'study_date_24', 'total_fluid_24', 'time_range_24',\n",
       "       'time_range_before_24', 'time_range_after_24', 'insertion_type_24',\n",
       "       'cur_va_rounded_24', 'next_va_24', 'cumsum_injections_24',\n",
       "       'intra_retinal_fluid_24', 'sub_retinal_fluid_24', 'srhm_24',\n",
       "       'fibrovascular_ped_24', 'choroid_24', 'drusen_24', 'rpe_24',\n",
       "       'epiretinal_membrane_24', 'fibrosis_24',\n",
       "       'cumsum_injection_Avastin_24', 'cumsum_injection_Dexamethason_24',\n",
       "       'cumsum_injection_Eylea_24', 'cumsum_injection_Iluvien_24',\n",
       "       'cumsum_injection_Jetrea_24', 'cumsum_injection_Lucentis_24',\n",
       "       'cumsum_injection_Ozurdex_24', 'cumsum_injection_Triamcinolon_24',\n",
       "       'cumsum_injection_Unknown_24', 'T1_3_24', 'T2_3_24', 'S1_3_24',\n",
       "       'S2_3_24', 'N1_3_24', 'N2_3_24', 'C0_3_24', 'I1_3_24', 'I2_3_24',\n",
       "       'T1_4_24', 'T2_4_24', 'S1_4_24', 'S2_4_24', 'N1_4_24', 'N2_4_24',\n",
       "       'C0_4_24', 'I1_4_24', 'I2_4_24', 'T1_5_24', 'T2_5_24', 'S1_5_24',\n",
       "       'S2_5_24', 'N1_5_24', 'N2_5_24', 'C0_5_24', 'I1_5_24', 'I2_5_24',\n",
       "       'T1_7_24', 'T2_7_24', 'S1_7_24', 'S2_7_24', 'N1_7_24', 'N2_7_24',\n",
       "       'C0_7_24', 'I1_7_24', 'I2_7_24', 'T1_10_24', 'T2_10_24',\n",
       "       'S1_10_24', 'S2_10_24', 'N1_10_24', 'N2_10_24', 'C0_10_24',\n",
       "       'I1_10_24', 'I2_10_24', 'T1_8_24', 'T2_8_24', 'S1_8_24', 'S2_8_24',\n",
       "       'N1_8_24', 'N2_8_24', 'C0_8_24', 'I1_8_24', 'I2_8_24', 'T1_6_24',\n",
       "       'T2_6_24', 'S1_6_24', 'S2_6_24', 'N1_6_24', 'N2_6_24', 'C0_6_24',\n",
       "       'I1_6_24', 'I2_6_24', 'T1_1_24', 'T2_1_24', 'S1_1_24', 'S2_1_24',\n",
       "       'N1_1_24', 'N2_1_24', 'C0_1_24', 'I1_1_24', 'I2_1_24', 'T1_13_24',\n",
       "       'T2_13_24', 'S1_13_24', 'S2_13_24', 'N1_13_24', 'N2_13_24',\n",
       "       'C0_13_24', 'I1_13_24', 'I2_13_24', 'patient_id', 'laterality'],\n",
       "      dtype=object)"
      ]
     },
     "execution_count": 9,
     "metadata": {},
     "output_type": "execute_result"
    }
   ],
   "source": [
    "data_pd.columns.values"
   ]
  },
  {
   "cell_type": "markdown",
   "metadata": {},
   "source": [
    "## add delta feature columns"
   ]
  },
  {
   "cell_type": "code",
   "execution_count": 10,
   "metadata": {},
   "outputs": [],
   "source": [
    "time_points = [6, 12]\n",
    "\n",
    "features = [\"intra_retinal_fluid\", \n",
    "            \"sub_retinal_fluid\", \n",
    "            \"choroid\", \n",
    "            \"drusen\", \n",
    "            \"rpe\", \n",
    "            \"fibrovascular_ped\",\n",
    "            \"epiretinal_membrane\",\n",
    "            \"srhm\", \n",
    "            \"fibrosis\"]\n",
    "\n",
    "for tp in time_points:\n",
    "    for feature in features:\n",
    "        data_pd[f\"{feature}_delta_{tp}\"] = data_pd[f\"{feature}_{tp}\"] - data_pd[f\"{feature}_{1}\"]"
   ]
  },
  {
   "cell_type": "markdown",
   "metadata": {},
   "source": [
    "#### How many sequence are treated?"
   ]
  },
  {
   "cell_type": "code",
   "execution_count": 11,
   "metadata": {
    "scrolled": true
   },
   "outputs": [
    {
     "name": "stdout",
     "output_type": "stream",
     "text": [
      "number of treated sequences 424\n"
     ]
    }
   ],
   "source": [
    "print(f\"number of treated sequences {data_pd.shape[0]}\")"
   ]
  },
  {
   "cell_type": "markdown",
   "metadata": {},
   "source": [
    "#### Insertion type distribution"
   ]
  },
  {
   "cell_type": "code",
   "execution_count": 12,
   "metadata": {},
   "outputs": [
    {
     "data": {
      "text/plain": [
       "Text(0.5, 1.0, 'month 24')"
      ]
     },
     "execution_count": 12,
     "metadata": {},
     "output_type": "execute_result"
    },
    {
     "data": {
      "image/png": "[encoded data removed]",
      "text/plain": [
       "<Figure size 720x720 with 4 Axes>"
      ]
     },
     "metadata": {},
     "output_type": "display_data"
    }
   ],
   "source": [
    "fig, ((ax1, ax2), (ax3, ax4)) = plt.subplots(2, 2, figsize=(10,10))\n",
    "\n",
    "month_3 = data_pd.groupby(['insertion_type_3']).size().tolist()\n",
    "month_6 = data_pd.groupby(['insertion_type_6']).size().tolist()\n",
    "month_12 = data_pd.groupby(['insertion_type_12']).size().tolist()\n",
    "month_24 = data_pd.groupby(['insertion_type_24']).size().tolist()\n",
    "\n",
    "x_labels = [\"carried over\", \"interpolation\", \"match\"]\n",
    "\n",
    "ax1.bar(x_labels, month_3,align='center')\n",
    "ax1.set_title(\"month 3\")\n",
    "ax2.bar(x_labels,month_6,align='center')\n",
    "ax2.set_title(\"month 6\")\n",
    "ax3.bar(x_labels,month_12,align='center')\n",
    "ax3.set_title(\"month 12\")\n",
    "ax4.bar(x_labels,month_24,align='center')\n",
    "ax4.set_title(\"month 24\")"
   ]
  },
  {
   "cell_type": "markdown",
   "metadata": {},
   "source": [
    "### carried over time distribution"
   ]
  },
  {
   "cell_type": "code",
   "execution_count": 13,
   "metadata": {},
   "outputs": [
    {
     "name": "stderr",
     "output_type": "stream",
     "text": [
      "/home/icb/olle.holmberg/anaconda3/envs/tf2_super/lib/python3.6/site-packages/numpy/lib/histograms.py:839: RuntimeWarning: invalid value encountered in greater_equal\n",
      "  keep = (tmp_a >= first_edge)\n",
      "/home/icb/olle.holmberg/anaconda3/envs/tf2_super/lib/python3.6/site-packages/numpy/lib/histograms.py:840: RuntimeWarning: invalid value encountered in less_equal\n",
      "  keep &= (tmp_a <= last_edge)\n"
     ]
    },
    {
     "data": {
      "text/plain": [
       "Text(0.5, 1.0, 'Time from carry over 6 months')"
      ]
     },
     "execution_count": 13,
     "metadata": {},
     "output_type": "execute_result"
    },
    {
     "data": {
      "image/png": "[encoded data removed]",
      "text/plain": [
       "<Figure size 1440x720 with 1 Axes>"
      ]
     },
     "metadata": {},
     "output_type": "display_data"
    }
   ],
   "source": [
    "plt.figure(figsize=(20,10))\n",
    "month_6_carry_over = data_pd.loc[data_pd.insertion_type_6 == \"carry_over\"]\n",
    "plt.hist(month_6_carry_over.time_range_6, bins = 15)\n",
    "plt.xlabel(\"days\")\n",
    "plt.ylabel(\"number of sequences\")\n",
    "plt.title(\"Time from carry over 6 months\")"
   ]
  },
  {
   "cell_type": "code",
   "execution_count": 14,
   "metadata": {},
   "outputs": [
    {
     "data": {
      "text/plain": [
       "Text(0.5, 1.0, 'Time from carry over 12 months')"
      ]
     },
     "execution_count": 14,
     "metadata": {},
     "output_type": "execute_result"
    },
    {
     "data": {
      "image/png": "[encoded data removed]",
      "text/plain": [
       "<Figure size 1440x720 with 1 Axes>"
      ]
     },
     "metadata": {},
     "output_type": "display_data"
    }
   ],
   "source": [
    "plt.figure(figsize=(20,10))\n",
    "month_12_carry_over = data_pd.loc[data_pd.insertion_type_12 == \"carry_over\"]\n",
    "plt.hist(month_12_carry_over.time_range_12, bins = 15)\n",
    "plt.xlabel(\"days\")\n",
    "plt.ylabel(\"number of sequences\")\n",
    "plt.title(\"Time from carry over 12 months\")\n"
   ]
  },
  {
   "cell_type": "markdown",
   "metadata": {},
   "source": [
    "### interpolation over time distribution"
   ]
  },
  {
   "cell_type": "code",
   "execution_count": 15,
   "metadata": {},
   "outputs": [
    {
     "data": {
      "text/plain": [
       "Text(0.5, 1.0, 'Time from interpolation 6 months')"
      ]
     },
     "execution_count": 15,
     "metadata": {},
     "output_type": "execute_result"
    },
    {
     "data": {
      "image/png": "[encoded data removed]",
      "text/plain": [
       "<Figure size 1440x720 with 1 Axes>"
      ]
     },
     "metadata": {},
     "output_type": "display_data"
    }
   ],
   "source": [
    "plt.figure(figsize=(20,10))\n",
    "month_6_interpolation = data_pd.loc[data_pd.insertion_type_6 == \"interpolation\"]\n",
    "plt.hist(month_6_interpolation.time_range_6, bins = 30)\n",
    "plt.xlabel(\"days\")\n",
    "plt.ylabel(\"number of sequences\")\n",
    "plt.title(\"Time from interpolation 6 months\")"
   ]
  },
  {
   "cell_type": "code",
   "execution_count": 16,
   "metadata": {},
   "outputs": [
    {
     "data": {
      "text/plain": [
       "Text(0.5, 1.0, 'Time from interpolation 12 months')"
      ]
     },
     "execution_count": 16,
     "metadata": {},
     "output_type": "execute_result"
    },
    {
     "data": {
      "image/png": "[encoded data removed]",
      "text/plain": [
       "<Figure size 1440x720 with 1 Axes>"
      ]
     },
     "metadata": {},
     "output_type": "display_data"
    }
   ],
   "source": [
    "plt.figure(figsize=(20,10))\n",
    "month_12_interpolation = data_pd.loc[data_pd.insertion_type_12 == \"interpolation\"]\n",
    "plt.hist(month_12_interpolation.time_range_12, bins = 30)\n",
    "plt.xlabel(\"days\")\n",
    "plt.ylabel(\"number of sequences\")\n",
    "plt.title(\"Time from interpolation 12 months\")"
   ]
  },
  {
   "cell_type": "markdown",
   "metadata": {},
   "source": [
    "#### Time until dry"
   ]
  },
  {
   "cell_type": "code",
   "execution_count": 17,
   "metadata": {
    "scrolled": true
   },
   "outputs": [
    {
     "name": "stdout",
     "output_type": "stream",
     "text": [
      "Number of sequences starting as dry:  13\n",
      "Number of sequences dry after 3 months:  17\n",
      "Number of sequences dry after 6 months:  11\n",
      "Number of sequences dry after 12 months:  17\n",
      "Number of sequences dry after 24 months:  17\n"
     ]
    }
   ],
   "source": [
    "start_dry = data_pd.total_fluid_1 == 0\n",
    "\n",
    "print(f\"Number of sequences starting as dry: \", sum(start_dry))\n",
    "\n",
    "# exclude dry start sequences\n",
    "fluid_pd = data_pd.loc[~start_dry]\n",
    "\n",
    "print(f\"Number of sequences dry after 3 months: \", sum(fluid_pd.total_fluid_3 == 0))\n",
    "print(f\"Number of sequences dry after 6 months: \", sum(fluid_pd.total_fluid_6 == 0))\n",
    "print(f\"Number of sequences dry after 12 months: \", sum(fluid_pd.total_fluid_12 == 0))\n",
    "print(f\"Number of sequences dry after 24 months: \", sum(fluid_pd.total_fluid_24 == 0))"
   ]
  },
  {
   "cell_type": "markdown",
   "metadata": {},
   "source": [
    "#### Filter data based on time series eclusion criterias"
   ]
  },
  {
   "cell_type": "code",
   "execution_count": 18,
   "metadata": {},
   "outputs": [],
   "source": [
    "##### carry over above 2 months"
   ]
  },
  {
   "cell_type": "code",
   "execution_count": 19,
   "metadata": {},
   "outputs": [],
   "source": [
    "columns = [\"time_range_6\", \"time_range_before_6\", \"time_range_after_6\", \n",
    "           \"time_range_12\", \"time_range_before_12\", \"time_range_after_12\",\n",
    "          \"insertion_type_6\", \"insertion_type_12\"]\n",
    "\n",
    "filter_base = data_pd[columns]\n",
    "\n",
    "# 6 month bools\n",
    "interp_6 = filter_base.insertion_type_6 == \"interpolation\" \n",
    "carry_over_6 = filter_base.insertion_type_6 == \"carry_over\" \n",
    "match_6 = filter_base.insertion_type_6 == \"match\" \n",
    "\n",
    "\n",
    "interp_12 = filter_base.insertion_type_12 == \"interpolation\" \n",
    "carry_over_12 = filter_base.insertion_type_12 == \"carry_over\" \n",
    "match_12 = filter_base.insertion_type_12 == \"match\" \n",
    "\n",
    "# interpolation time filters\n",
    "interp_time_before_6 = filter_base.time_range_before_6 < 60\n",
    "interp_time_after_6 = filter_base.time_range_after_6 < 60\n",
    "\n",
    "interp_time_before_12 = filter_base.time_range_before_12 < 60\n",
    "interp_time_after_12 = filter_base.time_range_after_12 < 60\n",
    "\n",
    "# carry over time filters\n",
    "carry_over_time_after_6 = filter_base.time_range_6 < 60\n",
    "carry_over_time_after_12 = filter_base.time_range_12 < 60"
   ]
  },
  {
   "cell_type": "code",
   "execution_count": 20,
   "metadata": {},
   "outputs": [
    {
     "name": "stdout",
     "output_type": "stream",
     "text": [
      "Number of filtered sequences for 6 months are: 265\n"
     ]
    }
   ],
   "source": [
    "# interpolation 6 months\n",
    "interp_bef = np.logical_and(interp_6.values, interp_time_before_6)\n",
    "interp_aft = np.logical_and(interp_6.values, interp_time_after_6)\n",
    "\n",
    "interp_6 = np.logical_and(interp_bef, interp_aft)\n",
    "\n",
    "# carry over 6 months\n",
    "carry_over_6 = np.logical_and(carry_over_6.values, carry_over_time_after_6)\n",
    "\n",
    "insertion_6_ = np.logical_or(carry_over_6, interp_6)\n",
    "filter_6 = np.logical_or(insertion_6_, match_6)\n",
    "\n",
    "print(\"Number of filtered sequences for 6 months are:\", sum(filter_6))"
   ]
  },
  {
   "cell_type": "code",
   "execution_count": 21,
   "metadata": {
    "scrolled": true
   },
   "outputs": [
    {
     "name": "stdout",
     "output_type": "stream",
     "text": [
      "Number of filtered sequences for 12 months are: 254\n"
     ]
    }
   ],
   "source": [
    "# interpolation 12 months\n",
    "interp_bef = np.logical_and(interp_12.values, interp_time_before_12)\n",
    "interp_aft = np.logical_and(interp_12.values, interp_time_after_12)\n",
    "\n",
    "interp_12 = np.logical_and(interp_bef, interp_aft)\n",
    "\n",
    "# carry over 6 months\n",
    "carry_over_12 = np.logical_and(carry_over_12.values, carry_over_time_after_12)\n",
    "\n",
    "insertion_12_ = np.logical_or(carry_over_12, interp_12)\n",
    "filter_12 = np.logical_or(insertion_12_, match_12)\n",
    "\n",
    "print(\"Number of filtered sequences for 12 months are:\", sum(filter_12))"
   ]
  },
  {
   "cell_type": "markdown",
   "metadata": {},
   "source": [
    "## Filter data pd for having either a 6 or a 12 month follow up"
   ]
  },
  {
   "cell_type": "code",
   "execution_count": 22,
   "metadata": {},
   "outputs": [],
   "source": [
    "data_final_pd = data_pd.loc[filter_12 | filter_6]"
   ]
  },
  {
   "cell_type": "markdown",
   "metadata": {},
   "source": [
    "## Create Adata objects"
   ]
  },
  {
   "cell_type": "code",
   "execution_count": 23,
   "metadata": {},
   "outputs": [],
   "source": [
    "feature_columns = [\"total_fluid\",\n",
    "\"next_va\",\n",
    "\"cumsum_injections\",\n",
    "'intra_retinal_fluid',\n",
    "'sub_retinal_fluid',\n",
    "'srhm',\n",
    "'fibrovascular_ped',\n",
    "'choroid',\n",
    "'drusen',\n",
    "'rpe',\n",
    "'epiretinal_membrane',\n",
    "'fibrosis']"
   ]
  },
  {
   "cell_type": "code",
   "execution_count": 24,
   "metadata": {},
   "outputs": [],
   "source": [
    "regions = [\"T1\", \"T2\", \"S1\", \"S2\", \"N1\", \"N2\", \"I1\", \"I2\", \"C0\"]\n",
    "features = [1, 3, 4, 5, 6, 7, 8, 10, 13]\n",
    "time_points = [1]\n",
    "\n",
    "var_names = []\n",
    "for region in regions:\n",
    "    for feature in features:\n",
    "        var_names.append(f\"{region}_{feature}_{1}\")"
   ]
  },
  {
   "cell_type": "markdown",
   "metadata": {},
   "source": [
    "## Base line Adata"
   ]
  },
  {
   "cell_type": "markdown",
   "metadata": {},
   "source": [
    "#### Extract baseline columns for data data frame"
   ]
  },
  {
   "cell_type": "code",
   "execution_count": 25,
   "metadata": {
    "scrolled": false
   },
   "outputs": [
    {
     "name": "stderr",
     "output_type": "stream",
     "text": [
      "/home/icb/olle.holmberg/anaconda3/envs/tf2_super/lib/python3.6/site-packages/ipykernel_launcher.py:4: SettingWithCopyWarning: \n",
      "A value is trying to be set on a copy of a slice from a DataFrame.\n",
      "Try using .loc[row_indexer,col_indexer] = value instead\n",
      "\n",
      "See the caveats in the documentation: https://pandas.pydata.org/pandas-docs/stable/user_guide/indexing.html#returning-a-view-versus-a-copy\n",
      "  after removing the cwd from sys.path.\n"
     ]
    }
   ],
   "source": [
    "columns = ['patient_id', 'laterality', 'cur_va_rounded_1'] + var_names\n",
    "data_baseline_pd = data_final_pd[columns]\n",
    "\n",
    "data_baseline_pd[\"sequence\"] = data_baseline_pd[\"patient_id\"] + \"_\" + data_baseline_pd[\"laterality\"]"
   ]
  },
  {
   "cell_type": "markdown",
   "metadata": {},
   "source": [
    "#### Create baseline adata"
   ]
  },
  {
   "cell_type": "code",
   "execution_count": 26,
   "metadata": {},
   "outputs": [],
   "source": [
    "data_baseline_pd = data_baseline_pd.dropna(subset=[\"sequence\"])\n",
    "\n",
    "X = np.array(data_baseline_pd[np.array(var_names)])\n",
    "\n",
    "obs_id = data_baseline_pd[\"sequence\"]\n",
    "\n",
    "adata_baseline = sc.AnnData(X=X)\n",
    "adata_baseline.obs[\"obs_id\"] = obs_id.values.tolist()\n",
    "adata_baseline.obs[\"baseline_va\"] = data_baseline_pd.cur_va_rounded_1.values.tolist()\n",
    "\n",
    "adata_baseline.var_names = var_names"
   ]
  },
  {
   "cell_type": "markdown",
   "metadata": {},
   "source": [
    "## Factors associated with baseline visual acuity"
   ]
  },
  {
   "cell_type": "code",
   "execution_count": 27,
   "metadata": {},
   "outputs": [],
   "source": [
    "import pandas as pd\n",
    "import numpy as np\n",
    "import matplotlib.pyplot as plt\n",
    "import seaborn as sns\n",
    "%matplotlib inline\n",
    "import warnings\n",
    "warnings.filterwarnings('ignore')\n",
    "import statsmodels.api as sm"
   ]
  },
  {
   "cell_type": "code",
   "execution_count": 30,
   "metadata": {
    "scrolled": true
   },
   "outputs": [
    {
     "ename": "ImportError",
     "evalue": "lxml not found, please install it",
     "output_type": "error",
     "traceback": [
      "\u001b[0;31m---------------------------------------------------------------------------\u001b[0m",
      "\u001b[0;31mImportError\u001b[0m                               Traceback (most recent call last)",
      "\u001b[0;32m<ipython-input-30-41c13243ee54>\u001b[0m in \u001b[0;36m<module>\u001b[0;34m\u001b[0m\n\u001b[1;32m      7\u001b[0m \u001b[0mregression_summary\u001b[0m \u001b[0;34m=\u001b[0m \u001b[0mresult_lin\u001b[0m\u001b[0;34m.\u001b[0m\u001b[0msummary\u001b[0m\u001b[0;34m(\u001b[0m\u001b[0;34m)\u001b[0m\u001b[0;34m\u001b[0m\u001b[0;34m\u001b[0m\u001b[0m\n\u001b[1;32m      8\u001b[0m \u001b[0;34m\u001b[0m\u001b[0m\n\u001b[0;32m----> 9\u001b[0;31m \u001b[0mreg_table\u001b[0m \u001b[0;34m=\u001b[0m \u001b[0mpd\u001b[0m\u001b[0;34m.\u001b[0m\u001b[0mread_html\u001b[0m\u001b[0;34m(\u001b[0m\u001b[0mresult_lin\u001b[0m\u001b[0;34m.\u001b[0m\u001b[0msummary\u001b[0m\u001b[0;34m(\u001b[0m\u001b[0;34m)\u001b[0m\u001b[0;34m.\u001b[0m\u001b[0mtables\u001b[0m\u001b[0;34m[\u001b[0m\u001b[0;36m1\u001b[0m\u001b[0;34m]\u001b[0m\u001b[0;34m.\u001b[0m\u001b[0mas_html\u001b[0m\u001b[0;34m(\u001b[0m\u001b[0;34m)\u001b[0m\u001b[0;34m,\u001b[0m\u001b[0mheader\u001b[0m\u001b[0;34m=\u001b[0m\u001b[0;36m0\u001b[0m\u001b[0;34m,\u001b[0m\u001b[0mindex_col\u001b[0m\u001b[0;34m=\u001b[0m\u001b[0;36m0\u001b[0m\u001b[0;34m)\u001b[0m\u001b[0;34m[\u001b[0m\u001b[0;36m0\u001b[0m\u001b[0;34m]\u001b[0m\u001b[0;34m\u001b[0m\u001b[0;34m\u001b[0m\u001b[0m\n\u001b[0m",
      "\u001b[0;32m~/.local/lib/python3.6/site-packages/pandas/util/_decorators.py\u001b[0m in \u001b[0;36mwrapper\u001b[0;34m(*args, **kwargs)\u001b[0m\n\u001b[1;32m    294\u001b[0m                 )\n\u001b[1;32m    295\u001b[0m                 \u001b[0mwarnings\u001b[0m\u001b[0;34m.\u001b[0m\u001b[0mwarn\u001b[0m\u001b[0;34m(\u001b[0m\u001b[0mmsg\u001b[0m\u001b[0;34m,\u001b[0m \u001b[0mFutureWarning\u001b[0m\u001b[0;34m,\u001b[0m \u001b[0mstacklevel\u001b[0m\u001b[0;34m=\u001b[0m\u001b[0mstacklevel\u001b[0m\u001b[0;34m)\u001b[0m\u001b[0;34m\u001b[0m\u001b[0;34m\u001b[0m\u001b[0m\n\u001b[0;32m--> 296\u001b[0;31m             \u001b[0;32mreturn\u001b[0m \u001b[0mfunc\u001b[0m\u001b[0;34m(\u001b[0m\u001b[0;34m*\u001b[0m\u001b[0margs\u001b[0m\u001b[0;34m,\u001b[0m \u001b[0;34m**\u001b[0m\u001b[0mkwargs\u001b[0m\u001b[0;34m)\u001b[0m\u001b[0;34m\u001b[0m\u001b[0;34m\u001b[0m\u001b[0m\n\u001b[0m\u001b[1;32m    297\u001b[0m \u001b[0;34m\u001b[0m\u001b[0m\n\u001b[1;32m    298\u001b[0m         \u001b[0;32mreturn\u001b[0m \u001b[0mwrapper\u001b[0m\u001b[0;34m\u001b[0m\u001b[0;34m\u001b[0m\u001b[0m\n",
      "\u001b[0;32m~/.local/lib/python3.6/site-packages/pandas/io/html.py\u001b[0m in \u001b[0;36mread_html\u001b[0;34m(io, match, flavor, header, index_col, skiprows, attrs, parse_dates, thousands, encoding, decimal, converters, na_values, keep_default_na, displayed_only)\u001b[0m\n\u001b[1;32m   1099\u001b[0m         \u001b[0mna_values\u001b[0m\u001b[0;34m=\u001b[0m\u001b[0mna_values\u001b[0m\u001b[0;34m,\u001b[0m\u001b[0;34m\u001b[0m\u001b[0;34m\u001b[0m\u001b[0m\n\u001b[1;32m   1100\u001b[0m         \u001b[0mkeep_default_na\u001b[0m\u001b[0;34m=\u001b[0m\u001b[0mkeep_default_na\u001b[0m\u001b[0;34m,\u001b[0m\u001b[0;34m\u001b[0m\u001b[0;34m\u001b[0m\u001b[0m\n\u001b[0;32m-> 1101\u001b[0;31m         \u001b[0mdisplayed_only\u001b[0m\u001b[0;34m=\u001b[0m\u001b[0mdisplayed_only\u001b[0m\u001b[0;34m,\u001b[0m\u001b[0;34m\u001b[0m\u001b[0;34m\u001b[0m\u001b[0m\n\u001b[0m\u001b[1;32m   1102\u001b[0m     )\n",
      "\u001b[0;32m~/.local/lib/python3.6/site-packages/pandas/io/html.py\u001b[0m in \u001b[0;36m_parse\u001b[0;34m(flavor, io, match, attrs, encoding, displayed_only, **kwargs)\u001b[0m\n\u001b[1;32m    892\u001b[0m     \u001b[0mretained\u001b[0m \u001b[0;34m=\u001b[0m \u001b[0;32mNone\u001b[0m\u001b[0;34m\u001b[0m\u001b[0;34m\u001b[0m\u001b[0m\n\u001b[1;32m    893\u001b[0m     \u001b[0;32mfor\u001b[0m \u001b[0mflav\u001b[0m \u001b[0;32min\u001b[0m \u001b[0mflavor\u001b[0m\u001b[0;34m:\u001b[0m\u001b[0;34m\u001b[0m\u001b[0;34m\u001b[0m\u001b[0m\n\u001b[0;32m--> 894\u001b[0;31m         \u001b[0mparser\u001b[0m \u001b[0;34m=\u001b[0m \u001b[0m_parser_dispatch\u001b[0m\u001b[0;34m(\u001b[0m\u001b[0mflav\u001b[0m\u001b[0;34m)\u001b[0m\u001b[0;34m\u001b[0m\u001b[0;34m\u001b[0m\u001b[0m\n\u001b[0m\u001b[1;32m    895\u001b[0m         \u001b[0mp\u001b[0m \u001b[0;34m=\u001b[0m \u001b[0mparser\u001b[0m\u001b[0;34m(\u001b[0m\u001b[0mio\u001b[0m\u001b[0;34m,\u001b[0m \u001b[0mcompiled_match\u001b[0m\u001b[0;34m,\u001b[0m \u001b[0mattrs\u001b[0m\u001b[0;34m,\u001b[0m \u001b[0mencoding\u001b[0m\u001b[0;34m,\u001b[0m \u001b[0mdisplayed_only\u001b[0m\u001b[0;34m)\u001b[0m\u001b[0;34m\u001b[0m\u001b[0;34m\u001b[0m\u001b[0m\n\u001b[1;32m    896\u001b[0m \u001b[0;34m\u001b[0m\u001b[0m\n",
      "\u001b[0;32m~/.local/lib/python3.6/site-packages/pandas/io/html.py\u001b[0m in \u001b[0;36m_parser_dispatch\u001b[0;34m(flavor)\u001b[0m\n\u001b[1;32m    849\u001b[0m     \u001b[0;32melse\u001b[0m\u001b[0;34m:\u001b[0m\u001b[0;34m\u001b[0m\u001b[0;34m\u001b[0m\u001b[0m\n\u001b[1;32m    850\u001b[0m         \u001b[0;32mif\u001b[0m \u001b[0;32mnot\u001b[0m \u001b[0m_HAS_LXML\u001b[0m\u001b[0;34m:\u001b[0m\u001b[0;34m\u001b[0m\u001b[0;34m\u001b[0m\u001b[0m\n\u001b[0;32m--> 851\u001b[0;31m             \u001b[0;32mraise\u001b[0m \u001b[0mImportError\u001b[0m\u001b[0;34m(\u001b[0m\u001b[0;34m\"lxml not found, please install it\"\u001b[0m\u001b[0;34m)\u001b[0m\u001b[0;34m\u001b[0m\u001b[0;34m\u001b[0m\u001b[0m\n\u001b[0m\u001b[1;32m    852\u001b[0m     \u001b[0;32mreturn\u001b[0m \u001b[0m_valid_parsers\u001b[0m\u001b[0;34m[\u001b[0m\u001b[0mflavor\u001b[0m\u001b[0;34m]\u001b[0m\u001b[0;34m\u001b[0m\u001b[0;34m\u001b[0m\u001b[0m\n\u001b[1;32m    853\u001b[0m \u001b[0;34m\u001b[0m\u001b[0m\n",
      "\u001b[0;31mImportError\u001b[0m: lxml not found, please install it"
     ]
    }
   ],
   "source": [
    "regression_pd = pd.DataFrame(adata_baseline.X, columns=adata_baseline.var_names)\n",
    "regression_pd[\"va\"] = adata_baseline.obs[\"baseline_va\"].values.tolist()\n",
    "\n",
    "model_lin = sm.OLS.from_formula(f\"va ~ {' + '.join(var_names)}\", data=regression_pd)\n",
    "result_lin = model_lin.fit()\n",
    "\n",
    "regression_summary = result_lin.summary()\n",
    "\n",
    "reg_table = pd.read_html(result_lin.summary().tables[1].as_html(),header=0,index_col=0)[0]"
   ]
  },
  {
   "cell_type": "code",
   "execution_count": null,
   "metadata": {},
   "outputs": [
    {
     "name": "stdout",
     "output_type": "stream",
     "text": [
      "Requirement already satisfied: lxml in /mnt/home/icb/olle.holmberg/anaconda3/envs/tf2_super/lib/python3.6/site-packages (4.6.3)\r\n"
     ]
    }
   ],
   "source": [
    "!pip3 install lxml"
   ]
  },
  {
   "cell_type": "code",
   "execution_count": null,
   "metadata": {},
   "outputs": [],
   "source": [
    "adata_baseline.var[\"linear_coef\"] = reg_table[\"coef\"]\n",
    "adata_baseline.var['P>|t|'] = reg_table['P>|t|']"
   ]
  },
  {
   "cell_type": "code",
   "execution_count": null,
   "metadata": {
    "scrolled": true
   },
   "outputs": [],
   "source": [
    "pd.DataFrame(adata_baseline.var.index.str.split(\"_\")"
   ]
  },
  {
   "cell_type": "code",
   "execution_count": null,
   "metadata": {},
   "outputs": [],
   "source": [
    "regions = [\"T1\", \"T2\", \"S1\", \"S2\", \"N1\", \"N2\", \"I1\", \"I2\", \"C0\"]\n",
    "features = [1, 3, 4, 5, 6, 7, 8, 10, 13]\n",
    "\n",
    "harvest = np.array([[0.8, 2.4, 2.5, 3.9, 0.0, 4.0, 0.0],\n",
    "                    [2.4, 0.0, 4.0, 1.0, 2.7, 0.0, 0.0],\n",
    "                    [1.1, 2.4, 0.8, 4.3, 1.9, 4.4, 0.0],\n",
    "                    [0.6, 0.0, 0.3, 0.0, 3.1, 0.0, 0.0],\n",
    "                    [0.7, 1.7, 0.6, 2.6, 2.2, 6.2, 0.0],\n",
    "                    [1.3, 1.2, 0.0, 0.0, 0.0, 3.2, 5.1],\n",
    "                    [0.1, 2.0, 0.0, 1.4, 0.0, 1.9, 6.3]])"
   ]
  },
  {
   "cell_type": "code",
   "execution_count": null,
   "metadata": {},
   "outputs": [],
   "source": [
    "data_pd = data_pd.dropna(subset=[\"sequence\", \"study_date_1\"])\n",
    "\n",
    "X = np.array(data_pd[np.array(var_names)])\n",
    "\n",
    "obs_id = data_pd[\"sequence\"] + \"_\" + data_pd[\"study_date_1\"]\n",
    "\n",
    "va_improved_6 = data_pd.cur_va_rounded_6 - data_pd.cur_va_rounded_1 < 0\n",
    "va_improved_12 = data_pd.cur_va_rounded_12 - data_pd.cur_va_rounded_1 < 0\n",
    "\n",
    "adata_baseline = sc.AnnData(X=X)\n",
    "adata_baseline.obs[\"obs_id\"] = obs_id.values.tolist()\n",
    "adata_baseline.obs[\"obs_va_6_improved\"] = va_improved_6.astype(int).values.tolist()\n",
    "adata_baseline.obs[\"obs_va_12_improved\"] = va_improved_12.astype(int).values.tolist()\n",
    "\n",
    "adata_baseline.obs[\"va_delta_6\"] = pd.DataFrame(data_pd.cur_va_rounded_6 - data_pd.cur_va_rounded_1)[0].values\n",
    "adata_baseline.obs[\"va_delta_12\"] = pd.DataFrame(data_pd.cur_va_rounded_12 - data_pd.cur_va_rounded_1)[0].values\n",
    "\n",
    "data_pd[\"cumsum_injections_1\"] = data_pd.cumsum_injections_1.fillna(0)\n",
    "data_pd[\"cumsum_injections_6\"] = data_pd.cumsum_injections_6.fillna(0)\n",
    "data_pd[\"cumsum_injections_12\"] = data_pd.cumsum_injections_12.fillna(0)\n",
    "\n",
    "adata_baseline.obs[\"cumsum_injections_1\"] = data_pd.cumsum_injections_1.values\n",
    "adata_baseline.obs[\"cumsum_injections_6\"] = data_pd.cumsum_injections_6.values\n",
    "adata_baseline.obs[\"cumsum_injections_12\"] = data_pd.cumsum_injections_12.values\n",
    "\n",
    "adata_baseline.obs[\"obs_va_1\"] = data_pd.cur_va_rounded_1.values.tolist()\n",
    "adata_baseline.obs[\"obs_va_6\"] = data_pd.cur_va_rounded_6.values.tolist()\n",
    "adata_baseline.obs[\"obs_va_12\"] = data_pd.cur_va_rounded_12.values.tolist()\n",
    "\n",
    "for region in regions:\n",
    "    for feature in features:\n",
    "        for time_point in [1, 6, 12]:\n",
    "            var_ = f\"{region}_{feature}_{time_point}\"\n",
    "            adata_baseline.obs[var_] = data_pd[var_].values.tolist()\n",
    "\n",
    "for feature in feature_columns:\n",
    "    for time_point in [1, 6, 12]:\n",
    "            var_ = f\"{feature}_{time_point}\"\n",
    "            adata_baseline.obs[var_] = data_pd[var_].values.tolist()\n",
    "    \n",
    "adata_baseline.obs[\"naive\"] = data_pd.Naive.values.tolist()\n",
    "adata_baseline.var[\"var_name\"] = var_names"
   ]
  },
  {
   "cell_type": "markdown",
   "metadata": {},
   "source": [
    "### Basic statistics"
   ]
  },
  {
   "cell_type": "code",
   "execution_count": null,
   "metadata": {},
   "outputs": [],
   "source": [
    "print(f\"Base line mean BCVA {np.mean(adata_baseline.obs.obs_va_1)} +- {np.std(adata_baseline.obs.obs_va_1)}\")\n",
    "print(f\"6 month mean BCVA {np.mean(adata_baseline.obs.obs_va_6)} +- {np.std(adata_baseline.obs.obs_va_6)}\")\n",
    "print(f\"12 month mean BCVA {np.mean(adata_baseline.obs.obs_va_12)} +- {np.std(adata_baseline.obs.obs_va_12)}\")"
   ]
  },
  {
   "cell_type": "code",
   "execution_count": null,
   "metadata": {},
   "outputs": [],
   "source": [
    "print(f\"6 month mean BCVA change {np.mean(adata_baseline.obs.va_delta_6)} +- {np.std(adata_baseline.obs.va_delta_6)}\")\n",
    "print(f\"12 month mean BCVA change {np.mean(adata_baseline.obs.va_delta_12)} +- {np.std(adata_baseline.obs.va_delta_12)}\")"
   ]
  },
  {
   "cell_type": "code",
   "execution_count": null,
   "metadata": {
    "scrolled": true
   },
   "outputs": [],
   "source": [
    "print(f\"6 month average # injections {np.mean(adata_baseline.obs.cumsum_injections_6)} +- {np.std(adata_baseline.obs.cumsum_injections_6)}\")\n",
    "print(f\"12 month average # injections {np.mean(adata_baseline.obs.cumsum_injections_12)} +- {np.std(adata_baseline.obs.cumsum_injections_12)}\")"
   ]
  },
  {
   "cell_type": "code",
   "execution_count": null,
   "metadata": {
    "scrolled": false
   },
   "outputs": [],
   "source": [
    "for feature in feature_columns:\n",
    "    for time_point in [1, 6, 12]:\n",
    "            var_ = f\"{feature}_{time_point}\"\n",
    "            stat_str = f\"mean {np.round(np.mean(adata_baseline.obs[var_]), 2)} +- {np.round(np.std(adata_baseline.obs[var_]), 2)}\"\n",
    "            print(f\"{time_point} month recording of {var_}: {stat_str}\")"
   ]
  },
  {
   "cell_type": "markdown",
   "metadata": {},
   "source": [
    "## Regression analysis"
   ]
  },
  {
   "cell_type": "code",
   "execution_count": null,
   "metadata": {},
   "outputs": [],
   "source": [
    "from sklearn import datasets, linear_model\n",
    "regr = linear_model.LinearRegression()\n",
    "\n",
    "# Train the model using the training sets\n",
    "regr.fit(diabetes_X_train, diabetes_y_train)"
   ]
  },
  {
   "cell_type": "code",
   "execution_count": null,
   "metadata": {},
   "outputs": [],
   "source": [
    "## plot distributions"
   ]
  },
  {
   "cell_type": "code",
   "execution_count": null,
   "metadata": {
    "scrolled": false
   },
   "outputs": [],
   "source": [
    "sc.pl.violin(adata_baseline, var_names, log=True)"
   ]
  },
  {
   "cell_type": "code",
   "execution_count": null,
   "metadata": {},
   "outputs": [],
   "source": [
    "## normalize data"
   ]
  },
  {
   "cell_type": "code",
   "execution_count": null,
   "metadata": {},
   "outputs": [],
   "source": [
    "adata_baseline.var"
   ]
  },
  {
   "cell_type": "code",
   "execution_count": null,
   "metadata": {
    "scrolled": true
   },
   "outputs": [],
   "source": [
    "sc.pp.normalize_total(adata_baseline, target_sum=1, inplace=True)\n",
    "adata_baseline.obs[\"T1_3_1\"]"
   ]
  },
  {
   "cell_type": "code",
   "execution_count": null,
   "metadata": {},
   "outputs": [],
   "source": [
    "## PCA analysis"
   ]
  },
  {
   "cell_type": "code",
   "execution_count": null,
   "metadata": {
    "scrolled": false
   },
   "outputs": [],
   "source": [
    "sc.tl.pca(adata_baseline, n_comps=10, svd_solver='arpack')\n",
    "sc.pl.pca(adata_baseline, color=['C0_3_1', 'sub_retinal_fluid_1', \n",
    "                         'fibrovascular_ped_1', 'fibrosis_1', \"rpe_1\", \"choroid_1\",\n",
    "                         'obs_va_6_improved', 'obs_va_12_improved', \"va_delta_6\", \"va_delta_12\"],\n",
    "          vmax='p85', vmin='p15')\n"
   ]
  },
  {
   "cell_type": "code",
   "execution_count": null,
   "metadata": {},
   "outputs": [],
   "source": [
    "## unsupervised learning on data"
   ]
  },
  {
   "cell_type": "code",
   "execution_count": null,
   "metadata": {},
   "outputs": [],
   "source": [
    "sc.pp.neighbors(adata_baseline, n_neighbors=20, n_pcs=10)\n",
    "sc.tl.umap(adata_baseline)\n",
    "\n",
    "import matplotlib.pyplot as plt\n",
    "plt.figure(figsize=(20,10))\n",
    "sc.pl.umap(adata_baseline, color=['C0_3_1', 'sub_retinal_fluid_1', \n",
    "                         'fibrovascular_ped_1', 'fibrosis_1', \"rpe_1\", \"choroid_1\",\n",
    "                         'obs_va_6_improved', 'obs_va_12_improved',\n",
    "                         \"va_delta_6\", \"va_delta_12\"], vmax='p85', vmin='p15')"
   ]
  },
  {
   "cell_type": "code",
   "execution_count": null,
   "metadata": {},
   "outputs": [],
   "source": [
    "adata_va_delta_filtered = adata[np.abs(adata_baseline.obs.va_delta_6) > 0.15]"
   ]
  },
  {
   "cell_type": "code",
   "execution_count": null,
   "metadata": {
    "scrolled": true
   },
   "outputs": [],
   "source": [
    "sc.pp.neighbors(adata_va_delta_filtered, n_neighbors=10, n_pcs=10)\n",
    "sc.tl.umap(adata_va_delta_filtered)\n",
    "\n",
    "import matplotlib.pyplot as plt\n",
    "plt.figure(figsize=(20,10))\n",
    "sc.pl.umap(adata_va_delta_filtered, color=['intra_retinal_fluid_1', 'sub_retinal_fluid_1', \n",
    "                         'fibrovascular_ped_1', 'fibrosis_1', \"rpe_1\", \"choroid_1\",\n",
    "                         'obs_va_6_improved', 'obs_va_12_improved',\n",
    "                         \"va_delta_6\", \"va_delta_12\"])"
   ]
  },
  {
   "cell_type": "markdown",
   "metadata": {},
   "source": [
    "### 6 month Adata"
   ]
  },
  {
   "cell_type": "code",
   "execution_count": null,
   "metadata": {},
   "outputs": [],
   "source": [
    "X_dict = {}\n",
    "for region in regions:\n",
    "    for feature in features:\n",
    "        var_ = f\"{region}_{feature}_{16}_delta\"\n",
    "        var_1 = f\"{region}_{feature}_{1}\"\n",
    "        var_6 = f\"{region}_{feature}_{6}\"\n",
    "\n",
    "        X_dict[var_] = data_pd[var_1].values - data_pd[var_6].values"
   ]
  },
  {
   "cell_type": "code",
   "execution_count": null,
   "metadata": {},
   "outputs": [],
   "source": [
    "delta_six_month_pd = pd.DataFrame(X_dict)\n",
    "\n",
    "var_names = delta_six_month_pd.columns.tolist()\n",
    "\n",
    "X = np.array(delta_six_month_pd[np.array(var_names)])\n",
    "\n",
    "adata_six_month = sc.AnnData(X=X)\n",
    "adata_six_month.var_names = var_names\n",
    "adata_six_month.obs = adata_baseline.obs"
   ]
  },
  {
   "cell_type": "code",
   "execution_count": null,
   "metadata": {},
   "outputs": [],
   "source": [
    "sc.pl.violin(adata_six_month, var_names, log=True)"
   ]
  },
  {
   "cell_type": "code",
   "execution_count": null,
   "metadata": {},
   "outputs": [],
   "source": [
    "sc.pp.normalize_total(adata_six_month, target_sum=1, inplace=True)"
   ]
  },
  {
   "cell_type": "code",
   "execution_count": null,
   "metadata": {},
   "outputs": [],
   "source": [
    "sc.tl.pca(adata_six_month, n_comps=10, svd_solver='arpack')\n",
    "sc.pl.pca(adata_six_month, color=['C0_3_1', 'sub_retinal_fluid_1', \n",
    "                         'fibrovascular_ped_1', 'fibrosis_1', \"rpe_1\", \"choroid_1\",\n",
    "                         'obs_va_6_improved', 'obs_va_12_improved', \"va_delta_6\", \"va_delta_12\"])\n"
   ]
  },
  {
   "cell_type": "code",
   "execution_count": null,
   "metadata": {},
   "outputs": [],
   "source": [
    "sc.pp.neighbors(adata_six_month, n_neighbors=20, n_pcs=10)\n",
    "sc.tl.umap(adata_six_month)\n",
    "\n",
    "import matplotlib.pyplot as plt\n",
    "plt.figure(figsize=(20,10))\n",
    "sc.pl.umap(adata_six_month, color=['C0_3_1', 'sub_retinal_fluid_1', \n",
    "                         'fibrovascular_ped_1', 'fibrosis_1', \"rpe_1\", \"choroid_1\",\n",
    "                         'obs_va_6_improved', 'obs_va_12_improved',\n",
    "                         \"va_delta_6\", \"va_delta_12\"])"
   ]
  },
  {
   "cell_type": "markdown",
   "metadata": {},
   "source": [
    "#### Define VA fate groups"
   ]
  },
  {
   "cell_type": "code",
   "execution_count": null,
   "metadata": {},
   "outputs": [],
   "source": [
    "#### Worsened v. Imporoved"
   ]
  },
  {
   "cell_type": "code",
   "execution_count": null,
   "metadata": {},
   "outputs": [],
   "source": [
    "data_6 = data_pd.loc[filter_6]\n",
    "data_12 = data_pd.loc[filter_12]"
   ]
  },
  {
   "cell_type": "code",
   "execution_count": null,
   "metadata": {},
   "outputs": [],
   "source": [
    "print(\"Number of patients in 6 month cohort:\", data_6.patient_id.drop_duplicates().shape[0])\n",
    "print(\"Number of patients in 12 month cohort:\", data_12.patient_id.drop_duplicates().shape[0])"
   ]
  },
  {
   "cell_type": "code",
   "execution_count": null,
   "metadata": {},
   "outputs": [],
   "source": [
    "va_delta_6 = data_6.cur_va_rounded_6 - data_6.cur_va_rounded_1 \n",
    "va_delta_12 = data_12.cur_va_rounded_12 - data_12.cur_va_rounded_1 \n",
    "\n",
    "data_6[\"six_month_recovery\"] = va_delta_6 <= 0\n",
    "data_12[\"twelwe_month_recovery\"] = va_delta_12 <= 0\n",
    "\n",
    "print(\"six month recovery: \", sum(data_6[\"six_month_recovery\"]))\n",
    "print(\"twelwe month recovery: \", sum(data_12[\"twelwe_month_recovery\"]))"
   ]
  },
  {
   "cell_type": "code",
   "execution_count": null,
   "metadata": {},
   "outputs": [],
   "source": [
    "#### Considerably worsened v. Imporoved"
   ]
  },
  {
   "cell_type": "code",
   "execution_count": null,
   "metadata": {},
   "outputs": [],
   "source": [
    "va_delta_6 = data_6.cur_va_rounded_6 - data_6.cur_va_rounded_1 \n",
    "va_delta_12 = data_12.cur_va_rounded_12 - data_12.cur_va_rounded_1 \n",
    "\n",
    "data_6[\"six_consid_month_recovery\"]= \"no change\"\n",
    "data_6[\"six_consid_month_recovery\"][va_delta_6 <= -0.15] = \"improved\"\n",
    "data_6[\"six_consid_month_recovery\"][va_delta_6 >= 0.15] = \"worsened\"\n",
    "\n",
    "data_12[\"twelwe_consid_month_recovery\"]= \"no change\"\n",
    "data_12[\"twelwe_consid_month_recovery\"][va_delta_12 <= -0.15] = \"improved\"\n",
    "data_12[\"twelwe_consid_month_recovery\"][va_delta_12 >= 0.15] = \"worsened\"\n",
    "\n",
    "print(np.unique(data_6[\"six_consid_month_recovery\"], return_counts=True))\n",
    "print(np.unique(data_12[\"twelwe_consid_month_recovery\"], return_counts=True))"
   ]
  },
  {
   "cell_type": "code",
   "execution_count": null,
   "metadata": {},
   "outputs": [],
   "source": [
    "### Improved from VI to NVI"
   ]
  },
  {
   "cell_type": "code",
   "execution_count": null,
   "metadata": {},
   "outputs": [],
   "source": [
    "vi6_1 = data_6.cur_va_rounded_1 >= 0.4 \n",
    "nvi_6 = data_6.cur_va_rounded_6 < 0.4\n",
    "\n",
    "vi12_1 = data_12.cur_va_rounded_1 >= 0.4 \n",
    "nvi_12 = data_12.cur_va_rounded_12 < 0.4 \n",
    "\n",
    "data_6[\"six_month_vi_recovery\"] = np.logical_and(vi6_1.values, nvi_6.values)\n",
    "data_12[\"twelwe_month_vi_recovery\"] = np.logical_and(vi12_1.values, nvi_12.values)\n",
    "\n",
    "print(\"six month vi recovery: \", sum(data_6[\"six_month_vi_recovery\"]))\n",
    "print(\"twelwe month vi recovery: \", sum(data_12[\"twelwe_month_vi_recovery\"]))"
   ]
  },
  {
   "cell_type": "code",
   "execution_count": null,
   "metadata": {},
   "outputs": [],
   "source": [
    "### Improved from LB to NLB"
   ]
  },
  {
   "cell_type": "code",
   "execution_count": null,
   "metadata": {},
   "outputs": [],
   "source": [
    "lb6_1 = data_6.cur_va_rounded_1 >= 1.0\n",
    "nlb_6 = data_6.cur_va_rounded_6 < 1.0 \n",
    "\n",
    "lb12_1 = data_12.cur_va_rounded_1 >= 1.0\n",
    "nlb_12 = data_12.cur_va_rounded_12 < 1.0 \n",
    "\n",
    "data_6[\"six_month_lb_recoverment\"] = np.logical_and(lb6_1.values, nlb_6.values)\n",
    "data_12[\"twelwe_month_lb_recoverment\"] = np.logical_and(lb12_1.values, nlb_12.values)\n",
    "\n",
    "print(\"six month lb recoverment: \", sum(data_6[\"six_month_lb_recoverment\"]))\n",
    "print(\"twelwe month lb recoverment: \", sum(data_12[\"twelwe_month_lb_recoverment\"]))\n"
   ]
  },
  {
   "cell_type": "markdown",
   "metadata": {},
   "source": [
    "## linear mixed effect modeling"
   ]
  },
  {
   "cell_type": "code",
   "execution_count": null,
   "metadata": {},
   "outputs": [],
   "source": [
    "data_6.columns.values\n",
    "\n",
    "data_6.six_month_recovery\n",
    "\n"
   ]
  },
  {
   "cell_type": "markdown",
   "metadata": {},
   "source": [
    "### VA outcome distribution plotting"
   ]
  },
  {
   "cell_type": "code",
   "execution_count": null,
   "metadata": {},
   "outputs": [],
   "source": [
    "import seaborn as sns\n",
    "import matplotlib.pyplot as plt\n",
    "import pandas as pd\n",
    "from sklearn import preprocessing\n",
    "sns.set_theme(style=\"whitegrid\")"
   ]
  },
  {
   "cell_type": "code",
   "execution_count": null,
   "metadata": {
    "scrolled": true
   },
   "outputs": [],
   "source": [
    "#### six month outcome\n",
    "value_columns = [\"intra_retinal_fluid_6\", \"sub_retinal_fluid_6\", \"fibrosis_6\", \n",
    "          \"fibrovascular_ped_6\", \"rpe_6\", \"epiretinal_membrane_6\"]\n",
    "\n",
    "for column in value_columns:\n",
    "    col_values = data_6[column].values\n",
    "    min_max_scaler = preprocessing.MinMaxScaler()\n",
    "    x_scaled = min_max_scaler.fit_transform(col_values.reshape(-1, 1))\n",
    "    data_6[column + \"_scaled\"] = x_scaled\n",
    "    \n",
    "    \n",
    "value_columns_scaled = [\"intra_retinal_fluid_6_scaled\", \n",
    "                        \"sub_retinal_fluid_6_scaled\", \"fibrosis_6_scaled\", \n",
    "                        \"fibrovascular_ped_6_scaled\", \"rpe_6_scaled\", \n",
    "                        \"epiretinal_membrane_6_scaled\"]\n",
    "\n",
    "\n",
    "data_6_plotting = pd.melt(data_6, id_vars=[\"six_month_recovery\"], value_vars=value_columns_scaled)\n",
    "\n",
    "data_6_plotting = data_6_plotting.loc[data_6_plotting.value.values != 1.000]\n",
    "\n",
    "plt.figure(figsize=(20,7))\n",
    "ax = sns.boxplot(x=\"variable\", y=\"value\", hue=\"six_month_recovery\",\n",
    "                 data=data_6_plotting, linewidth=2.5, showfliers=False)\n",
    "\n",
    "plt.xlabel(\"Feature\")\n",
    "plt.ylabel(\"Normalized feature distribution\")"
   ]
  },
  {
   "cell_type": "code",
   "execution_count": null,
   "metadata": {},
   "outputs": [],
   "source": [
    "#### 12 month outcome\n",
    "value_columns = [\"intra_retinal_fluid_12\", \"sub_retinal_fluid_12\", \"fibrosis_12\", \n",
    "          \"fibrovascular_ped_12\", \"rpe_12\", \"epiretinal_membrane_12\"]\n",
    "\n",
    "for column in value_columns:\n",
    "    col_values = data_12[column].values\n",
    "    min_max_scaler = preprocessing.MinMaxScaler()\n",
    "    x_scaled = min_max_scaler.fit_transform(col_values.reshape(-1, 1))\n",
    "    data_12[column + \"_scaled\"] = x_scaled\n",
    "    \n",
    "    \n",
    "value_columns_scaled = [\"intra_retinal_fluid_12_scaled\", \n",
    "                        \"sub_retinal_fluid_12_scaled\", \"fibrosis_12_scaled\", \n",
    "                        \"fibrovascular_ped_12_scaled\", \"rpe_12_scaled\", \n",
    "                        \"epiretinal_membrane_12_scaled\"]\n",
    "\n",
    "data_12_plotting = pd.melt(data_12, id_vars=[\"twelwe_month_recovery\"], value_vars=value_columns_scaled)\n",
    "\n",
    "plt.figure(figsize=(20,7))\n",
    "ax = sns.boxplot(x=\"variable\", y=\"value\", hue=\"twelwe_month_recovery\",\n",
    "                 data=data_12_plotting, linewidth=2.5, showfliers=False)"
   ]
  },
  {
   "cell_type": "code",
   "execution_count": null,
   "metadata": {},
   "outputs": [],
   "source": [
    "data_12.columns.values"
   ]
  },
  {
   "cell_type": "markdown",
   "metadata": {},
   "source": [
    "#### Plotting delta values"
   ]
  },
  {
   "cell_type": "code",
   "execution_count": null,
   "metadata": {},
   "outputs": [],
   "source": [
    "#### 6 month outcome\n",
    "value_columns = [\"intra_retinal_fluid_delta_6\", \"sub_retinal_fluid_delta_6\", \n",
    "          \"fibrovascular_ped_delta_6\", \"rpe_delta_6\", \"epiretinal_membrane_delta_6\"]\n",
    "\n",
    "for column in value_columns:\n",
    "    col_values = data_6[column].values\n",
    "    min_max_scaler = preprocessing.MinMaxScaler()\n",
    "    x_scaled = min_max_scaler.fit_transform(col_values.reshape(-1, 1))\n",
    "    data_6[column + \"_scaled\"] = x_scaled\n",
    "    \n",
    "    \n",
    "value_columns_scaled = [\"intra_retinal_fluid_delta_6_scaled\", \"sub_retinal_fluid_delta_6_scaled\", \n",
    "                        \"fibrovascular_ped_delta_6_scaled\", \n",
    "                        \"rpe_delta_6_scaled\", \"epiretinal_membrane_delta_6_scaled\"]\n",
    "\n",
    "data_6_plotting = pd.melt(data_6, id_vars=[\"six_month_recovery\"], value_vars=value_columns)\n",
    "\n",
    "plt.figure(figsize=(15,7))\n",
    "ax = sns.boxplot(x=\"variable\", y=\"value\", hue=\"six_month_recovery\",\n",
    "                 data=data_6_plotting, linewidth=2.5, showfliers=False)\n",
    "\n",
    "ax.set_xticks(range(6))\n",
    "ax.set_xticklabels([\"intra retinal fluid\", \"sub retinal fluid\", \"fibrovascular PED\", \n",
    "                    \"rpe\", \"epiretinal membrane\"])\n",
    "\n",
    "\n",
    "plt.title(\"6 month progression\")\n",
    "plt.xlabel(\"feature\")\n",
    "plt.ylabel(\"delta (mm3)\")\n"
   ]
  },
  {
   "cell_type": "code",
   "execution_count": null,
   "metadata": {},
   "outputs": [],
   "source": [
    "#### 12 month outcome\n",
    "value_columns = [\"intra_retinal_fluid_delta_12\", \"sub_retinal_fluid_delta_12\", \"fibrosis_delta_12\", \n",
    "          \"fibrovascular_ped_delta_12\", \"rpe_delta_12\", \"epiretinal_membrane_delta_12\"]\n",
    "\n",
    "for column in value_columns:\n",
    "    col_values = data_12[column].values\n",
    "    min_max_scaler = preprocessing.MinMaxScaler()\n",
    "    x_scaled = min_max_scaler.fit_transform(col_values.reshape(-1, 1))\n",
    "    data_12[column + \"_scaled\"] = x_scaled\n",
    "    \n",
    "    \n",
    "value_columns_scaled = [\"intra_retinal_fluid_delta_12_scaled\", \"sub_retinal_fluid_delta_12_scaled\", \n",
    "                        \"fibrosis_delta_12_scaled\", \"fibrovascular_ped_delta_12_scaled\", \n",
    "                        \"rpe_delta_12_scaled\", \"epiretinal_membrane_delta_12_scaled\"]\n",
    "\n",
    "data_12_plotting = pd.melt(data_12, id_vars=[\"twelwe_month_recovery\"], value_vars=value_columns)\n",
    "\n",
    "plt.figure(figsize=(15,7))\n",
    "ax = sns.boxplot(x=\"variable\", y=\"value\", hue=\"twelwe_month_recovery\",\n",
    "                 data=data_12_plotting, linewidth=2.5, showfliers=False)\n",
    "\n",
    "\n",
    "ax.set_xticks(range(6))\n",
    "ax.set_xticklabels([\"intra retinal fluid\", \"sub retinal fluid\", \"fibrosis\", \"fibrovascular PED\", \n",
    "                    \"rpe\", \"epiretinal membrane\"])\n",
    "\n",
    "plt.title(\"12 month progression\")\n",
    "plt.xlabel(\"feature\")\n",
    "plt.ylabel(\"delta (mm3)\")"
   ]
  },
  {
   "cell_type": "markdown",
   "metadata": {},
   "source": [
    "### Cases with considerable recovery or worsening"
   ]
  },
  {
   "cell_type": "code",
   "execution_count": null,
   "metadata": {},
   "outputs": [],
   "source": []
  },
  {
   "cell_type": "code",
   "execution_count": null,
   "metadata": {},
   "outputs": [],
   "source": [
    "print(np.unique(data_6[\"six_consid_month_recovery\"], return_counts=True))\n",
    "print(np.unique(data_12[\"twelwe_consid_month_recovery\"], return_counts=True))"
   ]
  },
  {
   "cell_type": "code",
   "execution_count": null,
   "metadata": {},
   "outputs": [],
   "source": [
    "#### 6 month outcome\n",
    "value_columns = [\"intra_retinal_fluid_delta_6\", \"sub_retinal_fluid_delta_6\", \"fibrosis_delta_6\", \n",
    "          \"fibrovascular_ped_delta_6\", \"rpe_delta_6\", \"epiretinal_membrane_delta_6\"]\n",
    "\n",
    "for column in value_columns:\n",
    "    col_values = data_6[column].values\n",
    "    min_max_scaler = preprocessing.MinMaxScaler()\n",
    "    x_scaled = min_max_scaler.fit_transform(col_values.reshape(-1, 1))\n",
    "    data_6[column + \"_scaled\"] = x_scaled\n",
    "    \n",
    "    \n",
    "value_columns_scaled = [\"intra_retinal_fluid_delta_6_scaled\", \"sub_retinal_fluid_delta_6_scaled\", \n",
    "                        \"fibrosis_delta_6_scaled\", \"fibrovascular_ped_delta_6_scaled\", \n",
    "                        \"rpe_delta_6_scaled\", \"epiretinal_membrane_delta_6_scaled\"]\n",
    "\n",
    "data_6_plotting = pd.melt(data_6, id_vars=[\"six_consid_month_recovery\"], value_vars=value_columns)\n",
    "\n",
    "plt.figure(figsize=(15,7))\n",
    "ax = sns.boxplot(x=\"variable\", y=\"value\", hue=\"six_consid_month_recovery\",\n",
    "                 data=data_6_plotting, linewidth=2.5, showfliers=False)\n",
    "\n",
    "ax.set_xticks(range(6))\n",
    "ax.set_xticklabels([\"intra retinal fluid\", \"sub retinal fluid\", \"fibrosis\", \"fibrovascular PED\", \n",
    "                    \"rpe\", \"epiretinal membrane\"])\n",
    "\n",
    "\n",
    "plt.title(\"6 month progression\")\n",
    "\n",
    "plt.xlabel(\"feature\")\n",
    "plt.ylabel(\"delta (mm3)\")\n"
   ]
  },
  {
   "cell_type": "code",
   "execution_count": null,
   "metadata": {},
   "outputs": [],
   "source": [
    "#### 12 month outcome\n",
    "value_columns = [\"intra_retinal_fluid_delta_12\", \"sub_retinal_fluid_delta_12\", \"fibrosis_delta_12\", \n",
    "          \"fibrovascular_ped_delta_12\", \"rpe_delta_12\", \"epiretinal_membrane_delta_12\"]\n",
    "\n",
    "for column in value_columns:\n",
    "    col_values = data_12[column].values\n",
    "    min_max_scaler = preprocessing.MinMaxScaler()\n",
    "    x_scaled = min_max_scaler.fit_transform(col_values.reshape(-1, 1))\n",
    "    data_12[column + \"_scaled\"] = x_scaled\n",
    "    \n",
    "    \n",
    "value_columns_scaled = [\"intra_retinal_fluid_delta_12_scaled\", \"sub_retinal_fluid_delta_12_scaled\", \n",
    "                        \"fibrosis_delta_12_scaled\", \"fibrovascular_ped_delta_12_scaled\", \n",
    "                        \"rpe_delta_12_scaled\", \"epiretinal_membrane_delta_12_scaled\"]\n",
    "\n",
    "data_12_plotting = pd.melt(data_12, id_vars=[\"twelwe_consid_month_recovery\"], value_vars=value_columns)\n",
    "\n",
    "plt.figure(figsize=(15,7))\n",
    "ax = sns.boxplot(x=\"variable\", y=\"value\", hue=\"twelwe_consid_month_recovery\",\n",
    "                 data=data_12_plotting, linewidth=2.5, showfliers=False)\n",
    "\n",
    "\n",
    "ax.set_xticks(range(6))\n",
    "ax.set_xticklabels([\"intra retinal fluid\", \"sub retinal fluid\", \"fibrosis\", \"fibrovascular PED\", \n",
    "                    \"rpe\", \"epiretinal membrane\"])\n",
    "\n",
    "plt.title(\"12 month progression\")\n",
    "plt.xlabel(\"feature\")\n",
    "plt.ylabel(\"delta (mm3)\")"
   ]
  }
 ],
 "metadata": {
  "kernelspec": {
   "display_name": "tf2_super",
   "language": "python",
   "name": "tf2_super"
  },
  "language_info": {
   "codemirror_mode": {
    "name": "ipython",
    "version": 3
   },
   "file_extension": ".py",
   "mimetype": "text/x-python",
   "name": "python",
   "nbconvert_exporter": "python",
   "pygments_lexer": "ipython3",
   "version": "3.6.12"
  }
 },
 "nbformat": 4,
 "nbformat_minor": 2
}
