{
 "cells": [
  {
   "cell_type": "code",
   "execution_count": 1,
   "metadata": {},
   "outputs": [
    {
     "name": "stdout",
     "output_type": "stream",
     "text": [
      "Warning: Cannot change to a different GUI toolkit: notebook. Using widget instead.\n",
      "Warning: Cannot change to a different GUI toolkit: tk. Using widget instead.\n"
     ]
    }
   ],
   "source": [
    "import os\n",
    "import numpy as np\n",
    "import scanpy as sc\n",
    "import pandas as pd\n",
    "import glob\n",
    "\n",
    "path = \"/home/olle/PycharmProjects/LODE/workspace/feature_statistics/cell_data\"\n",
    "\n",
    "cell_pd = pd.read_csv(os.path.join(path, \"feature_statistics.csv\"))"
   ]
  },
  {
   "cell_type": "code",
   "execution_count": 2,
   "metadata": {},
   "outputs": [],
   "source": [
    "# create adata object\n",
    "var_names = [\"0\", \"1\", \"2\", \"3\", \"4\", \"5\", \"6\", \"7\", \"8\", \"9\", \"10\", \"11\", \"12\", \"13\", \"14\", \"15\"]\n",
    "\n",
    "X = np.array(cell_pd[var_names])\n",
    "\n",
    "obs_id = cell_pd.id\n",
    "obs_cls = cell_pd.id.str.split(\"-\", expand=True)[0]\n",
    "\n",
    "\n",
    "adata = sc.AnnData(X=X)\n",
    "adata.obs[\"obs_id\"] = obs_id.values.tolist()\n",
    "adata.obs[\"obs_cls\"] = obs_cls.values.tolist()\n",
    "adata.var[\"var_name\"] = var_names"
   ]
  },
  {
   "cell_type": "code",
   "execution_count": null,
   "metadata": {},
   "outputs": [],
   "source": [
    "#### Add train test split to obs"
   ]
  },
  {
   "cell_type": "code",
   "execution_count": 3,
   "metadata": {},
   "outputs": [],
   "source": [
    "test_image_path = \"/home/olle/PycharmProjects/LODE/workspace/feature_statistics/cell_data/OCT2017/test\"\n",
    "\n",
    "test_ids_list = [i.split(\"/\")[-1] for i in glob.glob(test_image_path + \"/*/*\")]\n",
    "\n",
    "all_ids = pd.DataFrame(adata.obs[\"obs_id\"])\n",
    "test_ids = pd.DataFrame(test_ids_list)\n",
    "test_paths = pd.DataFrame([test_ids_list, glob.glob(test_image_path + \"/*/*\")]).T\n",
    "\n",
    "data_split_pd = pd.merge(all_ids, test_ids, left_on=\"obs_id\", right_on=0, how=\"left\")\n",
    "\n",
    "data_split_pd[\"split\"] = \"train\"\n",
    "data_split_pd[\"split\"][~data_split_pd[0].isna()] = \"test\"\n",
    "\n",
    "adata.obs[\"split\"] = data_split_pd.split.values.tolist()\n",
    "\n",
    "# create adata test object\n",
    "adata_test = adata[adata.obs.split == \"test\"]"
   ]
  },
  {
   "cell_type": "markdown",
   "metadata": {},
   "source": [
    "#### add image path to adata object"
   ]
  },
  {
   "cell_type": "code",
   "execution_count": 4,
   "metadata": {},
   "outputs": [
    {
     "name": "stderr",
     "output_type": "stream",
     "text": [
      "Trying to set attribute `.obs` of view, copying.\n"
     ]
    }
   ],
   "source": [
    "adata_test.obs[\"img_path\"] = test_image_path + \"/\" + adata_test.obs.obs_cls + \"/\" + adata_test.obs.obs_id"
   ]
  },
  {
   "cell_type": "markdown",
   "metadata": {},
   "source": [
    "### Preprocessing"
   ]
  },
  {
   "cell_type": "code",
   "execution_count": null,
   "metadata": {},
   "outputs": [],
   "source": [
    "# outlier filtering, remove any images with less 2 then 1000"
   ]
  },
  {
   "cell_type": "code",
   "execution_count": 6,
   "metadata": {},
   "outputs": [
    {
     "data": {
      "application/vnd.jupyter.widget-view+json": {
       "model_id": "97a77a332b9c4a2f91a559e3272d02fe",
       "version_major": 2,
       "version_minor": 0
      },
      "text/plain": [
       "Canvas(toolbar=Toolbar(toolitems=[('Home', 'Reset original view', 'home', 'home'), ('Back', 'Back to previous …"
      ]
     },
     "metadata": {},
     "output_type": "display_data"
    }
   ],
   "source": [
    "sc.pl.highest_expr_genes(adata_test, log=True)"
   ]
  },
  {
   "cell_type": "code",
   "execution_count": null,
   "metadata": {
    "scrolled": true
   },
   "outputs": [],
   "source": [
    "sc.pl.violin(adata_test, var_names, log=True)"
   ]
  },
  {
   "cell_type": "markdown",
   "metadata": {},
   "source": [
    "#### filter_data"
   ]
  },
  {
   "cell_type": "code",
   "execution_count": null,
   "metadata": {},
   "outputs": [],
   "source": [
    "adata = adata[adata.X[:, 2] > 1000]"
   ]
  },
  {
   "cell_type": "code",
   "execution_count": null,
   "metadata": {},
   "outputs": [],
   "source": [
    "# Log and norm data"
   ]
  },
  {
   "cell_type": "code",
   "execution_count": null,
   "metadata": {},
   "outputs": [],
   "source": [
    "sc.pp.log1p(adata_test)"
   ]
  },
  {
   "cell_type": "code",
   "execution_count": null,
   "metadata": {},
   "outputs": [],
   "source": [
    "sc.pp.highly_variable_genes(adata_test, min_mean=0.000125, max_mean=10000, min_disp=0.5)\n",
    "sc.pl.highly_variable_genes(adata_test)\n"
   ]
  },
  {
   "cell_type": "code",
   "execution_count": null,
   "metadata": {},
   "outputs": [],
   "source": [
    "sc.pp.scale(adata_test, max_value=10)\n"
   ]
  },
  {
   "cell_type": "code",
   "execution_count": null,
   "metadata": {},
   "outputs": [],
   "source": [
    "### PCA analysis"
   ]
  },
  {
   "cell_type": "code",
   "execution_count": null,
   "metadata": {},
   "outputs": [],
   "source": [
    "sc.tl.pca(adata_test,n_comps=10, svd_solver='arpack')\n"
   ]
  },
  {
   "cell_type": "code",
   "execution_count": null,
   "metadata": {
    "scrolled": true
   },
   "outputs": [],
   "source": [
    "sc.pl.pca(adata_test, color='obs_cls')\n"
   ]
  },
  {
   "cell_type": "code",
   "execution_count": null,
   "metadata": {
    "scrolled": true
   },
   "outputs": [],
   "source": [
    "sc.pl.pca_variance_ratio(adata_test, log=True)\n"
   ]
  },
  {
   "cell_type": "code",
   "execution_count": null,
   "metadata": {},
   "outputs": [],
   "source": [
    "##### compte neighbour hood graph"
   ]
  },
  {
   "cell_type": "code",
   "execution_count": null,
   "metadata": {},
   "outputs": [],
   "source": [
    "sc.pp.neighbors(adata_test, n_neighbors=100, n_pcs=40)\n",
    "sc.tl.umap(adata_test)"
   ]
  },
  {
   "cell_type": "code",
   "execution_count": null,
   "metadata": {
    "scrolled": true
   },
   "outputs": [],
   "source": [
    "import matplotlib.pyplot as plt\n",
    "plt.figure(figsize=(20,10))\n",
    "sc.pl.umap(adata_test, color=['obs_cls', \"1\", \"3\", \"4\", \"7\", \"5\", \"8\", \"9\", \"10\", \"13\"])"
   ]
  },
  {
   "cell_type": "code",
   "execution_count": null,
   "metadata": {},
   "outputs": [],
   "source": [
    "import numpy as np\n",
    "import matplotlib.pyplot as plt\n",
    "from matplotlib.offsetbox import OffsetImage, AnnotationBbox\n",
    "from matplotlib.cbook import get_sample_data\n",
    "import cv2\n",
    "import matplotlib.patches as mpatches\n",
    "%matplotlib widget\n",
    "\n",
    "\n",
    "def main(data):\n",
    "    x = data.obsm[\"X_umap\"][:, 0]\n",
    "    y = data.obsm[\"X_umap\"][:, 1]\n",
    "\n",
    "    color_map = {'NORMAL': 'tab:blue', 'DRUSEN': 'tab:green', \"CNV\": 'tab:orange', 'DME': 'tab:red'}\n",
    "\n",
    "    colors = [color_map[class_] for class_ in adata_test.obs.obs_cls.values.tolist()]\n",
    "    \n",
    "    fig, ax = plt.subplots(figsize=(20,10))\n",
    "    imscatter(x, y, data.obs.img_path.values.tolist(), zoom=0.05, ax=ax)\n",
    "    ax.scatter(x, y, c=colors)\n",
    "    plt.legend(np.unique(color_map.keys()))\n",
    "    \n",
    "    patches = []\n",
    "    for key in color_map.keys():\n",
    "        color = color_map[key]\n",
    "        patches.append(mpatches.Patch(color=color, label=key))\n",
    "    \n",
    "    plt.legend(handles=patches)\n",
    "    #plt.savefig(\"test.png\")\n",
    "    plt.show()\n",
    "\n",
    "def imscatter(x, y, image_path, ax=None, zoom=1):\n",
    "    if ax is None:\n",
    "        ax = plt.gca()\n",
    "    x, y = np.atleast_1d(x, y)\n",
    "    artists = []\n",
    "    iter_ = 0\n",
    "    for x0, y0 in zip(x, y):\n",
    "        if iter_ % 10 == 0:\n",
    "            image = plt.imread(image_path[iter_])\n",
    "            image = np.stack((image,) * 3, axis = -1)\n",
    "            im = OffsetImage(image, zoom=zoom)\n",
    "            ab = AnnotationBbox(im, (x0, y0), xycoords='data', frameon=False)\n",
    "            artists.append(ax.add_artist(ab))\n",
    "            \n",
    "        iter_ += 1\n",
    "    ax.update_datalim(np.column_stack([x, y]))\n",
    "    ax.autoscale()\n",
    "    return artists\n",
    "\n",
    "main(adata_test)"
   ]
  },
  {
   "cell_type": "code",
   "execution_count": null,
   "metadata": {},
   "outputs": [],
   "source": [
    "df = pd.read_csv(\n",
    "\"https://raw.githubusercontent.com/plotly/datasets/master/tips.csv\"\n",
    ")\n",
    "# Matplotlib Scatter Plot\n",
    "plt.scatter('total_bill', 'tip',data=df)\n",
    "plt.xlabel('Total Bill')\n",
    "plt.ylabel('Tip')\n",
    "plt.show()"
   ]
  },
  {
   "cell_type": "code",
   "execution_count": null,
   "metadata": {},
   "outputs": [],
   "source": [
    "color=['obs_cls', \"1\", \"3\", \"4\", \"7\", \"5\", \"8\", \"9\", \"13\"]"
   ]
  },
  {
   "cell_type": "code",
   "execution_count": null,
   "metadata": {},
   "outputs": [],
   "source": [
    "#### Clustering"
   ]
  },
  {
   "cell_type": "code",
   "execution_count": null,
   "metadata": {},
   "outputs": [],
   "source": [
    "sc.tl.leiden(adata_test)\n",
    "sc.tl.louvain(adata_test)\n",
    "sc.tl.paga(adata_test)"
   ]
  },
  {
   "cell_type": "code",
   "execution_count": null,
   "metadata": {},
   "outputs": [],
   "source": [
    "sc.pl.umap(adata, projection=\"2d\", color=['obs_cls'])"
   ]
  },
  {
   "cell_type": "code",
   "execution_count": null,
   "metadata": {},
   "outputs": [],
   "source": [
    "#### Feature expression significance"
   ]
  },
  {
   "cell_type": "code",
   "execution_count": null,
   "metadata": {},
   "outputs": [],
   "source": [
    "sc.tl.rank_genes_groups(adata, 'obs_cls', method='t-test')\n",
    "sc.pl.rank_genes_groups(adata, n_genes=25, sharey=False)"
   ]
  },
  {
   "cell_type": "code",
   "execution_count": null,
   "metadata": {},
   "outputs": [],
   "source": [
    "sc.pl.violin(adata, [\"3\", \"5\", \"13\"], groupby='obs_cls')\n"
   ]
  },
  {
   "cell_type": "code",
   "execution_count": null,
   "metadata": {
    "scrolled": true
   },
   "outputs": [],
   "source": [
    "sc.pl.violin(adata, [ \"7\", \"8\", \"9\"], groupby='obs_cls')"
   ]
  },
  {
   "cell_type": "code",
   "execution_count": null,
   "metadata": {},
   "outputs": [],
   "source": [
    "#### Self labeling"
   ]
  },
  {
   "cell_type": "code",
   "execution_count": null,
   "metadata": {},
   "outputs": [],
   "source": [
    "confusion_matrix = np.zeros((num_classes, num_classes))\n",
    "\n",
    "# For each class.\n",
    "for class_idx in range(num_classes):\n",
    "    # Consider 10 examples.\n",
    "    example_idxs = class_idx_to_test_idxs[class_idx][:10]\n",
    "    for y_test_idx in example_idxs:\n",
    "        # And count the classes of its near neighbours.\n",
    "        for nn_idx in near_neighbours[y_test_idx][:-1]:\n",
    "            nn_class_idx = y_test[nn_idx]\n",
    "            confusion_matrix[class_idx, nn_class_idx] += 1\n",
    "\n",
    "# Display a confusion matrix.\n",
    "labels = [\n",
    "    \"Airplane\",\n",
    "    \"Automobile\",\n",
    "    \"Bird\",\n",
    "    \"Cat\",\n",
    "    \"Deer\",\n",
    "    \"Dog\",\n",
    "    \"Frog\",\n",
    "    \"Horse\",\n",
    "    \"Ship\",\n",
    "    \"Truck\",\n",
    "]\n",
    "disp = ConfusionMatrixDisplay(confusion_matrix=confusion_matrix, display_labels=labels)\n",
    "disp.plot(include_values=True, cmap=\"viridis\", ax=None, xticks_rotation=\"vertical\")\n",
    "plt.show()"
   ]
  },
  {
   "cell_type": "code",
   "execution_count": null,
   "metadata": {},
   "outputs": [],
   "source": [
    "sc.pl.dotplot(adata, adata.var_names, groupby='obs_cls');"
   ]
  },
  {
   "cell_type": "code",
   "execution_count": null,
   "metadata": {},
   "outputs": [],
   "source": [
    "sc.pl.dotplot(adata, adata.var_names, groupby='leiden');"
   ]
  },
  {
   "cell_type": "code",
   "execution_count": null,
   "metadata": {},
   "outputs": [],
   "source": [
    "# normalize\n",
    "X_norm = sc.pp.normalize_total(adata, target_sum=1, inplace=False)['X']"
   ]
  },
  {
   "cell_type": "code",
   "execution_count": null,
   "metadata": {},
   "outputs": [],
   "source": [
    "X_norm.shape"
   ]
  }
 ],
 "metadata": {
  "kernelspec": {
   "display_name": "Python [conda env:root] *",
   "language": "python",
   "name": "conda-root-py"
  },
  "language_info": {
   "codemirror_mode": {
    "name": "ipython",
    "version": 3
   },
   "file_extension": ".py",
   "mimetype": "text/x-python",
   "name": "python",
   "nbconvert_exporter": "python",
   "pygments_lexer": "ipython3",
   "version": "3.7.4"
  }
 },
 "nbformat": 4,
 "nbformat_minor": 2
}
