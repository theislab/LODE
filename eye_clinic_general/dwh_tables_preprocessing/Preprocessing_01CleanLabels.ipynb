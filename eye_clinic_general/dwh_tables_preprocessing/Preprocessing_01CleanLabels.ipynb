{
 "cells": [
  {
   "cell_type": "markdown",
   "metadata": {},
   "source": [
    "#  Clean Labels\n",
    "Clean each label file individually\n",
    "- Reads dwh tables from `/storage/groups/ml01/datasets/raw/2018_LMUAugenklinik_niklas.koehler/dwh_tables`\n",
    "- Writes cleaned dwh tables to `/storage/groups/ml01/datasets/projects/20181610_eyeclinic_niklas.koehler/dwh_tables_cleaned`"
   ]
  },
  {
   "cell_type": "code",
   "execution_count": 3,
   "metadata": {},
   "outputs": [],
   "source": [
    "import os\n",
    "import pandas as pd\n",
    "from ipywidgets import interact, fixed\n",
    "import ipywidgets as widgets\n",
    "import matplotlib.pyplot as plt\n",
    "import numpy as np\n",
    "import re\n",
    "from glob import glob\n",
    "from datetime import datetime\n",
    "from pydicom import read_file\n",
    "from tqdm import tqdm_notebook as tqdm\n",
    "import imageio\n",
    "\n",
    "import sys\n",
    "sys.path.append('../../DeepRT/thickness_map_calculation')\n",
    "import dicom_table as dt"
   ]
  },
  {
   "cell_type": "code",
   "execution_count": 55,
   "metadata": {},
   "outputs": [],
   "source": [
    "#TODO 7.1. change to dwh_tables folder when cleanup is complete\n",
    "data_dir = '/storage/groups/ml01/datasets/raw/2018_LMUAugenklinik_niklas.koehler/dwh_tables_new'\n",
    "clean_data_dir = '/storage/groups/ml01/datasets/projects/20181610_eyeclinic_niklas.koehler/dwh_tables_cleaned'\n",
    "\n",
    "thickness_base_path = '/storage/groups/ml01/datasets/projects/20181610_eyeclinic_niklas.koehler/thickness_map_data'\n"
   ]
  },
  {
   "cell_type": "markdown",
   "metadata": {},
   "source": [
    "## Clean visus labels"
   ]
  },
  {
   "cell_type": "code",
   "execution_count": 5,
   "metadata": {},
   "outputs": [],
   "source": [
    "def to_logMAR(va):\n",
    "    # converts decimal va values to logMAR scale\n",
    "    try:\n",
    "        va = float(va)\n",
    "        if va == 0:\n",
    "            return np.inf\n",
    "        else:\n",
    "            return np.log10(1/va)\n",
    "    except ValueError:\n",
    "        return np.nan\n",
    "\n",
    "def get_visual_acuity(group):\n",
    "    # parses items in ordered group. If first value cannot be parsed, moves on to next value\n",
    "    for i, raw in enumerate(list(group.visual_acuity_raw)):\n",
    "        va = parse_visual_acuity(raw)\n",
    "        if va is not None:\n",
    "            res = list(group.iloc[i])\n",
    "            res.append(va)\n",
    "            return res\n",
    "    return None\n",
    "\n",
    "def parse_visual_acuity(raw):\n",
    "    if pd.isna(raw):\n",
    "        return None\n",
    "    \n",
    "    # match range of two comma/dot separated values\n",
    "    m = re.match(r'.*(\\d+)[,\\.](\\d+)[ -]+(\\d+)[,\\.](\\d+).*$', raw)\n",
    "    if m:\n",
    "        return np.mean([float('{}.{}'.format(m.group(1), m.group(2))), \n",
    "                       float('{}.{}'.format(m.group(3), m.group(4)))])\n",
    "    \n",
    "    # match comma/dot separated value, allowing comma, space, \"sc\" as first character\n",
    "    m = re.match(r'[ ,\\.a-zA-Z]*([\\do]+)[\\., ]+(\\d+).*$', raw)\n",
    "    if m:\n",
    "        return float('{}.{}'.format(m.group(1).replace('o', '0'), m.group(2)))\n",
    "    \n",
    "    # match two integer values separated with /, allowing space, \"sc, HT\" as first character\n",
    "    m = re.match(r'[ a-zA-Z:]*(\\d+)[ /]+(\\d+)[a-zA-Z \\.]*$', raw)\n",
    "    if m:\n",
    "        return int(m.group(1))/float(m.group(2))\n",
    "        \n",
    "    # match HBW\n",
    "    if re.match(r'.*[hH]\\.*[bB]\\.*[wW]*\\.*', raw):\n",
    "        return 'HBW'\n",
    "    # match FZ\n",
    "    if re.match(r'[fF]\\.*[zZ]\\.*', raw):\n",
    "        return 'FZ'\n",
    "    # match Lilo\n",
    "    if re.match(r'li(cht){0,1}(lo(kal){0,1}){0,1}', raw, flags=re.IGNORECASE):\n",
    "        return 'LILO'\n",
    "    # match Nulla LUX\n",
    "    if re.match(r'(n[ulla]*|kein)\\.* *l([ux\\.]*|[icht]*)', raw, flags=re.IGNORECASE):        \n",
    "        return 'NL'\n",
    "    # match FIX\n",
    "    if re.match(r'fix.*', raw, flags=re.IGNORECASE):\n",
    "        return 'FIX'\n",
    "    # match LUX\n",
    "    if re.match(r'.*lux.*', raw, flags=re.IGNORECASE):  \n",
    "        return 'LUX'\n",
    "    return None"
   ]
  },
  {
   "cell_type": "code",
   "execution_count": 6,
   "metadata": {},
   "outputs": [
    {
     "name": "stdout",
     "output_type": "stream",
     "text": [
      "Starting with 843608 measurements\n",
      "Dropped 24139 exact duplicates\n",
      "Resolving 199177 duplicate measurements per time point\n"
     ]
    }
   ],
   "source": [
    "visus_labels = pd.read_csv(os.path.join(data_dir, 'visus_labels.csv'), index_col=0)\n",
    "print('Starting with {} measurements'.format(len(visus_labels)))\n",
    "\n",
    "# rename columns\n",
    "visus_labels.rename(columns={'AUGE': 'laterality_raw', 'MEASUREMENT_DATE':'study_date', 'PATNR':'patient_id',\n",
    "                            'visual_acuity_VISUS': 'visual_acuity_raw', 'ORIGIN_TYPE': 'visual_acuity_origin'}, inplace=True)\n",
    "# format columns \n",
    "visus_labels.study_date = pd.to_datetime(visus_labels.study_date)\n",
    "visus_labels.visual_acuity_origin = pd.Categorical(visus_labels.visual_acuity_origin,\n",
    "                                                   ['SR', 'OR', 'CC', 'STP', 'SC'])\n",
    "\n",
    "# duplicate entries for laterality=='B'\n",
    "visus_labels['laterality'] = visus_labels['laterality_raw']\n",
    "visus_labels.loc[visus_labels['laterality_raw'] == 'B', 'laterality'] = 'L'\n",
    "visus_R = visus_labels.loc[visus_labels['laterality_raw'] == 'B'].copy().assign(laterality='R')\n",
    "visus_labels = visus_labels.append(visus_R, ignore_index=True)\n",
    "\n",
    "# get rid of exact duplicates\n",
    "num_raw = visus_labels.shape[0]\n",
    "visus_labels = visus_labels.drop_duplicates(keep='first')\n",
    "num_raw_nodup = visus_labels.shape[0]\n",
    "print('Dropped {} exact duplicates'.format(num_raw-num_raw_nodup))\n",
    "\n",
    "# take care of duplicate measurements per time point\n",
    "num_dups = sum(visus_labels.duplicated(['study_date', 'patient_id', 'laterality']))\n",
    "print('Resolving {} duplicate measurements per time point'.format(num_dups))\n",
    "\n",
    "# group by duplicate measurements\n",
    "groups = visus_labels.groupby(['patient_id', 'laterality', 'study_date'])\n",
    "keys = groups.groups.keys()"
   ]
  },
  {
   "cell_type": "code",
   "execution_count": 7,
   "metadata": {},
   "outputs": [
    {
     "name": "stdout",
     "output_type": "stream",
     "text": [
      "Before visual acuity parsing: 620829 unique time/patient/laterality measurements\n"
     ]
    },
    {
     "data": {
      "application/vnd.jupyter.widget-view+json": {
       "model_id": "9c77b98a28f148c198b1ae0d1d61f1c0",
       "version_major": 2,
       "version_minor": 0
      },
      "text/plain": [
       "HBox(children=(IntProgress(value=0, max=620829), HTML(value='')))"
      ]
     },
     "metadata": {},
     "output_type": "display_data"
    },
    {
     "name": "stdout",
     "output_type": "stream",
     "text": [
      "\n",
      "Number of cleaned measurements 618989\n"
     ]
    }
   ],
   "source": [
    "print('Before visual acuity parsing: {} unique time/patient/laterality measurements'.format(len(keys)))\n",
    "\n",
    "rows = []\n",
    "for key in tqdm(keys):\n",
    "    # sort values to ensure that correct VA value is taken \n",
    "    grp = groups.get_group(key).sort_values('visual_acuity_origin')\n",
    "    res = get_visual_acuity(grp)\n",
    "    if res is not None:\n",
    "        rows.append(res)\n",
    "        \n",
    "visus_labels_clean = pd.DataFrame.from_records(rows, columns=['patient_id', 'visual_acuity_raw', 'laterality_raw', 'study_date', 'visual_acuity_origin', 'laterality', 'visual_acuity'])\n",
    "print('Number of cleaned measurements {}'.format(visus_labels_clean.shape[0]))"
   ]
  },
  {
   "cell_type": "code",
   "execution_count": 8,
   "metadata": {},
   "outputs": [],
   "source": [
    "# add logMAR_raw column (unmapped, no string values)\n",
    "visus_labels_clean['logMAR_raw'] = visus_labels_clean.visual_acuity.apply(to_logMAR)"
   ]
  },
  {
   "cell_type": "code",
   "execution_count": 14,
   "metadata": {},
   "outputs": [
    {
     "name": "stdout",
     "output_type": "stream",
     "text": [
      "[-inf,-0.4):\t7\n",
      "[-0.4,-0.2):\t805\n",
      "[-0.2,0.0):\t13335\n",
      "[0.0,0.2):\t265585\n",
      "[0.2,0.4):\t175052\n",
      "[0.4,0.6):\t26873\n",
      "[0.6,0.8):\t39794\n",
      "[0.8,1.0):\t5582\n",
      "[1.0,1.2):\t26546\n",
      "[1.2,1.4):\t15527\n",
      "[1.4,1.6):\t7626\n",
      "[1.6,1.8):\t3016\n",
      "[1.8,2.0):\t367\n",
      "[2.0,10.0):\t54\n",
      "[10.0,inf]:\t17\n",
      "FZ:\t\t6317\n",
      "HBW:\t\t16613\n",
      "FIX:\t\t1071\n",
      "LILO:\t\t6\n",
      "LUX:\t\t2388\n",
      "NL:\t\t2933\n"
     ]
    }
   ],
   "source": [
    "va_num = visus_labels_clean['logMAR_raw']\n",
    "va_str = visus_labels_clean['visual_acuity_raw']\n",
    "\n",
    "# print frequency of logMAR values and strings\n",
    "nums, bins = np.histogram(va_num, bins=np.concatenate([[-np.inf], np.arange(-0.4,2.1,0.2), [10, np.inf]]))\n",
    "for i, num in enumerate(nums[:-1]):\n",
    "    print('[{:.1f},{:.1f}):\\t{}'.format(bins[i], bins[i+1], nums[i]))\n",
    "print('[{:.1f},{:.1f}]:\\t{}'.format(bins[-2], bins[-1], nums[-1]))\n",
    "\n",
    "for s in ['FZ', 'HBW', 'FIX', 'LILO', 'LUX', 'NL']:\n",
    "    print('{}:\\t\\t{}'.format(s, sum(va_str==s)))"
   ]
  },
  {
   "cell_type": "markdown",
   "metadata": {},
   "source": [
    "map logMAR and string values:\n",
    "- logMAR < -0.3 gets mapped to -0.3\n",
    "- logMAR == inf gets mapped to value for NL (va 0 means blind!)\n",
    "- logMAR > 2.0 gets mapped to 2.0\n",
    "- FZ (count fingers) gets mapped to 2.2\n",
    "- HBW gets mapped to 2.4\n",
    "- FIX/LILO gets mapped to 2.6\n",
    "- LUX gets mapped to 2.8\n",
    "- NL gets mapped to 3.0"
   ]
  },
  {
   "cell_type": "code",
   "execution_count": 15,
   "metadata": {},
   "outputs": [],
   "source": [
    "visus_labels_clean['logMAR'] = visus_labels_clean.logMAR_raw\n",
    "# mapping logMAR values\n",
    "visus_labels_clean.loc[visus_labels_clean.logMAR_raw<-0.3, 'logMAR'] = -0.3\n",
    "visus_labels_clean.loc[visus_labels_clean.logMAR_raw>2.0, 'logMAR'] = 2.0\n",
    "visus_labels_clean.loc[visus_labels_clean.logMAR_raw==np.inf, 'logMAR'] = 3.0\n",
    "# string values\n",
    "visus_labels_clean.loc[visus_labels_clean.visual_acuity=='FZ', 'logMAR'] = 2.2\n",
    "visus_labels_clean.loc[visus_labels_clean.visual_acuity=='HBW', 'logMAR'] = 2.4\n",
    "visus_labels_clean.loc[visus_labels_clean.visual_acuity=='FIX', 'logMAR'] = 2.6\n",
    "visus_labels_clean.loc[visus_labels_clean.visual_acuity=='LILO', 'logMAR'] = 2.6\n",
    "visus_labels_clean.loc[visus_labels_clean.visual_acuity=='LUX', 'logMAR'] = 2.8\n",
    "visus_labels_clean.loc[visus_labels_clean.visual_acuity=='NL', 'logMAR'] = 3.0"
   ]
  },
  {
   "cell_type": "code",
   "execution_count": 16,
   "metadata": {},
   "outputs": [
    {
     "name": "stdout",
     "output_type": "stream",
     "text": [
      "[-inf,-0.401):\t0\n",
      "[-0.401,-0.201):\t812\n",
      "[-0.201,-0.001):\t13335\n",
      "[-0.001,0.199):\t265585\n",
      "[0.199,0.399):\t175052\n",
      "[0.399,0.599):\t26873\n",
      "[0.599,0.799):\t39794\n",
      "[0.799,0.999):\t5582\n",
      "[0.999,1.199):\t26546\n",
      "[1.199,1.399):\t15527\n",
      "[1.399,1.599):\t7626\n",
      "[1.599,1.799):\t3016\n",
      "[1.799,1.999):\t331\n",
      "[1.999,2.199):\t90\n",
      "[2.199,2.399):\t6418\n",
      "[2.399,2.599):\t18480\n",
      "[2.599,2.799):\t4135\n",
      "[2.799,2.999):\t4665\n",
      "[2.999,inf]:\t5122\n"
     ]
    }
   ],
   "source": [
    "# print frequency of logMAR values and strings\n",
    "nums, bins = np.histogram(visus_labels_clean.logMAR, bins=np.concatenate([[-np.inf], np.arange(-0.401,3.1,0.2), [np.inf]]))\n",
    "for i, num in enumerate(nums[:-1]):\n",
    "    print('[{:.3f},{:.3f}):\\t{}'.format(bins[i], bins[i+1], nums[i]))\n",
    "print('[{:.3f},{:.3f}]:\\t{}'.format(bins[-2], bins[-1], nums[-1]))\n"
   ]
  },
  {
   "cell_type": "code",
   "execution_count": 17,
   "metadata": {},
   "outputs": [],
   "source": [
    "# save cleaned table\n",
    "visus_labels_clean.to_csv(os.path.join(clean_data_dir, 'visus_labels_clean.csv'))"
   ]
  },
  {
   "cell_type": "markdown",
   "metadata": {},
   "source": [
    "## Diagnoses"
   ]
  },
  {
   "cell_type": "code",
   "execution_count": 18,
   "metadata": {},
   "outputs": [
    {
     "name": "stderr",
     "output_type": "stream",
     "text": [
      "/home/icb/hannah.spitzer/miniconda3/envs/lode/lib/python3.7/site-packages/numpy/lib/arraysetops.py:568: FutureWarning: elementwise comparison failed; returning scalar instead, but in the future will perform elementwise comparison\n",
      "  mask |= (ar1 == a)\n"
     ]
    },
    {
     "name": "stdout",
     "output_type": "stream",
     "text": [
      "Starting with 1820324 measurements\n",
      "Starting with 892118 diagnoses of eye diseases\n",
      "After removing duplicates: 818650 diagnoses\n"
     ]
    }
   ],
   "source": [
    "diagnosis = pd.read_csv(os.path.join(data_dir, 'diagnosis.csv'), index_col=0)\n",
    "print('Starting with {} measurements'.format(len(diagnosis)))\n",
    "\n",
    "# rename columns\n",
    "diagnosis.rename(columns={'LOK': 'laterality_raw', 'DAT':'study_date', 'PATNR':'patient_id', 'DKAT':'DKAT', 'DKEY':'diagnosis'}, inplace=True)\n",
    "# format columns \n",
    "diagnosis.study_date = pd.to_datetime(diagnosis.study_date)\n",
    "diagnosis.diagnosis = diagnosis.diagnosis.astype('str')\n",
    "# remove non-eye related diagnoses\n",
    "diagnosis['category'] = diagnosis.diagnosis.apply(lambda x: x[0])\n",
    "diagnosis = diagnosis[diagnosis.category == 'H']  # TODO need to include 'E' as well for diabetic retinopathy\n",
    "print('Starting with {} diagnoses of eye diseases'.format(len(diagnosis)))\n",
    "\n",
    "# removing duplicates\n",
    "diagnosis = diagnosis.drop_duplicates()\n",
    "print('After removing duplicates: {} diagnoses'.format(len(diagnosis)))\n",
    "\n",
    "# todo drop nan laterality diagnoses? \n",
    "# put duplicate diagnoses in list"
   ]
  },
  {
   "cell_type": "code",
   "execution_count": 19,
   "metadata": {},
   "outputs": [],
   "source": [
    "# load descriptions of diagnoses\n",
    "diagnosis_code = pd.read_csv(os.path.join(clean_data_dir, 'icd10cm_order_2018.txt'), sep='\\t', header=None)\n",
    "\n",
    "codes = []\n",
    "desc = []\n",
    "for i in range(len(diagnosis_code)):\n",
    "    code = diagnosis_code[0][i]\n",
    "    codes.append(code[6:14].strip())\n",
    "    desc.append(code[16:77].strip())\n",
    "    \n",
    "diagnosis_code['diagnosis'] = codes\n",
    "diagnosis_code['description'] = desc\n",
    "diagnosis_code = diagnosis_code[['diagnosis', 'description']]   "
   ]
  },
  {
   "cell_type": "code",
   "execution_count": 20,
   "metadata": {},
   "outputs": [],
   "source": [
    "# statistics\n",
    "diag = list(diagnosis['diagnosis'])\n",
    "diag_cl = []\n",
    "for d in diag:\n",
    "    if len(re.findall(r'H\\d\\d\\.\\d', d)) > 0:\n",
    "        diag_cl.append(d)\n",
    "        \n",
    "unique, counts = np.unique(diag_cl, return_counts=True)\n",
    "\n",
    "# sort by frequency\n",
    "unique_sorted = [x for _,x in sorted(zip(counts,unique), reverse=True)]\n",
    "counts_sorted = sorted(counts, reverse=True)"
   ]
  },
  {
   "cell_type": "code",
   "execution_count": 21,
   "metadata": {},
   "outputs": [
    {
     "name": "stdout",
     "output_type": "stream",
     "text": [
      "80700: H35.3: Degeneration of macula and posterior pole\n",
      "28009: H33.0: Retinal detachment with retinal break\n",
      "26062: H25.8: Other age-related cataract\n",
      "25241: H40.1: Open-angle glaucoma\n",
      "22187: H35.8: Other specified retinal disorders\n",
      "20276: H52.1: Myopia\n",
      "18298: H25.1: Age-related nuclear cataract\n",
      "17109: H52.0: Hypermetropia\n",
      "16506: H34.8: Other retinal vascular occlusions\n",
      "15888: H00.0: Hordeolum (externum) (internum) of eyelid\n",
      "15794: H16.0: Corneal ulcer\n",
      "15221: H26.9: Unspecified cataract\n",
      "14285: H50.0: Esotropia\n",
      "12024: H16.1: Other and unsp superficial keratitis without conjunctivitis\n",
      "11883: H52.2: Astigmatism\n",
      "10851: H04.1: Other disorders of lacrimal gland\n",
      "10809: H10.0: Mucopurulent conjunctivitis\n",
      "10601: H36.0: \n",
      "10226: H43.1: Vitreous hemorrhage\n",
      "10047: H47.2: Optic atrophy\n"
     ]
    }
   ],
   "source": [
    "for i in range(20):\n",
    "    desc = diagnosis_code[diagnosis_code.diagnosis==unique_sorted[i].replace('.','')].description\n",
    "    try:\n",
    "        desc = desc.iloc[0]\n",
    "    except IndexError:\n",
    "        desc = ''\n",
    "    print('{}: {}: {}'.format(counts_sorted[i], unique_sorted[i], desc))\n",
    "    "
   ]
  },
  {
   "cell_type": "code",
   "execution_count": 22,
   "metadata": {},
   "outputs": [
    {
     "data": {
      "text/plain": [
       "(0, 200)"
      ]
     },
     "execution_count": 22,
     "metadata": {},
     "output_type": "execute_result"
    },
    {
     "data": {
      "image/png": "[encoded data removed]",
      "text/plain": [
       "<Figure size 432x288 with 1 Axes>"
      ]
     },
     "metadata": {
      "needs_background": "light"
     },
     "output_type": "display_data"
    }
   ],
   "source": [
    "plt.plot(range(len(counts_sorted)), [int(u) for u in counts_sorted])\n",
    "plt.xlim(0,200)"
   ]
  },
  {
   "cell_type": "markdown",
   "metadata": {},
   "source": [
    "## Process new confirmed diagnoses from Karsten"
   ]
  },
  {
   "cell_type": "code",
   "execution_count": 31,
   "metadata": {},
   "outputs": [
    {
     "name": "stdout",
     "output_type": "stream",
     "text": [
      "Starting with 1770 measurements\n",
      "Have 1770 longitudinal eyes, 1196 of which have diagnosis AMD, and 248 have DR\n"
     ]
    }
   ],
   "source": [
    "diagnosis_left = pd.read_csv(os.path.join(data_dir, 'longitudinal_patients_left_eye.csv'), index_col=0)\n",
    "diagnosis_right = pd.read_csv(os.path.join(data_dir, 'longitudinal_patients_right_eye.csv'), index_col=0)\n",
    "diagnosis = diagnosis_left.append(diagnosis_right, ignore_index=True)\n",
    "print('Starting with {} measurements'.format(len(diagnosis)))\n",
    "\n",
    "# rename columns\n",
    "diagnosis.rename(columns={'EYE': 'laterality_raw', 'Karsten':'diagnosis_raw', 'pseudo_id':'patient_id', 'IOL':'iol_date'}, inplace=True)\n",
    "# format columns \n",
    "diagnosis.iol_date = pd.to_datetime(diagnosis.iol_date)\n",
    "diagnosis.diagnosis_raw.loc[diagnosis.diagnosis_raw.isna()] = diagnosis.DIAGNOSE1.loc[diagnosis.diagnosis_raw.isna()]\n",
    "diagnosis['laterality'] = diagnosis.laterality_raw.str.upper()\n",
    "# add diagnosis column (only containing AMD and DR diagnosis for now)\n",
    "diagnosis['diagnosis'] = np.nan\n",
    "diagnosis.diagnosis.loc[diagnosis.diagnosis_raw.apply(lambda x: 'AMD' in x)] = 'AMD'\n",
    "diagnosis.diagnosis.loc[diagnosis.diagnosis_raw.apply(lambda x: 'Diabetisches' in x)] = 'DR'\n",
    "\n",
    "#diagnosis.diagnosis = diagnosis.diagnosis.astype('str')\n",
    "\n",
    "print('Have {} longitudinal eyes, {} of which have diagnosis AMD, and {} have DR'.format(\n",
    "    len(diagnosis), \n",
    "    (diagnosis.diagnosis == 'AMD').sum(), \n",
    "    (diagnosis.diagnosis == 'DR').sum()))\n"
   ]
  },
  {
   "cell_type": "code",
   "execution_count": 32,
   "metadata": {},
   "outputs": [],
   "source": [
    "# save cleaned table\n",
    "diagnosis.to_csv(os.path.join(clean_data_dir, 'diagnosis_longitudinal_clean.csv'))"
   ]
  },
  {
   "cell_type": "markdown",
   "metadata": {},
   "source": [
    "## Injections"
   ]
  },
  {
   "cell_type": "code",
   "execution_count": 33,
   "metadata": {},
   "outputs": [
    {
     "name": "stdout",
     "output_type": "stream",
     "text": [
      "Dropped 2559 exact duplicates\n",
      "Dropped 209 nan MED values\n",
      "Remaining: 38 with 2 or more medications per time point\n"
     ]
    }
   ],
   "source": [
    "medications = pd.read_csv(os.path.join(data_dir, 'medications.csv'), index_col=0)\n",
    "\n",
    "# rename columns\n",
    "medications.rename(columns={'AUGE': 'laterality_raw', 'DAT':'study_date', 'PATNR':'patient_id', 'FALNR': 'MED_FALNR'}, inplace=True)\n",
    "# format columns \n",
    "medications.study_date = pd.to_datetime(medications.study_date)\n",
    "\n",
    "# duplicate entries for laterality=='B'\n",
    "medications['laterality_raw'].fillna('B', inplace=True)\n",
    "medications['laterality'] = medications['laterality_raw']\n",
    "medications.loc[medications['laterality_raw'] == 'B', 'laterality'] = 'L'\n",
    "medications_R = medications.loc[medications['laterality_raw'] == 'B'].copy().assign(laterality='R')\n",
    "medications = medications.append(medications_R, ignore_index=True)\n",
    "\n",
    "# get rid of exact duplicates (excluding FALNR)\n",
    "num_raw = medications.shape[0]\n",
    "medications = medications.drop_duplicates(['patient_id', 'study_date', 'MED', 'laterality'], keep='first')\n",
    "num_raw_nodup = medications.shape[0]\n",
    "print('Dropped {} exact duplicates'.format(num_raw-num_raw_nodup))\n",
    "\n",
    "# get rid of NaN MED values\n",
    "medications = medications.dropna(subset=['MED'])\n",
    "print('Dropped {} nan MED values'.format(num_raw_nodup-medications.shape[0]))\n",
    "\n",
    "# remaining: several medications at one time\n",
    "num_dups = sum(medications.duplicated(['study_date', 'patient_id', 'laterality']))\n",
    "print('Remaining: {} with 2 or more medications per time point'.format(num_dups))"
   ]
  },
  {
   "cell_type": "code",
   "execution_count": 34,
   "metadata": {},
   "outputs": [
    {
     "name": "stdout",
     "output_type": "stream",
     "text": [
      "Saved 5735 injections\n"
     ]
    }
   ],
   "source": [
    "# save cleaned table - as injections\n",
    "medications.to_csv(os.path.join(clean_data_dir, 'injections_clean.csv'))\n",
    "print('Saved {} injections'.format(len(medications)))"
   ]
  },
  {
   "cell_type": "markdown",
   "metadata": {},
   "source": [
    "## Other procedures"
   ]
  },
  {
   "cell_type": "code",
   "execution_count": 35,
   "metadata": {},
   "outputs": [
    {
     "name": "stdout",
     "output_type": "stream",
     "text": [
      "Dropped 88885 exact duplicates\n",
      "Resolving 650526 duplicate measurements per time point\n",
      "Number of filtered procedures 278009\n"
     ]
    },
    {
     "name": "stderr",
     "output_type": "stream",
     "text": [
      "/home/icb/hannah.spitzer/miniconda3/envs/lode/lib/python3.7/site-packages/pandas/core/generic.py:5208: SettingWithCopyWarning: \n",
      "A value is trying to be set on a copy of a slice from a DataFrame.\n",
      "Try using .loc[row_indexer,col_indexer] = value instead\n",
      "\n",
      "See the caveats in the documentation: http://pandas.pydata.org/pandas-docs/stable/user_guide/indexing.html#returning-a-view-versus-a-copy\n",
      "  self[name] = value\n"
     ]
    }
   ],
   "source": [
    "procedures = pd.read_csv(os.path.join(data_dir, 'prozeduren.csv'), index_col=0)\n",
    "\n",
    "# rename columns\n",
    "procedures.rename(columns={'LOK': 'laterality_raw', 'DAT':'study_date', 'PATNR':'patient_id'}, inplace=True)\n",
    "# format columns \n",
    "procedures.study_date = pd.to_datetime(procedures.study_date)\n",
    "\n",
    "# duplicate entries for laterality=='B'\n",
    "procedures['laterality_raw'].fillna('B', inplace=True)\n",
    "procedures['laterality'] = procedures['laterality_raw']\n",
    "procedures.loc[procedures['laterality_raw'] == 'B', 'laterality'] = 'L'\n",
    "procedures_R = procedures.loc[procedures['laterality_raw'] == 'B'].copy().assign(laterality='R')\n",
    "procedures = procedures.append(procedures_R, ignore_index=True)\n",
    "\n",
    "# get rid of exact duplicates\n",
    "num_raw = procedures.shape[0]\n",
    "procedures = procedures.drop_duplicates(keep='first')\n",
    "num_raw_nodup = procedures.shape[0]\n",
    "print('Dropped {} exact duplicates'.format(num_raw-num_raw_nodup))\n",
    "\n",
    "# take care of duplicate measurements per time point\n",
    "num_dups = sum(procedures.duplicated(['study_date', 'patient_id', 'laterality']))\n",
    "print('Resolving {} duplicate measurements per time point'.format(num_dups))\n",
    "\n",
    "# remove everything not in chapter 5 08-16 (surgeries of the eye)\n",
    "procedures_filtered = procedures[procedures.ICPML.apply(lambda x: x[:4] in ['5-08','5-09','5-10','5-11','5-12','5-13','5-14','5-15','5-16'])]\n",
    "# reduce code to 3 decimals\n",
    "procedures_filtered.ICPML = procedures_filtered.loc[:,'ICPML'].apply(lambda x: x[:5])\n",
    "print('Number of filtered procedures {}'.format(len(procedures_filtered)))"
   ]
  },
  {
   "cell_type": "code",
   "execution_count": 36,
   "metadata": {},
   "outputs": [
    {
     "name": "stdout",
     "output_type": "stream",
     "text": [
      "5-156 61071\n",
      "5-154 45647\n",
      "5-144 35915\n",
      "5-158 30014\n",
      "5-159 13158\n",
      "5-155 11505\n",
      "5-091 6836\n",
      "5-10K 6130\n",
      "5-142 4759\n",
      "5-152 4559\n",
      "5-139 4349\n",
      "5-096 3456\n",
      "5-094 2862\n",
      "5-093 2859\n",
      "5-097 2778\n",
      "5-132 2674\n",
      "5-125 2187\n",
      "5-131 2115\n",
      "5-129 1941\n",
      "5-112 1885\n"
     ]
    },
    {
     "data": {
      "text/plain": [
       "(0, 50)"
      ]
     },
     "execution_count": 36,
     "metadata": {},
     "output_type": "execute_result"
    },
    {
     "data": {
      "image/png": "[encoded data removed]",
      "text/plain": [
       "<Figure size 432x288 with 1 Axes>"
      ]
     },
     "metadata": {
      "needs_background": "light"
     },
     "output_type": "display_data"
    }
   ],
   "source": [
    "# list most common procedures\n",
    "unique, counts = np.unique(list(procedures_filtered.ICPML), return_counts=True)\n",
    "unqiue = [u for _,u in sorted(zip(counts, unique), reverse=True)]\n",
    "counts = sorted(counts, reverse=True)\n",
    "\n",
    "for i in range(20):\n",
    "    print(unqiue[i], counts[i])\n",
    "    \n",
    "plt.plot(range(len(counts)), [int(u) for u in counts])\n",
    "plt.xlim(0,50)"
   ]
  },
  {
   "cell_type": "markdown",
   "metadata": {},
   "source": [
    "codes with highest occurrence:\n",
    "- 5-984 nicht relevant\n",
    "- 5-156.9 - Injektionen\n",
    "- 5-154 - Netzhautfixierung\n",
    "- 5-144 - Extrakapsuläre Extraktion der Linse\n",
    "- 5-158 - Vitrektomie\n",
    "- 5-985 - Lasertechnik, nicht relevant\n",
    "- 5-159 - Vitrektomie\n",
    "- 5-155 - Destruktion von erkranktem Gewebe an Retina und Choroidea\n",
    "- 5-010 - nicht relevant\n",
    "- 5-091 - Exzision und Destruktion von (erkranktem) Gewebe des Augenlides, nicht relevant?"
   ]
  },
  {
   "cell_type": "code",
   "execution_count": 37,
   "metadata": {},
   "outputs": [
    {
     "name": "stdout",
     "output_type": "stream",
     "text": [
      "Saved 278009 procedures\n"
     ]
    }
   ],
   "source": [
    "# save procedures - not quite clean\n",
    "procedures_filtered.to_csv(os.path.join(clean_data_dir, 'procedures_clean.csv'))\n",
    "print('Saved {} procedures'.format(len(procedures_filtered)))"
   ]
  },
  {
   "cell_type": "markdown",
   "metadata": {},
   "source": [
    "## Get OCT and fundus maps\n",
    "### OCTs"
   ]
  },
  {
   "cell_type": "code",
   "execution_count": 38,
   "metadata": {},
   "outputs": [
    {
     "data": {
      "application/vnd.jupyter.widget-view+json": {
       "model_id": "6b6e725df8c8429cb306064d147ceca0",
       "version_major": 2,
       "version_minor": 0
      },
      "text/plain": [
       "HBox(children=(IntProgress(value=0, max=171104), HTML(value='')))"
      ]
     },
     "metadata": {},
     "output_type": "display_data"
    },
    {
     "name": "stdout",
     "output_type": "stream",
     "text": [
      "\n",
      "Have 139208 oct paths (31896 could not be parsed)\n"
     ]
    }
   ],
   "source": [
    "oct_files = pd.read_csv(os.path.join(data_dir, '../oct_paths.csv'), names=['oct_path'])\n",
    "\n",
    "paths = np.array(oct_files.oct_path)\n",
    "patient_ids = []\n",
    "lateralities = []\n",
    "study_dates = []\n",
    "oct_paths = []\n",
    "failures = 0\n",
    "for p in tqdm(paths):\n",
    "    try:\n",
    "        patid = re.match(r'.*Scanner/(\\d{1,6})/.*', p).group(1)\n",
    "        date = re.match(r'.*/(\\d{8})/[\\d\\.]+.*', p).group(1) # excluding Non Standard Format folders here!\n",
    "        lat = re.match(r'.*(Left|Right).*', p).group(1)\n",
    "    except AttributeError:\n",
    "        failures += 1\n",
    "        continue\n",
    "    patient_ids.append(int(patid))\n",
    "    lateralities.append('R' if lat == 'Right' else 'L')\n",
    "    study_dates.append(datetime.strptime(date, '%Y%m%d'))\n",
    "    oct_paths.append(p)\n",
    "    \n",
    "print('Have {} oct paths ({} could not be parsed)'.format(len(patient_ids), failures))\n",
    "octs = pd.DataFrame({'patient_id': patient_ids, 'laterality': lateralities, \n",
    "                     'study_date': study_dates, 'oct_path': oct_paths})\n",
    "\n"
   ]
  },
  {
   "cell_type": "markdown",
   "metadata": {},
   "source": [
    "### Fundus maps"
   ]
  },
  {
   "cell_type": "code",
   "execution_count": 39,
   "metadata": {},
   "outputs": [
    {
     "data": {
      "application/vnd.jupyter.widget-view+json": {
       "model_id": "3d24d68ef2634f93b05b4b5cb8586ea1",
       "version_major": 2,
       "version_minor": 0
      },
      "text/plain": [
       "HBox(children=(IntProgress(value=0, max=234360), HTML(value='')))"
      ]
     },
     "metadata": {},
     "output_type": "display_data"
    },
    {
     "name": "stdout",
     "output_type": "stream",
     "text": [
      "\n",
      "Have 234187 fundus paths (173 could not be parsed)\n"
     ]
    }
   ],
   "source": [
    "fundus_files = pd.read_csv(os.path.join(data_dir, '../fundus_paths.csv'), names=['fundus_path'])\n",
    "\n",
    "paths = np.array(fundus_files.fundus_path)\n",
    "patient_ids = []\n",
    "lateralities = []\n",
    "study_dates = []\n",
    "fundus_paths = []\n",
    "failures = 0\n",
    "for p in tqdm(paths):\n",
    "    if os.path.splitext(p)[-1] != '.dcm':\n",
    "        continue\n",
    "    try:\n",
    "        patid = re.match(r'.*Ophthalmoscope/(\\d{1,6})/.*', p).group(1)\n",
    "        date = re.match(r'.*/(\\d{8})/[\\d\\.]+.*', p).group(1) # excluding Non Standard Format folders here!\n",
    "        lat = re.match(r'.*(Left|Right).*', p).group(1)\n",
    "    except AttributeError:\n",
    "        failures += 1\n",
    "        continue\n",
    "    patient_ids.append(int(patid))\n",
    "    lateralities.append('R' if lat == 'Right' else 'L')\n",
    "    study_dates.append(datetime.strptime(date, '%Y%m%d'))\n",
    "    fundus_paths.append(p)\n",
    "    \n",
    "print('Have {} fundus paths ({} could not be parsed)'.format(len(patient_ids), failures))\n",
    "fundus = pd.DataFrame({'patient_id': patient_ids, 'laterality': lateralities, \n",
    "                     'study_date': study_dates, 'fundus_path': fundus_paths})"
   ]
  },
  {
   "cell_type": "markdown",
   "metadata": {},
   "source": [
    "### Find matching fundus image for each OCT\n",
    "1. match by patient_id, laterality, study_date, img_id (from pathname)\n",
    "2. where this match is not possible, match by aquisition datetime"
   ]
  },
  {
   "cell_type": "code",
   "execution_count": 40,
   "metadata": {},
   "outputs": [],
   "source": [
    "# get image id for octs and fundus images\n",
    "octs['img_id'] = octs.oct_path.apply(lambda x: re.findall(r'\\.(\\d{11}\\.\\d+)\\.', x)[0])\n",
    "fundus['img_id'] = fundus.fundus_path.apply(lambda x: re.findall(r'\\.(\\d{11}\\.\\d+)\\.', x)[0])"
   ]
  },
  {
   "cell_type": "code",
   "execution_count": 41,
   "metadata": {},
   "outputs": [
    {
     "name": "stdout",
     "output_type": "stream",
     "text": [
      "Merged 168352 fundus images to 137299 octs, resulting in 135513 matches (1786 octs could not be matched)\n"
     ]
    }
   ],
   "source": [
    "# match non-duplicates by image id\n",
    "idx_cols = ['patient_id', 'laterality', 'study_date', 'img_id']\n",
    "octs_dup_mask = octs.duplicated(idx_cols, keep=False)\n",
    "octs_nodup = octs[~octs_dup_mask]\n",
    "\n",
    "fundus_dup_mask = fundus.duplicated(idx_cols, keep=False)\n",
    "fundus_nodup = fundus[~fundus_dup_mask]\n",
    "\n",
    "octs_merged_nodup = pd.merge(octs_nodup, fundus_nodup, how='left', on=idx_cols)\n",
    "num_nomatch = len(octs_merged_nodup[octs_merged_nodup.fundus_path.isna()])\n",
    "print('Merged {} fundus images to {} octs, resulting in {} matches ({} octs could not be matched)'.format(len(fundus_nodup), len(octs_nodup), len(octs_nodup)-num_nomatch, num_nomatch))"
   ]
  },
  {
   "cell_type": "code",
   "execution_count": 42,
   "metadata": {},
   "outputs": [
    {
     "name": "stdout",
     "output_type": "stream",
     "text": [
      "Identified 3695 octs and 4311 fundus images that remain to be matched\n"
     ]
    },
    {
     "name": "stderr",
     "output_type": "stream",
     "text": [
      "/home/icb/hannah.spitzer/miniconda3/envs/lode/lib/python3.7/site-packages/pandas/core/frame.py:7123: FutureWarning: Sorting because non-concatenation axis is not aligned. A future version\n",
      "of pandas will change to not sort by default.\n",
      "\n",
      "To accept the future behavior, pass 'sort=False'.\n",
      "\n",
      "To retain the current behavior and silence the warning, pass 'sort=True'.\n",
      "\n",
      "  sort=sort,\n"
     ]
    }
   ],
   "source": [
    "# get not yet matched octs\n",
    "cols = ['patient_id', 'laterality', 'study_date', 'img_id', 'oct_path']\n",
    "octs_to_merge = octs_merged_nodup[octs_merged_nodup.fundus_path.isna()][cols]\n",
    "octs_to_merge = octs_to_merge.append(octs[octs_dup_mask], ignore_index=True)\n",
    "\n",
    "# potential corresponding fundus images\n",
    "cols = ['patient_id', 'laterality', 'study_date', 'img_id', 'fundus_path']\n",
    "fundus_to_merge = pd.merge(octs_to_merge, fundus, how='inner', on=idx_cols)[cols]\n",
    "fundus_to_merge = fundus_to_merge.drop_duplicates()\n",
    "\n",
    "print('Identified {} octs and {} fundus images that remain to be matched'.format(len(octs_to_merge), len(fundus_to_merge)))"
   ]
  },
  {
   "cell_type": "code",
   "execution_count": 43,
   "metadata": {},
   "outputs": [
    {
     "name": "stdout",
     "output_type": "stream",
     "text": [
      "Getting acquisition time for octs\n"
     ]
    },
    {
     "data": {
      "application/vnd.jupyter.widget-view+json": {
       "model_id": "97a1528c224c4176936080515fec07d1",
       "version_major": 2,
       "version_minor": 0
      },
      "text/plain": [
       "HBox(children=(IntProgress(value=0, max=3695), HTML(value='')))"
      ]
     },
     "metadata": {},
     "output_type": "display_data"
    },
    {
     "name": "stdout",
     "output_type": "stream",
     "text": [
      "\n",
      "Getting acquisition time for fundus images\n"
     ]
    },
    {
     "data": {
      "application/vnd.jupyter.widget-view+json": {
       "model_id": "adf0f64bc6fc4789a35fed81c85a04ba",
       "version_major": 2,
       "version_minor": 0
      },
      "text/plain": [
       "HBox(children=(IntProgress(value=0, max=4311), HTML(value='')))"
      ]
     },
     "metadata": {},
     "output_type": "display_data"
    },
    {
     "name": "stdout",
     "output_type": "stream",
     "text": [
      "\n"
     ]
    }
   ],
   "source": [
    "# get acquisition time\n",
    "print('Getting acquisition time for octs')\n",
    "oct_dt = []\n",
    "for p in tqdm(octs_to_merge.oct_path):\n",
    "    oct_dt.append(read_file(p).AcquisitionDateTime)\n",
    "octs_to_merge['datetime'] = oct_dt\n",
    "\n",
    "print('Getting acquisition time for fundus images')\n",
    "fun_dt = []\n",
    "for p in tqdm(fundus_to_merge.fundus_path):\n",
    "    fun_dt.append(read_file(p).AcquisitionDateTime)\n",
    "fundus_to_merge['datetime'] = fun_dt"
   ]
  },
  {
   "cell_type": "code",
   "execution_count": 44,
   "metadata": {},
   "outputs": [
    {
     "name": "stdout",
     "output_type": "stream",
     "text": [
      "Merged 4311 fundus images to 3695 octs, resulting in 1402 matches (2197 octs could not be matched)\n",
      "potential unique OCTs before 2306 and after 520\n"
     ]
    }
   ],
   "source": [
    "# merge on shortened datetime\n",
    "fundus_to_merge['datetime_short'] = fundus_to_merge.datetime.apply(lambda x: x.split('.')[0])\n",
    "octs_to_merge['datetime_short'] = octs_to_merge.datetime.apply(lambda x: x.split('.')[0])\n",
    "\n",
    "# only consider non-duplicates\n",
    "idx_cols = ['patient_id', 'laterality', 'study_date', 'img_id', 'datetime_short']\n",
    "octs_to_merge_nodup = octs_to_merge[~octs_to_merge.duplicated(idx_cols, keep=False)]\n",
    "fundus_to_merge_nodup = fundus_to_merge[~fundus_to_merge.duplicated(idx_cols, keep=False)]\n",
    "\n",
    "# do the merge\n",
    "octs_merged_datetime = pd.merge(octs_to_merge_nodup, fundus_to_merge_nodup, how='left', on=idx_cols)\n",
    "num_nomatch = len(octs_merged_datetime[octs_merged_datetime.fundus_path.isna()])\n",
    "print('Merged {} fundus images to {} octs, resulting in {} matches ({} octs could not be matched)'.format(\n",
    "    len(fundus_to_merge), len(octs_to_merge), len(octs_merged_datetime)-num_nomatch, num_nomatch))\n",
    "\n",
    "num_unique_before = len(octs_to_merge[~octs_to_merge.duplicated(['patient_id', 'laterality', 'study_date'])])\n",
    "num_unique_after = len(octs_merged_datetime[~octs_merged_datetime.fundus_path.isna() & ~octs_merged_datetime.duplicated(['patient_id', 'laterality', 'study_date'])])\n",
    "print('potential unique OCTs before {} and after {}'.format(num_unique_before, num_unique_after))"
   ]
  },
  {
   "cell_type": "code",
   "execution_count": 45,
   "metadata": {},
   "outputs": [
    {
     "name": "stdout",
     "output_type": "stream",
     "text": [
      "Result of matching fundus to octs: 136915 matches (of formerly 139208 octs)\n"
     ]
    }
   ],
   "source": [
    "# combine merged octs\n",
    "cols = ['patient_id', 'laterality', 'study_date', 'oct_path', 'fundus_path']\n",
    "octs_merged = octs_merged_nodup[~octs_merged_nodup.fundus_path.isna()][cols].append(octs_merged_datetime[cols], ignore_index=True)\n",
    "\n",
    "print('Result of matching fundus to octs: {} matches (of formerly {} octs)'.format(len(octs_merged[~octs_merged.fundus_path.isna()]), len(octs)))"
   ]
  },
  {
   "cell_type": "code",
   "execution_count": 46,
   "metadata": {},
   "outputs": [],
   "source": [
    "# save cleaned table\n",
    "octs_merged.to_csv(os.path.join(clean_data_dir, 'octs_fundus_with_dups.csv'))"
   ]
  },
  {
   "cell_type": "markdown",
   "metadata": {},
   "source": [
    "### explore OCTs"
   ]
  },
  {
   "cell_type": "code",
   "execution_count": 47,
   "metadata": {},
   "outputs": [],
   "source": [
    "def show_oct_slice(data_table, slice_no=24):\n",
    "    plt.figure()\n",
    "    plt.imshow(data_table.pixel_array[slice_no])\n",
    "    \n",
    "def interactive_show_oct_slice(data_table):\n",
    "    interact(show_oct_slice, \n",
    "             slice_no=widgets.IntSlider(min=0, max=48, step=1, value=24), \n",
    "             data_table=fixed(data_table))\n",
    "    \n",
    "def get_oct_data(d):\n",
    "    x_starts = []\n",
    "    y_starts = []\n",
    "    x_ends = []\n",
    "    y_ends = []\n",
    "    for i in range(0, len(d.PerFrameFunctionalGroupsSequence)):    \n",
    "        y_starts.append(d.PerFrameFunctionalGroupsSequence[i].OphthalmicFrameLocationSequence[0].ReferenceCoordinates[0] )\n",
    "        x_starts.append(d.PerFrameFunctionalGroupsSequence[i].OphthalmicFrameLocationSequence[0].ReferenceCoordinates[1] )\n",
    "        y_ends.append(d.PerFrameFunctionalGroupsSequence[i].OphthalmicFrameLocationSequence[0].ReferenceCoordinates[2] )\n",
    "        x_ends.append(d.PerFrameFunctionalGroupsSequence[i].OphthalmicFrameLocationSequence[0].ReferenceCoordinates[3] )\n",
    "    return y_starts, x_starts, y_ends, x_ends\n"
   ]
  },
  {
   "cell_type": "markdown",
   "metadata": {},
   "source": [
    "#### duplicate OCTs\n",
    "- some are unreadable, or have the wrong format\n",
    "- of the duplicates, often one will be of the optical nerve and the other of the macula"
   ]
  },
  {
   "cell_type": "code",
   "execution_count": 48,
   "metadata": {},
   "outputs": [
    {
     "name": "stdout",
     "output_type": "stream",
     "text": [
      "Have 5170 duplicated octs\n"
     ]
    }
   ],
   "source": [
    "octs_merged_nona = octs_merged.dropna()\n",
    "\n",
    "idx_cols = ['patient_id', 'laterality', 'study_date']\n",
    "print('Have {} duplicated octs'.format(sum(octs_merged_nona.duplicated(idx_cols))))\n",
    "\n",
    "dup_octs = octs_merged_nona[octs_merged_nona.duplicated(idx_cols, keep=False)]\n",
    "octs_grouped = dup_octs.groupby(idx_cols)\n",
    "oct_keys = octs_grouped.groups.keys()\n"
   ]
  },
  {
   "cell_type": "code",
   "execution_count": 49,
   "metadata": {},
   "outputs": [
    {
     "data": {
      "image/png": "[encoded data removed]",
      "text/plain": [
       "<Figure size 432x288 with 2 Axes>"
      ]
     },
     "metadata": {
      "needs_background": "light"
     },
     "output_type": "display_data"
    },
    {
     "data": {
      "application/vnd.jupyter.widget-view+json": {
       "model_id": "83fce357f6104fe2a42db17f525e09eb",
       "version_major": 2,
       "version_minor": 0
      },
      "text/plain": [
       "interactive(children=(IntSlider(value=24, description='slice_no', max=48), Output()), _dom_classes=('widget-in…"
      ]
     },
     "metadata": {},
     "output_type": "display_data"
    },
    {
     "data": {
      "application/vnd.jupyter.widget-view+json": {
       "model_id": "483577f1a5274607970e76c5a18b6ad1",
       "version_major": 2,
       "version_minor": 0
      },
      "text/plain": [
       "interactive(children=(IntSlider(value=24, description='slice_no', max=48), Output()), _dom_classes=('widget-in…"
      ]
     },
     "metadata": {},
     "output_type": "display_data"
    }
   ],
   "source": [
    "# show exemplary octs and fundus images\n",
    "i=12\n",
    "cur_octs = octs_grouped.get_group(list(oct_keys)[i])\n",
    "\n",
    "fig, axes = plt.subplots(1, len(cur_octs))\n",
    "for i, ax in enumerate(axes):\n",
    "    f = read_file(cur_octs.iloc[i].fundus_path)\n",
    "    y_starts, x_starts, y_ends, x_ends = get_oct_data(read_file(cur_octs.iloc[i].oct_path))\n",
    "    for i in range(len(x_starts)):\n",
    "        ax.plot([x_starts[i],x_ends[i]],[y_starts[i], y_ends[i]], 'w')\n",
    "    ax.imshow(f.pixel_array)\n",
    "for i in range(len(cur_octs)):\n",
    "    f = read_file(cur_octs.iloc[i].oct_path)\n",
    "    interactive_show_oct_slice(f)"
   ]
  },
  {
   "cell_type": "markdown",
   "metadata": {},
   "source": [
    "#### non duplicate OCTs\n",
    "are they mostly of the macula? or are there also some of the optic nerve?\n",
    "- seem to be macular octs only\n",
    "- need to identify macular oct amongst duplicates"
   ]
  },
  {
   "cell_type": "code",
   "execution_count": 50,
   "metadata": {},
   "outputs": [
    {
     "name": "stdout",
     "output_type": "stream",
     "text": [
      "Have 127279 non-duplicated octs\n"
     ]
    }
   ],
   "source": [
    "nodup_octs = octs_merged_nona.drop_duplicates(idx_cols, keep=False)\n",
    "print('Have {} non-duplicated octs'.format(len(nodup_octs)))"
   ]
  },
  {
   "cell_type": "code",
   "execution_count": 51,
   "metadata": {},
   "outputs": [
    {
     "name": "stdout",
     "output_type": "stream",
     "text": [
      "37366\n"
     ]
    },
    {
     "data": {
      "image/png": "[encoded data removed]",
      "text/plain": [
       "<Figure size 432x288 with 1 Axes>"
      ]
     },
     "metadata": {
      "needs_background": "light"
     },
     "output_type": "display_data"
    },
    {
     "data": {
      "application/vnd.jupyter.widget-view+json": {
       "model_id": "0ff52588aac148309c83efe3a8b9cb7f",
       "version_major": 2,
       "version_minor": 0
      },
      "text/plain": [
       "interactive(children=(IntSlider(value=24, description='slice_no', max=48), Output()), _dom_classes=('widget-in…"
      ]
     },
     "metadata": {},
     "output_type": "display_data"
    }
   ],
   "source": [
    "# show exemplary octs and fundus images\n",
    "i=np.random.randint(0,len(nodup_octs))\n",
    "print(i)\n",
    "cur = nodup_octs.iloc[i]\n",
    "\n",
    "f = read_file(cur.fundus_path)\n",
    "d = read_file(cur.oct_path)\n",
    "y_starts, x_starts, y_ends, x_ends = get_oct_data(d)\n",
    "for i in range(len(x_starts)):\n",
    "    plt.plot([x_starts[i],x_ends[i]],[y_starts[i], y_ends[i]], 'w')\n",
    "plt.imshow(f.pixel_array)\n",
    "plt.show()\n",
    "interactive_show_oct_slice(d)"
   ]
  },
  {
   "cell_type": "markdown",
   "metadata": {},
   "source": [
    "### deal with duplicate octs\n",
    "... by throwing them out\n",
    "- in the future, might need to come back to this and do sth more advanced"
   ]
  },
  {
   "cell_type": "code",
   "execution_count": 57,
   "metadata": {},
   "outputs": [
    {
     "data": {
      "text/html": [
       "<div>\n",
       "<style scoped>\n",
       "    .dataframe tbody tr th:only-of-type {\n",
       "        vertical-align: middle;\n",
       "    }\n",
       "\n",
       "    .dataframe tbody tr th {\n",
       "        vertical-align: top;\n",
       "    }\n",
       "\n",
       "    .dataframe thead th {\n",
       "        text-align: right;\n",
       "    }\n",
       "</style>\n",
       "<table border=\"1\" class=\"dataframe\">\n",
       "  <thead>\n",
       "    <tr style=\"text-align: right;\">\n",
       "      <th></th>\n",
       "      <th>patient_id</th>\n",
       "      <th>laterality</th>\n",
       "      <th>study_date</th>\n",
       "      <th>oct_path</th>\n",
       "      <th>fundus_path</th>\n",
       "    </tr>\n",
       "  </thead>\n",
       "  <tbody>\n",
       "    <tr>\n",
       "      <td>0</td>\n",
       "      <td>363979</td>\n",
       "      <td>R</td>\n",
       "      <td>2018-01-29</td>\n",
       "      <td>/storage/groups/ml01/datasets/raw/2018_LMUAuge...</td>\n",
       "      <td>/storage/groups/ml01/datasets/raw/2018_LMUAuge...</td>\n",
       "    </tr>\n",
       "    <tr>\n",
       "      <td>1</td>\n",
       "      <td>363979</td>\n",
       "      <td>L</td>\n",
       "      <td>2018-01-29</td>\n",
       "      <td>/storage/groups/ml01/datasets/raw/2018_LMUAuge...</td>\n",
       "      <td>/storage/groups/ml01/datasets/raw/2018_LMUAuge...</td>\n",
       "    </tr>\n",
       "    <tr>\n",
       "      <td>2</td>\n",
       "      <td>350569</td>\n",
       "      <td>R</td>\n",
       "      <td>2017-03-06</td>\n",
       "      <td>/storage/groups/ml01/datasets/raw/2018_LMUAuge...</td>\n",
       "      <td>/storage/groups/ml01/datasets/raw/2018_LMUAuge...</td>\n",
       "    </tr>\n",
       "    <tr>\n",
       "      <td>3</td>\n",
       "      <td>350569</td>\n",
       "      <td>L</td>\n",
       "      <td>2017-03-06</td>\n",
       "      <td>/storage/groups/ml01/datasets/raw/2018_LMUAuge...</td>\n",
       "      <td>/storage/groups/ml01/datasets/raw/2018_LMUAuge...</td>\n",
       "    </tr>\n",
       "    <tr>\n",
       "      <td>4</td>\n",
       "      <td>185669</td>\n",
       "      <td>L</td>\n",
       "      <td>2014-12-09</td>\n",
       "      <td>/storage/groups/ml01/datasets/raw/2018_LMUAuge...</td>\n",
       "      <td>/storage/groups/ml01/datasets/raw/2018_LMUAuge...</td>\n",
       "    </tr>\n",
       "    <tr>\n",
       "      <td>...</td>\n",
       "      <td>...</td>\n",
       "      <td>...</td>\n",
       "      <td>...</td>\n",
       "      <td>...</td>\n",
       "      <td>...</td>\n",
       "    </tr>\n",
       "    <tr>\n",
       "      <td>139049</td>\n",
       "      <td>96384</td>\n",
       "      <td>L</td>\n",
       "      <td>2015-09-28</td>\n",
       "      <td>/storage/groups/ml01/datasets/raw/2018_LMUAuge...</td>\n",
       "      <td>/storage/groups/ml01/datasets/raw/2018_LMUAuge...</td>\n",
       "    </tr>\n",
       "    <tr>\n",
       "      <td>139052</td>\n",
       "      <td>96384</td>\n",
       "      <td>R</td>\n",
       "      <td>2015-09-28</td>\n",
       "      <td>/storage/groups/ml01/datasets/raw/2018_LMUAuge...</td>\n",
       "      <td>/storage/groups/ml01/datasets/raw/2018_LMUAuge...</td>\n",
       "    </tr>\n",
       "    <tr>\n",
       "      <td>139058</td>\n",
       "      <td>337056</td>\n",
       "      <td>L</td>\n",
       "      <td>2016-04-22</td>\n",
       "      <td>/storage/groups/ml01/datasets/raw/2018_LMUAuge...</td>\n",
       "      <td>/storage/groups/ml01/datasets/raw/2018_LMUAuge...</td>\n",
       "    </tr>\n",
       "    <tr>\n",
       "      <td>139066</td>\n",
       "      <td>320217</td>\n",
       "      <td>L</td>\n",
       "      <td>2017-09-18</td>\n",
       "      <td>/storage/groups/ml01/datasets/raw/2018_LMUAuge...</td>\n",
       "      <td>/storage/groups/ml01/datasets/raw/2018_LMUAuge...</td>\n",
       "    </tr>\n",
       "    <tr>\n",
       "      <td>139072</td>\n",
       "      <td>320217</td>\n",
       "      <td>L</td>\n",
       "      <td>2018-03-20</td>\n",
       "      <td>/storage/groups/ml01/datasets/raw/2018_LMUAuge...</td>\n",
       "      <td>/storage/groups/ml01/datasets/raw/2018_LMUAuge...</td>\n",
       "    </tr>\n",
       "  </tbody>\n",
       "</table>\n",
       "<p>127279 rows × 5 columns</p>\n",
       "</div>"
      ],
      "text/plain": [
       "        patient_id laterality study_date  \\\n",
       "0           363979          R 2018-01-29   \n",
       "1           363979          L 2018-01-29   \n",
       "2           350569          R 2017-03-06   \n",
       "3           350569          L 2017-03-06   \n",
       "4           185669          L 2014-12-09   \n",
       "...            ...        ...        ...   \n",
       "139049       96384          L 2015-09-28   \n",
       "139052       96384          R 2015-09-28   \n",
       "139058      337056          L 2016-04-22   \n",
       "139066      320217          L 2017-09-18   \n",
       "139072      320217          L 2018-03-20   \n",
       "\n",
       "                                                 oct_path  \\\n",
       "0       /storage/groups/ml01/datasets/raw/2018_LMUAuge...   \n",
       "1       /storage/groups/ml01/datasets/raw/2018_LMUAuge...   \n",
       "2       /storage/groups/ml01/datasets/raw/2018_LMUAuge...   \n",
       "3       /storage/groups/ml01/datasets/raw/2018_LMUAuge...   \n",
       "4       /storage/groups/ml01/datasets/raw/2018_LMUAuge...   \n",
       "...                                                   ...   \n",
       "139049  /storage/groups/ml01/datasets/raw/2018_LMUAuge...   \n",
       "139052  /storage/groups/ml01/datasets/raw/2018_LMUAuge...   \n",
       "139058  /storage/groups/ml01/datasets/raw/2018_LMUAuge...   \n",
       "139066  /storage/groups/ml01/datasets/raw/2018_LMUAuge...   \n",
       "139072  /storage/groups/ml01/datasets/raw/2018_LMUAuge...   \n",
       "\n",
       "                                              fundus_path  \n",
       "0       /storage/groups/ml01/datasets/raw/2018_LMUAuge...  \n",
       "1       /storage/groups/ml01/datasets/raw/2018_LMUAuge...  \n",
       "2       /storage/groups/ml01/datasets/raw/2018_LMUAuge...  \n",
       "3       /storage/groups/ml01/datasets/raw/2018_LMUAuge...  \n",
       "4       /storage/groups/ml01/datasets/raw/2018_LMUAuge...  \n",
       "...                                                   ...  \n",
       "139049  /storage/groups/ml01/datasets/raw/2018_LMUAuge...  \n",
       "139052  /storage/groups/ml01/datasets/raw/2018_LMUAuge...  \n",
       "139058  /storage/groups/ml01/datasets/raw/2018_LMUAuge...  \n",
       "139066  /storage/groups/ml01/datasets/raw/2018_LMUAuge...  \n",
       "139072  /storage/groups/ml01/datasets/raw/2018_LMUAuge...  \n",
       "\n",
       "[127279 rows x 5 columns]"
      ]
     },
     "execution_count": 57,
     "metadata": {},
     "output_type": "execute_result"
    }
   ],
   "source": [
    "nodup_octs"
   ]
  },
  {
   "cell_type": "code",
   "execution_count": 52,
   "metadata": {},
   "outputs": [],
   "source": [
    "# save cleaned table\n",
    "nodup_octs.to_csv(os.path.join(clean_data_dir, 'octs_fundus_no_dups.csv'))"
   ]
  },
  {
   "cell_type": "markdown",
   "metadata": {},
   "source": [
    "## Get thickness maps"
   ]
  },
  {
   "cell_type": "code",
   "execution_count": 53,
   "metadata": {},
   "outputs": [],
   "source": [
    "def display_fundus_thickness(row):\n",
    "    fig, axes = plt.subplots(1,2)\n",
    "    axes[0].imsahow(imageio.imread(row.fundus_path))\n",
    "    axes[1].imshow(np.load(row.thickness_path))"
   ]
  },
  {
   "cell_type": "code",
   "execution_count": 56,
   "metadata": {},
   "outputs": [
    {
     "name": "stdout",
     "output_type": "stream",
     "text": [
      "Starting with 121985 thickness maps\n",
      "Saving 114543 non-duplicated thickness maps\n"
     ]
    }
   ],
   "source": [
    "thickness_maps = pd.read_csv(os.path.join(thickness_base_path, 'all_records.csv'), index_col=0, skiprows=1, names=['thickness_path'])\n",
    "\n",
    "# add full paths to fundus and thickness, and patid, etc \n",
    "paths = list(thickness_maps.thickness_path)\n",
    "thickness_paths = [os.path.join(thickness_base_path, 'thickness_maps', p.replace('.png', '.npy')) for p in paths]\n",
    "\n",
    "patient_ids = [int(p.split('_')[0]) for p in paths]\n",
    "lateralities = [p.split('_')[1] for p in paths]\n",
    "study_dates = [datetime.strptime(p.split('_')[2], '%Y%m%d') for p in paths]\n",
    "\n",
    "thickness_maps['thickness_path'] = thickness_paths\n",
    "thickness_maps['patient_id'] = patient_ids\n",
    "thickness_maps['laterality'] = lateralities\n",
    "thickness_maps['study_date'] = study_dates\n",
    "print('Starting with {} thickness maps'.format(len(thickness_maps)))\n",
    "\n",
    "# drop all duplicates\n",
    "thickness_maps = thickness_maps.drop_duplicates(['patient_id', 'laterality', 'study_date'], keep=False)\n",
    "print('Saving {} non-duplicated thickness maps'.format(len(thickness_maps)))\n",
    "# save cleaned table\n",
    "thickness_maps.to_csv(os.path.join(clean_data_dir, 'thickness_maps_no_dups.csv'))\n"
   ]
  },
  {
   "cell_type": "markdown",
   "metadata": {},
   "source": [
    "# Tensio\n",
    "\n",
    "- from old notebook, untested\n",
    "- drop exact duplicates\n",
    "- take last measurement for duplicate measurements at the same day"
   ]
  },
  {
   "cell_type": "code",
   "execution_count": null,
   "metadata": {},
   "outputs": [],
   "source": [
    "#tensio = pd.read_csv(os.path.join(data_dir, 'dwh_tables/tensio.csv'), index_col=0)\n",
    "\n",
    "# rename columns\n",
    "#tensio.rename(columns={'AUGE': 'laterality', 'DAT':'study_date', 'PATNR':'patient_id',\n",
    "                            'TENSIO': 'tensio'}, inplace=True)\n",
    "# format columns \n",
    "#tensio.study_date = pd.to_datetime(tensio.study_date)\n",
    "#tensio.tensio = [float(t.replace(',','.')) for t in tensio.tensio]\n",
    "\n",
    "# get rid of exact duplicates\n",
    "#num_raw = tensio.shape[0]\n",
    "#tensio = tensio.drop_duplicates(keep='first')\n",
    "#num_raw_nodup = tensio.shape[0]\n",
    "#print('Dropped {} exact duplicates'.format(num_raw-num_raw_nodup))\n",
    "\n",
    "# take care of duplicate measurements per time point\n",
    "#num_dups = sum(tensio.duplicated(['study_date', 'patient_id', 'laterality']))\n",
    "#print('Resolving {} duplicate measurements per time point'.format(num_dups))\n",
    "\n",
    "#tensio_clean = tensio[~tensio.duplicated(['study_date', 'patient_id', 'laterality'], keep='last')]\n",
    "#tensio_clean.to_csv(os.path.join(workspace_path, 'tensio_clean.csv'))\n",
    "#print('Saved {} records to workspace'.format(len(tensio_clean)))"
   ]
  }
 ],
 "metadata": {
  "kernelspec": {
   "display_name": "Python 3",
   "language": "python",
   "name": "python3"
  },
  "language_info": {
   "codemirror_mode": {
    "name": "ipython",
    "version": 3
   },
   "file_extension": ".py",
   "mimetype": "text/x-python",
   "name": "python",
   "nbconvert_exporter": "python",
   "pygments_lexer": "ipython3",
   "version": "3.7.4"
  }
 },
 "nbformat": 4,
 "nbformat_minor": 4
}
