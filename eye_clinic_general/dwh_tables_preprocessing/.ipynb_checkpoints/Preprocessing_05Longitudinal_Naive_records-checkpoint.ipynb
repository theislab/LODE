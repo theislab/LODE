{
 "cells": [
  {
   "cell_type": "code",
   "execution_count": 1,
   "metadata": {},
   "outputs": [],
   "source": [
    "import os\n",
    "import pandas as pd\n",
    "import numpy as np\n",
    "\n",
    "clean_d_columns = [\"patient_id\", \"laterality\", \"diagnosis\", \"diagnosis_raw\", \"iol_date\"]\n",
    "\n",
    "'''\n",
    "the three naive lists are:\n",
    "\n",
    "First export: check_naive_patients_CORRECTED\n",
    "Second export (2 lists): Treatment naive list 08.04.21.xlsx & longitudinal_records_with_date_CHECKED.xlsm\n",
    "\n",
    "In this documnent the naive lists are getting preprocessed to be of same format and then exported to a\n",
    "naive full lists to be used for filtering.\n",
    "'''\n",
    "\n",
    "RAW_DIR = \"/storage/groups/ml01/datasets/raw/2018_LMUAugenklinik_niklas.koehler\"\n",
    "DATA_DIR = \"/storage/groups/ml01/datasets/projects/20181610_eyeclinic_niklas.koehler\"\n",
    "\n",
    "raw_data_dir = os.path.join(RAW_DIR, 'joint_export/dwh_tables/supplement_tables')\n",
    "clean_data_dir = os.path.join(DATA_DIR, 'joint_export/dwh_tables_cleaned')"
   ]
  },
  {
   "cell_type": "markdown",
   "metadata": {},
   "source": [
    "## Longitudinal diagnosis clean"
   ]
  },
  {
   "cell_type": "markdown",
   "metadata": {},
   "source": [
    "## first longitudinal list"
   ]
  },
  {
   "cell_type": "code",
   "execution_count": 2,
   "metadata": {},
   "outputs": [
    {
     "data": {
      "text/html": [
       "<div>\n",
       "<style scoped>\n",
       "    .dataframe tbody tr th:only-of-type {\n",
       "        vertical-align: middle;\n",
       "    }\n",
       "\n",
       "    .dataframe tbody tr th {\n",
       "        vertical-align: top;\n",
       "    }\n",
       "\n",
       "    .dataframe thead th {\n",
       "        text-align: right;\n",
       "    }\n",
       "</style>\n",
       "<table border=\"1\" class=\"dataframe\">\n",
       "  <thead>\n",
       "    <tr style=\"text-align: right;\">\n",
       "      <th></th>\n",
       "      <th>patient_id</th>\n",
       "      <th>laterality</th>\n",
       "      <th>diagnosis</th>\n",
       "      <th>diagnosis_raw</th>\n",
       "      <th>iol_date</th>\n",
       "    </tr>\n",
       "  </thead>\n",
       "  <tbody>\n",
       "    <tr>\n",
       "      <th>0</th>\n",
       "      <td>502</td>\n",
       "      <td>L</td>\n",
       "      <td>AMD</td>\n",
       "      <td>AMD</td>\n",
       "      <td>2016-04-04</td>\n",
       "    </tr>\n",
       "    <tr>\n",
       "      <th>1</th>\n",
       "      <td>516</td>\n",
       "      <td>L</td>\n",
       "      <td>AMD</td>\n",
       "      <td>AMD</td>\n",
       "      <td>2015-09-21</td>\n",
       "    </tr>\n",
       "    <tr>\n",
       "      <th>2</th>\n",
       "      <td>709</td>\n",
       "      <td>L</td>\n",
       "      <td>AMD</td>\n",
       "      <td>AMD</td>\n",
       "      <td>2017-03-28</td>\n",
       "    </tr>\n",
       "    <tr>\n",
       "      <th>3</th>\n",
       "      <td>1163</td>\n",
       "      <td>L</td>\n",
       "      <td>AMD</td>\n",
       "      <td>AMD</td>\n",
       "      <td>2014-01-23</td>\n",
       "    </tr>\n",
       "    <tr>\n",
       "      <th>4</th>\n",
       "      <td>1263</td>\n",
       "      <td>L</td>\n",
       "      <td>AMD</td>\n",
       "      <td>AMD</td>\n",
       "      <td>2015-07-28</td>\n",
       "    </tr>\n",
       "  </tbody>\n",
       "</table>\n",
       "</div>"
      ],
      "text/plain": [
       "   patient_id laterality diagnosis diagnosis_raw    iol_date\n",
       "0         502          L       AMD           AMD  2016-04-04\n",
       "1         516          L       AMD           AMD  2015-09-21\n",
       "2         709          L       AMD           AMD  2017-03-28\n",
       "3        1163          L       AMD           AMD  2014-01-23\n",
       "4        1263          L       AMD           AMD  2015-07-28"
      ]
     },
     "execution_count": 2,
     "metadata": {},
     "output_type": "execute_result"
    }
   ],
   "source": [
    "karstens_long1L = pd.read_csv(os.path.join(raw_data_dir, \"longitudinal_patients_left_eye.csv\"))\n",
    "karstens_long1L = karstens_long1L.rename(columns={\"pseudo_id\": \"patient_id\", \"EYE\": \"laterality\",\n",
    "                                                 \"IOL\": \"iol_date\"})\n",
    "\n",
    "karstens_long1L.loc[:,\"diagnosis\"] = \"AMD\"\n",
    "karstens_long1L.loc[:, \"diagnosis_raw\"] = \"AMD\"\n",
    "\n",
    "karstens_long1L_dlong = karstens_long1L[clean_d_columns]\n",
    "karstens_long1L_dlong.head()"
   ]
  },
  {
   "cell_type": "code",
   "execution_count": 3,
   "metadata": {},
   "outputs": [
    {
     "data": {
      "text/html": [
       "<div>\n",
       "<style scoped>\n",
       "    .dataframe tbody tr th:only-of-type {\n",
       "        vertical-align: middle;\n",
       "    }\n",
       "\n",
       "    .dataframe tbody tr th {\n",
       "        vertical-align: top;\n",
       "    }\n",
       "\n",
       "    .dataframe thead th {\n",
       "        text-align: right;\n",
       "    }\n",
       "</style>\n",
       "<table border=\"1\" class=\"dataframe\">\n",
       "  <thead>\n",
       "    <tr style=\"text-align: right;\">\n",
       "      <th></th>\n",
       "      <th>patient_id</th>\n",
       "      <th>laterality</th>\n",
       "      <th>diagnosis</th>\n",
       "      <th>diagnosis_raw</th>\n",
       "      <th>iol_date</th>\n",
       "    </tr>\n",
       "  </thead>\n",
       "  <tbody>\n",
       "    <tr>\n",
       "      <th>0</th>\n",
       "      <td>18</td>\n",
       "      <td>R</td>\n",
       "      <td>AMD</td>\n",
       "      <td>AMD</td>\n",
       "      <td>NaN</td>\n",
       "    </tr>\n",
       "    <tr>\n",
       "      <th>1</th>\n",
       "      <td>176</td>\n",
       "      <td>R</td>\n",
       "      <td>AMD</td>\n",
       "      <td>AMD</td>\n",
       "      <td>2015-05-20</td>\n",
       "    </tr>\n",
       "    <tr>\n",
       "      <th>2</th>\n",
       "      <td>502</td>\n",
       "      <td>R</td>\n",
       "      <td>AMD</td>\n",
       "      <td>AMD</td>\n",
       "      <td>2016-11-30</td>\n",
       "    </tr>\n",
       "    <tr>\n",
       "      <th>3</th>\n",
       "      <td>709</td>\n",
       "      <td>R</td>\n",
       "      <td>AMD</td>\n",
       "      <td>AMD</td>\n",
       "      <td>NaN</td>\n",
       "    </tr>\n",
       "    <tr>\n",
       "      <th>4</th>\n",
       "      <td>910</td>\n",
       "      <td>R</td>\n",
       "      <td>AMD</td>\n",
       "      <td>AMD</td>\n",
       "      <td>2009-12-08</td>\n",
       "    </tr>\n",
       "  </tbody>\n",
       "</table>\n",
       "</div>"
      ],
      "text/plain": [
       "   patient_id laterality diagnosis diagnosis_raw    iol_date\n",
       "0          18          R       AMD           AMD         NaN\n",
       "1         176          R       AMD           AMD  2015-05-20\n",
       "2         502          R       AMD           AMD  2016-11-30\n",
       "3         709          R       AMD           AMD         NaN\n",
       "4         910          R       AMD           AMD  2009-12-08"
      ]
     },
     "execution_count": 3,
     "metadata": {},
     "output_type": "execute_result"
    }
   ],
   "source": [
    "karstens_long1R = pd.read_csv(os.path.join(raw_data_dir, \"longitudinal_patients_right_eye.csv\"))\n",
    "\n",
    "karstens_long1R = karstens_long1R.rename(columns={\"pseudo_id\": \"patient_id\", \"EYE\": \"laterality\",\n",
    "                                                 \"IOL\": \"iol_date\"})\n",
    "\n",
    "karstens_long1R.loc[:,\"diagnosis\"] = \"AMD\"\n",
    "karstens_long1R.loc[:, \"diagnosis_raw\"] = \"AMD\"\n",
    "\n",
    "karstens_long1R_dlong = karstens_long1R[clean_d_columns]\n",
    "karstens_long1R_dlong.head()"
   ]
  },
  {
   "cell_type": "markdown",
   "metadata": {},
   "source": [
    "## second longitudinal list"
   ]
  },
  {
   "cell_type": "code",
   "execution_count": 4,
   "metadata": {},
   "outputs": [
    {
     "name": "stderr",
     "output_type": "stream",
     "text": [
      "/home/icb/olle.holmberg/.local/lib/python3.6/site-packages/pandas/core/indexing.py:1596: SettingWithCopyWarning: \n",
      "A value is trying to be set on a copy of a slice from a DataFrame.\n",
      "Try using .loc[row_indexer,col_indexer] = value instead\n",
      "\n",
      "See the caveats in the documentation: https://pandas.pydata.org/pandas-docs/stable/user_guide/indexing.html#returning-a-view-versus-a-copy\n",
      "  self.obj[key] = _infer_fill_value(value)\n",
      "/home/icb/olle.holmberg/.local/lib/python3.6/site-packages/pandas/core/indexing.py:1763: SettingWithCopyWarning: \n",
      "A value is trying to be set on a copy of a slice from a DataFrame.\n",
      "Try using .loc[row_indexer,col_indexer] = value instead\n",
      "\n",
      "See the caveats in the documentation: https://pandas.pydata.org/pandas-docs/stable/user_guide/indexing.html#returning-a-view-versus-a-copy\n",
      "  isetter(loc, value)\n"
     ]
    }
   ],
   "source": [
    "naive_2 = pd.read_excel(os.path.join(raw_data_dir, \"longitudinal_records_with_date_CHECKED.xlsm\"),engine='openpyxl',)\n",
    "\n",
    "naive_2_dlong = naive_2[[\"pseudo_id\", \"LOK\", \"Cat-Date\", \"Cat\", \"Naive\"]]\n",
    "\n",
    "naive_2[\"Cat-Date\"] = pd.to_datetime(naive_2[\"Cat-Date\"], unit='d').dt.strftime('%#Y-%m-%d').values\n",
    "\n",
    "# change wrong eye\n",
    "for row in naive_2.itertuples():            \n",
    "    if row[8] == 2.0:\n",
    "        naive_2.loc[row[0], \"Cat-Date\"] = \"prior\"\n",
    "        \n",
    "naive_2_dlong.loc[:, \"diagnosis\"] = \"AMD\"\n",
    "naive_2_dlong.loc[:, \"diagnosis_raw\"] = \"AMD\"\n",
    "\n",
    "naive_2_dlong = naive_2_dlong.rename(columns={\"pseudo_id\":\"patient_id\", \"LOK\": \"laterality\",\n",
    "                                             \"Cat-Date\":\"iol_date\"})"
   ]
  },
  {
   "cell_type": "markdown",
   "metadata": {},
   "source": [
    "## Third longitudinal list"
   ]
  },
  {
   "cell_type": "code",
   "execution_count": 5,
   "metadata": {},
   "outputs": [
    {
     "name": "stdout",
     "output_type": "stream",
     "text": [
      "(array(['L', 'R'], dtype=object), array([212, 179]))\n",
      "(array(['L', 'R'], dtype=object), array([208, 183]))\n"
     ]
    }
   ],
   "source": [
    "naive_3 = pd.read_excel(os.path.join(raw_data_dir, \"Treatment naive list 08.04.21.xlsx\") ,engine='openpyxl',)\n",
    "\n",
    "naive_3 = naive_3[[\"pseudo_id\", \"Unnamed: 1\", \"Unnamed: 3\", \"Naive\", \"Cat\", \"Cat-Date\"]]\n",
    "naive_3[\"Cat-Date\"] = pd.to_datetime(naive_3[\"Cat-Date\"], errors='coerce', unit='d').dt.strftime('%#Y-%m-%d').values\n",
    "\n",
    "naive_3 = naive_3.rename(columns={\"pseudo_id\":\"patient_id\", \n",
    "                                  \"Unnamed: 1\": \"first_injection_date\", \n",
    "                                  \"Unnamed: 3\": \"laterality\",\n",
    "                                  \"Cat-Date\":\"iol_date\"})\n",
    "\n",
    "\n",
    "print(np.unique(naive_3.laterality, return_counts=True))\n",
    "laterality_switch = {\"L\":\"R\", \"R\":\"L\"}\n",
    "\n",
    "# change wrong eye\n",
    "for row in naive_3.itertuples():    \n",
    "    if row[4] == 4.0:\n",
    "        naive_3.loc[row[0], \"laterality\"] = laterality_switch[row[3]]\n",
    "        naive_3.loc[row[0], \"Naive\"] = 1.0\n",
    "        \n",
    "    if row[5] == 2.0:\n",
    "        naive_3.loc[row[0], \"iol_date\"] = \"prior\"\n",
    "        \n",
    "print(np.unique(naive_3.laterality, return_counts=True))\n",
    "\n",
    "naive_3.loc[:, \"diagnosis\"] = \"AMD\"\n",
    "naive_3.loc[:, \"diagnosis_raw\"] = \"AMD\""
   ]
  },
  {
   "cell_type": "markdown",
   "metadata": {},
   "source": [
    "## Merge joint clean diagnsosis table and save"
   ]
  },
  {
   "cell_type": "code",
   "execution_count": 6,
   "metadata": {},
   "outputs": [],
   "source": [
    "t2 = naive_2_dlong[clean_d_columns]\n",
    "t3 = naive_3.dropna(subset=[\"Naive\"])[clean_d_columns]\n",
    "t1L = karstens_long1L_dlong\n",
    "t1R = karstens_long1R_dlong\n",
    "\n",
    "joing_clean_diagnosis_table = t2.append(t2.append(t1L.append(t1R)))\n",
    "\n",
    "joing_clean_diagnosis_table.loc[:, \"iol_date\"] = pd.to_datetime(joing_clean_diagnosis_table.iol_date, \n",
    "                                                                errors='coerce')\n",
    "\n",
    "joing_clean_diagnosis_table.to_csv(os.path.join(clean_data_dir, \"diagnosis_longitudinal_clean.csv\"), index=False)"
   ]
  },
  {
   "cell_type": "markdown",
   "metadata": {},
   "source": [
    "# Get final Naive patients list"
   ]
  },
  {
   "cell_type": "code",
   "execution_count": 7,
   "metadata": {},
   "outputs": [],
   "source": [
    "naive_3 = naive_3.dropna(subset=[\"Naive\"])"
   ]
  },
  {
   "cell_type": "markdown",
   "metadata": {},
   "source": [
    "## Load in naive records from first export"
   ]
  },
  {
   "cell_type": "code",
   "execution_count": 8,
   "metadata": {},
   "outputs": [],
   "source": [
    "naive_first_export = pd.read_csv(os.path.join(raw_data_dir, \"check_naive_patients_CORRECTED.csv\"))\n",
    "naive_first_export = naive_first_export.dropna(subset=[\"patient_id\",\"laterality\",\"first_injection_date\",\"Naive\"], how=\"all\")\n",
    "\n",
    "naive_first_export = naive_first_export[[\"patient_id\", \"laterality\", \"first_injection_date\", \"Naive\"]]\n",
    "\n",
    "naive_first_export = pd.merge(naive_first_export, joing_clean_diagnosis_table[[\"patient_id\", \"laterality\", \"iol_date\"]], \n",
    "         on=[\"patient_id\", \"laterality\"], how=\"left\")\n",
    "\n",
    "naive_first_export = naive_first_export.rename(columns={\"naive\":\"Naive\"})\n",
    "naive_first_export = naive_first_export[[\"patient_id\", \"laterality\", \"Naive\", \"iol_date\"]]"
   ]
  },
  {
   "cell_type": "markdown",
   "metadata": {},
   "source": [
    "## Marge all naive patients in Joint export"
   ]
  },
  {
   "cell_type": "code",
   "execution_count": 9,
   "metadata": {},
   "outputs": [],
   "source": [
    "naive_list_latest = naive_first_export.append(naive_3.append(naive_2_dlong).drop(\"first_injection_date\", \n",
    "                                                                                 axis=1))"
   ]
  },
  {
   "cell_type": "code",
   "execution_count": 10,
   "metadata": {},
   "outputs": [],
   "source": [
    "naive_list_latest = naive_list_latest[(naive_list_latest.Naive != 2) & (naive_list_latest.Naive != 0)]"
   ]
  },
  {
   "cell_type": "code",
   "execution_count": 11,
   "metadata": {
    "scrolled": true
   },
   "outputs": [],
   "source": [
    "naive_list_latest.loc[:, \"patient_id\"] = naive_list_latest.patient_id.astype(int)\n",
    "naive_list_latest = naive_list_latest.drop_duplicates(subset=[\"patient_id\", \"laterality\"])"
   ]
  },
  {
   "cell_type": "code",
   "execution_count": 12,
   "metadata": {
    "scrolled": false
   },
   "outputs": [],
   "source": [
    "full_naive_list = naive_list_latest\n",
    "full_naive_list.to_csv(os.path.join(clean_data_dir, \"naive_patients.csv\"), index=False)"
   ]
  }
 ],
 "metadata": {
  "kernelspec": {
   "display_name": "tf2_super",
   "language": "python",
   "name": "tf2_super"
  },
  "language_info": {
   "codemirror_mode": {
    "name": "ipython",
    "version": 3
   },
   "file_extension": ".py",
   "mimetype": "text/x-python",
   "name": "python",
   "nbconvert_exporter": "python",
   "pygments_lexer": "ipython3",
   "version": "3.6.12"
  }
 },
 "nbformat": 4,
 "nbformat_minor": 4
}
