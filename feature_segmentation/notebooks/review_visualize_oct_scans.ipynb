{
 "cells": [
  {
   "cell_type": "code",
   "execution_count": 18,
   "metadata": {},
   "outputs": [],
   "source": [
    "import os\n",
    "import numpy as np\n",
    "import cv2\n",
    "import matplotlib.pyplot as plt\n",
    "import pandas as pd\n",
    "annotations_path = \"/home/olle/PycharmProjects/longitudinal_eyeclinic_project/\\\n",
    "clinical_features_samples/data/labels\"\n",
    "\n",
    "annotations = [os.path.join(annotations_path,i) for i in os.listdir(annotations_path)]"
   ]
  },
  {
   "cell_type": "code",
   "execution_count": 19,
   "metadata": {
    "collapsed": true
   },
   "outputs": [],
   "source": [
    "labels = []\n",
    "label_counts = [[],[],[],[],[],[],[],[],[],[],[],[],[],[],[],[]]\n",
    "for a in annotations:\n",
    "    lbl = cv2.imread(a)\n",
    "    lbl_resized = cv2.resize(lbl,(512,496)).astype(int)\n",
    "    elems = lbl_resized.flatten().tolist()\n",
    "    label_counts[0] = elems.count(0)\n",
    "    label_counts[1] = elems.count(1)\n",
    "    label_counts[2] = elems.count(2)\n",
    "    label_counts[3] = elems.count(3)\n",
    "    label_counts[4] = elems.count(4)\n",
    "    label_counts[5] = elems.count(5)\n",
    "    label_counts[6] = elems.count(6)\n",
    "    label_counts[7] = elems.count(7)\n",
    "    label_counts[8] = elems.count(8)\n",
    "    label_counts[9] = elems.count(9)\n",
    "    label_counts[10] = elems.count(10)\n",
    "    label_counts[11] = elems.count(11)\n",
    "    label_counts[12] = elems.count(12)\n",
    "    label_counts[13] = elems.count(13)\n",
    "    label_counts[14] = elems.count(14)\n",
    "    label_counts[15] = elems.count(15)\n"
   ]
  },
  {
   "cell_type": "code",
   "execution_count": 19,
   "metadata": {},
   "outputs": [
    {
     "data": {
      "text/html": [
       "<div>\n",
       "<style scoped>\n",
       "    .dataframe tbody tr th:only-of-type {\n",
       "        vertical-align: middle;\n",
       "    }\n",
       "\n",
       "    .dataframe tbody tr th {\n",
       "        vertical-align: top;\n",
       "    }\n",
       "\n",
       "    .dataframe thead th {\n",
       "        text-align: right;\n",
       "    }\n",
       "</style>\n",
       "<table border=\"1\" class=\"dataframe\">\n",
       "  <thead>\n",
       "    <tr style=\"text-align: right;\">\n",
       "      <th></th>\n",
       "      <th>class id</th>\n",
       "      <th>Number of pixels</th>\n",
       "    </tr>\n",
       "  </thead>\n",
       "  <tbody>\n",
       "    <tr>\n",
       "      <th>0</th>\n",
       "      <td>0</td>\n",
       "      <td>625239</td>\n",
       "    </tr>\n",
       "    <tr>\n",
       "      <th>1</th>\n",
       "      <td>1</td>\n",
       "      <td>4041</td>\n",
       "    </tr>\n",
       "    <tr>\n",
       "      <th>2</th>\n",
       "      <td>2</td>\n",
       "      <td>111009</td>\n",
       "    </tr>\n",
       "    <tr>\n",
       "      <th>3</th>\n",
       "      <td>3</td>\n",
       "      <td>3513</td>\n",
       "    </tr>\n",
       "    <tr>\n",
       "      <th>4</th>\n",
       "      <td>4</td>\n",
       "      <td>321</td>\n",
       "    </tr>\n",
       "    <tr>\n",
       "      <th>5</th>\n",
       "      <td>5</td>\n",
       "      <td>1815</td>\n",
       "    </tr>\n",
       "    <tr>\n",
       "      <th>6</th>\n",
       "      <td>6</td>\n",
       "      <td>11097</td>\n",
       "    </tr>\n",
       "    <tr>\n",
       "      <th>7</th>\n",
       "      <td>7</td>\n",
       "      <td>2079</td>\n",
       "    </tr>\n",
       "    <tr>\n",
       "      <th>8</th>\n",
       "      <td>8</td>\n",
       "      <td>105</td>\n",
       "    </tr>\n",
       "    <tr>\n",
       "      <th>9</th>\n",
       "      <td>9</td>\n",
       "      <td>273</td>\n",
       "    </tr>\n",
       "    <tr>\n",
       "      <th>10</th>\n",
       "      <td>10</td>\n",
       "      <td>1893</td>\n",
       "    </tr>\n",
       "    <tr>\n",
       "      <th>11</th>\n",
       "      <td>11</td>\n",
       "      <td>405</td>\n",
       "    </tr>\n",
       "    <tr>\n",
       "      <th>12</th>\n",
       "      <td>12</td>\n",
       "      <td>60</td>\n",
       "    </tr>\n",
       "    <tr>\n",
       "      <th>13</th>\n",
       "      <td>13</td>\n",
       "      <td>6</td>\n",
       "    </tr>\n",
       "    <tr>\n",
       "      <th>14</th>\n",
       "      <td>14</td>\n",
       "      <td>0</td>\n",
       "    </tr>\n",
       "    <tr>\n",
       "      <th>15</th>\n",
       "      <td>15</td>\n",
       "      <td>0</td>\n",
       "    </tr>\n",
       "  </tbody>\n",
       "</table>\n",
       "</div>"
      ],
      "text/plain": [
       "    class id  Number of pixels\n",
       "0          0            625239\n",
       "1          1              4041\n",
       "2          2            111009\n",
       "3          3              3513\n",
       "4          4               321\n",
       "5          5              1815\n",
       "6          6             11097\n",
       "7          7              2079\n",
       "8          8               105\n",
       "9          9               273\n",
       "10        10              1893\n",
       "11        11               405\n",
       "12        12                60\n",
       "13        13                 6\n",
       "14        14                 0\n",
       "15        15                 0"
      ]
     },
     "execution_count": 19,
     "metadata": {},
     "output_type": "execute_result"
    }
   ],
   "source": [
    "label_counts\n",
    "classes = range(16)\n",
    "label_pixel_counts = pd.DataFrame([classes,label_counts]).T\n",
    "label_pixel_counts.rename(columns={0:\"class id\",1:\"Number of pixels\"})"
   ]
  },
  {
   "cell_type": "code",
   "execution_count": 16,
   "metadata": {},
   "outputs": [
    {
     "data": {
      "text/plain": [
       "<matplotlib.image.AxesImage at 0x7f3ec15c5fd0>"
      ]
     },
     "execution_count": 16,
     "metadata": {},
     "output_type": "execute_result"
    }
   ],
   "source": [
    "lbl = cv2.imread(annotations[2])\n",
    "%matplotlib qt\n",
    "plt.imshow(lbl[:,:,0])"
   ]
  }
 ],
 "metadata": {
  "kernelspec": {
   "display_name": "Python [conda env:root] *",
   "language": "python",
   "name": "conda-root-py"
  },
  "language_info": {
   "codemirror_mode": {
    "name": "ipython",
    "version": 3
   },
   "file_extension": ".py",
   "mimetype": "text/x-python",
   "name": "python",
   "nbconvert_exporter": "python",
   "pygments_lexer": "ipython3",
   "version": "3.7.3"
  }
 },
 "nbformat": 4,
 "nbformat_minor": 2
}
