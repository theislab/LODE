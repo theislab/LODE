{
 "cells": [
  {
   "cell_type": "code",
   "execution_count": 1,
   "metadata": {
    "scrolled": true
   },
   "outputs": [
    {
     "data": {
      "image/png": "[encoded data removed]",
      "text/plain": [
       "<Figure size 432x288 with 1 Axes>"
      ]
     },
     "metadata": {
      "needs_background": "light"
     },
     "output_type": "display_data"
    }
   ],
   "source": [
    "import matplotlib.image as mpimg\n",
    "import numpy as np\n",
    "import matplotlib.pyplot as plt\n",
    "\n",
    "plt.close('all')\n",
    "\n",
    "x=[1,2,3,4]\n",
    "y=[1,4,9,16]\n",
    "\n",
    "fig = plt.figure()\n",
    "ax  = fig.add_subplot(111)\n",
    "ax.plot(x, y, 'o')\n",
    "\n",
    "def onclick(event):\n",
    "    ix, iy = event.xdata, event.ydata\n",
    "    print(\"I clicked at x={0:5.2f}, y={1:5.2f}\".format(ix,iy))\n",
    "\n",
    "    # Calculate, based on the axis extent, a reasonable distance \n",
    "    # from the actual point in which the click has to occur (in this case 5%)\n",
    "    ax = plt.gca()\n",
    "    dx = 0.05 * (ax.get_xlim()[1] - ax.get_xlim()[0])\n",
    "    dy = 0.05 * (ax.get_ylim()[1] - ax.get_ylim()[0])\n",
    "\n",
    "    # Check for every point if the click was close enough:\n",
    "    for i in range(len(x)):\n",
    "        if(x[i] > ix-dx and x[i] < ix+dx and y[i] > iy-dy and y[i] < iy+dy):\n",
    "            print(\"You clicked close enough!\")\n",
    "\n",
    "cid = fig.canvas.mpl_connect('button_press_event', onclick)\n",
    "plt.show()"
   ]
  },
  {
   "cell_type": "code",
   "execution_count": 22,
   "metadata": {},
   "outputs": [
    {
     "data": {
      "text/plain": [
       "<matplotlib.image.AxesImage at 0x7f5c8ea77cd0>"
      ]
     },
     "execution_count": 22,
     "metadata": {},
     "output_type": "execute_result"
    },
    {
     "data": {
      "image/png": "[encoded data removed]",
      "text/plain": [
       "<Figure size 432x288 with 1 Axes>"
      ]
     },
     "metadata": {
      "needs_background": "light"
     },
     "output_type": "display_data"
    }
   ],
   "source": [
    "plt.imshow(mask3d[:,:,15])"
   ]
  },
  {
   "cell_type": "code",
   "execution_count": 2,
   "metadata": {
    "scrolled": true
   },
   "outputs": [
    {
     "ename": "AttributeError",
     "evalue": "module 'mayavi.mlab' has no attribute 'test_'",
     "output_type": "error",
     "traceback": [
      "\u001b[0;31m---------------------------------------------------------------------------\u001b[0m",
      "\u001b[0;31mAttributeError\u001b[0m                            Traceback (most recent call last)",
      "\u001b[0;32m<ipython-input-2-e06f14ed162b>\u001b[0m in \u001b[0;36m<module>\u001b[0;34m\u001b[0m\n\u001b[0;32m----> 1\u001b[0;31m \u001b[0mmlab\u001b[0m\u001b[0;34m.\u001b[0m\u001b[0mtest_\u001b[0m\u001b[0;34m\u001b[0m\u001b[0;34m\u001b[0m\u001b[0m\n\u001b[0m",
      "\u001b[0;31mAttributeError\u001b[0m: module 'mayavi.mlab' has no attribute 'test_'"
     ]
    }
   ],
   "source": [
    "mlab.test_"
   ]
  },
  {
   "cell_type": "code",
   "execution_count": 4,
   "metadata": {},
   "outputs": [
    {
     "data": {
      "text/plain": [
       "<mayavi.modules.iso_surface.IsoSurface at 0x7fdfbc117110>"
      ]
     },
     "execution_count": 4,
     "metadata": {},
     "output_type": "execute_result"
    }
   ],
   "source": [
    "mlab.test_contour3d()"
   ]
  },
  {
   "cell_type": "code",
   "execution_count": 5,
   "metadata": {},
   "outputs": [],
   "source": [
    "mlab.test_contour3d??"
   ]
  },
  {
   "cell_type": "code",
   "execution_count": null,
   "metadata": {},
   "outputs": [],
   "source": []
  },
  {
   "cell_type": "code",
   "execution_count": 6,
   "metadata": {},
   "outputs": [],
   "source": [
    "import numpy as np\n",
    "from numpy import *"
   ]
  },
  {
   "cell_type": "code",
   "execution_count": 30,
   "metadata": {},
   "outputs": [
    {
     "data": {
      "text/plain": [
       "<mayavi.modules.glyph.Glyph at 0x7fdfbb677fb0>"
      ]
     },
     "execution_count": 30,
     "metadata": {},
     "output_type": "execute_result"
    }
   ],
   "source": [
    "mlab.clf()\n",
    "t = linspace(0, 2*pi, 1000)\n",
    "\n",
    "x,y,z = sin(t), cos(t), t\n",
    "\n",
    "mlab.plot3d(x,y,t, color=(1,0,0))\n",
    "mlab.points3d(x[-1], y[-1], z[-1])"
   ]
  },
  {
   "cell_type": "code",
   "execution_count": 8,
   "metadata": {},
   "outputs": [],
   "source": [
    "####"
   ]
  },
  {
   "cell_type": "code",
   "execution_count": 9,
   "metadata": {},
   "outputs": [],
   "source": [
    "from numpy import mgrid"
   ]
  },
  {
   "cell_type": "code",
   "execution_count": 10,
   "metadata": {},
   "outputs": [],
   "source": [
    "#### surf"
   ]
  },
  {
   "cell_type": "code",
   "execution_count": 31,
   "metadata": {},
   "outputs": [
    {
     "data": {
      "text/plain": [
       "<mayavi.modules.surface.Surface at 0x7fdfbc048350>"
      ]
     },
     "execution_count": 31,
     "metadata": {},
     "output_type": "execute_result"
    }
   ],
   "source": [
    "mlab.clf()\n",
    "x, y = mgrid[-3:3:100j, -3:3:100j]\n",
    "z = sin(x*x + y*y)\n",
    "mlab.surf(x,y,z)"
   ]
  },
  {
   "cell_type": "code",
   "execution_count": null,
   "metadata": {},
   "outputs": [],
   "source": [
    "#### boolean visulization"
   ]
  },
  {
   "cell_type": "code",
   "execution_count": 44,
   "metadata": {},
   "outputs": [
    {
     "name": "stdout",
     "output_type": "stream",
     "text": [
      "Warning: the range of your scalar values differs by more than a factor 100 than the range of the grid values and you did not specify a warp_scale. You could try warp_scale=\"auto\".\n"
     ]
    },
    {
     "data": {
      "text/plain": [
       "<mayavi.modules.surface.Surface at 0x7fdfb6de0950>"
      ]
     },
     "execution_count": 44,
     "metadata": {},
     "output_type": "execute_result"
    }
   ],
   "source": [
    "mlab.clf()\n",
    "x, y = mgrid[0:512:512j, 0:512:512j]\n",
    "z = np.zeros([512,512])\n",
    "z[225:275, 225:275] = 1\n",
    "mlab.surf(x,y,z)"
   ]
  },
  {
   "cell_type": "code",
   "execution_count": 12,
   "metadata": {},
   "outputs": [],
   "source": [
    "#### contour surf"
   ]
  },
  {
   "cell_type": "code",
   "execution_count": 13,
   "metadata": {},
   "outputs": [
    {
     "data": {
      "text/plain": [
       "<mayavi.modules.surface.Surface at 0x7fdfbbf92530>"
      ]
     },
     "execution_count": 13,
     "metadata": {},
     "output_type": "execute_result"
    }
   ],
   "source": [
    "mlab.clf()\n",
    "x, y = mgrid[-3:3:100j, -3:3:100j]\n",
    "z = sin(x*x + y*y)\n",
    "mlab.contour_surf(x,y,z)"
   ]
  },
  {
   "cell_type": "code",
   "execution_count": 14,
   "metadata": {},
   "outputs": [],
   "source": [
    "####“"
   ]
  },
  {
   "cell_type": "code",
   "execution_count": 15,
   "metadata": {},
   "outputs": [
    {
     "data": {
      "text/plain": [
       "<mayavi.modules.surface.Surface at 0x7fdfbbf92fb0>"
      ]
     },
     "execution_count": 15,
     "metadata": {},
     "output_type": "execute_result"
    }
   ],
   "source": [
    "mlab.clf()\n",
    "mlab.mesh(sin(x),cos(y),z)"
   ]
  },
  {
   "cell_type": "code",
   "execution_count": 16,
   "metadata": {},
   "outputs": [],
   "source": [
    "#### "
   ]
  },
  {
   "cell_type": "code",
   "execution_count": 17,
   "metadata": {},
   "outputs": [
    {
     "data": {
      "text/plain": [
       "<mayavi.modules.surface.Surface at 0x7fdfbbfbea70>"
      ]
     },
     "execution_count": 17,
     "metadata": {},
     "output_type": "execute_result"
    }
   ],
   "source": [
    "phi, theta = np.mgrid[0:pi:20j, 0:2*pi:20j]\n",
    "x = sin(phi)*cos(theta)\n",
    "y = sin(phi)*sin(theta)\n",
    "z = cos(phi)\n",
    "\n",
    "mlab.clf()\n",
    "mlab.mesh(x,y,z, representation=\"wireframe\")"
   ]
  },
  {
   "cell_type": "code",
   "execution_count": 18,
   "metadata": {},
   "outputs": [],
   "source": [
    "####"
   ]
  },
  {
   "cell_type": "code",
   "execution_count": 19,
   "metadata": {},
   "outputs": [
    {
     "data": {
      "text/plain": [
       "<mayavi.modules.surface.Surface at 0x7fdfbbf6ef50>"
      ]
     },
     "execution_count": 19,
     "metadata": {},
     "output_type": "execute_result"
    }
   ],
   "source": [
    "t = [[0,1,2],]\n",
    "points = np.array([[0,0,0], [1,0,0], [1,1,0]])\n",
    "x,y,z = points.T\n",
    "\n",
    "mlab.clf()\n",
    "mlab.triangular_mesh(x,y,z,t)"
   ]
  },
  {
   "cell_type": "code",
   "execution_count": 20,
   "metadata": {},
   "outputs": [],
   "source": [
    "####"
   ]
  },
  {
   "cell_type": "code",
   "execution_count": 21,
   "metadata": {},
   "outputs": [
    {
     "data": {
      "text/plain": [
       "<mayavi.modules.iso_surface.IsoSurface at 0x7fdfbbf26ef0>"
      ]
     },
     "execution_count": 21,
     "metadata": {},
     "output_type": "execute_result"
    }
   ],
   "source": [
    "x,y,z = np.mgrid[-5:5:64j, -5:5:64j, -5:5:64j]\n",
    "mlab.clf()\n",
    "mlab.contour3d(x*x*0.5 + y*y + z*z*2)"
   ]
  },
  {
   "cell_type": "code",
   "execution_count": 22,
   "metadata": {},
   "outputs": [
    {
     "data": {
      "text/plain": [
       "((64, 64, 64), (64, 64, 64), (64, 64, 64))"
      ]
     },
     "execution_count": 22,
     "metadata": {},
     "output_type": "execute_result"
    }
   ],
   "source": [
    "x.shape, y.shape, z.shape"
   ]
  },
  {
   "cell_type": "code",
   "execution_count": 23,
   "metadata": {},
   "outputs": [
    {
     "data": {
      "text/plain": [
       "<mayavi.modules.image_plane_widget.ImagePlaneWidget at 0x7fdfbb8cdc50>"
      ]
     },
     "execution_count": 23,
     "metadata": {},
     "output_type": "execute_result"
    }
   ],
   "source": [
    "mlab.clf()\n",
    "mlab.volume_slice(x,y,z, x*x*0.5 + y*y + z*z*2)"
   ]
  },
  {
   "cell_type": "code",
   "execution_count": 24,
   "metadata": {},
   "outputs": [],
   "source": [
    "#### animations"
   ]
  },
  {
   "cell_type": "code",
   "execution_count": 29,
   "metadata": {},
   "outputs": [],
   "source": [
    "mlab.clf()\n",
    "import time\n",
    "\n",
    "x, y = np.mgrid[0:2:1, 0:2:1]\n",
    "s = mlab.surf(x, y, x*0.1)\n",
    "for i in range(20):\n",
    "    s.mlab_source.scalars = x*0.1*(i+1)\n",
    "    time.sleep(0.2)"
   ]
  },
  {
   "cell_type": "code",
   "execution_count": null,
   "metadata": {},
   "outputs": [],
   "source": [
    "#####"
   ]
  },
  {
   "cell_type": "code",
   "execution_count": 47,
   "metadata": {},
   "outputs": [
    {
     "data": {
      "text/plain": [
       "<mayavi.modules.streamline.Streamline at 0x7fdfb3140050>"
      ]
     },
     "execution_count": 47,
     "metadata": {},
     "output_type": "execute_result"
    }
   ],
   "source": [
    "mlab.clf()\n",
    "mlab.test_flow()"
   ]
  },
  {
   "cell_type": "code",
   "execution_count": 46,
   "metadata": {},
   "outputs": [],
   "source": [
    "#### vector cut plane"
   ]
  },
  {
   "cell_type": "code",
   "execution_count": null,
   "metadata": {},
   "outputs": [],
   "source": [
    "#### create data set"
   ]
  },
  {
   "cell_type": "code",
   "execution_count": 48,
   "metadata": {},
   "outputs": [],
   "source": [
    "%gui qt"
   ]
  },
  {
   "cell_type": "code",
   "execution_count": 50,
   "metadata": {},
   "outputs": [
    {
     "name": "stderr",
     "output_type": "stream",
     "text": [
      "ERROR:mayavi.core.common:No suitable reader found for the file data/room_vis_wrl\n"
     ]
    }
   ],
   "source": [
    "import numpy as np\n",
    "from mayavi import mlab\n",
    "\n",
    "mlab.pipeline.open(\"data/room_vis_wrl\")"
   ]
  },
  {
   "cell_type": "code",
   "execution_count": 55,
   "metadata": {},
   "outputs": [],
   "source": [
    "from tvtk.api import tvtk\n",
    "from scipy import special\n",
    "# scalar values\n",
    "x, y = np.mgrid[-10:10:20j,-10:10:20j]\n",
    "r = np.sqrt(x**2+y**2)\n",
    "z = 5.0*special.j0(r)"
   ]
  },
  {
   "cell_type": "code",
   "execution_count": 56,
   "metadata": {},
   "outputs": [],
   "source": [
    "from tvtk.api import tvtk \n",
    "spoints = tvtk.StructuredPoints(origin=(-10,10,0),\n",
    "                               spacing=(0.5,0.5,1),\n",
    "                               dimensions=(20,20,1))"
   ]
  },
  {
   "cell_type": "code",
   "execution_count": 58,
   "metadata": {},
   "outputs": [],
   "source": [
    "spoints.point_data.scalars = r.T.ravel()\n",
    "spoints.point_data.scalars.name = \"scalar\""
   ]
  },
  {
   "cell_type": "code",
   "execution_count": 63,
   "metadata": {},
   "outputs": [],
   "source": [
    "mlab.clf()\n",
    "src = mlab.pipeline.add_dataset(spoints)\n",
    "warp = mlab.pipeline.warp_scalar(src)\n",
    "surf = mlab.pipeline.surface(warp)\n"
   ]
  },
  {
   "cell_type": "code",
   "execution_count": 85,
   "metadata": {},
   "outputs": [],
   "source": [
    "### 3d\n",
    "x,y,z = np.mgrid[-5:5:120j, -5:5:128j, -5:5:128j]\n",
    "x,y,z = [t.astype(\"f\") for t in (x,y,z)]\n",
    "scalars = np.sin(x*y*z) / (x*y*z)\n",
    "\n",
    "spoints = tvtk.StructuredPoints(origin = (-5,-5,-5),\n",
    "                              spacing=(10./127,10./127,10./127),\n",
    "                              dimensions=(128,128,128))\n",
    "\n",
    "s = scalars.transpose().copy()\n",
    "spoints.point_data.scalars = s.ravel(\"F\")\n",
    "spoints.point_data.scalars.name = \"scalars\"\n",
    "\n",
    "mlab.clf()\n",
    "src = mlab.pipeline.add_dataset(spoints)\n",
    "\n",
    "cut = mlab.pipeline.scalar_cut_plane(src)\n",
    "contour = mlab.pipeline.iso_surface(src)"
   ]
  },
  {
   "cell_type": "code",
   "execution_count": null,
   "metadata": {},
   "outputs": [],
   "source": [
    "### oct dicom example"
   ]
  },
  {
   "cell_type": "code",
   "execution_count": 108,
   "metadata": {},
   "outputs": [],
   "source": [
    "### 3d\n",
    "x,y,z = np.mgrid[0:128:128j, 0:128:128j, 0:128:128j]\n",
    "x,y,z = [t.astype(\"f\") for t in (x,y,z)]\n",
    "scalars = np.zeros([128,128,128])\n",
    "scalars[44:84, 44:84, 44:84] = 1\n",
    "\n",
    "scalars[14:24, 14:24, 14:24] = 2\n",
    "\n",
    "spoints = tvtk.StructuredPoints(origin = (0,0,0),\n",
    "                              spacing=(1,1,1),\n",
    "                              dimensions=(128,128,128))\n",
    "\n",
    "s = scalars.transpose().copy()\n",
    "spoints.point_data.scalars = s.ravel(\"F\")\n",
    "spoints.point_data.scalars.name = \"scalars\"\n",
    "\n",
    "mlab.clf()\n",
    "src = mlab.pipeline.add_dataset(spoints)\n",
    "\n",
    "cut = mlab.pipeline.scalar_cut_plane(src)\n",
    "contour = mlab.pipeline.iso_surface(src)\n",
    "\n",
    "lut = contour.module_manager.scalar_lut_manager.lut.table.to_array()\n",
    "lut[0] = [255, 255, 255, 0]\n",
    "lut[1] = [255, 255, 0, 255]\n",
    "\n",
    "contour.module_manager.scalar_lut_manager.lut.table = lut\n"
   ]
  },
  {
   "cell_type": "code",
   "execution_count": 112,
   "metadata": {},
   "outputs": [
    {
     "data": {
      "text/plain": [
       "[0.0, ..., 0.0], length = 2097152"
      ]
     },
     "execution_count": 112,
     "metadata": {},
     "output_type": "execute_result"
    }
   ],
   "source": [
    "#### volume rendering"
   ]
  },
  {
   "cell_type": "code",
   "execution_count": 2,
   "metadata": {},
   "outputs": [],
   "source": [
    "import vtk\n",
    "import glob\n",
    "import os\n",
    "\n",
    "PROJ_DIR = \"/home/olle/PycharmProjects/feature_segmentation-master\"\n",
    "RECORD_PATH = \"/data/train_data/hq_examples_fibrosis/volumes/1475_R_20170705_552087001_15\"\n",
    "DATA_PATH = os.path.join(PROJ_DIR,RECORD_PATH)\n",
    "# PNG files path source (stack of images)\n",
    "files=glob.glob(DATA_PATH+\"/vol/*.png\")"
   ]
  },
  {
   "cell_type": "code",
   "execution_count": 3,
   "metadata": {},
   "outputs": [],
   "source": [
    "# Setting the file path\n",
    "filePath = vtk.vtkStringArray()\n",
    "# Sorting file to arrange in ascending order to get slices correctly\n",
    "files.sort(key=lambda x: int(''.join(filter(str.isdigit, x))))\n",
    "filePath.SetNumberOfValues(len(files))\n",
    "\n",
    "for i in range(0,len(files),1):\n",
    "    filePath.SetValue(i,files[i])\n",
    "# print(files[i])"
   ]
  },
  {
   "cell_type": "code",
   "execution_count": 4,
   "metadata": {},
   "outputs": [],
   "source": [
    "# 1. Source -Reader\n",
    "reader=vtk.vtkPNGReader()\n",
    "reader.SetFileNames(filePath)\n",
    "reader.SetDataSpacing(1,1,1)"
   ]
  },
  {
   "cell_type": "code",
   "execution_count": null,
   "metadata": {},
   "outputs": [],
   "source": [
    "#reader.Update()"
   ]
  },
  {
   "cell_type": "code",
   "execution_count": 5,
   "metadata": {},
   "outputs": [],
   "source": [
    "# 2. Filter --&gt; Setting the color mapper, Opacity for VolumeProperty\n",
    "colorFunc = vtk.vtkColorTransferFunction()\n",
    "colorFunc.AddRGBPoint(1, 1, 0.0, 0.0) # Red\n",
    "\n",
    "# To set different colored pores\n",
    "colorFunc.AddRGBPoint(2, 0.0, 1, 0.0) # Green\n",
    "#colorFunc.AddRGBPoint(3, 0.0, 0, 1.0) # Black\n",
    "#colorFunc.AddRGBPoint(4, 0.0, 0.0, 1) # Blue\n",
    "\n",
    "opacity = vtk.vtkPiecewiseFunction()\n",
    "# opacity.AddPoint(1, 1, 0.0, 0.0)\n",
    "# opacity.AddPoint(2, 0.0, 0.0, 0.0)\n",
    "\n",
    "# The previous two classes stored properties and we want to apply\n",
    "# these properties to the volume we want to render,\n",
    "# we have to store them in a class that stores volume properties.\n",
    "volumeProperty = vtk.vtkVolumeProperty()\n",
    "# set the color for volumes\n",
    "volumeProperty.SetColor(colorFunc)\n",
    "# To add black as background of Volume\n",
    "volumeProperty.SetScalarOpacity(opacity)\n",
    "volumeProperty.SetInterpolationTypeToLinear()\n",
    "volumeProperty.SetIndependentComponents(2)\n"
   ]
  },
  {
   "cell_type": "code",
   "execution_count": 9,
   "metadata": {},
   "outputs": [],
   "source": [
    "#Ray cast function know how to render the data\n",
    "volumeMapper = vtk.vtkOpenGLGPUVolumeRayCastMapper()\n",
    "#volumeMapper = vtk.vtkFixedPointVolumeRayCastMapper()\n",
    "#volumeMapper = vtk.vtkUnstructuredGridVolumeRayCastMapper()\n",
    "\n",
    "volumeMapper.SetInputConnection(reader.GetOutputPort())\n",
    "volumeMapper.SetBlendModeToMaximumIntensity()\n",
    "\n",
    "# Different modes are available in vtk for Blend mode functions\n",
    "#volumeMapper.SetBlendModeToAverageIntensity()\n",
    "#volumeMapper.SetBlendModeToMinimumIntensity()\n",
    "#volumeMapper.SetBlendModeToComposite()\n",
    "#volumeMapper.SetBlendModeToAdditive()\n",
    "\n",
    "volume = vtk.vtkVolume()\n",
    "volume.SetMapper(volumeMapper)\n",
    "volume.SetProperty(volumeProperty)\n",
    "ren = vtk.vtkRenderer()\n",
    "ren.AddVolume(volume)\n",
    "#No need to set by default it is black\n",
    "ren.SetBackground(0, 0, 0)\n",
    "renWin = vtk.vtkRenderWindow()\n",
    "renWin.AddRenderer(ren)\n",
    "renWin.SetSize(900, 900)\n",
    "interactor = vtk.vtkRenderWindowInteractor()\n",
    "interactor.SetRenderWindow(renWin)\n",
    "\n"
   ]
  },
  {
   "cell_type": "code",
   "execution_count": 1,
   "metadata": {},
   "outputs": [
    {
     "ename": "AttributeError",
     "evalue": "module 'vtk' has no attribute 'vtkVolumeRayCastCompositeFunction'",
     "output_type": "error",
     "traceback": [
      "\u001b[0;31m---------------------------------------------------------------------------\u001b[0m",
      "\u001b[0;31mAttributeError\u001b[0m                            Traceback (most recent call last)",
      "\u001b[0;32m<ipython-input-1-3efa5d961c17>\u001b[0m in \u001b[0;36m<module>\u001b[0;34m\u001b[0m\n\u001b[1;32m     51\u001b[0m \u001b[0;34m\u001b[0m\u001b[0m\n\u001b[1;32m     52\u001b[0m \u001b[0;31m# This class describes how the volume is rendered (through ray tracing).\u001b[0m\u001b[0;34m\u001b[0m\u001b[0;34m\u001b[0m\u001b[0;34m\u001b[0m\u001b[0m\n\u001b[0;32m---> 53\u001b[0;31m \u001b[0mcompositeFunction\u001b[0m \u001b[0;34m=\u001b[0m \u001b[0mvtk\u001b[0m\u001b[0;34m.\u001b[0m\u001b[0mvtkVolumeRayCastCompositeFunction\u001b[0m\u001b[0;34m(\u001b[0m\u001b[0;34m)\u001b[0m\u001b[0;34m\u001b[0m\u001b[0;34m\u001b[0m\u001b[0m\n\u001b[0m\u001b[1;32m     54\u001b[0m \u001b[0;31m# We can finally create our volume. We also have to specify the data for it, as well as how the data will be rendered.\u001b[0m\u001b[0;34m\u001b[0m\u001b[0;34m\u001b[0m\u001b[0;34m\u001b[0m\u001b[0m\n\u001b[1;32m     55\u001b[0m \u001b[0mvolumeMapper\u001b[0m \u001b[0;34m=\u001b[0m \u001b[0mvtk\u001b[0m\u001b[0;34m.\u001b[0m\u001b[0mvtkVolumeRayCastMapper\u001b[0m\u001b[0;34m(\u001b[0m\u001b[0;34m)\u001b[0m\u001b[0;34m\u001b[0m\u001b[0;34m\u001b[0m\u001b[0m\n",
      "\u001b[0;31mAttributeError\u001b[0m: module 'vtk' has no attribute 'vtkVolumeRayCastCompositeFunction'"
     ]
    }
   ],
   "source": [
    "import vtk\n",
    "from numpy import *\n",
    "\n",
    "# We begin by creating the data we want to render.\n",
    "# For this tutorial, we create a 3D-image containing three overlaping cubes. \n",
    "# This data can of course easily be replaced by data from a medical CT-scan or anything else three dimensional.\n",
    "# The only limit is that the data must be reduced to unsigned 8 bit or 16 bit integers.\n",
    "data_matrix = zeros([75, 75, 75], dtype=uint8)\n",
    "data_matrix[0:35, 0:35, 0:35] = 50\n",
    "data_matrix[25:55, 25:55, 25:55] = 100\n",
    "data_matrix[45:74, 45:74, 45:74] = 150\n",
    "\n",
    "# For VTK to be able to use the data, it must be stored as a VTK-image. This can be done by the vtkImageImport-class which\n",
    "# imports raw data and stores it. \n",
    "dataImporter = vtk.vtkImageImport()\n",
    "# The preaviusly created array is converted to a string of chars and imported.\n",
    "data_string = data_matrix.tostring()\n",
    "dataImporter.CopyImportVoidPointer(data_string, len(data_string))\n",
    "# The type of the newly imported data is set to unsigned char (uint8)\n",
    "dataImporter.SetDataScalarTypeToUnsignedChar()\n",
    "# Because the data that is imported only contains an intensity value (it isnt RGB-coded or someting similar), the importer\n",
    "# must be told this is the case.\n",
    "dataImporter.SetNumberOfScalarComponents(1)\n",
    "# The following two functions describe how the data is stored and the dimensions of the array it is stored in. For this\n",
    "# simple case, all axes are of length 75 and begins with the first element. For other data, this is probably not the case.\n",
    "# I have to admit however, that I honestly dont know the difference between SetDataExtent() and SetWholeExtent() although\n",
    "# VTK complains if not both are used.\n",
    "dataImporter.SetDataExtent(0, 74, 0, 74, 0, 74)\n",
    "dataImporter.SetWholeExtent(0, 74, 0, 74, 0, 74)\n",
    "\n",
    "# The following class is used to store transparencyv-values for later retrival. In our case, we want the value 0 to be\n",
    "# completly opaque whereas the three different cubes are given different transperancy-values to show how it works.\n",
    "alphaChannelFunc = vtk.vtkPiecewiseFunction()\n",
    "alphaChannelFunc.AddPoint(0, 0.0)\n",
    "alphaChannelFunc.AddPoint(50, 0.05)\n",
    "alphaChannelFunc.AddPoint(100, 0.1)\n",
    "alphaChannelFunc.AddPoint(150, 0.2)\n",
    "\n",
    "# This class stores color data and can create color tables from a few color points. For this demo, we want the three cubes\n",
    "# to be of the colors red green and blue.\n",
    "colorFunc = vtk.vtkColorTransferFunction()\n",
    "colorFunc.AddRGBPoint(50, 1.0, 0.0, 0.0)\n",
    "colorFunc.AddRGBPoint(100, 0.0, 1.0, 0.0)\n",
    "colorFunc.AddRGBPoint(150, 0.0, 0.0, 1.0)\n",
    "\n",
    "# The preavius two classes stored properties. Because we want to apply these properties to the volume we want to render,\n",
    "# we have to store them in a class that stores volume prpoperties.\n",
    "volumeProperty = vtk.vtkVolumeProperty()\n",
    "volumeProperty.SetColor(colorFunc)\n",
    "volumeProperty.SetScalarOpacity(alphaChannelFunc)\n",
    "\n",
    "# This class describes how the volume is rendered (through ray tracing).\n",
    "compositeFunction = vtk.vtkVolumeRayCastCompositeFunction()\n",
    "# We can finally create our volume. We also have to specify the data for it, as well as how the data will be rendered.\n",
    "volumeMapper = vtk.vtkVolumeRayCastMapper()\n",
    "volumeMapper.SetVolumeRayCastFunction(compositeFunction)\n",
    "volumeMapper.SetInputConnection(dataImporter.GetOutputPort())\n",
    "\n",
    "# The class vtkVolume is used to pair the preaviusly declared volume as well as the properties to be used when rendering that volume.\n",
    "volume = vtk.vtkVolume()\n",
    "volume.SetMapper(volumeMapper)\n",
    "volume.SetProperty(volumeProperty)\n",
    "\n",
    "# With almost everything else ready, its time to initialize the renderer and window, as well as creating a method for exiting the application\n",
    "renderer = vtk.vtkRenderer()\n",
    "renderWin = vtk.vtkRenderWindow()\n",
    "renderWin.AddRenderer(renderer)\n",
    "renderInteractor = vtk.vtkRenderWindowInteractor()\n",
    "renderInteractor.SetRenderWindow(renderWin)\n",
    "\n",
    "# We add the volume to the renderer ...\n",
    "renderer.AddVolume(volume)\n",
    "# ... set background color to white ...\n",
    "renderer.SetBackground(1, 1, 1)\n",
    "# ... and set window size.\n",
    "renderWin.SetSize(400, 400)\n",
    "\n",
    "# A simple function to be called when the user decides to quit the application.\n",
    "def exitCheck(obj, event):\n",
    "    if obj.GetEventPending() != 0:\n",
    "        obj.SetAbortRender(1)\n",
    "\n",
    "# Tell the application to use the function as an exit check.\n",
    "renderWin.AddObserver(\"AbortCheckEvent\", exitCheck)\n",
    "\n",
    "renderInteractor.Initialize()\n",
    "# Because nothing will be rendered without any input, we order the first render manually before control is handed over to the main-loop.\n",
    "renderWin.Render()\n",
    "renderInteractor.Start()"
   ]
  }
 ],
 "metadata": {
  "kernelspec": {
   "display_name": "Python [conda env:root] *",
   "language": "python",
   "name": "conda-root-py"
  },
  "language_info": {
   "codemirror_mode": {
    "name": "ipython",
    "version": 3
   },
   "file_extension": ".py",
   "mimetype": "text/x-python",
   "name": "python",
   "nbconvert_exporter": "python",
   "pygments_lexer": "ipython3",
   "version": "3.7.4"
  }
 },
 "nbformat": 4,
 "nbformat_minor": 2
}
