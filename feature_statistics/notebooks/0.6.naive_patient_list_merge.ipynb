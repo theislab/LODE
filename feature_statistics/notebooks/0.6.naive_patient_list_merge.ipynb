{
 "cells": [
  {
   "cell_type": "code",
   "execution_count": 71,
   "metadata": {},
   "outputs": [],
   "source": [
    "import os\n",
    "import pandas as pd\n",
    "\n",
    "path = \"/home/olle/PycharmProjects/LODE/workspace/sequence_data\"\n",
    "\n",
    "naive1 = \"check_naive_patients_clean.csv\"\n",
    "naive2 = \"naive_checkup.csv\"\n",
    "\n",
    "naive1_pd = pd.read_csv(os.path.join(path, naive1)).drop_duplicates()\n",
    "naive2_pd = pd.read_csv(os.path.join(path, naive2)).drop_duplicates()"
   ]
  },
  {
   "cell_type": "markdown",
   "metadata": {},
   "source": [
    "## filter & preprocess naive tables"
   ]
  },
  {
   "cell_type": "code",
   "execution_count": 72,
   "metadata": {},
   "outputs": [],
   "source": [
    "naive1_pd.dropna(inplace=True)\n",
    "\n",
    "naive1_pd.loc[:, \"patient_id\"] = naive1_pd[\"patient_id\"].astype(int)\n",
    "naive1_pd.loc[:, \"Naive\"] = naive1_pd[\"Naive\"].astype(int)\n",
    "\n",
    "naive1_pd = naive1_pd.loc[naive1_pd[\"Naive\"] == 1]\n",
    "naive1_pd = naive1_pd[[\"patient_id\", \"Naive\"]]\n",
    "\n",
    "\n",
    "naive1_pd.rename(columns={\"Naive\":\"naive\"}, inplace=True)\n",
    "\n",
    "naive1_pd = naive1_pd.drop_duplicates()"
   ]
  },
  {
   "cell_type": "code",
   "execution_count": 73,
   "metadata": {},
   "outputs": [
    {
     "name": "stdout",
     "output_type": "stream",
     "text": [
      "Number of naive patients in first export:  312\n"
     ]
    }
   ],
   "source": [
    "print(\"Number of naive patients in first export: \", naive1_pd.shape[0])"
   ]
  },
  {
   "cell_type": "code",
   "execution_count": 75,
   "metadata": {},
   "outputs": [],
   "source": [
    "naive2_pd.dropna(inplace=True)\n",
    "\n",
    "naive2_pd.loc[:, \"patient_id\"] = naive2_pd[\"patient_id\"].astype(int)\n",
    "naive2_pd.loc[:, \"naive\"] = naive2_pd[\"naive\"].astype(int)\n",
    "\n",
    "naive2_pd = naive2_pd.loc[naive2_pd[\"naive\"] == 1]\n",
    "naive2_pd = naive2_pd[[\"patient_id\", \"naive\"]]\n",
    "\n",
    "naive2_pd = naive2_pd.drop_duplicates()"
   ]
  },
  {
   "cell_type": "code",
   "execution_count": 77,
   "metadata": {},
   "outputs": [
    {
     "name": "stdout",
     "output_type": "stream",
     "text": [
      "Number of naive patients from export 2 is:  33\n"
     ]
    }
   ],
   "source": [
    "print(\"Number of naive patients from export 2 is: \", naive2_pd.shape[0])"
   ]
  },
  {
   "cell_type": "code",
   "execution_count": 81,
   "metadata": {},
   "outputs": [],
   "source": [
    "naive_all = naive2_pd.append(naive1_pd)\n",
    "naive_all.to_csv(\"/home/olle/PycharmProjects/LODE/workspace/naive_patients/naive_patients.csv\", index=0)"
   ]
  }
 ],
 "metadata": {
  "kernelspec": {
   "display_name": "Python [conda env:visualization]",
   "language": "python",
   "name": "conda-env-visualization-py"
  },
  "language_info": {
   "codemirror_mode": {
    "name": "ipython",
    "version": 3
   },
   "file_extension": ".py",
   "mimetype": "text/x-python",
   "name": "python",
   "nbconvert_exporter": "python",
   "pygments_lexer": "ipython3",
   "version": "3.7.9"
  }
 },
 "nbformat": 4,
 "nbformat_minor": 4
}
