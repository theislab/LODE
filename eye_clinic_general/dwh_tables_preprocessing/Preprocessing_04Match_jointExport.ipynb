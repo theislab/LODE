{
 "cells": [
  {
   "cell_type": "markdown",
   "metadata": {},
   "source": [
    "#### **Output**: matched, cleaned csv files in `workspace/longitudinal_data.csv` and `workspace/longitudinal_events.csv`"
   ]
  },
  {
   "cell_type": "markdown",
   "metadata": {},
   "source": [
    "# Match data based on study date"
   ]
  },
  {
   "cell_type": "code",
   "execution_count": 1,
   "metadata": {},
   "outputs": [],
   "source": [
    "import os\n",
    "import pandas as pd\n",
    "import matplotlib.pyplot as plt\n",
    "import numpy as np\n",
    "import matplotlib.colors as mcolors\n",
    "from tqdm import tqdm as tqdm"
   ]
  },
  {
   "cell_type": "code",
   "execution_count": 2,
   "metadata": {},
   "outputs": [],
   "source": [
    "RAW_DIR = \"/storage/groups/ml01/datasets/raw/2018_LMUAugenklinik_niklas.koehler\"\n",
    "DATA_DIR = \"/storage/groups/ml01/datasets/projects/20181610_eyeclinic_niklas.koehler\"\n",
    "\n",
    "\n",
    "raw_data_dir = os.path.join(RAW_DIR, 'joint_export/dwh_tables')\n",
    "clean_data_dir = os.path.join(DATA_DIR, 'joint_export/dwh_tables_cleaned')"
   ]
  },
  {
   "cell_type": "code",
   "execution_count": 3,
   "metadata": {
    "scrolled": true
   },
   "outputs": [
    {
     "data": {
      "text/plain": [
       "['icd10cm_codes_2018.txt',\n",
       " 'procedures_clean.csv',\n",
       " 'naive_patients.csv',\n",
       " 'octs_fundus_no_dups.csv',\n",
       " 'diagnosis.csv',\n",
       " 'octs_fundus_with_dups.csv',\n",
       " 'visus_labels_clean.csv',\n",
       " 'diagnosis_clean.csv',\n",
       " 'diagnosis_longitudinal_clean.csv',\n",
       " 'icd10cm_order_2018.txt']"
      ]
     },
     "execution_count": 3,
     "metadata": {},
     "output_type": "execute_result"
    }
   ],
   "source": [
    "os.listdir(clean_data_dir)"
   ]
  },
  {
   "cell_type": "code",
   "execution_count": 4,
   "metadata": {},
   "outputs": [],
   "source": [
    "octs = pd.read_csv(os.path.join(clean_data_dir, 'octs_fundus_no_dups.csv'), index_col=0)\n",
    "octs.study_date = pd.to_datetime(octs.study_date, format=\"%Y%m%d\")\n",
    "octs.patient_id = octs.patient_id.astype(str)\n",
    "octs = octs.sort_values(\"study_date\")\n",
    "\n",
    "\n",
    "visus = pd.read_csv(os.path.join(clean_data_dir, 'visus_labels_clean.csv'), index_col=0)\n",
    "visus.study_date = pd.to_datetime(visus.study_date)\n",
    "visus = visus.sort_values(\"study_date\")\n",
    "visus.patient_id = visus.patient_id.astype(int).astype(str)\n",
    "\n",
    "injections = pd.read_csv(os.path.join(clean_data_dir, 'procedures_clean.csv'), index_col=0)\n",
    "injections.study_date = pd.to_datetime(injections.study_date)\n",
    "injections.patient_id = injections.patient_id.astype(str)\n",
    "\n",
    "diagnosis = pd.read_csv(os.path.join(clean_data_dir, 'diagnosis_longitudinal_clean.csv'), index_col=0)\n",
    "diagnosis = diagnosis.reset_index()\n",
    "diagnosis.patient_id = diagnosis.patient_id.astype(str)\n"
   ]
  },
  {
   "cell_type": "markdown",
   "metadata": {},
   "source": [
    "## Match OCTs, visus, thickness \n",
    "- OCTs and thickness based on study date\n",
    "- visus and OCTs on same date (NEVER after injection)"
   ]
  },
  {
   "cell_type": "markdown",
   "metadata": {},
   "source": [
    "number of matches increased when not accurately merging on date with with timespa"
   ]
  },
  {
   "cell_type": "code",
   "execution_count": 5,
   "metadata": {},
   "outputs": [],
   "source": [
    "###### octs"
   ]
  },
  {
   "cell_type": "code",
   "execution_count": 6,
   "metadata": {},
   "outputs": [
    {
     "name": "stdout",
     "output_type": "stream",
     "text": [
      "Result: 178717 oct/visus pairs\n",
      "Merging 760047 octs with 315216 injections\n",
      "Result: 30008 oct/visus/injections pairs\n"
     ]
    }
   ],
   "source": [
    "merged = pd.merge(octs, visus, on=['patient_id', 'laterality', 'study_date'], how='outer') # keep all visus labels\n",
    "print('Result: {} oct/visus pairs'.format(len(merged.dropna(subset=['oct_path', 'visual_acuity']))))\n",
    "\n",
    "# comment out as it may cause the bug of duplicate records in sequences.csv\n",
    "print('Merging {} octs with {} injections'.format(len(merged), len(injections)))#\n",
    "merged = pd.merge(merged, injections, on=['study_date', 'patient_id', 'laterality'], how='outer') # keep all injections\n",
    "print('Result: {} oct/visus/injections pairs'.format(len(merged.dropna(subset=['oct_path', 'visual_acuity', 'ICPML', 'ICPMK']))))"
   ]
  },
  {
   "cell_type": "code",
   "execution_count": 7,
   "metadata": {},
   "outputs": [],
   "source": [
    "merged['thickness_path'] = np.nan\n",
    "\n",
    "# make results columns nice\n",
    "merged.loc[:,'oct?'] = ~merged['oct_path'].isna()\n",
    "merged.loc[:,'visus?'] = ~merged['logMAR'].isna()\n",
    "merged.loc[:,'thickness?'] = ~merged['thickness_path'].isna()\n",
    "merged.loc[:,'fundus?'] = ~merged['fundus_path'].isna()\n",
    "\n",
    "oct_measurements = merged.copy()\n",
    "# clean up merged table\n",
    "oct_measurements = oct_measurements.drop(columns=['visual_acuity_raw', 'logMAR_raw', 'visual_acuity_origin'])"
   ]
  },
  {
   "cell_type": "code",
   "execution_count": 8,
   "metadata": {},
   "outputs": [
    {
     "data": {
      "text/html": [
       "<div>\n",
       "<style scoped>\n",
       "    .dataframe tbody tr th:only-of-type {\n",
       "        vertical-align: middle;\n",
       "    }\n",
       "\n",
       "    .dataframe tbody tr th {\n",
       "        vertical-align: top;\n",
       "    }\n",
       "\n",
       "    .dataframe thead th {\n",
       "        text-align: right;\n",
       "    }\n",
       "</style>\n",
       "<table border=\"1\" class=\"dataframe\">\n",
       "  <thead>\n",
       "    <tr style=\"text-align: right;\">\n",
       "      <th></th>\n",
       "      <th>patient_id</th>\n",
       "      <th>laterality</th>\n",
       "      <th>study_date</th>\n",
       "      <th>oct?</th>\n",
       "      <th>visus?</th>\n",
       "      <th>thickness?</th>\n",
       "      <th>fundus?</th>\n",
       "    </tr>\n",
       "  </thead>\n",
       "  <tbody>\n",
       "    <tr>\n",
       "      <th>0</th>\n",
       "      <td>280837</td>\n",
       "      <td>R</td>\n",
       "      <td>2012-09-24</td>\n",
       "      <td>True</td>\n",
       "      <td>False</td>\n",
       "      <td>False</td>\n",
       "      <td>False</td>\n",
       "    </tr>\n",
       "    <tr>\n",
       "      <th>1</th>\n",
       "      <td>43876</td>\n",
       "      <td>R</td>\n",
       "      <td>2012-09-24</td>\n",
       "      <td>True</td>\n",
       "      <td>True</td>\n",
       "      <td>False</td>\n",
       "      <td>False</td>\n",
       "    </tr>\n",
       "    <tr>\n",
       "      <th>2</th>\n",
       "      <td>43876</td>\n",
       "      <td>L</td>\n",
       "      <td>2012-09-24</td>\n",
       "      <td>True</td>\n",
       "      <td>True</td>\n",
       "      <td>False</td>\n",
       "      <td>False</td>\n",
       "    </tr>\n",
       "    <tr>\n",
       "      <th>3</th>\n",
       "      <td>241776</td>\n",
       "      <td>R</td>\n",
       "      <td>2012-09-24</td>\n",
       "      <td>True</td>\n",
       "      <td>False</td>\n",
       "      <td>False</td>\n",
       "      <td>False</td>\n",
       "    </tr>\n",
       "    <tr>\n",
       "      <th>4</th>\n",
       "      <td>280837</td>\n",
       "      <td>L</td>\n",
       "      <td>2012-09-24</td>\n",
       "      <td>True</td>\n",
       "      <td>False</td>\n",
       "      <td>False</td>\n",
       "      <td>False</td>\n",
       "    </tr>\n",
       "    <tr>\n",
       "      <th>...</th>\n",
       "      <td>...</td>\n",
       "      <td>...</td>\n",
       "      <td>...</td>\n",
       "      <td>...</td>\n",
       "      <td>...</td>\n",
       "      <td>...</td>\n",
       "      <td>...</td>\n",
       "    </tr>\n",
       "    <tr>\n",
       "      <th>1013115</th>\n",
       "      <td>375294</td>\n",
       "      <td>R</td>\n",
       "      <td>2018-11-19</td>\n",
       "      <td>False</td>\n",
       "      <td>False</td>\n",
       "      <td>False</td>\n",
       "      <td>False</td>\n",
       "    </tr>\n",
       "    <tr>\n",
       "      <th>1013116</th>\n",
       "      <td>375374</td>\n",
       "      <td>R</td>\n",
       "      <td>2018-11-19</td>\n",
       "      <td>False</td>\n",
       "      <td>False</td>\n",
       "      <td>False</td>\n",
       "      <td>False</td>\n",
       "    </tr>\n",
       "    <tr>\n",
       "      <th>1013117</th>\n",
       "      <td>375414</td>\n",
       "      <td>R</td>\n",
       "      <td>2018-11-26</td>\n",
       "      <td>False</td>\n",
       "      <td>False</td>\n",
       "      <td>False</td>\n",
       "      <td>False</td>\n",
       "    </tr>\n",
       "    <tr>\n",
       "      <th>1013118</th>\n",
       "      <td>375579</td>\n",
       "      <td>R</td>\n",
       "      <td>2018-11-21</td>\n",
       "      <td>False</td>\n",
       "      <td>False</td>\n",
       "      <td>False</td>\n",
       "      <td>False</td>\n",
       "    </tr>\n",
       "    <tr>\n",
       "      <th>1013119</th>\n",
       "      <td>375651</td>\n",
       "      <td>R</td>\n",
       "      <td>2018-11-22</td>\n",
       "      <td>False</td>\n",
       "      <td>False</td>\n",
       "      <td>False</td>\n",
       "      <td>False</td>\n",
       "    </tr>\n",
       "  </tbody>\n",
       "</table>\n",
       "<p>1013120 rows × 7 columns</p>\n",
       "</div>"
      ],
      "text/plain": [
       "        patient_id laterality study_date   oct?  visus?  thickness?  fundus?\n",
       "0           280837          R 2012-09-24   True   False       False    False\n",
       "1            43876          R 2012-09-24   True    True       False    False\n",
       "2            43876          L 2012-09-24   True    True       False    False\n",
       "3           241776          R 2012-09-24   True   False       False    False\n",
       "4           280837          L 2012-09-24   True   False       False    False\n",
       "...            ...        ...        ...    ...     ...         ...      ...\n",
       "1013115     375294          R 2018-11-19  False   False       False    False\n",
       "1013116     375374          R 2018-11-19  False   False       False    False\n",
       "1013117     375414          R 2018-11-26  False   False       False    False\n",
       "1013118     375579          R 2018-11-21  False   False       False    False\n",
       "1013119     375651          R 2018-11-22  False   False       False    False\n",
       "\n",
       "[1013120 rows x 7 columns]"
      ]
     },
     "execution_count": 8,
     "metadata": {},
     "output_type": "execute_result"
    }
   ],
   "source": [
    "disp_cols = ['patient_id', 'laterality', 'study_date', 'oct?', 'visus?', 'thickness?', 'fundus?']\n",
    "oct_measurements[disp_cols]"
   ]
  },
  {
   "cell_type": "code",
   "execution_count": 9,
   "metadata": {},
   "outputs": [
    {
     "name": "stdout",
     "output_type": "stream",
     "text": [
      "OCTs: 213048 measurements from 34062 patients\n",
      "OCTs with va: 179158 measurements from 29720 patients\n"
     ]
    }
   ],
   "source": [
    "# results statistics\n",
    "# OCTs\n",
    "mask = oct_measurements['oct?']\n",
    "num = sum(mask)\n",
    "pat = len(oct_measurements[mask].patient_id.unique())\n",
    "print('OCTs: {} measurements from {} patients'.format(num, pat))\n",
    "\n",
    "mask = (oct_measurements['oct?']) & (oct_measurements['visus?'])\n",
    "num = sum(mask)\n",
    "pat = len(oct_measurements[mask].patient_id.unique())\n",
    "print('OCTs with va: {} measurements from {} patients'.format(num, pat))"
   ]
  },
  {
   "cell_type": "markdown",
   "metadata": {},
   "source": [
    "## Prepare data for Times series modeling"
   ]
  },
  {
   "cell_type": "markdown",
   "metadata": {},
   "source": [
    "### Limit oct measurements to longitudinal patients, add diagnosis"
   ]
  },
  {
   "cell_type": "code",
   "execution_count": 10,
   "metadata": {
    "scrolled": true
   },
   "outputs": [],
   "source": [
    "# merge diagnosis label to each patient instance (laterality + study date)\n",
    "longitudinal_data = pd.merge(oct_measurements, \n",
    "                             diagnosis[['patient_id', 'laterality', 'diagnosis']], \n",
    "                             on=['patient_id', 'laterality'], \n",
    "                             how='inner').drop_duplicates()"
   ]
  },
  {
   "cell_type": "code",
   "execution_count": 11,
   "metadata": {},
   "outputs": [],
   "source": [
    "longitudinal_data[\"MED\"] = np.nan"
   ]
  },
  {
   "cell_type": "markdown",
   "metadata": {},
   "source": [
    "### Create events table with injections and surgery dates"
   ]
  },
  {
   "cell_type": "code",
   "execution_count": 12,
   "metadata": {},
   "outputs": [],
   "source": [
    "longitudinal_patients = diagnosis[['patient_id', 'laterality']].drop_duplicates(['patient_id', 'laterality'])\n",
    "\n",
    "# add injections\n",
    "events = pd.merge(longitudinal_patients, injections[['patient_id', 'laterality', 'study_date', 'ICPML']], \n",
    "                  on=['patient_id', 'laterality'], how='inner')\n",
    "\n",
    "events.loc[:,'injection?'] = ~events['ICPML'].isna()\n",
    "\n",
    "# add lens surgery data\n",
    "lens_surgery = diagnosis[['patient_id', 'laterality', 'iol_date']].copy()\n",
    "lens_surgery.rename(columns={'iol_date': 'study_date'}, inplace=True)\n",
    "lens_surgery['iol?'] = ~pd.to_datetime(lens_surgery.study_date).isna()\n",
    "\n",
    "lens_surgery = lens_surgery[lens_surgery['iol?']]\n",
    "\n",
    "lens_surgery.loc[:, \"study_date\"] = pd.to_datetime(lens_surgery.study_date)\n",
    "\n",
    "# limit to longitudinal data\n",
    "lens_surgery = pd.merge(longitudinal_patients, lens_surgery, on=['patient_id', 'laterality'], how='inner').drop_duplicates()\n",
    "\n",
    "# add to events\n",
    "events = pd.merge(events, lens_surgery, on=[\"laterality\", \"patient_id\", \"study_date\"], how=\"outer\")\n",
    "\n",
    "# we do not know medication at this point. Medications to be added\n",
    "events[\"MED\"] = np.nan\n",
    "\n",
    "# drop non injection data and duplicates\n",
    "# events = events.dropna(subset=[\"injection?\"]).drop_duplicates(subset=[\"laterality\", \"patient_id\", \"study_date\"])"
   ]
  },
  {
   "cell_type": "markdown",
   "metadata": {},
   "source": [
    "### merge medication information"
   ]
  },
  {
   "cell_type": "code",
   "execution_count": 13,
   "metadata": {},
   "outputs": [
    {
     "name": "stdout",
     "output_type": "stream",
     "text": [
      "Event & MED records:  38180\n"
     ]
    }
   ],
   "source": [
    "\n",
    "'''\n",
    "All medication tables commented out until medication table is cleared\n",
    "'''\n",
    "\n",
    "## load tables\n",
    "med_pd = pd.read_csv(os.path.join(raw_data_dir, \"medications.csv\"))\n",
    "med_pd = med_pd[~med_pd.study_date.isin([-1])]\n",
    "\n",
    "### pre process date columns\n",
    "med_pd.loc[:, \"study_date\"] = pd.to_datetime(med_pd.study_date.astype(int).astype(str), format=\"%Y%m%d\")\n",
    "med_pd.loc[:, \"DAT\"] = pd.to_datetime(med_pd.DAT)\n",
    "med_pd[[\"pseudo_id\"]] = med_pd[\"pseudo_id\"].astype(int).astype(str)\n",
    "\n",
    "events_med_pd = pd.merge(events, med_pd[[\"pseudo_id\", \"AUGE\", \"DAT\", \"MED\"]], \n",
    "         left_on=[\"patient_id\", \"laterality\", \"study_date\"], \n",
    "         right_on=[\"pseudo_id\", \"AUGE\", \"DAT\"], \n",
    "        how=\"left\")\n",
    "\n",
    "\n",
    "columns_final = [\"patient_id\", \"laterality\", \"study_date\", \"ICPML\", \"injection?\", \"iol?\", \"MED_y\"]\n",
    "\n",
    "events_med_pd = events_med_pd[columns_final].drop_duplicates()\n",
    "events_med_pd.rename(columns={\"MED_y\": \"MED\"}, inplace=True)\n",
    "print(\"Event & MED records: \", events_med_pd.shape[0])"
   ]
  },
  {
   "cell_type": "code",
   "execution_count": 14,
   "metadata": {},
   "outputs": [
    {
     "data": {
      "text/html": [
       "<div>\n",
       "<style scoped>\n",
       "    .dataframe tbody tr th:only-of-type {\n",
       "        vertical-align: middle;\n",
       "    }\n",
       "\n",
       "    .dataframe tbody tr th {\n",
       "        vertical-align: top;\n",
       "    }\n",
       "\n",
       "    .dataframe thead th {\n",
       "        text-align: right;\n",
       "    }\n",
       "</style>\n",
       "<table border=\"1\" class=\"dataframe\">\n",
       "  <thead>\n",
       "    <tr style=\"text-align: right;\">\n",
       "      <th></th>\n",
       "      <th>patient_id</th>\n",
       "      <th>laterality</th>\n",
       "      <th>study_date</th>\n",
       "      <th>ICPML</th>\n",
       "      <th>injection?</th>\n",
       "      <th>iol?</th>\n",
       "      <th>MED</th>\n",
       "    </tr>\n",
       "  </thead>\n",
       "  <tbody>\n",
       "    <tr>\n",
       "      <th>0</th>\n",
       "      <td>719</td>\n",
       "      <td>R</td>\n",
       "      <td>2018-08-21</td>\n",
       "      <td>5-156</td>\n",
       "      <td>True</td>\n",
       "      <td>NaN</td>\n",
       "      <td>Lucentis</td>\n",
       "    </tr>\n",
       "    <tr>\n",
       "      <th>34</th>\n",
       "      <td>719</td>\n",
       "      <td>R</td>\n",
       "      <td>2018-06-19</td>\n",
       "      <td>5-156</td>\n",
       "      <td>True</td>\n",
       "      <td>NaN</td>\n",
       "      <td>Lucentis</td>\n",
       "    </tr>\n",
       "    <tr>\n",
       "      <th>68</th>\n",
       "      <td>719</td>\n",
       "      <td>R</td>\n",
       "      <td>2018-07-17</td>\n",
       "      <td>5-156</td>\n",
       "      <td>True</td>\n",
       "      <td>NaN</td>\n",
       "      <td>Lucentis</td>\n",
       "    </tr>\n",
       "    <tr>\n",
       "      <th>102</th>\n",
       "      <td>735</td>\n",
       "      <td>R</td>\n",
       "      <td>2015-04-07</td>\n",
       "      <td>5-156</td>\n",
       "      <td>True</td>\n",
       "      <td>NaN</td>\n",
       "      <td>Lucentis</td>\n",
       "    </tr>\n",
       "    <tr>\n",
       "      <th>146</th>\n",
       "      <td>735</td>\n",
       "      <td>R</td>\n",
       "      <td>2015-06-11</td>\n",
       "      <td>5-156</td>\n",
       "      <td>True</td>\n",
       "      <td>NaN</td>\n",
       "      <td>Lucentis</td>\n",
       "    </tr>\n",
       "    <tr>\n",
       "      <th>...</th>\n",
       "      <td>...</td>\n",
       "      <td>...</td>\n",
       "      <td>...</td>\n",
       "      <td>...</td>\n",
       "      <td>...</td>\n",
       "      <td>...</td>\n",
       "      <td>...</td>\n",
       "    </tr>\n",
       "    <tr>\n",
       "      <th>2151611</th>\n",
       "      <td>347179</td>\n",
       "      <td>L</td>\n",
       "      <td>2017-03-21</td>\n",
       "      <td>NaN</td>\n",
       "      <td>NaN</td>\n",
       "      <td>True</td>\n",
       "      <td>NaN</td>\n",
       "    </tr>\n",
       "    <tr>\n",
       "      <th>2151612</th>\n",
       "      <td>347851</td>\n",
       "      <td>L</td>\n",
       "      <td>2016-12-22</td>\n",
       "      <td>NaN</td>\n",
       "      <td>NaN</td>\n",
       "      <td>True</td>\n",
       "      <td>NaN</td>\n",
       "    </tr>\n",
       "    <tr>\n",
       "      <th>2151613</th>\n",
       "      <td>357432</td>\n",
       "      <td>L</td>\n",
       "      <td>2017-08-08</td>\n",
       "      <td>NaN</td>\n",
       "      <td>NaN</td>\n",
       "      <td>True</td>\n",
       "      <td>NaN</td>\n",
       "    </tr>\n",
       "    <tr>\n",
       "      <th>2151614</th>\n",
       "      <td>358833</td>\n",
       "      <td>L</td>\n",
       "      <td>2017-09-11</td>\n",
       "      <td>NaN</td>\n",
       "      <td>NaN</td>\n",
       "      <td>True</td>\n",
       "      <td>NaN</td>\n",
       "    </tr>\n",
       "    <tr>\n",
       "      <th>2151615</th>\n",
       "      <td>359944</td>\n",
       "      <td>L</td>\n",
       "      <td>2019-04-10</td>\n",
       "      <td>NaN</td>\n",
       "      <td>NaN</td>\n",
       "      <td>True</td>\n",
       "      <td>NaN</td>\n",
       "    </tr>\n",
       "  </tbody>\n",
       "</table>\n",
       "<p>38180 rows × 7 columns</p>\n",
       "</div>"
      ],
      "text/plain": [
       "        patient_id laterality study_date  ICPML injection?  iol?       MED\n",
       "0              719          R 2018-08-21  5-156       True   NaN  Lucentis\n",
       "34             719          R 2018-06-19  5-156       True   NaN  Lucentis\n",
       "68             719          R 2018-07-17  5-156       True   NaN  Lucentis\n",
       "102            735          R 2015-04-07  5-156       True   NaN  Lucentis\n",
       "146            735          R 2015-06-11  5-156       True   NaN  Lucentis\n",
       "...            ...        ...        ...    ...        ...   ...       ...\n",
       "2151611     347179          L 2017-03-21    NaN        NaN  True       NaN\n",
       "2151612     347851          L 2016-12-22    NaN        NaN  True       NaN\n",
       "2151613     357432          L 2017-08-08    NaN        NaN  True       NaN\n",
       "2151614     358833          L 2017-09-11    NaN        NaN  True       NaN\n",
       "2151615     359944          L 2019-04-10    NaN        NaN  True       NaN\n",
       "\n",
       "[38180 rows x 7 columns]"
      ]
     },
     "execution_count": 14,
     "metadata": {},
     "output_type": "execute_result"
    }
   ],
   "source": [
    "events_med_pd"
   ]
  },
  {
   "cell_type": "markdown",
   "metadata": {},
   "source": [
    "### save tables"
   ]
  },
  {
   "cell_type": "code",
   "execution_count": 18,
   "metadata": {},
   "outputs": [],
   "source": [
    "if not os.path.exists(os.path.join(DATA_DIR, 'joint_export/longitudinal_data')):\n",
    "    os.makedirs(os.path.join(DATA_DIR, 'joint_export/longitudinal_data'))\n",
    "    \n",
    "longitudinal_data.to_csv(os.path.join(DATA_DIR, 'joint_export/longitudinal_data/longitudinal_data.csv'))\n",
    "events.to_csv(os.path.join(DATA_DIR, 'joint_export/longitudinal_data/longitudinal_events.csv'))"
   ]
  },
  {
   "cell_type": "code",
   "execution_count": 16,
   "metadata": {},
   "outputs": [
    {
     "data": {
      "text/plain": [
       "'/storage/groups/ml01/datasets/projects/20181610_eyeclinic_niklas.koehler/joint_export/longitudinal_data/longitudinal_data.csv'"
      ]
     },
     "execution_count": 16,
     "metadata": {},
     "output_type": "execute_result"
    }
   ],
   "source": [
    "os.path.join(DATA_DIR, 'joint_export/longitudinal_data/longitudinal_data.csv')"
   ]
  },
  {
   "cell_type": "code",
   "execution_count": 130,
   "metadata": {},
   "outputs": [],
   "source": [
    "filtered_diagnosis = longitudinal_data.dropna(subset = ['diagnosis'])\n",
    "filtered_oct_path = filtered_diagnosis.dropna(subset = ['oct_path'])\n",
    "\n",
    "all_patients = filtered_oct_path.sort_values('study_date')\n",
    "\n",
    "# all_patients = all_patients.loc[filtered_diagnosis.patient_id == 3897]\n",
    "\n",
    "# drop all groups that do not have at least one OCT and one logMAR\n",
    "grouped = all_patients.groupby(['patient_id', 'laterality'])\n",
    "\n",
    "all_patients = grouped.filter(lambda x: x.oct_path.count() > 0 and x.logMAR.count() > 0)\n",
    "\n",
    "grouped_patients = all_patients.groupby(['patient_id', 'laterality'])\n",
    "grouped_events = events.groupby(['patient_id', 'laterality'])"
   ]
  },
  {
   "cell_type": "code",
   "execution_count": 132,
   "metadata": {},
   "outputs": [
    {
     "data": {
      "text/html": [
       "<div>\n",
       "<style scoped>\n",
       "    .dataframe tbody tr th:only-of-type {\n",
       "        vertical-align: middle;\n",
       "    }\n",
       "\n",
       "    .dataframe tbody tr th {\n",
       "        vertical-align: top;\n",
       "    }\n",
       "\n",
       "    .dataframe thead th {\n",
       "        text-align: right;\n",
       "    }\n",
       "</style>\n",
       "<table border=\"1\" class=\"dataframe\">\n",
       "  <thead>\n",
       "    <tr style=\"text-align: right;\">\n",
       "      <th></th>\n",
       "      <th>patient_id</th>\n",
       "      <th>laterality</th>\n",
       "    </tr>\n",
       "  </thead>\n",
       "  <tbody>\n",
       "    <tr>\n",
       "      <th>0</th>\n",
       "      <td>43876</td>\n",
       "      <td>L</td>\n",
       "    </tr>\n",
       "    <tr>\n",
       "      <th>45</th>\n",
       "      <td>273001</td>\n",
       "      <td>R</td>\n",
       "    </tr>\n",
       "    <tr>\n",
       "      <th>17</th>\n",
       "      <td>274080</td>\n",
       "      <td>L</td>\n",
       "    </tr>\n",
       "    <tr>\n",
       "      <th>112</th>\n",
       "      <td>79124</td>\n",
       "      <td>R</td>\n",
       "    </tr>\n",
       "    <tr>\n",
       "      <th>581</th>\n",
       "      <td>53686</td>\n",
       "      <td>L</td>\n",
       "    </tr>\n",
       "    <tr>\n",
       "      <th>...</th>\n",
       "      <td>...</td>\n",
       "      <td>...</td>\n",
       "    </tr>\n",
       "    <tr>\n",
       "      <th>56601</th>\n",
       "      <td>376871</td>\n",
       "      <td>L</td>\n",
       "    </tr>\n",
       "    <tr>\n",
       "      <th>56609</th>\n",
       "      <td>382809</td>\n",
       "      <td>R</td>\n",
       "    </tr>\n",
       "    <tr>\n",
       "      <th>56631</th>\n",
       "      <td>383487</td>\n",
       "      <td>R</td>\n",
       "    </tr>\n",
       "    <tr>\n",
       "      <th>56635</th>\n",
       "      <td>378686</td>\n",
       "      <td>R</td>\n",
       "    </tr>\n",
       "    <tr>\n",
       "      <th>56647</th>\n",
       "      <td>382272</td>\n",
       "      <td>L</td>\n",
       "    </tr>\n",
       "  </tbody>\n",
       "</table>\n",
       "<p>1841 rows × 2 columns</p>\n",
       "</div>"
      ],
      "text/plain": [
       "      patient_id laterality\n",
       "0          43876          L\n",
       "45        273001          R\n",
       "17        274080          L\n",
       "112        79124          R\n",
       "581        53686          L\n",
       "...          ...        ...\n",
       "56601     376871          L\n",
       "56609     382809          R\n",
       "56631     383487          R\n",
       "56635     378686          R\n",
       "56647     382272          L\n",
       "\n",
       "[1841 rows x 2 columns]"
      ]
     },
     "execution_count": 132,
     "metadata": {},
     "output_type": "execute_result"
    }
   ],
   "source": [
    "grouped_patients.obj[[\"patient_id\", \"laterality\"]].drop_duplicates()"
   ]
  },
  {
   "cell_type": "markdown",
   "metadata": {},
   "source": [
    "\n",
    "# get all patients with events before 2014-02-01\n",
    "Does not belong to above matching"
   ]
  },
  {
   "cell_type": "code",
   "execution_count": 133,
   "metadata": {},
   "outputs": [],
   "source": [
    "# load naive patients\n",
    "RAW_DIR = \"/storage/groups/ml01/datasets/raw/2018_LMUAugenklinik_niklas.koehler\"\n",
    "longitudinal_dir = os.path.join(RAW_DIR, \"joint_export/longitudinal_tables\")\n",
    "\n",
    "naive_list = pd.read_csv(os.path.join(longitudinal_dir, 'full_naive_list.csv'), index_col=0)\n",
    "naive_patients = naive_list[naive_list.Naive.astype(int) == 1].patient_id.drop_duplicates().astype(str).tolist()"
   ]
  },
  {
   "cell_type": "code",
   "execution_count": 134,
   "metadata": {
    "scrolled": true
   },
   "outputs": [
    {
     "name": "stdout",
     "output_type": "stream",
     "text": [
      "Pandas(Index=12670, patient_id='210579', laterality='L', study_date=Timestamp('2008-02-18 00:00:00'), ICPML='5-156', _5=True, _6=nan, MED=nan)\n",
      "Pandas(Index=25210, patient_id='83840', laterality='R', study_date=Timestamp('2010-05-11 00:00:00'), ICPML='5-156', _5=True, _6=nan, MED=nan)\n",
      "Pandas(Index=8353, patient_id='92730', laterality='L', study_date=Timestamp('2011-01-19 00:00:00'), ICPML='5-144', _5=True, _6=True, MED=nan)\n",
      "Pandas(Index=3137, patient_id='17177', laterality='L', study_date=Timestamp('2011-10-05 00:00:00'), ICPML='5-094', _5=True, _6=nan, MED=nan)\n",
      "Pandas(Index=35031, patient_id='48212', laterality='R', study_date=Timestamp('2012-04-23 00:00:00'), ICPML=nan, _5=nan, _6=True, MED=nan)\n",
      "Pandas(Index=22400, patient_id='47552', laterality='R', study_date=Timestamp('2013-04-10 00:00:00'), ICPML='5-144', _5=True, _6=True, MED=nan)\n",
      "Pandas(Index=1984, patient_id='1557', laterality='L', study_date=Timestamp('2013-04-29 00:00:00'), ICPML='5-156', _5=True, _6=nan, MED=nan)\n",
      "Pandas(Index=7281, patient_id='72537', laterality='L', study_date=Timestamp('2013-07-22 00:00:00'), ICPML='5-156', _5=True, _6=nan, MED=nan)\n",
      "Pandas(Index=31100, patient_id='254768', laterality='R', study_date=Timestamp('2013-08-19 00:00:00'), ICPML='5-156', _5=True, _6=nan, MED=nan)\n",
      "Pandas(Index=32216, patient_id='272763', laterality='R', study_date=Timestamp('2013-08-27 00:00:00'), ICPML='5-154', _5=True, _6=nan, MED=nan)\n",
      "Pandas(Index=16925, patient_id='295526', laterality='L', study_date=Timestamp('2013-08-27 00:00:00'), ICPML='5-156', _5=True, _6=True, MED=nan)\n",
      "Pandas(Index=29386, patient_id='210579', laterality='R', study_date=Timestamp('2013-08-29 00:00:00'), ICPML='5-156', _5=True, _6=True, MED=nan)\n",
      "Pandas(Index=34975, patient_id='296963', laterality='L', study_date=Timestamp('2013-09-16 00:00:00'), ICPML=nan, _5=nan, _6=True, MED=nan)\n",
      "Pandas(Index=33179, patient_id='295526', laterality='R', study_date=Timestamp('2013-09-17 00:00:00'), ICPML='5-144', _5=True, _6=True, MED=nan)\n",
      "Pandas(Index=8645, patient_id='97924', laterality='L', study_date=Timestamp('2013-10-02 00:00:00'), ICPML='5-156', _5=True, _6=nan, MED=nan)\n",
      "Pandas(Index=35035, patient_id='55977', laterality='R', study_date=Timestamp('2013-10-24 00:00:00'), ICPML=nan, _5=nan, _6=True, MED=nan)\n",
      "Pandas(Index=22447, patient_id='48221', laterality='R', study_date=Timestamp('2013-10-25 00:00:00'), ICPML='5-156', _5=True, _6=nan, MED=nan)\n",
      "Pandas(Index=34976, patient_id='299453', laterality='L', study_date=Timestamp('2013-11-13 00:00:00'), ICPML=nan, _5=nan, _6=True, MED=nan)\n",
      "Pandas(Index=33281, patient_id='300504', laterality='R', study_date=Timestamp('2013-12-11 00:00:00'), ICPML='5-156', _5=True, _6=nan, MED=nan)\n",
      "Pandas(Index=10667, patient_id='157626', laterality='L', study_date=Timestamp('2013-12-13 00:00:00'), ICPML='5-156', _5=True, _6=nan, MED=nan)\n",
      "Pandas(Index=34934, patient_id='203744', laterality='L', study_date=Timestamp('2013-12-14 00:00:00'), ICPML=nan, _5=nan, _6=True, MED=nan)\n"
     ]
    },
    {
     "ename": "NameError",
     "evalue": "name 'workspace_dir' is not defined",
     "output_type": "error",
     "traceback": [
      "\u001b[0;31m---------------------------------------------------------------------------\u001b[0m",
      "\u001b[0;31mNameError\u001b[0m                                 Traceback (most recent call last)",
      "\u001b[0;32m<ipython-input-134-5b6d19bd3994>\u001b[0m in \u001b[0;36m<module>\u001b[0;34m\u001b[0m\n\u001b[1;32m     31\u001b[0m \u001b[0mto_check_va\u001b[0m\u001b[0;34m[\u001b[0m\u001b[0;34m\"first_oct_date_registrered_wo_visual_acuity\"\u001b[0m\u001b[0;34m]\u001b[0m \u001b[0;34m=\u001b[0m \u001b[0moct_dates\u001b[0m\u001b[0;34m\u001b[0m\u001b[0;34m\u001b[0m\u001b[0m\n\u001b[1;32m     32\u001b[0m \u001b[0;34m\u001b[0m\u001b[0m\n\u001b[0;32m---> 33\u001b[0;31m \u001b[0mto_check_va\u001b[0m\u001b[0;34m.\u001b[0m\u001b[0mto_csv\u001b[0m\u001b[0;34m(\u001b[0m\u001b[0mos\u001b[0m\u001b[0;34m.\u001b[0m\u001b[0mpath\u001b[0m\u001b[0;34m.\u001b[0m\u001b[0mjoin\u001b[0m\u001b[0;34m(\u001b[0m\u001b[0mworkspace_dir\u001b[0m\u001b[0;34m,\u001b[0m \u001b[0;34m'joint_export/manual_visual_acuity_check.csv'\u001b[0m\u001b[0;34m)\u001b[0m\u001b[0;34m)\u001b[0m\u001b[0;34m\u001b[0m\u001b[0;34m\u001b[0m\u001b[0m\n\u001b[0m",
      "\u001b[0;31mNameError\u001b[0m: name 'workspace_dir' is not defined"
     ]
    }
   ],
   "source": [
    "events_before = events[events.study_date <= \"2014-02-01\"]\n",
    "events_before = events_before[events_before.patient_id.isin(naive_patients)]\n",
    "events_before_naive = events_before.sort_values(by=\"study_date\").drop_duplicates(subset=[\"patient_id\", \n",
    "                                                                                         \"laterality\"])  \n",
    "\n",
    "rows_to_check = []\n",
    "oct_dates = []\n",
    "for row in events_before_naive.itertuples():\n",
    "    patient = row[1]\n",
    "    laterality = row[2]\n",
    "    \n",
    "    lrecord = longitudinal_data[(longitudinal_data.patient_id == f\"{str(patient)}\") & \\\n",
    "                                (longitudinal_data.laterality == f\"{laterality}\")]\n",
    "    \n",
    "    first_date_w_oct_and_logMAR = lrecord[lrecord.logMAR.isna()].dropna(subset=[\"oct_path\"])\n",
    "    \n",
    "    first_date_w_oct_and_logMAR = first_date_w_oct_and_logMAR.sort_values(by=[\"study_date\"])\n",
    "    \n",
    "    if first_date_w_oct_and_logMAR.size > 0:\n",
    "        first_date_w_oct_and_logMAR = first_date_w_oct_and_logMAR.iloc[0].study_date\n",
    "\n",
    "        if first_date_w_oct_and_logMAR < row[3]:\n",
    "            rows_to_check.append(row)\n",
    "            oct_dates.append(first_date_w_oct_and_logMAR)\n",
    "            \n",
    "    else:\n",
    "        print(row)\n",
    "              \n",
    "to_check_va = pd.DataFrame(rows_to_check)[[\"patient_id\",\"laterality\",\"study_date\"]]\n",
    "to_check_va = to_check_va.rename(columns={\"study_date\": \"first_injection_date\"})\n",
    "to_check_va[\"first_oct_date_registrered_wo_visual_acuity\"] = oct_dates\n",
    "\n",
    "to_check_va.to_csv(os.path.join(workspace_dir, 'joint_export/manual_visual_acuity_check.csv'))"
   ]
  }
 ],
 "metadata": {
  "kernelspec": {
   "display_name": "tf2_super",
   "language": "python",
   "name": "tf2_super"
  },
  "language_info": {
   "codemirror_mode": {
    "name": "ipython",
    "version": 3
   },
   "file_extension": ".py",
   "mimetype": "text/x-python",
   "name": "python",
   "nbconvert_exporter": "python",
   "pygments_lexer": "ipython3",
   "version": "3.6.12"
  }
 },
 "nbformat": 4,
 "nbformat_minor": 4
}
