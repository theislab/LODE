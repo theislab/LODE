{
 "cells": [
  {
   "cell_type": "code",
   "execution_count": 1,
   "metadata": {
    "collapsed": true
   },
   "outputs": [],
   "source": [
    "import numpy as np\n",
    "import os\n",
    "import random\n",
    "import pydicom as pyd\n",
    "import cv2\n",
    "main_path = \"/media/olle/Seagate Expansion Drive/longitudinal_data_project/patients\"\n",
    "patients = os.listdir(main_path)"
   ]
  },
  {
   "cell_type": "code",
   "execution_count": 26,
   "metadata": {},
   "outputs": [
    {
     "ename": "KeyboardInterrupt",
     "evalue": "",
     "output_type": "error",
     "traceback": [
      "\u001b[0;31m---------------------------------------------------------------------------\u001b[0m",
      "\u001b[0;31mKeyboardInterrupt\u001b[0m                         Traceback (most recent call last)",
      "\u001b[0;32m<ipython-input-26-df26f7507325>\u001b[0m in \u001b[0;36m<module>\u001b[0;34m()\u001b[0m\n\u001b[1;32m     10\u001b[0m     \u001b[0mdicom_path\u001b[0m \u001b[0;34m=\u001b[0m \u001b[0mos\u001b[0m\u001b[0;34m.\u001b[0m\u001b[0mpath\u001b[0m\u001b[0;34m.\u001b[0m\u001b[0mjoin\u001b[0m\u001b[0;34m(\u001b[0m\u001b[0mpat_path\u001b[0m\u001b[0;34m,\u001b[0m \u001b[0mdicom_file\u001b[0m\u001b[0;34m)\u001b[0m\u001b[0;34m\u001b[0m\u001b[0m\n\u001b[1;32m     11\u001b[0m \u001b[0;34m\u001b[0m\u001b[0m\n\u001b[0;32m---> 12\u001b[0;31m     \u001b[0mdc\u001b[0m \u001b[0;34m=\u001b[0m \u001b[0mpyd\u001b[0m\u001b[0;34m.\u001b[0m\u001b[0mdcmread\u001b[0m\u001b[0;34m(\u001b[0m\u001b[0mdicom_path\u001b[0m\u001b[0;34m)\u001b[0m\u001b[0;34m\u001b[0m\u001b[0m\n\u001b[0m\u001b[1;32m     13\u001b[0m     \u001b[0;32mif\u001b[0m \u001b[0;34m\"pixel_arrax\"\u001b[0m \u001b[0;32min\u001b[0m \u001b[0mdc\u001b[0m\u001b[0;34m:\u001b[0m\u001b[0;34m\u001b[0m\u001b[0m\n\u001b[1;32m     14\u001b[0m         \u001b[0mpixel_data\u001b[0m \u001b[0;34m=\u001b[0m \u001b[0mdc\u001b[0m\u001b[0;34m.\u001b[0m\u001b[0mpixel_array\u001b[0m\u001b[0;34m\u001b[0m\u001b[0m\n",
      "\u001b[0;32m/home/olle/anaconda3/envs/tensorflow/lib/python2.7/site-packages/pydicom/filereader.pyc\u001b[0m in \u001b[0;36mdcmread\u001b[0;34m(fp, defer_size, stop_before_pixels, force, specific_tags)\u001b[0m\n\u001b[1;32m    884\u001b[0m     \u001b[0;32mtry\u001b[0m\u001b[0;34m:\u001b[0m\u001b[0;34m\u001b[0m\u001b[0m\n\u001b[1;32m    885\u001b[0m         dataset = read_partial(fp, stop_when, defer_size=defer_size,\n\u001b[0;32m--> 886\u001b[0;31m                                force=force, specific_tags=specific_tags)\n\u001b[0m\u001b[1;32m    887\u001b[0m     \u001b[0;32mfinally\u001b[0m\u001b[0;34m:\u001b[0m\u001b[0;34m\u001b[0m\u001b[0m\n\u001b[1;32m    888\u001b[0m         \u001b[0;32mif\u001b[0m \u001b[0;32mnot\u001b[0m \u001b[0mcaller_owns_file\u001b[0m\u001b[0;34m:\u001b[0m\u001b[0;34m\u001b[0m\u001b[0m\n",
      "\u001b[0;32m/home/olle/anaconda3/envs/tensorflow/lib/python2.7/site-packages/pydicom/filereader.pyc\u001b[0m in \u001b[0;36mread_partial\u001b[0;34m(fileobj, stop_when, defer_size, force, specific_tags)\u001b[0m\n\u001b[1;32m    763\u001b[0m         dataset = read_dataset(fileobj, is_implicit_VR, is_little_endian,\n\u001b[1;32m    764\u001b[0m                                \u001b[0mstop_when\u001b[0m\u001b[0;34m=\u001b[0m\u001b[0mstop_when\u001b[0m\u001b[0;34m,\u001b[0m \u001b[0mdefer_size\u001b[0m\u001b[0;34m=\u001b[0m\u001b[0mdefer_size\u001b[0m\u001b[0;34m,\u001b[0m\u001b[0;34m\u001b[0m\u001b[0m\n\u001b[0;32m--> 765\u001b[0;31m                                specific_tags=specific_tags)\n\u001b[0m\u001b[1;32m    766\u001b[0m     \u001b[0;32mexcept\u001b[0m \u001b[0mEOFError\u001b[0m\u001b[0;34m:\u001b[0m\u001b[0;34m\u001b[0m\u001b[0m\n\u001b[1;32m    767\u001b[0m         \u001b[0;32mpass\u001b[0m  \u001b[0;31m# error already logged in read_dataset\u001b[0m\u001b[0;34m\u001b[0m\u001b[0m\n",
      "\u001b[0;32m/home/olle/anaconda3/envs/tensorflow/lib/python2.7/site-packages/pydicom/filereader.pyc\u001b[0m in \u001b[0;36mread_dataset\u001b[0;34m(fp, is_implicit_VR, is_little_endian, bytelength, stop_when, defer_size, parent_encoding, specific_tags)\u001b[0m\n\u001b[1;32m    406\u001b[0m     \u001b[0;32mtry\u001b[0m\u001b[0;34m:\u001b[0m\u001b[0;34m\u001b[0m\u001b[0m\n\u001b[1;32m    407\u001b[0m         \u001b[0;32mwhile\u001b[0m \u001b[0;34m(\u001b[0m\u001b[0mbytelength\u001b[0m \u001b[0;32mis\u001b[0m \u001b[0mNone\u001b[0m\u001b[0;34m)\u001b[0m \u001b[0;32mor\u001b[0m \u001b[0;34m(\u001b[0m\u001b[0mfp\u001b[0m\u001b[0;34m.\u001b[0m\u001b[0mtell\u001b[0m\u001b[0;34m(\u001b[0m\u001b[0;34m)\u001b[0m \u001b[0;34m-\u001b[0m \u001b[0mfpStart\u001b[0m \u001b[0;34m<\u001b[0m \u001b[0mbytelength\u001b[0m\u001b[0;34m)\u001b[0m\u001b[0;34m:\u001b[0m\u001b[0;34m\u001b[0m\u001b[0m\n\u001b[0;32m--> 408\u001b[0;31m             \u001b[0mraw_data_element\u001b[0m \u001b[0;34m=\u001b[0m \u001b[0mnext\u001b[0m\u001b[0;34m(\u001b[0m\u001b[0mde_gen\u001b[0m\u001b[0;34m)\u001b[0m\u001b[0;34m\u001b[0m\u001b[0m\n\u001b[0m\u001b[1;32m    409\u001b[0m             \u001b[0;31m# Read data elements. Stop on some errors, but return what was read\u001b[0m\u001b[0;34m\u001b[0m\u001b[0;34m\u001b[0m\u001b[0m\n\u001b[1;32m    410\u001b[0m             \u001b[0mtag\u001b[0m \u001b[0;34m=\u001b[0m \u001b[0mraw_data_element\u001b[0m\u001b[0;34m.\u001b[0m\u001b[0mtag\u001b[0m\u001b[0;34m\u001b[0m\u001b[0m\n",
      "\u001b[0;32m/home/olle/anaconda3/envs/tensorflow/lib/python2.7/site-packages/pydicom/filereader.pyc\u001b[0m in \u001b[0;36mdata_element_generator\u001b[0;34m(fp, is_implicit_VR, is_little_endian, stop_when, defer_size, encoding, specific_tags)\u001b[0m\n\u001b[1;32m    281\u001b[0m                 \u001b[0mfp\u001b[0m\u001b[0;34m.\u001b[0m\u001b[0mseek\u001b[0m\u001b[0;34m(\u001b[0m\u001b[0mfp_tell\u001b[0m\u001b[0;34m(\u001b[0m\u001b[0;34m)\u001b[0m \u001b[0;34m+\u001b[0m \u001b[0mlength\u001b[0m\u001b[0;34m)\u001b[0m\u001b[0;34m\u001b[0m\u001b[0m\n\u001b[1;32m    282\u001b[0m             \u001b[0;32melse\u001b[0m\u001b[0;34m:\u001b[0m\u001b[0;34m\u001b[0m\u001b[0m\n\u001b[0;32m--> 283\u001b[0;31m                 \u001b[0mvalue\u001b[0m \u001b[0;34m=\u001b[0m \u001b[0mfp_read\u001b[0m\u001b[0;34m(\u001b[0m\u001b[0mlength\u001b[0m\u001b[0;34m)\u001b[0m\u001b[0;34m\u001b[0m\u001b[0m\n\u001b[0m\u001b[1;32m    284\u001b[0m                 \u001b[0;32mif\u001b[0m \u001b[0mdebugging\u001b[0m\u001b[0;34m:\u001b[0m\u001b[0;34m\u001b[0m\u001b[0m\n\u001b[1;32m    285\u001b[0m                     \u001b[0mdotdot\u001b[0m \u001b[0;34m=\u001b[0m \u001b[0;34m\"   \"\u001b[0m\u001b[0;34m\u001b[0m\u001b[0m\n",
      "\u001b[0;31mKeyboardInterrupt\u001b[0m: "
     ]
    }
   ],
   "source": [
    "for patient in patients:\n",
    "    pat_path = os.path.join(main_path,patient)\n",
    "\n",
    "    dicom_files = os.listdir(pat_path)\n",
    "    \n",
    "    random_int = np.random.choice(len(dicom_files))\n",
    "    \n",
    "    dicom_file = dicom_files[random_int]\n",
    "    \n",
    "    dicom_path = os.path.join(pat_path, dicom_file)\n",
    "    \n",
    "    dc = pyd.dcmread(dicom_path)\n",
    "    if \"pixel_arrax\" in dc:\n",
    "        pixel_data = dc.pixel_array\n",
    "        cv2.imshow('img',pixel_data)\n",
    "        k = cv2.waitKey(33)\n",
    "        if k==97:# a key\n",
    "            continue\n",
    "        elif k==98:# b key\n",
    "            \n",
    "            cv2.imwrite(\"/media/olle/Seagate Expansion Drive/longitudinal_data_project/cysts\",pixel_data)"
   ]
  },
  {
   "cell_type": "code",
   "execution_count": 30,
   "metadata": {},
   "outputs": [
    {
     "data": {
      "text/plain": [
       "'1.2.840.10008.5.1.4.1.1.77.1.5.4'"
      ]
     },
     "execution_count": 30,
     "metadata": {},
     "output_type": "execute_result"
    }
   ],
   "source": [
    "path = \"/media/olle/Seagate Expansion Drive/longitudinal_data_project/patients/12/\\\n",
    "1.3.6.1.4.1.33437.10.4.15740454.13060357782.12494.4.1.dcm\"\n",
    "\n",
    "dc = pyd.dcmread(path)\n",
    "dc.pixel_array[0].shape\n",
    "dc.SOPClassUID\n",
    "\"SeriesDescription\" in dc\n",
    "dc.SOPClassUID"
   ]
  },
  {
   "cell_type": "code",
   "execution_count": 25,
   "metadata": {
    "scrolled": true
   },
   "outputs": [
    {
     "data": {
      "text/plain": [
       "(0008, 0005) Specific Character Set              CS: 'ISO_IR 100'\n",
       "(0008, 0008) Image Type                          CS: ['ORIGINAL', 'PRIMARY', '', 'RED']\n",
       "(0008, 0012) Instance Creation Date              DA: '20141113'\n",
       "(0008, 0013) Instance Creation Time              TM: '141046'\n",
       "(0008, 0016) SOP Class UID                       UI: Ophthalmic Photography 8 Bit Image Storage\n",
       "(0008, 0018) SOP Instance UID                    UI: 1.3.6.1.4.1.33437.10.4.15740454.13060357787.12494.4.0.0.0\n",
       "(0008, 0020) Study Date                          DA: '20141113'\n",
       "(0008, 0023) Content Date                        DA: '20141113'\n",
       "(0008, 002a) Acquisition DateTime                DT: '20141113140750.348000'\n",
       "(0008, 0030) Study Time                          TM: '132012.000'\n",
       "(0008, 0033) Content Time                        TM: '140750.348000'\n",
       "(0008, 0050) Accession Number                    SH: '0095823686'\n",
       "(0008, 0060) Modality                            CS: 'OP'\n",
       "(0008, 0070) Manufacturer                        LO: 'Heidelberg Engineering'\n",
       "(0008, 0080) Institution Name                    LO: 'Augenklinik der LMU'\n",
       "(0008, 0090) Referring Physician's Name          PN: 'anonymous'\n",
       "(0008, 1010) Station Name                        SH: 'Spectralis UG'\n",
       "(0008, 1030) Study Description                   LO: 'Makula (OCT)'\n",
       "(0008, 1032)  Procedure Code Sequence   1 item(s) ---- \n",
       "   (0008, 0100) Code Value                          SH: 'ML_AUID400'\n",
       "   (0008, 0102) Coding Scheme Designator            SH: '01'\n",
       "   (0008, 0104) Code Meaning                        LO: 'Makula (OCT)'\n",
       "   ---------\n",
       "(0008, 103e) Series Description                  LO: 'Section IR 30\\xb0 ART'\n",
       "(0008, 1070) Operators' Name                     PN: 'anonymous'\n",
       "(0008, 1090) Manufacturer's Model Name           LO: 'Spectralis_NoSTRATUS'\n",
       "(0008, 1110)  Referenced Study Sequence   1 item(s) ---- \n",
       "   (0008, 1150) Referenced SOP Class UID            UI: ''\n",
       "   (0008, 1155) Referenced SOP Instance UID         UI: ''\n",
       "   ---------\n",
       "(0008, 2218)  Anatomic Region Sequence   1 item(s) ---- \n",
       "   (0008, 0100) Code Value                          SH: 'T-AA610'\n",
       "   (0008, 0102) Coding Scheme Designator            SH: 'SRT'\n",
       "   (0008, 0104) Code Meaning                        LO: 'Retina'\n",
       "   ---------\n",
       "(0010, 0010) Patient's Name                      PN: 'anonymous'\n",
       "(0010, 0020) Patient ID                          LO: '12'\n",
       "(0010, 0021) Issuer of Patient ID                LO: 'ISH'\n",
       "(0010, 0030) Patient's Birth Date                DA: '19270101'\n",
       "(0010, 0040) Patient's Sex                       CS: 'M'\n",
       "(0018, 1000) Device Serial Number                LO: '5323.5322.3752'\n",
       "(0018, 1020) Software Version(s)                 LO: ['SW-VWM 6.0.7.0', 'FW-CAM 2.3.5.0', 'FW-PWS 1.5.4.0', 'FW-TSP 1.6.0.0', 'SW-AQM 6.0.10.0']\n",
       "(0018, 1063) Frame Time                          DS: \"0\"\n",
       "(0018, 106a) Synchronization Trigger             CS: 'NO TRIGGER'\n",
       "(0018, 1800) Acquisition Time Synchronized       CS: 'N'\n",
       "(0018, 7004) Detector Type                       CS: ''\n",
       "(0020, 000d) Study Instance UID                  UI: 1.2.276.0.75.2.5.30.25.1.141113132012827.345048613037.1901958986\n",
       "(0020, 000e) Series Instance UID                 UI: 1.3.6.1.4.1.33437.10.3.15740454.13060357787.12494.3.0\n",
       "(0020, 0010) Study ID                            SH: '372127028'\n",
       "(0020, 0011) Series Number                       IS: '361811000'\n",
       "(0020, 0013) Instance Number                     IS: '1'\n",
       "(0020, 0020) Patient Orientation                 CS: ['L', 'F']\n",
       "(0020, 0052) Frame of Reference UID              UI: 1.3.6.1.4.1.33437.10.5.15740454.13060357787.12494.5\n",
       "(0020, 0062) Image Laterality                    CS: 'R'\n",
       "(0020, 0200) Synchronization Frame of Reference  UI: 1.2.276.0.7230010.3.1.4.2886226397.3636.1254908021.9.1\n",
       "(0020, 1040) Position Reference Indicator        LO: ''\n",
       "(0022, 0005) Patient Eye Movement Commanded      CS: 'YES'\n",
       "(0022, 0006)  Patient Eye Movement Command Code Sequence   1 item(s) ---- \n",
       "   (0008, 0100) Code Value                          SH: 'R-1022D'\n",
       "   (0008, 0102) Coding Scheme Designator            SH: 'SRT'\n",
       "   (0008, 0104) Code Meaning                        LO: 'Primary gaze'\n",
       "   ---------\n",
       "(0022, 000a) Emmetropic Magnification            FL: ''\n",
       "(0022, 000b) Intra Ocular Pressure               FL: ''\n",
       "(0022, 000c) Horizontal Field of View            FL: 30.0\n",
       "(0022, 000d) Pupil Dilated                       CS: ''\n",
       "(0022, 0015)  Acquisition Device Type Code Sequence   1 item(s) ---- \n",
       "   (0008, 0100) Code Value                          SH: 'A-00E8A'\n",
       "   (0008, 0102) Coding Scheme Designator            SH: 'SRT'\n",
       "   (0008, 0104) Code Meaning                        LO: 'Scanning Laser Ophthalmoscope'\n",
       "   ---------\n",
       "(0022, 0016)  Illumination Type Code Sequence   0 item(s) ---- \n",
       "(0022, 0017)  Light Path Filter Type Stack Code Sequence   0 item(s) ---- \n",
       "(0022, 0018)  Image Path Filter Type Stack Code Sequence   0 item(s) ---- \n",
       "(0022, 0019)  Lenses Code Sequence   0 item(s) ---- \n",
       "(0022, 001b)  Refractive State Sequence   0 item(s) ---- \n",
       "(0028, 0002) Samples per Pixel                   US: 1\n",
       "(0028, 0004) Photometric Interpretation          CS: 'MONOCHROME2'\n",
       "(0028, 0008) Number of Frames                    IS: '1'\n",
       "(0028, 0009) Frame Increment Pointer             AT: (0018, 1063)\n",
       "(0028, 0010) Rows                                US: 768\n",
       "(0028, 0011) Columns                             US: 768\n",
       "(0028, 0030) Pixel Spacing                       DS: ['0.011919', '0.011919']\n",
       "(0028, 0100) Bits Allocated                      US: 8\n",
       "(0028, 0101) Bits Stored                         US: 8\n",
       "(0028, 0102) High Bit                            US: 7\n",
       "(0028, 0103) Pixel Representation                US: 0\n",
       "(0028, 0301) Burned In Annotation                CS: 'NO'\n",
       "(0028, 2110) Lossy Image Compression             CS: '00'\n",
       "(0040, 0275)  Request Attributes Sequence   1 item(s) ---- \n",
       "   (0032, 1060) Requested Procedure Description     LO: 'Makula (OCT)'\n",
       "   (0040, 0007) Scheduled Procedure Step Descriptio LO: 'Makula (OCT)'\n",
       "   (0040, 0008)  Scheduled Protocol Code Sequence   1 item(s) ---- \n",
       "      (0008, 0100) Code Value                          SH: 'ML_AUID400'\n",
       "      (0008, 0102) Coding Scheme Designator            SH: '01'\n",
       "      (0008, 0104) Code Meaning                        LO: 'Makula (OCT)'\n",
       "      ---------\n",
       "   (0040, 0009) Scheduled Procedure Step ID         SH: '62678'\n",
       "   (0040, 1001) Requested Procedure ID              SH: '62679'\n",
       "   ---------\n",
       "(2050, 0020) Presentation LUT Shape              CS: 'IDENTITY'\n",
       "(7fe0, 0010) Pixel Data                          OB: Array of 589824 bytes"
      ]
     },
     "execution_count": 25,
     "metadata": {},
     "output_type": "execute_result"
    }
   ],
   "source": [
    "path = \"/media/olle/Seagate Expansion Drive/longitudinal_data_project/patients/12/\\\n",
    "1.3.6.1.4.1.33437.10.4.15740454.13060357787.12494.4.0.0.0.dcm\"\n",
    "\n",
    "dc = pyd.dcmread(path)\n",
    "dc.pixel_array[0].shape\n",
    "dc.SOPClassUID\n",
    "dc"
   ]
  },
  {
   "cell_type": "code",
   "execution_count": null,
   "metadata": {},
   "outputs": [
    {
     "name": "stdout",
     "output_type": "stream",
     "text": [
      "101\n",
      "110\n",
      "105\n",
      "115\n"
     ]
    }
   ],
   "source": [
    "import cv2\n",
    "img = cv2.imread('/home/olle/PycharmProjects/segmentation_OCT/data/clinic_data/train_images/2_210_.png') # load a dummy image\n",
    "while(1):\n",
    "    cv2.imshow('img',img)\n",
    "    k = cv2.waitKey(33)\n",
    "    if k==27:    # Esc key to stop\n",
    "        break\n",
    "    elif k==-1:  # normally -1 returned,so don't print it\n",
    "        continue\n",
    "    else:\n",
    "        print k # else print its value"
   ]
  }
 ],
 "metadata": {
  "kernelspec": {
   "display_name": "Python [conda env:root] *",
   "language": "python",
   "name": "conda-root-py"
  },
  "language_info": {
   "codemirror_mode": {
    "name": "ipython",
    "version": 3
   },
   "file_extension": ".py",
   "mimetype": "text/x-python",
   "name": "python",
   "nbconvert_exporter": "python",
   "pygments_lexer": "ipython3",
   "version": "3.7.3"
  }
 },
 "nbformat": 4,
 "nbformat_minor": 2
}
