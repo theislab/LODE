{
 "cells": [
  {
   "cell_type": "code",
   "execution_count": 1,
   "metadata": {},
   "outputs": [],
   "source": [
    "import os\n",
    "import pandas as pd\n",
    "import numpy as np\n",
    "import matplotlib.pyplot as plt\n",
    "\n",
    "data_file = \"/home/olle/PycharmProjects/LODE/workspace/sequence_data/longitudinal_properties_naive.csv\"\n",
    "data_pd = pd.read_csv(data_file)"
   ]
  },
  {
   "cell_type": "code",
   "execution_count": 2,
   "metadata": {
    "scrolled": true
   },
   "outputs": [
    {
     "data": {
      "text/html": [
       "<div>\n",
       "<style scoped>\n",
       "    .dataframe tbody tr th:only-of-type {\n",
       "        vertical-align: middle;\n",
       "    }\n",
       "\n",
       "    .dataframe tbody tr th {\n",
       "        vertical-align: top;\n",
       "    }\n",
       "\n",
       "    .dataframe thead th {\n",
       "        text-align: right;\n",
       "    }\n",
       "</style>\n",
       "<table border=\"1\" class=\"dataframe\">\n",
       "  <thead>\n",
       "    <tr style=\"text-align: right;\">\n",
       "      <th></th>\n",
       "      <th>Unnamed: 0</th>\n",
       "      <th>patient_id</th>\n",
       "      <th>laterality</th>\n",
       "      <th>first_injection_date</th>\n",
       "      <th>Naive</th>\n",
       "      <th>sequence</th>\n",
       "      <th>Unnamed: 0.1</th>\n",
       "      <th>study_date_1</th>\n",
       "      <th>total_fluid_1</th>\n",
       "      <th>time_range_1</th>\n",
       "      <th>...</th>\n",
       "      <th>next_va_24</th>\n",
       "      <th>intra_retinal_fluid_24</th>\n",
       "      <th>sub_retinal_fluid_24</th>\n",
       "      <th>srhm_24</th>\n",
       "      <th>fibrovascular_ped_24</th>\n",
       "      <th>choroid_24</th>\n",
       "      <th>drusen_24</th>\n",
       "      <th>rpe_24</th>\n",
       "      <th>epiretinal_membrane_24</th>\n",
       "      <th>fibrosis_24</th>\n",
       "    </tr>\n",
       "  </thead>\n",
       "  <tbody>\n",
       "    <tr>\n",
       "      <th>0</th>\n",
       "      <td>0</td>\n",
       "      <td>18</td>\n",
       "      <td>R</td>\n",
       "      <td>2017-09-26</td>\n",
       "      <td>1</td>\n",
       "      <td>18_R</td>\n",
       "      <td>0.0</td>\n",
       "      <td>2017-10-24</td>\n",
       "      <td>0.001141</td>\n",
       "      <td>NaN</td>\n",
       "      <td>...</td>\n",
       "      <td>NaN</td>\n",
       "      <td>0.002282</td>\n",
       "      <td>0.000074</td>\n",
       "      <td>0.007628</td>\n",
       "      <td>0.021696</td>\n",
       "      <td>2.288639</td>\n",
       "      <td>0.103669</td>\n",
       "      <td>0.442962</td>\n",
       "      <td>0.000166</td>\n",
       "      <td>0.000000</td>\n",
       "    </tr>\n",
       "    <tr>\n",
       "      <th>1</th>\n",
       "      <td>1</td>\n",
       "      <td>502</td>\n",
       "      <td>L</td>\n",
       "      <td>2017-07-04</td>\n",
       "      <td>1</td>\n",
       "      <td>502_L</td>\n",
       "      <td>1.0</td>\n",
       "      <td>2017-07-04</td>\n",
       "      <td>0.002359</td>\n",
       "      <td>NaN</td>\n",
       "      <td>...</td>\n",
       "      <td>NaN</td>\n",
       "      <td>0.004142</td>\n",
       "      <td>0.058838</td>\n",
       "      <td>0.011731</td>\n",
       "      <td>0.655212</td>\n",
       "      <td>0.781128</td>\n",
       "      <td>0.018328</td>\n",
       "      <td>0.483630</td>\n",
       "      <td>0.004739</td>\n",
       "      <td>0.013973</td>\n",
       "    </tr>\n",
       "    <tr>\n",
       "      <th>2</th>\n",
       "      <td>2</td>\n",
       "      <td>709</td>\n",
       "      <td>L</td>\n",
       "      <td>2016-08-08</td>\n",
       "      <td>1</td>\n",
       "      <td>709_L</td>\n",
       "      <td>4.0</td>\n",
       "      <td>2016-08-08</td>\n",
       "      <td>0.270185</td>\n",
       "      <td>NaN</td>\n",
       "      <td>...</td>\n",
       "      <td>0.886057</td>\n",
       "      <td>0.038588</td>\n",
       "      <td>0.001382</td>\n",
       "      <td>0.064977</td>\n",
       "      <td>0.193780</td>\n",
       "      <td>1.385576</td>\n",
       "      <td>0.000991</td>\n",
       "      <td>0.347591</td>\n",
       "      <td>0.080791</td>\n",
       "      <td>0.494781</td>\n",
       "    </tr>\n",
       "    <tr>\n",
       "      <th>3</th>\n",
       "      <td>3</td>\n",
       "      <td>1263</td>\n",
       "      <td>L</td>\n",
       "      <td>2015-07-31</td>\n",
       "      <td>1</td>\n",
       "      <td>1263_L</td>\n",
       "      <td>6.0</td>\n",
       "      <td>2016-02-29</td>\n",
       "      <td>0.002058</td>\n",
       "      <td>NaN</td>\n",
       "      <td>...</td>\n",
       "      <td>0.397940</td>\n",
       "      <td>0.000174</td>\n",
       "      <td>0.000054</td>\n",
       "      <td>0.005304</td>\n",
       "      <td>0.085024</td>\n",
       "      <td>2.119622</td>\n",
       "      <td>0.026682</td>\n",
       "      <td>0.494649</td>\n",
       "      <td>0.004095</td>\n",
       "      <td>0.010608</td>\n",
       "    </tr>\n",
       "    <tr>\n",
       "      <th>4</th>\n",
       "      <td>4</td>\n",
       "      <td>1263</td>\n",
       "      <td>R</td>\n",
       "      <td>2015-08-14</td>\n",
       "      <td>1</td>\n",
       "      <td>1263_R</td>\n",
       "      <td>7.0</td>\n",
       "      <td>2016-05-06</td>\n",
       "      <td>0.001133</td>\n",
       "      <td>NaN</td>\n",
       "      <td>...</td>\n",
       "      <td>0.397940</td>\n",
       "      <td>0.003474</td>\n",
       "      <td>0.000033</td>\n",
       "      <td>0.002744</td>\n",
       "      <td>0.072096</td>\n",
       "      <td>1.422588</td>\n",
       "      <td>0.035863</td>\n",
       "      <td>0.446715</td>\n",
       "      <td>0.002494</td>\n",
       "      <td>0.015225</td>\n",
       "    </tr>\n",
       "    <tr>\n",
       "      <th>5</th>\n",
       "      <td>5</td>\n",
       "      <td>1475</td>\n",
       "      <td>L</td>\n",
       "      <td>2016-04-07</td>\n",
       "      <td>1</td>\n",
       "      <td>1475_L</td>\n",
       "      <td>8.0</td>\n",
       "      <td>2016-04-07</td>\n",
       "      <td>0.047893</td>\n",
       "      <td>NaN</td>\n",
       "      <td>...</td>\n",
       "      <td>0.602060</td>\n",
       "      <td>0.026477</td>\n",
       "      <td>0.020254</td>\n",
       "      <td>0.007385</td>\n",
       "      <td>0.071712</td>\n",
       "      <td>0.672631</td>\n",
       "      <td>0.001486</td>\n",
       "      <td>0.438873</td>\n",
       "      <td>0.004323</td>\n",
       "      <td>0.148093</td>\n",
       "    </tr>\n",
       "    <tr>\n",
       "      <th>6</th>\n",
       "      <td>7</td>\n",
       "      <td>1557</td>\n",
       "      <td>R</td>\n",
       "      <td>2013-09-27</td>\n",
       "      <td>1</td>\n",
       "      <td>1557_R</td>\n",
       "      <td>11.0</td>\n",
       "      <td>2013-09-20</td>\n",
       "      <td>0.389026</td>\n",
       "      <td>NaN</td>\n",
       "      <td>...</td>\n",
       "      <td>0.698970</td>\n",
       "      <td>0.000693</td>\n",
       "      <td>0.001843</td>\n",
       "      <td>0.019360</td>\n",
       "      <td>0.240204</td>\n",
       "      <td>2.128582</td>\n",
       "      <td>0.008848</td>\n",
       "      <td>0.437410</td>\n",
       "      <td>0.008200</td>\n",
       "      <td>0.067541</td>\n",
       "    </tr>\n",
       "    <tr>\n",
       "      <th>7</th>\n",
       "      <td>8</td>\n",
       "      <td>1826</td>\n",
       "      <td>L</td>\n",
       "      <td>2016-06-02</td>\n",
       "      <td>1</td>\n",
       "      <td>1826_L</td>\n",
       "      <td>14.0</td>\n",
       "      <td>2016-08-08</td>\n",
       "      <td>0.119052</td>\n",
       "      <td>NaN</td>\n",
       "      <td>...</td>\n",
       "      <td>NaN</td>\n",
       "      <td>0.002285</td>\n",
       "      <td>0.002121</td>\n",
       "      <td>0.002930</td>\n",
       "      <td>0.334928</td>\n",
       "      <td>0.876528</td>\n",
       "      <td>0.004297</td>\n",
       "      <td>0.416064</td>\n",
       "      <td>0.013142</td>\n",
       "      <td>0.095830</td>\n",
       "    </tr>\n",
       "    <tr>\n",
       "      <th>8</th>\n",
       "      <td>9</td>\n",
       "      <td>2005</td>\n",
       "      <td>L</td>\n",
       "      <td>2016-06-17</td>\n",
       "      <td>1</td>\n",
       "      <td>2005_L</td>\n",
       "      <td>15.0</td>\n",
       "      <td>2016-09-09</td>\n",
       "      <td>0.094189</td>\n",
       "      <td>NaN</td>\n",
       "      <td>...</td>\n",
       "      <td>NaN</td>\n",
       "      <td>0.000810</td>\n",
       "      <td>0.024096</td>\n",
       "      <td>0.001138</td>\n",
       "      <td>0.405621</td>\n",
       "      <td>1.279548</td>\n",
       "      <td>0.011018</td>\n",
       "      <td>0.459778</td>\n",
       "      <td>0.068946</td>\n",
       "      <td>0.000799</td>\n",
       "    </tr>\n",
       "    <tr>\n",
       "      <th>9</th>\n",
       "      <td>10</td>\n",
       "      <td>2005</td>\n",
       "      <td>R</td>\n",
       "      <td>2016-11-04</td>\n",
       "      <td>1</td>\n",
       "      <td>2005_R</td>\n",
       "      <td>16.0</td>\n",
       "      <td>2016-11-04</td>\n",
       "      <td>0.041884</td>\n",
       "      <td>NaN</td>\n",
       "      <td>...</td>\n",
       "      <td>NaN</td>\n",
       "      <td>0.000041</td>\n",
       "      <td>0.303737</td>\n",
       "      <td>0.000000</td>\n",
       "      <td>0.436588</td>\n",
       "      <td>1.215203</td>\n",
       "      <td>0.013469</td>\n",
       "      <td>0.478167</td>\n",
       "      <td>0.002973</td>\n",
       "      <td>0.000000</td>\n",
       "    </tr>\n",
       "    <tr>\n",
       "      <th>10</th>\n",
       "      <td>11</td>\n",
       "      <td>4206</td>\n",
       "      <td>L</td>\n",
       "      <td>2013-10-11</td>\n",
       "      <td>1</td>\n",
       "      <td>4206_L</td>\n",
       "      <td>20.0</td>\n",
       "      <td>2013-08-13</td>\n",
       "      <td>0.252856</td>\n",
       "      <td>NaN</td>\n",
       "      <td>...</td>\n",
       "      <td>0.886057</td>\n",
       "      <td>0.060799</td>\n",
       "      <td>0.004836</td>\n",
       "      <td>0.048626</td>\n",
       "      <td>0.435461</td>\n",
       "      <td>3.406546</td>\n",
       "      <td>0.000395</td>\n",
       "      <td>0.405971</td>\n",
       "      <td>0.006854</td>\n",
       "      <td>0.015847</td>\n",
       "    </tr>\n",
       "    <tr>\n",
       "      <th>11</th>\n",
       "      <td>12</td>\n",
       "      <td>4206</td>\n",
       "      <td>R</td>\n",
       "      <td>2013-08-26</td>\n",
       "      <td>1</td>\n",
       "      <td>4206_R</td>\n",
       "      <td>21.0</td>\n",
       "      <td>2013-08-13</td>\n",
       "      <td>0.046816</td>\n",
       "      <td>NaN</td>\n",
       "      <td>...</td>\n",
       "      <td>0.301030</td>\n",
       "      <td>0.000362</td>\n",
       "      <td>0.000000</td>\n",
       "      <td>0.006350</td>\n",
       "      <td>0.033459</td>\n",
       "      <td>2.892356</td>\n",
       "      <td>0.012633</td>\n",
       "      <td>0.458271</td>\n",
       "      <td>0.005341</td>\n",
       "      <td>0.025739</td>\n",
       "    </tr>\n",
       "    <tr>\n",
       "      <th>12</th>\n",
       "      <td>13</td>\n",
       "      <td>4724</td>\n",
       "      <td>L</td>\n",
       "      <td>2016-01-18</td>\n",
       "      <td>1</td>\n",
       "      <td>4724_L</td>\n",
       "      <td>24.0</td>\n",
       "      <td>2016-04-15</td>\n",
       "      <td>0.000314</td>\n",
       "      <td>NaN</td>\n",
       "      <td>...</td>\n",
       "      <td>0.097463</td>\n",
       "      <td>0.001250</td>\n",
       "      <td>0.011250</td>\n",
       "      <td>0.000338</td>\n",
       "      <td>0.032218</td>\n",
       "      <td>1.877400</td>\n",
       "      <td>0.003088</td>\n",
       "      <td>0.486758</td>\n",
       "      <td>0.055291</td>\n",
       "      <td>0.000839</td>\n",
       "    </tr>\n",
       "    <tr>\n",
       "      <th>13</th>\n",
       "      <td>14</td>\n",
       "      <td>6107</td>\n",
       "      <td>L</td>\n",
       "      <td>2015-05-15</td>\n",
       "      <td>1</td>\n",
       "      <td>6107_L</td>\n",
       "      <td>41.0</td>\n",
       "      <td>2015-12-07</td>\n",
       "      <td>0.059207</td>\n",
       "      <td>NaN</td>\n",
       "      <td>...</td>\n",
       "      <td>0.795880</td>\n",
       "      <td>0.036121</td>\n",
       "      <td>0.105315</td>\n",
       "      <td>0.042811</td>\n",
       "      <td>0.244415</td>\n",
       "      <td>0.498850</td>\n",
       "      <td>0.001038</td>\n",
       "      <td>0.439837</td>\n",
       "      <td>0.034781</td>\n",
       "      <td>0.199000</td>\n",
       "    </tr>\n",
       "    <tr>\n",
       "      <th>14</th>\n",
       "      <td>15</td>\n",
       "      <td>7561</td>\n",
       "      <td>L</td>\n",
       "      <td>2014-07-23</td>\n",
       "      <td>1</td>\n",
       "      <td>7561_L</td>\n",
       "      <td>43.0</td>\n",
       "      <td>2014-07-18</td>\n",
       "      <td>0.078663</td>\n",
       "      <td>NaN</td>\n",
       "      <td>...</td>\n",
       "      <td>1.176091</td>\n",
       "      <td>0.013012</td>\n",
       "      <td>0.089557</td>\n",
       "      <td>0.063281</td>\n",
       "      <td>0.047495</td>\n",
       "      <td>1.560504</td>\n",
       "      <td>0.000346</td>\n",
       "      <td>0.472634</td>\n",
       "      <td>0.029530</td>\n",
       "      <td>0.056239</td>\n",
       "    </tr>\n",
       "    <tr>\n",
       "      <th>15</th>\n",
       "      <td>16</td>\n",
       "      <td>7561</td>\n",
       "      <td>R</td>\n",
       "      <td>2017-01-27</td>\n",
       "      <td>1</td>\n",
       "      <td>7561_R</td>\n",
       "      <td>44.0</td>\n",
       "      <td>2017-01-13</td>\n",
       "      <td>0.037483</td>\n",
       "      <td>NaN</td>\n",
       "      <td>...</td>\n",
       "      <td>NaN</td>\n",
       "      <td>0.000000</td>\n",
       "      <td>0.000011</td>\n",
       "      <td>0.004649</td>\n",
       "      <td>0.038415</td>\n",
       "      <td>2.422795</td>\n",
       "      <td>0.008171</td>\n",
       "      <td>0.467158</td>\n",
       "      <td>0.003663</td>\n",
       "      <td>0.002850</td>\n",
       "    </tr>\n",
       "    <tr>\n",
       "      <th>16</th>\n",
       "      <td>17</td>\n",
       "      <td>7659</td>\n",
       "      <td>L</td>\n",
       "      <td>2013-10-09</td>\n",
       "      <td>1</td>\n",
       "      <td>7659_L</td>\n",
       "      <td>45.0</td>\n",
       "      <td>2013-09-30</td>\n",
       "      <td>0.696653</td>\n",
       "      <td>NaN</td>\n",
       "      <td>...</td>\n",
       "      <td>0.116614</td>\n",
       "      <td>0.000319</td>\n",
       "      <td>0.199677</td>\n",
       "      <td>0.005915</td>\n",
       "      <td>0.583624</td>\n",
       "      <td>2.714179</td>\n",
       "      <td>0.018961</td>\n",
       "      <td>0.460219</td>\n",
       "      <td>0.000632</td>\n",
       "      <td>0.001089</td>\n",
       "    </tr>\n",
       "    <tr>\n",
       "      <th>17</th>\n",
       "      <td>18</td>\n",
       "      <td>7763</td>\n",
       "      <td>L</td>\n",
       "      <td>2014-02-11</td>\n",
       "      <td>1</td>\n",
       "      <td>7763_L</td>\n",
       "      <td>47.0</td>\n",
       "      <td>2014-01-07</td>\n",
       "      <td>0.036710</td>\n",
       "      <td>NaN</td>\n",
       "      <td>...</td>\n",
       "      <td>0.418053</td>\n",
       "      <td>0.013234</td>\n",
       "      <td>0.001833</td>\n",
       "      <td>0.012387</td>\n",
       "      <td>0.370908</td>\n",
       "      <td>0.437202</td>\n",
       "      <td>0.019516</td>\n",
       "      <td>0.438691</td>\n",
       "      <td>0.008019</td>\n",
       "      <td>0.042872</td>\n",
       "    </tr>\n",
       "    <tr>\n",
       "      <th>18</th>\n",
       "      <td>19</td>\n",
       "      <td>7763</td>\n",
       "      <td>R</td>\n",
       "      <td>2014-04-10</td>\n",
       "      <td>1</td>\n",
       "      <td>7763_R</td>\n",
       "      <td>48.0</td>\n",
       "      <td>2014-01-07</td>\n",
       "      <td>0.137767</td>\n",
       "      <td>NaN</td>\n",
       "      <td>...</td>\n",
       "      <td>0.143604</td>\n",
       "      <td>0.000026</td>\n",
       "      <td>0.036523</td>\n",
       "      <td>0.000013</td>\n",
       "      <td>0.181640</td>\n",
       "      <td>0.995252</td>\n",
       "      <td>0.001873</td>\n",
       "      <td>0.489891</td>\n",
       "      <td>0.001002</td>\n",
       "      <td>0.000009</td>\n",
       "    </tr>\n",
       "    <tr>\n",
       "      <th>19</th>\n",
       "      <td>20</td>\n",
       "      <td>11368</td>\n",
       "      <td>R</td>\n",
       "      <td>2017-03-29</td>\n",
       "      <td>1</td>\n",
       "      <td>11368_R</td>\n",
       "      <td>NaN</td>\n",
       "      <td>NaN</td>\n",
       "      <td>NaN</td>\n",
       "      <td>NaN</td>\n",
       "      <td>...</td>\n",
       "      <td>NaN</td>\n",
       "      <td>NaN</td>\n",
       "      <td>NaN</td>\n",
       "      <td>NaN</td>\n",
       "      <td>NaN</td>\n",
       "      <td>NaN</td>\n",
       "      <td>NaN</td>\n",
       "      <td>NaN</td>\n",
       "      <td>NaN</td>\n",
       "      <td>NaN</td>\n",
       "    </tr>\n",
       "  </tbody>\n",
       "</table>\n",
       "<p>20 rows × 92 columns</p>\n",
       "</div>"
      ],
      "text/plain": [
       "    Unnamed: 0  patient_id laterality first_injection_date  Naive sequence  \\\n",
       "0            0          18          R           2017-09-26      1     18_R   \n",
       "1            1         502          L           2017-07-04      1    502_L   \n",
       "2            2         709          L           2016-08-08      1    709_L   \n",
       "3            3        1263          L           2015-07-31      1   1263_L   \n",
       "4            4        1263          R           2015-08-14      1   1263_R   \n",
       "5            5        1475          L           2016-04-07      1   1475_L   \n",
       "6            7        1557          R           2013-09-27      1   1557_R   \n",
       "7            8        1826          L           2016-06-02      1   1826_L   \n",
       "8            9        2005          L           2016-06-17      1   2005_L   \n",
       "9           10        2005          R           2016-11-04      1   2005_R   \n",
       "10          11        4206          L           2013-10-11      1   4206_L   \n",
       "11          12        4206          R           2013-08-26      1   4206_R   \n",
       "12          13        4724          L           2016-01-18      1   4724_L   \n",
       "13          14        6107          L           2015-05-15      1   6107_L   \n",
       "14          15        7561          L           2014-07-23      1   7561_L   \n",
       "15          16        7561          R           2017-01-27      1   7561_R   \n",
       "16          17        7659          L           2013-10-09      1   7659_L   \n",
       "17          18        7763          L           2014-02-11      1   7763_L   \n",
       "18          19        7763          R           2014-04-10      1   7763_R   \n",
       "19          20       11368          R           2017-03-29      1  11368_R   \n",
       "\n",
       "    Unnamed: 0.1 study_date_1  total_fluid_1  time_range_1  ...  next_va_24  \\\n",
       "0            0.0   2017-10-24       0.001141           NaN  ...         NaN   \n",
       "1            1.0   2017-07-04       0.002359           NaN  ...         NaN   \n",
       "2            4.0   2016-08-08       0.270185           NaN  ...    0.886057   \n",
       "3            6.0   2016-02-29       0.002058           NaN  ...    0.397940   \n",
       "4            7.0   2016-05-06       0.001133           NaN  ...    0.397940   \n",
       "5            8.0   2016-04-07       0.047893           NaN  ...    0.602060   \n",
       "6           11.0   2013-09-20       0.389026           NaN  ...    0.698970   \n",
       "7           14.0   2016-08-08       0.119052           NaN  ...         NaN   \n",
       "8           15.0   2016-09-09       0.094189           NaN  ...         NaN   \n",
       "9           16.0   2016-11-04       0.041884           NaN  ...         NaN   \n",
       "10          20.0   2013-08-13       0.252856           NaN  ...    0.886057   \n",
       "11          21.0   2013-08-13       0.046816           NaN  ...    0.301030   \n",
       "12          24.0   2016-04-15       0.000314           NaN  ...    0.097463   \n",
       "13          41.0   2015-12-07       0.059207           NaN  ...    0.795880   \n",
       "14          43.0   2014-07-18       0.078663           NaN  ...    1.176091   \n",
       "15          44.0   2017-01-13       0.037483           NaN  ...         NaN   \n",
       "16          45.0   2013-09-30       0.696653           NaN  ...    0.116614   \n",
       "17          47.0   2014-01-07       0.036710           NaN  ...    0.418053   \n",
       "18          48.0   2014-01-07       0.137767           NaN  ...    0.143604   \n",
       "19           NaN          NaN            NaN           NaN  ...         NaN   \n",
       "\n",
       "    intra_retinal_fluid_24  sub_retinal_fluid_24   srhm_24  \\\n",
       "0                 0.002282              0.000074  0.007628   \n",
       "1                 0.004142              0.058838  0.011731   \n",
       "2                 0.038588              0.001382  0.064977   \n",
       "3                 0.000174              0.000054  0.005304   \n",
       "4                 0.003474              0.000033  0.002744   \n",
       "5                 0.026477              0.020254  0.007385   \n",
       "6                 0.000693              0.001843  0.019360   \n",
       "7                 0.002285              0.002121  0.002930   \n",
       "8                 0.000810              0.024096  0.001138   \n",
       "9                 0.000041              0.303737  0.000000   \n",
       "10                0.060799              0.004836  0.048626   \n",
       "11                0.000362              0.000000  0.006350   \n",
       "12                0.001250              0.011250  0.000338   \n",
       "13                0.036121              0.105315  0.042811   \n",
       "14                0.013012              0.089557  0.063281   \n",
       "15                0.000000              0.000011  0.004649   \n",
       "16                0.000319              0.199677  0.005915   \n",
       "17                0.013234              0.001833  0.012387   \n",
       "18                0.000026              0.036523  0.000013   \n",
       "19                     NaN                   NaN       NaN   \n",
       "\n",
       "    fibrovascular_ped_24  choroid_24  drusen_24    rpe_24  \\\n",
       "0               0.021696    2.288639   0.103669  0.442962   \n",
       "1               0.655212    0.781128   0.018328  0.483630   \n",
       "2               0.193780    1.385576   0.000991  0.347591   \n",
       "3               0.085024    2.119622   0.026682  0.494649   \n",
       "4               0.072096    1.422588   0.035863  0.446715   \n",
       "5               0.071712    0.672631   0.001486  0.438873   \n",
       "6               0.240204    2.128582   0.008848  0.437410   \n",
       "7               0.334928    0.876528   0.004297  0.416064   \n",
       "8               0.405621    1.279548   0.011018  0.459778   \n",
       "9               0.436588    1.215203   0.013469  0.478167   \n",
       "10              0.435461    3.406546   0.000395  0.405971   \n",
       "11              0.033459    2.892356   0.012633  0.458271   \n",
       "12              0.032218    1.877400   0.003088  0.486758   \n",
       "13              0.244415    0.498850   0.001038  0.439837   \n",
       "14              0.047495    1.560504   0.000346  0.472634   \n",
       "15              0.038415    2.422795   0.008171  0.467158   \n",
       "16              0.583624    2.714179   0.018961  0.460219   \n",
       "17              0.370908    0.437202   0.019516  0.438691   \n",
       "18              0.181640    0.995252   0.001873  0.489891   \n",
       "19                   NaN         NaN        NaN       NaN   \n",
       "\n",
       "    epiretinal_membrane_24  fibrosis_24  \n",
       "0                 0.000166     0.000000  \n",
       "1                 0.004739     0.013973  \n",
       "2                 0.080791     0.494781  \n",
       "3                 0.004095     0.010608  \n",
       "4                 0.002494     0.015225  \n",
       "5                 0.004323     0.148093  \n",
       "6                 0.008200     0.067541  \n",
       "7                 0.013142     0.095830  \n",
       "8                 0.068946     0.000799  \n",
       "9                 0.002973     0.000000  \n",
       "10                0.006854     0.015847  \n",
       "11                0.005341     0.025739  \n",
       "12                0.055291     0.000839  \n",
       "13                0.034781     0.199000  \n",
       "14                0.029530     0.056239  \n",
       "15                0.003663     0.002850  \n",
       "16                0.000632     0.001089  \n",
       "17                0.008019     0.042872  \n",
       "18                0.001002     0.000009  \n",
       "19                     NaN          NaN  \n",
       "\n",
       "[20 rows x 92 columns]"
      ]
     },
     "execution_count": 2,
     "metadata": {},
     "output_type": "execute_result"
    }
   ],
   "source": [
    "data_pd.head(20)"
   ]
  },
  {
   "cell_type": "code",
   "execution_count": 3,
   "metadata": {},
   "outputs": [
    {
     "data": {
      "text/plain": [
       "Index(['Unnamed: 0', 'patient_id', 'laterality', 'first_injection_date',\n",
       "       'Naive', 'sequence', 'Unnamed: 0.1', 'study_date_1', 'total_fluid_1',\n",
       "       'time_range_1', 'time_range_before_1', 'time_range_after_1',\n",
       "       'insertion_type_1', 'cur_va_rounded_1', 'next_va_1',\n",
       "       'intra_retinal_fluid_1', 'sub_retinal_fluid_1', 'srhm_1',\n",
       "       'fibrovascular_ped_1', 'choroid_1', 'drusen_1', 'rpe_1',\n",
       "       'epiretinal_membrane_1', 'fibrosis_1', 'study_date_3', 'total_fluid_3',\n",
       "       'time_range_3', 'time_range_before_3', 'time_range_after_3',\n",
       "       'insertion_type_3', 'cur_va_rounded_3', 'next_va_3',\n",
       "       'intra_retinal_fluid_3', 'sub_retinal_fluid_3', 'srhm_3',\n",
       "       'fibrovascular_ped_3', 'choroid_3', 'drusen_3', 'rpe_3',\n",
       "       'epiretinal_membrane_3', 'fibrosis_3', 'study_date_6', 'total_fluid_6',\n",
       "       'time_range_6', 'time_range_before_6', 'time_range_after_6',\n",
       "       'insertion_type_6', 'cur_va_rounded_6', 'next_va_6',\n",
       "       'intra_retinal_fluid_6', 'sub_retinal_fluid_6', 'srhm_6',\n",
       "       'fibrovascular_ped_6', 'choroid_6', 'drusen_6', 'rpe_6',\n",
       "       'epiretinal_membrane_6', 'fibrosis_6', 'study_date_12',\n",
       "       'total_fluid_12', 'time_range_12', 'time_range_before_12',\n",
       "       'time_range_after_12', 'insertion_type_12', 'cur_va_rounded_12',\n",
       "       'next_va_12', 'intra_retinal_fluid_12', 'sub_retinal_fluid_12',\n",
       "       'srhm_12', 'fibrovascular_ped_12', 'choroid_12', 'drusen_12', 'rpe_12',\n",
       "       'epiretinal_membrane_12', 'fibrosis_12', 'study_date_24',\n",
       "       'total_fluid_24', 'time_range_24', 'time_range_before_24',\n",
       "       'time_range_after_24', 'insertion_type_24', 'cur_va_rounded_24',\n",
       "       'next_va_24', 'intra_retinal_fluid_24', 'sub_retinal_fluid_24',\n",
       "       'srhm_24', 'fibrovascular_ped_24', 'choroid_24', 'drusen_24', 'rpe_24',\n",
       "       'epiretinal_membrane_24', 'fibrosis_24'],\n",
       "      dtype='object')"
      ]
     },
     "execution_count": 3,
     "metadata": {},
     "output_type": "execute_result"
    }
   ],
   "source": [
    "data_pd.columns"
   ]
  },
  {
   "cell_type": "code",
   "execution_count": 4,
   "metadata": {},
   "outputs": [],
   "source": [
    "##### add delta feature columns"
   ]
  },
  {
   "cell_type": "code",
   "execution_count": 5,
   "metadata": {},
   "outputs": [],
   "source": [
    "time_points = [6, 12]\n",
    "\n",
    "features = [\"intra_retinal_fluid\", \n",
    "            \"sub_retinal_fluid\", \n",
    "            \"choroid\", \n",
    "            \"drusen\", \n",
    "            \"rpe\", \n",
    "            \"fibrovascular_ped\",\n",
    "            \"epiretinal_membrane\",\n",
    "            \"srhm\", \n",
    "            \"fibrosis\"]\n",
    "\n",
    "for tp in time_points:\n",
    "    for feature in features:\n",
    "        data_pd[f\"{feature}_delta_{tp}\"] = data_pd[f\"{feature}_{tp}\"] - data_pd[f\"{feature}_{1}\"]"
   ]
  },
  {
   "cell_type": "markdown",
   "metadata": {},
   "source": [
    "#### How many sequence are treated?"
   ]
  },
  {
   "cell_type": "code",
   "execution_count": 6,
   "metadata": {
    "scrolled": true
   },
   "outputs": [
    {
     "name": "stdout",
     "output_type": "stream",
     "text": [
      "number of treated sequences 375\n"
     ]
    }
   ],
   "source": [
    "print(f\"number of treated sequences {data_pd.shape[0]}\")"
   ]
  },
  {
   "cell_type": "markdown",
   "metadata": {},
   "source": [
    "#### Insertion type distribution"
   ]
  },
  {
   "cell_type": "code",
   "execution_count": 7,
   "metadata": {},
   "outputs": [
    {
     "data": {
      "text/plain": [
       "Text(0.5, 1.0, 'month 24')"
      ]
     },
     "execution_count": 7,
     "metadata": {},
     "output_type": "execute_result"
    },
    {
     "data": {
      "image/png": "[encoded data removed]",
      "text/plain": [
       "<Figure size 720x720 with 4 Axes>"
      ]
     },
     "metadata": {
      "needs_background": "light"
     },
     "output_type": "display_data"
    }
   ],
   "source": [
    "fig, ((ax1, ax2), (ax3, ax4)) = plt.subplots(2, 2, figsize=(10,10))\n",
    "\n",
    "month_3 = data_pd.groupby(['insertion_type_3']).size().tolist()\n",
    "month_6 = data_pd.groupby(['insertion_type_6']).size().tolist()\n",
    "month_12 = data_pd.groupby(['insertion_type_12']).size().tolist()\n",
    "month_24 = data_pd.groupby(['insertion_type_24']).size().tolist()\n",
    "\n",
    "x_labels = [\"carried over\", \"interpolation\", \"match\"]\n",
    "\n",
    "ax1.bar(x_labels, month_3,align='center')\n",
    "ax1.set_title(\"month 3\")\n",
    "ax2.bar(x_labels,month_6,align='center')\n",
    "ax2.set_title(\"month 6\")\n",
    "ax3.bar(x_labels,month_12,align='center')\n",
    "ax3.set_title(\"month 12\")\n",
    "ax4.bar(x_labels,month_24,align='center')\n",
    "ax4.set_title(\"month 24\")"
   ]
  },
  {
   "cell_type": "markdown",
   "metadata": {},
   "source": [
    "### carried over time distribution"
   ]
  },
  {
   "cell_type": "code",
   "execution_count": 8,
   "metadata": {},
   "outputs": [
    {
     "data": {
      "text/plain": [
       "Text(0.5, 1.0, 'Time from carry over 6 months')"
      ]
     },
     "execution_count": 8,
     "metadata": {},
     "output_type": "execute_result"
    },
    {
     "data": {
      "image/png": "[encoded data removed]",
      "text/plain": [
       "<Figure size 1440x720 with 1 Axes>"
      ]
     },
     "metadata": {
      "needs_background": "light"
     },
     "output_type": "display_data"
    }
   ],
   "source": [
    "plt.figure(figsize=(20,10))\n",
    "month_6_carry_over = data_pd.loc[data_pd.insertion_type_6 == \"carry_over\"]\n",
    "plt.hist(month_6_carry_over.time_range_6, bins = 15)\n",
    "plt.xlabel(\"days\")\n",
    "plt.ylabel(\"number of sequences\")\n",
    "plt.title(\"Time from carry over 6 months\")"
   ]
  },
  {
   "cell_type": "code",
   "execution_count": 9,
   "metadata": {},
   "outputs": [
    {
     "data": {
      "text/plain": [
       "Text(0.5, 1.0, 'Time from carry over 12 months')"
      ]
     },
     "execution_count": 9,
     "metadata": {},
     "output_type": "execute_result"
    },
    {
     "data": {
      "image/png": "[encoded data removed]",
      "text/plain": [
       "<Figure size 1440x720 with 1 Axes>"
      ]
     },
     "metadata": {
      "needs_background": "light"
     },
     "output_type": "display_data"
    }
   ],
   "source": [
    "plt.figure(figsize=(20,10))\n",
    "month_12_carry_over = data_pd.loc[data_pd.insertion_type_12 == \"carry_over\"]\n",
    "plt.hist(month_12_carry_over.time_range_12, bins = 15)\n",
    "plt.xlabel(\"days\")\n",
    "plt.ylabel(\"number of sequences\")\n",
    "plt.title(\"Time from carry over 12 months\")\n"
   ]
  },
  {
   "cell_type": "markdown",
   "metadata": {},
   "source": [
    "### interpolation over time distribution"
   ]
  },
  {
   "cell_type": "code",
   "execution_count": 10,
   "metadata": {},
   "outputs": [
    {
     "data": {
      "text/plain": [
       "Text(0.5, 1.0, 'Time from interpolation 6 months')"
      ]
     },
     "execution_count": 10,
     "metadata": {},
     "output_type": "execute_result"
    },
    {
     "data": {
      "image/png": "[encoded data removed]",
      "text/plain": [
       "<Figure size 1440x720 with 1 Axes>"
      ]
     },
     "metadata": {
      "needs_background": "light"
     },
     "output_type": "display_data"
    }
   ],
   "source": [
    "plt.figure(figsize=(20,10))\n",
    "month_6_interpolation = data_pd.loc[data_pd.insertion_type_6 == \"interpolation\"]\n",
    "plt.hist(month_6_interpolation.time_range_6, bins = 30)\n",
    "plt.xlabel(\"days\")\n",
    "plt.ylabel(\"number of sequences\")\n",
    "plt.title(\"Time from interpolation 6 months\")"
   ]
  },
  {
   "cell_type": "code",
   "execution_count": 11,
   "metadata": {},
   "outputs": [
    {
     "data": {
      "text/plain": [
       "Text(0.5, 1.0, 'Time from interpolation 12 months')"
      ]
     },
     "execution_count": 11,
     "metadata": {},
     "output_type": "execute_result"
    },
    {
     "data": {
      "image/png": "[encoded data removed]",
      "text/plain": [
       "<Figure size 1440x720 with 1 Axes>"
      ]
     },
     "metadata": {
      "needs_background": "light"
     },
     "output_type": "display_data"
    }
   ],
   "source": [
    "plt.figure(figsize=(20,10))\n",
    "month_12_interpolation = data_pd.loc[data_pd.insertion_type_12 == \"interpolation\"]\n",
    "plt.hist(month_12_interpolation.time_range_12, bins = 30)\n",
    "plt.xlabel(\"days\")\n",
    "plt.ylabel(\"number of sequences\")\n",
    "plt.title(\"Time from interpolation 12 months\")"
   ]
  },
  {
   "cell_type": "markdown",
   "metadata": {},
   "source": [
    "#### Time until dry"
   ]
  },
  {
   "cell_type": "code",
   "execution_count": 12,
   "metadata": {},
   "outputs": [
    {
     "name": "stdout",
     "output_type": "stream",
     "text": [
      "Number of sequences starting as dry:  3\n",
      "Number of sequences dry after 3 months:  7\n",
      "Number of sequences dry after 6 months:  5\n",
      "Number of sequences dry after 12 months:  6\n",
      "Number of sequences dry after 24 months:  12\n"
     ]
    }
   ],
   "source": [
    "start_dry = data_pd.total_fluid_1 == 0\n",
    "\n",
    "print(f\"Number of sequences starting as dry: \", sum(start_dry))\n",
    "\n",
    "# exclude dry start sequences\n",
    "fluid_pd = data_pd.loc[~start_dry]\n",
    "\n",
    "print(f\"Number of sequences dry after 3 months: \", sum(fluid_pd.total_fluid_3 == 0))\n",
    "print(f\"Number of sequences dry after 6 months: \", sum(fluid_pd.total_fluid_6 == 0))\n",
    "print(f\"Number of sequences dry after 12 months: \", sum(fluid_pd.total_fluid_12 == 0))\n",
    "print(f\"Number of sequences dry after 24 months: \", sum(fluid_pd.total_fluid_24 == 0))\n",
    "\n"
   ]
  },
  {
   "cell_type": "markdown",
   "metadata": {},
   "source": [
    "#### Filter data based on time series eclusion criterias"
   ]
  },
  {
   "cell_type": "code",
   "execution_count": 13,
   "metadata": {},
   "outputs": [],
   "source": [
    "##### carry over above 2 months"
   ]
  },
  {
   "cell_type": "code",
   "execution_count": 14,
   "metadata": {},
   "outputs": [],
   "source": [
    "columns = [\"time_range_6\", \"time_range_before_6\", \"time_range_after_6\", \n",
    "           \"time_range_12\", \"time_range_before_12\", \"time_range_after_12\",\n",
    "          \"insertion_type_6\", \"insertion_type_12\"]\n",
    "\n",
    "filter_base = data_pd[columns]\n",
    "\n",
    "# 6 month bools\n",
    "interp_6 = filter_base.insertion_type_6 == \"interpolation\" \n",
    "carry_over_6 = filter_base.insertion_type_6 == \"carry_over\" \n",
    "match_6 = filter_base.insertion_type_6 == \"match\" \n",
    "\n",
    "\n",
    "interp_12 = filter_base.insertion_type_12 == \"interpolation\" \n",
    "carry_over_12 = filter_base.insertion_type_12 == \"carry_over\" \n",
    "match_12 = filter_base.insertion_type_12 == \"match\" \n",
    "\n",
    "# interpolation time filters\n",
    "interp_time_before_6 = filter_base.time_range_before_6 < 60\n",
    "interp_time_after_6 = filter_base.time_range_after_6 < 60\n",
    "\n",
    "interp_time_before_12 = filter_base.time_range_before_12 < 60\n",
    "interp_time_after_12 = filter_base.time_range_after_12 < 60\n",
    "\n",
    "# carry over time filters\n",
    "carry_over_time_after_6 = filter_base.time_range_6 < 60\n",
    "carry_over_time_after_12 = filter_base.time_range_12 < 60"
   ]
  },
  {
   "cell_type": "code",
   "execution_count": 15,
   "metadata": {},
   "outputs": [
    {
     "name": "stdout",
     "output_type": "stream",
     "text": [
      "Number of filtered sequences for 6 months are: 263\n"
     ]
    }
   ],
   "source": [
    "# interpolation 6 months\n",
    "interp_bef = np.logical_and(interp_6.values, interp_time_before_6)\n",
    "interp_aft = np.logical_and(interp_6.values, interp_time_after_6)\n",
    "\n",
    "interp_6 = np.logical_and(interp_bef, interp_aft)\n",
    "\n",
    "# carry over 6 months\n",
    "carry_over_6 = np.logical_and(carry_over_6.values, carry_over_time_after_6)\n",
    "\n",
    "insertion_6_ = np.logical_or(carry_over_6, interp_6)\n",
    "filter_6 = np.logical_or(insertion_6_, match_6)\n",
    "\n",
    "print(\"Number of filtered sequences for 6 months are:\", sum(filter_6))"
   ]
  },
  {
   "cell_type": "code",
   "execution_count": 16,
   "metadata": {
    "scrolled": true
   },
   "outputs": [
    {
     "name": "stdout",
     "output_type": "stream",
     "text": [
      "Number of filtered sequences for 12 months are: 214\n"
     ]
    }
   ],
   "source": [
    "# interpolation 12 months\n",
    "interp_bef = np.logical_and(interp_12.values, interp_time_before_12)\n",
    "interp_aft = np.logical_and(interp_12.values, interp_time_after_12)\n",
    "\n",
    "interp_12 = np.logical_and(interp_bef, interp_aft)\n",
    "\n",
    "# carry over 6 months\n",
    "carry_over_12 = np.logical_and(carry_over_12.values, carry_over_time_after_12)\n",
    "\n",
    "insertion_12_ = np.logical_or(carry_over_12, interp_12)\n",
    "filter_12 = np.logical_or(insertion_12_, match_12)\n",
    "\n",
    "print(\"Number of filtered sequences for 12 months are:\", sum(filter_12))"
   ]
  },
  {
   "cell_type": "markdown",
   "metadata": {},
   "source": [
    "#### Define VA fate groups"
   ]
  },
  {
   "cell_type": "code",
   "execution_count": 17,
   "metadata": {},
   "outputs": [],
   "source": [
    "#### Worsened v. Imporoved"
   ]
  },
  {
   "cell_type": "code",
   "execution_count": 18,
   "metadata": {},
   "outputs": [],
   "source": [
    "data_6 = data_pd.loc[filter_6]\n",
    "data_12 = data_pd.loc[filter_12]"
   ]
  },
  {
   "cell_type": "code",
   "execution_count": 19,
   "metadata": {},
   "outputs": [
    {
     "name": "stdout",
     "output_type": "stream",
     "text": [
      "six month recovery:  170\n",
      "twelwe month recovery:  123\n"
     ]
    },
    {
     "name": "stderr",
     "output_type": "stream",
     "text": [
      "/home/olle/miniconda3/envs/DeepRT/lib/python3.7/site-packages/ipykernel_launcher.py:4: SettingWithCopyWarning: \n",
      "A value is trying to be set on a copy of a slice from a DataFrame.\n",
      "Try using .loc[row_indexer,col_indexer] = value instead\n",
      "\n",
      "See the caveats in the documentation: http://pandas.pydata.org/pandas-docs/stable/user_guide/indexing.html#returning-a-view-versus-a-copy\n",
      "  after removing the cwd from sys.path.\n",
      "/home/olle/miniconda3/envs/DeepRT/lib/python3.7/site-packages/ipykernel_launcher.py:5: SettingWithCopyWarning: \n",
      "A value is trying to be set on a copy of a slice from a DataFrame.\n",
      "Try using .loc[row_indexer,col_indexer] = value instead\n",
      "\n",
      "See the caveats in the documentation: http://pandas.pydata.org/pandas-docs/stable/user_guide/indexing.html#returning-a-view-versus-a-copy\n",
      "  \"\"\"\n"
     ]
    }
   ],
   "source": [
    "va_delta_6 = data_6.cur_va_rounded_6 - data_6.cur_va_rounded_1 \n",
    "va_delta_12 = data_12.cur_va_rounded_12 - data_12.cur_va_rounded_1 \n",
    "\n",
    "data_6[\"six_month_recovery\"] = va_delta_6 <= 0\n",
    "data_12[\"twelwe_month_recovery\"] = va_delta_12 <= 0\n",
    "\n",
    "print(\"six month recovery: \", sum(data_6[\"six_month_recovery\"]))\n",
    "print(\"twelwe month recovery: \", sum(data_12[\"twelwe_month_recovery\"]))"
   ]
  },
  {
   "cell_type": "code",
   "execution_count": 20,
   "metadata": {},
   "outputs": [],
   "source": [
    "### Improved from VI to NVI"
   ]
  },
  {
   "cell_type": "code",
   "execution_count": 21,
   "metadata": {},
   "outputs": [
    {
     "name": "stdout",
     "output_type": "stream",
     "text": [
      "six month vi recovery:  36\n",
      "twelwe month vi recovery:  31\n"
     ]
    },
    {
     "name": "stderr",
     "output_type": "stream",
     "text": [
      "/home/olle/miniconda3/envs/DeepRT/lib/python3.7/site-packages/ipykernel_launcher.py:7: SettingWithCopyWarning: \n",
      "A value is trying to be set on a copy of a slice from a DataFrame.\n",
      "Try using .loc[row_indexer,col_indexer] = value instead\n",
      "\n",
      "See the caveats in the documentation: http://pandas.pydata.org/pandas-docs/stable/user_guide/indexing.html#returning-a-view-versus-a-copy\n",
      "  import sys\n",
      "/home/olle/miniconda3/envs/DeepRT/lib/python3.7/site-packages/ipykernel_launcher.py:8: SettingWithCopyWarning: \n",
      "A value is trying to be set on a copy of a slice from a DataFrame.\n",
      "Try using .loc[row_indexer,col_indexer] = value instead\n",
      "\n",
      "See the caveats in the documentation: http://pandas.pydata.org/pandas-docs/stable/user_guide/indexing.html#returning-a-view-versus-a-copy\n",
      "  \n"
     ]
    }
   ],
   "source": [
    "vi6_1 = data_6.cur_va_rounded_1 >= 0.4 \n",
    "nvi_6 = data_6.cur_va_rounded_6 < 0.4\n",
    "\n",
    "vi12_1 = data_12.cur_va_rounded_1 >= 0.4 \n",
    "nvi_12 = data_12.cur_va_rounded_12 < 0.4 \n",
    "\n",
    "data_6[\"six_month_vi_recovery\"] = np.logical_and(vi6_1.values, nvi_6.values)\n",
    "data_12[\"twelwe_month_vi_recovery\"] = np.logical_and(vi12_1.values, nvi_12.values)\n",
    "\n",
    "print(\"six month vi recovery: \", sum(data_6[\"six_month_vi_recovery\"]))\n",
    "print(\"twelwe month vi recovery: \", sum(data_12[\"twelwe_month_vi_recovery\"]))"
   ]
  },
  {
   "cell_type": "code",
   "execution_count": 22,
   "metadata": {},
   "outputs": [],
   "source": [
    "### Improved from LB to NLB"
   ]
  },
  {
   "cell_type": "code",
   "execution_count": 23,
   "metadata": {},
   "outputs": [
    {
     "name": "stdout",
     "output_type": "stream",
     "text": [
      "six month lb recoverment:  23\n",
      "twelwe month lb recoverment:  20\n"
     ]
    },
    {
     "name": "stderr",
     "output_type": "stream",
     "text": [
      "/home/olle/miniconda3/envs/DeepRT/lib/python3.7/site-packages/ipykernel_launcher.py:7: SettingWithCopyWarning: \n",
      "A value is trying to be set on a copy of a slice from a DataFrame.\n",
      "Try using .loc[row_indexer,col_indexer] = value instead\n",
      "\n",
      "See the caveats in the documentation: http://pandas.pydata.org/pandas-docs/stable/user_guide/indexing.html#returning-a-view-versus-a-copy\n",
      "  import sys\n",
      "/home/olle/miniconda3/envs/DeepRT/lib/python3.7/site-packages/ipykernel_launcher.py:8: SettingWithCopyWarning: \n",
      "A value is trying to be set on a copy of a slice from a DataFrame.\n",
      "Try using .loc[row_indexer,col_indexer] = value instead\n",
      "\n",
      "See the caveats in the documentation: http://pandas.pydata.org/pandas-docs/stable/user_guide/indexing.html#returning-a-view-versus-a-copy\n",
      "  \n"
     ]
    }
   ],
   "source": [
    "lb6_1 = data_6.cur_va_rounded_1 >= 1.0\n",
    "nlb_6 = data_6.cur_va_rounded_6 < 1.0 \n",
    "\n",
    "lb12_1 = data_12.cur_va_rounded_1 >= 1.0\n",
    "nlb_12 = data_12.cur_va_rounded_12 < 1.0 \n",
    "\n",
    "data_6[\"six_month_lb_recoverment\"] = np.logical_and(lb6_1.values, nlb_6.values)\n",
    "data_12[\"twelwe_month_lb_recoverment\"] = np.logical_and(lb12_1.values, nlb_12.values)\n",
    "\n",
    "print(\"six month lb recoverment: \", sum(data_6[\"six_month_lb_recoverment\"]))\n",
    "print(\"twelwe month lb recoverment: \", sum(data_12[\"twelwe_month_lb_recoverment\"]))\n"
   ]
  },
  {
   "cell_type": "markdown",
   "metadata": {},
   "source": [
    "### VA outcome distribution plotting"
   ]
  },
  {
   "cell_type": "code",
   "execution_count": 24,
   "metadata": {},
   "outputs": [],
   "source": [
    "import seaborn as sns\n",
    "import matplotlib.pyplot as plt\n",
    "import pandas as pd\n",
    "from sklearn import preprocessing\n",
    "sns.set_theme(style=\"whitegrid\")"
   ]
  },
  {
   "cell_type": "code",
   "execution_count": 25,
   "metadata": {},
   "outputs": [
    {
     "name": "stderr",
     "output_type": "stream",
     "text": [
      "/home/olle/miniconda3/envs/DeepRT/lib/python3.7/site-packages/ipykernel_launcher.py:9: SettingWithCopyWarning: \n",
      "A value is trying to be set on a copy of a slice from a DataFrame.\n",
      "Try using .loc[row_indexer,col_indexer] = value instead\n",
      "\n",
      "See the caveats in the documentation: http://pandas.pydata.org/pandas-docs/stable/user_guide/indexing.html#returning-a-view-versus-a-copy\n",
      "  if __name__ == '__main__':\n",
      "/home/olle/miniconda3/envs/DeepRT/lib/python3.7/site-packages/ipykernel_launcher.py:9: SettingWithCopyWarning: \n",
      "A value is trying to be set on a copy of a slice from a DataFrame.\n",
      "Try using .loc[row_indexer,col_indexer] = value instead\n",
      "\n",
      "See the caveats in the documentation: http://pandas.pydata.org/pandas-docs/stable/user_guide/indexing.html#returning-a-view-versus-a-copy\n",
      "  if __name__ == '__main__':\n",
      "/home/olle/miniconda3/envs/DeepRT/lib/python3.7/site-packages/ipykernel_launcher.py:9: SettingWithCopyWarning: \n",
      "A value is trying to be set on a copy of a slice from a DataFrame.\n",
      "Try using .loc[row_indexer,col_indexer] = value instead\n",
      "\n",
      "See the caveats in the documentation: http://pandas.pydata.org/pandas-docs/stable/user_guide/indexing.html#returning-a-view-versus-a-copy\n",
      "  if __name__ == '__main__':\n",
      "/home/olle/miniconda3/envs/DeepRT/lib/python3.7/site-packages/ipykernel_launcher.py:9: SettingWithCopyWarning: \n",
      "A value is trying to be set on a copy of a slice from a DataFrame.\n",
      "Try using .loc[row_indexer,col_indexer] = value instead\n",
      "\n",
      "See the caveats in the documentation: http://pandas.pydata.org/pandas-docs/stable/user_guide/indexing.html#returning-a-view-versus-a-copy\n",
      "  if __name__ == '__main__':\n",
      "/home/olle/miniconda3/envs/DeepRT/lib/python3.7/site-packages/ipykernel_launcher.py:9: SettingWithCopyWarning: \n",
      "A value is trying to be set on a copy of a slice from a DataFrame.\n",
      "Try using .loc[row_indexer,col_indexer] = value instead\n",
      "\n",
      "See the caveats in the documentation: http://pandas.pydata.org/pandas-docs/stable/user_guide/indexing.html#returning-a-view-versus-a-copy\n",
      "  if __name__ == '__main__':\n",
      "/home/olle/miniconda3/envs/DeepRT/lib/python3.7/site-packages/ipykernel_launcher.py:9: SettingWithCopyWarning: \n",
      "A value is trying to be set on a copy of a slice from a DataFrame.\n",
      "Try using .loc[row_indexer,col_indexer] = value instead\n",
      "\n",
      "See the caveats in the documentation: http://pandas.pydata.org/pandas-docs/stable/user_guide/indexing.html#returning-a-view-versus-a-copy\n",
      "  if __name__ == '__main__':\n"
     ]
    },
    {
     "data": {
      "text/plain": [
       "Text(0, 0.5, 'Normalized feature distribution')"
      ]
     },
     "execution_count": 25,
     "metadata": {},
     "output_type": "execute_result"
    },
    {
     "data": {
      "image/png": "[encoded data removed]",
      "text/plain": [
       "<Figure size 1440x504 with 1 Axes>"
      ]
     },
     "metadata": {},
     "output_type": "display_data"
    }
   ],
   "source": [
    "#### six month outcome\n",
    "value_columns = [\"intra_retinal_fluid_6\", \"sub_retinal_fluid_6\", \"fibrosis_6\", \n",
    "          \"fibrovascular_ped_6\", \"rpe_6\", \"epiretinal_membrane_6\"]\n",
    "\n",
    "for column in value_columns:\n",
    "    col_values = data_6[column].values\n",
    "    min_max_scaler = preprocessing.MinMaxScaler()\n",
    "    x_scaled = min_max_scaler.fit_transform(col_values.reshape(-1, 1))\n",
    "    data_6[column + \"_scaled\"] = x_scaled\n",
    "    \n",
    "    \n",
    "value_columns_scaled = [\"intra_retinal_fluid_6_scaled\", \n",
    "                        \"sub_retinal_fluid_6_scaled\", \"fibrosis_6_scaled\", \n",
    "                        \"fibrovascular_ped_6_scaled\", \"rpe_6_scaled\", \n",
    "                        \"epiretinal_membrane_6_scaled\"]\n",
    "\n",
    "\n",
    "data_6_plotting = pd.melt(data_6, id_vars=[\"six_month_recovery\"], value_vars=value_columns_scaled)\n",
    "\n",
    "data_6_plotting = data_6_plotting.loc[data_6_plotting.value.values != 1.000]\n",
    "\n",
    "plt.figure(figsize=(20,7))\n",
    "ax = sns.boxplot(x=\"variable\", y=\"value\", hue=\"six_month_recovery\",\n",
    "                 data=data_6_plotting, linewidth=2.5)\n",
    "\n",
    "plt.xlabel(\"Feature\")\n",
    "plt.ylabel(\"Normalized feature distribution\")"
   ]
  },
  {
   "cell_type": "code",
   "execution_count": 26,
   "metadata": {},
   "outputs": [
    {
     "name": "stderr",
     "output_type": "stream",
     "text": [
      "/home/olle/miniconda3/envs/DeepRT/lib/python3.7/site-packages/ipykernel_launcher.py:9: SettingWithCopyWarning: \n",
      "A value is trying to be set on a copy of a slice from a DataFrame.\n",
      "Try using .loc[row_indexer,col_indexer] = value instead\n",
      "\n",
      "See the caveats in the documentation: http://pandas.pydata.org/pandas-docs/stable/user_guide/indexing.html#returning-a-view-versus-a-copy\n",
      "  if __name__ == '__main__':\n",
      "/home/olle/miniconda3/envs/DeepRT/lib/python3.7/site-packages/ipykernel_launcher.py:9: SettingWithCopyWarning: \n",
      "A value is trying to be set on a copy of a slice from a DataFrame.\n",
      "Try using .loc[row_indexer,col_indexer] = value instead\n",
      "\n",
      "See the caveats in the documentation: http://pandas.pydata.org/pandas-docs/stable/user_guide/indexing.html#returning-a-view-versus-a-copy\n",
      "  if __name__ == '__main__':\n",
      "/home/olle/miniconda3/envs/DeepRT/lib/python3.7/site-packages/ipykernel_launcher.py:9: SettingWithCopyWarning: \n",
      "A value is trying to be set on a copy of a slice from a DataFrame.\n",
      "Try using .loc[row_indexer,col_indexer] = value instead\n",
      "\n",
      "See the caveats in the documentation: http://pandas.pydata.org/pandas-docs/stable/user_guide/indexing.html#returning-a-view-versus-a-copy\n",
      "  if __name__ == '__main__':\n",
      "/home/olle/miniconda3/envs/DeepRT/lib/python3.7/site-packages/ipykernel_launcher.py:9: SettingWithCopyWarning: \n",
      "A value is trying to be set on a copy of a slice from a DataFrame.\n",
      "Try using .loc[row_indexer,col_indexer] = value instead\n",
      "\n",
      "See the caveats in the documentation: http://pandas.pydata.org/pandas-docs/stable/user_guide/indexing.html#returning-a-view-versus-a-copy\n",
      "  if __name__ == '__main__':\n",
      "/home/olle/miniconda3/envs/DeepRT/lib/python3.7/site-packages/ipykernel_launcher.py:9: SettingWithCopyWarning: \n",
      "A value is trying to be set on a copy of a slice from a DataFrame.\n",
      "Try using .loc[row_indexer,col_indexer] = value instead\n",
      "\n",
      "See the caveats in the documentation: http://pandas.pydata.org/pandas-docs/stable/user_guide/indexing.html#returning-a-view-versus-a-copy\n",
      "  if __name__ == '__main__':\n",
      "/home/olle/miniconda3/envs/DeepRT/lib/python3.7/site-packages/ipykernel_launcher.py:9: SettingWithCopyWarning: \n",
      "A value is trying to be set on a copy of a slice from a DataFrame.\n",
      "Try using .loc[row_indexer,col_indexer] = value instead\n",
      "\n",
      "See the caveats in the documentation: http://pandas.pydata.org/pandas-docs/stable/user_guide/indexing.html#returning-a-view-versus-a-copy\n",
      "  if __name__ == '__main__':\n"
     ]
    },
    {
     "data": {
      "image/png": "[encoded data removed]",
      "text/plain": [
       "<Figure size 1440x504 with 1 Axes>"
      ]
     },
     "metadata": {},
     "output_type": "display_data"
    }
   ],
   "source": [
    "#### 12 month outcome\n",
    "value_columns = [\"intra_retinal_fluid_12\", \"sub_retinal_fluid_12\", \"fibrosis_12\", \n",
    "          \"fibrovascular_ped_12\", \"rpe_12\", \"epiretinal_membrane_12\"]\n",
    "\n",
    "for column in value_columns:\n",
    "    col_values = data_12[column].values\n",
    "    min_max_scaler = preprocessing.MinMaxScaler()\n",
    "    x_scaled = min_max_scaler.fit_transform(col_values.reshape(-1, 1))\n",
    "    data_12[column + \"_scaled\"] = x_scaled\n",
    "    \n",
    "    \n",
    "value_columns_scaled = [\"intra_retinal_fluid_12_scaled\", \n",
    "                        \"sub_retinal_fluid_12_scaled\", \"fibrosis_12_scaled\", \n",
    "                        \"fibrovascular_ped_12_scaled\", \"rpe_12_scaled\", \n",
    "                        \"epiretinal_membrane_12_scaled\"]\n",
    "\n",
    "data_12_plotting = pd.melt(data_12, id_vars=[\"twelwe_month_recovery\"], value_vars=value_columns_scaled)\n",
    "\n",
    "plt.figure(figsize=(20,7))\n",
    "ax = sns.boxplot(x=\"variable\", y=\"value\", hue=\"twelwe_month_recovery\",\n",
    "                 data=data_12_plotting, linewidth=2.5)"
   ]
  },
  {
   "cell_type": "code",
   "execution_count": 27,
   "metadata": {},
   "outputs": [
    {
     "data": {
      "text/plain": [
       "array(['Unnamed: 0', 'patient_id', 'laterality', 'first_injection_date',\n",
       "       'Naive', 'sequence', 'Unnamed: 0.1', 'study_date_1',\n",
       "       'total_fluid_1', 'time_range_1', 'time_range_before_1',\n",
       "       'time_range_after_1', 'insertion_type_1', 'cur_va_rounded_1',\n",
       "       'next_va_1', 'intra_retinal_fluid_1', 'sub_retinal_fluid_1',\n",
       "       'srhm_1', 'fibrovascular_ped_1', 'choroid_1', 'drusen_1', 'rpe_1',\n",
       "       'epiretinal_membrane_1', 'fibrosis_1', 'study_date_3',\n",
       "       'total_fluid_3', 'time_range_3', 'time_range_before_3',\n",
       "       'time_range_after_3', 'insertion_type_3', 'cur_va_rounded_3',\n",
       "       'next_va_3', 'intra_retinal_fluid_3', 'sub_retinal_fluid_3',\n",
       "       'srhm_3', 'fibrovascular_ped_3', 'choroid_3', 'drusen_3', 'rpe_3',\n",
       "       'epiretinal_membrane_3', 'fibrosis_3', 'study_date_6',\n",
       "       'total_fluid_6', 'time_range_6', 'time_range_before_6',\n",
       "       'time_range_after_6', 'insertion_type_6', 'cur_va_rounded_6',\n",
       "       'next_va_6', 'intra_retinal_fluid_6', 'sub_retinal_fluid_6',\n",
       "       'srhm_6', 'fibrovascular_ped_6', 'choroid_6', 'drusen_6', 'rpe_6',\n",
       "       'epiretinal_membrane_6', 'fibrosis_6', 'study_date_12',\n",
       "       'total_fluid_12', 'time_range_12', 'time_range_before_12',\n",
       "       'time_range_after_12', 'insertion_type_12', 'cur_va_rounded_12',\n",
       "       'next_va_12', 'intra_retinal_fluid_12', 'sub_retinal_fluid_12',\n",
       "       'srhm_12', 'fibrovascular_ped_12', 'choroid_12', 'drusen_12',\n",
       "       'rpe_12', 'epiretinal_membrane_12', 'fibrosis_12', 'study_date_24',\n",
       "       'total_fluid_24', 'time_range_24', 'time_range_before_24',\n",
       "       'time_range_after_24', 'insertion_type_24', 'cur_va_rounded_24',\n",
       "       'next_va_24', 'intra_retinal_fluid_24', 'sub_retinal_fluid_24',\n",
       "       'srhm_24', 'fibrovascular_ped_24', 'choroid_24', 'drusen_24',\n",
       "       'rpe_24', 'epiretinal_membrane_24', 'fibrosis_24',\n",
       "       'intra_retinal_fluid_delta_6', 'sub_retinal_fluid_delta_6',\n",
       "       'choroid_delta_6', 'drusen_delta_6', 'rpe_delta_6',\n",
       "       'fibrovascular_ped_delta_6', 'epiretinal_membrane_delta_6',\n",
       "       'srhm_delta_6', 'fibrosis_delta_6', 'intra_retinal_fluid_delta_12',\n",
       "       'sub_retinal_fluid_delta_12', 'choroid_delta_12',\n",
       "       'drusen_delta_12', 'rpe_delta_12', 'fibrovascular_ped_delta_12',\n",
       "       'epiretinal_membrane_delta_12', 'srhm_delta_12',\n",
       "       'fibrosis_delta_12', 'twelwe_month_recovery',\n",
       "       'twelwe_month_vi_recovery', 'twelwe_month_lb_recoverment',\n",
       "       'intra_retinal_fluid_12_scaled', 'sub_retinal_fluid_12_scaled',\n",
       "       'fibrosis_12_scaled', 'fibrovascular_ped_12_scaled',\n",
       "       'rpe_12_scaled', 'epiretinal_membrane_12_scaled'], dtype=object)"
      ]
     },
     "execution_count": 27,
     "metadata": {},
     "output_type": "execute_result"
    }
   ],
   "source": [
    "data_12.columns.values"
   ]
  },
  {
   "cell_type": "markdown",
   "metadata": {},
   "source": [
    "#### Plotting delta values"
   ]
  },
  {
   "cell_type": "code",
   "execution_count": 28,
   "metadata": {},
   "outputs": [
    {
     "name": "stderr",
     "output_type": "stream",
     "text": [
      "/home/olle/miniconda3/envs/DeepRT/lib/python3.7/site-packages/ipykernel_launcher.py:9: SettingWithCopyWarning: \n",
      "A value is trying to be set on a copy of a slice from a DataFrame.\n",
      "Try using .loc[row_indexer,col_indexer] = value instead\n",
      "\n",
      "See the caveats in the documentation: http://pandas.pydata.org/pandas-docs/stable/user_guide/indexing.html#returning-a-view-versus-a-copy\n",
      "  if __name__ == '__main__':\n",
      "/home/olle/miniconda3/envs/DeepRT/lib/python3.7/site-packages/ipykernel_launcher.py:9: SettingWithCopyWarning: \n",
      "A value is trying to be set on a copy of a slice from a DataFrame.\n",
      "Try using .loc[row_indexer,col_indexer] = value instead\n",
      "\n",
      "See the caveats in the documentation: http://pandas.pydata.org/pandas-docs/stable/user_guide/indexing.html#returning-a-view-versus-a-copy\n",
      "  if __name__ == '__main__':\n",
      "/home/olle/miniconda3/envs/DeepRT/lib/python3.7/site-packages/ipykernel_launcher.py:9: SettingWithCopyWarning: \n",
      "A value is trying to be set on a copy of a slice from a DataFrame.\n",
      "Try using .loc[row_indexer,col_indexer] = value instead\n",
      "\n",
      "See the caveats in the documentation: http://pandas.pydata.org/pandas-docs/stable/user_guide/indexing.html#returning-a-view-versus-a-copy\n",
      "  if __name__ == '__main__':\n",
      "/home/olle/miniconda3/envs/DeepRT/lib/python3.7/site-packages/ipykernel_launcher.py:9: SettingWithCopyWarning: \n",
      "A value is trying to be set on a copy of a slice from a DataFrame.\n",
      "Try using .loc[row_indexer,col_indexer] = value instead\n",
      "\n",
      "See the caveats in the documentation: http://pandas.pydata.org/pandas-docs/stable/user_guide/indexing.html#returning-a-view-versus-a-copy\n",
      "  if __name__ == '__main__':\n",
      "/home/olle/miniconda3/envs/DeepRT/lib/python3.7/site-packages/ipykernel_launcher.py:9: SettingWithCopyWarning: \n",
      "A value is trying to be set on a copy of a slice from a DataFrame.\n",
      "Try using .loc[row_indexer,col_indexer] = value instead\n",
      "\n",
      "See the caveats in the documentation: http://pandas.pydata.org/pandas-docs/stable/user_guide/indexing.html#returning-a-view-versus-a-copy\n",
      "  if __name__ == '__main__':\n",
      "/home/olle/miniconda3/envs/DeepRT/lib/python3.7/site-packages/ipykernel_launcher.py:9: SettingWithCopyWarning: \n",
      "A value is trying to be set on a copy of a slice from a DataFrame.\n",
      "Try using .loc[row_indexer,col_indexer] = value instead\n",
      "\n",
      "See the caveats in the documentation: http://pandas.pydata.org/pandas-docs/stable/user_guide/indexing.html#returning-a-view-versus-a-copy\n",
      "  if __name__ == '__main__':\n"
     ]
    },
    {
     "data": {
      "image/png": "[encoded data removed]",
      "text/plain": [
       "<Figure size 1440x504 with 1 Axes>"
      ]
     },
     "metadata": {},
     "output_type": "display_data"
    }
   ],
   "source": [
    "#### 12 month outcome\n",
    "value_columns = [\"intra_retinal_fluid_delta_6\", \"sub_retinal_fluid_delta_6\", \"fibrosis_delta_6\", \n",
    "          \"fibrovascular_ped_delta_6\", \"rpe_delta_6\", \"epiretinal_membrane_delta_6\"]\n",
    "\n",
    "for column in value_columns:\n",
    "    col_values = data_6[column].values\n",
    "    min_max_scaler = preprocessing.MinMaxScaler()\n",
    "    x_scaled = min_max_scaler.fit_transform(col_values.reshape(-1, 1))\n",
    "    data_6[column + \"_scaled\"] = x_scaled\n",
    "    \n",
    "    \n",
    "value_columns_scaled = [\"intra_retinal_fluid_delta_6_scaled\", \"sub_retinal_fluid_delta_6_scaled\", \n",
    "                        \"fibrosis_delta_6_scaled\", \"fibrovascular_ped_delta_6_scaled\", \n",
    "                        \"rpe_delta_6_scaled\", \"epiretinal_membrane_delta_6_scaled\"]\n",
    "\n",
    "data_6_plotting = pd.melt(data_6, id_vars=[\"six_month_recovery\"], value_vars=value_columns)\n",
    "\n",
    "plt.figure(figsize=(20,7))\n",
    "ax = sns.boxplot(x=\"variable\", y=\"value\", hue=\"six_month_recovery\",\n",
    "                 data=data_6_plotting, linewidth=2.5)"
   ]
  },
  {
   "cell_type": "code",
   "execution_count": 29,
   "metadata": {},
   "outputs": [
    {
     "name": "stderr",
     "output_type": "stream",
     "text": [
      "/home/olle/miniconda3/envs/DeepRT/lib/python3.7/site-packages/ipykernel_launcher.py:9: SettingWithCopyWarning: \n",
      "A value is trying to be set on a copy of a slice from a DataFrame.\n",
      "Try using .loc[row_indexer,col_indexer] = value instead\n",
      "\n",
      "See the caveats in the documentation: http://pandas.pydata.org/pandas-docs/stable/user_guide/indexing.html#returning-a-view-versus-a-copy\n",
      "  if __name__ == '__main__':\n",
      "/home/olle/miniconda3/envs/DeepRT/lib/python3.7/site-packages/ipykernel_launcher.py:9: SettingWithCopyWarning: \n",
      "A value is trying to be set on a copy of a slice from a DataFrame.\n",
      "Try using .loc[row_indexer,col_indexer] = value instead\n",
      "\n",
      "See the caveats in the documentation: http://pandas.pydata.org/pandas-docs/stable/user_guide/indexing.html#returning-a-view-versus-a-copy\n",
      "  if __name__ == '__main__':\n",
      "/home/olle/miniconda3/envs/DeepRT/lib/python3.7/site-packages/ipykernel_launcher.py:9: SettingWithCopyWarning: \n",
      "A value is trying to be set on a copy of a slice from a DataFrame.\n",
      "Try using .loc[row_indexer,col_indexer] = value instead\n",
      "\n",
      "See the caveats in the documentation: http://pandas.pydata.org/pandas-docs/stable/user_guide/indexing.html#returning-a-view-versus-a-copy\n",
      "  if __name__ == '__main__':\n",
      "/home/olle/miniconda3/envs/DeepRT/lib/python3.7/site-packages/ipykernel_launcher.py:9: SettingWithCopyWarning: \n",
      "A value is trying to be set on a copy of a slice from a DataFrame.\n",
      "Try using .loc[row_indexer,col_indexer] = value instead\n",
      "\n",
      "See the caveats in the documentation: http://pandas.pydata.org/pandas-docs/stable/user_guide/indexing.html#returning-a-view-versus-a-copy\n",
      "  if __name__ == '__main__':\n",
      "/home/olle/miniconda3/envs/DeepRT/lib/python3.7/site-packages/ipykernel_launcher.py:9: SettingWithCopyWarning: \n",
      "A value is trying to be set on a copy of a slice from a DataFrame.\n",
      "Try using .loc[row_indexer,col_indexer] = value instead\n",
      "\n",
      "See the caveats in the documentation: http://pandas.pydata.org/pandas-docs/stable/user_guide/indexing.html#returning-a-view-versus-a-copy\n",
      "  if __name__ == '__main__':\n",
      "/home/olle/miniconda3/envs/DeepRT/lib/python3.7/site-packages/ipykernel_launcher.py:9: SettingWithCopyWarning: \n",
      "A value is trying to be set on a copy of a slice from a DataFrame.\n",
      "Try using .loc[row_indexer,col_indexer] = value instead\n",
      "\n",
      "See the caveats in the documentation: http://pandas.pydata.org/pandas-docs/stable/user_guide/indexing.html#returning-a-view-versus-a-copy\n",
      "  if __name__ == '__main__':\n"
     ]
    },
    {
     "data": {
      "image/png": "[encoded data removed]",
      "text/plain": [
       "<Figure size 1440x504 with 1 Axes>"
      ]
     },
     "metadata": {},
     "output_type": "display_data"
    }
   ],
   "source": [
    "#### 12 month outcome\n",
    "value_columns = [\"intra_retinal_fluid_delta_12\", \"sub_retinal_fluid_delta_12\", \"fibrosis_delta_12\", \n",
    "          \"fibrovascular_ped_delta_12\", \"rpe_delta_12\", \"epiretinal_membrane_delta_12\"]\n",
    "\n",
    "for column in value_columns:\n",
    "    col_values = data_12[column].values\n",
    "    min_max_scaler = preprocessing.MinMaxScaler()\n",
    "    x_scaled = min_max_scaler.fit_transform(col_values.reshape(-1, 1))\n",
    "    data_12[column + \"_scaled\"] = x_scaled\n",
    "    \n",
    "    \n",
    "value_columns_scaled = [\"intra_retinal_fluid_delta_12_scaled\", \"sub_retinal_fluid_delta_12_scaled\", \n",
    "                        \"fibrosis_delta_12_scaled\", \"fibrovascular_ped_delta_12_scaled\", \n",
    "                        \"rpe_delta_12_scaled\", \"epiretinal_membrane_delta_12_scaled\"]\n",
    "\n",
    "data_12_plotting = pd.melt(data_12, id_vars=[\"twelwe_month_recovery\"], value_vars=value_columns)\n",
    "\n",
    "plt.figure(figsize=(20,7))\n",
    "ax = sns.boxplot(x=\"variable\", y=\"value\", hue=\"twelwe_month_recovery\",\n",
    "                 data=data_12_plotting, linewidth=2.5)"
   ]
  },
  {
   "cell_type": "code",
   "execution_count": null,
   "metadata": {},
   "outputs": [],
   "source": []
  }
 ],
 "metadata": {
  "kernelspec": {
   "display_name": "Python [conda env:DeepRT]",
   "language": "python",
   "name": "conda-env-DeepRT-py"
  },
  "language_info": {
   "codemirror_mode": {
    "name": "ipython",
    "version": 3
   },
   "file_extension": ".py",
   "mimetype": "text/x-python",
   "name": "python",
   "nbconvert_exporter": "python",
   "pygments_lexer": "ipython3",
   "version": "3.7.6"
  }
 },
 "nbformat": 4,
 "nbformat_minor": 2
}
